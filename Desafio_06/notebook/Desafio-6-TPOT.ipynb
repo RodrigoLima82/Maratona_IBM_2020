{
 "cells": [
  {
   "cell_type": "markdown",
   "metadata": {},
   "source": [
    "# MARATONA BEHIND THE CODE 2020\n",
    "\n",
    "## DESAFIO 6: LIT\n",
    "\n",
    "## Testes com modelo Auto-sklearn\n",
    "- Autor: Rodrigo Lima\n",
    "- LinkedIN: https://www.linkedin.com/in/rodrigolima82/\n",
    "\n",
    "\n",
    "![title](virtual_assistance.png)"
   ]
  },
  {
   "cell_type": "markdown",
   "metadata": {},
   "source": [
    "# Parte 01. Importando as bibliotecas"
   ]
  },
  {
   "cell_type": "code",
   "execution_count": 17,
   "metadata": {},
   "outputs": [],
   "source": [
    "import numpy as np\n",
    "import pandas as pd\n",
    "from sklearn.ensemble import RandomForestClassifier\n",
    "from sklearn.linear_model import LogisticRegression\n",
    "from sklearn.model_selection import train_test_split\n",
    "from sklearn.pipeline import make_pipeline, make_union\n",
    "from sklearn.preprocessing import PolynomialFeatures\n",
    "from tpot.builtins import StackingEstimator\n",
    "from tpot.export_utils import set_param_recursive\n",
    "from tpot import TPOTClassifier\n",
    "\n",
    "from sklearn.metrics import accuracy_score, confusion_matrix, classification_report, precision_score\n",
    "from sklearn.metrics import roc_auc_score, recall_score\n",
    "\n",
    "import seaborn as sns\n",
    "import matplotlib.pylab as plt\n",
    "%matplotlib inline"
   ]
  },
  {
   "cell_type": "markdown",
   "metadata": {},
   "source": [
    "# Parte 02. Carregando o Dataset"
   ]
  },
  {
   "cell_type": "code",
   "execution_count": 5,
   "metadata": {},
   "outputs": [
    {
     "name": "stdout",
     "output_type": "stream",
     "text": [
      "(15857, 15)\n"
     ]
    },
    {
     "data": {
      "text/html": [
       "<div>\n",
       "<style scoped>\n",
       "    .dataframe tbody tr th:only-of-type {\n",
       "        vertical-align: middle;\n",
       "    }\n",
       "\n",
       "    .dataframe tbody tr th {\n",
       "        vertical-align: top;\n",
       "    }\n",
       "\n",
       "    .dataframe thead th {\n",
       "        text-align: right;\n",
       "    }\n",
       "</style>\n",
       "<table border=\"1\" class=\"dataframe\">\n",
       "  <thead>\n",
       "    <tr style=\"text-align: right;\">\n",
       "      <th></th>\n",
       "      <th>id</th>\n",
       "      <th>graduacao</th>\n",
       "      <th>universidade</th>\n",
       "      <th>profissao</th>\n",
       "      <th>organizacao</th>\n",
       "      <th>pretende_fazer_cursos_lit</th>\n",
       "      <th>interesse_mba_lit</th>\n",
       "      <th>importante_ter_certificado</th>\n",
       "      <th>horas_semanais_estudo</th>\n",
       "      <th>como_conheceu_lit</th>\n",
       "      <th>total_modulos</th>\n",
       "      <th>modulos_iniciados</th>\n",
       "      <th>modulos_finalizados</th>\n",
       "      <th>certificados</th>\n",
       "      <th>categoria</th>\n",
       "    </tr>\n",
       "  </thead>\n",
       "  <tbody>\n",
       "    <tr>\n",
       "      <th>0</th>\n",
       "      <td>915132186.0</td>\n",
       "      <td>Especialização</td>\n",
       "      <td>UNIP</td>\n",
       "      <td>Analista Senior</td>\n",
       "      <td>Eletrodomesticos</td>\n",
       "      <td>1.0</td>\n",
       "      <td>1.0</td>\n",
       "      <td>1.0</td>\n",
       "      <td>6.0</td>\n",
       "      <td>Google</td>\n",
       "      <td>28.0</td>\n",
       "      <td>5.0</td>\n",
       "      <td>4.0</td>\n",
       "      <td>0.0</td>\n",
       "      <td>perfil6</td>\n",
       "    </tr>\n",
       "    <tr>\n",
       "      <th>1</th>\n",
       "      <td>183037660.0</td>\n",
       "      <td>MBA</td>\n",
       "      <td>NaN</td>\n",
       "      <td>Supervisor</td>\n",
       "      <td>e-commerce</td>\n",
       "      <td>0.0</td>\n",
       "      <td>0.0</td>\n",
       "      <td>1.0</td>\n",
       "      <td>6.0</td>\n",
       "      <td>NaN</td>\n",
       "      <td>66.0</td>\n",
       "      <td>36.0</td>\n",
       "      <td>34.0</td>\n",
       "      <td>0.0</td>\n",
       "      <td>perfil2</td>\n",
       "    </tr>\n",
       "    <tr>\n",
       "      <th>2</th>\n",
       "      <td>681614019.0</td>\n",
       "      <td>Bacharelado</td>\n",
       "      <td>UNICAMP</td>\n",
       "      <td>Outros</td>\n",
       "      <td>e-commerce</td>\n",
       "      <td>1.0</td>\n",
       "      <td>1.0</td>\n",
       "      <td>1.0</td>\n",
       "      <td>10.0</td>\n",
       "      <td>Saint Paul</td>\n",
       "      <td>27.0</td>\n",
       "      <td>27.0</td>\n",
       "      <td>27.0</td>\n",
       "      <td>0.0</td>\n",
       "      <td>perfil2</td>\n",
       "    </tr>\n",
       "    <tr>\n",
       "      <th>3</th>\n",
       "      <td>398921329.0</td>\n",
       "      <td>SEM FORMAÇÃO</td>\n",
       "      <td>UFRN</td>\n",
       "      <td>Outros</td>\n",
       "      <td>Eletroeletronicos</td>\n",
       "      <td>NaN</td>\n",
       "      <td>1.0</td>\n",
       "      <td>1.0</td>\n",
       "      <td>5.0</td>\n",
       "      <td>Instagram</td>\n",
       "      <td>29.0</td>\n",
       "      <td>10.0</td>\n",
       "      <td>6.0</td>\n",
       "      <td>0.0</td>\n",
       "      <td>perfil5</td>\n",
       "    </tr>\n",
       "    <tr>\n",
       "      <th>4</th>\n",
       "      <td>522842284.0</td>\n",
       "      <td>Tecnólogo</td>\n",
       "      <td>INSPER INSTITUTO DE ENSINO E PESQUISA</td>\n",
       "      <td>SEM EXPERIÊNCIA</td>\n",
       "      <td>Eletrodomesticos</td>\n",
       "      <td>NaN</td>\n",
       "      <td>0.0</td>\n",
       "      <td>1.0</td>\n",
       "      <td>7.0</td>\n",
       "      <td>Google</td>\n",
       "      <td>67.0</td>\n",
       "      <td>49.0</td>\n",
       "      <td>44.0</td>\n",
       "      <td>0.0</td>\n",
       "      <td>perfil2</td>\n",
       "    </tr>\n",
       "  </tbody>\n",
       "</table>\n",
       "</div>"
      ],
      "text/plain": [
       "            id       graduacao                           universidade  \\\n",
       "0  915132186.0  Especialização                                   UNIP   \n",
       "1  183037660.0             MBA                                    NaN   \n",
       "2  681614019.0     Bacharelado                                UNICAMP   \n",
       "3  398921329.0    SEM FORMAÇÃO                                   UFRN   \n",
       "4  522842284.0       Tecnólogo  INSPER INSTITUTO DE ENSINO E PESQUISA   \n",
       "\n",
       "         profissao        organizacao  pretende_fazer_cursos_lit  \\\n",
       "0  Analista Senior   Eletrodomesticos                        1.0   \n",
       "1       Supervisor         e-commerce                        0.0   \n",
       "2           Outros         e-commerce                        1.0   \n",
       "3           Outros  Eletroeletronicos                        NaN   \n",
       "4  SEM EXPERIÊNCIA   Eletrodomesticos                        NaN   \n",
       "\n",
       "   interesse_mba_lit  importante_ter_certificado  horas_semanais_estudo  \\\n",
       "0                1.0                         1.0                    6.0   \n",
       "1                0.0                         1.0                    6.0   \n",
       "2                1.0                         1.0                   10.0   \n",
       "3                1.0                         1.0                    5.0   \n",
       "4                0.0                         1.0                    7.0   \n",
       "\n",
       "  como_conheceu_lit  total_modulos  modulos_iniciados  modulos_finalizados  \\\n",
       "0            Google           28.0                5.0                  4.0   \n",
       "1               NaN           66.0               36.0                 34.0   \n",
       "2        Saint Paul           27.0               27.0                 27.0   \n",
       "3         Instagram           29.0               10.0                  6.0   \n",
       "4            Google           67.0               49.0                 44.0   \n",
       "\n",
       "   certificados categoria  \n",
       "0           0.0   perfil6  \n",
       "1           0.0   perfil2  \n",
       "2           0.0   perfil2  \n",
       "3           0.0   perfil5  \n",
       "4           0.0   perfil2  "
      ]
     },
     "execution_count": 5,
     "metadata": {},
     "output_type": "execute_result"
    }
   ],
   "source": [
    "# Carregando o dataset da competição\n",
    "dados = pd.read_csv('../data/training_dataset.csv')\n",
    "\n",
    "# Visualizando os primeiros registros\n",
    "print(dados.shape)\n",
    "dados.head()"
   ]
  },
  {
   "cell_type": "markdown",
   "metadata": {},
   "source": [
    "# Parte 03. Preparando os Dados"
   ]
  },
  {
   "cell_type": "code",
   "execution_count": 6,
   "metadata": {},
   "outputs": [],
   "source": [
    "# Remove as variáveis de ID e unique\n",
    "dados.drop(['id','importante_ter_certificado'], axis = 1, inplace = True)\n",
    "\n",
    "# Remove todos os registros que tem algum dado vazio de algumas colunas\n",
    "dados.dropna(axis='index', how='any', subset=['pretende_fazer_cursos_lit',\n",
    "                                              'interesse_mba_lit',\n",
    "                                              'certificados'], inplace=True)\n",
    "\n",
    "# Funcao para preencher os dados missing de algumas colunas\n",
    "def preenche_missing(df):\n",
    "    df['graduacao']             = df['graduacao'].fillna('Outros')\n",
    "    df['universidade']          = df['universidade'].fillna('Outros')\n",
    "    df['como_conheceu_lit']     = df['como_conheceu_lit'].fillna('Outros')\n",
    "    df['organizacao']           = df['organizacao'].fillna('Outros')\n",
    "    df['profissao']             = df['profissao'].fillna('Outros')\n",
    "    df['horas_semanais_estudo'] = df['horas_semanais_estudo'].fillna(df['horas_semanais_estudo'].mean())\n",
    "    df['total_modulos']         = df['total_modulos'].fillna(df['total_modulos'].median())\n",
    "    df['modulos_iniciados']     = df['modulos_iniciados'].fillna(df['modulos_iniciados'].median())\n",
    "    df['modulos_finalizados']   = df['modulos_finalizados'].fillna(df['modulos_finalizados'].median())\n",
    "\n",
    "    return df\n",
    "    \n",
    "dados = preenche_missing(dados)    \n",
    "\n",
    "# Categorizar as colunas categoricas\n",
    "dados['categoria'] = dados['categoria'].astype(\"category\").cat.codes\n",
    "dados['graduacao'] = dados['graduacao'].astype(\"category\").cat.codes\n",
    "dados['profissao'] = dados['profissao'].astype(\"category\").cat.codes\n",
    "dados['organizacao'] = dados['organizacao'].astype(\"category\").cat.codes\n",
    "dados['como_conheceu_lit'] = dados['como_conheceu_lit'].astype(\"category\").cat.codes\n",
    "dados['universidade'] = dados['universidade'].astype(\"category\").cat.codes"
   ]
  },
  {
   "cell_type": "markdown",
   "metadata": {},
   "source": [
    "# Parte 04. Executando o TPOT"
   ]
  },
  {
   "cell_type": "code",
   "execution_count": 1,
   "metadata": {},
   "outputs": [
    {
     "ename": "NameError",
     "evalue": "name 'dados' is not defined",
     "output_type": "error",
     "traceback": [
      "\u001b[0;31m---------------------------------------------------------------------------\u001b[0m",
      "\u001b[0;31mNameError\u001b[0m                                 Traceback (most recent call last)",
      "\u001b[0;32m<ipython-input-1-1a053c003ff6>\u001b[0m in \u001b[0;36m<module>\u001b[0;34m\u001b[0m\n\u001b[1;32m      1\u001b[0m \u001b[0;31m# Buscando todas as features do dataset apos o pre-processamento\u001b[0m\u001b[0;34m\u001b[0m\u001b[0;34m\u001b[0m\u001b[0;34m\u001b[0m\u001b[0m\n\u001b[0;32m----> 2\u001b[0;31m \u001b[0mall_features\u001b[0m \u001b[0;34m=\u001b[0m \u001b[0;34m[\u001b[0m\u001b[0mcol\u001b[0m \u001b[0;32mfor\u001b[0m \u001b[0mcol\u001b[0m \u001b[0;32min\u001b[0m \u001b[0mdados\u001b[0m\u001b[0;34m.\u001b[0m\u001b[0mcolumns\u001b[0m \u001b[0;32mif\u001b[0m \u001b[0mcol\u001b[0m \u001b[0;34m!=\u001b[0m \u001b[0;34m'categoria'\u001b[0m\u001b[0;34m]\u001b[0m\u001b[0;34m\u001b[0m\u001b[0;34m\u001b[0m\u001b[0m\n\u001b[0m\u001b[1;32m      3\u001b[0m \u001b[0;34m\u001b[0m\u001b[0m\n\u001b[1;32m      4\u001b[0m \u001b[0;31m# Separar target\u001b[0m\u001b[0;34m\u001b[0m\u001b[0;34m\u001b[0m\u001b[0;34m\u001b[0m\u001b[0m\n\u001b[1;32m      5\u001b[0m \u001b[0mX\u001b[0m \u001b[0;34m=\u001b[0m \u001b[0mdados\u001b[0m\u001b[0;34m[\u001b[0m\u001b[0mall_features\u001b[0m\u001b[0;34m]\u001b[0m\u001b[0;34m\u001b[0m\u001b[0;34m\u001b[0m\u001b[0m\n",
      "\u001b[0;31mNameError\u001b[0m: name 'dados' is not defined"
     ]
    }
   ],
   "source": [
    "# Buscando todas as features do dataset apos o pre-processamento\n",
    "all_features = [col for col in dados.columns if col != 'categoria']\n",
    "\n",
    "# Separar target\n",
    "X = dados[all_features]\n",
    "y = dados['categoria']\n",
    "\n",
    "X_train, X_test, y_train, y_test = train_test_split(X, y, random_state=42)\n",
    "\n",
    "\n",
    "tpot = TPOTClassifier(generations=5, population_size=50, verbosity=2, random_state=42)\n",
    "tpot.fit(X_train, y_train)\n",
    "print(tpot.score(X_test, y_test))"
   ]
  },
  {
   "cell_type": "code",
   "execution_count": 12,
   "metadata": {},
   "outputs": [],
   "source": [
    "y_hat = tpot.predict(X_test)"
   ]
  },
  {
   "cell_type": "markdown",
   "metadata": {},
   "source": [
    "# Parte 04. Avaliação do Desempenho dos Modelos"
   ]
  },
  {
   "cell_type": "code",
   "execution_count": 18,
   "metadata": {},
   "outputs": [
    {
     "name": "stdout",
     "output_type": "stream",
     "text": [
      "Acurácia : 81.01732399557685\n",
      "Sensibilidade : 0.952755905511811\n",
      "Especificidade : 0.9289340101522843\n",
      "\n",
      "\n",
      "              precision    recall  f1-score   support\n",
      "\n",
      "           0       0.84      0.82      0.83       448\n",
      "           1       0.84      0.83      0.84       726\n",
      "           2       0.75      0.66      0.70       163\n",
      "           3       0.66      0.79      0.72       280\n",
      "           4       0.85      0.75      0.80       340\n",
      "           5       0.83      0.85      0.84       756\n",
      "\n",
      "    accuracy                           0.81      2713\n",
      "   macro avg       0.79      0.78      0.79      2713\n",
      "weighted avg       0.81      0.81      0.81      2713\n",
      "\n"
     ]
    },
    {
     "data": {
      "image/png": "[encoded data removed]",
      "text/plain": [
       "<Figure size 432x432 with 2 Axes>"
      ]
     },
     "metadata": {},
     "output_type": "display_data"
    }
   ],
   "source": [
    "# Calcula o score com dados de teste\n",
    "tpot_score = tpot.score(X_test, y_test) * 100\n",
    "\n",
    "# Print\n",
    "print(\"Acurácia :\", tpot_score)\n",
    "\n",
    "# Cria a matriz de confusão\n",
    "conf_matriz_lgb = confusion_matrix(y_test, y_hat)\n",
    "    \n",
    "# Calcula especificidade e sensibilidade\n",
    "speci_lgb = conf_matriz_lgb[0,0] / (conf_matriz_lgb[0,0] + conf_matriz_lgb[0,1])\n",
    "sensi_lgb = conf_matriz_lgb[1,1] / (conf_matriz_lgb[1,0] + conf_matriz_lgb[1,1])\n",
    "\n",
    "# Print\n",
    "print('Sensibilidade :', sensi_lgb)\n",
    "print('Especificidade :', speci_lgb)\n",
    "print('\\n')\n",
    "\n",
    "# Matriz de Confusão gráfica\n",
    "sns.set(rc={'figure.figsize':(6, 6)})\n",
    "sns.heatmap(conf_matriz_lgb, \n",
    "            annot = True, \n",
    "            fmt = \".0f\", \n",
    "            linewidths = .5, \n",
    "            square = True, \n",
    "            cmap = 'RdBu_r')\n",
    "\n",
    "# Labels e Títulos\n",
    "plt.ylabel('Label Verdadeiro')\n",
    "plt.xlabel('Label Previsto')\n",
    "plt.title('Acurácia: {:.2f}'.format(tpot_score), size = 15)\n",
    "\n",
    "# Relatório de Classificação\n",
    "print(classification_report(y_test, y_hat))\n"
   ]
  },
  {
   "cell_type": "markdown",
   "metadata": {},
   "source": [
    "# Parte 05. Realizar previsões com dados de teste"
   ]
  },
  {
   "cell_type": "markdown",
   "metadata": {},
   "source": [
    "# Parte 6. Submissão do Desafio 6"
   ]
  },
  {
   "cell_type": "code",
   "execution_count": null,
   "metadata": {},
   "outputs": [],
   "source": []
  }
 ],
 "metadata": {
  "kernelspec": {
   "display_name": "Python 3",
   "language": "python",
   "name": "python3"
  },
  "language_info": {
   "codemirror_mode": {
    "name": "ipython",
    "version": 3
   },
   "file_extension": ".py",
   "mimetype": "text/x-python",
   "name": "python",
   "nbconvert_exporter": "python",
   "pygments_lexer": "ipython3",
   "version": "3.7.4"
  }
 },
 "nbformat": 4,
 "nbformat_minor": 1
}
