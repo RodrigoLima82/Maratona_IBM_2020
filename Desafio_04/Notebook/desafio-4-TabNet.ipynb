{
 "cells": [
  {
   "cell_type": "markdown",
   "metadata": {},
   "source": [
    "# MARATONA BEHIND THE CODE 2020\n",
    "\n",
    "## DESAFIO 4: ALGAR\n",
    "\n",
    "## Testes com modelo Deep Learning (TabNet)\n",
    "- Autor: Rodrigo Lima\n",
    "- LinkedIN: https://www.linkedin.com/in/rodrigolima82/"
   ]
  },
  {
   "cell_type": "markdown",
   "metadata": {},
   "source": [
    "# Parte 01. Importando as bibliotecas"
   ]
  },
  {
   "cell_type": "code",
   "execution_count": 30,
   "metadata": {},
   "outputs": [],
   "source": [
    "# Pacotes padrao\n",
    "import pandas as pd\n",
    "import numpy as np\n",
    "import seaborn as sns\n",
    "import matplotlib.pylab as plt\n",
    "%matplotlib inline\n",
    "\n",
    "# Pacote do sklearn\n",
    "from sklearn.model_selection import RandomizedSearchCV, train_test_split, KFold\n",
    "from sklearn.metrics import accuracy_score, confusion_matrix, classification_report, precision_score\n",
    "from sklearn.metrics import roc_auc_score, recall_score\n",
    "from sklearn.preprocessing import StandardScaler, MinMaxScaler, LabelEncoder\n",
    "\n",
    "# Pacote de Deep Learning\n",
    "import tensorflow\n",
    "import keras\n",
    "from keras.models import Sequential\n",
    "from keras.layers import Dense\n",
    "from keras.layers import Dropout\n",
    "from keras.callbacks import Callback, EarlyStopping, ModelCheckpoint\n",
    "from keras.models import load_model\n",
    "\n",
    "\n",
    "# Pacote para balanceamento dos dados\n",
    "from imblearn.over_sampling import SMOTE\n",
    "\n",
    "# Desativando warnings no jupyter\n",
    "import warnings\n",
    "warnings.filterwarnings('ignore')\n",
    "\n",
    "\n",
    "from pytorch_tabnet.tab_model import TabNetClassifier\n",
    "\n",
    "import torch"
   ]
  },
  {
   "cell_type": "markdown",
   "metadata": {},
   "source": [
    "# Parte 02. Carregando o dataset de treino"
   ]
  },
  {
   "cell_type": "code",
   "execution_count": 2,
   "metadata": {},
   "outputs": [
    {
     "name": "stdout",
     "output_type": "stream",
     "text": [
      "Quantidade de registros e colunas:  (1370, 35)\n"
     ]
    },
    {
     "data": {
      "text/html": [
       "<div>\n",
       "<style scoped>\n",
       "    .dataframe tbody tr th:only-of-type {\n",
       "        vertical-align: middle;\n",
       "    }\n",
       "\n",
       "    .dataframe tbody tr th {\n",
       "        vertical-align: top;\n",
       "    }\n",
       "\n",
       "    .dataframe thead th {\n",
       "        text-align: right;\n",
       "    }\n",
       "</style>\n",
       "<table border=\"1\" class=\"dataframe\">\n",
       "  <thead>\n",
       "    <tr style=\"text-align: right;\">\n",
       "      <th></th>\n",
       "      <th>Idade</th>\n",
       "      <th>Local de trabalho</th>\n",
       "      <th>Pontuação teste</th>\n",
       "      <th>Departmento</th>\n",
       "      <th>Distancia casa-trabalho</th>\n",
       "      <th>Educacao</th>\n",
       "      <th>Area</th>\n",
       "      <th>Possui carro</th>\n",
       "      <th>Subordinado</th>\n",
       "      <th>Satisfação com o ambiente no emprego atual</th>\n",
       "      <th>...</th>\n",
       "      <th>Horas de trabalho padrão</th>\n",
       "      <th>Beneficios</th>\n",
       "      <th>Anos de experiencia</th>\n",
       "      <th>Horas de treinamento ultimo ano</th>\n",
       "      <th>Estilo de vida</th>\n",
       "      <th>Anos na última empresa</th>\n",
       "      <th>Anos na posição atual</th>\n",
       "      <th>Anos desde última promoção</th>\n",
       "      <th>Anos com a mesma gerência</th>\n",
       "      <th>Contratar</th>\n",
       "    </tr>\n",
       "  </thead>\n",
       "  <tbody>\n",
       "    <tr>\n",
       "      <th>0</th>\n",
       "      <td>49</td>\n",
       "      <td>Cliente</td>\n",
       "      <td>279</td>\n",
       "      <td>Engenharia</td>\n",
       "      <td>8</td>\n",
       "      <td>Médio completo</td>\n",
       "      <td>Ciências das natureza</td>\n",
       "      <td>1</td>\n",
       "      <td>2</td>\n",
       "      <td>3</td>\n",
       "      <td>...</td>\n",
       "      <td>80</td>\n",
       "      <td>1</td>\n",
       "      <td>10</td>\n",
       "      <td>3</td>\n",
       "      <td>3</td>\n",
       "      <td>10</td>\n",
       "      <td>7</td>\n",
       "      <td>1</td>\n",
       "      <td>7</td>\n",
       "      <td>Não</td>\n",
       "    </tr>\n",
       "    <tr>\n",
       "      <th>1</th>\n",
       "      <td>33</td>\n",
       "      <td>Misto</td>\n",
       "      <td>1392</td>\n",
       "      <td>Engenharia</td>\n",
       "      <td>3</td>\n",
       "      <td>Superior incompleto - cursando</td>\n",
       "      <td>Ciências das natureza</td>\n",
       "      <td>1</td>\n",
       "      <td>5</td>\n",
       "      <td>4</td>\n",
       "      <td>...</td>\n",
       "      <td>80</td>\n",
       "      <td>0</td>\n",
       "      <td>8</td>\n",
       "      <td>3</td>\n",
       "      <td>3</td>\n",
       "      <td>8</td>\n",
       "      <td>7</td>\n",
       "      <td>3</td>\n",
       "      <td>0</td>\n",
       "      <td>Não</td>\n",
       "    </tr>\n",
       "    <tr>\n",
       "      <th>2</th>\n",
       "      <td>27</td>\n",
       "      <td>Cliente</td>\n",
       "      <td>591</td>\n",
       "      <td>Engenharia</td>\n",
       "      <td>2</td>\n",
       "      <td>Médio completo</td>\n",
       "      <td>Medicina</td>\n",
       "      <td>1</td>\n",
       "      <td>7</td>\n",
       "      <td>1</td>\n",
       "      <td>...</td>\n",
       "      <td>80</td>\n",
       "      <td>1</td>\n",
       "      <td>6</td>\n",
       "      <td>3</td>\n",
       "      <td>3</td>\n",
       "      <td>2</td>\n",
       "      <td>2</td>\n",
       "      <td>2</td>\n",
       "      <td>2</td>\n",
       "      <td>Não</td>\n",
       "    </tr>\n",
       "    <tr>\n",
       "      <th>3</th>\n",
       "      <td>32</td>\n",
       "      <td>Misto</td>\n",
       "      <td>1005</td>\n",
       "      <td>Engenharia</td>\n",
       "      <td>2</td>\n",
       "      <td>Superior incompleto</td>\n",
       "      <td>Ciências das natureza</td>\n",
       "      <td>1</td>\n",
       "      <td>8</td>\n",
       "      <td>4</td>\n",
       "      <td>...</td>\n",
       "      <td>80</td>\n",
       "      <td>0</td>\n",
       "      <td>8</td>\n",
       "      <td>2</td>\n",
       "      <td>2</td>\n",
       "      <td>7</td>\n",
       "      <td>7</td>\n",
       "      <td>3</td>\n",
       "      <td>6</td>\n",
       "      <td>Não</td>\n",
       "    </tr>\n",
       "    <tr>\n",
       "      <th>4</th>\n",
       "      <td>59</td>\n",
       "      <td>Misto</td>\n",
       "      <td>1324</td>\n",
       "      <td>Engenharia</td>\n",
       "      <td>3</td>\n",
       "      <td>Superior completo</td>\n",
       "      <td>Medicina</td>\n",
       "      <td>1</td>\n",
       "      <td>10</td>\n",
       "      <td>3</td>\n",
       "      <td>...</td>\n",
       "      <td>80</td>\n",
       "      <td>3</td>\n",
       "      <td>12</td>\n",
       "      <td>3</td>\n",
       "      <td>2</td>\n",
       "      <td>1</td>\n",
       "      <td>0</td>\n",
       "      <td>0</td>\n",
       "      <td>0</td>\n",
       "      <td>Não</td>\n",
       "    </tr>\n",
       "  </tbody>\n",
       "</table>\n",
       "<p>5 rows × 35 columns</p>\n",
       "</div>"
      ],
      "text/plain": [
       "   Idade Local de trabalho  Pontuação teste Departmento  \\\n",
       "0     49           Cliente              279  Engenharia   \n",
       "1     33             Misto             1392  Engenharia   \n",
       "2     27           Cliente              591  Engenharia   \n",
       "3     32             Misto             1005  Engenharia   \n",
       "4     59             Misto             1324  Engenharia   \n",
       "\n",
       "   Distancia casa-trabalho                        Educacao  \\\n",
       "0                        8                  Médio completo   \n",
       "1                        3  Superior incompleto - cursando   \n",
       "2                        2                  Médio completo   \n",
       "3                        2             Superior incompleto   \n",
       "4                        3               Superior completo   \n",
       "\n",
       "                    Area  Possui carro  Subordinado  \\\n",
       "0  Ciências das natureza             1            2   \n",
       "1  Ciências das natureza             1            5   \n",
       "2               Medicina             1            7   \n",
       "3  Ciências das natureza             1            8   \n",
       "4               Medicina             1           10   \n",
       "\n",
       "   Satisfação com o ambiente no emprego atual  ... Horas de trabalho padrão  \\\n",
       "0                                           3  ...                       80   \n",
       "1                                           4  ...                       80   \n",
       "2                                           1  ...                       80   \n",
       "3                                           4  ...                       80   \n",
       "4                                           3  ...                       80   \n",
       "\n",
       "   Beneficios  Anos de experiencia  Horas de treinamento ultimo ano  \\\n",
       "0           1                   10                                3   \n",
       "1           0                    8                                3   \n",
       "2           1                    6                                3   \n",
       "3           0                    8                                2   \n",
       "4           3                   12                                3   \n",
       "\n",
       "  Estilo de vida  Anos na última empresa Anos na posição atual  \\\n",
       "0              3                      10                     7   \n",
       "1              3                       8                     7   \n",
       "2              3                       2                     2   \n",
       "3              2                       7                     7   \n",
       "4              2                       1                     0   \n",
       "\n",
       "   Anos desde última promoção  Anos com a mesma gerência  Contratar  \n",
       "0                           1                          7        Não  \n",
       "1                           3                          0        Não  \n",
       "2                           2                          2        Não  \n",
       "3                           3                          6        Não  \n",
       "4                           0                          0        Não  \n",
       "\n",
       "[5 rows x 35 columns]"
      ]
     },
     "execution_count": 2,
     "metadata": {},
     "output_type": "execute_result"
    }
   ],
   "source": [
    "treino = pd.read_csv(r'train_dataset_algartech.csv')\n",
    "print('Quantidade de registros e colunas: ',treino.shape)\n",
    "treino.head()"
   ]
  },
  {
   "cell_type": "code",
   "execution_count": 3,
   "metadata": {},
   "outputs": [
    {
     "name": "stdout",
     "output_type": "stream",
     "text": [
      "<class 'pandas.core.frame.DataFrame'>\n",
      "RangeIndex: 1370 entries, 0 to 1369\n",
      "Data columns (total 35 columns):\n",
      " #   Column                                      Non-Null Count  Dtype \n",
      "---  ------                                      --------------  ----- \n",
      " 0   Idade                                       1370 non-null   int64 \n",
      " 1   Local de trabalho                           1370 non-null   object\n",
      " 2   Pontuação teste                             1370 non-null   int64 \n",
      " 3   Departmento                                 1370 non-null   object\n",
      " 4   Distancia casa-trabalho                     1370 non-null   int64 \n",
      " 5   Educacao                                    1370 non-null   object\n",
      " 6   Area                                        1370 non-null   object\n",
      " 7   Possui carro                                1370 non-null   int64 \n",
      " 8   Subordinado                                 1370 non-null   int64 \n",
      " 9   Satisfação com o ambiente no emprego atual  1370 non-null   int64 \n",
      " 10  Genero                                      1370 non-null   object\n",
      " 11  Horas voluntariado                          1370 non-null   int64 \n",
      " 12  Envolvimento com trabalho                   1370 non-null   int64 \n",
      " 13  Posicao                                     1370 non-null   int64 \n",
      " 14  Cargo                                       1370 non-null   object\n",
      " 15  Satisfação com emprego                      1370 non-null   int64 \n",
      " 16  Estado civil                                1370 non-null   object\n",
      " 17  Renda                                       1370 non-null   int64 \n",
      " 18  Bonus de performance                        1370 non-null   int64 \n",
      " 19  Quantidade de empresas que trabalho         1370 non-null   int64 \n",
      " 20  Maior de idade                              1370 non-null   int64 \n",
      " 21  Necessita de hora extra                     1370 non-null   object\n",
      " 22  Aumento de salario%                         1370 non-null   int64 \n",
      " 23  Performance na entrevista                   1370 non-null   int64 \n",
      " 24  Satisfação com a relação                    1370 non-null   int64 \n",
      " 25  Horas de trabalho padrão                    1370 non-null   int64 \n",
      " 26  Beneficios                                  1370 non-null   int64 \n",
      " 27  Anos de experiencia                         1370 non-null   int64 \n",
      " 28  Horas de treinamento ultimo ano             1370 non-null   int64 \n",
      " 29  Estilo de vida                              1370 non-null   int64 \n",
      " 30  Anos na última empresa                      1370 non-null   int64 \n",
      " 31  Anos na posição atual                       1370 non-null   int64 \n",
      " 32  Anos desde última promoção                  1370 non-null   int64 \n",
      " 33  Anos com a mesma gerência                   1370 non-null   int64 \n",
      " 34  Contratar                                   1370 non-null   object\n",
      "dtypes: int64(26), object(9)\n",
      "memory usage: 374.7+ KB\n"
     ]
    }
   ],
   "source": [
    "# Visualizando o tipo dos dados\n",
    "treino.info()"
   ]
  },
  {
   "cell_type": "code",
   "execution_count": 4,
   "metadata": {},
   "outputs": [
    {
     "data": {
      "text/html": [
       "<div>\n",
       "<style scoped>\n",
       "    .dataframe tbody tr th:only-of-type {\n",
       "        vertical-align: middle;\n",
       "    }\n",
       "\n",
       "    .dataframe tbody tr th {\n",
       "        vertical-align: top;\n",
       "    }\n",
       "\n",
       "    .dataframe thead th {\n",
       "        text-align: right;\n",
       "    }\n",
       "</style>\n",
       "<table border=\"1\" class=\"dataframe\">\n",
       "  <thead>\n",
       "    <tr style=\"text-align: right;\">\n",
       "      <th></th>\n",
       "      <th>Contratar</th>\n",
       "      <th>%</th>\n",
       "    </tr>\n",
       "  </thead>\n",
       "  <tbody>\n",
       "    <tr>\n",
       "      <th>Não</th>\n",
       "      <td>1178</td>\n",
       "      <td>85.985</td>\n",
       "    </tr>\n",
       "    <tr>\n",
       "      <th>Sim</th>\n",
       "      <td>192</td>\n",
       "      <td>14.015</td>\n",
       "    </tr>\n",
       "  </tbody>\n",
       "</table>\n",
       "</div>"
      ],
      "text/plain": [
       "     Contratar       %\n",
       "Não       1178  85.985\n",
       "Sim        192  14.015"
      ]
     },
     "execution_count": 4,
     "metadata": {},
     "output_type": "execute_result"
    },
    {
     "data": {
      "image/png": "[encoded data removed]",
      "text/plain": [
       "<Figure size 432x288 with 1 Axes>"
      ]
     },
     "metadata": {
      "needs_background": "light"
     },
     "output_type": "display_data"
    }
   ],
   "source": [
    "# Visualizando a distribuição das classes (variavel TARGET)\n",
    "pd.value_counts(treino['Contratar']).plot.bar()\n",
    "plt.title('Contratar histogram')\n",
    "plt.xlabel('Contratar')\n",
    "plt.ylabel('Frequency')\n",
    "\n",
    "# Visualizando um df com quantidade e percentual da variavel TARGET\n",
    "tmp = pd.DataFrame(treino['Contratar'].value_counts())\n",
    "tmp['%'] = round(100*tmp['Contratar']/tmp['Contratar'].sum(),3)\n",
    "tmp"
   ]
  },
  {
   "cell_type": "markdown",
   "metadata": {},
   "source": [
    "# Parte 03. Feature Engineering"
   ]
  },
  {
   "cell_type": "code",
   "execution_count": 5,
   "metadata": {},
   "outputs": [],
   "source": [
    "target = \"Contratar\"\n",
    "n_total = len(treino)"
   ]
  },
  {
   "cell_type": "code",
   "execution_count": 6,
   "metadata": {},
   "outputs": [],
   "source": [
    "train_val_indices, test_indices = train_test_split(range(n_total), test_size=0.2, random_state=0)\n",
    "\n",
    "train_indices, valid_indices = train_test_split(train_val_indices, test_size=0.2 / 0.6, random_state=0)"
   ]
  },
  {
   "cell_type": "code",
   "execution_count": 7,
   "metadata": {},
   "outputs": [],
   "source": [
    "# Removendo colunas que não serão utilizadas no treinamento\n",
    "treino = treino.drop(['Possui carro','Maior de idade','Horas de trabalho padrão','Subordinado'], axis = 1)"
   ]
  },
  {
   "cell_type": "code",
   "execution_count": 8,
   "metadata": {},
   "outputs": [
    {
     "name": "stdout",
     "output_type": "stream",
     "text": [
      "Local de trabalho 3\n",
      "Departmento 3\n",
      "Educacao 5\n",
      "Area 6\n",
      "Genero 2\n",
      "Cargo 9\n",
      "Estado civil 3\n",
      "Necessita de hora extra 2\n",
      "Contratar 2\n"
     ]
    }
   ],
   "source": [
    "categorical_columns = []\n",
    "categorical_dims =  {}\n",
    "\n",
    "for col in treino.columns[treino.dtypes == object]:\n",
    "    print(col, treino[col].nunique())\n",
    "    l_enc = LabelEncoder()\n",
    "    treino[col] = l_enc.fit_transform(treino[col].values)\n",
    "    categorical_columns.append(col)\n",
    "    categorical_dims[col] = len(l_enc.classes_)\n",
    "\n",
    "for col in treino.columns[treino.dtypes == 'float64']:\n",
    "    treino.fillna(treino.loc[train_indices, col].mean(), inplace=True)"
   ]
  },
  {
   "cell_type": "code",
   "execution_count": 9,
   "metadata": {},
   "outputs": [],
   "source": [
    "unused_feat = []\n",
    "\n",
    "features = [ col for col in treino.columns if col not in unused_feat+[target]] \n",
    "\n",
    "cat_idxs = [ i for i, f in enumerate(features) if f in categorical_columns]\n",
    "\n",
    "cat_dims = [ categorical_dims[f] for i, f in enumerate(features) if f in categorical_columns]"
   ]
  },
  {
   "cell_type": "code",
   "execution_count": 10,
   "metadata": {},
   "outputs": [],
   "source": [
    "X_train = treino[features].values[train_indices]\n",
    "y_train = treino[target].values[train_indices]\n",
    "\n",
    "X_valid = treino[features].values[valid_indices]\n",
    "y_valid = treino[target].values[valid_indices]\n",
    "\n",
    "X_test = treino[features].values[test_indices]\n",
    "y_test = treino[target].values[test_indices]"
   ]
  },
  {
   "cell_type": "markdown",
   "metadata": {},
   "source": [
    "# Parte 04. Modelagem Preditiva\n",
    "> - Nesta fase estarei construindo os modelos preditivos\n",
    "> - Vou utilizar Deep Learning para o treinamento"
   ]
  },
  {
   "cell_type": "code",
   "execution_count": null,
   "metadata": {},
   "outputs": [],
   "source": [
    "max_epochs = 5000\n",
    "\n",
    "clf = TabNetClassifier(\n",
    "    n_d=64, n_a=64, n_steps=5,\n",
    "    gamma=1.5, n_independent=2, n_shared=2,\n",
    "    cat_idxs=cat_idxs,\n",
    "    cat_dims=cat_dims,\n",
    "    cat_emb_dim=1,\n",
    "    lambda_sparse=1e-4, momentum=0.3, clip_value=2.,\n",
    "    optimizer_fn=torch.optim.Adam,\n",
    "    optimizer_params=dict(lr=2e-2),\n",
    "    scheduler_params = {\"gamma\": 0.95,\n",
    "                        \"step_size\": 20},\n",
    "    scheduler_fn=torch.optim.lr_scheduler.StepLR, epsilon=1e-15,\n",
    "    #mask_type='entmax',\n",
    "    seed=42\n",
    ")\n",
    "\n",
    "\"\"\"\n",
    "\n",
    "clf = TabNetClassifier(cat_idxs=cat_idxs,\n",
    "                                cat_dims=cat_dims,\n",
    "                                cat_emb_dim=1,\n",
    "                                optimizer_fn=torch.optim.Adam,\n",
    "                                optimizer_params=dict(lr=2e-2),\n",
    "                                scheduler_params={\"step_size\":50, # how to use learning rate scheduler\n",
    "                                                  \"gamma\":0.9},\n",
    "                                scheduler_fn=torch.optim.lr_scheduler.StepLR,\n",
    "                                mask_type='entmax', # \"sparsemax\",\n",
    "                                lambda_sparse=0, # don't penalize for sparser attention\n",
    "                                #seed=42\n",
    "                       \n",
    "                      )\n",
    "\"\"\""
   ]
  },
  {
   "cell_type": "code",
   "execution_count": 49,
   "metadata": {},
   "outputs": [],
   "source": []
  },
  {
   "cell_type": "code",
   "execution_count": 50,
   "metadata": {
    "scrolled": true
   },
   "outputs": [
    {
     "name": "stdout",
     "output_type": "stream",
     "text": [
      "Will train until validation stopping metric hasn't improved in 100 rounds.\n",
      "---------------------------------------\n",
      "| EPOCH |  train  |   valid  | total time (s)\n",
      "| 1     | 0.58232 |  0.47476 |   0.9       \n",
      "| 2     | 0.72233 |  0.54949 |   2.2       \n",
      "| 3     | 0.72948 |  0.60959 |   3.0       \n",
      "| 4     | 0.73121 |  0.56639 |   3.8       \n",
      "| 5     | 0.71185 |  0.58543 |   4.7       \n",
      "| 6     | 0.75269 |  0.58052 |   5.6       \n",
      "| 7     | 0.75626 |  0.60056 |   6.8       \n",
      "| 8     | 0.76022 |  0.67470 |   7.5       \n",
      "| 9     | 0.82495 |  0.62197 |   8.2       \n",
      "| 10    | 0.81960 |  0.67781 |   9.4       \n",
      "| 11    | 0.85655 |  0.61942 |   10.4      \n",
      "| 12    | 0.87832 |  0.64868 |   11.5      \n",
      "| 13    | 0.84570 |  0.68509 |   12.7      \n",
      "| 14    | 0.85009 |  0.71373 |   13.6      \n",
      "| 15    | 0.85457 |  0.70744 |   14.9      \n",
      "| 16    | 0.82921 |  0.70433 |   15.6      \n",
      "| 17    | 0.87168 |  0.69132 |   16.4      \n",
      "| 18    | 0.85355 |  0.64656 |   17.2      \n",
      "| 19    | 0.86705 |  0.64998 |   18.1      \n",
      "| 20    | 0.87135 |  0.62303 |   19.1      \n",
      "| 21    | 0.87646 |  0.65546 |   19.8      \n",
      "| 22    | 0.87708 |  0.67675 |   20.7      \n",
      "| 23    | 0.85638 |  0.68627 |   21.6      \n",
      "| 24    | 0.87921 |  0.66486 |   22.3      \n",
      "| 25    | 0.87821 |  0.66629 |   23.2      \n",
      "| 26    | 0.86918 |  0.69860 |   23.9      \n",
      "| 27    | 0.88132 |  0.66779 |   25.1      \n",
      "| 28    | 0.90885 |  0.64818 |   26.0      \n",
      "| 29    | 0.92631 |  0.65857 |   26.8      \n",
      "| 30    | 0.92540 |  0.67644 |   27.5      \n",
      "| 31    | 0.91256 |  0.66523 |   28.4      \n",
      "| 32    | 0.93342 |  0.68067 |   29.0      \n",
      "| 33    | 0.92339 |  0.66312 |   29.8      \n",
      "| 34    | 0.91451 |  0.64805 |   30.7      \n",
      "| 35    | 0.93404 |  0.67669 |   31.7      \n",
      "| 36    | 0.94024 |  0.69437 |   32.5      \n",
      "| 37    | 0.92732 |  0.67893 |   33.2      \n",
      "| 38    | 0.93539 |  0.69020 |   34.2      \n",
      "| 39    | 0.94011 |  0.70277 |   34.9      \n",
      "| 40    | 0.92181 |  0.69007 |   35.7      \n",
      "| 41    | 0.93326 |  0.69119 |   36.4      \n",
      "| 42    | 0.94156 |  0.71416 |   37.2      \n",
      "| 43    | 0.94161 |  0.68385 |   37.9      \n",
      "| 44    | 0.93419 |  0.65889 |   39.0      \n",
      "| 45    | 0.93733 |  0.65739 |   39.8      \n",
      "| 46    | 0.94883 |  0.65142 |   40.5      \n",
      "| 47    | 0.95217 |  0.65415 |   41.3      \n",
      "| 48    | 0.94513 |  0.66990 |   42.3      \n",
      "| 49    | 0.95246 |  0.66841 |   43.1      \n",
      "| 50    | 0.95637 |  0.67538 |   44.0      \n",
      "| 51    | 0.97461 |  0.65303 |   44.7      \n",
      "| 52    | 0.96222 |  0.63735 |   45.5      \n",
      "| 53    | 0.94510 |  0.64301 |   46.2      \n",
      "| 54    | 0.93874 |  0.66685 |   46.9      \n",
      "| 55    | 0.92171 |  0.62533 |   47.8      \n",
      "| 56    | 0.94846 |  0.61693 |   48.7      \n",
      "| 57    | 0.94457 |  0.60062 |   49.5      \n",
      "| 58    | 0.95982 |  0.62421 |   50.3      \n",
      "| 59    | 0.95077 |  0.66829 |   51.0      \n",
      "| 60    | 0.94653 |  0.68049 |   51.9      \n",
      "| 61    | 0.95556 |  0.67631 |   52.7      \n",
      "| 62    | 0.95383 |  0.66349 |   53.5      \n",
      "| 63    | 0.96530 |  0.65920 |   54.4      \n",
      "| 64    | 0.96374 |  0.67999 |   55.0      \n",
      "| 65    | 0.96655 |  0.68553 |   55.6      \n",
      "| 66    | 0.95468 |  0.70937 |   56.3      \n",
      "| 67    | 0.97118 |  0.70464 |   57.1      \n",
      "| 68    | 0.96912 |  0.73707 |   58.0      \n",
      "| 69    | 0.97238 |  0.74096 |   59.0      \n",
      "| 70    | 0.98376 |  0.73564 |   59.7      \n",
      "| 71    | 0.98167 |  0.74606 |   60.3      \n",
      "| 72    | 0.97891 |  0.74728 |   61.3      \n",
      "| 73    | 0.98695 |  0.72412 |   62.0      \n",
      "| 74    | 0.98670 |  0.71310 |   62.6      \n",
      "| 75    | 0.98653 |  0.68796 |   63.6      \n",
      "| 76    | 0.98801 |  0.68715 |   64.4      \n",
      "| 77    | 0.97793 |  0.69823 |   65.2      \n",
      "| 78    | 0.97067 |  0.70529 |   65.9      \n",
      "| 79    | 0.97554 |  0.69953 |   66.8      \n",
      "| 80    | 0.98334 |  0.67768 |   67.6      \n",
      "| 81    | 0.97564 |  0.66841 |   68.4      \n",
      "| 82    | 0.98212 |  0.66617 |   69.0      \n",
      "| 83    | 0.99044 |  0.70324 |   69.8      \n",
      "| 84    | 0.98174 |  0.71102 |   70.8      \n",
      "| 85    | 0.98409 |  0.72736 |   72.5      \n",
      "| 86    | 0.99166 |  0.72157 |   74.1      \n",
      "| 87    | 0.98920 |  0.72593 |   74.7      \n",
      "| 88    | 0.97187 |  0.70237 |   75.4      \n",
      "| 89    | 0.97846 |  0.68702 |   76.2      \n",
      "| 90    | 0.97435 |  0.68204 |   77.2      \n",
      "| 91    | 0.96342 |  0.70601 |   78.2      \n",
      "| 92    | 0.97711 |  0.70850 |   78.9      \n",
      "| 93    | 0.96994 |  0.72169 |   79.8      \n",
      "| 94    | 0.98113 |  0.71634 |   80.6      \n",
      "| 95    | 0.97341 |  0.71615 |   81.6      \n",
      "| 96    | 0.98437 |  0.73483 |   82.4      \n",
      "| 97    | 0.98229 |  0.73284 |   83.3      \n",
      "| 98    | 0.98917 |  0.72468 |   84.1      \n",
      "| 99    | 0.98492 |  0.70202 |   84.8      \n",
      "| 100   | 0.99188 |  0.70345 |   85.7      \n",
      "| 101   | 0.99248 |  0.72730 |   86.4      \n",
      "| 102   | 0.98837 |  0.72985 |   87.2      \n",
      "| 103   | 0.98802 |  0.73645 |   87.9      \n",
      "| 104   | 0.99607 |  0.72798 |   88.8      \n",
      "| 105   | 0.99095 |  0.72331 |   89.8      \n",
      "| 106   | 0.99156 |  0.72742 |   90.9      \n",
      "| 107   | 0.98681 |  0.70520 |   91.8      \n",
      "| 108   | 0.99147 |  0.70893 |   92.6      \n",
      "| 109   | 0.99434 |  0.72481 |   94.1      \n",
      "| 110   | 0.99040 |  0.72804 |   94.8      \n",
      "| 111   | 0.99810 |  0.71217 |   95.6      \n",
      "| 112   | 0.99734 |  0.69742 |   96.6      \n",
      "| 113   | 0.99836 |  0.69393 |   97.7      \n",
      "| 114   | 0.99438 |  0.70482 |   98.6      \n",
      "| 115   | 0.99394 |  0.71422 |   99.3      \n",
      "| 116   | 0.99022 |  0.72039 |   100.0     \n",
      "| 117   | 0.98183 |  0.74877 |   100.7     \n",
      "| 118   | 0.99113 |  0.73084 |   101.8     \n",
      "| 119   | 0.98580 |  0.72176 |   103.0     \n",
      "| 120   | 0.97386 |  0.75711 |   103.8     \n",
      "| 121   | 0.99080 |  0.75991 |   105.0     \n",
      "| 122   | 0.98866 |  0.76321 |   105.6     \n",
      "| 123   | 0.99067 |  0.74099 |   106.5     \n",
      "| 124   | 0.98815 |  0.73875 |   107.5     \n",
      "| 125   | 0.99711 |  0.75045 |   108.7     \n",
      "| 126   | 0.99020 |  0.75593 |   109.4     \n",
      "| 127   | 0.99643 |  0.74877 |   110.1     \n",
      "| 128   | 0.99099 |  0.73383 |   110.8     \n",
      "| 129   | 0.99043 |  0.71416 |   111.5     \n",
      "| 130   | 0.99447 |  0.71581 |   112.5     \n",
      "| 131   | 0.99254 |  0.72891 |   113.3     \n",
      "| 132   | 0.99594 |  0.72356 |   113.9     \n",
      "| 133   | 0.99387 |  0.70570 |   114.7     \n",
      "| 134   | 0.99316 |  0.70470 |   115.6     \n",
      "| 135   | 0.99594 |  0.73165 |   116.4     \n",
      "| 136   | 0.99716 |  0.70980 |   117.5     \n",
      "| 137   | 0.99649 |  0.70594 |   118.6     \n",
      "| 138   | 0.99852 |  0.71161 |   119.5     \n",
      "| 139   | 0.99565 |  0.71173 |   120.5     \n",
      "| 140   | 0.99879 |  0.74223 |   121.6     \n",
      "| 141   | 0.99686 |  0.73508 |   122.9     \n",
      "| 142   | 0.99967 |  0.73084 |   123.8     \n",
      "| 143   | 0.99741 |  0.73003 |   124.7     \n",
      "| 144   | 0.99613 |  0.74211 |   125.7     \n",
      "| 145   | 0.99632 |  0.74192 |   126.5     \n",
      "| 146   | 0.99762 |  0.75033 |   127.9     \n",
      "| 147   | 0.99365 |  0.76097 |   128.8     \n",
      "| 148   | 0.99480 |  0.71895 |   129.7     \n",
      "| 149   | 0.99823 |  0.71061 |   130.6     \n",
      "| 150   | 0.99418 |  0.70750 |   131.5     \n",
      "| 151   | 0.99687 |  0.69823 |   132.8     \n",
      "| 152   | 0.99901 |  0.70190 |   133.5     \n",
      "| 153   | 0.99526 |  0.71889 |   134.6     \n",
      "| 154   | 0.99629 |  0.71229 |   135.4     \n",
      "| 155   | 0.99730 |  0.70937 |   136.0     \n",
      "| 156   | 0.99757 |  0.72375 |   136.9     \n",
      "| 157   | 0.99959 |  0.74255 |   137.8     \n",
      "| 158   | 0.99946 |  0.78207 |   138.6     \n",
      "| 159   | 0.99937 |  0.76888 |   139.3     \n",
      "| 160   | 0.99367 |  0.72935 |   140.1     \n",
      "| 161   | 0.99780 |  0.75195 |   141.1     \n",
      "| 162   | 0.99582 |  0.74609 |   142.0     \n",
      "| 163   | 0.99932 |  0.76751 |   142.7     \n",
      "| 164   | 0.99999 |  0.75195 |   143.5     \n",
      "| 165   | 0.99947 |  0.77454 |   144.2     \n",
      "| 166   | 0.99903 |  0.76913 |   145.1     \n",
      "| 167   | 0.99664 |  0.77871 |   146.0     \n",
      "| 168   | 0.99809 |  0.77137 |   146.8     \n",
      "| 169   | 0.99828 |  0.75493 |   147.5     \n",
      "| 170   | 0.99875 |  0.76010 |   148.5     \n",
      "| 171   | 0.99819 |  0.75257 |   149.6     \n",
      "| 172   | 0.99798 |  0.73526 |   150.4     \n",
      "| 173   | 0.99871 |  0.75462 |   151.6     \n",
      "| 174   | 0.99966 |  0.76197 |   152.3     \n",
      "| 175   | 0.99924 |  0.76184 |   153.0     \n",
      "| 176   | 0.99989 |  0.77828 |   153.8     \n",
      "| 177   | 0.99854 |  0.77871 |   154.6     \n",
      "| 178   | 0.99910 |  0.73589 |   155.3     \n",
      "| 179   | 0.99515 |  0.75014 |   156.6     \n",
      "| 180   | 0.99938 |  0.75325 |   157.4     \n",
      "| 181   | 0.99953 |  0.74516 |   158.4     \n",
      "| 182   | 0.99927 |  0.74591 |   159.8     \n",
      "| 183   | 0.99903 |  0.74354 |   160.8     \n"
     ]
    },
    {
     "name": "stdout",
     "output_type": "stream",
     "text": [
      "| 184   | 0.99992 |  0.74448 |   161.6     \n",
      "| 185   | 0.99978 |  0.75294 |   162.6     \n",
      "| 186   | 0.99993 |  0.76147 |   163.7     \n",
      "| 187   | 0.99990 |  0.77933 |   164.4     \n",
      "| 188   | 0.99953 |  0.77305 |   165.5     \n",
      "| 189   | 0.99905 |  0.77915 |   166.2     \n",
      "| 190   | 0.99950 |  0.77501 |   166.9     \n",
      "| 191   | 0.99667 |  0.77379 |   167.7     \n",
      "| 192   | 0.99944 |  0.75254 |   169.0     \n",
      "| 193   | 0.99868 |  0.76707 |   169.9     \n",
      "| 194   | 0.99332 |  0.77392 |   171.1     \n",
      "| 195   | 0.99839 |  0.75437 |   172.1     \n",
      "| 196   | 0.99878 |  0.75387 |   173.0     \n",
      "| 197   | 0.99933 |  0.76769 |   173.9     \n",
      "| 198   | 0.99501 |  0.75307 |   174.8     \n",
      "| 199   | 0.99877 |  0.73676 |   175.7     \n",
      "| 200   | 0.99781 |  0.73629 |   176.5     \n",
      "| 201   | 0.99630 |  0.72104 |   177.3     \n",
      "| 202   | 0.99879 |  0.72443 |   178.0     \n",
      "| 203   | 0.99597 |  0.72468 |   179.0     \n",
      "| 204   | 0.99730 |  0.75188 |   179.7     \n",
      "| 205   | 0.99719 |  0.72082 |   180.6     \n",
      "| 206   | 0.99947 |  0.72580 |   181.3     \n",
      "| 207   | 0.99996 |  0.71304 |   182.1     \n",
      "| 208   | 0.99890 |  0.71702 |   183.1     \n",
      "| 209   | 0.99959 |  0.71603 |   184.1     \n",
      "| 210   | 0.99926 |  0.71223 |   185.2     \n",
      "| 211   | 0.99986 |  0.71416 |   186.0     \n",
      "| 212   | 0.99844 |  0.69561 |   186.8     \n",
      "| 213   | 0.99992 |  0.68920 |   187.9     \n",
      "| 214   | 0.99899 |  0.69916 |   188.8     \n",
      "| 215   | 0.99977 |  0.69069 |   190.0     \n",
      "| 216   | 0.99995 |  0.69891 |   190.8     \n",
      "| 217   | 0.99881 |  0.68618 |   191.9     \n",
      "| 218   | 0.99981 |  0.71261 |   193.3     \n",
      "| 219   | 0.99998 |  0.71843 |   194.1     \n",
      "| 220   | 0.99977 |  0.71646 |   194.8     \n",
      "| 221   | 0.99967 |  0.69181 |   195.5     \n",
      "| 222   | 0.99985 |  0.69430 |   196.6     \n",
      "| 223   | 0.99970 |  0.71323 |   197.5     \n",
      "| 224   | 0.99917 |  0.70999 |   198.3     \n",
      "| 225   | 0.99935 |  0.70470 |   199.6     \n",
      "| 226   | 0.99985 |  0.70258 |   200.5     \n",
      "| 227   | 0.99964 |  0.70470 |   201.3     \n",
      "| 228   | 0.99998 |  0.68889 |   202.2     \n",
      "| 229   | 0.99906 |  0.68683 |   203.0     \n",
      "| 230   | 0.99252 |  0.69113 |   203.8     \n",
      "| 231   | 0.99931 |  0.72107 |   204.7     \n",
      "| 232   | 0.99828 |  0.73190 |   205.7     \n",
      "| 233   | 0.99984 |  0.72076 |   206.6     \n",
      "| 234   | 0.99880 |  0.71802 |   207.6     \n",
      "| 235   | 0.99941 |  0.70053 |   208.4     \n",
      "| 236   | 0.99978 |  0.72530 |   209.1     \n",
      "| 237   | 0.99984 |  0.72842 |   210.0     \n",
      "| 238   | 0.99797 |  0.71886 |   211.0     \n",
      "| 239   | 0.99718 |  0.70837 |   211.6     \n",
      "| 240   | 1.00000 |  0.70134 |   212.8     \n",
      "| 241   | 0.99998 |  0.71068 |   213.5     \n",
      "| 242   | 0.99871 |  0.70955 |   214.5     \n",
      "| 243   | 0.99977 |  0.70364 |   215.3     \n",
      "| 244   | 0.99905 |  0.71939 |   216.2     \n",
      "| 245   | 1.00000 |  0.68322 |   217.0     \n",
      "| 246   | 0.99994 |  0.72194 |   218.4     \n",
      "| 247   | 0.99998 |  0.72393 |   219.4     \n",
      "| 248   | 0.99997 |  0.73377 |   220.1     \n",
      "| 249   | 0.99975 |  0.69580 |   220.9     \n",
      "| 250   | 0.99996 |  0.69564 |   222.2     \n",
      "| 251   | 0.99992 |  0.68833 |   223.1     \n",
      "| 252   | 0.99998 |  0.67283 |   223.8     \n",
      "| 253   | 0.99985 |  0.70377 |   224.7     \n",
      "| 254   | 1.00000 |  0.69101 |   225.7     \n",
      "| 255   | 0.99998 |  0.68627 |   226.5     \n",
      "| 256   | 1.00000 |  0.70028 |   227.4     \n",
      "| 257   | 0.99886 |  0.69138 |   228.2     \n",
      "| 258   | 0.99995 |  0.71821 |   228.9     \n",
      "Early stopping occured at epoch 258\n",
      "Training done in 228.930 seconds.\n",
      "---------------------------------------\n"
     ]
    }
   ],
   "source": [
    "\"\"\"\n",
    "#0.7445\n",
    "clf.fit(\n",
    "    X_train=X_train, y_train=y_train,\n",
    "    X_valid=X_valid, y_valid=y_valid,\n",
    "    max_epochs=max_epochs, patience=100,\n",
    "    batch_size=16384, virtual_batch_size=256\n",
    "    #weights=1\n",
    ")\n",
    "\n",
    "##0.8102\n",
    "clf.fit(\n",
    "    X_train=X_train, y_train=y_train,\n",
    "    X_valid=X_valid, y_valid=y_valid,\n",
    "    max_epochs=max_epochs, patience=100,\n",
    "    batch_size=16384, virtual_batch_size=256,\n",
    "    weights=1\n",
    ")\n",
    "\"\"\"\n",
    "#0.8248\n",
    "clf.fit(\n",
    "    X_train=X_train, y_train=y_train,\n",
    "    X_valid=X_valid, y_valid=y_valid,\n",
    "    max_epochs=max_epochs, patience=100,\n",
    "    batch_size=128, virtual_batch_size=256,\n",
    "    weights=1\n",
    ")"
   ]
  },
  {
   "cell_type": "code",
   "execution_count": 51,
   "metadata": {},
   "outputs": [
    {
     "data": {
      "text/plain": [
       "[<matplotlib.lines.Line2D at 0x7f2518f1c150>]"
      ]
     },
     "execution_count": 51,
     "metadata": {},
     "output_type": "execute_result"
    },
    {
     "data": {
      "image/png": "[encoded data removed]",
      "text/plain": [
       "<Figure size 432x288 with 1 Axes>"
      ]
     },
     "metadata": {
      "needs_background": "light"
     },
     "output_type": "display_data"
    }
   ],
   "source": [
    "# plot losses\n",
    "plt.plot(clf.history['train']['loss'])\n",
    "plt.plot(clf.history['valid']['loss'])"
   ]
  },
  {
   "cell_type": "code",
   "execution_count": 52,
   "metadata": {},
   "outputs": [
    {
     "data": {
      "text/plain": [
       "[<matplotlib.lines.Line2D at 0x7f2518dd2d50>]"
      ]
     },
     "execution_count": 52,
     "metadata": {},
     "output_type": "execute_result"
    },
    {
     "data": {
      "image/png": "[encoded data removed]",
      "text/plain": [
       "<Figure size 432x288 with 1 Axes>"
      ]
     },
     "metadata": {
      "needs_background": "light"
     },
     "output_type": "display_data"
    }
   ],
   "source": [
    "# plot accuracies\n",
    "plt.plot([-x for x in clf.history['train']['metric']])\n",
    "plt.plot([-x for x in clf.history['valid']['metric']])"
   ]
  },
  {
   "cell_type": "code",
   "execution_count": 53,
   "metadata": {},
   "outputs": [
    {
     "name": "stdout",
     "output_type": "stream",
     "text": [
      "FINAL TEST SCORE FOR teste : 0.8284671532846716\n"
     ]
    }
   ],
   "source": [
    "preds_mapper = { idx : class_name for idx, class_name in enumerate(clf.classes_)}\n",
    "\n",
    "preds = clf.predict_proba(X_test)\n",
    "\n",
    "y_pred = np.vectorize(preds_mapper.get)(np.argmax(preds, axis=1))\n",
    "\n",
    "test_acc = accuracy_score(y_pred=y_pred, y_true=y_test)\n",
    "\n",
    "print(f\"FINAL TEST SCORE FOR teste : {test_acc}\")"
   ]
  },
  {
   "cell_type": "code",
   "execution_count": 54,
   "metadata": {},
   "outputs": [
    {
     "name": "stdout",
     "output_type": "stream",
     "text": [
      "FINAL TEST SCORE FOR teste : 0.8284671532846716\n"
     ]
    }
   ],
   "source": [
    "# or you can simply use the predict method\n",
    "\n",
    "y_pred = clf.predict(X_test)\n",
    "test_acc = accuracy_score(y_pred=y_pred, y_true=y_test)\n",
    "print(f\"FINAL TEST SCORE FOR teste : {test_acc}\")"
   ]
  },
  {
   "cell_type": "code",
   "execution_count": 39,
   "metadata": {},
   "outputs": [],
   "source": [
    "#0.7445\n",
    "#0.8102\n",
    "#0.8248\n",
    "#0.8211\n",
    "#0.8284"
   ]
  },
  {
   "cell_type": "code",
   "execution_count": 55,
   "metadata": {},
   "outputs": [
    {
     "name": "stdout",
     "output_type": "stream",
     "text": [
      "              precision    recall  f1-score   support\n",
      "\n",
      "           0       0.90      0.89      0.90       230\n",
      "           1       0.47      0.50      0.48        44\n",
      "\n",
      "    accuracy                           0.83       274\n",
      "   macro avg       0.69      0.70      0.69       274\n",
      "weighted avg       0.83      0.83      0.83       274\n",
      "\n"
     ]
    }
   ],
   "source": [
    "# Relatório de Classificação\n",
    "print(classification_report(y_test, y_pred))"
   ]
  },
  {
   "cell_type": "code",
   "execution_count": 56,
   "metadata": {},
   "outputs": [
    {
     "data": {
      "text/plain": [
       "array([5.52697597e-02, 3.20021943e-02, 4.60083639e-02, 3.21403519e-02,\n",
       "       4.29147678e-02, 3.73866852e-03, 1.94627913e-02, 4.24703948e-02,\n",
       "       0.00000000e+00, 4.00217920e-03, 7.38915357e-02, 3.07196302e-02,\n",
       "       1.25034171e-02, 4.00568982e-02, 2.48406925e-04, 6.65161568e-02,\n",
       "       9.96392951e-02, 4.03640798e-02, 7.68364498e-02, 1.13762902e-03,\n",
       "       4.39135676e-02, 4.91122397e-02, 2.12022092e-02, 2.77660505e-05,\n",
       "       3.22956553e-02, 7.27958735e-02, 4.04161497e-03, 6.11227696e-03,\n",
       "       1.76641936e-04, 5.03991848e-02])"
      ]
     },
     "execution_count": 56,
     "metadata": {},
     "output_type": "execute_result"
    }
   ],
   "source": [
    "clf.feature_importances_"
   ]
  },
  {
   "cell_type": "code",
   "execution_count": 57,
   "metadata": {},
   "outputs": [],
   "source": [
    "explain_matrix, masks = clf.explain(X_test)"
   ]
  },
  {
   "cell_type": "code",
   "execution_count": 58,
   "metadata": {},
   "outputs": [
    {
     "data": {
      "image/png": "[encoded data removed]",
      "text/plain": [
       "<Figure size 1440x1440 with 5 Axes>"
      ]
     },
     "metadata": {
      "needs_background": "light"
     },
     "output_type": "display_data"
    }
   ],
   "source": [
    "fig, axs = plt.subplots(1, 5, figsize=(20,20))\n",
    "\n",
    "for i in range(5):\n",
    "    axs[i].imshow(masks[i][:50])\n",
    "    axs[i].set_title(f\"mask {i}\")"
   ]
  },
  {
   "cell_type": "code",
   "execution_count": 59,
   "metadata": {},
   "outputs": [
    {
     "name": "stdout",
     "output_type": "stream",
     "text": [
      "Successfully saved model at desafio-4-model.h5.zip\n"
     ]
    }
   ],
   "source": [
    "# save state dict\n",
    "saved_filename = clf.save_model('desafio-4-model.h5')"
   ]
  },
  {
   "cell_type": "code",
   "execution_count": 60,
   "metadata": {},
   "outputs": [
    {
     "name": "stdout",
     "output_type": "stream",
     "text": [
      "Device used : cpu\n",
      "Device used : cpu\n"
     ]
    }
   ],
   "source": [
    "# define new model and load save parameters\n",
    "loaded_clf = TabNetClassifier()\n",
    "loaded_clf.load_model(saved_filename)"
   ]
  },
  {
   "cell_type": "code",
   "execution_count": 61,
   "metadata": {},
   "outputs": [
    {
     "name": "stdout",
     "output_type": "stream",
     "text": [
      "FINAL TEST SCORE FOR teste : 0.8284671532846716\n"
     ]
    }
   ],
   "source": [
    "loaded_preds = loaded_clf.predict_proba(X_test)\n",
    "loaded_y_pred = np.vectorize(preds_mapper.get)(np.argmax(loaded_preds, axis=1))\n",
    "\n",
    "loaded_test_acc = accuracy_score(y_pred=loaded_y_pred, y_true=y_test)\n",
    "\n",
    "print(f\"FINAL TEST SCORE FOR teste : {loaded_test_acc}\")"
   ]
  },
  {
   "cell_type": "code",
   "execution_count": 62,
   "metadata": {},
   "outputs": [],
   "source": [
    "assert(test_acc == loaded_test_acc)"
   ]
  },
  {
   "cell_type": "code",
   "execution_count": null,
   "metadata": {},
   "outputs": [],
   "source": []
  },
  {
   "cell_type": "code",
   "execution_count": null,
   "metadata": {},
   "outputs": [],
   "source": []
  },
  {
   "cell_type": "code",
   "execution_count": null,
   "metadata": {},
   "outputs": [],
   "source": []
  },
  {
   "cell_type": "code",
   "execution_count": 63,
   "metadata": {},
   "outputs": [],
   "source": [
    "class TabNetTuner(TabNetClassifier):\n",
    "    def fit(self, X, y, *args, **kwargs):\n",
    "        \n",
    "        self.n_d = self.n_a\n",
    "        \n",
    "        X_train, X_valid, y_train, y_valid = train_test_split(\n",
    "            X, y, test_size=0.2, \n",
    "            random_state=42, \n",
    "            shuffle=True, \n",
    "            stratify=y\n",
    "        )\n",
    "        \n",
    "        return super().fit(\n",
    "            X_train,y_train,\n",
    "            patience=100,\n",
    "            X_valid=X_valid,y_valid=y_valid,\n",
    "            num_workers=os.cpu_count(),max_epochs=100, \n",
    "            batch_size=1024, virtual_batch_size=256\n",
    "        )"
   ]
  },
  {
   "cell_type": "code",
   "execution_count": 64,
   "metadata": {},
   "outputs": [
    {
     "name": "stdout",
     "output_type": "stream",
     "text": [
      "Device used : cpu\n"
     ]
    }
   ],
   "source": [
    "# define tuner\n",
    "tb = TabNetTuner()\n",
    "\n",
    "grid = {\n",
    "    \"n_d\": [8, 16, 32, 64],\n",
    "    \"n_a\": [8, 16, 32, 64],\n",
    "    \"n_independent\": [1, 2, 3, 4, 5],\n",
    "    \"n_shared\": [1, 2, 3, 4, 5], \n",
    "    \"n_steps\": [3, 5, 8],\n",
    "    \"clip_value\": [1.],\n",
    "    \"gamma\": [0.5, 1.3, 1.8, 2.],\n",
    "    \"momentum\": [0.1, 0.05, 0.02, 0.005],\n",
    "    \"lambda_sparse\": [0.1, 0.01, 0.001],\n",
    "    #\"lr\": [0.1, 0.02, 0.001, 0.005],\n",
    "    \"verbose\": [1]\n",
    "}\n",
    "\n",
    "# define searching object\n",
    "rand_search = RandomizedSearchCV(\n",
    "    tb, grid, n_iter=20,\n",
    "    scoring=\"roc_auc\",n_jobs=1,\n",
    "    iid=False,refit=False,\n",
    "    cv=[(train_indices, valid_indices)],\n",
    "    verbose=1,pre_dispatch=0,\n",
    "    random_state=42,\n",
    "    return_train_score=False,\n",
    ")"
   ]
  },
  {
   "cell_type": "code",
   "execution_count": 65,
   "metadata": {},
   "outputs": [
    {
     "name": "stdout",
     "output_type": "stream",
     "text": [
      "['Departmento', 'Satisfação com o ambiente no emprego atual', 'Estado civil', 'Genero', 'Beneficios', 'Distancia casa-trabalho', 'Pontuação teste', 'Necessita de hora extra', 'Performance na entrevista', 'Envolvimento com trabalho', 'Satisfação com emprego', 'Area', 'Anos na posição atual', 'Anos com a mesma gerência', 'Posicao', 'Local de trabalho', 'Bonus de performance', 'Anos desde última promoção', 'Quantidade de empresas que trabalho', 'Aumento de salario%', 'Horas de treinamento ultimo ano', 'Educacao', 'Renda', 'Anos de experiencia', 'Anos na última empresa', 'Cargo', 'Satisfação com a relação', 'Horas voluntariado', 'Idade', 'Estilo de vida'] (1370, 30)\n",
      "Contratar (1370,)\n"
     ]
    }
   ],
   "source": [
    "if \"Set\" not in treino.columns:\n",
    "    treino[\"Set\"] = np.random.choice(\n",
    "        [\"train\", \"valid\"], p=[0.8, 0.2], size=(treino.shape[0],)\n",
    "    )\n",
    "    \n",
    "train_indices = treino[treino.Set == \"train\"].index\n",
    "valid_indices = treino[treino.Set == \"valid\"].index\n",
    "\n",
    "# get relevant features\n",
    "features = list(set(treino.columns.tolist()) - set(['Contratar']) -\n",
    "                set([\"Set\"]) - set(['fold']) - set(['stratify_group']))\n",
    "\n",
    "X = treino[features].values\n",
    "y = treino[target].values\n",
    "\n",
    "print(features, X.shape)\n",
    "print(target, y.shape)"
   ]
  },
  {
   "cell_type": "code",
   "execution_count": 66,
   "metadata": {},
   "outputs": [
    {
     "name": "stdout",
     "output_type": "stream",
     "text": [
      "Device used : cpu\n",
      "Fitting 1 folds for each of 20 candidates, totalling 20 fits\n",
      "Device used : cpu\n",
      "Device used : cpu\n",
      "Device used : cpu\n",
      "Device used : cpu\n",
      "Device used : cpu\n",
      "Device used : cpu\n",
      "Device used : cpu\n",
      "Device used : cpu\n",
      "Device used : cpu\n",
      "Device used : cpu\n",
      "Device used : cpu\n",
      "Device used : cpu\n",
      "Device used : cpu\n",
      "Device used : cpu\n",
      "Device used : cpu\n",
      "Device used : cpu\n",
      "Device used : cpu\n",
      "Device used : cpu\n",
      "Device used : cpu\n",
      "Device used : cpu\n"
     ]
    },
    {
     "name": "stderr",
     "output_type": "stream",
     "text": [
      "[Parallel(n_jobs=1)]: Using backend SequentialBackend with 1 concurrent workers.\n",
      "[Parallel(n_jobs=1)]: Done  20 out of  20 | elapsed:    0.1s finished\n"
     ]
    },
    {
     "data": {
      "text/plain": [
       "{'verbose': 1,\n",
       " 'n_steps': 5,\n",
       " 'n_shared': 3,\n",
       " 'n_independent': 2,\n",
       " 'n_d': 8,\n",
       " 'n_a': 8,\n",
       " 'momentum': 0.005,\n",
       " 'lambda_sparse': 0.001,\n",
       " 'gamma': 2.0,\n",
       " 'clip_value': 1.0}"
      ]
     },
     "execution_count": 66,
     "metadata": {},
     "output_type": "execute_result"
    }
   ],
   "source": [
    "rand_search.fit(X, y)\n",
    "rand_search.best_params_"
   ]
  },
  {
   "cell_type": "code",
   "execution_count": 67,
   "metadata": {},
   "outputs": [
    {
     "name": "stdout",
     "output_type": "stream",
     "text": [
      "Device used : cpu\n"
     ]
    }
   ],
   "source": [
    "tab_net = TabNetClassifier(**rand_search.best_params_)\n",
    "\n",
    "def fold_generator(fold):\n",
    "    print('Fold Number: ', fold)\n",
    "    \n",
    "    train_labels = treino[treino.fold != fold].reset_index(drop=True)\n",
    "    val_labels   = treino[treino.fold == fold].reset_index(drop=True)\n",
    "    \n",
    "    X_train = train_labels[features].values\n",
    "    y_train = train_labels[label].values.squeeze(1)\n",
    "    \n",
    "    X_val   = val_labels[features].values\n",
    "    y_val   = val_labels[label].values.squeeze(1)\n",
    "    \n",
    "    print(X_train.shape)\n",
    "    print(y_train.shape)\n",
    "\n",
    "    tab_net.fit(X_train,y_train,\n",
    "              X_val,y_val,weights=1,\n",
    "              max_epochs=10,patience=7, \n",
    "              batch_size=2048, virtual_batch_size=512,\n",
    "              num_workers=0,drop_last=False)\n",
    "    \n",
    "    print(\"Validation score: {:<8.5f}\".format(roc_auc_score(y_val,\n",
    "                                                            tab_net.predict_proba(X_val)[:,1])))\n",
    "    \n",
    "    test[fold] = tab_net.predict_proba(test[features].values)[:,1]"
   ]
  },
  {
   "cell_type": "code",
   "execution_count": 68,
   "metadata": {},
   "outputs": [
    {
     "name": "stdout",
     "output_type": "stream",
     "text": [
      "Fold Number:  0\n"
     ]
    },
    {
     "ename": "AttributeError",
     "evalue": "'DataFrame' object has no attribute 'fold'",
     "output_type": "error",
     "traceback": [
      "\u001b[0;31m---------------------------------------------------------------------------\u001b[0m",
      "\u001b[0;31mAttributeError\u001b[0m                            Traceback (most recent call last)",
      "\u001b[0;32m<ipython-input-68-1ba27ea0fe7b>\u001b[0m in \u001b[0;36m<module>\u001b[0;34m\u001b[0m\n\u001b[0;32m----> 1\u001b[0;31m \u001b[0;34m[\u001b[0m\u001b[0mfold_generator\u001b[0m\u001b[0;34m(\u001b[0m\u001b[0mi\u001b[0m\u001b[0;34m)\u001b[0m \u001b[0;32mfor\u001b[0m \u001b[0mi\u001b[0m \u001b[0;32min\u001b[0m \u001b[0mrange\u001b[0m\u001b[0;34m(\u001b[0m\u001b[0;36m3\u001b[0m\u001b[0;34m)\u001b[0m\u001b[0;34m]\u001b[0m\u001b[0;34m\u001b[0m\u001b[0;34m\u001b[0m\u001b[0m\n\u001b[0m",
      "\u001b[0;32m<ipython-input-68-1ba27ea0fe7b>\u001b[0m in \u001b[0;36m<listcomp>\u001b[0;34m(.0)\u001b[0m\n\u001b[0;32m----> 1\u001b[0;31m \u001b[0;34m[\u001b[0m\u001b[0mfold_generator\u001b[0m\u001b[0;34m(\u001b[0m\u001b[0mi\u001b[0m\u001b[0;34m)\u001b[0m \u001b[0;32mfor\u001b[0m \u001b[0mi\u001b[0m \u001b[0;32min\u001b[0m \u001b[0mrange\u001b[0m\u001b[0;34m(\u001b[0m\u001b[0;36m3\u001b[0m\u001b[0;34m)\u001b[0m\u001b[0;34m]\u001b[0m\u001b[0;34m\u001b[0m\u001b[0;34m\u001b[0m\u001b[0m\n\u001b[0m",
      "\u001b[0;32m<ipython-input-67-ab9e133d6342>\u001b[0m in \u001b[0;36mfold_generator\u001b[0;34m(fold)\u001b[0m\n\u001b[1;32m      4\u001b[0m     \u001b[0mprint\u001b[0m\u001b[0;34m(\u001b[0m\u001b[0;34m'Fold Number: '\u001b[0m\u001b[0;34m,\u001b[0m \u001b[0mfold\u001b[0m\u001b[0;34m)\u001b[0m\u001b[0;34m\u001b[0m\u001b[0;34m\u001b[0m\u001b[0m\n\u001b[1;32m      5\u001b[0m \u001b[0;34m\u001b[0m\u001b[0m\n\u001b[0;32m----> 6\u001b[0;31m     \u001b[0mtrain_labels\u001b[0m \u001b[0;34m=\u001b[0m \u001b[0mtreino\u001b[0m\u001b[0;34m[\u001b[0m\u001b[0mtreino\u001b[0m\u001b[0;34m.\u001b[0m\u001b[0mfold\u001b[0m \u001b[0;34m!=\u001b[0m \u001b[0mfold\u001b[0m\u001b[0;34m]\u001b[0m\u001b[0;34m.\u001b[0m\u001b[0mreset_index\u001b[0m\u001b[0;34m(\u001b[0m\u001b[0mdrop\u001b[0m\u001b[0;34m=\u001b[0m\u001b[0;32mTrue\u001b[0m\u001b[0;34m)\u001b[0m\u001b[0;34m\u001b[0m\u001b[0;34m\u001b[0m\u001b[0m\n\u001b[0m\u001b[1;32m      7\u001b[0m     \u001b[0mval_labels\u001b[0m   \u001b[0;34m=\u001b[0m \u001b[0mtreino\u001b[0m\u001b[0;34m[\u001b[0m\u001b[0mtreino\u001b[0m\u001b[0;34m.\u001b[0m\u001b[0mfold\u001b[0m \u001b[0;34m==\u001b[0m \u001b[0mfold\u001b[0m\u001b[0;34m]\u001b[0m\u001b[0;34m.\u001b[0m\u001b[0mreset_index\u001b[0m\u001b[0;34m(\u001b[0m\u001b[0mdrop\u001b[0m\u001b[0;34m=\u001b[0m\u001b[0;32mTrue\u001b[0m\u001b[0;34m)\u001b[0m\u001b[0;34m\u001b[0m\u001b[0;34m\u001b[0m\u001b[0m\n\u001b[1;32m      8\u001b[0m \u001b[0;34m\u001b[0m\u001b[0m\n",
      "\u001b[0;32m~/anaconda3/lib/python3.7/site-packages/pandas/core/generic.py\u001b[0m in \u001b[0;36m__getattr__\u001b[0;34m(self, name)\u001b[0m\n\u001b[1;32m   5134\u001b[0m             \u001b[0;32mif\u001b[0m \u001b[0mself\u001b[0m\u001b[0;34m.\u001b[0m\u001b[0m_info_axis\u001b[0m\u001b[0;34m.\u001b[0m\u001b[0m_can_hold_identifiers_and_holds_name\u001b[0m\u001b[0;34m(\u001b[0m\u001b[0mname\u001b[0m\u001b[0;34m)\u001b[0m\u001b[0;34m:\u001b[0m\u001b[0;34m\u001b[0m\u001b[0;34m\u001b[0m\u001b[0m\n\u001b[1;32m   5135\u001b[0m                 \u001b[0;32mreturn\u001b[0m \u001b[0mself\u001b[0m\u001b[0;34m[\u001b[0m\u001b[0mname\u001b[0m\u001b[0;34m]\u001b[0m\u001b[0;34m\u001b[0m\u001b[0;34m\u001b[0m\u001b[0m\n\u001b[0;32m-> 5136\u001b[0;31m             \u001b[0;32mreturn\u001b[0m \u001b[0mobject\u001b[0m\u001b[0;34m.\u001b[0m\u001b[0m__getattribute__\u001b[0m\u001b[0;34m(\u001b[0m\u001b[0mself\u001b[0m\u001b[0;34m,\u001b[0m \u001b[0mname\u001b[0m\u001b[0;34m)\u001b[0m\u001b[0;34m\u001b[0m\u001b[0;34m\u001b[0m\u001b[0m\n\u001b[0m\u001b[1;32m   5137\u001b[0m \u001b[0;34m\u001b[0m\u001b[0m\n\u001b[1;32m   5138\u001b[0m     \u001b[0;32mdef\u001b[0m \u001b[0m__setattr__\u001b[0m\u001b[0;34m(\u001b[0m\u001b[0mself\u001b[0m\u001b[0;34m,\u001b[0m \u001b[0mname\u001b[0m\u001b[0;34m:\u001b[0m \u001b[0mstr\u001b[0m\u001b[0;34m,\u001b[0m \u001b[0mvalue\u001b[0m\u001b[0;34m)\u001b[0m \u001b[0;34m->\u001b[0m \u001b[0;32mNone\u001b[0m\u001b[0;34m:\u001b[0m\u001b[0;34m\u001b[0m\u001b[0;34m\u001b[0m\u001b[0m\n",
      "\u001b[0;31mAttributeError\u001b[0m: 'DataFrame' object has no attribute 'fold'"
     ]
    }
   ],
   "source": [
    "[fold_generator(i) for i in range(3)] "
   ]
  },
  {
   "cell_type": "code",
   "execution_count": null,
   "metadata": {},
   "outputs": [],
   "source": []
  }
 ],
 "metadata": {
  "kernelspec": {
   "display_name": "Python 3",
   "language": "python",
   "name": "python3"
  },
  "language_info": {
   "codemirror_mode": {
    "name": "ipython",
    "version": 3
   },
   "file_extension": ".py",
   "mimetype": "text/x-python",
   "name": "python",
   "nbconvert_exporter": "python",
   "pygments_lexer": "ipython3",
   "version": "3.7.4"
  }
 },
 "nbformat": 4,
 "nbformat_minor": 1
}
