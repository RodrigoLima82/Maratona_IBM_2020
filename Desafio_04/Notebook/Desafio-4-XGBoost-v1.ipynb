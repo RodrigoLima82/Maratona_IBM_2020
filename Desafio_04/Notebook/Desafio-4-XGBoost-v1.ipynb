{
 "cells": [
  {
   "cell_type": "markdown",
   "metadata": {
    "collapsed": true
   },
   "source": [
    "# MARATONA BEHIND THE CODE 2020\n",
    "\n",
    "## DESAFIO 2: PARTE 2"
   ]
  },
  {
   "cell_type": "code",
   "execution_count": 1,
   "metadata": {},
   "outputs": [
    {
     "name": "stdout",
     "output_type": "stream",
     "text": [
      "Requirement already up-to-date: scikit-learn==0.20.0 in /opt/conda/envs/Python36/lib/python3.6/site-packages (0.20.0)\r\n",
      "Requirement already satisfied, skipping upgrade: scipy>=0.13.3 in /opt/conda/envs/Python36/lib/python3.6/site-packages (from scikit-learn==0.20.0) (1.2.0)\r\n",
      "Requirement already satisfied, skipping upgrade: numpy>=1.8.2 in /opt/conda/envs/Python36/lib/python3.6/site-packages (from scikit-learn==0.20.0) (1.19.1)\r\n"
     ]
    }
   ],
   "source": [
    "!pip install scikit-learn==0.20.0 --upgrade"
   ]
  },
  {
   "cell_type": "code",
   "execution_count": 2,
   "metadata": {},
   "outputs": [],
   "source": [
    "!rm -r -f sklearn_transforms"
   ]
  },
  {
   "cell_type": "code",
   "execution_count": 3,
   "metadata": {},
   "outputs": [
    {
     "name": "stdout",
     "output_type": "stream",
     "text": [
      "Cloning into 'sklearn_transforms'...\n",
      "remote: Enumerating objects: 60, done.\u001b[K\n",
      "remote: Counting objects: 100% (60/60), done.\u001b[K\n",
      "remote: Compressing objects: 100% (56/56), done.\u001b[K\n",
      "remote: Total 60 (delta 28), reused 11 (delta 0), pack-reused 0\u001b[K\n",
      "Unpacking objects: 100% (60/60), done.\n"
     ]
    }
   ],
   "source": [
    "# substitua o link abaixo pelo link do seu repositório git (se for o caso)\n",
    "!git clone https://github.com/rodrigolima82/sklearn_transforms.git"
   ]
  },
  {
   "cell_type": "code",
   "execution_count": 4,
   "metadata": {},
   "outputs": [
    {
     "name": "stdout",
     "output_type": "stream",
     "text": [
      "total 80\r\n",
      "-rw-r----- 1 dsxuser dsxuser 76716 Aug 26 01:57 sklearn_transforms.zip\r\n",
      "drwxr-x--- 6 dsxuser dsxuser  4096 Aug 26 01:59 sklearn_transforms\r\n"
     ]
    }
   ],
   "source": [
    "!cd sklearn_transforms\n",
    "!ls -ltr"
   ]
  },
  {
   "cell_type": "code",
   "execution_count": 5,
   "metadata": {},
   "outputs": [
    {
     "name": "stdout",
     "output_type": "stream",
     "text": [
      "updating: sklearn_transforms/ (stored 0%)\r\n",
      "updating: sklearn_transforms/setup.py (deflated 47%)\r\n",
      "updating: sklearn_transforms/dist/ (stored 0%)\r\n",
      "updating: sklearn_transforms/dist/my_custom_sklearn_transforms-1.0-py2.7.egg (deflated 15%)\r\n",
      "updating: sklearn_transforms/my_custom_sklearn_transforms.egg-info/ (stored 0%)\r\n",
      "updating: sklearn_transforms/my_custom_sklearn_transforms.egg-info/SOURCES.txt (deflated 63%)\r\n",
      "updating: sklearn_transforms/my_custom_sklearn_transforms.egg-info/PKG-INFO (deflated 38%)\r\n",
      "updating: sklearn_transforms/my_custom_sklearn_transforms.egg-info/top_level.txt (stored 0%)\r\n",
      "updating: sklearn_transforms/my_custom_sklearn_transforms.egg-info/not-zip-safe (stored 0%)\r\n",
      "updating: sklearn_transforms/my_custom_sklearn_transforms.egg-info/dependency_links.txt (stored 0%)\r\n",
      "updating: sklearn_transforms/my_custom_sklearn_transforms/ (stored 0%)\r\n",
      "updating: sklearn_transforms/my_custom_sklearn_transforms/__init__.py (stored 0%)\r\n",
      "updating: sklearn_transforms/my_custom_sklearn_transforms/sklearn_transformers.py (deflated 75%)\r\n",
      "updating: sklearn_transforms/PKG-INFO (deflated 32%)\r\n",
      "updating: sklearn_transforms/README.md (deflated 4%)\r\n",
      "updating: sklearn_transforms/setup.cfg (deflated 16%)\r\n",
      "updating: sklearn_transforms/.git/ (stored 0%)\r\n",
      "updating: sklearn_transforms/.git/objects/ (stored 0%)\r\n",
      "updating: sklearn_transforms/.git/objects/42/ (stored 0%)\r\n",
      "updating: sklearn_transforms/.git/objects/42/511ec384d06729e52ec4dee677dd17ffa1c13d (stored 0%)\r\n",
      "updating: sklearn_transforms/.git/objects/93/ (stored 0%)\r\n",
      "updating: sklearn_transforms/.git/objects/93/31e8e4ef2900b4e72dc225838d108257281900 (stored 0%)\r\n",
      "updating: sklearn_transforms/.git/objects/a4/ (stored 0%)\r\n",
      "updating: sklearn_transforms/.git/objects/a4/789b6322bc7ecdd9d5fd56e7f24a01ae683c9e (stored 0%)\r\n",
      "updating: sklearn_transforms/.git/objects/29/ (stored 0%)\r\n",
      "updating: sklearn_transforms/.git/objects/29/8f4729234b29b0a039add996dae1196841175b (stored 0%)\r\n",
      "updating: sklearn_transforms/.git/objects/c4/ (stored 0%)\r\n",
      "updating: sklearn_transforms/.git/objects/c4/2a7dae828cef566cae027124db5bc974e76d84 (stored 0%)\r\n",
      "updating: sklearn_transforms/.git/objects/65/ (stored 0%)\r\n",
      "updating: sklearn_transforms/.git/objects/65/bf22a7cd694f5f5002479d2fd9d4451b437553 (stored 0%)\r\n",
      "updating: sklearn_transforms/.git/objects/2c/ (stored 0%)\r\n",
      "updating: sklearn_transforms/.git/objects/2c/e5ba12e051db95ded589197c5b6a09c0d28c89 (stored 0%)\r\n",
      "updating: sklearn_transforms/.git/objects/ee/ (stored 0%)\r\n",
      "updating: sklearn_transforms/.git/objects/ee/f976cf6a4f2dbed3a8692fe6e480c39b19ef8f (stored 0%)\r\n",
      "updating: sklearn_transforms/.git/objects/ee/70d7ab1a0b013db1dbef63b9a10874dfcb1f33 (stored 0%)\r\n",
      "updating: sklearn_transforms/.git/objects/32/ (stored 0%)\r\n",
      "updating: sklearn_transforms/.git/objects/32/b1cfe0397a13a37011a85fefb15cc85fba3e05 (stored 0%)\r\n",
      "updating: sklearn_transforms/.git/objects/96/ (stored 0%)\r\n",
      "updating: sklearn_transforms/.git/objects/96/6603821cdb8595696103ccd918e5a640599d93 (stored 0%)\r\n",
      "updating: sklearn_transforms/.git/objects/fd/ (stored 0%)\r\n",
      "updating: sklearn_transforms/.git/objects/fd/7d1070e6239382d8e4f302bf4f1e31270f6d4e (stored 0%)\r\n",
      "updating: sklearn_transforms/.git/objects/fd/aa1f1b5b5ff6d2fca32e571a632dcadc8c2051 (stored 0%)\r\n",
      "updating: sklearn_transforms/.git/objects/a6/ (stored 0%)\r\n",
      "updating: sklearn_transforms/.git/objects/a6/e7b80c99aa50479f36b077b4eac179195725e8 (stored 0%)\r\n",
      "updating: sklearn_transforms/.git/objects/61/ (stored 0%)\r\n",
      "updating: sklearn_transforms/.git/objects/61/d0f1901ce9e38950f4f6065b3688d4c4c8bf20 (stored 0%)\r\n",
      "updating: sklearn_transforms/.git/objects/ea/ (stored 0%)\r\n",
      "updating: sklearn_transforms/.git/objects/ea/abff4e1b401a9b5714b45405ade654533ebcf6 (stored 0%)\r\n",
      "updating: sklearn_transforms/.git/objects/13/ (stored 0%)\r\n",
      "updating: sklearn_transforms/.git/objects/13/9dbc0ac3c7cce9b803b98c1db5c2630b667eca (stored 0%)\r\n",
      "updating: sklearn_transforms/.git/objects/13/8296ddcbeca0a20b4547064faaeb6cf5a88e50 (stored 0%)\r\n",
      "updating: sklearn_transforms/.git/objects/b2/ (stored 0%)\r\n",
      "updating: sklearn_transforms/.git/objects/b2/3d99196d8d076d4c030f349cc8a8d106481c92 (stored 0%)\r\n",
      "updating: sklearn_transforms/.git/objects/a1/ (stored 0%)\r\n",
      "updating: sklearn_transforms/.git/objects/a1/cbc9f6a7fe9bc611edb0f67c03078eebe8a370 (stored 0%)\r\n",
      "updating: sklearn_transforms/.git/objects/a1/2be985aca5b26b552da3d8ab4151ac3462a72e (stored 0%)\r\n",
      "updating: sklearn_transforms/.git/objects/23/ (stored 0%)\r\n",
      "updating: sklearn_transforms/.git/objects/23/614abee5fa4a462d37670df3efac4a3744092a (stored 0%)\r\n",
      "updating: sklearn_transforms/.git/objects/info/ (stored 0%)\r\n",
      "updating: sklearn_transforms/.git/objects/ba/ (stored 0%)\r\n",
      "updating: sklearn_transforms/.git/objects/ba/32b18e95c371dae4f119e0d04ac9773d4f8c1c (stored 0%)\r\n",
      "updating: sklearn_transforms/.git/objects/94/ (stored 0%)\r\n",
      "updating: sklearn_transforms/.git/objects/94/0379645d0b92cdacfeb65bd70f77ae177bf402 (stored 0%)\r\n",
      "updating: sklearn_transforms/.git/objects/7c/ (stored 0%)\r\n",
      "updating: sklearn_transforms/.git/objects/7c/d2a4ad0c586b1ade98d8e39b603a39c3ed014a (stored 0%)\r\n",
      "updating: sklearn_transforms/.git/objects/00/ (stored 0%)\r\n",
      "updating: sklearn_transforms/.git/objects/00/526b236b0ad9d95b26a7b39cfeb297c1aacf50 (stored 0%)\r\n",
      "updating: sklearn_transforms/.git/objects/bd/ (stored 0%)\r\n",
      "updating: sklearn_transforms/.git/objects/bd/31b188da3c2d3fd72909206bf891bf4fcdc4f4 (stored 0%)\r\n",
      "updating: sklearn_transforms/.git/objects/4a/ (stored 0%)\r\n",
      "updating: sklearn_transforms/.git/objects/4a/235933547ef4ba70b16bda36e64fc11bbc387d (stored 0%)\r\n",
      "updating: sklearn_transforms/.git/objects/04/ (stored 0%)\r\n",
      "updating: sklearn_transforms/.git/objects/04/b1ff2d79c9b11a1d494b6f6d42acb629236af4 (stored 0%)\r\n",
      "updating: sklearn_transforms/.git/objects/5a/ (stored 0%)\r\n",
      "updating: sklearn_transforms/.git/objects/5a/3ff4bc6d0808edbdaf49557638e14fb20e565d (stored 0%)\r\n",
      "updating: sklearn_transforms/.git/objects/5a/60306a70e3d4159c6b7df4c61ce37d7d6ef1ca (stored 0%)\r\n",
      "updating: sklearn_transforms/.git/objects/c6/ (stored 0%)\r\n",
      "updating: sklearn_transforms/.git/objects/c6/21826a38697c9f3e3fa3ff40455de7f7102232 (stored 0%)\r\n",
      "updating: sklearn_transforms/.git/objects/a2/ (stored 0%)\r\n",
      "updating: sklearn_transforms/.git/objects/a2/e1e8bc7555b6f25cac5c82d327189a0d4cb5ce (stored 0%)\r\n",
      "updating: sklearn_transforms/.git/objects/59/ (stored 0%)\r\n",
      "updating: sklearn_transforms/.git/objects/59/c38453b6434916c6226a9b0a9957c4024e6c96 (stored 0%)\r\n",
      "updating: sklearn_transforms/.git/objects/5d/ (stored 0%)\r\n",
      "updating: sklearn_transforms/.git/objects/5d/2e92d9e61bc2e01e8b358af66322f2ea02d4a8 (stored 0%)\r\n",
      "updating: sklearn_transforms/.git/objects/7d/ (stored 0%)\r\n",
      "updating: sklearn_transforms/.git/objects/7d/c3ff151ae88091213bf95b5fedfeb787d92b89 (stored 0%)\r\n",
      "updating: sklearn_transforms/.git/objects/7d/838eb72410b3d1c51c6fa04fea190868feaa51 (stored 0%)\r\n",
      "updating: sklearn_transforms/.git/objects/3e/ (stored 0%)\r\n",
      "updating: sklearn_transforms/.git/objects/3e/d1ff8a4d8579b6c6605c8c0cc2046f7052692b (stored 0%)\r\n",
      "updating: sklearn_transforms/.git/objects/4b/ (stored 0%)\r\n",
      "updating: sklearn_transforms/.git/objects/4b/f5f61a51c600404209d02aec811fce45c36eb0 (stored 0%)\r\n",
      "updating: sklearn_transforms/.git/objects/e3/ (stored 0%)\r\n",
      "updating: sklearn_transforms/.git/objects/e3/9c3788ab584e88333435e79e56384e0de4122e (stored 0%)\r\n",
      "updating: sklearn_transforms/.git/objects/53/ (stored 0%)\r\n",
      "updating: sklearn_transforms/.git/objects/53/91aee5339073511e22fab88f3c544838f7aacc (stored 0%)\r\n",
      "updating: sklearn_transforms/.git/objects/53/b3492412a435597e0e0458b468f73b8694c458 (stored 0%)\r\n",
      "updating: sklearn_transforms/.git/objects/e6/ (stored 0%)\r\n",
      "updating: sklearn_transforms/.git/objects/e6/9de29bb2d1d6434b8b29ae775ad8c2e48c5391 (stored 0%)\r\n",
      "updating: sklearn_transforms/.git/objects/8b/ (stored 0%)\r\n",
      "updating: sklearn_transforms/.git/objects/8b/6dc25b6021c9bb617a9fa4abed189387004eb9 (stored 0%)\r\n",
      "updating: sklearn_transforms/.git/objects/8b/137891791fe96927ad78e64b0aad7bded08bdc (stored 0%)\r\n",
      "updating: sklearn_transforms/.git/objects/6d/ (stored 0%)\r\n",
      "updating: sklearn_transforms/.git/objects/6d/04ce4511952f3539a1788922e3fe584827a210 (stored 0%)\r\n",
      "updating: sklearn_transforms/.git/objects/d0/ (stored 0%)\r\n",
      "updating: sklearn_transforms/.git/objects/d0/4d8adf3dbf886c5799f7f367168b0785f0a4f5 (stored 0%)\r\n",
      "updating: sklearn_transforms/.git/objects/9f/ (stored 0%)\r\n",
      "updating: sklearn_transforms/.git/objects/9f/b140ccf635ba8797204220bfd5c03cbbf74386 (stored 0%)\r\n",
      "updating: sklearn_transforms/.git/objects/39/ (stored 0%)\r\n",
      "updating: sklearn_transforms/.git/objects/39/ebc4fb3b864501873c064d131bcb28788d2813 (stored 0%)\r\n",
      "updating: sklearn_transforms/.git/objects/pack/ (stored 0%)\r\n",
      "updating: sklearn_transforms/.git/objects/6a/ (stored 0%)\r\n",
      "updating: sklearn_transforms/.git/objects/6a/b75de362cff54c15227badd895d36df20d1778 (stored 0%)\r\n",
      "updating: sklearn_transforms/.git/objects/77/ (stored 0%)\r\n",
      "updating: sklearn_transforms/.git/objects/77/fbad41414cc3b6dad2c99874872ac170b7ea79 (stored 0%)\r\n",
      "updating: sklearn_transforms/.git/objects/f8/ (stored 0%)\r\n",
      "updating: sklearn_transforms/.git/objects/f8/8f05b9b0783b6496b5c6f445482aba8107094f (stored 0%)\r\n",
      "updating: sklearn_transforms/.git/objects/c5/ (stored 0%)\r\n",
      "updating: sklearn_transforms/.git/objects/c5/fc1d3a40b3d386a225e5c61bff0d60e13fd7d3 (stored 0%)\r\n",
      "updating: sklearn_transforms/.git/objects/fc/ (stored 0%)\r\n",
      "updating: sklearn_transforms/.git/objects/fc/05be18786b4211b663668b27ee2f5cdeb3d60f (stored 0%)\r\n",
      "updating: sklearn_transforms/.git/HEAD (stored 0%)\r\n",
      "updating: sklearn_transforms/.git/branches/ (stored 0%)\r\n",
      "updating: sklearn_transforms/.git/description (deflated 14%)\r\n",
      "updating: sklearn_transforms/.git/hooks/ (stored 0%)\r\n",
      "updating: sklearn_transforms/.git/hooks/pre-push.sample (deflated 50%)\r\n",
      "updating: sklearn_transforms/.git/hooks/pre-applypatch.sample (deflated 36%)\r\n",
      "updating: sklearn_transforms/.git/hooks/pre-rebase.sample (deflated 59%)\r\n",
      "updating: sklearn_transforms/.git/hooks/commit-msg.sample (deflated 44%)\r\n",
      "updating: sklearn_transforms/.git/hooks/prepare-commit-msg.sample (deflated 46%)\r\n",
      "updating: sklearn_transforms/.git/hooks/update.sample (deflated 68%)\r\n",
      "updating: sklearn_transforms/.git/hooks/pre-commit.sample (deflated 46%)\r\n",
      "updating: sklearn_transforms/.git/hooks/applypatch-msg.sample (deflated 41%)\r\n",
      "updating: sklearn_transforms/.git/hooks/post-update.sample (deflated 27%)\r\n",
      "updating: sklearn_transforms/.git/logs/ (stored 0%)\r\n",
      "updating: sklearn_transforms/.git/logs/HEAD (deflated 28%)\r\n",
      "updating: sklearn_transforms/.git/logs/refs/ (stored 0%)\r\n",
      "updating: sklearn_transforms/.git/logs/refs/heads/ (stored 0%)\r\n",
      "updating: sklearn_transforms/.git/logs/refs/heads/master (deflated 28%)\r\n",
      "updating: sklearn_transforms/.git/logs/refs/remotes/ (stored 0%)\r\n",
      "updating: sklearn_transforms/.git/logs/refs/remotes/origin/ (stored 0%)\r\n",
      "updating: sklearn_transforms/.git/logs/refs/remotes/origin/HEAD (deflated 28%)\r\n",
      "updating: sklearn_transforms/.git/info/ (stored 0%)\r\n",
      "updating: sklearn_transforms/.git/info/exclude (deflated 28%)\r\n",
      "updating: sklearn_transforms/.git/index (deflated 53%)\r\n",
      "updating: sklearn_transforms/.git/refs/ (stored 0%)\r\n",
      "updating: sklearn_transforms/.git/refs/heads/ (stored 0%)\r\n",
      "updating: sklearn_transforms/.git/refs/heads/master (stored 0%)\r\n",
      "updating: sklearn_transforms/.git/refs/remotes/ (stored 0%)\r\n",
      "updating: sklearn_transforms/.git/refs/remotes/origin/ (stored 0%)\r\n",
      "updating: sklearn_transforms/.git/refs/remotes/origin/HEAD (stored 0%)\r\n",
      "updating: sklearn_transforms/.git/refs/tags/ (stored 0%)\r\n",
      "updating: sklearn_transforms/.git/config (deflated 34%)\r\n",
      "updating: sklearn_transforms/.git/packed-refs (deflated 9%)\r\n",
      "updating: sklearn_transforms/.git/objects/44/ (stored 0%)\r\n",
      "updating: sklearn_transforms/.git/objects/44/d203d5a159d7bb99e0ec95e6a823b8c0b60579 (stored 0%)\r\n",
      "updating: sklearn_transforms/.git/objects/9d/ (stored 0%)\r\n",
      "updating: sklearn_transforms/.git/objects/9d/187905bccedaa5c52b5479b87c446bc8eab956 (stored 0%)\r\n",
      "updating: sklearn_transforms/.git/objects/35/ (stored 0%)\r\n",
      "updating: sklearn_transforms/.git/objects/35/fc5253444bb0f9103e1231c1f1ee017c379d47 (stored 0%)\r\n",
      "updating: sklearn_transforms/.git/objects/c7/ (stored 0%)\r\n",
      "updating: sklearn_transforms/.git/objects/c7/536e20775f99c3d96e3da51d9c4eb170c462c6 (stored 0%)\r\n",
      "updating: sklearn_transforms/.git/objects/15/ (stored 0%)\r\n",
      "updating: sklearn_transforms/.git/objects/15/79a6416abddcc9fa6ffe66b3d59dbc4607711e (stored 0%)\r\n",
      "updating: sklearn_transforms/.git/objects/6d/8588fe77ca63206107ab108c95adf77b0d99b8 (stored 0%)\r\n"
     ]
    }
   ],
   "source": [
    "!zip -r sklearn_transforms.zip sklearn_transforms"
   ]
  },
  {
   "cell_type": "code",
   "execution_count": 6,
   "metadata": {},
   "outputs": [
    {
     "name": "stdout",
     "output_type": "stream",
     "text": [
      "Processing ./sklearn_transforms.zip\n",
      "Requirement already satisfied: imbalanced-learn==0.4.3 in /opt/conda/envs/Python36/lib/python3.6/site-packages (from my-custom-sklearn-transforms==1.0) (0.4.3)\n",
      "Collecting xgboost==0.71 (from my-custom-sklearn-transforms==1.0)\n",
      "  Using cached https://files.pythonhosted.org/packages/4b/c4/57e246bc99e45c048f9805f2773e7369f0d30896d19fa089fa1794c7b246/xgboost-0.71.tar.gz\n",
      "Requirement already satisfied: scikit-learn>=0.20 in /opt/conda/envs/Python36/lib/python3.6/site-packages (from imbalanced-learn==0.4.3->my-custom-sklearn-transforms==1.0) (0.20.0)\n",
      "Requirement already satisfied: numpy>=1.8.2 in /opt/conda/envs/Python36/lib/python3.6/site-packages (from imbalanced-learn==0.4.3->my-custom-sklearn-transforms==1.0) (1.19.1)\n",
      "Requirement already satisfied: scipy>=0.13.3 in /opt/conda/envs/Python36/lib/python3.6/site-packages (from imbalanced-learn==0.4.3->my-custom-sklearn-transforms==1.0) (1.2.0)\n",
      "Building wheels for collected packages: my-custom-sklearn-transforms, xgboost\n",
      "  Building wheel for my-custom-sklearn-transforms (setup.py) ... \u001b[?25ldone\n",
      "\u001b[?25h  Stored in directory: /home/dsxuser/.tmp/pip-ephem-wheel-cache-qgxm_ui4/wheels/8f/88/32/f886e7510a37b111e2a1b7e689e04450acda46732970a7ed78\n",
      "  Building wheel for xgboost (setup.py) ... \u001b[?25ldone\n",
      "\u001b[?25h  Stored in directory: /home/dsxuser/.cache/pip/wheels/4e/6d/1d/0bc23240225fe411315d8abb5d4521b9ff002493ff77515ccc\n",
      "Successfully built my-custom-sklearn-transforms xgboost\n",
      "Installing collected packages: xgboost, my-custom-sklearn-transforms\n",
      "  Found existing installation: xgboost 0.90\n",
      "    Uninstalling xgboost-0.90:\n",
      "      Successfully uninstalled xgboost-0.90\n",
      "  Found existing installation: my-custom-sklearn-transforms 1.0\n",
      "    Uninstalling my-custom-sklearn-transforms-1.0:\n",
      "      Successfully uninstalled my-custom-sklearn-transforms-1.0\n",
      "Successfully installed my-custom-sklearn-transforms-1.0 xgboost-0.71\n"
     ]
    }
   ],
   "source": [
    "!pip install sklearn_transforms.zip"
   ]
  },
  {
   "cell_type": "code",
   "execution_count": 7,
   "metadata": {},
   "outputs": [],
   "source": [
    "import pandas as pd\n",
    "import numpy as np\n",
    "from numpy import nan, dtype, mean\n",
    "import math\n",
    "\n",
    "import matplotlib.pyplot as plt \n",
    "import seaborn as sns\n",
    "sns.set()\n",
    "\n",
    "import sklearn.ensemble\n",
    "from sklearn.preprocessing import MinMaxScaler, StandardScaler, LabelEncoder\n",
    "from imblearn.pipeline import Pipeline\n",
    "\n",
    "from sklearn.model_selection import train_test_split\n",
    "\n",
    "#from xgboost import XGBClassifier\n",
    "import xgboost as xgb\n",
    "\n",
    "from sklearn.metrics import accuracy_score, roc_curve, confusion_matrix, classification_report\n",
    "\n",
    "from sklearn.impute import SimpleImputer\n",
    "import imblearn\n",
    "from imblearn.over_sampling import SMOTE\n",
    "from imblearn.under_sampling import RandomUnderSampler\n",
    "from sklearn.model_selection import RepeatedStratifiedKFold\n",
    "from sklearn.model_selection import cross_val_score\n",
    "\n",
    "# Desativando warnings no jupyter\n",
    "import warnings\n",
    "warnings.filterwarnings('ignore')"
   ]
  },
  {
   "cell_type": "code",
   "execution_count": 8,
   "metadata": {},
   "outputs": [
    {
     "data": {
      "text/html": [
       "<div>\n",
       "<style scoped>\n",
       "    .dataframe tbody tr th:only-of-type {\n",
       "        vertical-align: middle;\n",
       "    }\n",
       "\n",
       "    .dataframe tbody tr th {\n",
       "        vertical-align: top;\n",
       "    }\n",
       "\n",
       "    .dataframe thead th {\n",
       "        text-align: right;\n",
       "    }\n",
       "</style>\n",
       "<table border=\"1\" class=\"dataframe\">\n",
       "  <thead>\n",
       "    <tr style=\"text-align: right;\">\n",
       "      <th></th>\n",
       "      <th>MATRICULA</th>\n",
       "      <th>NOME</th>\n",
       "      <th>REPROVACOES_DE</th>\n",
       "      <th>REPROVACOES_EM</th>\n",
       "      <th>REPROVACOES_MF</th>\n",
       "      <th>REPROVACOES_GO</th>\n",
       "      <th>NOTA_DE</th>\n",
       "      <th>NOTA_EM</th>\n",
       "      <th>NOTA_MF</th>\n",
       "      <th>NOTA_GO</th>\n",
       "      <th>INGLES</th>\n",
       "      <th>H_AULA_PRES</th>\n",
       "      <th>TAREFAS_ONLINE</th>\n",
       "      <th>FALTAS</th>\n",
       "      <th>PERFIL</th>\n",
       "    </tr>\n",
       "  </thead>\n",
       "  <tbody>\n",
       "    <tr>\n",
       "      <th>0</th>\n",
       "      <td>502375</td>\n",
       "      <td>Márcia Illiglener</td>\n",
       "      <td>0</td>\n",
       "      <td>0</td>\n",
       "      <td>0</td>\n",
       "      <td>0</td>\n",
       "      <td>6.2</td>\n",
       "      <td>5.8</td>\n",
       "      <td>4.6</td>\n",
       "      <td>5.9</td>\n",
       "      <td>0.0</td>\n",
       "      <td>2</td>\n",
       "      <td>4</td>\n",
       "      <td>3</td>\n",
       "      <td>EXATAS</td>\n",
       "    </tr>\n",
       "    <tr>\n",
       "      <th>1</th>\n",
       "      <td>397093</td>\n",
       "      <td>Jason Jytereoman Izoimum</td>\n",
       "      <td>0</td>\n",
       "      <td>0</td>\n",
       "      <td>0</td>\n",
       "      <td>0</td>\n",
       "      <td>6.0</td>\n",
       "      <td>6.2</td>\n",
       "      <td>5.2</td>\n",
       "      <td>4.5</td>\n",
       "      <td>1.0</td>\n",
       "      <td>2</td>\n",
       "      <td>4</td>\n",
       "      <td>3</td>\n",
       "      <td>EXATAS</td>\n",
       "    </tr>\n",
       "    <tr>\n",
       "      <th>2</th>\n",
       "      <td>915288</td>\n",
       "      <td>Bartolomeu Inácio da Gama</td>\n",
       "      <td>0</td>\n",
       "      <td>0</td>\n",
       "      <td>0</td>\n",
       "      <td>0</td>\n",
       "      <td>7.3</td>\n",
       "      <td>6.7</td>\n",
       "      <td>7.1</td>\n",
       "      <td>7.2</td>\n",
       "      <td>0.0</td>\n",
       "      <td>5</td>\n",
       "      <td>0</td>\n",
       "      <td>3</td>\n",
       "      <td>HUMANAS</td>\n",
       "    </tr>\n",
       "    <tr>\n",
       "      <th>3</th>\n",
       "      <td>192652</td>\n",
       "      <td>Fernanda Guedes</td>\n",
       "      <td>1</td>\n",
       "      <td>3</td>\n",
       "      <td>1</td>\n",
       "      <td>1</td>\n",
       "      <td>0.0</td>\n",
       "      <td>0.0</td>\n",
       "      <td>0.0</td>\n",
       "      <td>0.0</td>\n",
       "      <td>1.0</td>\n",
       "      <td>4</td>\n",
       "      <td>4</td>\n",
       "      <td>4</td>\n",
       "      <td>DIFICULDADE</td>\n",
       "    </tr>\n",
       "    <tr>\n",
       "      <th>4</th>\n",
       "      <td>949491</td>\n",
       "      <td>Alessandre Borba Gomes</td>\n",
       "      <td>1</td>\n",
       "      <td>3</td>\n",
       "      <td>1</td>\n",
       "      <td>1</td>\n",
       "      <td>0.0</td>\n",
       "      <td>0.0</td>\n",
       "      <td>0.0</td>\n",
       "      <td>0.0</td>\n",
       "      <td>1.0</td>\n",
       "      <td>5</td>\n",
       "      <td>2</td>\n",
       "      <td>5</td>\n",
       "      <td>DIFICULDADE</td>\n",
       "    </tr>\n",
       "  </tbody>\n",
       "</table>\n",
       "</div>"
      ],
      "text/plain": [
       "   MATRICULA                       NOME  REPROVACOES_DE  REPROVACOES_EM  \\\n",
       "0     502375          Márcia Illiglener               0               0   \n",
       "1     397093   Jason Jytereoman Izoimum               0               0   \n",
       "2     915288  Bartolomeu Inácio da Gama               0               0   \n",
       "3     192652            Fernanda Guedes               1               3   \n",
       "4     949491     Alessandre Borba Gomes               1               3   \n",
       "\n",
       "   REPROVACOES_MF  REPROVACOES_GO  NOTA_DE  NOTA_EM  NOTA_MF  NOTA_GO  INGLES  \\\n",
       "0               0               0      6.2      5.8      4.6      5.9     0.0   \n",
       "1               0               0      6.0      6.2      5.2      4.5     1.0   \n",
       "2               0               0      7.3      6.7      7.1      7.2     0.0   \n",
       "3               1               1      0.0      0.0      0.0      0.0     1.0   \n",
       "4               1               1      0.0      0.0      0.0      0.0     1.0   \n",
       "\n",
       "   H_AULA_PRES  TAREFAS_ONLINE  FALTAS       PERFIL  \n",
       "0            2               4       3       EXATAS  \n",
       "1            2               4       3       EXATAS  \n",
       "2            5               0       3      HUMANAS  \n",
       "3            4               4       4  DIFICULDADE  \n",
       "4            5               2       5  DIFICULDADE  "
      ]
     },
     "execution_count": 8,
     "metadata": {},
     "output_type": "execute_result"
    }
   ],
   "source": [
    "import types\n",
    "import pandas as pd\n",
    "from botocore.client import Config\n",
    "import ibm_boto3\n",
    "\n",
    "def __iter__(self): return 0\n",
    "\n",
    "# @hidden_cell\n",
    "# The following code accesses a file in your IBM Cloud Object Storage. It includes your credentials.\n",
    "# You might want to remove those credentials before you share the notebook.\n",
    "client_8c046a5bad624f089a7f298a70954a3c = ibm_boto3.client(service_name='s3',\n",
    "    ibm_api_key_id='wX1S0thSGBG3xa5tstP2HL4egopb8KCe0nO6b0w4qgZL',\n",
    "    ibm_auth_endpoint=\"https://iam.cloud.ibm.com/oidc/token\",\n",
    "    config=Config(signature_version='oauth'),\n",
    "    endpoint_url='https://s3.eu-geo.objectstorage.service.networklayer.com')\n",
    "\n",
    "body = client_8c046a5bad624f089a7f298a70954a3c.get_object(Bucket='desafio02uninassau-donotdelete-pr-bigaju85ckcqdm',Key='dataset_desafio_2.csv')['Body']\n",
    "# add missing __iter__ method, so pandas accepts body as file-like object\n",
    "if not hasattr(body, \"__iter__\"): body.__iter__ = types.MethodType( __iter__, body )\n",
    "\n",
    "df = pd.read_csv(body)\n",
    "df.head()\n"
   ]
  },
  {
   "cell_type": "code",
   "execution_count": 9,
   "metadata": {},
   "outputs": [],
   "source": [
    "# Remove todos os registros que tem algum dado vazio\n",
    "df.dropna(inplace=True)"
   ]
  },
  {
   "cell_type": "code",
   "execution_count": 10,
   "metadata": {},
   "outputs": [],
   "source": [
    "from my_custom_sklearn_transforms.sklearn_transformers import DropColumns\n",
    "\n",
    "rm_columns = DropColumns(\n",
    "    columns=[\"NOME\",\"MATRICULA\"]\n",
    ")"
   ]
  },
  {
   "cell_type": "code",
   "execution_count": 11,
   "metadata": {},
   "outputs": [],
   "source": [
    "# Definição das colunas que serão features (nota-se que a coluna NOME não está presente)\n",
    "features = [\n",
    "    \"NOME\", \"MATRICULA\", 'REPROVACOES_DE', 'REPROVACOES_EM', \"REPROVACOES_MF\", \"REPROVACOES_GO\",\n",
    "    \"NOTA_DE\", \"NOTA_EM\", \"NOTA_MF\", \"NOTA_GO\",\n",
    "    \"INGLES\", \"H_AULA_PRES\", \"TAREFAS_ONLINE\", \"FALTAS\"\n",
    "]\n",
    "\n",
    "# Definição da variável-alvo\n",
    "target = [\"PERFIL\"]\n",
    "\n",
    "# Preparação dos argumentos para os métodos da biblioteca ``scikit-learn``\n",
    "X = df[features]\n",
    "y = df[target]\n",
    "\n",
    "# Separação dos dados em um conjunto de treino e um conjunto de teste\n",
    "X_train, X_test, y_train, y_test = train_test_split(X, y, test_size=0.15, random_state=337)"
   ]
  },
  {
   "cell_type": "code",
   "execution_count": 12,
   "metadata": {},
   "outputs": [],
   "source": [
    "params = {'n_estimators'    : 522,\n",
    "          'max_depth'       : 18,\n",
    "          'min_child_weight': 9,\n",
    "          'learning_rate'   : 0.01, #1.0629240007839114e-08,\n",
    "          'subsample'       : 0.9,\n",
    "          'colsample_bytree': 0.8,\n",
    "          'silent'          : 1}\n",
    "\n",
    "# Criando o modelo\n",
    "modelo_xgb = xgb.XGBClassifier(**params)\n",
    "\n"
   ]
  },
  {
   "cell_type": "markdown",
   "metadata": {},
   "source": [
    "# Preparando o Pipeline"
   ]
  },
  {
   "cell_type": "code",
   "execution_count": 13,
   "metadata": {},
   "outputs": [],
   "source": [
    "\n",
    "# Criação da nossa pipeline para armazenamento no Watson Machine Learning:\n",
    "pipeline = Pipeline(\n",
    "    steps=[\n",
    "        ('remove_cols', rm_columns),\n",
    "        ('scale', MinMaxScaler()),\n",
    "        ('model', modelo_xgb)\n",
    "    ]\n",
    ")"
   ]
  },
  {
   "cell_type": "code",
   "execution_count": 14,
   "metadata": {},
   "outputs": [
    {
     "data": {
      "text/plain": [
       "Pipeline(memory=None,\n",
       "     steps=[('remove_cols', DropColumns(columns=['NOME', 'MATRICULA'])), ('scale', MinMaxScaler(copy=True, feature_range=(0, 1))), ('model', XGBClassifier(base_score=0.5, booster='gbtree', colsample_bylevel=1,\n",
       "       colsample_bytree=0.8, gamma=0, learning_rate=0.01, max_delta_step=0,\n",
       "       max_depth=18...,\n",
       "       reg_alpha=0, reg_lambda=1, scale_pos_weight=1, seed=None, silent=1,\n",
       "       subsample=0.9))])"
      ]
     },
     "execution_count": 14,
     "metadata": {},
     "output_type": "execute_result"
    }
   ],
   "source": [
    "# Inicialização da Pipeline (pré-processamento e realização do treinamento do modelo)\n",
    "pipeline.fit(X_train, y_train)"
   ]
  },
  {
   "cell_type": "code",
   "execution_count": 15,
   "metadata": {},
   "outputs": [
    {
     "name": "stdout",
     "output_type": "stream",
     "text": [
      "Acurácia: 81.46%\n",
      "Sensibilidade : 0.9189526184538653\n",
      "Especificidade : 0.7891061452513967\n",
      "\n",
      "\n",
      "              precision    recall  f1-score   support\n",
      "\n",
      " DIFICULDADE       0.90      0.77      0.83       731\n",
      "      EXATAS       0.81      0.91      0.86       806\n",
      "   EXCELENTE       0.57      0.60      0.58        67\n",
      "     HUMANAS       0.77      0.91      0.84       302\n",
      "   MUITO_BOM       0.38      0.13      0.19        95\n",
      "\n",
      "   micro avg       0.81      0.81      0.81      2001\n",
      "   macro avg       0.68      0.66      0.66      2001\n",
      "weighted avg       0.81      0.81      0.80      2001\n",
      "\n"
     ]
    },
    {
     "data": {
      "image/png": "[encoded data removed]",
      "text/plain": [
       "<Figure size 432x432 with 2 Axes>"
      ]
     },
     "metadata": {},
     "output_type": "display_data"
    }
   ],
   "source": [
    "# Fazendo previsões\n",
    "xgb_y_pred = pipeline.predict(X_test)\n",
    "previsoes = [value for value in xgb_y_pred]\n",
    "\n",
    "# Avaliando as previsões\n",
    "xgb_score = accuracy_score(y_test, previsoes)\n",
    "print(\"Acurácia: %.2f%%\" % (xgb_score * 100.0))\n",
    "\n",
    "# Cria a matriz de confusão\n",
    "conf_matriz_xgb = confusion_matrix(y_test, xgb_y_pred)\n",
    "    \n",
    "# Calcula especificidade e sensibilidade\n",
    "speci_xgb = conf_matriz_xgb[0,0] / (conf_matriz_xgb[0,0] + conf_matriz_xgb[0,1])\n",
    "sensi_xgb = conf_matriz_xgb[1,1] / (conf_matriz_xgb[1,0] + conf_matriz_xgb[1,1])\n",
    "\n",
    "# Print\n",
    "print('Sensibilidade :', sensi_xgb)\n",
    "print('Especificidade :', speci_xgb)\n",
    "print('\\n')\n",
    "\n",
    "# Matriz de Confusão gráfica\n",
    "sns.set(rc={'figure.figsize':(6, 6)})\n",
    "sns.heatmap(conf_matriz_xgb, \n",
    "            annot = True, \n",
    "            fmt = \".0f\", \n",
    "            linewidths = .5, \n",
    "            square = True, \n",
    "            cmap = 'RdBu_r')\n",
    "\n",
    "# Labels e Títulos\n",
    "plt.ylabel('Label Verdadeiro')\n",
    "plt.xlabel('Label Previsto')\n",
    "plt.title('Acurácia: {:.2f}'.format(xgb_score), size = 15)\n",
    "\n",
    "# Relatório de Classificação\n",
    "print(classification_report(y_test, xgb_y_pred))"
   ]
  },
  {
   "cell_type": "code",
   "execution_count": 16,
   "metadata": {},
   "outputs": [
    {
     "name": "stderr",
     "output_type": "stream",
     "text": [
      "2020-08-26 02:03:40,764 - watson_machine_learning_client.wml_client_error - WARNING - Failure during getting all runtimes. (GET https://eu-de.ml.cloud.ibm.com/v4/runtimes?limit=1000)\n",
      "Status code: 404, body: {\"trace\":\"2rbjct2guj7u\",\"errors\":[{\"code\":\"not_found\",\"message\":\"Requested object a1f5ae10-311a-46ce-86df-b49f9a21139e could not be found.\"}]}\n",
      "2020-08-26 02:03:40,768 - watson_machine_learning_client.repository - ERROR - Failure during getting all runtimes. (GET https://eu-de.ml.cloud.ibm.com/v4/runtimes?limit=1000)\n",
      "Status code: 404, body: {\"trace\":\"2rbjct2guj7u\",\"errors\":[{\"code\":\"not_found\",\"message\":\"Requested object a1f5ae10-311a-46ce-86df-b49f9a21139e could not be found.\"}]}\n",
      "2020-08-26 02:03:46,651 - watson_machine_learning_client.wml_client_error - WARNING - Failure during getting all runtimes. (GET https://eu-de.ml.cloud.ibm.com/v4/runtimes?limit=1000)\n",
      "Status code: 404, body: {\"trace\":\"17cf57e094995876ec56400b38b9c4cf\",\"errors\":[{\"code\":\"not_found\",\"message\":\"Requested object a1f5ae10-311a-46ce-86df-b49f9a21139e could not be found.\"}]}\n",
      "2020-08-26 02:03:46,655 - watson_machine_learning_client.repository - ERROR - Failure during getting all runtimes. (GET https://eu-de.ml.cloud.ibm.com/v4/runtimes?limit=1000)\n",
      "Status code: 404, body: {\"trace\":\"17cf57e094995876ec56400b38b9c4cf\",\"errors\":[{\"code\":\"not_found\",\"message\":\"Requested object a1f5ae10-311a-46ce-86df-b49f9a21139e could not be found.\"}]}\n",
      "2020-08-26 02:03:58,152 - watson_machine_learning_client.wml_client_error - WARNING - Failure during getting all runtimes. (GET https://eu-de.ml.cloud.ibm.com/v4/runtimes?limit=1000)\n",
      "Status code: 404, body: {\"trace\":\"-kpdc2oighcuf\",\"errors\":[{\"code\":\"not_found\",\"message\":\"Requested object a1f5ae10-311a-46ce-86df-b49f9a21139e could not be found.\"}]}\n",
      "2020-08-26 02:03:58,157 - watson_machine_learning_client.repository - ERROR - Failure during getting all runtimes. (GET https://eu-de.ml.cloud.ibm.com/v4/runtimes?limit=1000)\n",
      "Status code: 404, body: {\"trace\":\"-kpdc2oighcuf\",\"errors\":[{\"code\":\"not_found\",\"message\":\"Requested object a1f5ae10-311a-46ce-86df-b49f9a21139e could not be found.\"}]}\n"
     ]
    }
   ],
   "source": [
    "# Biblioteca Python com implementação de um cliente HTTP para a API do WML\n",
    "from watson_machine_learning_client import WatsonMachineLearningAPIClient"
   ]
  },
  {
   "cell_type": "code",
   "execution_count": 17,
   "metadata": {},
   "outputs": [],
   "source": [
    "wml_credentials = {\n",
    "  \"apikey\": \"ga1uFVMXy5Sg_sC5dCrEL79NoKKtFZ3HeeN_lBU10tV4\",\n",
    "  \"iam_apikey_description\": \"Auto-generated for key 5b7323f1-f6d1-413c-9828-ac9bdc64fa04\",\n",
    "  \"iam_apikey_name\": \"Service credentials-1\",\n",
    "  \"iam_role_crn\": \"crn:v1:bluemix:public:iam::::serviceRole:Writer\",\n",
    "  \"iam_serviceid_crn\": \"crn:v1:bluemix:public:iam-identity::a/e0a6290a3eca4af19593d4664e3d771f::serviceid:ServiceId-44460261-9e50-43b5-bf41-8c3211c7eef8\",\n",
    "  \"instance_id\": \"75172e33-f7bf-4536-9296-7d56c72b6565\",\n",
    "  \"url\": \"https://eu-de.ml.cloud.ibm.com\"\n",
    "}"
   ]
  },
  {
   "cell_type": "code",
   "execution_count": 18,
   "metadata": {},
   "outputs": [],
   "source": [
    "# Instanciando um objeto cliente do Watson Machine Learning a partir das credenciais fornecidas\n",
    "clientWML = WatsonMachineLearningAPIClient(wml_credentials)"
   ]
  },
  {
   "cell_type": "code",
   "execution_count": 19,
   "metadata": {},
   "outputs": [
    {
     "name": "stdout",
     "output_type": "stream",
     "text": [
      "{\n",
      "    \"entity\": {\n",
      "        \"source\": \"Bluemix\",\n",
      "        \"published_models\": {\n",
      "            \"url\": \"https://eu-de.ml.cloud.ibm.com/v3/wml_instances/75172e33-f7bf-4536-9296-7d56c72b6565/published_models\"\n",
      "        },\n",
      "        \"usage\": {\n",
      "            \"capacity_units\": {\n",
      "                \"current\": 16502440,\n",
      "                \"limit\": 180000000\n",
      "            },\n",
      "            \"computation_time\": {\n",
      "                \"current\": 0,\n",
      "                \"limit\": 180000\n",
      "            },\n",
      "            \"deployment_count\": {\n",
      "                \"current\": 1,\n",
      "                \"limit\": 5\n",
      "            },\n",
      "            \"expiration_date\": \"2020-09-01T00:00:00.000Z\",\n",
      "            \"gpu_count_k80\": {\n",
      "                \"current\": 0,\n",
      "                \"limit\": 8\n",
      "            },\n",
      "            \"gpu_count_p100\": {\n",
      "                \"current\": 0,\n",
      "                \"limit\": 0\n",
      "            },\n",
      "            \"gpu_count_v100\": {\n",
      "                \"current\": 0,\n",
      "                \"limit\": 0\n",
      "            },\n",
      "            \"model_count\": {\n",
      "                \"current\": 2,\n",
      "                \"limit\": 200\n",
      "            },\n",
      "            \"prediction_count\": {\n",
      "                \"current\": 109,\n",
      "                \"limit\": 5000\n",
      "            }\n",
      "        },\n",
      "        \"tags\": null,\n",
      "        \"plan_id\": \"3f6acf43-ede8-413a-ac69-f8af3bb0cbfe\",\n",
      "        \"service_endpoints\": \"public\",\n",
      "        \"status\": \"Active\",\n",
      "        \"organization_guid\": \"N/A\",\n",
      "        \"region\": \"eu-de\",\n",
      "        \"account\": {\n",
      "            \"id\": \"e0a6290a3eca4af19593d4664e3d771f\",\n",
      "            \"name\": \"Rodrigo de Lima Oliveira's Account\",\n",
      "            \"type\": \"STANDARD\"\n",
      "        },\n",
      "        \"owner\": {\n",
      "            \"beta_user\": false,\n",
      "            \"country_code\": \"BRA\",\n",
      "            \"email\": \"siramanda2020@gmail.com\",\n",
      "            \"ibm_id\": \"5500086SDD\",\n",
      "            \"user_id\": \"366fe651-7be7-43ff-b283-f9be106f0778\"\n",
      "        },\n",
      "        \"deployments\": {\n",
      "            \"url\": \"https://eu-de.ml.cloud.ibm.com/v3/wml_instances/75172e33-f7bf-4536-9296-7d56c72b6565/deployments\"\n",
      "        },\n",
      "        \"space_guid\": \"N/A\",\n",
      "        \"plan\": \"lite\"\n",
      "    },\n",
      "    \"metadata\": {\n",
      "        \"created_at\": \"2020-08-23T14:02:58.467Z\",\n",
      "        \"modified_at\": \"2020-08-26T01:53:48.730Z\",\n",
      "        \"guid\": \"75172e33-f7bf-4536-9296-7d56c72b6565\",\n",
      "        \"url\": \"https://eu-de.ml.cloud.ibm.com/v3/wml_instances/75172e33-f7bf-4536-9296-7d56c72b6565\"\n",
      "    }\n",
      "}\n"
     ]
    }
   ],
   "source": [
    "# Extraindo detalhes da sua instância do Watson Machine Learning\n",
    "import json\n",
    "import requests\n",
    "\n",
    "instance_details = clientWML.service_instance.get_details()\n",
    "print(json.dumps(instance_details, indent=4))"
   ]
  },
  {
   "cell_type": "code",
   "execution_count": 24,
   "metadata": {},
   "outputs": [
    {
     "name": "stdout",
     "output_type": "stream",
     "text": [
      "----  ----  -------  ---------  ----\n",
      "GUID  NAME  CREATED  FRAMEWORK  TYPE\n",
      "----  ----  -------  ---------  ----\n"
     ]
    }
   ],
   "source": [
    "# Listando todos os artefatos atualmente armazenados na sua instância do WML\n",
    "\n",
    "clientWML.repository.list()"
   ]
  },
  {
   "cell_type": "code",
   "execution_count": 23,
   "metadata": {},
   "outputs": [
    {
     "data": {
      "text/plain": [
       "'SUCCESS'"
      ]
     },
     "execution_count": 23,
     "metadata": {},
     "output_type": "execute_result"
    }
   ],
   "source": [
    "artifact_guid = \"a1f5ae10-311a-46ce-86df-b49f9a21139e\"\n",
    "clientWML.repository.delete(artifact_guid)"
   ]
  },
  {
   "cell_type": "markdown",
   "metadata": {},
   "source": [
    "No plano LITE do Watson Machine Learning só é permitido o deploy de um único modelo por vez. Se for o caso de você já possuir um modelo online na sua instância, você pode apagá-lo utilizando o método clientWML.repository.delete():\n",
    "\n",
    "    artifact_guid = \"359c8951-d2fe-4063-8706-cc06b32d5e0d\"\n",
    "    clientWML.repository.delete(artifact_guid)"
   ]
  },
  {
   "cell_type": "code",
   "execution_count": null,
   "metadata": {},
   "outputs": [],
   "source": [
    "# Listando todos runtimes armazenados no seu WML:\n",
    "#clientWML.runtimes.list()"
   ]
  },
  {
   "cell_type": "markdown",
   "metadata": {},
   "source": [
    "#### Criando uma nova definição de Pipeline personalizada no WML\n",
    "\n",
    "Finalmente iremos criar uma definição (metadados) para a nossa Pipeline ser hospedada no WML.\n",
    "\n",
    "Definimos como parâmetros um nome para o artefato e o ID do runtime criado anteriormente."
   ]
  },
  {
   "cell_type": "code",
   "execution_count": 25,
   "metadata": {},
   "outputs": [
    {
     "name": "stdout",
     "output_type": "stream",
     "text": [
      "\n",
      " Lista de artefatos de runtime armazenados no WML:\n",
      "------------------------------------  -----------------------------  ------------------------  ---------  --------------\n",
      "GUID                                  NAME                           CREATED                   FRAMEWORK  TYPE\n",
      "21442158-0ac7-4739-9792-3858d966f08c  my_custom_sklearn_transform_1  2020-08-26T02:03:44.156Z  -          python library\n",
      "------------------------------------  -----------------------------  ------------------------  ---------  --------------\n"
     ]
    }
   ],
   "source": [
    "# Definição de metadados do nosso pacote com as Transforms personalizadas\n",
    "pkg_meta = {\n",
    "    clientWML.runtimes.LibraryMetaNames.NAME: \"my_custom_sklearn_transform_1\",\n",
    "    clientWML.runtimes.LibraryMetaNames.DESCRIPTION: \"A custom sklearn transform\",\n",
    "    clientWML.runtimes.LibraryMetaNames.FILEPATH: \"sklearn_transforms.zip\",  # Note que estamos utilizando o .zip criado anteriormente!\n",
    "    clientWML.runtimes.LibraryMetaNames.VERSION: \"1.0\",\n",
    "    clientWML.runtimes.LibraryMetaNames.PLATFORM: { \"name\": \"python\", \"versions\": [\"3.6\"] }\n",
    "}\n",
    "custom_package_details = clientWML.runtimes.store_library( pkg_meta )\n",
    "custom_package_uid = clientWML.runtimes.get_library_uid( custom_package_details )\n",
    "\n",
    "print(\"\\n Lista de artefatos de runtime armazenados no WML:\")\n",
    "clientWML.repository.list()"
   ]
  },
  {
   "cell_type": "code",
   "execution_count": 26,
   "metadata": {
    "scrolled": false
   },
   "outputs": [
    {
     "name": "stdout",
     "output_type": "stream",
     "text": [
      "\n",
      " Detalhes do runtime armazenado:\n",
      "{\n",
      "    \"entity\": {\n",
      "        \"name\": \"my_custom_wml_runtime_1\",\n",
      "        \"description\": \"A Python runtime with custom sklearn Transforms\",\n",
      "        \"custom_libraries\": [\n",
      "            {\n",
      "                \"name\": \"my_custom_sklearn_transform_1\",\n",
      "                \"url\": \"https://private.eu-de.ml.cloud.ibm.com/v4/libraries/21442158-0ac7-4739-9792-3858d966f08c\",\n",
      "                \"version\": \"1.0\"\n",
      "            }\n",
      "        ],\n",
      "        \"content_url\": \"https://private.eu-de.ml.cloud.ibm.com/v4/runtimes/992e738c-2ca7-4a92-b19f-38e2aa1270d0/content\",\n",
      "        \"platform\": {\n",
      "            \"name\": \"python\",\n",
      "            \"version\": \"3.6\"\n",
      "        }\n",
      "    },\n",
      "    \"metadata\": {\n",
      "        \"created_at\": \"2020-08-26T02:03:46.719Z\",\n",
      "        \"guid\": \"992e738c-2ca7-4a92-b19f-38e2aa1270d0\",\n",
      "        \"url\": \"https://eu-de.ml.cloud.ibm.com/v4/runtimes/992e738c-2ca7-4a92-b19f-38e2aa1270d0\"\n",
      "    }\n",
      "}\n"
     ]
    }
   ],
   "source": [
    "runtime_meta = {\n",
    "    clientWML.runtimes.ConfigurationMetaNames.NAME: \"my_custom_wml_runtime_1\",\n",
    "    clientWML.runtimes.ConfigurationMetaNames.DESCRIPTION: \"A Python runtime with custom sklearn Transforms\",\n",
    "    clientWML.runtimes.ConfigurationMetaNames.PLATFORM: {\n",
    "        \"name\": \"python\",\n",
    "        \"version\": \"3.6\"\n",
    "    },\n",
    "    clientWML.runtimes.ConfigurationMetaNames.LIBRARIES_UIDS: [ custom_package_uid ]\n",
    "}\n",
    "runtime_details = clientWML.runtimes.store( runtime_meta )\n",
    "custom_runtime_uid = clientWML.runtimes.get_uid( runtime_details )\n",
    "\n",
    "print(\"\\n Detalhes do runtime armazenado:\")\n",
    "print(json.dumps(runtime_details, indent=4))"
   ]
  },
  {
   "cell_type": "code",
   "execution_count": 27,
   "metadata": {},
   "outputs": [],
   "source": [
    "# Listando todos runtimes armazenados no seu WML:\n",
    "#clientWML.runtimes.list()"
   ]
  },
  {
   "cell_type": "code",
   "execution_count": 28,
   "metadata": {},
   "outputs": [],
   "source": [
    "model_meta = {\n",
    "    clientWML.repository.ModelMetaNames.NAME: 'desafio-2-mbtc2020-pipeline-1',\n",
    "    clientWML.repository.ModelMetaNames.DESCRIPTION: \"my pipeline for submission\",\n",
    "    clientWML.repository.ModelMetaNames.RUNTIME_UID: custom_runtime_uid\n",
    "}"
   ]
  },
  {
   "cell_type": "markdown",
   "metadata": {},
   "source": [
    "Em seguida chamamos o método para armazenar a nova definição:"
   ]
  },
  {
   "cell_type": "code",
   "execution_count": 29,
   "metadata": {},
   "outputs": [
    {
     "name": "stdout",
     "output_type": "stream",
     "text": [
      "\n",
      " Lista de artefatos armazenados no WML:\n",
      "------------------------------------  -----------------------------  ------------------------  -----------------  --------------\n",
      "GUID                                  NAME                           CREATED                   FRAMEWORK          TYPE\n",
      "9b72bd04-bf19-45f8-b224-7062cc95cef8  desafio-2-mbtc2020-pipeline-1  2020-08-26T02:03:47.523Z  scikit-learn-0.20  model\n",
      "21442158-0ac7-4739-9792-3858d966f08c  my_custom_sklearn_transform_1  2020-08-26T02:03:44.156Z  -                  python library\n",
      "------------------------------------  -----------------------------  ------------------------  -----------------  --------------\n",
      "\n",
      " Metadados do modelo armazenado:\n",
      "{\n",
      "    \"metadata\": {\n",
      "        \"guid\": \"9b72bd04-bf19-45f8-b224-7062cc95cef8\",\n",
      "        \"url\": \"https://eu-de.ml.cloud.ibm.com/v3/wml_instances/75172e33-f7bf-4536-9296-7d56c72b6565/published_models/9b72bd04-bf19-45f8-b224-7062cc95cef8\",\n",
      "        \"created_at\": \"2020-08-26T02:03:47.523Z\",\n",
      "        \"modified_at\": \"2020-08-26T02:03:47.577Z\"\n",
      "    },\n",
      "    \"entity\": {\n",
      "        \"runtime_environment\": \"python-3.6\",\n",
      "        \"learning_configuration_url\": \"https://eu-de.ml.cloud.ibm.com/v3/wml_instances/75172e33-f7bf-4536-9296-7d56c72b6565/published_models/9b72bd04-bf19-45f8-b224-7062cc95cef8/learning_configuration\",\n",
      "        \"name\": \"desafio-2-mbtc2020-pipeline-1\",\n",
      "        \"description\": \"my pipeline for submission\",\n",
      "        \"learning_iterations_url\": \"https://eu-de.ml.cloud.ibm.com/v3/wml_instances/75172e33-f7bf-4536-9296-7d56c72b6565/published_models/9b72bd04-bf19-45f8-b224-7062cc95cef8/learning_iterations\",\n",
      "        \"feedback_url\": \"https://eu-de.ml.cloud.ibm.com/v3/wml_instances/75172e33-f7bf-4536-9296-7d56c72b6565/published_models/9b72bd04-bf19-45f8-b224-7062cc95cef8/feedback\",\n",
      "        \"latest_version\": {\n",
      "            \"url\": \"https://eu-de.ml.cloud.ibm.com/v3/ml_assets/models/9b72bd04-bf19-45f8-b224-7062cc95cef8/versions/dd70d434-1284-4253-b2b3-04d10218c0c3\",\n",
      "            \"guid\": \"dd70d434-1284-4253-b2b3-04d10218c0c3\",\n",
      "            \"created_at\": \"2020-08-26T02:03:47.577Z\"\n",
      "        },\n",
      "        \"model_type\": \"scikit-learn-0.20\",\n",
      "        \"deployments\": {\n",
      "            \"count\": 0,\n",
      "            \"url\": \"https://eu-de.ml.cloud.ibm.com/v3/wml_instances/75172e33-f7bf-4536-9296-7d56c72b6565/published_models/9b72bd04-bf19-45f8-b224-7062cc95cef8/deployments\"\n",
      "        },\n",
      "        \"evaluation_metrics_url\": \"https://eu-de.ml.cloud.ibm.com/v3/wml_instances/75172e33-f7bf-4536-9296-7d56c72b6565/published_models/9b72bd04-bf19-45f8-b224-7062cc95cef8/evaluation_metrics\",\n",
      "        \"runtime\": {\n",
      "            \"url\": \"https://eu-de.ml.cloud.ibm.com/v4/runtimes/992e738c-2ca7-4a92-b19f-38e2aa1270d0\"\n",
      "        }\n",
      "    }\n",
      "}\n"
     ]
    }
   ],
   "source": [
    "# Função para armazenar uma definição de Pipeline no WML\n",
    "stored_model_details = clientWML.repository.store_model(\n",
    "    model         = pipeline,\n",
    "    meta_props    = model_meta,\n",
    "    training_data = None\n",
    ")\n",
    "\n",
    "print(\"\\n Lista de artefatos armazenados no WML:\")\n",
    "clientWML.repository.list()\n",
    "\n",
    "# Detalhes do modelo hospedado no Watson Machine Learning\n",
    "print(\"\\n Metadados do modelo armazenado:\")\n",
    "print(json.dumps(stored_model_details, indent=4))"
   ]
  },
  {
   "cell_type": "markdown",
   "metadata": {},
   "source": [
    "#### Realizando o deployment do seu modelo para consumo imediato por outras aplicações"
   ]
  },
  {
   "cell_type": "code",
   "execution_count": 30,
   "metadata": {},
   "outputs": [
    {
     "name": "stdout",
     "output_type": "stream",
     "text": [
      "\n",
      "\n",
      "#######################################################################################\n",
      "\n",
      "Synchronous deployment creation for uid: '9b72bd04-bf19-45f8-b224-7062cc95cef8' started\n",
      "\n",
      "#######################################################################################\n",
      "\n",
      "\n",
      "INITIALIZING\n",
      "DEPLOY_IN_PROGRESS.................................................................\n",
      "DEPLOY_SUCCESS\n",
      "\n",
      "\n",
      "------------------------------------------------------------------------------------------------\n",
      "Successfully finished deployment creation, deployment_uid='dbabd1c3-b750-4d22-831a-6144b1c57ee4'\n",
      "------------------------------------------------------------------------------------------------\n",
      "\n",
      "\n"
     ]
    }
   ],
   "source": [
    "# O deployment do modelo é finalmente realizado por meio do método ``deployments.create()``\n",
    "\n",
    "model_deployment_details = clientWML.deployments.create(\n",
    "    artifact_uid=stored_model_details[\"metadata\"][\"guid\"],  # Não altere esse parâmetro\n",
    "    name=\"desafio-2-mbtc2020-deployment-1\",\n",
    "    description=\"Solução do desafio 2 - MBTC\",\n",
    "    asynchronous=False,  # Não altere esse parâmetro\n",
    "    deployment_type='online',  # Não altere esse parâmetro\n",
    "    deployment_format='Core ML',  # Não altere esse parâmetro\n",
    "    meta_props=model_meta  # Não altere esse parâmetro\n",
    ")"
   ]
  },
  {
   "cell_type": "markdown",
   "metadata": {},
   "source": [
    "#### Testando um modelo hospedado no Watson Machine Learning"
   ]
  },
  {
   "cell_type": "code",
   "execution_count": 31,
   "metadata": {},
   "outputs": [
    {
     "name": "stdout",
     "output_type": "stream",
     "text": [
      "A URL de chamada da sua API é: https://eu-de.ml.cloud.ibm.com/v3/wml_instances/75172e33-f7bf-4536-9296-7d56c72b6565/deployments/dbabd1c3-b750-4d22-831a-6144b1c57ee4/online\n"
     ]
    }
   ],
   "source": [
    "# Recuperando a URL endpoint do modelo hospedado na célula anterior\n",
    "\n",
    "model_endpoint_url = clientWML.deployments.get_scoring_url(model_deployment_details)\n",
    "print(\"A URL de chamada da sua API é: {}\".format(model_endpoint_url))"
   ]
  },
  {
   "cell_type": "code",
   "execution_count": 32,
   "metadata": {},
   "outputs": [
    {
     "name": "stdout",
     "output_type": "stream",
     "text": [
      "Metadados do deployment realizado: \n",
      "\n",
      "{\n",
      "    \"metadata\": {\n",
      "        \"guid\": \"dbabd1c3-b750-4d22-831a-6144b1c57ee4\",\n",
      "        \"url\": \"https://eu-de.ml.cloud.ibm.com/v3/wml_instances/75172e33-f7bf-4536-9296-7d56c72b6565/deployments/dbabd1c3-b750-4d22-831a-6144b1c57ee4\",\n",
      "        \"created_at\": \"2020-08-26T02:03:58.527Z\",\n",
      "        \"modified_at\": \"2020-08-26T02:03:59.025Z\"\n",
      "    },\n",
      "    \"entity\": {\n",
      "        \"runtime_environment\": \"python-3.6\",\n",
      "        \"name\": \"desafio-2-mbtc2020-deployment-1\",\n",
      "        \"scoring_url\": \"https://eu-de.ml.cloud.ibm.com/v3/wml_instances/75172e33-f7bf-4536-9296-7d56c72b6565/deployments/dbabd1c3-b750-4d22-831a-6144b1c57ee4/online\",\n",
      "        \"deployable_asset\": {\n",
      "            \"name\": \"desafio-2-mbtc2020-pipeline-1\",\n",
      "            \"url\": \"https://eu-de.ml.cloud.ibm.com/v3/wml_instances/75172e33-f7bf-4536-9296-7d56c72b6565/published_models/9b72bd04-bf19-45f8-b224-7062cc95cef8\",\n",
      "            \"guid\": \"9b72bd04-bf19-45f8-b224-7062cc95cef8\",\n",
      "            \"description\": \"my pipeline for submission\",\n",
      "            \"created_at\": \"2020-08-26T02:03:58.505Z\",\n",
      "            \"type\": \"model\"\n",
      "        },\n",
      "        \"description\": \"Solu\\u00e7\\u00e3o do desafio 2 - MBTC\",\n",
      "        \"status_details\": {\n",
      "            \"status\": \"DEPLOY_SUCCESS\"\n",
      "        },\n",
      "        \"model_type\": \"scikit-learn-0.20\",\n",
      "        \"status\": \"DEPLOY_SUCCESS\",\n",
      "        \"type\": \"online\",\n",
      "        \"deployed_version\": {\n",
      "            \"url\": \"https://eu-de.ml.cloud.ibm.com/v3/ml_assets/models/9b72bd04-bf19-45f8-b224-7062cc95cef8/versions/dd70d434-1284-4253-b2b3-04d10218c0c3\",\n",
      "            \"guid\": \"dd70d434-1284-4253-b2b3-04d10218c0c3\"\n",
      "        }\n",
      "    }\n",
      "}\n"
     ]
    }
   ],
   "source": [
    "# Detalhes do deployment realizado\n",
    "\n",
    "deployment_details = clientWML.deployments.get_details(\n",
    "    deployment_uid=model_deployment_details[\"metadata\"][\"guid\"]  # esse é o ID do seu deployment!\n",
    ")\n",
    "\n",
    "print(\"Metadados do deployment realizado: \\n\")\n",
    "print(json.dumps(deployment_details, indent=4))"
   ]
  },
  {
   "cell_type": "code",
   "execution_count": 33,
   "metadata": {
    "scrolled": false
   },
   "outputs": [
    {
     "name": "stdout",
     "output_type": "stream",
     "text": [
      "\n",
      " Payload de dados a ser classificada:\n",
      "{\n",
      "    \"fields\": [\n",
      "        \"MATRICULA\",\n",
      "        \"NOME\",\n",
      "        \"REPROVACOES_DE\",\n",
      "        \"REPROVACOES_EM\",\n",
      "        \"REPROVACOES_MF\",\n",
      "        \"REPROVACOES_GO\",\n",
      "        \"NOTA_DE\",\n",
      "        \"NOTA_EM\",\n",
      "        \"NOTA_MF\",\n",
      "        \"NOTA_GO\",\n",
      "        \"INGLES\",\n",
      "        \"H_AULA_PRES\",\n",
      "        \"TAREFAS_ONLINE\",\n",
      "        \"FALTAS\"\n",
      "    ],\n",
      "    \"values\": [\n",
      "        [\n",
      "            513949,\n",
      "            \"Marli Qu\\u00e9sia de Oliveira\",\n",
      "            1,\n",
      "            1,\n",
      "            1,\n",
      "            1,\n",
      "            4.3,\n",
      "            4.0,\n",
      "            3.1,\n",
      "            4.9,\n",
      "            0,\n",
      "            3,\n",
      "            4,\n",
      "            3\n",
      "        ]\n",
      "    ]\n",
      "}\n"
     ]
    }
   ],
   "source": [
    "scoring_payload = {\n",
    "    'fields': [\n",
    "        \"MATRICULA\", \"NOME\", 'REPROVACOES_DE', 'REPROVACOES_EM', \"REPROVACOES_MF\", \"REPROVACOES_GO\",\n",
    "        \"NOTA_DE\", \"NOTA_EM\", \"NOTA_MF\", \"NOTA_GO\",\n",
    "        \"INGLES\", \"H_AULA_PRES\", \"TAREFAS_ONLINE\", \"FALTAS\", \n",
    "    ],\n",
    "    'values': [\n",
    "        [\n",
    "            513949,\"Marli Quésia de Oliveira\",1,1,1,1,4.3,4.0,3.1,4.9,0,3,4,3,\n",
    "        ]\n",
    "    ]\n",
    "}\n",
    "\n",
    "print(\"\\n Payload de dados a ser classificada:\")\n",
    "print(json.dumps(scoring_payload, indent=4))"
   ]
  },
  {
   "cell_type": "code",
   "execution_count": 34,
   "metadata": {},
   "outputs": [
    {
     "name": "stdout",
     "output_type": "stream",
     "text": [
      "\n",
      " Resultados:\n",
      "{\n",
      "    \"fields\": [\n",
      "        \"prediction\",\n",
      "        \"probability\"\n",
      "    ],\n",
      "    \"values\": [\n",
      "        [\n",
      "            \"DIFICULDADE\",\n",
      "            [\n",
      "                0.9908280372619629,\n",
      "                0.002695260103791952,\n",
      "                0.0019489621045067906,\n",
      "                0.0025132314767688513,\n",
      "                0.0020144390873610973\n",
      "            ]\n",
      "        ]\n",
      "    ]\n",
      "}\n"
     ]
    }
   ],
   "source": [
    "result = clientWML.deployments.score(\n",
    "    model_endpoint_url,\n",
    "    scoring_payload\n",
    ")\n",
    "\n",
    "print(\"\\n Resultados:\")\n",
    "print(json.dumps(result, indent=4))"
   ]
  },
  {
   "cell_type": "markdown",
   "metadata": {},
   "source": [
    "<hr>\n",
    "\n",
    "## Parabéns! \n",
    "\n",
    "Se tudo foi executado sem erros, você já tem um classificador baseado em machine learning encapsulado como uma API REST!\n",
    "\n",
    "Para testar a sua solução integrada com um assistente virtual e realizar a submissão, acesse a página:\n",
    "\n",
    "https://uninassau.maratona.dev\n",
    "\n",
    "Você irá precisar da endpoint url do seu modelo e das credenciais do WML :)"
   ]
  },
  {
   "cell_type": "code",
   "execution_count": null,
   "metadata": {},
   "outputs": [],
   "source": []
  }
 ],
 "metadata": {
  "kernelspec": {
   "display_name": "Python 3",
   "language": "python",
   "name": "python3"
  },
  "language_info": {
   "codemirror_mode": {
    "name": "ipython",
    "version": 3
   },
   "file_extension": ".py",
   "mimetype": "text/x-python",
   "name": "python",
   "nbconvert_exporter": "python",
   "pygments_lexer": "ipython3",
   "version": "3.7.7"
  }
 },
 "nbformat": 4,
 "nbformat_minor": 1
}
