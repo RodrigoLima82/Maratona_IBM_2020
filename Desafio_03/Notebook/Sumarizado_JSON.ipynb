{
 "cells": [
  {
   "cell_type": "markdown",
   "metadata": {},
   "source": [
    "## Importando Bibliotecas"
   ]
  },
  {
   "cell_type": "code",
   "execution_count": 1,
   "metadata": {},
   "outputs": [],
   "source": [
    "# Imports\n",
    "import sys\n",
    "import json\n",
    "import unicodedata\n",
    "from nltk.stem.lancaster import LancasterStemmer\n",
    "from nltk.tokenize import sent_tokenize,word_tokenize\n",
    "from nltk.corpus import stopwords\n",
    "from string import punctuation\n",
    "from nltk.probability import FreqDist\n",
    "from collections import defaultdict\n",
    "from heapq import nlargest"
   ]
  },
  {
   "cell_type": "markdown",
   "metadata": {},
   "source": [
    "## Funções para aplicar no texto"
   ]
  },
  {
   "cell_type": "code",
   "execution_count": 2,
   "metadata": {},
   "outputs": [],
   "source": [
    "def remove_punctuation(text):\n",
    "    return text.translate(tbl)\n",
    "\n",
    "def summarize(text, n):\n",
    "    sents = sent_tokenize(text)\n",
    "    \n",
    "    assert n <= len(sents)\n",
    "    word_sent = word_tokenize(text.lower())\n",
    "    _stopwords = set(stopwords.words('portuguese') + list(punctuation))\n",
    "    \n",
    "    word_sent=[word for word in word_sent if word not in _stopwords]\n",
    "    freq = FreqDist(word_sent)    \n",
    "    \n",
    "    ranking = defaultdict(int)\n",
    "    \n",
    "    for i,sent in enumerate(sents):\n",
    "        for w in word_tokenize(sent.lower()):\n",
    "            if w in freq:\n",
    "                ranking[i] += freq[w]\n",
    "             \n",
    "        \n",
    "    sents_idx = nlargest(n, ranking, key=ranking.get)\n",
    "    return [sents[j] for j in sorted(sents_idx)]"
   ]
  },
  {
   "cell_type": "markdown",
   "metadata": {},
   "source": [
    "## Sumariza o texto com tres frases"
   ]
  },
  {
   "cell_type": "code",
   "execution_count": 4,
   "metadata": {
    "scrolled": true
   },
   "outputs": [
    {
     "data": {
      "text/plain": [
       "['E percebi que, quando falamos sobre a física com as pessoas, a imagem que fazemos dela não inclui coisas que podemos fazer quando sabemos física.',\n",
       " 'Mas como ela não envolve pesquisar as estrelas, as pessoas, por alguma razão, pensam que não é. Bem, o legal disso é que há tantas coisas nessa parte do meio, todas obedecendo às mesmas leis da física, que podemos ver essas leis funcionando quase o tempo todo ao nosso redor.',\n",
       " 'E isso é realmente importante, porque a física tem a ver com padrões, e um pequeno número de padrões nos dá acesso a quase toda a física do nosso mundo cotidiano.',\n",
       " 'E existe o processo da experimentação: confiar nas coisas, tentar fazer coisas, pensamento crítico, como avançar com a ciência, e podemos aprender tudo isso brincando com as coisas do dia a dia.',\n",
       " 'Mas o que realmente precisamos mudar no modo como falamos sobre a física é que precisamos entender que física não é coisa de gente esquisita e de hieróglifos estranhos, e de alguém num laboratório chique.']"
      ]
     },
     "execution_count": 4,
     "metadata": {},
     "output_type": "execute_result"
    }
   ],
   "source": [
    "data = None\n",
    "\n",
    "with open('JSON/url_01.json') as json_data:\n",
    "    data = json.load(json_data)\n",
    "\n",
    "summarize(str(data),5)    "
   ]
  },
  {
   "cell_type": "code",
   "execution_count": 5,
   "metadata": {},
   "outputs": [
    {
     "data": {
      "text/plain": [
       "['Temos raciocínio dedutivo, temos inteligência emocional, temos inteligência espacial, temos talvez 100 tipos diferentes, que estão todos agrupados e que variam em diferentes intensidades, com pessoas diferentes.',\n",
       " 'A maior inovação durante a Revolução Industrial foi aproveitar a força do vapor e dos combustíveis fósseis para criar esta força artificial que podemos usar para fazer tudo o que quisermos.',\n",
       " 'Essa força artificial também pode ser distribuída pelos fios de uma rede para cada casa, fábrica, fazenda, e qualquer um poderia adquirir essa força artificial apenas ligando alguma coisa.',\n",
       " 'Irão, de fato, gerar novos tipos de empregos, novos tipos de tarefas que queremos que sejam feitas, assim como a automação criou uma série de coisas novas que não sabíamos que precisávamos antes, e que agora não conseguimos viver sem.',\n",
       " 'Penso que, daqui a 25 anos, eles irão olhar para trás, analisar nosso conhecimento de IA e dizer:  Vocês não tinham IA; na verdade, nem tinham a Internet ainda, em comparação com o que teremos daqui a 25 anos .']"
      ]
     },
     "execution_count": 5,
     "metadata": {},
     "output_type": "execute_result"
    }
   ],
   "source": [
    "data = None\n",
    "\n",
    "with open('JSON/url_02.json') as json_data:\n",
    "    data = json.load(json_data)\n",
    "\n",
    "summarize(str(data),5)    "
   ]
  },
  {
   "cell_type": "code",
   "execution_count": 6,
   "metadata": {},
   "outputs": [
    {
     "data": {
      "text/plain": [
       "['No ano passado, arqueólogos fizeram descobertas incríveis, incluindo: novos ancestrais humanos da África do Sul; ferramentas de 3,3 milhões de anos, as mais antigas já descobertas, no Quênia.',\n",
       " 'Ano passado, vimos manchetes horríveis de terrível destruição acontecendo em sítios arqueológicos e saques em massa pelo pessoal do Estado Islâmico, EI.',\n",
       " 'Sabemos que há dois tipos de saques acontecendo: saques por criminosos, como o EI, e saques locais, feitos por pessoas desesperadas por dinheiro.',\n",
       " 'Dá pra ver aqui o antes e o depois; as dezenas de fossos saqueados: norte de Lisht e o sul de Lisht, antes... e depois.',\n",
       " 'Um dia, muitos anos atrás, quando eu era uma jovem estudante da pós, e Omer era um jovem gufti que não sabia inglês muito bem, descobrimos, completamente por acaso, que tínhamos nascido no mesmo ano, no mesmo mês e no mesmo dia, com seis horas de diferença.']"
      ]
     },
     "execution_count": 6,
     "metadata": {},
     "output_type": "execute_result"
    }
   ],
   "source": [
    "data = None\n",
    "\n",
    "with open('JSON/url_03.json') as json_data:\n",
    "    data = json.load(json_data)\n",
    "\n",
    "summarize(str(data),5)    "
   ]
  },
  {
   "cell_type": "code",
   "execution_count": 7,
   "metadata": {},
   "outputs": [
    {
     "data": {
      "text/plain": [
       "['Se o julgamento humano não for mantido nesse processo, a IA trará uma forma aterrorizante de nova burocracia, que chamo de  algocracia , na qual a IA tomará decisões cada vez mais críticas segundo as regras fora de qualquer controle humano.',\n",
       " 'Para implantar  Pessoas mais IA , 10% do esforço é para codificar algoritmos; 20% para criar tecnologia em torno dos algoritmos, coletar dados, criar interface do usuário, integrar-se a sistemas legados; mas 70%, a maior parte do esforço, consiste em combinar IA com pessoas e processos para maximizar resultados reais.',\n",
       " 'Setenta por cento combinando IA com equipe e processos também significa construir interfaces poderosas para pessoas e IA resolverem juntas os problemas mais difíceis.',\n",
       " 'Estava na hora de recriar um modelo em que as pessoas não tentassem adivinhar quando a IA estava errada, mas em que a IA recebesse informações reais de compradores humanos.',\n",
       " 'Líderes de negócios precisam ser ousados e selecionar alguns assuntos e, para cada um deles, mobilizar 10, 20, 30 pessoas de suas melhores equipes, de tecnologia, IA, ciência de dados e ética, e passar pelo ciclo completo de 10, 20, 70% de  Pessoas mais IA , se quiserem colocar a IA efetivamente em suas equipes e processos.']"
      ]
     },
     "execution_count": 7,
     "metadata": {},
     "output_type": "execute_result"
    }
   ],
   "source": [
    "data = None\n",
    "\n",
    "with open('JSON/url_04.json') as json_data:\n",
    "    data = json.load(json_data)\n",
    "\n",
    "summarize(str(data),5)    "
   ]
  },
  {
   "cell_type": "code",
   "execution_count": 8,
   "metadata": {},
   "outputs": [
    {
     "data": {
      "text/plain": [
       "['Então eu tinha que pedir para um dos meus dois irmãos ler meus livros para mim e tive que criar meus próprios livros em Braille.',\n",
       " 'Avançando para meados dos anos 80, eu conheci tecnologias muito avançadas e pensei:  Como pode não haver tecnologia computacional para criar livros em Braille?',\n",
       " 'Eu comecei a desenvolver tecnologias de livros digitais como um editor digital de Braille, um dicionário digital em Braille e uma rede digital de bibliotecas em Braille.',\n",
       " 'Hoje, todo estudante com deficiência visual pode ler livros didáticos, utilizando computadores e dispositivos móveis, em Braille ou em áudio.',\n",
       " 'Mas o Braille se tornou digital muitos anos antes dos livros digitais, já no final da década de 80, quase 30 anos atrás.']"
      ]
     },
     "execution_count": 8,
     "metadata": {},
     "output_type": "execute_result"
    }
   ],
   "source": [
    "data = None\n",
    "\n",
    "with open('JSON/url_05.json') as json_data:\n",
    "    data = json.load(json_data)\n",
    "\n",
    "summarize(str(data),5)    "
   ]
  },
  {
   "cell_type": "code",
   "execution_count": 9,
   "metadata": {},
   "outputs": [
    {
     "data": {
      "text/plain": [
       "['Quando AIVA passa a fazer boas previsões, ela pode construir um conjunto de regras matemáticas para determinado estilo de música para poder criar suas próprias composições.',\n",
       " 'E precisávamos ensinar AIVA como compor a música certa para a pessoa certa, porque as pessoas têm preferências diferentes.',\n",
       " 'Dois anos e meio atrás, quando assistia o filme  Ela , pensei que música personalizada seria a próxima grande mudança em como consumimos e criamos música.',\n",
       " 'Esta é a nossa visão de AIVA: personalizar a música de tal forma que todos vocês, e todos indivíduos no mundo, possam ter acesso a uma trilha sonora ao vivo personalizada, baseada em sua história e personalidade.',\n",
       " 'Induzimos AIVA a compor uma música no estilo do jingle do TED e no estilo de música que nos causa um sentimento de admiração.']"
      ]
     },
     "execution_count": 9,
     "metadata": {},
     "output_type": "execute_result"
    }
   ],
   "source": [
    "data = None\n",
    "\n",
    "with open('JSON/url_06.json') as json_data:\n",
    "    data = json.load(json_data)\n",
    "\n",
    "summarize(str(data),5)    "
   ]
  },
  {
   "cell_type": "code",
   "execution_count": 10,
   "metadata": {},
   "outputs": [
    {
     "data": {
      "text/plain": [
       "['Mas talvez não saibam que projetamos a Siri como uma IA humanística, para aprimorar as pessoas com uma interface de comunicação, que permitiu a elas usar a computação móvel, independentemente de quem fossem e das capacidades que tivessem.',\n",
       " 'Se tivessem essa memória por toda a vida de vocês, poderiam deixar a IA examinar todas as interações que já tiveram com as pessoas, e ajudá-los a refletir sobre seus relacionamentos.',\n",
       " 'Não sei dizer quando ou quais os fatores envolvidos, mas acho que é inevitável, porque tudo que faz da IA um sucesso atualmente, a disponibilidade de dados abrangentes e a capacidade das máquinas de entender esses dados, podem ser aplicadas aos dados de nossa vida.',\n",
       " 'Podemos escolher utilizar a IA para automatizar e competir conosco, ou para nos aprimorar e colaborar conosco, para superar nossas limitações cognitivas e para nos ajudar a fazer o que quisermos, mas de uma forma melhor.',\n",
       " 'Conforme descobrimos novas formas de dar inteligência às máquinas, podemos distribuir essa inteligência a todos os assistentes de IA no mundo e, portanto, para cada pessoa, independentemente das circunstâncias.']"
      ]
     },
     "execution_count": 10,
     "metadata": {},
     "output_type": "execute_result"
    }
   ],
   "source": [
    "data = None\n",
    "\n",
    "with open('JSON/url_07.json') as json_data:\n",
    "    data = json.load(json_data)\n",
    "\n",
    "summarize(str(data),5)    "
   ]
  },
  {
   "cell_type": "code",
   "execution_count": 11,
   "metadata": {},
   "outputs": [
    {
     "data": {
      "text/plain": [
       "['Estamos presenciando uma fusão de tecnologias, exponenciais ocasionando mudanças radicais nos formatos das empresas, nas funções dos profissionais dentro das empresas, na forma como as pessoas compram, se comunicam, estudam, enfim, estamos sentindo em nosso dia a dia experiências nunca antes vividas.',\n",
       " 'Dentro deste novo cenário, o que antes era moldado pela eletricidade, será formatado pela cognificação, ainda mais quando outras tecnologias estão se fundindo para proporcionar novas soluções, tais como: Big Data, IoT, Neurohacking, Prototipação 3D, Nanotecnologia, Design Thinking, Deep Learning, Cloud Computing etc.',\n",
       " 'A biomedicina deverá passar por fortes evoluções, onde as tecnologias exponenciais já citadas irão desempenhar boa parte das funções que compete aos humanos hoje, cabendo ao ser humano as funções menos repetitivas e com maior demanda nas tomadas de decisões inéditas com pouco histórico.',\n",
       " 'A evolução dos equipamentos médicos está a todo vapor com a inserção da inteligência artificial e uma maior precisão do escaneamento humano, proporcionando diagnósticos com mais precisão e rapidez, ainda mais se pensarmos que todo diagnóstico, prevenção e tratamento poderão ter a colaboração de uma rede mundial de inteligências artificiais com machine learning interligada em cloud, trocando milhões e milhões de informações por segundo, onde tudo será compartilhado e aprendido.',\n",
       " 'Vamos vivenciar um cenário onde as tecnologias exponenciais estarão a cada dia mais próximas aos profissionais de todas as áreas como um grande aliado na solução de problemas utilizando Data Science, Inteligência Artificial, Cognificação, Optical Devices, Biopotenciais, Wearables, Realidade Virtual, Biomateriais, Robótica, Cibersegurança, Neurohacking, IoT - Internet of Things, Análise Preditiva e Data Mining, tudo em prol de maior assertividade e velocidade, melhorando a qualidade de vida das pessoas.']"
      ]
     },
     "execution_count": 11,
     "metadata": {},
     "output_type": "execute_result"
    }
   ],
   "source": [
    "data = None\n",
    "\n",
    "with open('JSON/url_08.json') as json_data:\n",
    "    data = json.load(json_data)\n",
    "\n",
    "summarize(str(data),5)    "
   ]
  },
  {
   "cell_type": "code",
   "execution_count": 12,
   "metadata": {},
   "outputs": [
    {
     "data": {
      "text/plain": [
       "[\"{'author': 'Wagner Sanchez', 'body': 'É importante ressaltar a importância da qualidade das informações apresentadas às inteligências artificiais e quem treina as redes neurais.\",\n",
       " 'Desta forma, as redes neurais artificiais aprendem como resolvemos problemas e passam a seguir os nossos padrões e, posteriormente, podem adotar seus próprios.',\n",
       " 'Neste contexto, é importante ressaltar a importância da qualidade das informações apresentadas às inteligências artificiais e, principalmente, a idoneidade das pessoas que estão treinando as redes neurais artificiais, pois corre-se o risco de se desenvolver inteligências artificiais preconceituosas, com tendências maléficas.',\n",
       " 'Enquanto a rede neural normal interpretava as figuras como sendo pássaros inofensivos, Norman interpretava as mesmas imagens como sendo pessoas mortas de forma violenta.',\n",
       " 'Dependendo das informações expostas e das pessoas envolvidas na transmissão de conhecimentos para as redes neurais artificiais, podemos ter surpresas desagradáveis em um futuro muito próximo.']"
      ]
     },
     "execution_count": 12,
     "metadata": {},
     "output_type": "execute_result"
    }
   ],
   "source": [
    "data = None\n",
    "\n",
    "with open('JSON/url_09.json') as json_data:\n",
    "    data = json.load(json_data)\n",
    "\n",
    "summarize(str(data),5)    "
   ]
  },
  {
   "cell_type": "code",
   "execution_count": 13,
   "metadata": {},
   "outputs": [
    {
     "data": {
      "text/plain": [
       "['{\\'author\\': \\'Renato Mota\\', \\'body\\': \"O professor de filosofia do MIT Bradford Skow defende que o tempo faz parte do tecido espaço-temporal do universo - enquanto só \\'percebemos\\' o presente, passado e futuro existem em outras dimensões.',\n",
       " 'Em seu livro  Objective Becoming , Skow detalha essa visão, que defende que tempo deve ser considerado como uma dimensão do espaço-tempo, como sustenta a teoria da relatividade.',\n",
       " 'A teoria do universo em bloco diz que você se espalha pelo tempo, da mesma maneira como se espalha no espaço , explica Skow.',\n",
       " 'No livro, Skow considera diversas explicações alternativas para como o tempo se comporta, mas se diz mais impressionado com a teoria dos  holofotes em movimento , que coloca passado e o futuro em pé de igualdade com o presente.',\n",
       " 'As experiências que você teve há um ou dez anos ainda são igualmente reais, afirma Skow; eles são apenas  inacessíveis  porque agora você está em uma parte diferente do espaço-tempo (o que inviabiliza, infelizmente, viagens no tempo).']"
      ]
     },
     "execution_count": 13,
     "metadata": {},
     "output_type": "execute_result"
    }
   ],
   "source": [
    "data = None\n",
    "\n",
    "with open('JSON/url_10.json') as json_data:\n",
    "    data = json.load(json_data)\n",
    "\n",
    "summarize(str(data),5)    "
   ]
  },
  {
   "cell_type": "code",
   "execution_count": 15,
   "metadata": {},
   "outputs": [
    {
     "data": {
      "text/plain": [
       "[\"{'author': 'Clara Guimarães', 'body': 'O modelo combina imagens e registros médicos para prever a doença com até 1 ano de antecedência e 87% de precisão.\",\n",
       " 'Pesquisadores da IBM desenvolveram um modelo de Inteligência Artificial (IA) que pode prever câncer de mama maligno com até 1 ano de antecedência e com 87% de precisão.',\n",
       " 'Embora já existam métodos de previsão de IA que dependem de imagens de mamografia e registros médicos, a IBM destaca-se por usar ambos - e obter, potencialmente, um resultado mais confiável.A abordagem da IBM treina a IA com imagens de mamografia anônimas ligadas a biomarcadores  e dados clínicos, permitindo a criação de um algoritmo de alta precisão, Ele consegue, portanto, reduzir a taxa de erro ao analisar além da imagem, vendo coisas como nível de ferro e funcionamento da tireoíde.',\n",
       " 'A forma de previsão da IBM pode não ser a mais rápida - considerando que o MIT lançou um projeto similar capaz de identificar o câncer com até 5 anos de antecedência-, mas ela está apostando em uma visão mais completa da situação, que não confie apenas em imagens e que atue em conjunto com médicos.',\n",
       " \"', 'title': 'Inteligência Artificial da IBM consegue prever câncer de mama', 'type': 'article', 'url': 'https://olhardigital.com.br/noticia/inteligencia-artificial-da-ibm-consegue-prever-cancer-de-mama/87030'}\"]"
      ]
     },
     "execution_count": 15,
     "metadata": {},
     "output_type": "execute_result"
    }
   ],
   "source": [
    "data = None\n",
    "\n",
    "with open('JSON/url_11.json') as json_data:\n",
    "    data = json.load(json_data)\n",
    "\n",
    "summarize(str(data),5)    "
   ]
  },
  {
   "cell_type": "code",
   "execution_count": 16,
   "metadata": {},
   "outputs": [
    {
     "data": {
      "text/plain": [
       "[\"{'author': 'Rafael Rigues', 'body': 'Tecnologia está sendo usada no design de partes dos trajes que serão usados em futuras missões tripuladas à Lua, como parte do programa Artemis.\",\n",
       " 'Batizados de Extravehicular Mobility Unit (Unidade de Mobilidade Extraveicular, xEMU), eles são o primeiro redesenho do equipamento em quase 40 anos, e serão usados nas futuras missões tripuladas à Lua no Programa Artemis.',\n",
       " 'A IA está sendo usada para projetar partes do  sistema portátil de suporte à vida , a  mochila  que os astronautas carregam nas costas, que regula sua temperatura corporal, fornece energia e abriga o sistema de comunicação do traje.Como este é o primeiro uso da tecnologia, por enquanto ela não está sendo usada em sistemas críticos.',\n",
       " 'Segundo Jesse Coors-Blankenship, Vice-Presidente de Tecnologia da PTC, empresa que desenvolveu o software usado pela Nasa,  consideramos a IA como uma tecnologia que pode fazer algo mais rápido e melhor do que um humano treinado pode fazer.',\n",
       " 'Segundo Jesse Craft, engenheiro sênior da Jacobs, empresa do Texas que foi contratada pela Nasa para auxiliar no projeto do xEMU,  o processo iterativo das máquinas é 100 ou 1.000 vezes mais rápido do que poderíamos fazer sozinhos, e o resultado é uma solução que é idealmente otimizada para nossos requisitos .']"
      ]
     },
     "execution_count": 16,
     "metadata": {},
     "output_type": "execute_result"
    }
   ],
   "source": [
    "data = None\n",
    "\n",
    "with open('JSON/url_12.json') as json_data:\n",
    "    data = json.load(json_data)\n",
    "\n",
    "summarize(str(data),5)    "
   ]
  },
  {
   "cell_type": "code",
   "execution_count": 17,
   "metadata": {},
   "outputs": [
    {
     "data": {
      "text/plain": [
       "[\"{'author': 'Jorge Vargas Neto', 'body': 'A IA permite o processamento maior de volume de dados, tornando a previsão de riscos de crédito mais precisa e em tempo real.\",\n",
       " 'A IA permite o processamento maior de volume de dados, além de mais camadas de informações, de modo a tornar a previsão de riscos de crédito mais precisa em tempo real.',\n",
       " 'Ou seja, a aplicação de algoritmos de aprendizado de máquina aos dados individualizados dos clientes, combinada a fundamentos de boa gestão de riscos, poderá otimizar a identificação de melhores estratégias no gerenciamento de risco de crédito.',\n",
       " 'Na análise de crédito, é possível introduzir a IA no processamento de dados de relacionamento com clientes, como saldo pendente, data de pagamento de parcelas, dias de atraso, nível de endividamento em relação ao faturamento e comprometimento.',\n",
       " 'A perspectiva para os próximos anos é que o crescimento da capacidade computacional, especialmente a partir da chegada dos processadores quânticos, permitirá o processamento de um conjunto de dados ainda maior, o que possibilita a individualização dos riscos de cada cliente e melhora da precisão dos modelos preditivos para muitas aplicações, como o gerenciamento de riscos de cartões de crédito em tempo real e outros.']"
      ]
     },
     "execution_count": 17,
     "metadata": {},
     "output_type": "execute_result"
    }
   ],
   "source": [
    "data = None\n",
    "\n",
    "with open('JSON/url_13.json') as json_data:\n",
    "    data = json.load(json_data)\n",
    "\n",
    "summarize(str(data),5)    "
   ]
  },
  {
   "cell_type": "code",
   "execution_count": 18,
   "metadata": {},
   "outputs": [
    {
     "data": {
      "text/plain": [
       "['Pesquisadores da Universidade da Califórnia Santa Cruz (UCSC) desenvolveram um poderoso programa de computador capaz de analisar dados detalhados de imagens astronômicas e ajudar cientistas a identificar e classificar galáxias e estrelas em grandes conjuntos de informações.',\n",
       " 'Outras soluções já usam tecnologia de deep learning para classificar galáxias, mas esses programas normalmente exigem que os pesquisadores observem a existência de um objeto para, na sequência, alimentar o algoritmo com novas imagens para identificar a galáxia correspondente.',\n",
       " 'Já o modelo dos cientistas da UCSC usa como recurso os dados de imagens originais, e é capaz de identificar diferentes elementos de uma mesma galáxias.',\n",
       " 'Para treinar o algoritmo de deep learning, os pesquisadores usaram informações de um estudo de 2015, no qual um grupo de astrônomos classificou cerca de 10 mil galáxias com a ajuda de dados do telescópio Hubble.',\n",
       " 'A expectativa é que o estudo de larga escala possa gerar enormes quantidades de dados de imagens, e Robertson está envolvido no planejamento de como usar essas informações para investigar a formação e a evolução de galáxias.']"
      ]
     },
     "execution_count": 18,
     "metadata": {},
     "output_type": "execute_result"
    }
   ],
   "source": [
    "data = None\n",
    "\n",
    "with open('JSON/url_14.json') as json_data:\n",
    "    data = json.load(json_data)\n",
    "\n",
    "summarize(str(data),5)    "
   ]
  },
  {
   "cell_type": "code",
   "execution_count": 19,
   "metadata": {},
   "outputs": [
    {
     "data": {
      "text/plain": [
       "[\"{'author': 'Isabella Câmara', 'body': 'Atualmente, os carros autônomos são alvo de muita curiosidade e, de acordo com João Paulo Navarro, arquiteto de soluções com foco em Deep Learning e computação de alto-desempenho da NVIDIA, suas vantagens falam por si só.\",\n",
       " 'Diferente dos humanos, o carro autônomo é capaz de pensar com mais agilidade e tomar decisões de forma rápida, enxerga de modo periférico e não enfrenta os principais obstáculos do trânsito – cansaço, distração, imprudência e consumo de álcool causam a morte de cerca de 1,25 milhão de pessoas todos os anos no mundo, de acordo com a Organização Mundial da Saúde.',\n",
       " 'Se queremos máquinas para pensar, precisamos ensiná-las a ver , disse Fei-Fei Li, uma das principais cientistas da Universidade de Stanford – e João Paulo revela que é nesta frase que está a verdadeira essência do deep learning.',\n",
       " 'Dessa forma, os carros autônomos serão dotados de um  cérebro , o que os tornará capazes de discernir se será necessário diminuir a velocidade devido a um cachorro em potencial no meio da rua ou seguir seu caminho caso o animal esteja fora de sua rota.Carros autônomos e deep learning no Brasil.',\n",
       " 'Atualmente, já existem diversos projetos no Brasil envolvendo a construção de carros autônomos – a maioria das iniciativas, apesar dos cortes que o governo fez em verbas para pesquisa e ciência, acontecem dentro das próprias universidades, diz Navarro.']"
      ]
     },
     "execution_count": 19,
     "metadata": {},
     "output_type": "execute_result"
    }
   ],
   "source": [
    "data = None\n",
    "\n",
    "with open('JSON/url_15.json') as json_data:\n",
    "    data = json.load(json_data)\n",
    "\n",
    "summarize(str(data),5)    "
   ]
  },
  {
   "cell_type": "code",
   "execution_count": null,
   "metadata": {},
   "outputs": [],
   "source": []
  }
 ],
 "metadata": {
  "kernelspec": {
   "display_name": "Python 3",
   "language": "python",
   "name": "python3"
  },
  "language_info": {
   "codemirror_mode": {
    "name": "ipython",
    "version": 3
   },
   "file_extension": ".py",
   "mimetype": "text/x-python",
   "name": "python",
   "nbconvert_exporter": "python",
   "pygments_lexer": "ipython3",
   "version": "3.7.7"
  }
 },
 "nbformat": 4,
 "nbformat_minor": 4
}
