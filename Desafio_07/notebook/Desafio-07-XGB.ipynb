{
 "cells": [
  {
   "cell_type": "markdown",
   "metadata": {},
   "source": [
    "# MARATONA BEHIND THE CODE 2020\n",
    "\n",
    "## DESAFIO 7: TNT\n",
    "\n",
    "## Testes com modelo XGBoost\n",
    "<br>\n",
    "\n",
    "![Image](https://abir.org.br/abir/wp-content/uploads/2019/04/tnt-1024x685.png)"
   ]
  },
  {
   "cell_type": "markdown",
   "metadata": {},
   "source": [
    "# Parte 01. Importando as bibliotecas"
   ]
  },
  {
   "cell_type": "code",
   "execution_count": 1,
   "metadata": {},
   "outputs": [
    {
     "name": "stderr",
     "output_type": "stream",
     "text": [
      "Using TensorFlow backend.\n"
     ]
    }
   ],
   "source": [
    "# Pacotes padrao\n",
    "import pandas as pd\n",
    "import numpy as np\n",
    "import seaborn as sns\n",
    "import matplotlib.pylab as plt\n",
    "%matplotlib inline\n",
    "\n",
    "# Pacote do sklearn\n",
    "from sklearn.model_selection import train_test_split, KFold\n",
    "from sklearn.metrics import accuracy_score, confusion_matrix, classification_report, precision_score\n",
    "from sklearn.metrics import roc_auc_score, recall_score\n",
    "from sklearn.preprocessing import StandardScaler, MinMaxScaler\n",
    "\n",
    "# Pacote ML\n",
    "from xgboost import XGBClassifier\n",
    "import xgboost as xgb\n",
    "\n",
    "# Pacote para balanceamento dos dados\n",
    "from imblearn.over_sampling import SMOTE\n",
    "\n",
    "# Pacote para hyperparametros\n",
    "import optuna\n",
    "import functools\n",
    "\n",
    "# Desativando warnings no jupyter\n",
    "import warnings\n",
    "warnings.filterwarnings('ignore')"
   ]
  },
  {
   "cell_type": "markdown",
   "metadata": {},
   "source": [
    "# Parte 02. Carregando o dataset de treino"
   ]
  },
  {
   "cell_type": "code",
   "execution_count": 2,
   "metadata": {},
   "outputs": [
    {
     "name": "stdout",
     "output_type": "stream",
     "text": [
      "Quantidade de registros e colunas:  (17015, 15)\n"
     ]
    },
    {
     "data": {
      "text/html": [
       "<div>\n",
       "<style scoped>\n",
       "    .dataframe tbody tr th:only-of-type {\n",
       "        vertical-align: middle;\n",
       "    }\n",
       "\n",
       "    .dataframe tbody tr th {\n",
       "        vertical-align: top;\n",
       "    }\n",
       "\n",
       "    .dataframe thead th {\n",
       "        text-align: right;\n",
       "    }\n",
       "</style>\n",
       "<table border=\"1\" class=\"dataframe\">\n",
       "  <thead>\n",
       "    <tr style=\"text-align: right;\">\n",
       "      <th></th>\n",
       "      <th>Tempo</th>\n",
       "      <th>Estacao</th>\n",
       "      <th>LAT</th>\n",
       "      <th>LONG</th>\n",
       "      <th>Movimentacao</th>\n",
       "      <th>Original_473</th>\n",
       "      <th>Original_269</th>\n",
       "      <th>Zero</th>\n",
       "      <th>Maca_Verde</th>\n",
       "      <th>Tangerina</th>\n",
       "      <th>Citrus</th>\n",
       "      <th>Acai_Guarana</th>\n",
       "      <th>Pessego</th>\n",
       "      <th>TARGET</th>\n",
       "      <th>row</th>\n",
       "    </tr>\n",
       "  </thead>\n",
       "  <tbody>\n",
       "    <tr>\n",
       "      <th>0</th>\n",
       "      <td>2019-12-30</td>\n",
       "      <td>Fradique Coutinho</td>\n",
       "      <td>-23.5661</td>\n",
       "      <td>-46.6841</td>\n",
       "      <td>35386</td>\n",
       "      <td>24</td>\n",
       "      <td>45</td>\n",
       "      <td>61</td>\n",
       "      <td>42</td>\n",
       "      <td>19</td>\n",
       "      <td>22</td>\n",
       "      <td>15</td>\n",
       "      <td>9</td>\n",
       "      <td>NORMAL</td>\n",
       "      <td>10800</td>\n",
       "    </tr>\n",
       "    <tr>\n",
       "      <th>1</th>\n",
       "      <td>2018-01-08</td>\n",
       "      <td>Luz</td>\n",
       "      <td>-23.5365</td>\n",
       "      <td>-46.6332</td>\n",
       "      <td>124806</td>\n",
       "      <td>15</td>\n",
       "      <td>10</td>\n",
       "      <td>10</td>\n",
       "      <td>29</td>\n",
       "      <td>10</td>\n",
       "      <td>25</td>\n",
       "      <td>14</td>\n",
       "      <td>13</td>\n",
       "      <td>NORMAL</td>\n",
       "      <td>10808</td>\n",
       "    </tr>\n",
       "    <tr>\n",
       "      <th>2</th>\n",
       "      <td>2018-04-17</td>\n",
       "      <td>Luz</td>\n",
       "      <td>-23.5365</td>\n",
       "      <td>-46.6332</td>\n",
       "      <td>125215</td>\n",
       "      <td>53</td>\n",
       "      <td>1</td>\n",
       "      <td>55</td>\n",
       "      <td>18</td>\n",
       "      <td>18</td>\n",
       "      <td>6</td>\n",
       "      <td>37</td>\n",
       "      <td>8</td>\n",
       "      <td>REABASTECER</td>\n",
       "      <td>10907</td>\n",
       "    </tr>\n",
       "    <tr>\n",
       "      <th>3</th>\n",
       "      <td>2018-07-18</td>\n",
       "      <td>Luz</td>\n",
       "      <td>-23.5365</td>\n",
       "      <td>-46.6332</td>\n",
       "      <td>126476</td>\n",
       "      <td>36</td>\n",
       "      <td>5</td>\n",
       "      <td>57</td>\n",
       "      <td>38</td>\n",
       "      <td>15</td>\n",
       "      <td>43</td>\n",
       "      <td>43</td>\n",
       "      <td>18</td>\n",
       "      <td>REABASTECER</td>\n",
       "      <td>10998</td>\n",
       "    </tr>\n",
       "    <tr>\n",
       "      <th>4</th>\n",
       "      <td>2018-08-28</td>\n",
       "      <td>Luz</td>\n",
       "      <td>-23.5365</td>\n",
       "      <td>-46.6332</td>\n",
       "      <td>125917</td>\n",
       "      <td>79</td>\n",
       "      <td>10</td>\n",
       "      <td>8</td>\n",
       "      <td>37</td>\n",
       "      <td>32</td>\n",
       "      <td>30</td>\n",
       "      <td>18</td>\n",
       "      <td>15</td>\n",
       "      <td>NORMAL</td>\n",
       "      <td>11038</td>\n",
       "    </tr>\n",
       "  </tbody>\n",
       "</table>\n",
       "</div>"
      ],
      "text/plain": [
       "        Tempo            Estacao      LAT     LONG  Movimentacao  \\\n",
       "0  2019-12-30  Fradique Coutinho -23.5661 -46.6841         35386   \n",
       "1  2018-01-08                Luz -23.5365 -46.6332        124806   \n",
       "2  2018-04-17                Luz -23.5365 -46.6332        125215   \n",
       "3  2018-07-18                Luz -23.5365 -46.6332        126476   \n",
       "4  2018-08-28                Luz -23.5365 -46.6332        125917   \n",
       "\n",
       "   Original_473  Original_269  Zero  Maca_Verde  Tangerina  Citrus  \\\n",
       "0            24            45    61          42         19      22   \n",
       "1            15            10    10          29         10      25   \n",
       "2            53             1    55          18         18       6   \n",
       "3            36             5    57          38         15      43   \n",
       "4            79            10     8          37         32      30   \n",
       "\n",
       "   Acai_Guarana  Pessego       TARGET    row  \n",
       "0            15        9       NORMAL  10800  \n",
       "1            14       13       NORMAL  10808  \n",
       "2            37        8  REABASTECER  10907  \n",
       "3            43       18  REABASTECER  10998  \n",
       "4            18       15       NORMAL  11038  "
      ]
     },
     "execution_count": 2,
     "metadata": {},
     "output_type": "execute_result"
    }
   ],
   "source": [
    "# Criando um dataframe a partir da lista de dados vindo do IoT e gravados no NoSQL\n",
    "treino = pd.read_csv(r'train_17015.csv')\n",
    "print('Quantidade de registros e colunas: ',treino.shape)\n",
    "treino.head()"
   ]
  },
  {
   "cell_type": "code",
   "execution_count": 3,
   "metadata": {
    "scrolled": true
   },
   "outputs": [
    {
     "name": "stdout",
     "output_type": "stream",
     "text": [
      "<class 'pandas.core.frame.DataFrame'>\n",
      "RangeIndex: 17015 entries, 0 to 17014\n",
      "Data columns (total 15 columns):\n",
      "Tempo           16921 non-null object\n",
      "Estacao         17015 non-null object\n",
      "LAT             17015 non-null float64\n",
      "LONG            17015 non-null float64\n",
      "Movimentacao    17015 non-null int64\n",
      "Original_473    17015 non-null int64\n",
      "Original_269    17015 non-null int64\n",
      "Zero            17015 non-null int64\n",
      "Maca_Verde      17015 non-null int64\n",
      "Tangerina       17015 non-null int64\n",
      "Citrus          17015 non-null int64\n",
      "Acai_Guarana    17015 non-null int64\n",
      "Pessego         17015 non-null int64\n",
      "TARGET          17015 non-null object\n",
      "row             17015 non-null int64\n",
      "dtypes: float64(2), int64(10), object(3)\n",
      "memory usage: 1.9+ MB\n"
     ]
    }
   ],
   "source": [
    "# Visualizando o tipo dos dados\n",
    "treino.info()"
   ]
  },
  {
   "cell_type": "code",
   "execution_count": 4,
   "metadata": {},
   "outputs": [
    {
     "data": {
      "text/html": [
       "<div>\n",
       "<style scoped>\n",
       "    .dataframe tbody tr th:only-of-type {\n",
       "        vertical-align: middle;\n",
       "    }\n",
       "\n",
       "    .dataframe tbody tr th {\n",
       "        vertical-align: top;\n",
       "    }\n",
       "\n",
       "    .dataframe thead th {\n",
       "        text-align: right;\n",
       "    }\n",
       "</style>\n",
       "<table border=\"1\" class=\"dataframe\">\n",
       "  <thead>\n",
       "    <tr style=\"text-align: right;\">\n",
       "      <th></th>\n",
       "      <th>TARGET</th>\n",
       "      <th>%</th>\n",
       "    </tr>\n",
       "  </thead>\n",
       "  <tbody>\n",
       "    <tr>\n",
       "      <th>NORMAL</th>\n",
       "      <td>11517</td>\n",
       "      <td>67.687</td>\n",
       "    </tr>\n",
       "    <tr>\n",
       "      <th>REABASTECER</th>\n",
       "      <td>5498</td>\n",
       "      <td>32.313</td>\n",
       "    </tr>\n",
       "  </tbody>\n",
       "</table>\n",
       "</div>"
      ],
      "text/plain": [
       "             TARGET       %\n",
       "NORMAL        11517  67.687\n",
       "REABASTECER    5498  32.313"
      ]
     },
     "execution_count": 4,
     "metadata": {},
     "output_type": "execute_result"
    },
    {
     "data": {
      "image/png": "[encoded data removed]",
      "text/plain": [
       "<Figure size 432x288 with 1 Axes>"
      ]
     },
     "metadata": {
      "needs_background": "light"
     },
     "output_type": "display_data"
    }
   ],
   "source": [
    "# Visualizando a distribuição das classes (variavel TARGET)\n",
    "pd.value_counts(treino['TARGET']).plot.bar()\n",
    "plt.title('TARGET histogram')\n",
    "plt.xlabel('TARGET')\n",
    "plt.ylabel('Frequency')\n",
    "\n",
    "# Visualizando um df com quantidade e percentual da variavel TARGET\n",
    "tmp = pd.DataFrame(treino['TARGET'].value_counts())\n",
    "tmp['%'] = round(100*tmp['TARGET']/tmp['TARGET'].sum(),3)\n",
    "tmp"
   ]
  },
  {
   "cell_type": "markdown",
   "metadata": {},
   "source": [
    "# Parte 03. Feature Engineering"
   ]
  },
  {
   "cell_type": "code",
   "execution_count": 5,
   "metadata": {},
   "outputs": [
    {
     "data": {
      "text/html": [
       "<div>\n",
       "<style scoped>\n",
       "    .dataframe tbody tr th:only-of-type {\n",
       "        vertical-align: middle;\n",
       "    }\n",
       "\n",
       "    .dataframe tbody tr th {\n",
       "        vertical-align: top;\n",
       "    }\n",
       "\n",
       "    .dataframe thead th {\n",
       "        text-align: right;\n",
       "    }\n",
       "</style>\n",
       "<table border=\"1\" class=\"dataframe\">\n",
       "  <thead>\n",
       "    <tr style=\"text-align: right;\">\n",
       "      <th></th>\n",
       "      <th>Original_473</th>\n",
       "      <th>Original_269</th>\n",
       "      <th>Zero</th>\n",
       "      <th>Maca_Verde</th>\n",
       "      <th>Tangerina</th>\n",
       "      <th>Citrus</th>\n",
       "      <th>Acai_Guarana</th>\n",
       "      <th>Pessego</th>\n",
       "      <th>TARGET</th>\n",
       "    </tr>\n",
       "  </thead>\n",
       "  <tbody>\n",
       "    <tr>\n",
       "      <th>0</th>\n",
       "      <td>24</td>\n",
       "      <td>45</td>\n",
       "      <td>61</td>\n",
       "      <td>42</td>\n",
       "      <td>19</td>\n",
       "      <td>22</td>\n",
       "      <td>15</td>\n",
       "      <td>9</td>\n",
       "      <td>NORMAL</td>\n",
       "    </tr>\n",
       "    <tr>\n",
       "      <th>1</th>\n",
       "      <td>15</td>\n",
       "      <td>10</td>\n",
       "      <td>10</td>\n",
       "      <td>29</td>\n",
       "      <td>10</td>\n",
       "      <td>25</td>\n",
       "      <td>14</td>\n",
       "      <td>13</td>\n",
       "      <td>NORMAL</td>\n",
       "    </tr>\n",
       "    <tr>\n",
       "      <th>2</th>\n",
       "      <td>53</td>\n",
       "      <td>1</td>\n",
       "      <td>55</td>\n",
       "      <td>18</td>\n",
       "      <td>18</td>\n",
       "      <td>6</td>\n",
       "      <td>37</td>\n",
       "      <td>8</td>\n",
       "      <td>REABASTECER</td>\n",
       "    </tr>\n",
       "    <tr>\n",
       "      <th>3</th>\n",
       "      <td>36</td>\n",
       "      <td>5</td>\n",
       "      <td>57</td>\n",
       "      <td>38</td>\n",
       "      <td>15</td>\n",
       "      <td>43</td>\n",
       "      <td>43</td>\n",
       "      <td>18</td>\n",
       "      <td>REABASTECER</td>\n",
       "    </tr>\n",
       "    <tr>\n",
       "      <th>4</th>\n",
       "      <td>79</td>\n",
       "      <td>10</td>\n",
       "      <td>8</td>\n",
       "      <td>37</td>\n",
       "      <td>32</td>\n",
       "      <td>30</td>\n",
       "      <td>18</td>\n",
       "      <td>15</td>\n",
       "      <td>NORMAL</td>\n",
       "    </tr>\n",
       "  </tbody>\n",
       "</table>\n",
       "</div>"
      ],
      "text/plain": [
       "   Original_473  Original_269  Zero  Maca_Verde  Tangerina  Citrus  \\\n",
       "0            24            45    61          42         19      22   \n",
       "1            15            10    10          29         10      25   \n",
       "2            53             1    55          18         18       6   \n",
       "3            36             5    57          38         15      43   \n",
       "4            79            10     8          37         32      30   \n",
       "\n",
       "   Acai_Guarana  Pessego       TARGET  \n",
       "0            15        9       NORMAL  \n",
       "1            14       13       NORMAL  \n",
       "2            37        8  REABASTECER  \n",
       "3            43       18  REABASTECER  \n",
       "4            18       15       NORMAL  "
      ]
     },
     "execution_count": 5,
     "metadata": {},
     "output_type": "execute_result"
    }
   ],
   "source": [
    "# Removendo colunas que não serão utilizadas no treinamento\n",
    "treino = treino.drop(['Tempo','Estacao','Movimentacao','LAT','LONG', 'row'], axis = 1)\n",
    "\n",
    "# Converte colunas para numerico\n",
    "treino = treino.apply(pd.to_numeric, errors='ignore')\n",
    "\n",
    "# Visualizando os primeiros registros\n",
    "treino.head()"
   ]
  },
  {
   "cell_type": "markdown",
   "metadata": {},
   "source": [
    "# Parte 04. Modelagem Preditiva\n",
    "> - Nesta fase estarei construindo os modelos preditivos\n",
    "> - Vou utilizar o modelo XGB para treinamento"
   ]
  },
  {
   "cell_type": "code",
   "execution_count": 6,
   "metadata": {},
   "outputs": [],
   "source": [
    "# Definindo alguns parametros\n",
    "SEED  = 42"
   ]
  },
  {
   "cell_type": "code",
   "execution_count": 7,
   "metadata": {},
   "outputs": [],
   "source": [
    "# Selecionando features para treinamento\n",
    "X = treino.drop(['TARGET'], axis = 1)\n",
    "\n",
    "# Selecionando feature target\n",
    "y = treino['TARGET']\n",
    "\n",
    "# Transformando target em tipo numerico\n",
    "y = y.astype(\"category\").cat.codes\n",
    "\n",
    "# Padronizando os dados (0 para a média, 1 para o desvio padrão)\n",
    "X = StandardScaler().fit_transform(X)\n",
    "\n",
    "# Split dos dados\n",
    "X_treino, X_teste, y_treino, y_teste = train_test_split(X, y, test_size = .2, random_state = SEED, stratify = y)"
   ]
  },
  {
   "cell_type": "markdown",
   "metadata": {},
   "source": [
    "### Sem Balanceamento dos dados"
   ]
  },
  {
   "cell_type": "code",
   "execution_count": 8,
   "metadata": {},
   "outputs": [
    {
     "name": "stdout",
     "output_type": "stream",
     "text": [
      "Acurácia: 75.79%\n",
      "Sensibilidade : 0.6972727272727273\n",
      "Especificidade : 0.7867998263135041\n",
      "\n",
      "\n",
      "              precision    recall  f1-score   support\n",
      "\n",
      "           0       0.84      0.79      0.81      2303\n",
      "           1       0.61      0.70      0.65      1100\n",
      "\n",
      "    accuracy                           0.76      3403\n",
      "   macro avg       0.73      0.74      0.73      3403\n",
      "weighted avg       0.77      0.76      0.76      3403\n",
      "\n"
     ]
    },
    {
     "data": {
      "image/png": "[encoded data removed]",
      "text/plain": [
       "<Figure size 432x432 with 2 Axes>"
      ]
     },
     "metadata": {},
     "output_type": "display_data"
    }
   ],
   "source": [
    "# Criando o modelo\n",
    "modelo_xgb_v1 = XGBClassifier()\n",
    "\n",
    "# Treinando o modelo\n",
    "modelo_xgb_v1.fit(X_treino, y_treino)\n",
    "\n",
    "# Fazendo previsões\n",
    "xgb_y_pred = modelo_xgb_v1.predict(X_teste)\n",
    "previsoes = [round(value) for value in xgb_y_pred]\n",
    "\n",
    "# Avaliando as previsões\n",
    "xgb_score_v1 = accuracy_score(y_teste, previsoes)\n",
    "print(\"Acurácia: %.2f%%\" % (xgb_score_v1 * 100.0))\n",
    "\n",
    "# Cria a matriz de confusão\n",
    "conf_matriz_xgb = confusion_matrix(y_teste, xgb_y_pred)\n",
    "    \n",
    "# Calcula especificidade e sensibilidade\n",
    "speci_xgb = conf_matriz_xgb[0,0] / (conf_matriz_xgb[0,0] + conf_matriz_xgb[0,1])\n",
    "sensi_xgb = conf_matriz_xgb[1,1] / (conf_matriz_xgb[1,0] + conf_matriz_xgb[1,1])\n",
    "\n",
    "# Print\n",
    "print('Sensibilidade :', sensi_xgb)\n",
    "print('Especificidade :', speci_xgb)\n",
    "print('\\n')\n",
    "\n",
    "# Matriz de Confusão gráfica\n",
    "sns.set(rc={'figure.figsize':(6, 6)})\n",
    "sns.heatmap(conf_matriz_xgb, \n",
    "            annot = True, \n",
    "            fmt = \".0f\", \n",
    "            linewidths = .5, \n",
    "            square = True, \n",
    "            cmap = 'RdBu_r')\n",
    "\n",
    "# Labels e Títulos\n",
    "plt.ylabel('Label Verdadeiro')\n",
    "plt.xlabel('Label Previsto')\n",
    "plt.title('Acurácia: {:.2f}'.format(xgb_score_v1), size = 15)\n",
    "\n",
    "# Relatório de Classificação\n",
    "print(classification_report(y_teste, xgb_y_pred))"
   ]
  },
  {
   "cell_type": "markdown",
   "metadata": {},
   "source": [
    "### Com Balanceamento dos dados"
   ]
  },
  {
   "cell_type": "code",
   "execution_count": 9,
   "metadata": {},
   "outputs": [],
   "source": [
    "# Aplicando a funcao SMOTE\n",
    "sm = SMOTE(random_state=0)\n",
    "X_treino_bal, y_treino_bal = sm.fit_sample(X_treino, y_treino)"
   ]
  },
  {
   "cell_type": "code",
   "execution_count": 10,
   "metadata": {
    "scrolled": false
   },
   "outputs": [
    {
     "name": "stdout",
     "output_type": "stream",
     "text": [
      "Acurácia: 76.26%\n",
      "Sensibilidade : 0.7263636363636363\n",
      "Especificidade : 0.7798523664785063\n",
      "\n",
      "\n",
      "              precision    recall  f1-score   support\n",
      "\n",
      "           0       0.86      0.78      0.82      2303\n",
      "           1       0.61      0.73      0.66      1100\n",
      "\n",
      "    accuracy                           0.76      3403\n",
      "   macro avg       0.73      0.75      0.74      3403\n",
      "weighted avg       0.78      0.76      0.77      3403\n",
      "\n"
     ]
    },
    {
     "data": {
      "image/png": "[encoded data removed]",
      "text/plain": [
       "<Figure size 432x432 with 2 Axes>"
      ]
     },
     "metadata": {},
     "output_type": "display_data"
    }
   ],
   "source": [
    "# Criando o modelo\n",
    "modelo_xgb_v2 = XGBClassifier()\n",
    "\n",
    "# Treinando o modelo\n",
    "modelo_xgb_v2.fit(X_treino_bal, y_treino_bal)\n",
    "\n",
    "# Fazendo previsões\n",
    "xgb_y_pred = modelo_xgb_v2.predict(X_teste)\n",
    "previsoes = [round(value) for value in xgb_y_pred]\n",
    "\n",
    "# Avaliando as previsões\n",
    "xgb_score_v2 = accuracy_score(y_teste, previsoes)\n",
    "print(\"Acurácia: %.2f%%\" % (xgb_score_v2 * 100.0))\n",
    "\n",
    "# Cria a matriz de confusão\n",
    "conf_matriz_xgb = confusion_matrix(y_teste, xgb_y_pred)\n",
    "    \n",
    "# Calcula especificidade e sensibilidade\n",
    "speci_xgb = conf_matriz_xgb[0,0] / (conf_matriz_xgb[0,0] + conf_matriz_xgb[0,1])\n",
    "sensi_xgb = conf_matriz_xgb[1,1] / (conf_matriz_xgb[1,0] + conf_matriz_xgb[1,1])\n",
    "\n",
    "# Print\n",
    "print('Sensibilidade :', sensi_xgb)\n",
    "print('Especificidade :', speci_xgb)\n",
    "print('\\n')\n",
    "\n",
    "# Matriz de Confusão gráfica\n",
    "sns.set(rc={'figure.figsize':(6, 6)})\n",
    "sns.heatmap(conf_matriz_xgb, \n",
    "            annot = True, \n",
    "            fmt = \".0f\", \n",
    "            linewidths = .5, \n",
    "            square = True, \n",
    "            cmap = 'RdBu_r')\n",
    "\n",
    "# Labels e Títulos\n",
    "plt.ylabel('Label Verdadeiro')\n",
    "plt.xlabel('Label Previsto')\n",
    "plt.title('Acurácia: {:.2f}'.format(xgb_score_v2), size = 15)\n",
    "\n",
    "# Relatório de Classificação\n",
    "print(classification_report(y_teste, xgb_y_pred))"
   ]
  },
  {
   "cell_type": "markdown",
   "metadata": {},
   "source": [
    "### Identificando os melhores Hyperparametros"
   ]
  },
  {
   "cell_type": "code",
   "execution_count": 11,
   "metadata": {},
   "outputs": [],
   "source": [
    "def objective(trial):\n",
    "    # Selecionando features para treinamento\n",
    "    X = treino.drop(['TARGET'], axis = 1)\n",
    "\n",
    "    # Selecionando feature target\n",
    "    y = treino['TARGET']\n",
    "\n",
    "    # Transformando target em tipo numerico\n",
    "    y = y.astype(\"category\").cat.codes\n",
    "\n",
    "    # Padronizando os dados (0 para a média, 1 para o desvio padrão)\n",
    "    X = StandardScaler().fit_transform(X)\n",
    "\n",
    "    # Split dos dados\n",
    "    X_treino, X_teste, y_treino, y_teste = train_test_split(X, y, test_size = .2, random_state = SEED, stratify = y)    \n",
    "\n",
    "    dtrain = xgb.DMatrix(X_treino, label=y_treino)\n",
    "    dvalid = xgb.DMatrix(X_teste, label=y_teste)\n",
    "\n",
    "    param = {\n",
    "        \"silent\": 1,\n",
    "        \"objective\": \"binary:logistic\",\n",
    "        \"eval_metric\": \"auc\",\n",
    "        \"booster\": trial.suggest_categorical(\"booster\", [\"gbtree\", \"gblinear\", \"dart\"]),\n",
    "        \"lambda\": trial.suggest_float(\"lambda\", 1e-8, 1.0, log=True),\n",
    "        \"alpha\": trial.suggest_float(\"alpha\", 1e-8, 1.0, log=True),\n",
    "    }\n",
    "\n",
    "    if param[\"booster\"] == \"gbtree\" or param[\"booster\"] == \"dart\":\n",
    "        param[\"max_depth\"] = trial.suggest_int(\"max_depth\", 1, 9)\n",
    "        param[\"eta\"] = trial.suggest_float(\"eta\", 1e-8, 1.0, log=True)\n",
    "        param[\"gamma\"] = trial.suggest_float(\"gamma\", 1e-8, 1.0, log=True)\n",
    "        param[\"grow_policy\"] = trial.suggest_categorical(\"grow_policy\", [\"depthwise\", \"lossguide\"])\n",
    "    if param[\"booster\"] == \"dart\":\n",
    "        param[\"sample_type\"] = trial.suggest_categorical(\"sample_type\", [\"uniform\", \"weighted\"])\n",
    "        param[\"normalize_type\"] = trial.suggest_categorical(\"normalize_type\", [\"tree\", \"forest\"])\n",
    "        param[\"rate_drop\"] = trial.suggest_float(\"rate_drop\", 1e-8, 1.0, log=True)\n",
    "        param[\"skip_drop\"] = trial.suggest_float(\"skip_drop\", 1e-8, 1.0, log=True)\n",
    "\n",
    "    # Add a callback for pruning.\n",
    "    pruning_callback = optuna.integration.XGBoostPruningCallback(trial, \"validation-auc\")\n",
    "    bst = xgb.train(param, dtrain, evals=[(dvalid, \"validation\")], callbacks=[pruning_callback])\n",
    "    preds = bst.predict(dvalid)\n",
    "    pred_labels = np.rint(preds)\n",
    "    accuracy = accuracy_score(y_teste, pred_labels)\n",
    "    return accuracy"
   ]
  },
  {
   "cell_type": "code",
   "execution_count": 12,
   "metadata": {
    "scrolled": true
   },
   "outputs": [
    {
     "name": "stdout",
     "output_type": "stream",
     "text": [
      "[0]\tvalidation-auc:0.81693\n",
      "[1]\tvalidation-auc:0.81555\n",
      "[2]\tvalidation-auc:0.81208\n",
      "[3]\tvalidation-auc:0.81686\n",
      "[4]\tvalidation-auc:0.81663\n",
      "[5]\tvalidation-auc:0.81491\n",
      "[6]\tvalidation-auc:0.81781\n",
      "[7]\tvalidation-auc:0.81447\n",
      "[8]\tvalidation-auc:0.81572\n",
      "[9]\tvalidation-auc:0.81401\n"
     ]
    },
    {
     "name": "stderr",
     "output_type": "stream",
     "text": [
      "[I 2020-09-10 16:40:56,878] Finished trial#0 with value: 0.7716720540699383 with parameters: {'booster': 'dart', 'lambda': 8.559835117041465e-05, 'alpha': 0.0004312506771536429, 'max_depth': 7, 'eta': 1.0833452991236941e-07, 'gamma': 3.2353950249549464e-05, 'grow_policy': 'lossguide', 'sample_type': 'weighted', 'normalize_type': 'forest', 'rate_drop': 0.19071378727082175, 'skip_drop': 4.950876424999997e-06}. Best is trial#0 with value: 0.7716720540699383.\n"
     ]
    },
    {
     "name": "stdout",
     "output_type": "stream",
     "text": [
      "[0]\tvalidation-auc:0.72272\n",
      "[1]\tvalidation-auc:0.72272\n",
      "[2]\tvalidation-auc:0.72272\n",
      "[3]\tvalidation-auc:0.72272\n",
      "[4]\tvalidation-auc:0.72272\n",
      "[5]\tvalidation-auc:0.72272\n",
      "[6]\tvalidation-auc:0.72272\n",
      "[7]\tvalidation-auc:0.72272\n",
      "[8]\tvalidation-auc:0.72272\n",
      "[9]\tvalidation-auc:0.72272\n"
     ]
    },
    {
     "name": "stderr",
     "output_type": "stream",
     "text": [
      "[I 2020-09-10 16:40:57,089] Finished trial#1 with value: 0.7508081104907435 with parameters: {'booster': 'dart', 'lambda': 2.5806853508658626e-05, 'alpha': 0.0001441422977491492, 'max_depth': 4, 'eta': 0.0002976295325946508, 'gamma': 0.0015943775300971948, 'grow_policy': 'depthwise', 'sample_type': 'weighted', 'normalize_type': 'forest', 'rate_drop': 3.1984363327612886e-05, 'skip_drop': 0.0346357826837619}. Best is trial#0 with value: 0.7716720540699383.\n"
     ]
    },
    {
     "name": "stdout",
     "output_type": "stream",
     "text": [
      "[0]\tvalidation-auc:0.50000\n",
      "[1]\tvalidation-auc:0.50000\n",
      "[2]\tvalidation-auc:0.50000\n",
      "[3]\tvalidation-auc:0.50000\n",
      "[4]\tvalidation-auc:0.50000\n",
      "[5]\tvalidation-auc:0.50000\n",
      "[6]\tvalidation-auc:0.50000\n",
      "[7]\tvalidation-auc:0.50000\n",
      "[8]\tvalidation-auc:0.50000\n",
      "[9]\tvalidation-auc:0.50000\n"
     ]
    },
    {
     "name": "stderr",
     "output_type": "stream",
     "text": [
      "[I 2020-09-10 16:40:57,343] Finished trial#2 with value: 0.6767558037026153 with parameters: {'booster': 'gblinear', 'lambda': 0.14015417091645196, 'alpha': 0.21368867314365403}. Best is trial#0 with value: 0.7716720540699383.\n"
     ]
    },
    {
     "name": "stdout",
     "output_type": "stream",
     "text": [
      "[0]\tvalidation-auc:0.50000\n",
      "[1]\tvalidation-auc:0.50000\n",
      "[2]\tvalidation-auc:0.50000\n",
      "[3]\tvalidation-auc:0.50000\n",
      "[4]\tvalidation-auc:0.50000\n",
      "[5]\tvalidation-auc:0.50000\n",
      "[6]\tvalidation-auc:0.50000\n",
      "[7]\tvalidation-auc:0.50000\n",
      "[8]\tvalidation-auc:0.50000\n",
      "[9]\tvalidation-auc:0.50000\n"
     ]
    },
    {
     "name": "stderr",
     "output_type": "stream",
     "text": [
      "[I 2020-09-10 16:40:57,522] Finished trial#3 with value: 0.6767558037026153 with parameters: {'booster': 'gblinear', 'lambda': 1.340754343565088e-05, 'alpha': 0.4202558924643398}. Best is trial#0 with value: 0.7716720540699383.\n"
     ]
    },
    {
     "name": "stdout",
     "output_type": "stream",
     "text": [
      "[0]\tvalidation-auc:0.75054\n",
      "[1]\tvalidation-auc:0.75078\n",
      "[2]\tvalidation-auc:0.75078\n",
      "[3]\tvalidation-auc:0.75078\n",
      "[4]\tvalidation-auc:0.75078\n",
      "[5]\tvalidation-auc:0.75078\n",
      "[6]\tvalidation-auc:0.75078\n",
      "[7]\tvalidation-auc:0.75078\n",
      "[8]\tvalidation-auc:0.75078\n",
      "[9]\tvalidation-auc:0.75078\n"
     ]
    },
    {
     "name": "stderr",
     "output_type": "stream",
     "text": [
      "[I 2020-09-10 16:40:57,712] Finished trial#4 with value: 0.7508081104907435 with parameters: {'booster': 'gbtree', 'lambda': 5.392437908816718e-08, 'alpha': 0.15868505350310597, 'max_depth': 5, 'eta': 0.001153848822449224, 'gamma': 1.4311641866999205e-06, 'grow_policy': 'depthwise'}. Best is trial#0 with value: 0.7716720540699383.\n"
     ]
    },
    {
     "name": "stdout",
     "output_type": "stream",
     "text": [
      "[0]\tvalidation-auc:0.75113\n",
      "[1]\tvalidation-auc:0.79270\n",
      "[2]\tvalidation-auc:0.82506\n",
      "[3]\tvalidation-auc:0.84828\n",
      "[4]\tvalidation-auc:0.85099\n",
      "[5]\tvalidation-auc:0.85302\n",
      "[6]\tvalidation-auc:0.85138\n",
      "[7]\tvalidation-auc:0.85261\n",
      "[8]\tvalidation-auc:0.85143\n",
      "[9]\tvalidation-auc:0.85463\n"
     ]
    },
    {
     "name": "stderr",
     "output_type": "stream",
     "text": [
      "[I 2020-09-10 16:40:57,901] Finished trial#5 with value: 0.7355274757566853 with parameters: {'booster': 'gbtree', 'lambda': 0.0016552921293333598, 'alpha': 1.378875471190433e-08, 'max_depth': 5, 'eta': 0.09687133610435336, 'gamma': 0.02725721746649777, 'grow_policy': 'depthwise'}. Best is trial#0 with value: 0.7716720540699383.\n"
     ]
    },
    {
     "name": "stdout",
     "output_type": "stream",
     "text": [
      "[0]\tvalidation-auc:0.50000\n",
      "[1]\tvalidation-auc:0.50000\n",
      "[2]\tvalidation-auc:0.50000\n",
      "[3]\tvalidation-auc:0.50000\n",
      "[4]\tvalidation-auc:0.50000\n",
      "[5]\tvalidation-auc:0.50000\n",
      "[6]\tvalidation-auc:0.50000\n",
      "[7]\tvalidation-auc:0.50000\n",
      "[8]\tvalidation-auc:0.50000\n",
      "[9]\tvalidation-auc:0.50000\n"
     ]
    },
    {
     "name": "stderr",
     "output_type": "stream",
     "text": [
      "[I 2020-09-10 16:40:58,065] Finished trial#6 with value: 0.6767558037026153 with parameters: {'booster': 'gblinear', 'lambda': 0.9800763728372618, 'alpha': 0.28560782123261796}. Best is trial#0 with value: 0.7716720540699383.\n"
     ]
    },
    {
     "name": "stdout",
     "output_type": "stream",
     "text": [
      "[0]\tvalidation-auc:0.72278\n",
      "[1]\tvalidation-auc:0.72293\n",
      "[2]\tvalidation-auc:0.72293\n",
      "[3]\tvalidation-auc:0.72257\n",
      "[4]\tvalidation-auc:0.72257\n",
      "[5]\tvalidation-auc:0.72293\n",
      "[6]\tvalidation-auc:0.72293\n",
      "[7]\tvalidation-auc:0.72293\n",
      "[8]\tvalidation-auc:0.72275\n",
      "[9]\tvalidation-auc:0.72275\n"
     ]
    },
    {
     "name": "stderr",
     "output_type": "stream",
     "text": [
      "[I 2020-09-10 16:40:58,332] Finished trial#7 with value: 0.7508081104907435 with parameters: {'booster': 'dart', 'lambda': 0.11964882180012995, 'alpha': 4.1330303406587653e-07, 'max_depth': 4, 'eta': 2.7696560150921315e-06, 'gamma': 0.003288625881682833, 'grow_policy': 'lossguide', 'sample_type': 'weighted', 'normalize_type': 'tree', 'rate_drop': 0.0002803834425624202, 'skip_drop': 2.376621433757787e-07}. Best is trial#0 with value: 0.7716720540699383.\n"
     ]
    },
    {
     "name": "stdout",
     "output_type": "stream",
     "text": [
      "[0]\tvalidation-auc:0.67627\n",
      "[1]\tvalidation-auc:0.67648\n",
      "[2]\tvalidation-auc:0.67664\n",
      "[3]\tvalidation-auc:0.67674\n",
      "[4]\tvalidation-auc:0.67682\n",
      "[5]\tvalidation-auc:0.67688\n",
      "[6]\tvalidation-auc:0.67690\n",
      "[7]\tvalidation-auc:0.67692\n",
      "[8]\tvalidation-auc:0.67694\n",
      "[9]\tvalidation-auc:0.67694\n"
     ]
    },
    {
     "name": "stderr",
     "output_type": "stream",
     "text": [
      "[I 2020-09-10 16:40:58,510] Finished trial#8 with value: 0.6738172200999119 with parameters: {'booster': 'gblinear', 'lambda': 2.163177753137953e-08, 'alpha': 4.810818031788745e-05}. Best is trial#0 with value: 0.7716720540699383.\n"
     ]
    },
    {
     "name": "stdout",
     "output_type": "stream",
     "text": [
      "[0]\tvalidation-auc:0.75152\n",
      "[1]\tvalidation-auc:0.79349\n",
      "[2]\tvalidation-auc:0.84996\n",
      "[3]\tvalidation-auc:0.84952\n",
      "[4]\tvalidation-auc:0.85027\n",
      "[5]\tvalidation-auc:0.85311\n",
      "[6]\tvalidation-auc:0.85092\n",
      "[7]\tvalidation-auc:0.85115\n",
      "[8]\tvalidation-auc:0.85021\n",
      "[9]\tvalidation-auc:0.85167\n"
     ]
    },
    {
     "name": "stderr",
     "output_type": "stream",
     "text": [
      "[I 2020-09-10 16:40:58,704] Finished trial#9 with value: 0.7264178665883044 with parameters: {'booster': 'dart', 'lambda': 0.1414911982311263, 'alpha': 0.1111963955345812, 'max_depth': 5, 'eta': 0.10509150974084544, 'gamma': 0.0037042096179132388, 'grow_policy': 'lossguide', 'sample_type': 'weighted', 'normalize_type': 'tree', 'rate_drop': 7.793113770214274e-07, 'skip_drop': 5.154896208521309e-06}. Best is trial#0 with value: 0.7716720540699383.\n"
     ]
    },
    {
     "name": "stdout",
     "output_type": "stream",
     "text": [
      "[0]\tvalidation-auc:0.75036\n",
      "[1]\tvalidation-auc:0.74965\n",
      "[2]\tvalidation-auc:0.75051\n",
      "[3]\tvalidation-auc:0.75040\n",
      "[4]\tvalidation-auc:0.75098\n",
      "[5]\tvalidation-auc:0.74959\n",
      "[6]\tvalidation-auc:0.74947\n",
      "[7]\tvalidation-auc:0.75051\n",
      "[8]\tvalidation-auc:0.75038\n",
      "[9]\tvalidation-auc:0.74945\n"
     ]
    },
    {
     "name": "stderr",
     "output_type": "stream",
     "text": [
      "[I 2020-09-10 16:40:58,897] Finished trial#10 with value: 0.7508081104907435 with parameters: {'booster': 'dart', 'lambda': 0.0010379007476967184, 'alpha': 0.00045771316258890734, 'max_depth': 5, 'eta': 1.6121098664944054e-07, 'gamma': 0.0003628094474541428, 'grow_policy': 'lossguide', 'sample_type': 'weighted', 'normalize_type': 'tree', 'rate_drop': 0.004787022823716284, 'skip_drop': 1.4464053502003001e-05}. Best is trial#0 with value: 0.7716720540699383.\n"
     ]
    },
    {
     "name": "stdout",
     "output_type": "stream",
     "text": [
      "[0]\tvalidation-auc:0.84302\n",
      "[1]\tvalidation-auc:0.84383\n",
      "[2]\tvalidation-auc:0.84106\n",
      "[3]\tvalidation-auc:0.84223\n",
      "[4]\tvalidation-auc:0.84072\n",
      "[5]\tvalidation-auc:0.84093\n",
      "[6]\tvalidation-auc:0.84236\n",
      "[7]\tvalidation-auc:0.84208\n",
      "[8]\tvalidation-auc:0.84193\n",
      "[9]\tvalidation-auc:0.84360\n"
     ]
    },
    {
     "name": "stderr",
     "output_type": "stream",
     "text": [
      "[I 2020-09-10 16:40:59,119] Finished trial#11 with value: 0.7699089039083162 with parameters: {'booster': 'dart', 'lambda': 5.484821742812336e-06, 'alpha': 0.00044159252973415236, 'max_depth': 9, 'eta': 0.10135863932816383, 'gamma': 5.199514908200365e-08, 'grow_policy': 'lossguide', 'sample_type': 'uniform', 'normalize_type': 'forest', 'rate_drop': 0.00018343271564934602, 'skip_drop': 4.911100651526778e-07}. Best is trial#0 with value: 0.7716720540699383.\n"
     ]
    },
    {
     "name": "stdout",
     "output_type": "stream",
     "text": [
      "[0]\tvalidation-auc:0.83703\n",
      "[1]\tvalidation-auc:0.83656\n",
      "[2]\tvalidation-auc:0.83922\n",
      "[3]\tvalidation-auc:0.84255\n",
      "[4]\tvalidation-auc:0.83908\n",
      "[5]\tvalidation-auc:0.83807\n",
      "[6]\tvalidation-auc:0.83746\n",
      "[7]\tvalidation-auc:0.83746\n",
      "[8]\tvalidation-auc:0.84245\n",
      "[9]\tvalidation-auc:0.84251\n"
     ]
    },
    {
     "name": "stderr",
     "output_type": "stream",
     "text": [
      "[I 2020-09-10 16:40:59,344] Finished trial#12 with value: 0.7725536291507493 with parameters: {'booster': 'dart', 'lambda': 1.1190627642547482e-06, 'alpha': 0.002283230966290516, 'max_depth': 9, 'eta': 1.7682230862770616e-05, 'gamma': 1.5177863900177063e-08, 'grow_policy': 'lossguide', 'sample_type': 'uniform', 'normalize_type': 'tree', 'rate_drop': 0.00024234792999015183, 'skip_drop': 1.0540464083793202e-06}. Best is trial#12 with value: 0.7725536291507493.\n"
     ]
    },
    {
     "name": "stdout",
     "output_type": "stream",
     "text": [
      "[0]\tvalidation-auc:0.78358\n",
      "[1]\tvalidation-auc:0.78358\n",
      "[2]\tvalidation-auc:0.78358\n",
      "[3]\tvalidation-auc:0.78358\n",
      "[4]\tvalidation-auc:0.78358\n",
      "[5]\tvalidation-auc:0.78358\n",
      "[6]\tvalidation-auc:0.78358\n",
      "[7]\tvalidation-auc:0.78359\n",
      "[8]\tvalidation-auc:0.78359\n",
      "[9]\tvalidation-auc:0.78352\n"
     ]
    },
    {
     "name": "stderr",
     "output_type": "stream",
     "text": [
      "[I 2020-09-10 16:40:59,545] Finished trial#13 with value: 0.7655010285042609 with parameters: {'booster': 'dart', 'lambda': 5.406231572403438e-07, 'alpha': 0.006111251830643226, 'max_depth': 6, 'eta': 3.347754366123561e-05, 'gamma': 6.852486392744687e-07, 'grow_policy': 'depthwise', 'sample_type': 'weighted', 'normalize_type': 'tree', 'rate_drop': 1.8684977982074226e-05, 'skip_drop': 0.00014207524153574287}. Best is trial#12 with value: 0.7725536291507493.\n"
     ]
    },
    {
     "name": "stdout",
     "output_type": "stream",
     "text": [
      "[0]\tvalidation-auc:0.50000\n",
      "[1]\tvalidation-auc:0.50000\n",
      "[2]\tvalidation-auc:0.50000\n",
      "[3]\tvalidation-auc:0.50000\n",
      "[4]\tvalidation-auc:0.50000\n",
      "[5]\tvalidation-auc:0.50000\n",
      "[6]\tvalidation-auc:0.50000\n",
      "[7]\tvalidation-auc:0.50000\n",
      "[8]\tvalidation-auc:0.50000\n",
      "[9]\tvalidation-auc:0.50000\n"
     ]
    },
    {
     "name": "stderr",
     "output_type": "stream",
     "text": [
      "[I 2020-09-10 16:40:59,728] Finished trial#14 with value: 0.6767558037026153 with parameters: {'booster': 'dart', 'lambda': 0.000676605366913058, 'alpha': 0.005000108850021921, 'max_depth': 1, 'eta': 1.0904656618224025e-08, 'gamma': 2.076888874186783e-08, 'grow_policy': 'lossguide', 'sample_type': 'weighted', 'normalize_type': 'tree', 'rate_drop': 1.4949527565702222e-07, 'skip_drop': 7.466650264611204e-08}. Best is trial#12 with value: 0.7725536291507493.\n"
     ]
    },
    {
     "name": "stdout",
     "output_type": "stream",
     "text": [
      "[0]\tvalidation-auc:0.50000\n",
      "[1]\tvalidation-auc:0.50000\n",
      "[2]\tvalidation-auc:0.50000\n",
      "[3]\tvalidation-auc:0.51877\n",
      "[4]\tvalidation-auc:0.52636\n",
      "[5]\tvalidation-auc:0.53488\n",
      "[6]\tvalidation-auc:0.54536\n",
      "[7]\tvalidation-auc:0.84159\n",
      "[8]\tvalidation-auc:0.84006\n",
      "[9]\tvalidation-auc:0.83966\n"
     ]
    },
    {
     "name": "stderr",
     "output_type": "stream",
     "text": [
      "[I 2020-09-10 16:40:59,954] Finished trial#15 with value: 0.7034969144872172 with parameters: {'booster': 'dart', 'lambda': 1.0541288197048934e-06, 'alpha': 3.528328999802293e-06, 'max_depth': 9, 'eta': 1.1630946071304603e-08, 'gamma': 0.5618515722666361, 'grow_policy': 'lossguide', 'sample_type': 'weighted', 'normalize_type': 'forest', 'rate_drop': 0.03213271709985419, 'skip_drop': 5.733986089311109e-08}. Best is trial#12 with value: 0.7725536291507493.\n"
     ]
    },
    {
     "name": "stdout",
     "output_type": "stream",
     "text": [
      "[0]\tvalidation-auc:0.81687\n",
      "[1]\tvalidation-auc:0.81498\n",
      "[2]\tvalidation-auc:0.81460\n",
      "[3]\tvalidation-auc:0.81577\n",
      "[4]\tvalidation-auc:0.81599\n",
      "[5]\tvalidation-auc:0.81477\n",
      "[6]\tvalidation-auc:0.81516\n",
      "[7]\tvalidation-auc:0.81588\n",
      "[8]\tvalidation-auc:0.81581\n",
      "[9]\tvalidation-auc:0.81554\n"
     ]
    },
    {
     "name": "stderr",
     "output_type": "stream",
     "text": [
      "[I 2020-09-10 16:41:00,204] Finished trial#16 with value: 0.7716720540699383 with parameters: {'booster': 'gbtree', 'lambda': 0.00018282839180526586, 'alpha': 0.0063537459216818585, 'max_depth': 7, 'eta': 4.5112127359742657e-07, 'gamma': 1.3887012183057962e-05, 'grow_policy': 'lossguide'}. Best is trial#12 with value: 0.7725536291507493.\n"
     ]
    },
    {
     "name": "stdout",
     "output_type": "stream",
     "text": [
      "[0]\tvalidation-auc:0.84006\n",
      "[1]\tvalidation-auc:0.84018\n",
      "[2]\tvalidation-auc:0.84114\n",
      "[3]\tvalidation-auc:0.84044\n",
      "[4]\tvalidation-auc:0.84074\n",
      "[5]\tvalidation-auc:0.84078\n",
      "[6]\tvalidation-auc:0.84073\n",
      "[7]\tvalidation-auc:0.84083\n",
      "[8]\tvalidation-auc:0.84089\n",
      "[9]\tvalidation-auc:0.84092\n"
     ]
    },
    {
     "name": "stderr",
     "output_type": "stream",
     "text": [
      "[I 2020-09-10 16:41:00,445] Finished trial#17 with value: 0.7816632383191302 with parameters: {'booster': 'dart', 'lambda': 2.1098498171378936e-07, 'alpha': 3.256098515962833e-05, 'max_depth': 8, 'eta': 1.3559823608123054e-05, 'gamma': 2.151293386723541e-05, 'grow_policy': 'lossguide', 'sample_type': 'uniform', 'normalize_type': 'tree', 'rate_drop': 2.1218656658601914e-08, 'skip_drop': 0.0008798340095366322}. Best is trial#17 with value: 0.7816632383191302.\n"
     ]
    },
    {
     "name": "stdout",
     "output_type": "stream",
     "text": [
      "[0]\tvalidation-auc:0.83994\n",
      "[1]\tvalidation-auc:0.84006\n",
      "[2]\tvalidation-auc:0.84051\n",
      "[3]\tvalidation-auc:0.84045\n",
      "[4]\tvalidation-auc:0.84074\n",
      "[5]\tvalidation-auc:0.84078\n",
      "[6]\tvalidation-auc:0.84078\n",
      "[7]\tvalidation-auc:0.84086\n",
      "[8]\tvalidation-auc:0.84109\n",
      "[9]\tvalidation-auc:0.84101\n"
     ]
    },
    {
     "name": "stderr",
     "output_type": "stream",
     "text": [
      "[I 2020-09-10 16:41:00,670] Finished trial#18 with value: 0.7816632383191302 with parameters: {'booster': 'dart', 'lambda': 1.5110840270011496e-07, 'alpha': 7.5673054646519205e-06, 'max_depth': 8, 'eta': 3.194581924926908e-05, 'gamma': 3.163015822526451e-07, 'grow_policy': 'lossguide', 'sample_type': 'uniform', 'normalize_type': 'tree', 'rate_drop': 1.910585843541436e-08, 'skip_drop': 0.0020790472868095302}. Best is trial#17 with value: 0.7816632383191302.\n"
     ]
    },
    {
     "name": "stdout",
     "output_type": "stream",
     "text": [
      "[0]\tvalidation-auc:0.83995\n",
      "[1]\tvalidation-auc:0.84174\n",
      "[2]\tvalidation-auc:0.84187\n",
      "[3]\tvalidation-auc:0.84183\n",
      "[4]\tvalidation-auc:0.84220\n",
      "[5]\tvalidation-auc:0.84310\n",
      "[6]\tvalidation-auc:0.84222\n",
      "[7]\tvalidation-auc:0.84235\n",
      "[8]\tvalidation-auc:0.84366\n",
      "[9]\tvalidation-auc:0.84477\n"
     ]
    },
    {
     "name": "stderr",
     "output_type": "stream",
     "text": [
      "[I 2020-09-10 16:41:00,893] Finished trial#19 with value: 0.7807816632383191 with parameters: {'booster': 'dart', 'lambda': 2.023100791191863e-07, 'alpha': 4.753467970545042e-06, 'max_depth': 8, 'eta': 0.004261276612842197, 'gamma': 9.981418521650247e-07, 'grow_policy': 'lossguide', 'sample_type': 'uniform', 'normalize_type': 'tree', 'rate_drop': 1.0741832688405314e-08, 'skip_drop': 0.006869298520762416}. Best is trial#17 with value: 0.7816632383191302.\n"
     ]
    },
    {
     "name": "stdout",
     "output_type": "stream",
     "text": [
      "[0]\tvalidation-auc:0.81393\n",
      "[1]\tvalidation-auc:0.81452\n",
      "[2]\tvalidation-auc:0.81493\n",
      "[3]\tvalidation-auc:0.81502\n",
      "[4]\tvalidation-auc:0.81561\n",
      "[5]\tvalidation-auc:0.81565\n",
      "[6]\tvalidation-auc:0.81556\n",
      "[7]\tvalidation-auc:0.81573\n",
      "[8]\tvalidation-auc:0.81558\n",
      "[9]\tvalidation-auc:0.81576\n"
     ]
    },
    {
     "name": "stderr",
     "output_type": "stream",
     "text": [
      "[I 2020-09-10 16:41:01,104] Finished trial#20 with value: 0.7716720540699383 with parameters: {'booster': 'gbtree', 'lambda': 1.0567514811078167e-08, 'alpha': 8.946941059201638e-08, 'max_depth': 7, 'eta': 2.777523176467946e-06, 'gamma': 6.317294891814271e-06, 'grow_policy': 'lossguide'}. Best is trial#17 with value: 0.7816632383191302.\n"
     ]
    },
    {
     "name": "stdout",
     "output_type": "stream",
     "text": [
      "[0]\tvalidation-auc:0.83995\n",
      "[1]\tvalidation-auc:0.84080\n",
      "[2]\tvalidation-auc:0.84188\n",
      "[3]\tvalidation-auc:0.84190\n",
      "[4]\tvalidation-auc:0.84358\n",
      "[5]\tvalidation-auc:0.84377\n",
      "[6]\tvalidation-auc:0.84384\n",
      "[7]\tvalidation-auc:0.84429\n",
      "[8]\tvalidation-auc:0.84479\n",
      "[9]\tvalidation-auc:0.84434\n"
     ]
    },
    {
     "name": "stderr",
     "output_type": "stream",
     "text": [
      "[I 2020-09-10 16:41:01,331] Finished trial#21 with value: 0.7801939465177784 with parameters: {'booster': 'dart', 'lambda': 1.3988534294721318e-07, 'alpha': 7.5925170243374305e-06, 'max_depth': 8, 'eta': 0.0046600095549513155, 'gamma': 2.7099257665037937e-07, 'grow_policy': 'lossguide', 'sample_type': 'uniform', 'normalize_type': 'tree', 'rate_drop': 1.6438470698666973e-08, 'skip_drop': 0.0006763763648792373}. Best is trial#17 with value: 0.7816632383191302.\n"
     ]
    },
    {
     "name": "stdout",
     "output_type": "stream",
     "text": [
      "[0]\tvalidation-auc:0.57006\n",
      "[1]\tvalidation-auc:0.57006\n",
      "[2]\tvalidation-auc:0.57006\n",
      "[3]\tvalidation-auc:0.57006\n",
      "[4]\tvalidation-auc:0.57006\n",
      "[5]\tvalidation-auc:0.57006\n",
      "[6]\tvalidation-auc:0.57006\n",
      "[7]\tvalidation-auc:0.57006\n",
      "[8]\tvalidation-auc:0.57006\n",
      "[9]\tvalidation-auc:0.57006\n"
     ]
    },
    {
     "name": "stderr",
     "output_type": "stream",
     "text": [
      "[I 2020-09-10 16:41:01,526] Finished trial#22 with value: 0.7005583308845137 with parameters: {'booster': 'dart', 'lambda': 1.9438499883934615e-07, 'alpha': 5.541212637860917e-06, 'max_depth': 1, 'eta': 0.0001171304264646435, 'gamma': 0.0001053695528376015, 'grow_policy': 'lossguide', 'sample_type': 'uniform', 'normalize_type': 'tree', 'rate_drop': 7.467329903711252e-07, 'skip_drop': 0.49056003888730837}. Best is trial#17 with value: 0.7816632383191302.\n"
     ]
    },
    {
     "name": "stdout",
     "output_type": "stream",
     "text": [
      "[0]\tvalidation-auc:0.84019\n",
      "[1]\tvalidation-auc:0.84013\n",
      "[2]\tvalidation-auc:0.84062\n",
      "[3]\tvalidation-auc:0.84050\n",
      "[4]\tvalidation-auc:0.84084\n",
      "[5]\tvalidation-auc:0.84090\n",
      "[6]\tvalidation-auc:0.84083\n",
      "[7]\tvalidation-auc:0.84083\n",
      "[8]\tvalidation-auc:0.84090\n",
      "[9]\tvalidation-auc:0.84093\n"
     ]
    },
    {
     "name": "stderr",
     "output_type": "stream",
     "text": [
      "[I 2020-09-10 16:41:01,752] Finished trial#23 with value: 0.7816632383191302 with parameters: {'booster': 'dart', 'lambda': 1.2687832117031414e-08, 'alpha': 7.445821512669046e-07, 'max_depth': 8, 'eta': 4.581732340616124e-06, 'gamma': 1.6555224320458996e-07, 'grow_policy': 'lossguide', 'sample_type': 'uniform', 'normalize_type': 'tree', 'rate_drop': 7.163167763414822e-08, 'skip_drop': 0.0030604824904858097}. Best is trial#17 with value: 0.7816632383191302.\n"
     ]
    },
    {
     "name": "stdout",
     "output_type": "stream",
     "text": [
      "[0]\tvalidation-auc:0.78350\n",
      "[1]\tvalidation-auc:0.78348\n",
      "[2]\tvalidation-auc:0.78342\n",
      "[3]\tvalidation-auc:0.78343\n",
      "[4]\tvalidation-auc:0.78345\n",
      "[5]\tvalidation-auc:0.78345\n",
      "[6]\tvalidation-auc:0.78345\n",
      "[7]\tvalidation-auc:0.78345\n",
      "[8]\tvalidation-auc:0.78358\n",
      "[9]\tvalidation-auc:0.78358\n"
     ]
    },
    {
     "name": "stderr",
     "output_type": "stream",
     "text": [
      "[I 2020-09-10 16:41:01,965] Finished trial#24 with value: 0.7655010285042609 with parameters: {'booster': 'dart', 'lambda': 1.0289296497266428e-08, 'alpha': 5.906920662210022e-07, 'max_depth': 6, 'eta': 2.614125218135915e-06, 'gamma': 1.1695130751070596e-07, 'grow_policy': 'lossguide', 'sample_type': 'uniform', 'normalize_type': 'tree', 'rate_drop': 1.3152778437875114e-06, 'skip_drop': 0.15578063283590796}. Best is trial#17 with value: 0.7816632383191302.\n"
     ]
    },
    {
     "name": "stdout",
     "output_type": "stream",
     "text": [
      "[0]\tvalidation-auc:0.84005\n",
      "[1]\tvalidation-auc:0.84009\n",
      "[2]\tvalidation-auc:0.84052\n",
      "[3]\tvalidation-auc:0.84054\n",
      "[4]\tvalidation-auc:0.84074\n",
      "[5]\tvalidation-auc:0.84079\n",
      "[6]\tvalidation-auc:0.84076\n",
      "[7]\tvalidation-auc:0.84083\n",
      "[8]\tvalidation-auc:0.84091\n",
      "[9]\tvalidation-auc:0.84094\n"
     ]
    },
    {
     "name": "stderr",
     "output_type": "stream",
     "text": [
      "[I 2020-09-10 16:41:02,193] Finished trial#25 with value: 0.7816632383191302 with parameters: {'booster': 'dart', 'lambda': 4.758744462297856e-08, 'alpha': 2.7847945516206257e-05, 'max_depth': 8, 'eta': 1.1516340206284259e-05, 'gamma': 5.054134761779882e-06, 'grow_policy': 'lossguide', 'sample_type': 'uniform', 'normalize_type': 'tree', 'rate_drop': 1.2856326412249272e-08, 'skip_drop': 0.00014769417253001181}. Best is trial#17 with value: 0.7816632383191302.\n"
     ]
    },
    {
     "name": "stdout",
     "output_type": "stream",
     "text": [
      "[0]\tvalidation-auc:0.83825\n",
      "[1]\tvalidation-auc:0.84031\n",
      "[2]\tvalidation-auc:0.84021\n",
      "[3]\tvalidation-auc:0.84094\n",
      "[4]\tvalidation-auc:0.84099\n",
      "[5]\tvalidation-auc:0.84087\n",
      "[6]\tvalidation-auc:0.84067\n",
      "[7]\tvalidation-auc:0.84102\n",
      "[8]\tvalidation-auc:0.84104\n",
      "[9]\tvalidation-auc:0.84115\n"
     ]
    },
    {
     "name": "stderr",
     "output_type": "stream",
     "text": [
      "[I 2020-09-10 16:41:02,446] Finished trial#26 with value: 0.7816632383191302 with parameters: {'booster': 'dart', 'lambda': 4.51282683818427e-08, 'alpha': 6.401075308756667e-07, 'max_depth': 8, 'eta': 6.859374698019338e-07, 'gamma': 3.996972782576762e-06, 'grow_policy': 'lossguide', 'sample_type': 'uniform', 'normalize_type': 'tree', 'rate_drop': 1.4066331066130115e-07, 'skip_drop': 6.920200863427673e-05}. Best is trial#17 with value: 0.7816632383191302.\n"
     ]
    },
    {
     "name": "stdout",
     "output_type": "stream",
     "text": [
      "[0]\tvalidation-auc:0.83711\n",
      "[1]\tvalidation-auc:0.83745\n",
      "[2]\tvalidation-auc:0.83754\n",
      "[3]\tvalidation-auc:0.83721\n",
      "[4]\tvalidation-auc:0.83765\n",
      "[5]\tvalidation-auc:0.83773\n",
      "[6]\tvalidation-auc:0.83778\n",
      "[7]\tvalidation-auc:0.83752\n",
      "[8]\tvalidation-auc:0.83774\n",
      "[9]\tvalidation-auc:0.83757\n"
     ]
    },
    {
     "name": "stderr",
     "output_type": "stream",
     "text": [
      "[I 2020-09-10 16:41:02,681] Finished trial#27 with value: 0.7725536291507493 with parameters: {'booster': 'dart', 'lambda': 3.1588876806806343e-06, 'alpha': 1.3120128856180485e-08, 'max_depth': 9, 'eta': 5.221892916650718e-07, 'gamma': 2.3040947287729466e-07, 'grow_policy': 'lossguide', 'sample_type': 'uniform', 'normalize_type': 'tree', 'rate_drop': 1.7060116071964833e-07, 'skip_drop': 0.031631228828430516}. Best is trial#17 with value: 0.7816632383191302.\n"
     ]
    },
    {
     "name": "stdout",
     "output_type": "stream",
     "text": [
      "[0]\tvalidation-auc:0.81436\n",
      "[1]\tvalidation-auc:0.81447\n",
      "[2]\tvalidation-auc:0.81482\n",
      "[3]\tvalidation-auc:0.81532\n",
      "[4]\tvalidation-auc:0.81514\n",
      "[5]\tvalidation-auc:0.81544\n",
      "[6]\tvalidation-auc:0.81544\n",
      "[7]\tvalidation-auc:0.81562\n",
      "[8]\tvalidation-auc:0.81626\n",
      "[9]\tvalidation-auc:0.81636\n"
     ]
    },
    {
     "name": "stderr",
     "output_type": "stream",
     "text": [
      "[I 2020-09-10 16:41:02,901] Finished trial#28 with value: 0.772259770790479 with parameters: {'booster': 'dart', 'lambda': 1.0252213013747062e-08, 'alpha': 1.0852381607046723e-07, 'max_depth': 7, 'eta': 6.973670351091922e-05, 'gamma': 1.0190231684311125e-08, 'grow_policy': 'lossguide', 'sample_type': 'uniform', 'normalize_type': 'forest', 'rate_drop': 3.82458723576588e-06, 'skip_drop': 8.728416731515059e-05}. Best is trial#17 with value: 0.7816632383191302.\n"
     ]
    },
    {
     "name": "stdout",
     "output_type": "stream",
     "text": [
      "[0]\tvalidation-auc:0.50301\n",
      "[1]\tvalidation-auc:0.52090\n",
      "[2]\tvalidation-auc:0.78685\n",
      "[3]\tvalidation-auc:0.78648\n",
      "[4]\tvalidation-auc:0.78450\n",
      "[5]\tvalidation-auc:0.78527\n",
      "[6]\tvalidation-auc:0.78135\n",
      "[7]\tvalidation-auc:0.78009\n",
      "[8]\tvalidation-auc:0.78609\n",
      "[9]\tvalidation-auc:0.78777\n"
     ]
    },
    {
     "name": "stderr",
     "output_type": "stream",
     "text": [
      "[I 2020-09-10 16:41:03,114] Finished trial#29 with value: 0.7587422862180428 with parameters: {'booster': 'dart', 'lambda': 3.967670038243638e-08, 'alpha': 9.26427006081724e-07, 'max_depth': 6, 'eta': 4.907727300835319e-08, 'gamma': 1.960487255967381e-06, 'grow_policy': 'lossguide', 'sample_type': 'uniform', 'normalize_type': 'tree', 'rate_drop': 1.064209083213033e-08, 'skip_drop': 0.00013207580219141345}. Best is trial#17 with value: 0.7816632383191302.\n"
     ]
    },
    {
     "name": "stdout",
     "output_type": "stream",
     "text": [
      "[0]\tvalidation-auc:0.83938\n",
      "[1]\tvalidation-auc:0.84017\n",
      "[2]\tvalidation-auc:0.84057\n",
      "[3]\tvalidation-auc:0.84047\n",
      "[4]\tvalidation-auc:0.84086\n",
      "[5]\tvalidation-auc:0.84081\n",
      "[6]\tvalidation-auc:0.84074\n",
      "[7]\tvalidation-auc:0.84093\n",
      "[8]\tvalidation-auc:0.84090\n",
      "[9]\tvalidation-auc:0.84091\n"
     ]
    },
    {
     "name": "stderr",
     "output_type": "stream",
     "text": [
      "[I 2020-09-10 16:41:03,344] Finished trial#30 with value: 0.7816632383191302 with parameters: {'booster': 'dart', 'lambda': 3.6213560951115146e-08, 'alpha': 1.4033974036011524e-07, 'max_depth': 8, 'eta': 4.399065948584318e-06, 'gamma': 4.815329873810731e-06, 'grow_policy': 'lossguide', 'sample_type': 'uniform', 'normalize_type': 'tree', 'rate_drop': 6.741693749674034e-08, 'skip_drop': 0.0005445764639074052}. Best is trial#17 with value: 0.7816632383191302.\n"
     ]
    },
    {
     "name": "stdout",
     "output_type": "stream",
     "text": [
      "[0]\tvalidation-auc:0.67863\n",
      "[1]\tvalidation-auc:0.67863\n",
      "[2]\tvalidation-auc:0.67863\n",
      "[3]\tvalidation-auc:0.67863\n",
      "[4]\tvalidation-auc:0.67863\n",
      "[5]\tvalidation-auc:0.67863\n",
      "[6]\tvalidation-auc:0.67863\n",
      "[7]\tvalidation-auc:0.67863\n",
      "[8]\tvalidation-auc:0.67863\n",
      "[9]\tvalidation-auc:0.67863\n"
     ]
    },
    {
     "name": "stderr",
     "output_type": "stream",
     "text": [
      "[I 2020-09-10 16:41:03,543] Finished trial#31 with value: 0.7375844842785777 with parameters: {'booster': 'dart', 'lambda': 4.0742223332262276e-08, 'alpha': 1.2137359997789275e-07, 'max_depth': 3, 'eta': 0.00035666924697104306, 'gamma': 7.566777887779728e-05, 'grow_policy': 'depthwise', 'sample_type': 'uniform', 'normalize_type': 'tree', 'rate_drop': 3.947282674757117e-08, 'skip_drop': 3.578435968909303e-05}. Best is trial#17 with value: 0.7816632383191302.\n"
     ]
    },
    {
     "name": "stdout",
     "output_type": "stream",
     "text": [
      "[0]\tvalidation-auc:0.83769\n",
      "[1]\tvalidation-auc:0.83693\n",
      "[2]\tvalidation-auc:0.83702\n",
      "[3]\tvalidation-auc:0.83769\n",
      "[4]\tvalidation-auc:0.83725\n",
      "[5]\tvalidation-auc:0.83759\n",
      "[6]\tvalidation-auc:0.83752\n",
      "[7]\tvalidation-auc:0.83743\n",
      "[8]\tvalidation-auc:0.83741\n",
      "[9]\tvalidation-auc:0.83751\n"
     ]
    },
    {
     "name": "stderr",
     "output_type": "stream",
     "text": [
      "[I 2020-09-10 16:41:03,821] Finished trial#32 with value: 0.7725536291507493 with parameters: {'booster': 'dart', 'lambda': 1.631055810071456e-07, 'alpha': 2.770826717327324e-05, 'max_depth': 9, 'eta': 7.114751805298146e-07, 'gamma': 0.0003221485777628071, 'grow_policy': 'lossguide', 'sample_type': 'uniform', 'normalize_type': 'tree', 'rate_drop': 3.1056899610248375e-07, 'skip_drop': 0.006500694432403057}. Best is trial#17 with value: 0.7816632383191302.\n"
     ]
    },
    {
     "name": "stdout",
     "output_type": "stream",
     "text": [
      "[0]\tvalidation-auc:0.51746\n",
      "[1]\tvalidation-auc:0.81264\n",
      "[2]\tvalidation-auc:0.81628\n",
      "[3]\tvalidation-auc:0.81213\n",
      "[4]\tvalidation-auc:0.81685\n",
      "[5]\tvalidation-auc:0.81713\n",
      "[6]\tvalidation-auc:0.81558\n",
      "[7]\tvalidation-auc:0.81410\n",
      "[8]\tvalidation-auc:0.81774\n",
      "[9]\tvalidation-auc:0.81760\n"
     ]
    },
    {
     "name": "stderr",
     "output_type": "stream",
     "text": [
      "[I 2020-09-10 16:41:04,051] Finished trial#33 with value: 0.7716720540699383 with parameters: {'booster': 'dart', 'lambda': 2.1977188695217865e-08, 'alpha': 3.4371074190177996e-08, 'max_depth': 7, 'eta': 7.65493794764564e-08, 'gamma': 3.1973479483074507e-06, 'grow_policy': 'lossguide', 'sample_type': 'uniform', 'normalize_type': 'tree', 'rate_drop': 6.232668034853678e-06, 'skip_drop': 0.0003944950675561235}. Best is trial#17 with value: 0.7816632383191302.\n"
     ]
    },
    {
     "name": "stdout",
     "output_type": "stream",
     "text": [
      "[0]\tvalidation-auc:0.78584\n",
      "[1]\tvalidation-auc:0.78249\n",
      "[2]\tvalidation-auc:0.78402\n",
      "[3]\tvalidation-auc:0.78290\n",
      "[4]\tvalidation-auc:0.78338\n",
      "[5]\tvalidation-auc:0.78363\n",
      "[6]\tvalidation-auc:0.78320\n",
      "[7]\tvalidation-auc:0.78368\n",
      "[8]\tvalidation-auc:0.78342\n",
      "[9]\tvalidation-auc:0.78350\n"
     ]
    },
    {
     "name": "stderr",
     "output_type": "stream",
     "text": [
      "[I 2020-09-10 16:41:04,267] Finished trial#34 with value: 0.7655010285042609 with parameters: {'booster': 'dart', 'lambda': 5.4081132540090384e-08, 'alpha': 1.5699135155735357e-06, 'max_depth': 6, 'eta': 7.309320144920491e-07, 'gamma': 3.053523395379294e-05, 'grow_policy': 'lossguide', 'sample_type': 'uniform', 'normalize_type': 'tree', 'rate_drop': 5.874585407325735e-08, 'skip_drop': 2.7257311626194406e-05}. Best is trial#17 with value: 0.7816632383191302.\n"
     ]
    },
    {
     "name": "stdout",
     "output_type": "stream",
     "text": [
      "[0]\tvalidation-auc:0.67627\n",
      "[1]\tvalidation-auc:0.67647\n",
      "[2]\tvalidation-auc:0.67663\n",
      "[3]\tvalidation-auc:0.67674\n",
      "[4]\tvalidation-auc:0.67682\n",
      "[5]\tvalidation-auc:0.67688\n",
      "[6]\tvalidation-auc:0.67689\n",
      "[7]\tvalidation-auc:0.67692\n",
      "[8]\tvalidation-auc:0.67694\n",
      "[9]\tvalidation-auc:0.67694\n"
     ]
    },
    {
     "name": "stderr",
     "output_type": "stream",
     "text": [
      "[I 2020-09-10 16:41:04,443] Finished trial#35 with value: 0.6741110784601821 with parameters: {'booster': 'gblinear', 'lambda': 6.415484836886967e-07, 'alpha': 0.00012538483952544163}. Best is trial#17 with value: 0.7816632383191302.\n"
     ]
    },
    {
     "name": "stdout",
     "output_type": "stream",
     "text": [
      "[0]\tvalidation-auc:0.84006\n",
      "[1]\tvalidation-auc:0.84001\n",
      "[2]\tvalidation-auc:0.84060\n",
      "[3]\tvalidation-auc:0.84089\n",
      "[4]\tvalidation-auc:0.84075\n",
      "[5]\tvalidation-auc:0.84080\n",
      "[6]\tvalidation-auc:0.84074\n",
      "[7]\tvalidation-auc:0.84082\n",
      "[8]\tvalidation-auc:0.84088\n",
      "[9]\tvalidation-auc:0.84092\n"
     ]
    },
    {
     "name": "stderr",
     "output_type": "stream",
     "text": [
      "[I 2020-09-10 16:41:04,668] Finished trial#36 with value: 0.7816632383191302 with parameters: {'booster': 'dart', 'lambda': 3.630208807770789e-05, 'alpha': 1.890418303374308e-05, 'max_depth': 8, 'eta': 6.842988119615567e-06, 'gamma': 6.855285355453476e-06, 'grow_policy': 'lossguide', 'sample_type': 'uniform', 'normalize_type': 'tree', 'rate_drop': 1.9468431958981398e-06, 'skip_drop': 7.78365696048404e-06}. Best is trial#17 with value: 0.7816632383191302.\n"
     ]
    },
    {
     "name": "stdout",
     "output_type": "stream",
     "text": [
      "[0]\tvalidation-auc:0.84024\n",
      "[1]\tvalidation-auc:0.83996\n",
      "[2]\tvalidation-auc:0.84060\n",
      "[3]\tvalidation-auc:0.84055\n",
      "[4]\tvalidation-auc:0.84074\n",
      "[5]\tvalidation-auc:0.84080\n",
      "[6]\tvalidation-auc:0.84075\n",
      "[7]\tvalidation-auc:0.84083\n",
      "[8]\tvalidation-auc:0.84090\n",
      "[9]\tvalidation-auc:0.84095\n"
     ]
    },
    {
     "name": "stderr",
     "output_type": "stream",
     "text": [
      "[I 2020-09-10 16:41:04,889] Finished trial#37 with value: 0.7816632383191302 with parameters: {'booster': 'gbtree', 'lambda': 2.7349024949742922e-06, 'alpha': 2.3052023551231097e-07, 'max_depth': 8, 'eta': 6.28093017861968e-06, 'gamma': 8.68772601885111e-06, 'grow_policy': 'lossguide'}. Best is trial#17 with value: 0.7816632383191302.\n"
     ]
    },
    {
     "name": "stdout",
     "output_type": "stream",
     "text": [
      "[0]\tvalidation-auc:0.67627\n",
      "[1]\tvalidation-auc:0.67649\n",
      "[2]\tvalidation-auc:0.67665\n",
      "[3]\tvalidation-auc:0.67674\n",
      "[4]\tvalidation-auc:0.67682\n",
      "[5]\tvalidation-auc:0.67688\n",
      "[6]\tvalidation-auc:0.67690\n",
      "[7]\tvalidation-auc:0.67692\n",
      "[8]\tvalidation-auc:0.67693\n",
      "[9]\tvalidation-auc:0.67694\n"
     ]
    },
    {
     "name": "stderr",
     "output_type": "stream",
     "text": [
      "[I 2020-09-10 16:41:05,066] Finished trial#38 with value: 0.6735233617396414 with parameters: {'booster': 'gblinear', 'lambda': 9.018831350749146e-08, 'alpha': 2.654975587931073e-06}. Best is trial#17 with value: 0.7816632383191302.\n"
     ]
    },
    {
     "name": "stdout",
     "output_type": "stream",
     "text": [
      "[0]\tvalidation-auc:0.83995\n",
      "[1]\tvalidation-auc:0.84006\n",
      "[2]\tvalidation-auc:0.84048\n",
      "[3]\tvalidation-auc:0.84125\n",
      "[4]\tvalidation-auc:0.84165\n",
      "[5]\tvalidation-auc:0.84178\n",
      "[6]\tvalidation-auc:0.84178\n",
      "[7]\tvalidation-auc:0.84206\n",
      "[8]\tvalidation-auc:0.84203\n",
      "[9]\tvalidation-auc:0.84213\n"
     ]
    },
    {
     "name": "stderr",
     "output_type": "stream",
     "text": [
      "[I 2020-09-10 16:41:05,295] Finished trial#39 with value: 0.7831325301204819 with parameters: {'booster': 'dart', 'lambda': 1.8279958599717775e-05, 'alpha': 1.6152796575069243e-05, 'max_depth': 8, 'eta': 0.00016323670646578592, 'gamma': 4.248934212245361e-06, 'grow_policy': 'lossguide', 'sample_type': 'uniform', 'normalize_type': 'tree', 'rate_drop': 1.8230950066954349e-06, 'skip_drop': 3.714269771422134e-06}. Best is trial#39 with value: 0.7831325301204819.\n"
     ]
    },
    {
     "name": "stdout",
     "output_type": "stream",
     "text": [
      "[0]\tvalidation-auc:0.81436\n",
      "[1]\tvalidation-auc:0.81483\n",
      "[2]\tvalidation-auc:0.81491\n",
      "[3]\tvalidation-auc:0.81638\n",
      "[4]\tvalidation-auc:0.81584\n",
      "[5]\tvalidation-auc:0.81576\n",
      "[6]\tvalidation-auc:0.81565\n",
      "[7]\tvalidation-auc:0.81577\n",
      "[8]\tvalidation-auc:0.81580\n",
      "[9]\tvalidation-auc:0.81577\n"
     ]
    },
    {
     "name": "stderr",
     "output_type": "stream",
     "text": [
      "[I 2020-09-10 16:41:05,510] Finished trial#40 with value: 0.772259770790479 with parameters: {'booster': 'gbtree', 'lambda': 3.299555748696171e-05, 'alpha': 2.2397959753708505e-07, 'max_depth': 7, 'eta': 0.00031195310127126575, 'gamma': 6.402270631980202e-05, 'grow_policy': 'depthwise'}. Best is trial#39 with value: 0.7831325301204819.\n"
     ]
    },
    {
     "name": "stdout",
     "output_type": "stream",
     "text": [
      "[0]\tvalidation-auc:0.84305\n",
      "[1]\tvalidation-auc:0.84258\n",
      "[2]\tvalidation-auc:0.84308\n",
      "[3]\tvalidation-auc:0.84315\n",
      "[4]\tvalidation-auc:0.84347\n",
      "[5]\tvalidation-auc:0.84359\n",
      "[6]\tvalidation-auc:0.84371\n",
      "[7]\tvalidation-auc:0.84389\n",
      "[8]\tvalidation-auc:0.84389\n",
      "[9]\tvalidation-auc:0.84390\n"
     ]
    },
    {
     "name": "stderr",
     "output_type": "stream",
     "text": [
      "[I 2020-09-10 16:41:05,742] Finished trial#41 with value: 0.7751983543931825 with parameters: {'booster': 'dart', 'lambda': 0.005988921535622645, 'alpha': 1.3007670730377193e-05, 'max_depth': 9, 'eta': 9.444116581923544e-05, 'gamma': 1.737283058356307e-05, 'grow_policy': 'lossguide', 'sample_type': 'uniform', 'normalize_type': 'forest', 'rate_drop': 1.132509405428237e-05, 'skip_drop': 1.0956587437108501e-08}. Best is trial#39 with value: 0.7831325301204819.\n"
     ]
    },
    {
     "name": "stdout",
     "output_type": "stream",
     "text": [
      "[0]\tvalidation-auc:0.83995\n",
      "[1]\tvalidation-auc:0.84333\n",
      "[2]\tvalidation-auc:0.84223\n",
      "[3]\tvalidation-auc:0.84318\n",
      "[4]\tvalidation-auc:0.84276\n",
      "[5]\tvalidation-auc:0.84388\n",
      "[6]\tvalidation-auc:0.84383\n",
      "[7]\tvalidation-auc:0.84361\n",
      "[8]\tvalidation-auc:0.84374\n",
      "[9]\tvalidation-auc:0.84391\n"
     ]
    },
    {
     "name": "stderr",
     "output_type": "stream",
     "text": [
      "[I 2020-09-10 16:41:05,963] Finished trial#42 with value: 0.7822509550396709 with parameters: {'booster': 'gbtree', 'lambda': 1.792875127416847e-05, 'alpha': 8.01728691332576e-05, 'max_depth': 8, 'eta': 0.001316504528068251, 'gamma': 8.47643762014137e-06, 'grow_policy': 'depthwise'}. Best is trial#39 with value: 0.7831325301204819.\n"
     ]
    },
    {
     "name": "stdout",
     "output_type": "stream",
     "text": [
      "[0]\tvalidation-auc:0.81435\n",
      "[1]\tvalidation-auc:0.81612\n",
      "[2]\tvalidation-auc:0.81650\n",
      "[3]\tvalidation-auc:0.81641\n",
      "[4]\tvalidation-auc:0.81584\n",
      "[5]\tvalidation-auc:0.81599\n",
      "[6]\tvalidation-auc:0.81638\n",
      "[7]\tvalidation-auc:0.81641\n",
      "[8]\tvalidation-auc:0.81652\n",
      "[9]\tvalidation-auc:0.81678\n"
     ]
    },
    {
     "name": "stderr",
     "output_type": "stream",
     "text": [
      "[I 2020-09-10 16:41:06,183] Finished trial#43 with value: 0.772259770790479 with parameters: {'booster': 'gbtree', 'lambda': 6.240615297960053e-05, 'alpha': 0.00021432969829742122, 'max_depth': 7, 'eta': 0.0015926524716987946, 'gamma': 5.7186403176295594e-08, 'grow_policy': 'depthwise'}. Best is trial#39 with value: 0.7831325301204819.\n"
     ]
    },
    {
     "name": "stdout",
     "output_type": "stream",
     "text": [
      "[0]\tvalidation-auc:0.72272\n",
      "[1]\tvalidation-auc:0.72272\n",
      "[2]\tvalidation-auc:0.72212\n",
      "[3]\tvalidation-auc:0.72212\n",
      "[4]\tvalidation-auc:0.72200\n",
      "[5]\tvalidation-auc:0.79330\n",
      "[6]\tvalidation-auc:0.79385\n",
      "[7]\tvalidation-auc:0.79434\n",
      "[8]\tvalidation-auc:0.79439\n",
      "[9]\tvalidation-auc:0.79431\n"
     ]
    },
    {
     "name": "stderr",
     "output_type": "stream",
     "text": [
      "[I 2020-09-10 16:41:06,379] Finished trial#44 with value: 0.7337643255950632 with parameters: {'booster': 'gbtree', 'lambda': 1.2117825840159183e-05, 'alpha': 0.0011172124360801041, 'max_depth': 4, 'eta': 0.010345686211611601, 'gamma': 0.0003053369908221023, 'grow_policy': 'depthwise'}. Best is trial#39 with value: 0.7831325301204819.\n"
     ]
    },
    {
     "name": "stdout",
     "output_type": "stream",
     "text": [
      "[0]\tvalidation-auc:0.84305\n",
      "[1]\tvalidation-auc:0.84433\n",
      "[2]\tvalidation-auc:0.84612\n",
      "[3]\tvalidation-auc:0.84326\n",
      "[4]\tvalidation-auc:0.84471\n",
      "[5]\tvalidation-auc:0.84515\n",
      "[6]\tvalidation-auc:0.84494\n",
      "[7]\tvalidation-auc:0.84457\n",
      "[8]\tvalidation-auc:0.84327\n",
      "[9]\tvalidation-auc:0.84515\n"
     ]
    },
    {
     "name": "stderr",
     "output_type": "stream",
     "text": [
      "[I 2020-09-10 16:41:06,632] Finished trial#45 with value: 0.7719659124302086 with parameters: {'booster': 'gbtree', 'lambda': 3.4004968370944253e-06, 'alpha': 7.146855847394394e-05, 'max_depth': 9, 'eta': 0.03128219904580798, 'gamma': 7.766260042702865e-07, 'grow_policy': 'depthwise'}. Best is trial#39 with value: 0.7831325301204819.\n"
     ]
    },
    {
     "name": "stdout",
     "output_type": "stream",
     "text": [
      "[0]\tvalidation-auc:0.81435\n",
      "[1]\tvalidation-auc:0.81612\n",
      "[2]\tvalidation-auc:0.81650\n",
      "[3]\tvalidation-auc:0.81641\n",
      "[4]\tvalidation-auc:0.81561\n",
      "[5]\tvalidation-auc:0.81576\n",
      "[6]\tvalidation-auc:0.81578\n",
      "[7]\tvalidation-auc:0.81577\n",
      "[8]\tvalidation-auc:0.81569\n",
      "[9]\tvalidation-auc:0.81585\n"
     ]
    },
    {
     "name": "stderr",
     "output_type": "stream",
     "text": [
      "[I 2020-09-10 16:41:06,851] Finished trial#46 with value: 0.772259770790479 with parameters: {'booster': 'gbtree', 'lambda': 1.3867789608801739e-05, 'alpha': 0.0001874896675702892, 'max_depth': 7, 'eta': 0.0005809883494340814, 'gamma': 1.9843079539012737e-06, 'grow_policy': 'depthwise'}. Best is trial#39 with value: 0.7831325301204819.\n"
     ]
    },
    {
     "name": "stdout",
     "output_type": "stream",
     "text": [
      "[0]\tvalidation-auc:0.67627\n",
      "[1]\tvalidation-auc:0.67648\n",
      "[2]\tvalidation-auc:0.67665\n",
      "[3]\tvalidation-auc:0.67674\n",
      "[4]\tvalidation-auc:0.67682\n",
      "[5]\tvalidation-auc:0.67688\n",
      "[6]\tvalidation-auc:0.67689\n",
      "[7]\tvalidation-auc:0.67692\n",
      "[8]\tvalidation-auc:0.67694\n",
      "[9]\tvalidation-auc:0.67694\n"
     ]
    },
    {
     "name": "stderr",
     "output_type": "stream",
     "text": [
      "[I 2020-09-10 16:41:07,028] Finished trial#47 with value: 0.6738172200999119 with parameters: {'booster': 'gblinear', 'lambda': 0.00029950836962464484, 'alpha': 1.4791044824711556e-06}. Best is trial#39 with value: 0.7831325301204819.\n"
     ]
    },
    {
     "name": "stdout",
     "output_type": "stream",
     "text": [
      "[0]\tvalidation-auc:0.84021\n",
      "[1]\tvalidation-auc:0.84108\n",
      "[2]\tvalidation-auc:0.84043\n",
      "[3]\tvalidation-auc:0.84056\n",
      "[4]\tvalidation-auc:0.84276\n",
      "[5]\tvalidation-auc:0.84295\n",
      "[6]\tvalidation-auc:0.84085\n",
      "[7]\tvalidation-auc:0.84188\n",
      "[8]\tvalidation-auc:0.84259\n",
      "[9]\tvalidation-auc:0.84083\n"
     ]
    },
    {
     "name": "stderr",
     "output_type": "stream",
     "text": [
      "[I 2020-09-10 16:41:07,265] Finished trial#48 with value: 0.7816632383191302 with parameters: {'booster': 'dart', 'lambda': 0.011153531298006301, 'alpha': 4.732855316428441e-05, 'max_depth': 8, 'eta': 1.3675401493597547e-06, 'gamma': 2.2908954025868837e-06, 'grow_policy': 'depthwise', 'sample_type': 'uniform', 'normalize_type': 'tree', 'rate_drop': 3.072631492470884e-06, 'skip_drop': 1.1992065762670218e-05}. Best is trial#39 with value: 0.7831325301204819.\n"
     ]
    },
    {
     "name": "stdout",
     "output_type": "stream",
     "text": [
      "[0]\tvalidation-auc:0.84068\n",
      "[1]\tvalidation-auc:0.84227\n",
      "[2]\tvalidation-auc:0.84232\n",
      "[3]\tvalidation-auc:0.84266\n",
      "[4]\tvalidation-auc:0.84264\n",
      "[5]\tvalidation-auc:0.84276\n",
      "[6]\tvalidation-auc:0.84284\n",
      "[7]\tvalidation-auc:0.84298\n",
      "[8]\tvalidation-auc:0.84328\n",
      "[9]\tvalidation-auc:0.84325\n"
     ]
    },
    {
     "name": "stderr",
     "output_type": "stream",
     "text": [
      "[I 2020-09-10 16:41:07,503] Finished trial#49 with value: 0.7822509550396709 with parameters: {'booster': 'dart', 'lambda': 0.004554936671986782, 'alpha': 5.6702030467547566e-05, 'max_depth': 8, 'eta': 3.482951553935686e-05, 'gamma': 3.29282024257406e-07, 'grow_policy': 'depthwise', 'sample_type': 'uniform', 'normalize_type': 'tree', 'rate_drop': 5.401515431063357e-05, 'skip_drop': 2.415930657160336e-06}. Best is trial#39 with value: 0.7831325301204819.\n"
     ]
    },
    {
     "name": "stdout",
     "output_type": "stream",
     "text": [
      "[0]\tvalidation-auc:0.84302\n",
      "[1]\tvalidation-auc:0.84349\n",
      "[2]\tvalidation-auc:0.84409\n",
      "[3]\tvalidation-auc:0.84392\n",
      "[4]\tvalidation-auc:0.84428\n",
      "[5]\tvalidation-auc:0.84407\n",
      "[6]\tvalidation-auc:0.84460\n",
      "[7]\tvalidation-auc:0.84421\n",
      "[8]\tvalidation-auc:0.84500\n",
      "[9]\tvalidation-auc:0.84459\n"
     ]
    },
    {
     "name": "stderr",
     "output_type": "stream",
     "text": [
      "[I 2020-09-10 16:41:07,737] Finished trial#50 with value: 0.7751983543931825 with parameters: {'booster': 'gbtree', 'lambda': 0.006191268150299373, 'alpha': 1.3649430273807536e-05, 'max_depth': 9, 'eta': 0.0009465256680249998, 'gamma': 9.76451373342993e-06, 'grow_policy': 'depthwise'}. Best is trial#39 with value: 0.7831325301204819.\n"
     ]
    },
    {
     "name": "stdout",
     "output_type": "stream",
     "text": [
      "[0]\tvalidation-auc:0.84267\n",
      "[1]\tvalidation-auc:0.84279\n",
      "[2]\tvalidation-auc:0.84276\n",
      "[3]\tvalidation-auc:0.84321\n",
      "[4]\tvalidation-auc:0.84334\n",
      "[5]\tvalidation-auc:0.84370\n",
      "[6]\tvalidation-auc:0.84362\n",
      "[7]\tvalidation-auc:0.84397\n",
      "[8]\tvalidation-auc:0.84361\n",
      "[9]\tvalidation-auc:0.84367\n"
     ]
    },
    {
     "name": "stderr",
     "output_type": "stream",
     "text": [
      "[I 2020-09-10 16:41:07,991] Finished trial#51 with value: 0.7831325301204819 with parameters: {'booster': 'gbtree', 'lambda': 0.056163418207264, 'alpha': 5.3492764624004306e-05, 'max_depth': 8, 'eta': 0.00012942968523376418, 'gamma': 4.380469859362133e-07, 'grow_policy': 'depthwise'}. Best is trial#39 with value: 0.7831325301204819.\n"
     ]
    },
    {
     "name": "stdout",
     "output_type": "stream",
     "text": [
      "[0]\tvalidation-auc:0.78351\n",
      "[1]\tvalidation-auc:0.84733\n",
      "[2]\tvalidation-auc:0.85222\n",
      "[3]\tvalidation-auc:0.85091\n",
      "[4]\tvalidation-auc:0.84778\n",
      "[5]\tvalidation-auc:0.85156\n",
      "[6]\tvalidation-auc:0.84670\n",
      "[7]\tvalidation-auc:0.84701\n",
      "[8]\tvalidation-auc:0.84716\n",
      "[9]\tvalidation-auc:0.85023\n"
     ]
    },
    {
     "name": "stderr",
     "output_type": "stream",
     "text": [
      "[I 2020-09-10 16:41:08,211] Finished trial#52 with value: 0.7549221275345284 with parameters: {'booster': 'gbtree', 'lambda': 0.04525694275587974, 'alpha': 6.600820698103971e-05, 'max_depth': 6, 'eta': 0.5443923888998089, 'gamma': 5.114027196431359e-07, 'grow_policy': 'depthwise'}. Best is trial#39 with value: 0.7831325301204819.\n"
     ]
    },
    {
     "name": "stdout",
     "output_type": "stream",
     "text": [
      "[0]\tvalidation-auc:0.84454\n",
      "[1]\tvalidation-auc:0.84409\n",
      "[2]\tvalidation-auc:0.84430\n",
      "[3]\tvalidation-auc:0.84432\n",
      "[4]\tvalidation-auc:0.84445\n",
      "[5]\tvalidation-auc:0.84456\n",
      "[6]\tvalidation-auc:0.84463\n",
      "[7]\tvalidation-auc:0.84482\n",
      "[8]\tvalidation-auc:0.84481\n",
      "[9]\tvalidation-auc:0.84496\n"
     ]
    },
    {
     "name": "stderr",
     "output_type": "stream",
     "text": [
      "[I 2020-09-10 16:41:08,442] Finished trial#53 with value: 0.7746106376726418 with parameters: {'booster': 'gbtree', 'lambda': 0.22410279336859062, 'alpha': 0.0007627303714766537, 'max_depth': 9, 'eta': 0.00018695926990356437, 'gamma': 2.816179316684312e-08, 'grow_policy': 'depthwise'}. Best is trial#39 with value: 0.7831325301204819.\n"
     ]
    },
    {
     "name": "stdout",
     "output_type": "stream",
     "text": [
      "[0]\tvalidation-auc:0.81435\n",
      "[1]\tvalidation-auc:0.81447\n",
      "[2]\tvalidation-auc:0.81484\n",
      "[3]\tvalidation-auc:0.81509\n",
      "[4]\tvalidation-auc:0.81561\n",
      "[5]\tvalidation-auc:0.81568\n",
      "[6]\tvalidation-auc:0.81553\n",
      "[7]\tvalidation-auc:0.81566\n",
      "[8]\tvalidation-auc:0.81576\n",
      "[9]\tvalidation-auc:0.81595\n"
     ]
    },
    {
     "name": "stderr",
     "output_type": "stream",
     "text": [
      "[I 2020-09-10 16:41:08,662] Finished trial#54 with value: 0.7719659124302086 with parameters: {'booster': 'gbtree', 'lambda': 0.04050638942560021, 'alpha': 0.00013372333734411752, 'max_depth': 7, 'eta': 4.341251068664876e-05, 'gamma': 6.702832933599551e-08, 'grow_policy': 'depthwise'}. Best is trial#39 with value: 0.7831325301204819.\n"
     ]
    },
    {
     "name": "stdout",
     "output_type": "stream",
     "text": [
      "[0]\tvalidation-auc:0.84245\n",
      "[1]\tvalidation-auc:0.84270\n",
      "[2]\tvalidation-auc:0.84337\n",
      "[3]\tvalidation-auc:0.84375\n",
      "[4]\tvalidation-auc:0.84390\n",
      "[5]\tvalidation-auc:0.84356\n",
      "[6]\tvalidation-auc:0.84374\n",
      "[7]\tvalidation-auc:0.84394\n",
      "[8]\tvalidation-auc:0.84428\n",
      "[9]\tvalidation-auc:0.84434\n"
     ]
    },
    {
     "name": "stderr",
     "output_type": "stream",
     "text": [
      "[I 2020-09-10 16:41:08,886] Finished trial#55 with value: 0.7807816632383191 with parameters: {'booster': 'gbtree', 'lambda': 0.00011195310218291639, 'alpha': 1.3058185874860374e-05, 'max_depth': 8, 'eta': 0.003656525354438389, 'gamma': 1.20764948094303e-06, 'grow_policy': 'depthwise'}. Best is trial#39 with value: 0.7831325301204819.\n"
     ]
    },
    {
     "name": "stdout",
     "output_type": "stream",
     "text": [
      "[0]\tvalidation-auc:0.67863\n",
      "[1]\tvalidation-auc:0.67863\n",
      "[2]\tvalidation-auc:0.67863\n",
      "[3]\tvalidation-auc:0.67863\n",
      "[4]\tvalidation-auc:0.72315\n",
      "[5]\tvalidation-auc:0.72315\n",
      "[6]\tvalidation-auc:0.72315\n",
      "[7]\tvalidation-auc:0.72315\n",
      "[8]\tvalidation-auc:0.72315\n",
      "[9]\tvalidation-auc:0.72315\n"
     ]
    },
    {
     "name": "stderr",
     "output_type": "stream",
     "text": [
      "[I 2020-09-10 16:41:09,082] Finished trial#56 with value: 0.719365265941816 with parameters: {'booster': 'gbtree', 'lambda': 6.702947532897703e-06, 'alpha': 0.0003397796751951743, 'max_depth': 3, 'eta': 0.0019882888284411364, 'gamma': 5.209719676023811e-07, 'grow_policy': 'depthwise'}. Best is trial#39 with value: 0.7831325301204819.\n"
     ]
    },
    {
     "name": "stdout",
     "output_type": "stream",
     "text": [
      "[0]\tvalidation-auc:0.84544\n",
      "[1]\tvalidation-auc:0.84557\n",
      "[2]\tvalidation-auc:0.84573\n",
      "[3]\tvalidation-auc:0.84572\n",
      "[4]\tvalidation-auc:0.84567\n",
      "[5]\tvalidation-auc:0.84569\n",
      "[6]\tvalidation-auc:0.84583\n",
      "[7]\tvalidation-auc:0.84567\n",
      "[8]\tvalidation-auc:0.84583\n",
      "[9]\tvalidation-auc:0.84579\n"
     ]
    },
    {
     "name": "stderr",
     "output_type": "stream",
     "text": [
      "[I 2020-09-10 16:41:09,356] Finished trial#57 with value: 0.7816632383191302 with parameters: {'booster': 'dart', 'lambda': 0.33099787742108383, 'alpha': 0.02965352346855581, 'max_depth': 8, 'eta': 2.3923767058654822e-05, 'gamma': 4.0222326996373017e-07, 'grow_policy': 'depthwise', 'sample_type': 'uniform', 'normalize_type': 'tree', 'rate_drop': 4.8276630370128726e-05, 'skip_drop': 1.0579582455082565e-06}. Best is trial#39 with value: 0.7831325301204819.\n"
     ]
    },
    {
     "name": "stdout",
     "output_type": "stream",
     "text": [
      "[0]\tvalidation-auc:0.84609\n",
      "[1]\tvalidation-auc:0.84636\n",
      "[2]\tvalidation-auc:0.84639\n",
      "[3]\tvalidation-auc:0.84648\n",
      "[4]\tvalidation-auc:0.84644\n",
      "[5]\tvalidation-auc:0.84646\n",
      "[6]\tvalidation-auc:0.84642\n",
      "[7]\tvalidation-auc:0.84659\n",
      "[8]\tvalidation-auc:0.84662\n",
      "[9]\tvalidation-auc:0.84658\n"
     ]
    },
    {
     "name": "stderr",
     "output_type": "stream",
     "text": [
      "[I 2020-09-10 16:41:09,602] Finished trial#58 with value: 0.7801939465177784 with parameters: {'booster': 'dart', 'lambda': 0.4532132027218566, 'alpha': 0.06208688135958451, 'max_depth': 8, 'eta': 2.5151386546169148e-05, 'gamma': 9.346315547785482e-08, 'grow_policy': 'depthwise', 'sample_type': 'uniform', 'normalize_type': 'tree', 'rate_drop': 5.8524580392113775e-05, 'skip_drop': 1.7220107904261412e-06}. Best is trial#39 with value: 0.7831325301204819.\n"
     ]
    },
    {
     "name": "stdout",
     "output_type": "stream",
     "text": [
      "[0]\tvalidation-auc:0.81924\n",
      "[1]\tvalidation-auc:0.81898\n",
      "[2]\tvalidation-auc:0.81931\n",
      "[3]\tvalidation-auc:0.81929\n",
      "[4]\tvalidation-auc:0.81945\n",
      "[5]\tvalidation-auc:0.81995\n",
      "[6]\tvalidation-auc:0.82005\n",
      "[7]\tvalidation-auc:0.82015\n",
      "[8]\tvalidation-auc:0.82003\n",
      "[9]\tvalidation-auc:0.82016\n"
     ]
    },
    {
     "name": "stderr",
     "output_type": "stream",
     "text": [
      "[I 2020-09-10 16:41:09,843] Finished trial#59 with value: 0.7687334704672348 with parameters: {'booster': 'dart', 'lambda': 0.9879642264308963, 'alpha': 3.737680733750388e-05, 'max_depth': 7, 'eta': 0.00018625220548713353, 'gamma': 9.006586316239186e-07, 'grow_policy': 'depthwise', 'sample_type': 'uniform', 'normalize_type': 'tree', 'rate_drop': 0.0016456693364454355, 'skip_drop': 3.2693020588506153e-06}. Best is trial#39 with value: 0.7831325301204819.\n"
     ]
    },
    {
     "name": "stdout",
     "output_type": "stream",
     "text": [
      "[0]\tvalidation-auc:0.84008\n",
      "[1]\tvalidation-auc:0.84021\n",
      "[2]\tvalidation-auc:0.84057\n",
      "[3]\tvalidation-auc:0.84048\n",
      "[4]\tvalidation-auc:0.84080\n",
      "[5]\tvalidation-auc:0.84270\n",
      "[6]\tvalidation-auc:0.84263\n",
      "[7]\tvalidation-auc:0.84084\n",
      "[8]\tvalidation-auc:0.84120\n",
      "[9]\tvalidation-auc:0.84283\n"
     ]
    },
    {
     "name": "stderr",
     "output_type": "stream",
     "text": [
      "[I 2020-09-10 16:41:10,070] Finished trial#60 with value: 0.7816632383191302 with parameters: {'booster': 'gbtree', 'lambda': 0.00047056461719202565, 'alpha': 0.002264224664234655, 'max_depth': 8, 'eta': 8.528475110898329e-06, 'gamma': 4.0050867504063394e-05, 'grow_policy': 'depthwise'}. Best is trial#39 with value: 0.7831325301204819.\n"
     ]
    },
    {
     "name": "stdout",
     "output_type": "stream",
     "text": [
      "[0]\tvalidation-auc:0.84211\n",
      "[1]\tvalidation-auc:0.84259\n",
      "[2]\tvalidation-auc:0.84262\n",
      "[3]\tvalidation-auc:0.84249\n",
      "[4]\tvalidation-auc:0.84248\n",
      "[5]\tvalidation-auc:0.84275\n",
      "[6]\tvalidation-auc:0.84281\n",
      "[7]\tvalidation-auc:0.84297\n",
      "[8]\tvalidation-auc:0.84310\n",
      "[9]\tvalidation-auc:0.84327\n"
     ]
    },
    {
     "name": "stderr",
     "output_type": "stream",
     "text": [
      "[I 2020-09-10 16:41:10,308] Finished trial#61 with value: 0.7743167793123714 with parameters: {'booster': 'dart', 'lambda': 0.009555949280399385, 'alpha': 7.977395582463126e-05, 'max_depth': 9, 'eta': 5.013319680425484e-05, 'gamma': 3.6408573504295644e-07, 'grow_policy': 'depthwise', 'sample_type': 'uniform', 'normalize_type': 'tree', 'rate_drop': 0.0008991945098198869, 'skip_drop': 1.6104606967983048e-07}. Best is trial#39 with value: 0.7831325301204819.\n"
     ]
    },
    {
     "name": "stdout",
     "output_type": "stream",
     "text": [
      "[0]\tvalidation-auc:0.84006\n",
      "[1]\tvalidation-auc:0.84006\n",
      "[2]\tvalidation-auc:0.84113\n",
      "[3]\tvalidation-auc:0.84170\n",
      "[4]\tvalidation-auc:0.84231\n",
      "[5]\tvalidation-auc:0.84237\n",
      "[6]\tvalidation-auc:0.84233\n",
      "[7]\tvalidation-auc:0.84239\n",
      "[8]\tvalidation-auc:0.84277\n",
      "[9]\tvalidation-auc:0.84282\n"
     ]
    },
    {
     "name": "stderr",
     "output_type": "stream",
     "text": [
      "[I 2020-09-10 16:41:10,537] Finished trial#62 with value: 0.7816632383191302 with parameters: {'booster': 'gbtree', 'lambda': 0.002104514989931436, 'alpha': 0.0015684315473602428, 'max_depth': 8, 'eta': 1.7881659318822683e-05, 'gamma': 1.721067933800513e-07, 'grow_policy': 'depthwise'}. Best is trial#39 with value: 0.7831325301204819.\n"
     ]
    },
    {
     "name": "stdout",
     "output_type": "stream",
     "text": [
      "[0]\tvalidation-auc:0.83995\n",
      "[1]\tvalidation-auc:0.84146\n",
      "[2]\tvalidation-auc:0.84179\n",
      "[3]\tvalidation-auc:0.84366\n",
      "[4]\tvalidation-auc:0.84200\n",
      "[5]\tvalidation-auc:0.84205\n",
      "[6]\tvalidation-auc:0.84199\n",
      "[7]\tvalidation-auc:0.84197\n",
      "[8]\tvalidation-auc:0.84210\n",
      "[9]\tvalidation-auc:0.84222\n"
     ]
    },
    {
     "name": "stderr",
     "output_type": "stream",
     "text": [
      "[I 2020-09-10 16:41:10,759] Finished trial#63 with value: 0.7834263884807523 with parameters: {'booster': 'gbtree', 'lambda': 1.5940414452882851e-06, 'alpha': 2.4257508112198373e-06, 'max_depth': 8, 'eta': 0.0006510966257313198, 'gamma': 1.5694898373865887e-07, 'grow_policy': 'depthwise'}. Best is trial#63 with value: 0.7834263884807523.\n"
     ]
    },
    {
     "name": "stdout",
     "output_type": "stream",
     "text": [
      "[0]\tvalidation-auc:0.81436\n",
      "[1]\tvalidation-auc:0.81611\n",
      "[2]\tvalidation-auc:0.81650\n",
      "[3]\tvalidation-auc:0.81640\n",
      "[4]\tvalidation-auc:0.81561\n",
      "[5]\tvalidation-auc:0.81576\n",
      "[6]\tvalidation-auc:0.81578\n",
      "[7]\tvalidation-auc:0.81585\n",
      "[8]\tvalidation-auc:0.81576\n",
      "[9]\tvalidation-auc:0.81600\n"
     ]
    },
    {
     "name": "stderr",
     "output_type": "stream",
     "text": [
      "[I 2020-09-10 16:41:10,975] Finished trial#64 with value: 0.772259770790479 with parameters: {'booster': 'gbtree', 'lambda': 0.0021769342642083754, 'alpha': 1.791044780189814e-05, 'max_depth': 7, 'eta': 0.0008630665665524424, 'gamma': 4.048123336790069e-06, 'grow_policy': 'depthwise'}. Best is trial#63 with value: 0.7834263884807523.\n"
     ]
    },
    {
     "name": "stdout",
     "output_type": "stream",
     "text": [
      "[0]\tvalidation-auc:0.84306\n",
      "[1]\tvalidation-auc:0.84496\n",
      "[2]\tvalidation-auc:0.84446\n",
      "[3]\tvalidation-auc:0.84479\n",
      "[4]\tvalidation-auc:0.84626\n",
      "[5]\tvalidation-auc:0.84525\n",
      "[6]\tvalidation-auc:0.84608\n",
      "[7]\tvalidation-auc:0.84481\n",
      "[8]\tvalidation-auc:0.84405\n",
      "[9]\tvalidation-auc:0.84331\n"
     ]
    },
    {
     "name": "stderr",
     "output_type": "stream",
     "text": [
      "[I 2020-09-10 16:41:11,210] Finished trial#65 with value: 0.7707904789891272 with parameters: {'booster': 'gbtree', 'lambda': 3.106277010343442e-05, 'alpha': 3.542553644224088e-06, 'max_depth': 9, 'eta': 0.0109785400028552, 'gamma': 1.505256208764032e-05, 'grow_policy': 'depthwise'}. Best is trial#63 with value: 0.7834263884807523.\n"
     ]
    },
    {
     "name": "stdout",
     "output_type": "stream",
     "text": [
      "[0]\tvalidation-auc:0.83995\n",
      "[1]\tvalidation-auc:0.84006\n",
      "[2]\tvalidation-auc:0.84049\n",
      "[3]\tvalidation-auc:0.84124\n",
      "[4]\tvalidation-auc:0.84164\n",
      "[5]\tvalidation-auc:0.84177\n",
      "[6]\tvalidation-auc:0.84169\n",
      "[7]\tvalidation-auc:0.84206\n",
      "[8]\tvalidation-auc:0.84205\n",
      "[9]\tvalidation-auc:0.84213\n"
     ]
    },
    {
     "name": "stderr",
     "output_type": "stream",
     "text": [
      "[I 2020-09-10 16:41:11,443] Finished trial#66 with value: 0.7831325301204819 with parameters: {'booster': 'dart', 'lambda': 1.2008330476489229e-06, 'alpha': 3.01198136678792e-08, 'max_depth': 8, 'eta': 0.00016610366990482735, 'gamma': 1.9991056955983585e-06, 'grow_policy': 'depthwise', 'sample_type': 'uniform', 'normalize_type': 'forest', 'rate_drop': 5.71696902347394e-05, 'skip_drop': 1.0901168715710576e-06}. Best is trial#63 with value: 0.7834263884807523.\n"
     ]
    },
    {
     "name": "stdout",
     "output_type": "stream",
     "text": [
      "[0]\tvalidation-auc:0.81436\n",
      "[1]\tvalidation-auc:0.81448\n",
      "[2]\tvalidation-auc:0.81486\n",
      "[3]\tvalidation-auc:0.81485\n",
      "[4]\tvalidation-auc:0.81612\n",
      "[5]\tvalidation-auc:0.81636\n",
      "[6]\tvalidation-auc:0.81626\n",
      "[7]\tvalidation-auc:0.81640\n",
      "[8]\tvalidation-auc:0.81632\n",
      "[9]\tvalidation-auc:0.81576\n"
     ]
    },
    {
     "name": "stderr",
     "output_type": "stream",
     "text": [
      "[I 2020-09-10 16:41:11,666] Finished trial#67 with value: 0.772259770790479 with parameters: {'booster': 'dart', 'lambda': 1.6093739206849175e-06, 'alpha': 2.0628189673517393e-08, 'max_depth': 7, 'eta': 0.00015352904294427445, 'gamma': 3.8384698078072865e-08, 'grow_policy': 'depthwise', 'sample_type': 'uniform', 'normalize_type': 'forest', 'rate_drop': 6.762799718810341e-05, 'skip_drop': 6.031151181120721e-07}. Best is trial#63 with value: 0.7834263884807523.\n"
     ]
    },
    {
     "name": "stdout",
     "output_type": "stream",
     "text": [
      "[0]\tvalidation-auc:0.67627\n",
      "[1]\tvalidation-auc:0.67649\n",
      "[2]\tvalidation-auc:0.67665\n",
      "[3]\tvalidation-auc:0.67674\n",
      "[4]\tvalidation-auc:0.67682\n",
      "[5]\tvalidation-auc:0.67688\n",
      "[6]\tvalidation-auc:0.67689\n",
      "[7]\tvalidation-auc:0.67692\n",
      "[8]\tvalidation-auc:0.67693\n",
      "[9]\tvalidation-auc:0.67694\n"
     ]
    },
    {
     "name": "stderr",
     "output_type": "stream",
     "text": [
      "[I 2020-09-10 16:41:11,845] Finished trial#68 with value: 0.6735233617396414 with parameters: {'booster': 'gblinear', 'lambda': 4.834315940662985e-07, 'alpha': 7.460455300809053e-06}. Best is trial#63 with value: 0.7834263884807523.\n"
     ]
    },
    {
     "name": "stdout",
     "output_type": "stream",
     "text": [
      "[0]\tvalidation-auc:0.84267\n",
      "[1]\tvalidation-auc:0.84335\n",
      "[2]\tvalidation-auc:0.84421\n",
      "[3]\tvalidation-auc:0.84365\n",
      "[4]\tvalidation-auc:0.84387\n",
      "[5]\tvalidation-auc:0.84391\n",
      "[6]\tvalidation-auc:0.84394\n",
      "[7]\tvalidation-auc:0.84390\n",
      "[8]\tvalidation-auc:0.84411\n",
      "[9]\tvalidation-auc:0.84395\n"
     ]
    },
    {
     "name": "stderr",
     "output_type": "stream",
     "text": [
      "[I 2020-09-10 16:41:12,069] Finished trial#69 with value: 0.7831325301204819 with parameters: {'booster': 'gbtree', 'lambda': 0.0378793894596344, 'alpha': 0.0003049037258440707, 'max_depth': 8, 'eta': 0.0004493669987561415, 'gamma': 1.0408289918615815e-06, 'grow_policy': 'depthwise'}. Best is trial#63 with value: 0.7834263884807523.\n"
     ]
    },
    {
     "name": "stdout",
     "output_type": "stream",
     "text": [
      "[0]\tvalidation-auc:0.83994\n",
      "[1]\tvalidation-auc:0.84148\n",
      "[2]\tvalidation-auc:0.84180\n",
      "[3]\tvalidation-auc:0.84400\n",
      "[4]\tvalidation-auc:0.84429\n",
      "[5]\tvalidation-auc:0.84389\n",
      "[6]\tvalidation-auc:0.84400\n",
      "[7]\tvalidation-auc:0.84382\n",
      "[8]\tvalidation-auc:0.84393\n",
      "[9]\tvalidation-auc:0.84393\n"
     ]
    },
    {
     "name": "stderr",
     "output_type": "stream",
     "text": [
      "[I 2020-09-10 16:41:12,292] Finished trial#70 with value: 0.7831325301204819 with parameters: {'booster': 'gbtree', 'lambda': 1.109594753825183e-05, 'alpha': 0.00032008600767407635, 'max_depth': 8, 'eta': 0.0004842630339254045, 'gamma': 1.3507853839926566e-06, 'grow_policy': 'depthwise'}. Best is trial#63 with value: 0.7834263884807523.\n"
     ]
    },
    {
     "name": "stdout",
     "output_type": "stream",
     "text": [
      "[0]\tvalidation-auc:0.84267\n",
      "[1]\tvalidation-auc:0.84337\n",
      "[2]\tvalidation-auc:0.84370\n",
      "[3]\tvalidation-auc:0.84366\n",
      "[4]\tvalidation-auc:0.84364\n",
      "[5]\tvalidation-auc:0.84393\n",
      "[6]\tvalidation-auc:0.84375\n",
      "[7]\tvalidation-auc:0.84384\n",
      "[8]\tvalidation-auc:0.84381\n",
      "[9]\tvalidation-auc:0.84387\n"
     ]
    },
    {
     "name": "stderr",
     "output_type": "stream",
     "text": [
      "[I 2020-09-10 16:41:12,516] Finished trial#71 with value: 0.7831325301204819 with parameters: {'booster': 'gbtree', 'lambda': 0.053640738525526005, 'alpha': 0.00033320502547879685, 'max_depth': 8, 'eta': 0.00048688397971185816, 'gamma': 1.3611950712311096e-06, 'grow_policy': 'depthwise'}. Best is trial#63 with value: 0.7834263884807523.\n"
     ]
    },
    {
     "name": "stdout",
     "output_type": "stream",
     "text": [
      "[0]\tvalidation-auc:0.84291\n",
      "[1]\tvalidation-auc:0.84336\n",
      "[2]\tvalidation-auc:0.84423\n",
      "[3]\tvalidation-auc:0.84389\n",
      "[4]\tvalidation-auc:0.84383\n",
      "[5]\tvalidation-auc:0.84385\n",
      "[6]\tvalidation-auc:0.84405\n",
      "[7]\tvalidation-auc:0.84382\n",
      "[8]\tvalidation-auc:0.84349\n",
      "[9]\tvalidation-auc:0.84377\n"
     ]
    },
    {
     "name": "stderr",
     "output_type": "stream",
     "text": [
      "[I 2020-09-10 16:41:12,749] Finished trial#72 with value: 0.7749044960329121 with parameters: {'booster': 'gbtree', 'lambda': 0.06288684973206253, 'alpha': 0.0002938246081157606, 'max_depth': 9, 'eta': 0.00043999835555859286, 'gamma': 0.10941778022074605, 'grow_policy': 'depthwise'}. Best is trial#63 with value: 0.7834263884807523.\n"
     ]
    },
    {
     "name": "stdout",
     "output_type": "stream",
     "text": [
      "[0]\tvalidation-auc:0.84199\n",
      "[1]\tvalidation-auc:0.84286\n",
      "[2]\tvalidation-auc:0.84377\n",
      "[3]\tvalidation-auc:0.84364\n",
      "[4]\tvalidation-auc:0.84378\n",
      "[5]\tvalidation-auc:0.84391\n",
      "[6]\tvalidation-auc:0.84407\n",
      "[7]\tvalidation-auc:0.84394\n",
      "[8]\tvalidation-auc:0.84398\n",
      "[9]\tvalidation-auc:0.84394\n"
     ]
    },
    {
     "name": "stderr",
     "output_type": "stream",
     "text": [
      "[I 2020-09-10 16:41:12,971] Finished trial#73 with value: 0.7828386717602116 with parameters: {'booster': 'gbtree', 'lambda': 0.09733851020939414, 'alpha': 0.0005717108122757588, 'max_depth': 8, 'eta': 0.0005805426451861197, 'gamma': 1.2725859384426072e-06, 'grow_policy': 'depthwise'}. Best is trial#63 with value: 0.7834263884807523.\n"
     ]
    },
    {
     "name": "stdout",
     "output_type": "stream",
     "text": [
      "[0]\tvalidation-auc:0.81435\n",
      "[1]\tvalidation-auc:0.81612\n",
      "[2]\tvalidation-auc:0.81699\n",
      "[3]\tvalidation-auc:0.81666\n",
      "[4]\tvalidation-auc:0.81738\n",
      "[5]\tvalidation-auc:0.81679\n",
      "[6]\tvalidation-auc:0.81688\n",
      "[7]\tvalidation-auc:0.81683\n",
      "[8]\tvalidation-auc:0.81669\n",
      "[9]\tvalidation-auc:0.81663\n"
     ]
    },
    {
     "name": "stderr",
     "output_type": "stream",
     "text": [
      "[I 2020-09-10 16:41:13,189] Finished trial#74 with value: 0.7725536291507493 with parameters: {'booster': 'gbtree', 'lambda': 0.021497715406111728, 'alpha': 0.0005379644357457829, 'max_depth': 7, 'eta': 0.00278897352691111, 'gamma': 1.4050208098511297e-07, 'grow_policy': 'depthwise'}. Best is trial#63 with value: 0.7834263884807523.\n"
     ]
    },
    {
     "name": "stdout",
     "output_type": "stream",
     "text": [
      "[0]\tvalidation-auc:0.84125\n",
      "[1]\tvalidation-auc:0.84128\n",
      "[2]\tvalidation-auc:0.84175\n",
      "[3]\tvalidation-auc:0.84194\n",
      "[4]\tvalidation-auc:0.84228\n",
      "[5]\tvalidation-auc:0.84227\n",
      "[6]\tvalidation-auc:0.84254\n",
      "[7]\tvalidation-auc:0.84269\n",
      "[8]\tvalidation-auc:0.84296\n",
      "[9]\tvalidation-auc:0.84303\n"
     ]
    },
    {
     "name": "stderr",
     "output_type": "stream",
     "text": [
      "[I 2020-09-10 16:41:13,420] Finished trial#75 with value: 0.7757860711137232 with parameters: {'booster': 'gbtree', 'lambda': 0.12050852269868603, 'alpha': 0.0038797919921974874, 'max_depth': 9, 'eta': 0.0002399504545535187, 'gamma': 2.5649741475357457e-06, 'grow_policy': 'depthwise'}. Best is trial#63 with value: 0.7834263884807523.\n"
     ]
    },
    {
     "name": "stdout",
     "output_type": "stream",
     "text": [
      "[0]\tvalidation-auc:0.83995\n",
      "[1]\tvalidation-auc:0.84005\n",
      "[2]\tvalidation-auc:0.84050\n",
      "[3]\tvalidation-auc:0.84273\n",
      "[4]\tvalidation-auc:0.84332\n",
      "[5]\tvalidation-auc:0.84298\n",
      "[6]\tvalidation-auc:0.84185\n",
      "[7]\tvalidation-auc:0.84357\n",
      "[8]\tvalidation-auc:0.84359\n",
      "[9]\tvalidation-auc:0.84388\n"
     ]
    },
    {
     "name": "stderr",
     "output_type": "stream",
     "text": [
      "[I 2020-09-10 16:41:13,647] Finished trial#76 with value: 0.7831325301204819 with parameters: {'booster': 'gbtree', 'lambda': 7.05009603016587e-06, 'alpha': 0.0008299122299404354, 'max_depth': 8, 'eta': 9.75211187661442e-05, 'gamma': 7.409123551611534e-07, 'grow_policy': 'depthwise'}. Best is trial#63 with value: 0.7834263884807523.\n"
     ]
    },
    {
     "name": "stdout",
     "output_type": "stream",
     "text": [
      "[0]\tvalidation-auc:0.83708\n",
      "[1]\tvalidation-auc:0.83663\n",
      "[2]\tvalidation-auc:0.83700\n",
      "[3]\tvalidation-auc:0.83841\n",
      "[4]\tvalidation-auc:0.83887\n",
      "[5]\tvalidation-auc:0.83903\n",
      "[6]\tvalidation-auc:0.83947\n",
      "[7]\tvalidation-auc:0.83920\n",
      "[8]\tvalidation-auc:0.83954\n",
      "[9]\tvalidation-auc:0.84259\n"
     ]
    },
    {
     "name": "stderr",
     "output_type": "stream",
     "text": [
      "[I 2020-09-10 16:41:13,877] Finished trial#77 with value: 0.7746106376726418 with parameters: {'booster': 'gbtree', 'lambda': 7.200578155509526e-06, 'alpha': 0.00023810299231022435, 'max_depth': 9, 'eta': 6.607777049911552e-05, 'gamma': 1.3443745841143468e-06, 'grow_policy': 'depthwise'}. Best is trial#63 with value: 0.7834263884807523.\n"
     ]
    },
    {
     "name": "stdout",
     "output_type": "stream",
     "text": [
      "[0]\tvalidation-auc:0.81436\n",
      "[1]\tvalidation-auc:0.81447\n",
      "[2]\tvalidation-auc:0.81482\n",
      "[3]\tvalidation-auc:0.81509\n",
      "[4]\tvalidation-auc:0.81515\n",
      "[5]\tvalidation-auc:0.81544\n",
      "[6]\tvalidation-auc:0.81609\n",
      "[7]\tvalidation-auc:0.81626\n",
      "[8]\tvalidation-auc:0.81627\n",
      "[9]\tvalidation-auc:0.81636\n"
     ]
    },
    {
     "name": "stderr",
     "output_type": "stream",
     "text": [
      "[I 2020-09-10 16:41:14,099] Finished trial#78 with value: 0.772259770790479 with parameters: {'booster': 'gbtree', 'lambda': 1.4505184100359123e-06, 'alpha': 5.366141511353879e-08, 'max_depth': 7, 'eta': 8.628591687882439e-05, 'gamma': 1.8627899652386723e-07, 'grow_policy': 'depthwise'}. Best is trial#63 with value: 0.7834263884807523.\n"
     ]
    },
    {
     "name": "stdout",
     "output_type": "stream",
     "text": [
      "[0]\tvalidation-auc:0.83995\n",
      "[1]\tvalidation-auc:0.84257\n",
      "[2]\tvalidation-auc:0.84302\n",
      "[3]\tvalidation-auc:0.84311\n",
      "[4]\tvalidation-auc:0.84329\n",
      "[5]\tvalidation-auc:0.84344\n",
      "[6]\tvalidation-auc:0.84317\n",
      "[7]\tvalidation-auc:0.84358\n",
      "[8]\tvalidation-auc:0.84390\n",
      "[9]\tvalidation-auc:0.84398\n"
     ]
    },
    {
     "name": "stderr",
     "output_type": "stream",
     "text": [
      "[I 2020-09-10 16:41:14,326] Finished trial#79 with value: 0.7831325301204819 with parameters: {'booster': 'gbtree', 'lambda': 3.524617297594106e-07, 'alpha': 0.0009190568860675276, 'max_depth': 8, 'eta': 0.0001208230958890564, 'gamma': 7.036083037978358e-07, 'grow_policy': 'depthwise'}. Best is trial#63 with value: 0.7834263884807523.\n"
     ]
    },
    {
     "name": "stdout",
     "output_type": "stream",
     "text": [
      "[0]\tvalidation-auc:0.84249\n",
      "[1]\tvalidation-auc:0.84288\n",
      "[2]\tvalidation-auc:0.84368\n",
      "[3]\tvalidation-auc:0.84386\n",
      "[4]\tvalidation-auc:0.84407\n",
      "[5]\tvalidation-auc:0.84403\n",
      "[6]\tvalidation-auc:0.84399\n",
      "[7]\tvalidation-auc:0.84386\n",
      "[8]\tvalidation-auc:0.84376\n",
      "[9]\tvalidation-auc:0.84382\n"
     ]
    },
    {
     "name": "stderr",
     "output_type": "stream",
     "text": [
      "[I 2020-09-10 16:41:14,553] Finished trial#80 with value: 0.7831325301204819 with parameters: {'booster': 'gbtree', 'lambda': 2.0253390337524595e-06, 'alpha': 0.010324921465031693, 'max_depth': 8, 'eta': 0.0003142868897828124, 'gamma': 8.51608584644832e-07, 'grow_policy': 'depthwise'}. Best is trial#63 with value: 0.7834263884807523.\n"
     ]
    },
    {
     "name": "stdout",
     "output_type": "stream",
     "text": [
      "[0]\tvalidation-auc:0.84250\n",
      "[1]\tvalidation-auc:0.84272\n",
      "[2]\tvalidation-auc:0.84324\n",
      "[3]\tvalidation-auc:0.84335\n",
      "[4]\tvalidation-auc:0.84379\n",
      "[5]\tvalidation-auc:0.84361\n",
      "[6]\tvalidation-auc:0.84373\n",
      "[7]\tvalidation-auc:0.84371\n",
      "[8]\tvalidation-auc:0.84384\n",
      "[9]\tvalidation-auc:0.84392\n"
     ]
    },
    {
     "name": "stderr",
     "output_type": "stream",
     "text": [
      "[I 2020-09-10 16:41:14,777] Finished trial#81 with value: 0.7834263884807523 with parameters: {'booster': 'gbtree', 'lambda': 2.1020077925792675e-06, 'alpha': 0.02728760206617195, 'max_depth': 8, 'eta': 0.0007566744356347973, 'gamma': 1.5792534849989825e-08, 'grow_policy': 'depthwise'}. Best is trial#63 with value: 0.7834263884807523.\n"
     ]
    },
    {
     "name": "stdout",
     "output_type": "stream",
     "text": [
      "[0]\tvalidation-auc:0.84247\n",
      "[1]\tvalidation-auc:0.84316\n",
      "[2]\tvalidation-auc:0.84378\n",
      "[3]\tvalidation-auc:0.84347\n",
      "[4]\tvalidation-auc:0.84387\n",
      "[5]\tvalidation-auc:0.84369\n",
      "[6]\tvalidation-auc:0.84374\n",
      "[7]\tvalidation-auc:0.84369\n",
      "[8]\tvalidation-auc:0.84392\n",
      "[9]\tvalidation-auc:0.84372\n"
     ]
    },
    {
     "name": "stderr",
     "output_type": "stream",
     "text": [
      "[I 2020-09-10 16:41:15,007] Finished trial#82 with value: 0.7831325301204819 with parameters: {'booster': 'gbtree', 'lambda': 2.028147904552226e-06, 'alpha': 0.014106474964368416, 'max_depth': 8, 'eta': 0.0006049258887978264, 'gamma': 2.3180677978162112e-07, 'grow_policy': 'depthwise'}. Best is trial#63 with value: 0.7834263884807523.\n"
     ]
    },
    {
     "name": "stdout",
     "output_type": "stream",
     "text": [
      "[0]\tvalidation-auc:0.84250\n",
      "[1]\tvalidation-auc:0.84272\n",
      "[2]\tvalidation-auc:0.84374\n",
      "[3]\tvalidation-auc:0.84334\n",
      "[4]\tvalidation-auc:0.84466\n",
      "[5]\tvalidation-auc:0.84415\n",
      "[6]\tvalidation-auc:0.84465\n",
      "[7]\tvalidation-auc:0.84480\n",
      "[8]\tvalidation-auc:0.84481\n",
      "[9]\tvalidation-auc:0.84466\n"
     ]
    },
    {
     "name": "stderr",
     "output_type": "stream",
     "text": [
      "[I 2020-09-10 16:41:15,232] Finished trial#83 with value: 0.7801939465177784 with parameters: {'booster': 'gbtree', 'lambda': 9.042210419288704e-07, 'alpha': 0.030088188778789302, 'max_depth': 8, 'eta': 0.005977479551872837, 'gamma': 1.4811979241275431e-08, 'grow_policy': 'depthwise'}. Best is trial#63 with value: 0.7834263884807523.\n"
     ]
    },
    {
     "name": "stdout",
     "output_type": "stream",
     "text": [
      "[0]\tvalidation-auc:0.81511\n",
      "[1]\tvalidation-auc:0.81556\n",
      "[2]\tvalidation-auc:0.81686\n",
      "[3]\tvalidation-auc:0.81710\n",
      "[4]\tvalidation-auc:0.81697\n",
      "[5]\tvalidation-auc:0.81711\n",
      "[6]\tvalidation-auc:0.81713\n",
      "[7]\tvalidation-auc:0.81711\n",
      "[8]\tvalidation-auc:0.81701\n",
      "[9]\tvalidation-auc:0.81712\n"
     ]
    },
    {
     "name": "stderr",
     "output_type": "stream",
     "text": [
      "[I 2020-09-10 16:41:15,452] Finished trial#84 with value: 0.7710843373493976 with parameters: {'booster': 'gbtree', 'lambda': 4.419786973873293e-06, 'alpha': 0.17835494978148986, 'max_depth': 7, 'eta': 0.0003320569899372282, 'gamma': 8.480587121308458e-08, 'grow_policy': 'depthwise'}. Best is trial#63 with value: 0.7834263884807523.\n"
     ]
    },
    {
     "name": "stdout",
     "output_type": "stream",
     "text": [
      "[0]\tvalidation-auc:0.84303\n",
      "[1]\tvalidation-auc:0.84349\n",
      "[2]\tvalidation-auc:0.84397\n",
      "[3]\tvalidation-auc:0.84392\n",
      "[4]\tvalidation-auc:0.84422\n",
      "[5]\tvalidation-auc:0.84389\n",
      "[6]\tvalidation-auc:0.84436\n",
      "[7]\tvalidation-auc:0.84421\n",
      "[8]\tvalidation-auc:0.84497\n",
      "[9]\tvalidation-auc:0.84462\n"
     ]
    },
    {
     "name": "stderr",
     "output_type": "stream",
     "text": [
      "[I 2020-09-10 16:41:15,685] Finished trial#85 with value: 0.7749044960329121 with parameters: {'booster': 'gbtree', 'lambda': 3.648431101274968e-07, 'alpha': 0.010948417263159461, 'max_depth': 9, 'eta': 0.0011058454629221124, 'gamma': 1.1099770778231657e-08, 'grow_policy': 'depthwise'}. Best is trial#63 with value: 0.7834263884807523.\n"
     ]
    },
    {
     "name": "stdout",
     "output_type": "stream",
     "text": [
      "[0]\tvalidation-auc:0.84843\n",
      "[1]\tvalidation-auc:0.84880\n",
      "[2]\tvalidation-auc:0.84905\n",
      "[3]\tvalidation-auc:0.84897\n",
      "[4]\tvalidation-auc:0.84878\n",
      "[5]\tvalidation-auc:0.84905\n",
      "[6]\tvalidation-auc:0.84909\n",
      "[7]\tvalidation-auc:0.84907\n",
      "[8]\tvalidation-auc:0.84900\n",
      "[9]\tvalidation-auc:0.84908\n"
     ]
    },
    {
     "name": "stderr",
     "output_type": "stream",
     "text": [
      "[I 2020-09-10 16:41:15,917] Finished trial#86 with value: 0.7743167793123714 with parameters: {'booster': 'gbtree', 'lambda': 2.160077199236775e-06, 'alpha': 0.7736311613113936, 'max_depth': 8, 'eta': 0.000706895848840178, 'gamma': 4.114506590987737e-08, 'grow_policy': 'depthwise'}. Best is trial#63 with value: 0.7834263884807523.\n"
     ]
    },
    {
     "name": "stdout",
     "output_type": "stream",
     "text": [
      "[0]\tvalidation-auc:0.81435\n",
      "[1]\tvalidation-auc:0.81612\n",
      "[2]\tvalidation-auc:0.81650\n",
      "[3]\tvalidation-auc:0.81667\n",
      "[4]\tvalidation-auc:0.81583\n",
      "[5]\tvalidation-auc:0.81678\n",
      "[6]\tvalidation-auc:0.81655\n",
      "[7]\tvalidation-auc:0.81685\n",
      "[8]\tvalidation-auc:0.81665\n",
      "[9]\tvalidation-auc:0.81674\n"
     ]
    },
    {
     "name": "stderr",
     "output_type": "stream",
     "text": [
      "[I 2020-09-10 16:41:16,139] Finished trial#87 with value: 0.77314134587129 with parameters: {'booster': 'gbtree', 'lambda': 2.0919446186380997e-06, 'alpha': 0.007084042749494237, 'max_depth': 7, 'eta': 0.0022609177763675374, 'gamma': 3.2285459433032242e-06, 'grow_policy': 'depthwise'}. Best is trial#63 with value: 0.7834263884807523.\n"
     ]
    },
    {
     "name": "stdout",
     "output_type": "stream",
     "text": [
      "[0]\tvalidation-auc:0.84203\n",
      "[1]\tvalidation-auc:0.84281\n",
      "[2]\tvalidation-auc:0.84337\n",
      "[3]\tvalidation-auc:0.84432\n",
      "[4]\tvalidation-auc:0.84391\n",
      "[5]\tvalidation-auc:0.84466\n",
      "[6]\tvalidation-auc:0.84609\n",
      "[7]\tvalidation-auc:0.84549\n",
      "[8]\tvalidation-auc:0.84552\n",
      "[9]\tvalidation-auc:0.84615\n"
     ]
    },
    {
     "name": "stderr",
     "output_type": "stream",
     "text": [
      "[I 2020-09-10 16:41:16,367] Finished trial#88 with value: 0.779018513076697 with parameters: {'booster': 'gbtree', 'lambda': 3.2109057075645635e-07, 'alpha': 0.08949481311414427, 'max_depth': 8, 'eta': 0.006456923445070321, 'gamma': 7.64391135236981e-07, 'grow_policy': 'depthwise'}. Best is trial#63 with value: 0.7834263884807523.\n"
     ]
    },
    {
     "name": "stdout",
     "output_type": "stream",
     "text": [
      "[0]\tvalidation-auc:0.83993\n",
      "[1]\tvalidation-auc:0.84260\n",
      "[2]\tvalidation-auc:0.84335\n",
      "[3]\tvalidation-auc:0.84367\n",
      "[4]\tvalidation-auc:0.84375\n",
      "[5]\tvalidation-auc:0.84381\n",
      "[6]\tvalidation-auc:0.84415\n",
      "[7]\tvalidation-auc:0.84401\n",
      "[8]\tvalidation-auc:0.84399\n",
      "[9]\tvalidation-auc:0.84409\n"
     ]
    },
    {
     "name": "stderr",
     "output_type": "stream",
     "text": [
      "[I 2020-09-10 16:41:16,595] Finished trial#89 with value: 0.7831325301204819 with parameters: {'booster': 'gbtree', 'lambda': 1.975786327824486e-05, 'alpha': 0.0009025451706194581, 'max_depth': 8, 'eta': 0.00029751210802188727, 'gamma': 2.1359446713739275e-06, 'grow_policy': 'depthwise'}. Best is trial#63 with value: 0.7834263884807523.\n"
     ]
    },
    {
     "name": "stdout",
     "output_type": "stream",
     "text": [
      "[0]\tvalidation-auc:0.84154\n",
      "[1]\tvalidation-auc:0.84003\n",
      "[2]\tvalidation-auc:0.84276\n",
      "[3]\tvalidation-auc:0.84314\n",
      "[4]\tvalidation-auc:0.84337\n",
      "[5]\tvalidation-auc:0.84329\n",
      "[6]\tvalidation-auc:0.84333\n",
      "[7]\tvalidation-auc:0.84361\n",
      "[8]\tvalidation-auc:0.84406\n",
      "[9]\tvalidation-auc:0.84397\n"
     ]
    },
    {
     "name": "stderr",
     "output_type": "stream",
     "text": [
      "[I 2020-09-10 16:41:16,822] Finished trial#90 with value: 0.7831325301204819 with parameters: {'booster': 'gbtree', 'lambda': 5.607902752692947e-05, 'alpha': 0.0008872009270064079, 'max_depth': 8, 'eta': 0.00013362392437806447, 'gamma': 1.9020035120854042e-06, 'grow_policy': 'depthwise'}. Best is trial#63 with value: 0.7834263884807523.\n"
     ]
    },
    {
     "name": "stdout",
     "output_type": "stream",
     "text": [
      "[0]\tvalidation-auc:0.84212\n",
      "[1]\tvalidation-auc:0.84302\n",
      "[2]\tvalidation-auc:0.84379\n",
      "[3]\tvalidation-auc:0.84270\n",
      "[4]\tvalidation-auc:0.84398\n",
      "[5]\tvalidation-auc:0.84392\n",
      "[6]\tvalidation-auc:0.84417\n",
      "[7]\tvalidation-auc:0.84398\n",
      "[8]\tvalidation-auc:0.84411\n",
      "[9]\tvalidation-auc:0.84391\n"
     ]
    },
    {
     "name": "stderr",
     "output_type": "stream",
     "text": [
      "[I 2020-09-10 16:41:17,060] Finished trial#91 with value: 0.7749044960329121 with parameters: {'booster': 'gbtree', 'lambda': 6.15512902206453e-05, 'alpha': 0.0014513314799798512, 'max_depth': 9, 'eta': 0.00020352720611921325, 'gamma': 2.010911461575254e-06, 'grow_policy': 'depthwise'}. Best is trial#63 with value: 0.7834263884807523.\n"
     ]
    },
    {
     "name": "stdout",
     "output_type": "stream",
     "text": [
      "[0]\tvalidation-auc:0.84219\n",
      "[1]\tvalidation-auc:0.84258\n",
      "[2]\tvalidation-auc:0.84275\n",
      "[3]\tvalidation-auc:0.84296\n",
      "[4]\tvalidation-auc:0.84324\n",
      "[5]\tvalidation-auc:0.84336\n",
      "[6]\tvalidation-auc:0.84361\n",
      "[7]\tvalidation-auc:0.84366\n",
      "[8]\tvalidation-auc:0.84382\n",
      "[9]\tvalidation-auc:0.84395\n"
     ]
    },
    {
     "name": "stderr",
     "output_type": "stream",
     "text": [
      "[I 2020-09-10 16:41:17,287] Finished trial#92 with value: 0.7831325301204819 with parameters: {'booster': 'gbtree', 'lambda': 4.400068960253061e-06, 'alpha': 0.0037042143608635794, 'max_depth': 8, 'eta': 9.078269413252598e-05, 'gamma': 1.4589963698990143e-06, 'grow_policy': 'depthwise'}. Best is trial#63 with value: 0.7834263884807523.\n"
     ]
    },
    {
     "name": "stdout",
     "output_type": "stream",
     "text": [
      "[0]\tvalidation-auc:0.84249\n",
      "[1]\tvalidation-auc:0.84313\n",
      "[2]\tvalidation-auc:0.84403\n",
      "[3]\tvalidation-auc:0.84396\n",
      "[4]\tvalidation-auc:0.84420\n",
      "[5]\tvalidation-auc:0.84397\n",
      "[6]\tvalidation-auc:0.84415\n",
      "[7]\tvalidation-auc:0.84382\n",
      "[8]\tvalidation-auc:0.84396\n",
      "[9]\tvalidation-auc:0.84392\n"
     ]
    },
    {
     "name": "stderr",
     "output_type": "stream",
     "text": [
      "[I 2020-09-10 16:41:17,515] Finished trial#93 with value: 0.7831325301204819 with parameters: {'booster': 'gbtree', 'lambda': 9.714784779369325e-06, 'alpha': 0.004490357057597268, 'max_depth': 8, 'eta': 0.0004591182625855252, 'gamma': 5.56608377050016e-06, 'grow_policy': 'depthwise'}. Best is trial#63 with value: 0.7834263884807523.\n"
     ]
    },
    {
     "name": "stdout",
     "output_type": "stream",
     "text": [
      "[0]\tvalidation-auc:0.84249\n",
      "[1]\tvalidation-auc:0.84311\n",
      "[2]\tvalidation-auc:0.84377\n",
      "[3]\tvalidation-auc:0.84396\n",
      "[4]\tvalidation-auc:0.84432\n",
      "[5]\tvalidation-auc:0.84396\n",
      "[6]\tvalidation-auc:0.84425\n",
      "[7]\tvalidation-auc:0.84381\n",
      "[8]\tvalidation-auc:0.84389\n",
      "[9]\tvalidation-auc:0.84385\n"
     ]
    },
    {
     "name": "stderr",
     "output_type": "stream",
     "text": [
      "[I 2020-09-10 16:41:17,767] Finished trial#94 with value: 0.7831325301204819 with parameters: {'booster': 'gbtree', 'lambda': 8.127844961243441e-07, 'alpha': 0.0022382690396842695, 'max_depth': 8, 'eta': 0.00043250478070386094, 'gamma': 1.1263878342886166e-05, 'grow_policy': 'depthwise'}. Best is trial#63 with value: 0.7834263884807523.\n"
     ]
    },
    {
     "name": "stdout",
     "output_type": "stream",
     "text": [
      "[0]\tvalidation-auc:0.81436\n",
      "[1]\tvalidation-auc:0.81611\n",
      "[2]\tvalidation-auc:0.81650\n",
      "[3]\tvalidation-auc:0.81640\n",
      "[4]\tvalidation-auc:0.81561\n",
      "[5]\tvalidation-auc:0.81599\n",
      "[6]\tvalidation-auc:0.81586\n",
      "[7]\tvalidation-auc:0.81603\n",
      "[8]\tvalidation-auc:0.81624\n",
      "[9]\tvalidation-auc:0.81670\n"
     ]
    },
    {
     "name": "stderr",
     "output_type": "stream",
     "text": [
      "[I 2020-09-10 16:41:17,991] Finished trial#95 with value: 0.772259770790479 with parameters: {'booster': 'gbtree', 'lambda': 9.545199455862094e-07, 'alpha': 0.002534102290103798, 'max_depth': 7, 'eta': 0.0012631577466736786, 'gamma': 4.744596241711463e-07, 'grow_policy': 'depthwise'}. Best is trial#63 with value: 0.7834263884807523.\n"
     ]
    },
    {
     "name": "stdout",
     "output_type": "stream",
     "text": [
      "[0]\tvalidation-auc:0.84296\n",
      "[1]\tvalidation-auc:0.84256\n",
      "[2]\tvalidation-auc:0.84257\n",
      "[3]\tvalidation-auc:0.84250\n",
      "[4]\tvalidation-auc:0.84263\n",
      "[5]\tvalidation-auc:0.84269\n",
      "[6]\tvalidation-auc:0.84296\n",
      "[7]\tvalidation-auc:0.84308\n",
      "[8]\tvalidation-auc:0.84315\n",
      "[9]\tvalidation-auc:0.84329\n"
     ]
    },
    {
     "name": "stderr",
     "output_type": "stream",
     "text": [
      "[I 2020-09-10 16:41:18,227] Finished trial#96 with value: 0.7743167793123714 with parameters: {'booster': 'gbtree', 'lambda': 1.201796147714998e-07, 'alpha': 0.01836281531541891, 'max_depth': 9, 'eta': 5.769189310946163e-05, 'gamma': 6.676208762582061e-07, 'grow_policy': 'depthwise'}. Best is trial#63 with value: 0.7834263884807523.\n"
     ]
    },
    {
     "name": "stdout",
     "output_type": "stream",
     "text": [
      "[0]\tvalidation-auc:0.78358\n",
      "[1]\tvalidation-auc:0.78358\n",
      "[2]\tvalidation-auc:0.78358\n",
      "[3]\tvalidation-auc:0.78359\n",
      "[4]\tvalidation-auc:0.78359\n",
      "[5]\tvalidation-auc:0.78359\n",
      "[6]\tvalidation-auc:0.78352\n",
      "[7]\tvalidation-auc:0.78358\n",
      "[8]\tvalidation-auc:0.78352\n",
      "[9]\tvalidation-auc:0.78352\n"
     ]
    },
    {
     "name": "stderr",
     "output_type": "stream",
     "text": [
      "[I 2020-09-10 16:41:18,442] Finished trial#97 with value: 0.7655010285042609 with parameters: {'booster': 'gbtree', 'lambda': 1.592368700154802e-06, 'alpha': 0.01203045150777008, 'max_depth': 6, 'eta': 0.000136424081165434, 'gamma': 3.005959255799122e-07, 'grow_policy': 'depthwise'}. Best is trial#63 with value: 0.7834263884807523.\n"
     ]
    },
    {
     "name": "stdout",
     "output_type": "stream",
     "text": [
      "[0]\tvalidation-auc:0.84267\n",
      "[1]\tvalidation-auc:0.84283\n",
      "[2]\tvalidation-auc:0.84363\n",
      "[3]\tvalidation-auc:0.84389\n",
      "[4]\tvalidation-auc:0.84411\n",
      "[5]\tvalidation-auc:0.84406\n",
      "[6]\tvalidation-auc:0.84428\n",
      "[7]\tvalidation-auc:0.84427\n",
      "[8]\tvalidation-auc:0.84421\n",
      "[9]\tvalidation-auc:0.84437\n"
     ]
    },
    {
     "name": "stderr",
     "output_type": "stream",
     "text": [
      "[I 2020-09-10 16:41:18,670] Finished trial#98 with value: 0.7831325301204819 with parameters: {'booster': 'gbtree', 'lambda': 0.024404453717972032, 'alpha': 0.00016148267301196304, 'max_depth': 8, 'eta': 0.0002234852680789213, 'gamma': 1.3265219039891492e-07, 'grow_policy': 'depthwise'}. Best is trial#63 with value: 0.7834263884807523.\n"
     ]
    },
    {
     "name": "stdout",
     "output_type": "stream",
     "text": [
      "[0]\tvalidation-auc:0.84248\n",
      "[1]\tvalidation-auc:0.84267\n",
      "[2]\tvalidation-auc:0.84322\n",
      "[3]\tvalidation-auc:0.84371\n",
      "[4]\tvalidation-auc:0.84393\n",
      "[5]\tvalidation-auc:0.84388\n",
      "[6]\tvalidation-auc:0.84419\n",
      "[7]\tvalidation-auc:0.84387\n",
      "[8]\tvalidation-auc:0.84400\n",
      "[9]\tvalidation-auc:0.84374\n"
     ]
    },
    {
     "name": "stderr",
     "output_type": "stream",
     "text": [
      "[I 2020-09-10 16:41:18,938] Finished trial#99 with value: 0.7831325301204819 with parameters: {'booster': 'gbtree', 'lambda': 0.0189375848880415, 'alpha': 0.00015991834516567314, 'max_depth': 8, 'eta': 0.0002518917913762765, 'gamma': 2.546747042904178e-07, 'grow_policy': 'depthwise'}. Best is trial#63 with value: 0.7834263884807523.\n"
     ]
    },
    {
     "name": "stdout",
     "output_type": "stream",
     "text": [
      "FrozenTrial(number=63, value=0.7834263884807523, datetime_start=datetime.datetime(2020, 9, 10, 16, 41, 10, 547467), datetime_complete=datetime.datetime(2020, 9, 10, 16, 41, 10, 758636), params={'booster': 'gbtree', 'lambda': 1.5940414452882851e-06, 'alpha': 2.4257508112198373e-06, 'max_depth': 8, 'eta': 0.0006510966257313198, 'gamma': 1.5694898373865887e-07, 'grow_policy': 'depthwise'}, distributions={'booster': CategoricalDistribution(choices=('gbtree', 'gblinear', 'dart')), 'lambda': LogUniformDistribution(high=1.0, low=1e-08), 'alpha': LogUniformDistribution(high=1.0, low=1e-08), 'max_depth': IntUniformDistribution(high=9, low=1, step=1), 'eta': LogUniformDistribution(high=1.0, low=1e-08), 'gamma': LogUniformDistribution(high=1.0, low=1e-08), 'grow_policy': CategoricalDistribution(choices=('depthwise', 'lossguide'))}, user_attrs={}, system_attrs={}, intermediate_values={0: 0.839948, 1: 0.841462, 2: 0.841785, 3: 0.843665, 4: 0.841995, 5: 0.842046, 6: 0.84199, 7: 0.841966, 8: 0.842095, 9: 0.84222}, trial_id=63, state=TrialState.COMPLETE)\n"
     ]
    }
   ],
   "source": [
    "study_v2 = optuna.create_study(pruner=optuna.pruners.MedianPruner(n_warmup_steps=15), direction=\"maximize\")\n",
    "study_v2.optimize(objective, n_trials=100)\n",
    "print(study_v2.best_trial)"
   ]
  },
  {
   "cell_type": "code",
   "execution_count": 13,
   "metadata": {},
   "outputs": [
    {
     "data": {
      "text/plain": [
       "{'booster': 'gbtree',\n",
       " 'lambda': 1.5940414452882851e-06,\n",
       " 'alpha': 2.4257508112198373e-06,\n",
       " 'max_depth': 8,\n",
       " 'eta': 0.0006510966257313198,\n",
       " 'gamma': 1.5694898373865887e-07,\n",
       " 'grow_policy': 'depthwise'}"
      ]
     },
     "execution_count": 13,
     "metadata": {},
     "output_type": "execute_result"
    }
   ],
   "source": [
    "study_v2.best_params"
   ]
  },
  {
   "cell_type": "code",
   "execution_count": 26,
   "metadata": {},
   "outputs": [
    {
     "name": "stdout",
     "output_type": "stream",
     "text": [
      "Acurácia: 77.99%\n",
      "Sensibilidade : 0.9172727272727272\n",
      "Especificidade : 0.7142857142857143\n",
      "\n",
      "\n",
      "              precision    recall  f1-score   support\n",
      "\n",
      "           0       0.95      0.71      0.81      2303\n",
      "           1       0.61      0.92      0.73      1100\n",
      "\n",
      "    accuracy                           0.78      3403\n",
      "   macro avg       0.78      0.82      0.77      3403\n",
      "weighted avg       0.84      0.78      0.79      3403\n",
      "\n"
     ]
    },
    {
     "data": {
      "image/png": "[encoded data removed]",
      "text/plain": [
       "<Figure size 432x432 with 2 Axes>"
      ]
     },
     "metadata": {},
     "output_type": "display_data"
    }
   ],
   "source": [
    "# Criando o modelo\n",
    "\n",
    "# Selecionando features para treinamento\n",
    "X = treino.drop(['TARGET'], axis = 1)\n",
    "\n",
    "# Selecionando feature target\n",
    "y = treino['TARGET']\n",
    "\n",
    "# Transformando target em tipo numerico\n",
    "y = y.astype(\"category\").cat.codes\n",
    "\n",
    "# Padronizando os dados (0 para a média, 1 para o desvio padrão)\n",
    "X = StandardScaler().fit_transform(X)\n",
    "\n",
    "# Split dos dados\n",
    "X_treino, X_teste, y_treino, y_teste = train_test_split(X, y, test_size = .2, random_state = SEED, stratify = y)    \n",
    "\n",
    "\n",
    "#modelo_xgb_v4 = xgb.XGBClassifier(**study_v2.best_params)\n",
    "modelo_xgb_v4 = xgb.XGBClassifier(**study_v2.best_params)\n",
    "\n",
    "# Treinando o modelo\n",
    "modelo_xgb_v4.fit(X_treino, y_treino)\n",
    "\n",
    "# Fazendo previsões\n",
    "xgb_y_pred = modelo_xgb_v4.predict(X_teste)\n",
    "previsoes = [round(value) for value in xgb_y_pred]\n",
    "\n",
    "# Avaliando as previsões\n",
    "xgb_score_v4 = accuracy_score(y_teste, previsoes)\n",
    "print(\"Acurácia: %.2f%%\" % (xgb_score_v4 * 100.0))\n",
    "\n",
    "# Cria a matriz de confusão\n",
    "conf_matriz_xgb = confusion_matrix(y_teste, xgb_y_pred)\n",
    "    \n",
    "# Calcula especificidade e sensibilidade\n",
    "speci_xgb = conf_matriz_xgb[0,0] / (conf_matriz_xgb[0,0] + conf_matriz_xgb[0,1])\n",
    "sensi_xgb = conf_matriz_xgb[1,1] / (conf_matriz_xgb[1,0] + conf_matriz_xgb[1,1])\n",
    "\n",
    "# Print\n",
    "print('Sensibilidade :', sensi_xgb)\n",
    "print('Especificidade :', speci_xgb)\n",
    "print('\\n')\n",
    "\n",
    "# Matriz de Confusão gráfica\n",
    "sns.set(rc={'figure.figsize':(6, 6)})\n",
    "sns.heatmap(conf_matriz_xgb, \n",
    "            annot = True, \n",
    "            fmt = \".0f\", \n",
    "            linewidths = .5, \n",
    "            square = True, \n",
    "            cmap = 'RdBu_r')\n",
    "\n",
    "# Labels e Títulos\n",
    "plt.ylabel('Label Verdadeiro')\n",
    "plt.xlabel('Label Previsto')\n",
    "plt.title('Acurácia: {:.2f}'.format(xgb_score_v4), size = 15)\n",
    "\n",
    "# Relatório de Classificação\n",
    "print(classification_report(y_teste, xgb_y_pred))"
   ]
  },
  {
   "cell_type": "markdown",
   "metadata": {},
   "source": [
    "### Bayesian Optimization"
   ]
  },
  {
   "cell_type": "code",
   "execution_count": 27,
   "metadata": {},
   "outputs": [],
   "source": [
    "bayes_cv_tuner = BayesSearchCV(\n",
    "    estimator = xgb.XGBClassifier(\n",
    "        n_jobs      = 1,\n",
    "        objective   = 'binary:logistic',\n",
    "        eval_metric = 'auc',\n",
    "        silent      = 1,\n",
    "        tree_method = 'approx'\n",
    "    ),\n",
    "    search_spaces = {\n",
    "        'learning_rate'    : (0.01, 1.0, 'log-uniform'),\n",
    "        'min_child_weight' : (0, 10),\n",
    "        'max_depth'        : (0, 50),\n",
    "        'max_delta_step'   : (0, 20),\n",
    "        'subsample'        : (0.01, 1.0, 'uniform'),\n",
    "        'colsample_bytree' : (0.01, 1.0, 'uniform'),\n",
    "        'colsample_bylevel': (0.01, 1.0, 'uniform'),\n",
    "        'reg_lambda'       : (1e-9, 1000, 'log-uniform'),\n",
    "        'reg_alpha'        : (1e-9, 1.0, 'log-uniform'),\n",
    "        'gamma'            : (1e-9, 0.5, 'log-uniform'),\n",
    "        'min_child_weight' : (0, 5),\n",
    "        'n_estimators'     : (50, 100),\n",
    "        'scale_pos_weight' : (1e-6, 500, 'log-uniform')\n",
    "    },    \n",
    "    scoring = 'roc_auc',\n",
    "    cv = StratifiedKFold(\n",
    "        n_splits     = 4,\n",
    "        shuffle      = True,\n",
    "        random_state = 42\n",
    "    ),\n",
    "    n_jobs  = 3,\n",
    "    n_iter  = 20,   \n",
    "    verbose = 0,\n",
    "    refit   = True,\n",
    "    random_state = 42\n",
    ")\n",
    "\n",
    "def status_print(optim_result):\n",
    "    all_models = pd.DataFrame(bayes_cv_tuner.cv_results_)    \n",
    "    best_params = pd.Series(bayes_cv_tuner.best_params_)\n",
    "    \n",
    "    print('Model #{}\\nBest ROC-AUC: {}\\nBest params: {}\\n'.format(\n",
    "        len(all_models),\n",
    "        np.round(bayes_cv_tuner.best_score_, 4),\n",
    "        bayes_cv_tuner.best_params_\n",
    "    ))\n",
    "    \n",
    "    clf_name = bayes_cv_tuner.estimator.__class__.__name__\n",
    "    all_models.to_csv(clf_name+\"_cv_results.csv\")"
   ]
  },
  {
   "cell_type": "code",
   "execution_count": 42,
   "metadata": {
    "scrolled": true
   },
   "outputs": [
    {
     "name": "stdout",
     "output_type": "stream",
     "text": [
      "Model #1\n",
      "Best ROC-AUC: 0.8428\n",
      "Best params: {'colsample_bylevel': 0.4160029192647807, 'colsample_bytree': 0.7304484857455519, 'gamma': 0.13031389926541354, 'learning_rate': 0.042815319280763466, 'max_delta_step': 13, 'max_depth': 21, 'min_child_weight': 2, 'n_estimators': 87, 'reg_alpha': 5.497557739289786e-07, 'reg_lambda': 0.05936070635912049, 'scale_pos_weight': 0.060830282487222144, 'subsample': 0.13556548021189216}\n",
      "\n",
      "Model #2\n",
      "Best ROC-AUC: 0.8428\n",
      "Best params: {'colsample_bylevel': 0.4160029192647807, 'colsample_bytree': 0.7304484857455519, 'gamma': 0.13031389926541354, 'learning_rate': 0.042815319280763466, 'max_delta_step': 13, 'max_depth': 21, 'min_child_weight': 2, 'n_estimators': 87, 'reg_alpha': 5.497557739289786e-07, 'reg_lambda': 0.05936070635912049, 'scale_pos_weight': 0.060830282487222144, 'subsample': 0.13556548021189216}\n",
      "\n",
      "Model #3\n",
      "Best ROC-AUC: 0.8428\n",
      "Best params: {'colsample_bylevel': 0.4160029192647807, 'colsample_bytree': 0.7304484857455519, 'gamma': 0.13031389926541354, 'learning_rate': 0.042815319280763466, 'max_delta_step': 13, 'max_depth': 21, 'min_child_weight': 2, 'n_estimators': 87, 'reg_alpha': 5.497557739289786e-07, 'reg_lambda': 0.05936070635912049, 'scale_pos_weight': 0.060830282487222144, 'subsample': 0.13556548021189216}\n",
      "\n",
      "Model #4\n",
      "Best ROC-AUC: 0.8428\n",
      "Best params: {'colsample_bylevel': 0.4160029192647807, 'colsample_bytree': 0.7304484857455519, 'gamma': 0.13031389926541354, 'learning_rate': 0.042815319280763466, 'max_delta_step': 13, 'max_depth': 21, 'min_child_weight': 2, 'n_estimators': 87, 'reg_alpha': 5.497557739289786e-07, 'reg_lambda': 0.05936070635912049, 'scale_pos_weight': 0.060830282487222144, 'subsample': 0.13556548021189216}\n",
      "\n",
      "Model #5\n",
      "Best ROC-AUC: 0.8428\n",
      "Best params: {'colsample_bylevel': 0.4160029192647807, 'colsample_bytree': 0.7304484857455519, 'gamma': 0.13031389926541354, 'learning_rate': 0.042815319280763466, 'max_delta_step': 13, 'max_depth': 21, 'min_child_weight': 2, 'n_estimators': 87, 'reg_alpha': 5.497557739289786e-07, 'reg_lambda': 0.05936070635912049, 'scale_pos_weight': 0.060830282487222144, 'subsample': 0.13556548021189216}\n",
      "\n",
      "Model #6\n",
      "Best ROC-AUC: 0.8456\n",
      "Best params: {'colsample_bylevel': 0.7366877378057127, 'colsample_bytree': 0.9399760402267441, 'gamma': 2.6498051478267012e-08, 'learning_rate': 0.0238149998729586, 'max_delta_step': 16, 'max_depth': 19, 'min_child_weight': 2, 'n_estimators': 77, 'reg_alpha': 0.011683028450342707, 'reg_lambda': 0.0048879464985534336, 'scale_pos_weight': 0.13267482411031659, 'subsample': 0.5689543694097536}\n",
      "\n",
      "Model #7\n",
      "Best ROC-AUC: 0.8456\n",
      "Best params: {'colsample_bylevel': 0.7366877378057127, 'colsample_bytree': 0.9399760402267441, 'gamma': 2.6498051478267012e-08, 'learning_rate': 0.0238149998729586, 'max_delta_step': 16, 'max_depth': 19, 'min_child_weight': 2, 'n_estimators': 77, 'reg_alpha': 0.011683028450342707, 'reg_lambda': 0.0048879464985534336, 'scale_pos_weight': 0.13267482411031659, 'subsample': 0.5689543694097536}\n",
      "\n",
      "Model #8\n",
      "Best ROC-AUC: 0.8456\n",
      "Best params: {'colsample_bylevel': 0.7366877378057127, 'colsample_bytree': 0.9399760402267441, 'gamma': 2.6498051478267012e-08, 'learning_rate': 0.0238149998729586, 'max_delta_step': 16, 'max_depth': 19, 'min_child_weight': 2, 'n_estimators': 77, 'reg_alpha': 0.011683028450342707, 'reg_lambda': 0.0048879464985534336, 'scale_pos_weight': 0.13267482411031659, 'subsample': 0.5689543694097536}\n",
      "\n",
      "Model #9\n",
      "Best ROC-AUC: 0.8456\n",
      "Best params: {'colsample_bylevel': 0.7366877378057127, 'colsample_bytree': 0.9399760402267441, 'gamma': 2.6498051478267012e-08, 'learning_rate': 0.0238149998729586, 'max_delta_step': 16, 'max_depth': 19, 'min_child_weight': 2, 'n_estimators': 77, 'reg_alpha': 0.011683028450342707, 'reg_lambda': 0.0048879464985534336, 'scale_pos_weight': 0.13267482411031659, 'subsample': 0.5689543694097536}\n",
      "\n",
      "Model #10\n",
      "Best ROC-AUC: 0.8456\n",
      "Best params: {'colsample_bylevel': 0.7366877378057127, 'colsample_bytree': 0.9399760402267441, 'gamma': 2.6498051478267012e-08, 'learning_rate': 0.0238149998729586, 'max_delta_step': 16, 'max_depth': 19, 'min_child_weight': 2, 'n_estimators': 77, 'reg_alpha': 0.011683028450342707, 'reg_lambda': 0.0048879464985534336, 'scale_pos_weight': 0.13267482411031659, 'subsample': 0.5689543694097536}\n",
      "\n",
      "Model #11\n",
      "Best ROC-AUC: 0.8456\n",
      "Best params: {'colsample_bylevel': 0.7366877378057127, 'colsample_bytree': 0.9399760402267441, 'gamma': 2.6498051478267012e-08, 'learning_rate': 0.0238149998729586, 'max_delta_step': 16, 'max_depth': 19, 'min_child_weight': 2, 'n_estimators': 77, 'reg_alpha': 0.011683028450342707, 'reg_lambda': 0.0048879464985534336, 'scale_pos_weight': 0.13267482411031659, 'subsample': 0.5689543694097536}\n",
      "\n",
      "Model #12\n",
      "Best ROC-AUC: 0.8456\n",
      "Best params: {'colsample_bylevel': 0.7366877378057127, 'colsample_bytree': 0.9399760402267441, 'gamma': 2.6498051478267012e-08, 'learning_rate': 0.0238149998729586, 'max_delta_step': 16, 'max_depth': 19, 'min_child_weight': 2, 'n_estimators': 77, 'reg_alpha': 0.011683028450342707, 'reg_lambda': 0.0048879464985534336, 'scale_pos_weight': 0.13267482411031659, 'subsample': 0.5689543694097536}\n",
      "\n",
      "Model #13\n",
      "Best ROC-AUC: 0.8456\n",
      "Best params: {'colsample_bylevel': 0.7366877378057127, 'colsample_bytree': 0.9399760402267441, 'gamma': 2.6498051478267012e-08, 'learning_rate': 0.0238149998729586, 'max_delta_step': 16, 'max_depth': 19, 'min_child_weight': 2, 'n_estimators': 77, 'reg_alpha': 0.011683028450342707, 'reg_lambda': 0.0048879464985534336, 'scale_pos_weight': 0.13267482411031659, 'subsample': 0.5689543694097536}\n",
      "\n",
      "Model #14\n",
      "Best ROC-AUC: 0.8456\n",
      "Best params: {'colsample_bylevel': 0.7366877378057127, 'colsample_bytree': 0.9399760402267441, 'gamma': 2.6498051478267012e-08, 'learning_rate': 0.0238149998729586, 'max_delta_step': 16, 'max_depth': 19, 'min_child_weight': 2, 'n_estimators': 77, 'reg_alpha': 0.011683028450342707, 'reg_lambda': 0.0048879464985534336, 'scale_pos_weight': 0.13267482411031659, 'subsample': 0.5689543694097536}\n",
      "\n",
      "Model #15\n",
      "Best ROC-AUC: 0.8467\n",
      "Best params: {'colsample_bylevel': 0.8774005648079376, 'colsample_bytree': 1.0, 'gamma': 1e-09, 'learning_rate': 0.5902480198141736, 'max_delta_step': 18, 'max_depth': 26, 'min_child_weight': 3, 'n_estimators': 81, 'reg_alpha': 0.00018950180337046291, 'reg_lambda': 147.8846852660249, 'scale_pos_weight': 499.99999999999994, 'subsample': 0.29202555817784076}\n",
      "\n",
      "Model #16\n",
      "Best ROC-AUC: 0.8467\n",
      "Best params: {'colsample_bylevel': 0.8774005648079376, 'colsample_bytree': 1.0, 'gamma': 1e-09, 'learning_rate': 0.5902480198141736, 'max_delta_step': 18, 'max_depth': 26, 'min_child_weight': 3, 'n_estimators': 81, 'reg_alpha': 0.00018950180337046291, 'reg_lambda': 147.8846852660249, 'scale_pos_weight': 499.99999999999994, 'subsample': 0.29202555817784076}\n",
      "\n",
      "Model #17\n",
      "Best ROC-AUC: 0.8467\n",
      "Best params: {'colsample_bylevel': 0.8774005648079376, 'colsample_bytree': 1.0, 'gamma': 1e-09, 'learning_rate': 0.5902480198141736, 'max_delta_step': 18, 'max_depth': 26, 'min_child_weight': 3, 'n_estimators': 81, 'reg_alpha': 0.00018950180337046291, 'reg_lambda': 147.8846852660249, 'scale_pos_weight': 499.99999999999994, 'subsample': 0.29202555817784076}\n",
      "\n",
      "Model #18\n",
      "Best ROC-AUC: 0.8467\n",
      "Best params: {'colsample_bylevel': 0.8774005648079376, 'colsample_bytree': 1.0, 'gamma': 1e-09, 'learning_rate': 0.5902480198141736, 'max_delta_step': 18, 'max_depth': 26, 'min_child_weight': 3, 'n_estimators': 81, 'reg_alpha': 0.00018950180337046291, 'reg_lambda': 147.8846852660249, 'scale_pos_weight': 499.99999999999994, 'subsample': 0.29202555817784076}\n",
      "\n",
      "Model #19\n",
      "Best ROC-AUC: 0.8467\n",
      "Best params: {'colsample_bylevel': 0.8774005648079376, 'colsample_bytree': 1.0, 'gamma': 1e-09, 'learning_rate': 0.5902480198141736, 'max_delta_step': 18, 'max_depth': 26, 'min_child_weight': 3, 'n_estimators': 81, 'reg_alpha': 0.00018950180337046291, 'reg_lambda': 147.8846852660249, 'scale_pos_weight': 499.99999999999994, 'subsample': 0.29202555817784076}\n",
      "\n",
      "Model #20\n",
      "Best ROC-AUC: 0.8467\n",
      "Best params: {'colsample_bylevel': 0.8774005648079376, 'colsample_bytree': 1.0, 'gamma': 1e-09, 'learning_rate': 0.5902480198141736, 'max_delta_step': 18, 'max_depth': 26, 'min_child_weight': 3, 'n_estimators': 81, 'reg_alpha': 0.00018950180337046291, 'reg_lambda': 147.8846852660249, 'scale_pos_weight': 499.99999999999994, 'subsample': 0.29202555817784076}\n"
     ]
    },
    {
     "name": "stdout",
     "output_type": "stream",
     "text": [
      "\n"
     ]
    }
   ],
   "source": [
    "# Criando o modelo\n",
    "\n",
    "# Selecionando features para treinamento\n",
    "X = treino.drop(['TARGET'], axis = 1)\n",
    "\n",
    "#X['Original_473_diff'] = X['Original_473'] - X['Original_269']\n",
    "#X['Original_269_diff'] = X['Original_269'] - X['Original_269'].shift(-1)\n",
    "#X['Zero_diff']         = X['Zero'] - X['Zero'].shift(-1)\n",
    "#X['Maca_Verde_diff']   = X['Maca_Verde'] - X['Maca_Verde'].shift(-1)\n",
    "#X['Tangerina_diff']    = X['Tangerina'] - X['Tangerina'].shift(-1)\n",
    "#X['Citrus_diff']       = X['Citrus']- X['Citrus'].shift(-1)\n",
    "#X['Acai_Guarana_diff'] = X['Acai_Guarana'] - X['Acai_Guarana'].shift(-1)\n",
    "#X['Pessego_diff']      = X['Pessego'] - X['Pessego'].shift(-1)\n",
    "\n",
    "# Selecionando feature target\n",
    "y = treino['TARGET']\n",
    "\n",
    "# Transformando target em tipo numerico\n",
    "y = y.astype(\"category\").cat.codes\n",
    "\n",
    "# Padronizando os dados (0 para a média, 1 para o desvio padrão)\n",
    "X = StandardScaler().fit_transform(X)\n",
    "\n",
    "# Split dos dados\n",
    "X_treino, X_teste, y_treino, y_teste = train_test_split(X, y, test_size = .2, random_state = SEED, stratify = y)\n",
    "\n",
    "# Treinamento do modelo\n",
    "result = bayes_cv_tuner.fit(X_treino, y_treino, callback=status_print)"
   ]
  },
  {
   "cell_type": "code",
   "execution_count": 43,
   "metadata": {},
   "outputs": [
    {
     "data": {
      "text/plain": [
       "{'colsample_bylevel': 0.8774005648079376,\n",
       " 'colsample_bytree': 1.0,\n",
       " 'gamma': 1e-09,\n",
       " 'learning_rate': 0.5902480198141736,\n",
       " 'max_delta_step': 18,\n",
       " 'max_depth': 26,\n",
       " 'min_child_weight': 3,\n",
       " 'n_estimators': 81,\n",
       " 'reg_alpha': 0.00018950180337046291,\n",
       " 'reg_lambda': 147.8846852660249,\n",
       " 'scale_pos_weight': 499.99999999999994,\n",
       " 'subsample': 0.29202555817784076}"
      ]
     },
     "execution_count": 43,
     "metadata": {},
     "output_type": "execute_result"
    }
   ],
   "source": [
    "result.best_params_"
   ]
  },
  {
   "cell_type": "code",
   "execution_count": 44,
   "metadata": {},
   "outputs": [
    {
     "name": "stdout",
     "output_type": "stream",
     "text": [
      "Acurácia: 79.05%\n",
      "Sensibilidade : 1.0\n",
      "Especificidade : 0.6904038211029092\n",
      "\n",
      "\n",
      "              precision    recall  f1-score   support\n",
      "\n",
      "           0       1.00      0.69      0.82      2303\n",
      "           1       0.61      1.00      0.76      1100\n",
      "\n",
      "    accuracy                           0.79      3403\n",
      "   macro avg       0.80      0.85      0.79      3403\n",
      "weighted avg       0.87      0.79      0.80      3403\n",
      "\n"
     ]
    },
    {
     "data": {
      "image/png": "[encoded data removed]",
      "text/plain": [
       "<Figure size 432x432 with 2 Axes>"
      ]
     },
     "metadata": {},
     "output_type": "display_data"
    }
   ],
   "source": [
    "# Criando o modelo com os melhores hyperparametros\n",
    "modelo_xgb_v5 = xgb.XGBClassifier(**result.best_params_)\n",
    "\n",
    "# Treinando o modelo\n",
    "modelo_xgb_v5.fit(X_treino, y_treino)\n",
    "\n",
    "# Fazendo previsões\n",
    "xgb_y_pred = modelo_xgb_v5.predict(X_teste)\n",
    "previsoes = [round(value) for value in xgb_y_pred]\n",
    "\n",
    "# Avaliando as previsões\n",
    "xgb_score_v5 = accuracy_score(y_teste, previsoes)\n",
    "print(\"Acurácia: %.2f%%\" % (xgb_score_v5 * 100.0))\n",
    "\n",
    "# Cria a matriz de confusão\n",
    "conf_matriz_xgb = confusion_matrix(y_teste, xgb_y_pred)\n",
    "    \n",
    "# Calcula especificidade e sensibilidade\n",
    "speci_xgb = conf_matriz_xgb[0,0] / (conf_matriz_xgb[0,0] + conf_matriz_xgb[0,1])\n",
    "sensi_xgb = conf_matriz_xgb[1,1] / (conf_matriz_xgb[1,0] + conf_matriz_xgb[1,1])\n",
    "\n",
    "# Print\n",
    "print('Sensibilidade :', sensi_xgb)\n",
    "print('Especificidade :', speci_xgb)\n",
    "print('\\n')\n",
    "\n",
    "# Matriz de Confusão gráfica\n",
    "sns.set(rc={'figure.figsize':(6, 6)})\n",
    "sns.heatmap(conf_matriz_xgb, \n",
    "            annot = True, \n",
    "            fmt = \".0f\", \n",
    "            linewidths = .5, \n",
    "            square = True, \n",
    "            cmap = 'RdBu_r')\n",
    "\n",
    "# Labels e Títulos\n",
    "plt.ylabel('Label Verdadeiro')\n",
    "plt.xlabel('Label Previsto')\n",
    "plt.title('Acurácia: {:.2f}'.format(xgb_score_v5), size = 15)\n",
    "\n",
    "# Relatório de Classificação\n",
    "print(classification_report(y_teste, xgb_y_pred))"
   ]
  },
  {
   "cell_type": "markdown",
   "metadata": {},
   "source": [
    "# Parte 05. Realizando novas previsões"
   ]
  },
  {
   "cell_type": "code",
   "execution_count": 20,
   "metadata": {},
   "outputs": [
    {
     "name": "stdout",
     "output_type": "stream",
     "text": [
      "Quantidade de registros e colunas:  (984, 13)\n"
     ]
    },
    {
     "data": {
      "text/html": [
       "<div>\n",
       "<style scoped>\n",
       "    .dataframe tbody tr th:only-of-type {\n",
       "        vertical-align: middle;\n",
       "    }\n",
       "\n",
       "    .dataframe tbody tr th {\n",
       "        vertical-align: top;\n",
       "    }\n",
       "\n",
       "    .dataframe thead th {\n",
       "        text-align: right;\n",
       "    }\n",
       "</style>\n",
       "<table border=\"1\" class=\"dataframe\">\n",
       "  <thead>\n",
       "    <tr style=\"text-align: right;\">\n",
       "      <th></th>\n",
       "      <th>Original_473</th>\n",
       "      <th>Original_269</th>\n",
       "      <th>Zero</th>\n",
       "      <th>Maçã-Verde</th>\n",
       "      <th>Tangerina</th>\n",
       "      <th>Citrus</th>\n",
       "      <th>Açaí-Guaraná</th>\n",
       "      <th>Pêssego</th>\n",
       "    </tr>\n",
       "  </thead>\n",
       "  <tbody>\n",
       "    <tr>\n",
       "      <th>0</th>\n",
       "      <td>22</td>\n",
       "      <td>65</td>\n",
       "      <td>22</td>\n",
       "      <td>14</td>\n",
       "      <td>3</td>\n",
       "      <td>26</td>\n",
       "      <td>43</td>\n",
       "      <td>18</td>\n",
       "    </tr>\n",
       "    <tr>\n",
       "      <th>1</th>\n",
       "      <td>11</td>\n",
       "      <td>56</td>\n",
       "      <td>16</td>\n",
       "      <td>14</td>\n",
       "      <td>43</td>\n",
       "      <td>20</td>\n",
       "      <td>37</td>\n",
       "      <td>15</td>\n",
       "    </tr>\n",
       "    <tr>\n",
       "      <th>2</th>\n",
       "      <td>86</td>\n",
       "      <td>51</td>\n",
       "      <td>8</td>\n",
       "      <td>11</td>\n",
       "      <td>41</td>\n",
       "      <td>20</td>\n",
       "      <td>35</td>\n",
       "      <td>12</td>\n",
       "    </tr>\n",
       "    <tr>\n",
       "      <th>3</th>\n",
       "      <td>76</td>\n",
       "      <td>47</td>\n",
       "      <td>65</td>\n",
       "      <td>11</td>\n",
       "      <td>37</td>\n",
       "      <td>14</td>\n",
       "      <td>32</td>\n",
       "      <td>10</td>\n",
       "    </tr>\n",
       "    <tr>\n",
       "      <th>4</th>\n",
       "      <td>68</td>\n",
       "      <td>42</td>\n",
       "      <td>60</td>\n",
       "      <td>6</td>\n",
       "      <td>35</td>\n",
       "      <td>13</td>\n",
       "      <td>26</td>\n",
       "      <td>5</td>\n",
       "    </tr>\n",
       "  </tbody>\n",
       "</table>\n",
       "</div>"
      ],
      "text/plain": [
       "   Original_473  Original_269  Zero  Maçã-Verde  Tangerina  Citrus  \\\n",
       "0            22            65    22          14          3      26   \n",
       "1            11            56    16          14         43      20   \n",
       "2            86            51     8          11         41      20   \n",
       "3            76            47    65          11         37      14   \n",
       "4            68            42    60           6         35      13   \n",
       "\n",
       "   Açaí-Guaraná  Pêssego  \n",
       "0            43       18  \n",
       "1            37       15  \n",
       "2            35       12  \n",
       "3            32       10  \n",
       "4            26        5  "
      ]
     },
     "execution_count": 20,
     "metadata": {},
     "output_type": "execute_result"
    }
   ],
   "source": [
    "# Carregando o dataset de testes \n",
    "teste  = pd.read_csv(r'to_be_scored.csv')\n",
    "print('Quantidade de registros e colunas: ',teste.shape)\n",
    "\n",
    "# Removendo colunas que não serão utilizadas no treinamento\n",
    "teste = teste.drop(['Tempo','Estação','Movimentação','LAT','LONG'], axis = 1)\n",
    "\n",
    "# Visualizando os primeiros registros\n",
    "teste.head()"
   ]
  },
  {
   "cell_type": "code",
   "execution_count": 21,
   "metadata": {},
   "outputs": [],
   "source": [
    "# Padronizando os dados (0 para a média, 1 para o desvio padrão)\n",
    "teste_scaler = StandardScaler().fit_transform(teste)\n",
    "\n",
    "# Realizando previsoes com dados de teste(usando modelo NAO BALANCEADO)\n",
    "y_pred_test = modelo_xgb_v5.predict(teste_scaler)\n"
   ]
  },
  {
   "cell_type": "code",
   "execution_count": 22,
   "metadata": {},
   "outputs": [
    {
     "data": {
      "text/html": [
       "<div>\n",
       "<style scoped>\n",
       "    .dataframe tbody tr th:only-of-type {\n",
       "        vertical-align: middle;\n",
       "    }\n",
       "\n",
       "    .dataframe tbody tr th {\n",
       "        vertical-align: top;\n",
       "    }\n",
       "\n",
       "    .dataframe thead th {\n",
       "        text-align: right;\n",
       "    }\n",
       "</style>\n",
       "<table border=\"1\" class=\"dataframe\">\n",
       "  <thead>\n",
       "    <tr style=\"text-align: right;\">\n",
       "      <th></th>\n",
       "      <th>Original_473</th>\n",
       "      <th>Original_269</th>\n",
       "      <th>Zero</th>\n",
       "      <th>Maçã-Verde</th>\n",
       "      <th>Tangerina</th>\n",
       "      <th>Citrus</th>\n",
       "      <th>Açaí-Guaraná</th>\n",
       "      <th>Pêssego</th>\n",
       "      <th>TARGET</th>\n",
       "    </tr>\n",
       "  </thead>\n",
       "  <tbody>\n",
       "    <tr>\n",
       "      <th>979</th>\n",
       "      <td>34</td>\n",
       "      <td>65</td>\n",
       "      <td>28</td>\n",
       "      <td>17</td>\n",
       "      <td>33</td>\n",
       "      <td>27</td>\n",
       "      <td>6</td>\n",
       "      <td>2</td>\n",
       "      <td>REABASTECER</td>\n",
       "    </tr>\n",
       "    <tr>\n",
       "      <th>980</th>\n",
       "      <td>21</td>\n",
       "      <td>60</td>\n",
       "      <td>18</td>\n",
       "      <td>15</td>\n",
       "      <td>27</td>\n",
       "      <td>22</td>\n",
       "      <td>43</td>\n",
       "      <td>43</td>\n",
       "      <td>NORMAL</td>\n",
       "    </tr>\n",
       "    <tr>\n",
       "      <th>981</th>\n",
       "      <td>9</td>\n",
       "      <td>56</td>\n",
       "      <td>13</td>\n",
       "      <td>14</td>\n",
       "      <td>21</td>\n",
       "      <td>17</td>\n",
       "      <td>37</td>\n",
       "      <td>37</td>\n",
       "      <td>REABASTECER</td>\n",
       "    </tr>\n",
       "    <tr>\n",
       "      <th>982</th>\n",
       "      <td>86</td>\n",
       "      <td>49</td>\n",
       "      <td>7</td>\n",
       "      <td>14</td>\n",
       "      <td>17</td>\n",
       "      <td>12</td>\n",
       "      <td>33</td>\n",
       "      <td>33</td>\n",
       "      <td>REABASTECER</td>\n",
       "    </tr>\n",
       "    <tr>\n",
       "      <th>983</th>\n",
       "      <td>74</td>\n",
       "      <td>41</td>\n",
       "      <td>65</td>\n",
       "      <td>8</td>\n",
       "      <td>14</td>\n",
       "      <td>7</td>\n",
       "      <td>27</td>\n",
       "      <td>27</td>\n",
       "      <td>NORMAL</td>\n",
       "    </tr>\n",
       "  </tbody>\n",
       "</table>\n",
       "</div>"
      ],
      "text/plain": [
       "     Original_473  Original_269  Zero  Maçã-Verde  Tangerina  Citrus  \\\n",
       "979            34            65    28          17         33      27   \n",
       "980            21            60    18          15         27      22   \n",
       "981             9            56    13          14         21      17   \n",
       "982            86            49     7          14         17      12   \n",
       "983            74            41    65           8         14       7   \n",
       "\n",
       "     Açaí-Guaraná  Pêssego       TARGET  \n",
       "979             6        2  REABASTECER  \n",
       "980            43       43       NORMAL  \n",
       "981            37       37  REABASTECER  \n",
       "982            33       33  REABASTECER  \n",
       "983            27       27       NORMAL  "
      ]
     },
     "execution_count": 22,
     "metadata": {},
     "output_type": "execute_result"
    }
   ],
   "source": [
    "# Salvando na coluna target\n",
    "teste['TARGET'] = y_pred_test\n",
    "teste['TARGET'] = np.where(teste['TARGET'] == 0, 'NORMAL', 'REABASTECER')\n",
    "\n",
    "# Visualizando os ultimos registros\n",
    "teste.tail()"
   ]
  },
  {
   "cell_type": "code",
   "execution_count": 23,
   "metadata": {},
   "outputs": [
    {
     "data": {
      "text/html": [
       "<div>\n",
       "<style scoped>\n",
       "    .dataframe tbody tr th:only-of-type {\n",
       "        vertical-align: middle;\n",
       "    }\n",
       "\n",
       "    .dataframe tbody tr th {\n",
       "        vertical-align: top;\n",
       "    }\n",
       "\n",
       "    .dataframe thead th {\n",
       "        text-align: right;\n",
       "    }\n",
       "</style>\n",
       "<table border=\"1\" class=\"dataframe\">\n",
       "  <thead>\n",
       "    <tr style=\"text-align: right;\">\n",
       "      <th></th>\n",
       "      <th>TARGET</th>\n",
       "      <th>%</th>\n",
       "    </tr>\n",
       "  </thead>\n",
       "  <tbody>\n",
       "    <tr>\n",
       "      <th>REABASTECER</th>\n",
       "      <td>532</td>\n",
       "      <td>54.065</td>\n",
       "    </tr>\n",
       "    <tr>\n",
       "      <th>NORMAL</th>\n",
       "      <td>452</td>\n",
       "      <td>45.935</td>\n",
       "    </tr>\n",
       "  </tbody>\n",
       "</table>\n",
       "</div>"
      ],
      "text/plain": [
       "             TARGET       %\n",
       "REABASTECER     532  54.065\n",
       "NORMAL          452  45.935"
      ]
     },
     "execution_count": 23,
     "metadata": {},
     "output_type": "execute_result"
    },
    {
     "data": {
      "image/png": "[encoded data removed]",
      "text/plain": [
       "<Figure size 432x432 with 1 Axes>"
      ]
     },
     "metadata": {},
     "output_type": "display_data"
    }
   ],
   "source": [
    "# Visualizando a distribuição das classes (variavel TARGET)\n",
    "pd.value_counts(teste['TARGET']).plot.bar()\n",
    "plt.title('TARGET histogram')\n",
    "plt.xlabel('TARGET')\n",
    "plt.ylabel('Frequency')\n",
    "\n",
    "# Visualizando um df com quantidade e percentual da variavel TARGET\n",
    "tmp = pd.DataFrame(teste['TARGET'].value_counts())\n",
    "tmp['%'] = round(100*tmp['TARGET']/tmp['TARGET'].sum(),3)\n",
    "tmp"
   ]
  },
  {
   "cell_type": "code",
   "execution_count": 24,
   "metadata": {},
   "outputs": [],
   "source": [
    "# Gravando resultado em csv\n",
    "teste.to_csv('results_xgb.csv',index=False)"
   ]
  }
 ],
 "metadata": {
  "kernelspec": {
   "display_name": "Python 3",
   "language": "python",
   "name": "python3"
  },
  "language_info": {
   "codemirror_mode": {
    "name": "ipython",
    "version": 3
   },
   "file_extension": ".py",
   "mimetype": "text/x-python",
   "name": "python",
   "nbconvert_exporter": "python",
   "pygments_lexer": "ipython3",
   "version": "3.7.8"
  }
 },
 "nbformat": 4,
 "nbformat_minor": 1
}
