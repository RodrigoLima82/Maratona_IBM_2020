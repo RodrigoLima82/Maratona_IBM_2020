{
 "cells": [
  {
   "cell_type": "code",
   "execution_count": null,
   "metadata": {},
   "outputs": [],
   "source": [
    "#!pip install cloudant"
   ]
  },
  {
   "cell_type": "code",
   "execution_count": null,
   "metadata": {},
   "outputs": [],
   "source": [
    "#!pip install h2o"
   ]
  },
  {
   "cell_type": "code",
   "execution_count": null,
   "metadata": {},
   "outputs": [],
   "source": [
    "#!pip install scikit-learn --upgrade"
   ]
  },
  {
   "cell_type": "code",
   "execution_count": null,
   "metadata": {},
   "outputs": [],
   "source": [
    "#!pip install lightgbm --upgrade"
   ]
  },
  {
   "cell_type": "code",
   "execution_count": null,
   "metadata": {},
   "outputs": [],
   "source": [
    "#!pip install xgboost --upgrade"
   ]
  },
  {
   "cell_type": "code",
   "execution_count": null,
   "metadata": {},
   "outputs": [],
   "source": [
    "#!pip install imblearn --upgrade"
   ]
  },
  {
   "cell_type": "code",
   "execution_count": null,
   "metadata": {},
   "outputs": [],
   "source": [
    "#!pip install holidays"
   ]
  },
  {
   "cell_type": "code",
   "execution_count": 1,
   "metadata": {},
   "outputs": [],
   "source": [
    "# Import de bibliotecas\n",
    "\n",
    "import pandas as pd\n",
    "import numpy as np\n",
    "import matplotlib.pyplot as plt\n",
    "%matplotlib inline\n",
    "\n",
    "from datetime import date\n",
    "from datetime import timedelta\n",
    "import holidays\n",
    "\n",
    "from sklearn.impute import SimpleImputer\n",
    "from cloudant import Cloudant\n",
    "\n",
    "from sklearn.model_selection import train_test_split\n",
    "\n",
    "# Import dos módulos\n",
    "from sklearn.model_selection import KFold\n",
    "from sklearn.model_selection import cross_val_score\n",
    "from sklearn.linear_model import LogisticRegression\n",
    "from sklearn.ensemble import RandomForestClassifier\n",
    "from sklearn.tree import DecisionTreeClassifier\n",
    "from sklearn.neighbors import KNeighborsClassifier\n",
    "from sklearn.discriminant_analysis import LinearDiscriminantAnalysis\n",
    "from sklearn.naive_bayes import GaussianNB\n",
    "from sklearn.svm import SVC\n",
    "from sklearn.ensemble import GradientBoostingClassifier\n",
    "from xgboost import XGBClassifier\n",
    "from lightgbm import LGBMClassifier\n",
    "import lightgbm as lgbm\n",
    "\n",
    "from sklearn.preprocessing import StandardScaler\n",
    "from sklearn.preprocessing import MinMaxScaler\n",
    "\n",
    "from sklearn.metrics import accuracy_score, precision_score, recall_score\n",
    "from sklearn.metrics import classification_report, confusion_matrix, f1_score\n",
    "\n",
    "import warnings\n",
    "warnings.filterwarnings(\"ignore\")"
   ]
  },
  {
   "cell_type": "code",
   "execution_count": 2,
   "metadata": {},
   "outputs": [],
   "source": [
    "# Verificando se existem registros duplicados no dataset\n",
    "def verify_dup_rows(data):\n",
    "    \n",
    "    print(\"Linhas do dataset até o momento:\")\n",
    "    print(data.shape)\n",
    "\n",
    "    # Obtendo somente linhas duplicadas\n",
    "    tmp = data[data.duplicated()]\n",
    "\n",
    "    print(\"\\nLinhas duplicadas até o momento:\")\n",
    "    print(tmp.shape)\n",
    "    \n",
    "    del tmp\n",
    "    \n",
    "    \n",
    "# Funcao para verificar valores missing no dataset\n",
    "def check_missing(df, display = 10):\n",
    "    temp_df = df.copy()\n",
    "    df_nan = (temp_df.isnull().sum() / len(temp_df)) * 100\n",
    "    missing_data = pd.DataFrame({'Missing n': temp_df.isnull().sum(),'% Missing' :df_nan})\n",
    "    if missing_data['Missing n'].sum() == 0:\n",
    "        return print('\\nÓtimo! Não há mais valores faltantes neste dataset.')\n",
    "    else:\n",
    "        return missing_data.sort_values('% Missing', ascending = False).head(display)\n",
    "\n",
    "# Funcao para preencher os dados missing de algumas colunas\n",
    "def preenche_missing(df):\n",
    "    \n",
    "    df.dropna(axis='index', how='any', subset=['Tempo', 'Estação', 'LAT', 'LONG', \n",
    "                                               'Movimentação', 'Original_473', \n",
    "                                               'Original_269', 'Zero', 'Maçã-Verde', \n",
    "                                               'Tangerina', 'Citrus', 'Açaí-Guaraná', \n",
    "                                               'Pêssego'])\n",
    "\n",
    "    # coloca constante 0 em outras colunas com dados missing\n",
    "    impute_zeros = SimpleImputer(\n",
    "                                    missing_values=np.nan,\n",
    "                                    strategy='constant',\n",
    "                                    fill_value=0,\n",
    "                                    verbose=0,\n",
    "                                    copy=True\n",
    "                                )\n",
    "    \n",
    "    impute_zeros.fit(X=df)\n",
    "\n",
    "    # Reconstruindo um Pandas DataFrame com os resultados\n",
    "    data = pd.DataFrame.from_records(\n",
    "            data = impute_zeros.transform(\n",
    "            X    = df\n",
    "        ),\n",
    "        columns=df.columns\n",
    "    )    \n",
    "    \n",
    "    # Converte colunas para numerico\n",
    "    data = data.apply(pd.to_numeric, errors='ignore')\n",
    "\n",
    "    return data\n",
    "\n",
    "# Funcao para trabalhar as features\n",
    "def feature_engineering(df, treino=True):\n",
    "\n",
    "    if treino:\n",
    "        \n",
    "        # Transformando a coluna data\n",
    "        df['Tempo'] = pd.to_datetime(df['Tempo'], errors='coerce')\n",
    "\n",
    "        # Removendo colunas unicas\n",
    "        df = df.drop(['_id', '_rev', 'row'], axis = 1)\n",
    "\n",
    "        # Verificar os registros duplicados\n",
    "        verify_dup_rows(df)\n",
    "\n",
    "        # Removendo colunas unicas\n",
    "        df = df.drop(['Tempo','Estação','Movimentação','LAT','LONG'], axis = 1)\n",
    "\n",
    "        # Removendo registros duplicados\n",
    "        df = df.drop_duplicates().reset_index(drop=True)\n",
    "\n",
    "        # Renomeando colunas apenas para funcionar alguns algoritmos\n",
    "        df = df.rename(columns={\"Maçã-Verde\": \"Maca_Verde\", \"Açaí-Guaraná\":\"Acai_Guarana\", \"Pêssego\":\"Pessego\"})        \n",
    "    \n",
    "    else:\n",
    "        # Corrige dados incorretos\n",
    "        df.loc[df.index == 89, 'Tempo'] = \"2019-02-28 01:00:00\"\n",
    "        df.loc[df.index == 90, 'Tempo'] = \"2019-02-28 02:00:00\"\n",
    "\n",
    "        df.loc[df.index == 449, 'Tempo'] = \"2018-02-28 01:00:00\"\n",
    "        df.loc[df.index == 450, 'Tempo'] = \"2018-02-28 02:00:00\"\n",
    "\n",
    "        df.loc[df.index == 809, 'Tempo'] = \"2019-02-28 01:00:00\"\n",
    "        df.loc[df.index == 810, 'Tempo'] = \"2019-02-28 02:00:00\"\n",
    "        \n",
    "        # Transformando a coluna data\n",
    "        df['Tempo'] = pd.to_datetime(df['Tempo'], errors='coerce')\n",
    "        \n",
    "        # Removendo colunas unicas\n",
    "        df = df.drop(['Tempo','Estação','Movimentação','LAT','LONG'], axis = 1)\n",
    "\n",
    "        # Renomeando colunas apenas para funcionar alguns algoritmos\n",
    "        df = df.rename(columns={\"Maçã-Verde\": \"Maca_Verde\", \"Açaí-Guaraná\":\"Acai_Guarana\", \"Pêssego\":\"Pessego\"})        \n",
    "\n",
    "    return df\n",
    "\n",
    "# Funcao para transformar features categoricas em numericas\n",
    "def fe_cat_num(df):\n",
    "\n",
    "    # Tratando variáveis categóricas com o método Pandas ``get_dummies()''\n",
    "    df = pd.get_dummies(df, columns=['Estação'])\n",
    "\n",
    "    return df    "
   ]
  },
  {
   "cell_type": "code",
   "execution_count": 3,
   "metadata": {},
   "outputs": [
    {
     "name": "stdout",
     "output_type": "stream",
     "text": [
      "Linhas do dataset até o momento:\n",
      "(91928, 14)\n",
      "\n",
      "Linhas duplicadas até o momento:\n",
      "(74952, 14)\n",
      "\n",
      "Ótimo! Não há mais valores faltantes neste dataset.\n",
      "\n",
      "Linhas unicas até o momento:\n",
      "(16953, 9)\n"
     ]
    }
   ],
   "source": [
    "# Criando um dataframe a partir da lista de dados vindo do IoT e gravados no NoSQL\n",
    "train = pd.read_csv(r'desafio_7_treino.csv')\n",
    "\n",
    "# Feature Engineering\n",
    "treino = preenche_missing(train)    \n",
    "treino = feature_engineering(treino, True) \n",
    "\n",
    "# Verificando as colunas com dados missing do dataset\n",
    "check_missing(treino, display = 15)\n",
    "\n",
    "print('\\nLinhas unicas até o momento:')\n",
    "print(treino.shape)"
   ]
  },
  {
   "cell_type": "code",
   "execution_count": 4,
   "metadata": {
    "scrolled": true
   },
   "outputs": [
    {
     "name": "stdout",
     "output_type": "stream",
     "text": [
      "<class 'pandas.core.frame.DataFrame'>\n",
      "RangeIndex: 16953 entries, 0 to 16952\n",
      "Data columns (total 9 columns):\n",
      "Original_473    16953 non-null int64\n",
      "Original_269    16953 non-null int64\n",
      "Zero            16953 non-null int64\n",
      "Maca_Verde      16953 non-null int64\n",
      "Tangerina       16953 non-null int64\n",
      "Citrus          16953 non-null int64\n",
      "Acai_Guarana    16953 non-null int64\n",
      "Pessego         16953 non-null int64\n",
      "TARGET          16953 non-null object\n",
      "dtypes: int64(8), object(1)\n",
      "memory usage: 1.2+ MB\n"
     ]
    }
   ],
   "source": [
    "treino.info()"
   ]
  },
  {
   "cell_type": "code",
   "execution_count": 5,
   "metadata": {},
   "outputs": [
    {
     "data": {
      "text/html": [
       "<div>\n",
       "<style scoped>\n",
       "    .dataframe tbody tr th:only-of-type {\n",
       "        vertical-align: middle;\n",
       "    }\n",
       "\n",
       "    .dataframe tbody tr th {\n",
       "        vertical-align: top;\n",
       "    }\n",
       "\n",
       "    .dataframe thead th {\n",
       "        text-align: right;\n",
       "    }\n",
       "</style>\n",
       "<table border=\"1\" class=\"dataframe\">\n",
       "  <thead>\n",
       "    <tr style=\"text-align: right;\">\n",
       "      <th></th>\n",
       "      <th>TARGET</th>\n",
       "      <th>%</th>\n",
       "    </tr>\n",
       "  </thead>\n",
       "  <tbody>\n",
       "    <tr>\n",
       "      <th>NORMAL</th>\n",
       "      <td>11467</td>\n",
       "      <td>67.64</td>\n",
       "    </tr>\n",
       "    <tr>\n",
       "      <th>REABASTECER</th>\n",
       "      <td>5486</td>\n",
       "      <td>32.36</td>\n",
       "    </tr>\n",
       "  </tbody>\n",
       "</table>\n",
       "</div>"
      ],
      "text/plain": [
       "             TARGET      %\n",
       "NORMAL        11467  67.64\n",
       "REABASTECER    5486  32.36"
      ]
     },
     "execution_count": 5,
     "metadata": {},
     "output_type": "execute_result"
    },
    {
     "data": {
      "image/png": "[encoded data removed]",
      "text/plain": [
       "<Figure size 432x288 with 1 Axes>"
      ]
     },
     "metadata": {
      "needs_background": "light"
     },
     "output_type": "display_data"
    }
   ],
   "source": [
    "# Visualizando a distribuição das classes (variavel TARGET)\n",
    "pd.value_counts(treino['TARGET']).plot.bar()\n",
    "plt.title('TARGET histogram')\n",
    "plt.xlabel('TARGET')\n",
    "plt.ylabel('Frequency')\n",
    "\n",
    "# Visualizando um df com quantidade e percentual da variavel TARGET\n",
    "tmp = pd.DataFrame(treino['TARGET'].value_counts())\n",
    "tmp['%'] = round(100*tmp['TARGET']/tmp['TARGET'].sum(),3)\n",
    "tmp"
   ]
  },
  {
   "cell_type": "code",
   "execution_count": 6,
   "metadata": {},
   "outputs": [],
   "source": [
    "# Selecionando feature target\n",
    "y = treino['TARGET']\n",
    "\n",
    "# Selecionando features para treinamento\n",
    "X = treino.drop(['TARGET'], axis = 1)"
   ]
  },
  {
   "cell_type": "markdown",
   "metadata": {},
   "source": [
    "# MODELAGEM SEM SMOTE"
   ]
  },
  {
   "cell_type": "code",
   "execution_count": null,
   "metadata": {},
   "outputs": [],
   "source": [
    "TESTE_SIZE  = 0.2\n",
    "RANDOM_SEED = 133"
   ]
  },
  {
   "cell_type": "code",
   "execution_count": 7,
   "metadata": {},
   "outputs": [],
   "source": [
    "# Split dos dados em treino e validacao\n",
    "X_train, X_valid, y_train, y_valid = train_test_split(X, y, test_size=TESTE_SIZE, random_state=RANDOM_SEED)"
   ]
  },
  {
   "cell_type": "code",
   "execution_count": 8,
   "metadata": {},
   "outputs": [
    {
     "name": "stdout",
     "output_type": "stream",
     "text": [
      "              precision    recall  f1-score   support\n",
      "\n",
      "      NORMAL       0.82      0.79      0.81      2298\n",
      " REABASTECER       0.59      0.63      0.61      1093\n",
      "\n",
      "    accuracy                           0.74      3391\n",
      "   macro avg       0.70      0.71      0.71      3391\n",
      "weighted avg       0.74      0.74      0.74      3391\n",
      "\n",
      "F1_macro   :  0.7068230741180761\n",
      "F1_micro   :  0.7398997345915659\n",
      "F1_weighted:  0.7418163804135591\n",
      "F1_none    :  [0.80529801 0.60834813]\n"
     ]
    }
   ],
   "source": [
    "# Treinamento com DecisionTreeClassifier\n",
    "model_dtc = DecisionTreeClassifier().fit(X_train, y_train)\n",
    "\n",
    "# Validacao do modelo\n",
    "y_pred_val = model_dtc.predict(X_valid)\n",
    "\n",
    "# Salvando o score\n",
    "dtc_score = f1_score(y_valid, y_pred_val, average='weighted')\n",
    "\n",
    "# Matriz de Classificacao\n",
    "print(classification_report(y_valid, y_pred_val))\n",
    "\n",
    "# Avaliacao da metrica F1\n",
    "print('F1_macro   : ', f1_score(y_valid, y_pred_val, average='macro'))\n",
    "print('F1_micro   : ', f1_score(y_valid, y_pred_val, average='micro'))\n",
    "print('F1_weighted: ', f1_score(y_valid, y_pred_val, average='weighted'))\n",
    "print('F1_none    : ', f1_score(y_valid, y_pred_val, average=None))"
   ]
  },
  {
   "cell_type": "code",
   "execution_count": 9,
   "metadata": {},
   "outputs": [
    {
     "name": "stdout",
     "output_type": "stream",
     "text": [
      "              precision    recall  f1-score   support\n",
      "\n",
      "      NORMAL       0.77      0.86      0.81      2298\n",
      " REABASTECER       0.60      0.45      0.52      1093\n",
      "\n",
      "    accuracy                           0.73      3391\n",
      "   macro avg       0.69      0.66      0.66      3391\n",
      "weighted avg       0.71      0.73      0.72      3391\n",
      "\n",
      "F1_macro   :  0.6644430735256112\n",
      "F1_micro   :  0.7281038041875553\n",
      "F1_weighted:  0.7163802302267911\n",
      "F1_none    :  [0.81059984 0.51828631]\n"
     ]
    }
   ],
   "source": [
    "# Treinamento com GradientBoosting\n",
    "model_gbc = GradientBoostingClassifier().fit(X_train, y_train)\n",
    "\n",
    "# Validacao do modelo\n",
    "y_pred_val = model_gbc.predict(X_valid)\n",
    "\n",
    "# Salvando o score\n",
    "gbc_score = f1_score(y_valid, y_pred_val, average='weighted')\n",
    "\n",
    "# Matriz de Classificacao\n",
    "print(classification_report(y_valid, y_pred_val))\n",
    "\n",
    "# Avaliacao da metrica F1\n",
    "print('F1_macro   : ', f1_score(y_valid, y_pred_val, average='macro'))\n",
    "print('F1_micro   : ', f1_score(y_valid, y_pred_val, average='micro'))\n",
    "print('F1_weighted: ', f1_score(y_valid, y_pred_val, average='weighted'))\n",
    "print('F1_none    : ', f1_score(y_valid, y_pred_val, average=None))"
   ]
  },
  {
   "cell_type": "code",
   "execution_count": 10,
   "metadata": {},
   "outputs": [
    {
     "name": "stdout",
     "output_type": "stream",
     "text": [
      "              precision    recall  f1-score   support\n",
      "\n",
      "      NORMAL       0.88      0.73      0.80      2298\n",
      " REABASTECER       0.58      0.79      0.67      1093\n",
      "\n",
      "    accuracy                           0.75      3391\n",
      "   macro avg       0.73      0.76      0.74      3391\n",
      "weighted avg       0.78      0.75      0.76      3391\n",
      "\n",
      "F1_macro   :  0.7356878202310282\n",
      "F1_micro   :  0.751105868475376\n",
      "F1_weighted:  0.7583724943878526\n",
      "F1_none    :  [0.79952494 0.6718507 ]\n"
     ]
    }
   ],
   "source": [
    "# Treinamento com RandomForestClassifier\n",
    "model_rfc = RandomForestClassifier().fit(X_train, y_train)\n",
    "\n",
    "# Validacao do modelo\n",
    "y_pred_val = model_rfc.predict(X_valid)\n",
    "\n",
    "# Salvando o score\n",
    "rfc_score = f1_score(y_valid, y_pred_val, average='weighted')\n",
    "\n",
    "# Matriz de Classificacao\n",
    "print(classification_report(y_valid, y_pred_val))\n",
    "\n",
    "# Avaliacao da metrica F1\n",
    "print('F1_macro   : ', f1_score(y_valid, y_pred_val, average='macro'))\n",
    "print('F1_micro   : ', f1_score(y_valid, y_pred_val, average='micro'))\n",
    "print('F1_weighted: ', f1_score(y_valid, y_pred_val, average='weighted'))\n",
    "print('F1_none    : ', f1_score(y_valid, y_pred_val, average=None))"
   ]
  },
  {
   "cell_type": "code",
   "execution_count": 11,
   "metadata": {},
   "outputs": [
    {
     "name": "stdout",
     "output_type": "stream",
     "text": [
      "              precision    recall  f1-score   support\n",
      "\n",
      "      NORMAL       0.84      0.77      0.80      2298\n",
      " REABASTECER       0.59      0.70      0.64      1093\n",
      "\n",
      "    accuracy                           0.75      3391\n",
      "   macro avg       0.72      0.73      0.72      3391\n",
      "weighted avg       0.76      0.75      0.75      3391\n",
      "\n",
      "F1_macro   :  0.7214741980600302\n",
      "F1_micro   :  0.7455028015334709\n",
      "F1_weighted:  0.7505449482462712\n",
      "F1_none    :  [0.80328243 0.63966597]\n"
     ]
    }
   ],
   "source": [
    "# Treinamento com XGBClassifier\n",
    "model_xgb = XGBClassifier().fit(X_train, y_train)\n",
    "\n",
    "# Validacao do modelo\n",
    "y_pred_val = model_xgb.predict(X_valid)\n",
    "\n",
    "# Salvando o score\n",
    "xgb_score = f1_score(y_valid, y_pred_val, average='weighted')\n",
    "\n",
    "# Matriz de Classificacao\n",
    "print(classification_report(y_valid, y_pred_val))\n",
    "\n",
    "# Avaliacao da metrica F1\n",
    "print('F1_macro   : ', f1_score(y_valid, y_pred_val, average='macro'))\n",
    "print('F1_micro   : ', f1_score(y_valid, y_pred_val, average='micro'))\n",
    "print('F1_weighted: ', f1_score(y_valid, y_pred_val, average='weighted'))\n",
    "print('F1_none    : ', f1_score(y_valid, y_pred_val, average=None))"
   ]
  },
  {
   "cell_type": "code",
   "execution_count": 12,
   "metadata": {},
   "outputs": [
    {
     "name": "stdout",
     "output_type": "stream",
     "text": [
      "              precision    recall  f1-score   support\n",
      "\n",
      "      NORMAL       0.90      0.72      0.80      2298\n",
      " REABASTECER       0.58      0.84      0.69      1093\n",
      "\n",
      "    accuracy                           0.76      3391\n",
      "   macro avg       0.74      0.78      0.74      3391\n",
      "weighted avg       0.80      0.76      0.76      3391\n",
      "\n",
      "F1_macro   :  0.7432371137331147\n",
      "F1_micro   :  0.7552344441167798\n",
      "F1_weighted:  0.7629598737772025\n",
      "F1_none    :  [0.79873909 0.68773514]\n"
     ]
    }
   ],
   "source": [
    "# Treinamento com LGBMClassifier\n",
    "model_lgb = LGBMClassifier().fit(X_train, y_train)\n",
    "\n",
    "# Validacao do modelo\n",
    "y_pred_val = model_lgb.predict(X_valid)\n",
    "\n",
    "# Salvando o score\n",
    "lgb_score = f1_score(y_valid, y_pred_val, average='weighted')\n",
    "\n",
    "# Matriz de Classificacao\n",
    "print(classification_report(y_valid, y_pred_val))\n",
    "\n",
    "# Avaliacao da metrica F1\n",
    "print('F1_macro   : ', f1_score(y_valid, y_pred_val, average='macro'))\n",
    "print('F1_micro   : ', f1_score(y_valid, y_pred_val, average='micro'))\n",
    "print('F1_weighted: ', f1_score(y_valid, y_pred_val, average='weighted'))\n",
    "print('F1_none    : ', f1_score(y_valid, y_pred_val, average=None))"
   ]
  },
  {
   "cell_type": "code",
   "execution_count": 13,
   "metadata": {},
   "outputs": [
    {
     "data": {
      "text/html": [
       "<div>\n",
       "<style scoped>\n",
       "    .dataframe tbody tr th:only-of-type {\n",
       "        vertical-align: middle;\n",
       "    }\n",
       "\n",
       "    .dataframe tbody tr th {\n",
       "        vertical-align: top;\n",
       "    }\n",
       "\n",
       "    .dataframe thead th {\n",
       "        text-align: right;\n",
       "    }\n",
       "</style>\n",
       "<table border=\"1\" class=\"dataframe\">\n",
       "  <thead>\n",
       "    <tr style=\"text-align: right;\">\n",
       "      <th></th>\n",
       "      <th>Accuracy</th>\n",
       "    </tr>\n",
       "  </thead>\n",
       "  <tbody>\n",
       "    <tr>\n",
       "      <th>GBC</th>\n",
       "      <td>0.716380</td>\n",
       "    </tr>\n",
       "    <tr>\n",
       "      <th>DTC</th>\n",
       "      <td>0.741816</td>\n",
       "    </tr>\n",
       "    <tr>\n",
       "      <th>RFC</th>\n",
       "      <td>0.758372</td>\n",
       "    </tr>\n",
       "    <tr>\n",
       "      <th>XGB</th>\n",
       "      <td>0.750545</td>\n",
       "    </tr>\n",
       "    <tr>\n",
       "      <th>LGB</th>\n",
       "      <td>0.762960</td>\n",
       "    </tr>\n",
       "  </tbody>\n",
       "</table>\n",
       "</div>"
      ],
      "text/plain": [
       "     Accuracy\n",
       "GBC  0.716380\n",
       "DTC  0.741816\n",
       "RFC  0.758372\n",
       "XGB  0.750545\n",
       "LGB  0.762960"
      ]
     },
     "execution_count": 13,
     "metadata": {},
     "output_type": "execute_result"
    }
   ],
   "source": [
    "# Prepara a lista de resultados\n",
    "metricas = [(gbc_score),(dtc_score),(rfc_score),(xgb_score),(lgb_score)]\n",
    "\n",
    "# Cria o dataframe\n",
    "df_metricas = pd.DataFrame(metricas, \n",
    "                           columns = ['Accuracy'], \n",
    "                           index = ['GBC', 'DTC', 'RFC', 'XGB', 'LGB']) \n",
    "\n",
    "# Visualiza o resultado\n",
    "df_metricas"
   ]
  },
  {
   "cell_type": "markdown",
   "metadata": {},
   "source": [
    "# MODELAGEM COM SMOTE"
   ]
  },
  {
   "cell_type": "code",
   "execution_count": 14,
   "metadata": {},
   "outputs": [
    {
     "name": "stderr",
     "output_type": "stream",
     "text": [
      "Using TensorFlow backend.\n"
     ]
    }
   ],
   "source": [
    "# Import dos módulos\n",
    "from imblearn.over_sampling import SMOTE\n",
    "\n",
    "# Aplicando a funcao SMOTE\n",
    "sm = SMOTE(random_state=RANDOM_SEED)\n",
    "_X, _y = sm.fit_sample(X, y)"
   ]
  },
  {
   "cell_type": "code",
   "execution_count": 15,
   "metadata": {},
   "outputs": [],
   "source": [
    "# Split dos dados em treino e validacao\n",
    "X_train, X_valid, y_train, y_valid = train_test_split(_X, _y, test_size=TESTE_SIZE, random_state=RANDOM_SEED)"
   ]
  },
  {
   "cell_type": "code",
   "execution_count": 16,
   "metadata": {},
   "outputs": [
    {
     "name": "stdout",
     "output_type": "stream",
     "text": [
      "              precision    recall  f1-score   support\n",
      "\n",
      "      NORMAL       0.80      0.77      0.79      2339\n",
      " REABASTECER       0.77      0.80      0.79      2248\n",
      "\n",
      "    accuracy                           0.79      4587\n",
      "   macro avg       0.79      0.79      0.79      4587\n",
      "weighted avg       0.79      0.79      0.79      4587\n",
      "\n",
      "F1_macro   :  0.7887507773674329\n",
      "F1_micro   :  0.788750817527796\n",
      "F1_weighted:  0.7887526046639531\n",
      "F1_none    :  [0.78884289 0.78865867]\n"
     ]
    }
   ],
   "source": [
    "# Treinamento com DecisionTreeClassifier\n",
    "model_dtc = DecisionTreeClassifier().fit(X_train, y_train)\n",
    "\n",
    "# Validacao do modelo\n",
    "y_pred_val = model_dtc.predict(X_valid)\n",
    "\n",
    "# Salvando o score\n",
    "dtc_score = f1_score(y_valid, y_pred_val, average='weighted')\n",
    "\n",
    "# Matriz de Classificacao\n",
    "print(classification_report(y_valid, y_pred_val))\n",
    "\n",
    "# Avaliacao da metrica F1\n",
    "print('F1_macro   : ', f1_score(y_valid, y_pred_val, average='macro'))\n",
    "print('F1_micro   : ', f1_score(y_valid, y_pred_val, average='micro'))\n",
    "print('F1_weighted: ', f1_score(y_valid, y_pred_val, average='weighted'))\n",
    "print('F1_none    : ', f1_score(y_valid, y_pred_val, average=None))"
   ]
  },
  {
   "cell_type": "code",
   "execution_count": 17,
   "metadata": {},
   "outputs": [
    {
     "name": "stdout",
     "output_type": "stream",
     "text": [
      "              precision    recall  f1-score   support\n",
      "\n",
      "      NORMAL       0.97      0.69      0.80      2339\n",
      " REABASTECER       0.75      0.97      0.85      2248\n",
      "\n",
      "    accuracy                           0.83      4587\n",
      "   macro avg       0.86      0.83      0.82      4587\n",
      "weighted avg       0.86      0.83      0.82      4587\n",
      "\n",
      "F1_macro   :  0.8247148616491606\n",
      "F1_micro   :  0.8275561369086549\n",
      "F1_weighted:  0.8242721286892052\n",
      "F1_none    :  [0.8023982  0.84703152]\n"
     ]
    }
   ],
   "source": [
    "# Treinamento com GradientBoosting\n",
    "model_gbc = GradientBoostingClassifier().fit(X_train, y_train)\n",
    "\n",
    "# Validacao do modelo\n",
    "y_pred_val = model_gbc.predict(X_valid)\n",
    "\n",
    "# Salvando o score\n",
    "gbc_score = f1_score(y_valid, y_pred_val, average='weighted')\n",
    "\n",
    "# Matriz de Classificacao\n",
    "print(classification_report(y_valid, y_pred_val))\n",
    "\n",
    "# Avaliacao da metrica F1\n",
    "print('F1_macro   : ', f1_score(y_valid, y_pred_val, average='macro'))\n",
    "print('F1_micro   : ', f1_score(y_valid, y_pred_val, average='micro'))\n",
    "print('F1_weighted: ', f1_score(y_valid, y_pred_val, average='weighted'))\n",
    "print('F1_none    : ', f1_score(y_valid, y_pred_val, average=None))"
   ]
  },
  {
   "cell_type": "code",
   "execution_count": 18,
   "metadata": {},
   "outputs": [
    {
     "name": "stdout",
     "output_type": "stream",
     "text": [
      "              precision    recall  f1-score   support\n",
      "\n",
      "      NORMAL       0.96      0.70      0.81      2339\n",
      " REABASTECER       0.76      0.97      0.85      2248\n",
      "\n",
      "    accuracy                           0.83      4587\n",
      "   macro avg       0.86      0.84      0.83      4587\n",
      "weighted avg       0.86      0.83      0.83      4587\n",
      "\n",
      "F1_macro   :  0.8315349494849789\n",
      "F1_micro   :  0.8338783518639634\n",
      "F1_weighted:  0.831140772744706\n",
      "F1_none    :  [0.81166584 0.85140406]\n"
     ]
    }
   ],
   "source": [
    "# Treinamento com RandomForestClassifier\n",
    "model_rfc = RandomForestClassifier().fit(X_train, y_train)\n",
    "\n",
    "# Validacao do modelo\n",
    "y_pred_val = model_rfc.predict(X_valid)\n",
    "\n",
    "# Salvando o score\n",
    "rfc_score = f1_score(y_valid, y_pred_val, average='weighted')\n",
    "\n",
    "# Matriz de Classificacao\n",
    "print(classification_report(y_valid, y_pred_val))\n",
    "\n",
    "# Avaliacao da metrica F1\n",
    "print('F1_macro   : ', f1_score(y_valid, y_pred_val, average='macro'))\n",
    "print('F1_micro   : ', f1_score(y_valid, y_pred_val, average='micro'))\n",
    "print('F1_weighted: ', f1_score(y_valid, y_pred_val, average='weighted'))\n",
    "print('F1_none    : ', f1_score(y_valid, y_pred_val, average=None))"
   ]
  },
  {
   "cell_type": "code",
   "execution_count": 19,
   "metadata": {},
   "outputs": [
    {
     "name": "stdout",
     "output_type": "stream",
     "text": [
      "              precision    recall  f1-score   support\n",
      "\n",
      "      NORMAL       0.90      0.73      0.81      2339\n",
      " REABASTECER       0.77      0.91      0.83      2248\n",
      "\n",
      "    accuracy                           0.82      4587\n",
      "   macro avg       0.83      0.82      0.82      4587\n",
      "weighted avg       0.83      0.82      0.82      4587\n",
      "\n",
      "F1_macro   :  0.8200153845381807\n",
      "F1_micro   :  0.8210159145410943\n",
      "F1_weighted:  0.8197491616426685\n",
      "F1_none    :  [0.806596   0.83343477]\n"
     ]
    }
   ],
   "source": [
    "# Treinamento com XGBClassifier\n",
    "model_xgb = XGBClassifier().fit(X_train, y_train)\n",
    "\n",
    "# Validacao do modelo\n",
    "y_pred_val = model_xgb.predict(X_valid)\n",
    "\n",
    "# Salvando o score\n",
    "xgb_score = f1_score(y_valid, y_pred_val, average='weighted')\n",
    "\n",
    "# Matriz de Classificacao\n",
    "print(classification_report(y_valid, y_pred_val))\n",
    "\n",
    "# Avaliacao da metrica F1\n",
    "print('F1_macro   : ', f1_score(y_valid, y_pred_val, average='macro'))\n",
    "print('F1_micro   : ', f1_score(y_valid, y_pred_val, average='micro'))\n",
    "print('F1_weighted: ', f1_score(y_valid, y_pred_val, average='weighted'))\n",
    "print('F1_none    : ', f1_score(y_valid, y_pred_val, average=None))"
   ]
  },
  {
   "cell_type": "code",
   "execution_count": 20,
   "metadata": {},
   "outputs": [
    {
     "name": "stdout",
     "output_type": "stream",
     "text": [
      "              precision    recall  f1-score   support\n",
      "\n",
      "      NORMAL       0.96      0.70      0.81      2339\n",
      " REABASTECER       0.75      0.97      0.85      2248\n",
      "\n",
      "    accuracy                           0.83      4587\n",
      "   macro avg       0.86      0.83      0.83      4587\n",
      "weighted avg       0.86      0.83      0.83      4587\n",
      "\n",
      "F1_macro   :  0.8293915757984931\n",
      "F1_micro   :  0.8319162851536952\n",
      "F1_weighted:  0.8289798400434332\n",
      "F1_none    :  [0.80863738 0.85014577]\n"
     ]
    }
   ],
   "source": [
    "# Treinamento com LGBMClassifier\n",
    "model_lgb = LGBMClassifier().fit(X_train, y_train)\n",
    "\n",
    "# Validacao do modelo\n",
    "y_pred_val = model_lgb.predict(X_valid)\n",
    "\n",
    "# Salvando o score\n",
    "lgb_score = f1_score(y_valid, y_pred_val, average='weighted')\n",
    "\n",
    "# Matriz de Classificacao\n",
    "print(classification_report(y_valid, y_pred_val))\n",
    "\n",
    "# Avaliacao da metrica F1\n",
    "print('F1_macro   : ', f1_score(y_valid, y_pred_val, average='macro'))\n",
    "print('F1_micro   : ', f1_score(y_valid, y_pred_val, average='micro'))\n",
    "print('F1_weighted: ', f1_score(y_valid, y_pred_val, average='weighted'))\n",
    "print('F1_none    : ', f1_score(y_valid, y_pred_val, average=None))"
   ]
  },
  {
   "cell_type": "code",
   "execution_count": 21,
   "metadata": {},
   "outputs": [
    {
     "data": {
      "text/html": [
       "<div>\n",
       "<style scoped>\n",
       "    .dataframe tbody tr th:only-of-type {\n",
       "        vertical-align: middle;\n",
       "    }\n",
       "\n",
       "    .dataframe tbody tr th {\n",
       "        vertical-align: top;\n",
       "    }\n",
       "\n",
       "    .dataframe thead th {\n",
       "        text-align: right;\n",
       "    }\n",
       "</style>\n",
       "<table border=\"1\" class=\"dataframe\">\n",
       "  <thead>\n",
       "    <tr style=\"text-align: right;\">\n",
       "      <th></th>\n",
       "      <th>Accuracy</th>\n",
       "    </tr>\n",
       "  </thead>\n",
       "  <tbody>\n",
       "    <tr>\n",
       "      <th>GBC</th>\n",
       "      <td>0.824272</td>\n",
       "    </tr>\n",
       "    <tr>\n",
       "      <th>DTC</th>\n",
       "      <td>0.788753</td>\n",
       "    </tr>\n",
       "    <tr>\n",
       "      <th>RFC</th>\n",
       "      <td>0.831141</td>\n",
       "    </tr>\n",
       "    <tr>\n",
       "      <th>XGB</th>\n",
       "      <td>0.819749</td>\n",
       "    </tr>\n",
       "    <tr>\n",
       "      <th>LGB</th>\n",
       "      <td>0.828980</td>\n",
       "    </tr>\n",
       "  </tbody>\n",
       "</table>\n",
       "</div>"
      ],
      "text/plain": [
       "     Accuracy\n",
       "GBC  0.824272\n",
       "DTC  0.788753\n",
       "RFC  0.831141\n",
       "XGB  0.819749\n",
       "LGB  0.828980"
      ]
     },
     "execution_count": 21,
     "metadata": {},
     "output_type": "execute_result"
    }
   ],
   "source": [
    "# Prepara a lista de resultados\n",
    "metricas = [(gbc_score),(dtc_score),(rfc_score),(xgb_score),(lgb_score)]\n",
    "\n",
    "# Cria o dataframe\n",
    "df_metricas = pd.DataFrame(metricas, \n",
    "                           columns = ['Accuracy'], \n",
    "                           index = ['GBC', 'DTC', 'RFC', 'XGB', 'LGB']) \n",
    "\n",
    "# Visualiza o resultado\n",
    "df_metricas"
   ]
  },
  {
   "cell_type": "raw",
   "metadata": {},
   "source": [
    "Versao com 16953 registros sem SMOTE\n",
    "GBC\t0.716380\n",
    "DTC\t0.741816\n",
    "RFC\t0.758372\n",
    "XGB\t0.750545\n",
    "LGB\t0.762960\n",
    "\n",
    "\n",
    "Versao com 16953 registros com SMOTE\n",
    "GBC\t0.824272\n",
    "DTC\t0.788753\n",
    "RFC\t0.831141\n",
    "XGB\t0.819749\n",
    "LGB\t0.828980"
   ]
  }
 ],
 "metadata": {
  "kernelspec": {
   "display_name": "Python 3",
   "language": "python",
   "name": "python3"
  },
  "language_info": {
   "codemirror_mode": {
    "name": "ipython",
    "version": 3
   },
   "file_extension": ".py",
   "mimetype": "text/x-python",
   "name": "python",
   "nbconvert_exporter": "python",
   "pygments_lexer": "ipython3",
   "version": "3.7.4"
  }
 },
 "nbformat": 4,
 "nbformat_minor": 1
}
