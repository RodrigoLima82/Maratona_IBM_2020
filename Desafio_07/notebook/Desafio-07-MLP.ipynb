{
 "cells": [
  {
   "cell_type": "markdown",
   "metadata": {},
   "source": [
    "# MARATONA BEHIND THE CODE 2020\n",
    "\n",
    "## DESAFIO 7: TNT\n",
    "\n",
    "## Testes com modelo Deep Learning (MLP)\n",
    "- Autor: Rodrigo Lima\n",
    "- LinkedIN: https://www.linkedin.com/in/rodrigolima82/\n",
    "\n",
    "\n",
    "![title](tnt_image.jpg)"
   ]
  },
  {
   "cell_type": "markdown",
   "metadata": {},
   "source": [
    "# Parte 01. Importando as bibliotecas"
   ]
  },
  {
   "cell_type": "code",
   "execution_count": 1,
   "metadata": {},
   "outputs": [
    {
     "name": "stderr",
     "output_type": "stream",
     "text": [
      "Using TensorFlow backend.\n"
     ]
    }
   ],
   "source": [
    "# Pacotes padrao\n",
    "import pandas as pd\n",
    "import numpy as np\n",
    "import seaborn as sns\n",
    "import matplotlib.pylab as plt\n",
    "%matplotlib inline\n",
    "\n",
    "# Pacote do sklearn\n",
    "from sklearn.model_selection import train_test_split, KFold\n",
    "from sklearn.metrics import accuracy_score, confusion_matrix, classification_report, precision_score\n",
    "from sklearn.metrics import roc_auc_score, recall_score\n",
    "from sklearn.preprocessing import StandardScaler, MinMaxScaler\n",
    "\n",
    "# Pacote de Deep Learning\n",
    "import tensorflow\n",
    "import keras\n",
    "from keras.models import Sequential\n",
    "from keras.layers import Dense\n",
    "from keras.layers import Dropout\n",
    "from keras.callbacks import Callback, EarlyStopping, ModelCheckpoint\n",
    "from keras.models import load_model\n",
    "\n",
    "# Pacote para balanceamento dos dados\n",
    "from imblearn.over_sampling import SMOTE\n",
    "\n",
    "# Desativando warnings no jupyter\n",
    "import warnings\n",
    "warnings.filterwarnings('ignore')"
   ]
  },
  {
   "cell_type": "markdown",
   "metadata": {},
   "source": [
    "# Parte 02. Carregando o dataset de treino"
   ]
  },
  {
   "cell_type": "code",
   "execution_count": 2,
   "metadata": {},
   "outputs": [
    {
     "name": "stdout",
     "output_type": "stream",
     "text": [
      "Quantidade de registros e colunas:  (17015, 15)\n"
     ]
    },
    {
     "data": {
      "text/html": [
       "<div>\n",
       "<style scoped>\n",
       "    .dataframe tbody tr th:only-of-type {\n",
       "        vertical-align: middle;\n",
       "    }\n",
       "\n",
       "    .dataframe tbody tr th {\n",
       "        vertical-align: top;\n",
       "    }\n",
       "\n",
       "    .dataframe thead th {\n",
       "        text-align: right;\n",
       "    }\n",
       "</style>\n",
       "<table border=\"1\" class=\"dataframe\">\n",
       "  <thead>\n",
       "    <tr style=\"text-align: right;\">\n",
       "      <th></th>\n",
       "      <th>Tempo</th>\n",
       "      <th>Estacao</th>\n",
       "      <th>LAT</th>\n",
       "      <th>LONG</th>\n",
       "      <th>Movimentacao</th>\n",
       "      <th>Original_473</th>\n",
       "      <th>Original_269</th>\n",
       "      <th>Zero</th>\n",
       "      <th>Maca_Verde</th>\n",
       "      <th>Tangerina</th>\n",
       "      <th>Citrus</th>\n",
       "      <th>Acai_Guarana</th>\n",
       "      <th>Pessego</th>\n",
       "      <th>TARGET</th>\n",
       "      <th>row</th>\n",
       "    </tr>\n",
       "  </thead>\n",
       "  <tbody>\n",
       "    <tr>\n",
       "      <th>0</th>\n",
       "      <td>2019-12-30</td>\n",
       "      <td>Fradique Coutinho</td>\n",
       "      <td>-23.5661</td>\n",
       "      <td>-46.6841</td>\n",
       "      <td>35386</td>\n",
       "      <td>24</td>\n",
       "      <td>45</td>\n",
       "      <td>61</td>\n",
       "      <td>42</td>\n",
       "      <td>19</td>\n",
       "      <td>22</td>\n",
       "      <td>15</td>\n",
       "      <td>9</td>\n",
       "      <td>NORMAL</td>\n",
       "      <td>10800</td>\n",
       "    </tr>\n",
       "    <tr>\n",
       "      <th>1</th>\n",
       "      <td>2018-01-08</td>\n",
       "      <td>Luz</td>\n",
       "      <td>-23.5365</td>\n",
       "      <td>-46.6332</td>\n",
       "      <td>124806</td>\n",
       "      <td>15</td>\n",
       "      <td>10</td>\n",
       "      <td>10</td>\n",
       "      <td>29</td>\n",
       "      <td>10</td>\n",
       "      <td>25</td>\n",
       "      <td>14</td>\n",
       "      <td>13</td>\n",
       "      <td>NORMAL</td>\n",
       "      <td>10808</td>\n",
       "    </tr>\n",
       "    <tr>\n",
       "      <th>2</th>\n",
       "      <td>2018-04-17</td>\n",
       "      <td>Luz</td>\n",
       "      <td>-23.5365</td>\n",
       "      <td>-46.6332</td>\n",
       "      <td>125215</td>\n",
       "      <td>53</td>\n",
       "      <td>1</td>\n",
       "      <td>55</td>\n",
       "      <td>18</td>\n",
       "      <td>18</td>\n",
       "      <td>6</td>\n",
       "      <td>37</td>\n",
       "      <td>8</td>\n",
       "      <td>REABASTECER</td>\n",
       "      <td>10907</td>\n",
       "    </tr>\n",
       "    <tr>\n",
       "      <th>3</th>\n",
       "      <td>2018-07-18</td>\n",
       "      <td>Luz</td>\n",
       "      <td>-23.5365</td>\n",
       "      <td>-46.6332</td>\n",
       "      <td>126476</td>\n",
       "      <td>36</td>\n",
       "      <td>5</td>\n",
       "      <td>57</td>\n",
       "      <td>38</td>\n",
       "      <td>15</td>\n",
       "      <td>43</td>\n",
       "      <td>43</td>\n",
       "      <td>18</td>\n",
       "      <td>REABASTECER</td>\n",
       "      <td>10998</td>\n",
       "    </tr>\n",
       "    <tr>\n",
       "      <th>4</th>\n",
       "      <td>2018-08-28</td>\n",
       "      <td>Luz</td>\n",
       "      <td>-23.5365</td>\n",
       "      <td>-46.6332</td>\n",
       "      <td>125917</td>\n",
       "      <td>79</td>\n",
       "      <td>10</td>\n",
       "      <td>8</td>\n",
       "      <td>37</td>\n",
       "      <td>32</td>\n",
       "      <td>30</td>\n",
       "      <td>18</td>\n",
       "      <td>15</td>\n",
       "      <td>NORMAL</td>\n",
       "      <td>11038</td>\n",
       "    </tr>\n",
       "  </tbody>\n",
       "</table>\n",
       "</div>"
      ],
      "text/plain": [
       "        Tempo            Estacao      LAT     LONG  Movimentacao  \\\n",
       "0  2019-12-30  Fradique Coutinho -23.5661 -46.6841         35386   \n",
       "1  2018-01-08                Luz -23.5365 -46.6332        124806   \n",
       "2  2018-04-17                Luz -23.5365 -46.6332        125215   \n",
       "3  2018-07-18                Luz -23.5365 -46.6332        126476   \n",
       "4  2018-08-28                Luz -23.5365 -46.6332        125917   \n",
       "\n",
       "   Original_473  Original_269  Zero  Maca_Verde  Tangerina  Citrus  \\\n",
       "0            24            45    61          42         19      22   \n",
       "1            15            10    10          29         10      25   \n",
       "2            53             1    55          18         18       6   \n",
       "3            36             5    57          38         15      43   \n",
       "4            79            10     8          37         32      30   \n",
       "\n",
       "   Acai_Guarana  Pessego       TARGET    row  \n",
       "0            15        9       NORMAL  10800  \n",
       "1            14       13       NORMAL  10808  \n",
       "2            37        8  REABASTECER  10907  \n",
       "3            43       18  REABASTECER  10998  \n",
       "4            18       15       NORMAL  11038  "
      ]
     },
     "execution_count": 2,
     "metadata": {},
     "output_type": "execute_result"
    }
   ],
   "source": [
    "# Criando um dataframe a partir da lista de dados vindo do IoT e gravados no NoSQL\n",
    "treino = pd.read_csv(r'train_17015.csv')\n",
    "print('Quantidade de registros e colunas: ',treino.shape)\n",
    "treino.head()"
   ]
  },
  {
   "cell_type": "code",
   "execution_count": 3,
   "metadata": {
    "scrolled": true
   },
   "outputs": [
    {
     "name": "stdout",
     "output_type": "stream",
     "text": [
      "<class 'pandas.core.frame.DataFrame'>\n",
      "RangeIndex: 17015 entries, 0 to 17014\n",
      "Data columns (total 15 columns):\n",
      "Tempo           16921 non-null object\n",
      "Estacao         17015 non-null object\n",
      "LAT             17015 non-null float64\n",
      "LONG            17015 non-null float64\n",
      "Movimentacao    17015 non-null int64\n",
      "Original_473    17015 non-null int64\n",
      "Original_269    17015 non-null int64\n",
      "Zero            17015 non-null int64\n",
      "Maca_Verde      17015 non-null int64\n",
      "Tangerina       17015 non-null int64\n",
      "Citrus          17015 non-null int64\n",
      "Acai_Guarana    17015 non-null int64\n",
      "Pessego         17015 non-null int64\n",
      "TARGET          17015 non-null object\n",
      "row             17015 non-null int64\n",
      "dtypes: float64(2), int64(10), object(3)\n",
      "memory usage: 1.9+ MB\n"
     ]
    }
   ],
   "source": [
    "# Visualizando o tipo dos dados\n",
    "treino.info()"
   ]
  },
  {
   "cell_type": "code",
   "execution_count": 4,
   "metadata": {},
   "outputs": [
    {
     "data": {
      "text/html": [
       "<div>\n",
       "<style scoped>\n",
       "    .dataframe tbody tr th:only-of-type {\n",
       "        vertical-align: middle;\n",
       "    }\n",
       "\n",
       "    .dataframe tbody tr th {\n",
       "        vertical-align: top;\n",
       "    }\n",
       "\n",
       "    .dataframe thead th {\n",
       "        text-align: right;\n",
       "    }\n",
       "</style>\n",
       "<table border=\"1\" class=\"dataframe\">\n",
       "  <thead>\n",
       "    <tr style=\"text-align: right;\">\n",
       "      <th></th>\n",
       "      <th>TARGET</th>\n",
       "      <th>%</th>\n",
       "    </tr>\n",
       "  </thead>\n",
       "  <tbody>\n",
       "    <tr>\n",
       "      <th>NORMAL</th>\n",
       "      <td>11517</td>\n",
       "      <td>67.687</td>\n",
       "    </tr>\n",
       "    <tr>\n",
       "      <th>REABASTECER</th>\n",
       "      <td>5498</td>\n",
       "      <td>32.313</td>\n",
       "    </tr>\n",
       "  </tbody>\n",
       "</table>\n",
       "</div>"
      ],
      "text/plain": [
       "             TARGET       %\n",
       "NORMAL        11517  67.687\n",
       "REABASTECER    5498  32.313"
      ]
     },
     "execution_count": 4,
     "metadata": {},
     "output_type": "execute_result"
    },
    {
     "data": {
      "image/png": "[encoded data removed]",
      "text/plain": [
       "<Figure size 432x288 with 1 Axes>"
      ]
     },
     "metadata": {
      "needs_background": "light"
     },
     "output_type": "display_data"
    }
   ],
   "source": [
    "# Visualizando a distribuição das classes (variavel TARGET)\n",
    "pd.value_counts(treino['TARGET']).plot.bar()\n",
    "plt.title('TARGET histogram')\n",
    "plt.xlabel('TARGET')\n",
    "plt.ylabel('Frequency')\n",
    "\n",
    "# Visualizando um df com quantidade e percentual da variavel TARGET\n",
    "tmp = pd.DataFrame(treino['TARGET'].value_counts())\n",
    "tmp['%'] = round(100*tmp['TARGET']/tmp['TARGET'].sum(),3)\n",
    "tmp"
   ]
  },
  {
   "cell_type": "markdown",
   "metadata": {},
   "source": [
    "# Parte 03. Feature Engineering"
   ]
  },
  {
   "cell_type": "code",
   "execution_count": 5,
   "metadata": {},
   "outputs": [
    {
     "data": {
      "text/html": [
       "<div>\n",
       "<style scoped>\n",
       "    .dataframe tbody tr th:only-of-type {\n",
       "        vertical-align: middle;\n",
       "    }\n",
       "\n",
       "    .dataframe tbody tr th {\n",
       "        vertical-align: top;\n",
       "    }\n",
       "\n",
       "    .dataframe thead th {\n",
       "        text-align: right;\n",
       "    }\n",
       "</style>\n",
       "<table border=\"1\" class=\"dataframe\">\n",
       "  <thead>\n",
       "    <tr style=\"text-align: right;\">\n",
       "      <th></th>\n",
       "      <th>Original_473</th>\n",
       "      <th>Original_269</th>\n",
       "      <th>Zero</th>\n",
       "      <th>Maca_Verde</th>\n",
       "      <th>Tangerina</th>\n",
       "      <th>Citrus</th>\n",
       "      <th>Acai_Guarana</th>\n",
       "      <th>Pessego</th>\n",
       "      <th>TARGET</th>\n",
       "    </tr>\n",
       "  </thead>\n",
       "  <tbody>\n",
       "    <tr>\n",
       "      <th>0</th>\n",
       "      <td>24</td>\n",
       "      <td>45</td>\n",
       "      <td>61</td>\n",
       "      <td>42</td>\n",
       "      <td>19</td>\n",
       "      <td>22</td>\n",
       "      <td>15</td>\n",
       "      <td>9</td>\n",
       "      <td>NORMAL</td>\n",
       "    </tr>\n",
       "    <tr>\n",
       "      <th>1</th>\n",
       "      <td>15</td>\n",
       "      <td>10</td>\n",
       "      <td>10</td>\n",
       "      <td>29</td>\n",
       "      <td>10</td>\n",
       "      <td>25</td>\n",
       "      <td>14</td>\n",
       "      <td>13</td>\n",
       "      <td>NORMAL</td>\n",
       "    </tr>\n",
       "    <tr>\n",
       "      <th>2</th>\n",
       "      <td>53</td>\n",
       "      <td>1</td>\n",
       "      <td>55</td>\n",
       "      <td>18</td>\n",
       "      <td>18</td>\n",
       "      <td>6</td>\n",
       "      <td>37</td>\n",
       "      <td>8</td>\n",
       "      <td>REABASTECER</td>\n",
       "    </tr>\n",
       "    <tr>\n",
       "      <th>3</th>\n",
       "      <td>36</td>\n",
       "      <td>5</td>\n",
       "      <td>57</td>\n",
       "      <td>38</td>\n",
       "      <td>15</td>\n",
       "      <td>43</td>\n",
       "      <td>43</td>\n",
       "      <td>18</td>\n",
       "      <td>REABASTECER</td>\n",
       "    </tr>\n",
       "    <tr>\n",
       "      <th>4</th>\n",
       "      <td>79</td>\n",
       "      <td>10</td>\n",
       "      <td>8</td>\n",
       "      <td>37</td>\n",
       "      <td>32</td>\n",
       "      <td>30</td>\n",
       "      <td>18</td>\n",
       "      <td>15</td>\n",
       "      <td>NORMAL</td>\n",
       "    </tr>\n",
       "  </tbody>\n",
       "</table>\n",
       "</div>"
      ],
      "text/plain": [
       "   Original_473  Original_269  Zero  Maca_Verde  Tangerina  Citrus  \\\n",
       "0            24            45    61          42         19      22   \n",
       "1            15            10    10          29         10      25   \n",
       "2            53             1    55          18         18       6   \n",
       "3            36             5    57          38         15      43   \n",
       "4            79            10     8          37         32      30   \n",
       "\n",
       "   Acai_Guarana  Pessego       TARGET  \n",
       "0            15        9       NORMAL  \n",
       "1            14       13       NORMAL  \n",
       "2            37        8  REABASTECER  \n",
       "3            43       18  REABASTECER  \n",
       "4            18       15       NORMAL  "
      ]
     },
     "execution_count": 5,
     "metadata": {},
     "output_type": "execute_result"
    }
   ],
   "source": [
    "# Removendo colunas que não serão utilizadas no treinamento\n",
    "treino = treino.drop(['Tempo','Estacao','Movimentacao','LAT','LONG', 'row'], axis = 1)\n",
    "\n",
    "# Converte colunas para numerico\n",
    "treino = treino.apply(pd.to_numeric, errors='ignore')\n",
    "\n",
    "# Visualizando os primeiros registros\n",
    "treino.head()"
   ]
  },
  {
   "cell_type": "markdown",
   "metadata": {},
   "source": [
    "# Parte 04. Modelagem Preditiva\n",
    "> - Nesta fase estarei construindo os modelos preditivos\n",
    "> - Vou utilizar Deep Learning para o treinamento"
   ]
  },
  {
   "cell_type": "code",
   "execution_count": 6,
   "metadata": {},
   "outputs": [],
   "source": [
    "# Definindo métricas\n",
    "from keras import backend as K\n",
    "\n",
    "def recall_m(y_true, y_pred):\n",
    "    true_positives = K.sum(K.round(K.clip(y_true * y_pred, 0, 1)))\n",
    "    possible_positives = K.sum(K.round(K.clip(y_true, 0, 1)))\n",
    "    recall = true_positives / (possible_positives + K.epsilon())\n",
    "    return recall\n",
    "\n",
    "def precision_m(y_true, y_pred):\n",
    "    true_positives = K.sum(K.round(K.clip(y_true * y_pred, 0, 1)))\n",
    "    predicted_positives = K.sum(K.round(K.clip(y_pred, 0, 1)))\n",
    "    precision = true_positives / (predicted_positives + K.epsilon())\n",
    "    return precision\n",
    "\n",
    "def f1_m(y_true, y_pred):\n",
    "    precision = precision_m(y_true, y_pred)\n",
    "    recall = recall_m(y_true, y_pred)\n",
    "    return 2*((precision*recall)/(precision+recall+K.epsilon()))"
   ]
  },
  {
   "cell_type": "code",
   "execution_count": 7,
   "metadata": {},
   "outputs": [],
   "source": [
    "# Definindo alguns parametros\n",
    "EPOCH = 1000\n",
    "SEED  = 133"
   ]
  },
  {
   "cell_type": "markdown",
   "metadata": {},
   "source": [
    "### Sem Balanceamento dos dados"
   ]
  },
  {
   "cell_type": "code",
   "execution_count": 8,
   "metadata": {},
   "outputs": [],
   "source": [
    "# Selecionando features para treinamento\n",
    "X = treino.drop(['TARGET'], axis = 1)\n",
    "\n",
    "# Selecionando feature target\n",
    "y = treino['TARGET']\n",
    "\n",
    "# Transformando target em tipo numerico\n",
    "y = y.astype(\"category\").cat.codes\n",
    "\n",
    "# Padronizando os dados (0 para a média, 1 para o desvio padrão)\n",
    "X = StandardScaler().fit_transform(X)\n",
    "\n",
    "# Split dos dados\n",
    "X_treino, X_teste, y_treino, y_teste = train_test_split(X, y, test_size = .2, random_state = SEED, stratify = y)"
   ]
  },
  {
   "cell_type": "code",
   "execution_count": 9,
   "metadata": {},
   "outputs": [],
   "source": [
    "# Cria o modelo\n",
    "modelo_dl = Sequential()"
   ]
  },
  {
   "cell_type": "code",
   "execution_count": 10,
   "metadata": {},
   "outputs": [],
   "source": [
    "# Adiciona as camadas ocultas\n",
    "modelo_dl.add(Dense(units = 26, kernel_initializer = 'uniform', activation = 'relu', input_dim = 8))\n",
    "modelo_dl.add(Dense(units = 64, kernel_initializer = 'uniform', activation = 'relu'))\n",
    "modelo_dl.add(Dense(units = 64, kernel_initializer = 'uniform', activation = 'relu'))\n",
    "modelo_dl.add(Dense(units = 64, kernel_initializer = 'uniform', activation = 'relu'))\n",
    "modelo_dl.add(Dense(units = 1, kernel_initializer = 'uniform', activation = 'sigmoid'))"
   ]
  },
  {
   "cell_type": "code",
   "execution_count": 11,
   "metadata": {},
   "outputs": [],
   "source": [
    "# Compila o modelo\n",
    "modelo_dl.compile(optimizer='adam', loss='binary_crossentropy', metrics=['acc',f1_m,precision_m, recall_m])\n",
    "\n",
    "# Early stopping\n",
    "es = EarlyStopping(monitor='val_loss', mode='min', verbose=1, patience=5)"
   ]
  },
  {
   "cell_type": "code",
   "execution_count": 12,
   "metadata": {},
   "outputs": [
    {
     "name": "stdout",
     "output_type": "stream",
     "text": [
      "Model: \"sequential_1\"\n",
      "_________________________________________________________________\n",
      "Layer (type)                 Output Shape              Param #   \n",
      "=================================================================\n",
      "dense_1 (Dense)              (None, 26)                234       \n",
      "_________________________________________________________________\n",
      "dense_2 (Dense)              (None, 64)                1728      \n",
      "_________________________________________________________________\n",
      "dense_3 (Dense)              (None, 64)                4160      \n",
      "_________________________________________________________________\n",
      "dense_4 (Dense)              (None, 64)                4160      \n",
      "_________________________________________________________________\n",
      "dense_5 (Dense)              (None, 1)                 65        \n",
      "=================================================================\n",
      "Total params: 10,347\n",
      "Trainable params: 10,347\n",
      "Non-trainable params: 0\n",
      "_________________________________________________________________\n"
     ]
    }
   ],
   "source": [
    "modelo_dl.summary()"
   ]
  },
  {
   "cell_type": "code",
   "execution_count": 13,
   "metadata": {
    "scrolled": true
   },
   "outputs": [
    {
     "name": "stdout",
     "output_type": "stream",
     "text": [
      "Train on 13612 samples, validate on 3403 samples\n",
      "Epoch 1/1000\n",
      "13612/13612 [==============================] - 1s 91us/step - loss: 0.6021 - acc: 0.6756 - f1_m: 8.4266e-04 - precision_m: 5.1350e-04 - recall_m: 0.0023 - val_loss: 0.5891 - val_acc: 0.6768 - val_f1_m: 0.0000e+00 - val_precision_m: 0.0000e+00 - val_recall_m: 0.0000e+00\n",
      "Epoch 2/1000\n",
      "13612/13612 [==============================] - 1s 52us/step - loss: 0.5878 - acc: 0.6768 - f1_m: 0.0819 - precision_m: 0.1785 - recall_m: 0.0598 - val_loss: 0.5805 - val_acc: 0.6879 - val_f1_m: 0.3775 - val_precision_m: 0.5305 - val_recall_m: 0.3119\n",
      "Epoch 3/1000\n",
      "13612/13612 [==============================] - 1s 54us/step - loss: 0.5723 - acc: 0.6870 - f1_m: 0.3399 - precision_m: 0.5174 - recall_m: 0.2794 - val_loss: 0.5623 - val_acc: 0.6806 - val_f1_m: 0.4282 - val_precision_m: 0.5103 - val_recall_m: 0.3902\n",
      "Epoch 4/1000\n",
      "13612/13612 [==============================] - 1s 52us/step - loss: 0.5523 - acc: 0.6935 - f1_m: 0.4267 - precision_m: 0.5403 - recall_m: 0.3829 - val_loss: 0.5412 - val_acc: 0.6994 - val_f1_m: 0.5262 - val_precision_m: 0.5348 - val_recall_m: 0.5480\n",
      "Epoch 5/1000\n",
      "13612/13612 [==============================] - 1s 54us/step - loss: 0.5386 - acc: 0.6964 - f1_m: 0.4597 - precision_m: 0.5422 - recall_m: 0.4325 - val_loss: 0.5336 - val_acc: 0.6973 - val_f1_m: 0.4313 - val_precision_m: 0.5465 - val_recall_m: 0.3821\n",
      "Epoch 6/1000\n",
      "13612/13612 [==============================] - 1s 56us/step - loss: 0.5318 - acc: 0.7034 - f1_m: 0.4517 - precision_m: 0.5578 - recall_m: 0.4101 - val_loss: 0.5346 - val_acc: 0.6967 - val_f1_m: 0.5288 - val_precision_m: 0.5247 - val_recall_m: 0.5600\n",
      "Epoch 7/1000\n",
      "13612/13612 [==============================] - 1s 55us/step - loss: 0.5306 - acc: 0.7006 - f1_m: 0.4660 - precision_m: 0.5461 - recall_m: 0.4368 - val_loss: 0.5331 - val_acc: 0.7026 - val_f1_m: 0.4541 - val_precision_m: 0.5511 - val_recall_m: 0.4078\n",
      "Epoch 8/1000\n",
      "13612/13612 [==============================] - 1s 53us/step - loss: 0.5284 - acc: 0.7000 - f1_m: 0.4396 - precision_m: 0.5487 - recall_m: 0.3939 - val_loss: 0.5281 - val_acc: 0.6985 - val_f1_m: 0.4459 - val_precision_m: 0.5413 - val_recall_m: 0.4016\n",
      "Epoch 9/1000\n",
      "13612/13612 [==============================] - 1s 51us/step - loss: 0.5265 - acc: 0.7018 - f1_m: 0.4689 - precision_m: 0.5561 - recall_m: 0.4371 - val_loss: 0.5235 - val_acc: 0.7006 - val_f1_m: 0.4718 - val_precision_m: 0.5493 - val_recall_m: 0.4372\n",
      "Epoch 10/1000\n",
      "13612/13612 [==============================] - 1s 50us/step - loss: 0.5220 - acc: 0.7028 - f1_m: 0.4688 - precision_m: 0.5521 - recall_m: 0.4410 - val_loss: 0.5179 - val_acc: 0.7079 - val_f1_m: 0.4728 - val_precision_m: 0.5611 - val_recall_m: 0.4379\n",
      "Epoch 11/1000\n",
      "13612/13612 [==============================] - 1s 49us/step - loss: 0.5154 - acc: 0.7047 - f1_m: 0.4889 - precision_m: 0.5548 - recall_m: 0.4645 - val_loss: 0.5186 - val_acc: 0.7032 - val_f1_m: 0.4607 - val_precision_m: 0.5507 - val_recall_m: 0.4205\n",
      "Epoch 12/1000\n",
      "13612/13612 [==============================] - 1s 47us/step - loss: 0.5098 - acc: 0.7096 - f1_m: 0.5009 - precision_m: 0.5605 - recall_m: 0.4832 - val_loss: 0.5137 - val_acc: 0.7117 - val_f1_m: 0.3936 - val_precision_m: 0.5951 - val_recall_m: 0.3150\n",
      "Epoch 13/1000\n",
      "13612/13612 [==============================] - 1s 50us/step - loss: 0.5033 - acc: 0.7136 - f1_m: 0.4866 - precision_m: 0.5771 - recall_m: 0.4561 - val_loss: 0.4993 - val_acc: 0.7161 - val_f1_m: 0.5025 - val_precision_m: 0.5688 - val_recall_m: 0.4830\n",
      "Epoch 14/1000\n",
      "13612/13612 [==============================] - 1s 47us/step - loss: 0.4976 - acc: 0.7144 - f1_m: 0.5202 - precision_m: 0.5696 - recall_m: 0.5094 - val_loss: 0.4930 - val_acc: 0.7173 - val_f1_m: 0.5304 - val_precision_m: 0.5661 - val_recall_m: 0.5291\n",
      "Epoch 15/1000\n",
      "13612/13612 [==============================] - 1s 48us/step - loss: 0.4900 - acc: 0.7201 - f1_m: 0.5502 - precision_m: 0.5668 - recall_m: 0.5649 - val_loss: 0.4896 - val_acc: 0.7108 - val_f1_m: 0.5735 - val_precision_m: 0.5433 - val_recall_m: 0.6401\n",
      "Epoch 16/1000\n",
      "13612/13612 [==============================] - 1s 48us/step - loss: 0.4804 - acc: 0.7231 - f1_m: 0.5645 - precision_m: 0.5684 - recall_m: 0.5862 - val_loss: 0.4866 - val_acc: 0.7291 - val_f1_m: 0.5648 - val_precision_m: 0.5852 - val_recall_m: 0.5772\n",
      "Epoch 17/1000\n",
      "13612/13612 [==============================] - 1s 49us/step - loss: 0.4728 - acc: 0.7258 - f1_m: 0.5711 - precision_m: 0.5731 - recall_m: 0.5982 - val_loss: 0.4672 - val_acc: 0.7311 - val_f1_m: 0.5842 - val_precision_m: 0.5782 - val_recall_m: 0.6158\n",
      "Epoch 18/1000\n",
      "13612/13612 [==============================] - 1s 48us/step - loss: 0.4642 - acc: 0.7307 - f1_m: 0.5855 - precision_m: 0.5718 - recall_m: 0.6301 - val_loss: 0.4867 - val_acc: 0.7264 - val_f1_m: 0.5169 - val_precision_m: 0.5967 - val_recall_m: 0.4839\n",
      "Epoch 19/1000\n",
      "13612/13612 [==============================] - 1s 50us/step - loss: 0.4578 - acc: 0.7337 - f1_m: 0.5998 - precision_m: 0.5745 - recall_m: 0.6600 - val_loss: 0.4553 - val_acc: 0.7341 - val_f1_m: 0.5887 - val_precision_m: 0.5851 - val_recall_m: 0.6218\n",
      "Epoch 20/1000\n",
      "13612/13612 [==============================] - 1s 49us/step - loss: 0.4458 - acc: 0.7389 - f1_m: 0.6311 - precision_m: 0.5782 - recall_m: 0.7249 - val_loss: 0.4416 - val_acc: 0.7426 - val_f1_m: 0.6309 - val_precision_m: 0.5818 - val_recall_m: 0.7198\n",
      "Epoch 21/1000\n",
      "13612/13612 [==============================] - 1s 49us/step - loss: 0.4379 - acc: 0.7414 - f1_m: 0.6466 - precision_m: 0.5773 - recall_m: 0.7645 - val_loss: 0.4383 - val_acc: 0.7523 - val_f1_m: 0.6395 - val_precision_m: 0.5950 - val_recall_m: 0.7214\n",
      "Epoch 22/1000\n",
      "13612/13612 [==============================] - 1s 49us/step - loss: 0.4289 - acc: 0.7492 - f1_m: 0.6639 - precision_m: 0.5806 - recall_m: 0.8082 - val_loss: 0.4280 - val_acc: 0.7532 - val_f1_m: 0.6415 - val_precision_m: 0.5949 - val_recall_m: 0.7248\n",
      "Epoch 23/1000\n",
      "13612/13612 [==============================] - 1s 49us/step - loss: 0.4205 - acc: 0.7568 - f1_m: 0.6805 - precision_m: 0.5868 - recall_m: 0.8419 - val_loss: 0.4244 - val_acc: 0.7532 - val_f1_m: 0.6845 - val_precision_m: 0.5773 - val_recall_m: 0.8693\n",
      "Epoch 24/1000\n",
      "13612/13612 [==============================] - 1s 48us/step - loss: 0.4165 - acc: 0.7580 - f1_m: 0.6874 - precision_m: 0.5903 - recall_m: 0.8524 - val_loss: 0.4128 - val_acc: 0.7673 - val_f1_m: 0.7046 - val_precision_m: 0.5914 - val_recall_m: 0.9007\n",
      "Epoch 25/1000\n",
      "13612/13612 [==============================] - 1s 47us/step - loss: 0.4153 - acc: 0.7606 - f1_m: 0.6860 - precision_m: 0.5933 - recall_m: 0.8400 - val_loss: 0.4057 - val_acc: 0.7684 - val_f1_m: 0.6926 - val_precision_m: 0.6031 - val_recall_m: 0.8450\n",
      "Epoch 26/1000\n",
      "13612/13612 [==============================] - 1s 49us/step - loss: 0.4099 - acc: 0.7640 - f1_m: 0.6935 - precision_m: 0.5924 - recall_m: 0.8627 - val_loss: 0.4032 - val_acc: 0.7705 - val_f1_m: 0.6982 - val_precision_m: 0.6018 - val_recall_m: 0.8606\n",
      "Epoch 27/1000\n",
      "13612/13612 [==============================] - 1s 49us/step - loss: 0.4061 - acc: 0.7647 - f1_m: 0.6974 - precision_m: 0.5912 - recall_m: 0.8749 - val_loss: 0.4295 - val_acc: 0.7734 - val_f1_m: 0.6766 - val_precision_m: 0.6173 - val_recall_m: 0.7785\n",
      "Epoch 28/1000\n",
      "13612/13612 [==============================] - 1s 50us/step - loss: 0.4059 - acc: 0.7684 - f1_m: 0.7046 - precision_m: 0.5966 - recall_m: 0.8854 - val_loss: 0.4110 - val_acc: 0.7658 - val_f1_m: 0.7117 - val_precision_m: 0.5832 - val_recall_m: 0.9401\n",
      "Epoch 29/1000\n",
      "13612/13612 [==============================] - 1s 49us/step - loss: 0.4023 - acc: 0.7653 - f1_m: 0.6992 - precision_m: 0.5936 - recall_m: 0.8810 - val_loss: 0.4089 - val_acc: 0.7728 - val_f1_m: 0.6913 - val_precision_m: 0.6091 - val_recall_m: 0.8294\n",
      "Epoch 30/1000\n",
      "13612/13612 [==============================] - 1s 46us/step - loss: 0.4021 - acc: 0.7651 - f1_m: 0.6973 - precision_m: 0.5926 - recall_m: 0.8813 - val_loss: 0.4157 - val_acc: 0.7705 - val_f1_m: 0.6992 - val_precision_m: 0.5999 - val_recall_m: 0.8642\n",
      "Epoch 31/1000\n",
      "13612/13612 [==============================] - 1s 47us/step - loss: 0.4026 - acc: 0.7661 - f1_m: 0.7038 - precision_m: 0.5907 - recall_m: 0.8971 - val_loss: 0.4180 - val_acc: 0.7670 - val_f1_m: 0.6964 - val_precision_m: 0.5953 - val_recall_m: 0.8676\n",
      "Epoch 00031: early stopping\n"
     ]
    },
    {
     "data": {
      "text/plain": [
       "<keras.callbacks.callbacks.History at 0x7faa000a0f50>"
      ]
     },
     "execution_count": 13,
     "metadata": {},
     "output_type": "execute_result"
    }
   ],
   "source": [
    "# Treinamento do modelo\n",
    "modelo_dl.fit(X_treino, y_treino, \n",
    "              validation_data=(X_teste, y_teste), \n",
    "              epochs=EPOCH, \n",
    "              verbose=1, \n",
    "              shuffle=True, \n",
    "              callbacks=[es])"
   ]
  },
  {
   "cell_type": "code",
   "execution_count": 14,
   "metadata": {},
   "outputs": [
    {
     "name": "stdout",
     "output_type": "stream",
     "text": [
      "Treino - ACC 0.766, F1 0.697\n",
      "Teste - ACC 0.767, F1 0.696\n"
     ]
    }
   ],
   "source": [
    "# validação do modelo em Treino\n",
    "loss, accuracy, f1_score, precision, recall = modelo_dl.evaluate(X_treino, y_treino, verbose=0)\n",
    "print('Treino - ACC %.3f, F1 %.3f' % (accuracy, f1_score))\n",
    "\n",
    "# validação do modelo em Teste\n",
    "loss, accuracy, f1_score, precision, recall = modelo_dl.evaluate(X_teste, y_teste, verbose=0)\n",
    "print('Teste - ACC %.3f, F1 %.3f' % (accuracy, f1_score))"
   ]
  },
  {
   "cell_type": "code",
   "execution_count": 15,
   "metadata": {},
   "outputs": [],
   "source": [
    "# Realizando as previsões com dados de teste\n",
    "y_pred_probs   = modelo_dl.predict(X_teste, verbose=0)\n",
    "\n",
    "# Converte as probabilidades em classe\n",
    "y_pred_probs = (y_pred_probs > 0.5)\n",
    "\n",
    "# Agora convertemos os valores booleanos em classe binária, 0 ou 1\n",
    "y_pred_probs = np.where(y_pred_probs == 'True', 1, y_pred_probs)"
   ]
  },
  {
   "cell_type": "code",
   "execution_count": 16,
   "metadata": {},
   "outputs": [
    {
     "name": "stdout",
     "output_type": "stream",
     "text": [
      "[[1660  643]\n",
      " [ 150  950]]\n",
      "\n",
      "Acurácia :  0.7669703203056127\n",
      "Sensibilidade : 0.8636363636363636\n",
      "Especificidade : 0.7207989578810248\n"
     ]
    }
   ],
   "source": [
    "# Cria e imprime a matriz de confusão\n",
    "conf_matriz_dl = confusion_matrix(y_teste, y_pred_probs)\n",
    "print(conf_matriz_dl)\n",
    "\n",
    "# Calcula o total \n",
    "total1 = sum(sum(conf_matriz_dl))\n",
    "\n",
    "# Calcula a acurácia\n",
    "accuracy_dl = (conf_matriz_dl[0,0] + conf_matriz_dl[1,1]) / total1\n",
    "    \n",
    "# Calcula especificidade e sensibilidade\n",
    "speci_dl = conf_matriz_dl[0,0] / (conf_matriz_dl[0,0] + conf_matriz_dl[0,1])\n",
    "sensi_dl = conf_matriz_dl[1,1] / (conf_matriz_dl[1,0] + conf_matriz_dl[1,1])\n",
    "\n",
    "# Print\n",
    "print('\\nAcurácia : ', accuracy_dl)\n",
    "print('Sensibilidade :', sensi_dl)\n",
    "print('Especificidade :', speci_dl)"
   ]
  },
  {
   "cell_type": "code",
   "execution_count": 17,
   "metadata": {},
   "outputs": [
    {
     "name": "stdout",
     "output_type": "stream",
     "text": [
      "              precision    recall  f1-score   support\n",
      "\n",
      "           0       0.92      0.72      0.81      2303\n",
      "           1       0.60      0.86      0.71      1100\n",
      "\n",
      "    accuracy                           0.77      3403\n",
      "   macro avg       0.76      0.79      0.76      3403\n",
      "weighted avg       0.81      0.77      0.77      3403\n",
      "\n"
     ]
    }
   ],
   "source": [
    "# Relatório de Classificação\n",
    "print(classification_report(y_teste, y_pred_probs))"
   ]
  },
  {
   "cell_type": "markdown",
   "metadata": {},
   "source": [
    "### Com Balanceamento dos dados"
   ]
  },
  {
   "cell_type": "code",
   "execution_count": 18,
   "metadata": {},
   "outputs": [],
   "source": [
    "# Aplicando a funcao SMOTE\n",
    "sm = SMOTE(random_state=0)\n",
    "X_treino_bal, y_treino_bal = sm.fit_sample(X_treino, y_treino)"
   ]
  },
  {
   "cell_type": "code",
   "execution_count": 19,
   "metadata": {
    "scrolled": true
   },
   "outputs": [
    {
     "name": "stdout",
     "output_type": "stream",
     "text": [
      "Train on 18428 samples, validate on 3403 samples\n",
      "Epoch 1/1000\n",
      "18428/18428 [==============================] - 1s 65us/step - loss: 0.6416 - acc: 0.6278 - f1_m: 0.6558 - precision_m: 0.5935 - recall_m: 0.7635 - val_loss: 0.6549 - val_acc: 0.5915 - val_f1_m: 0.5577 - val_precision_m: 0.4305 - val_recall_m: 0.8294\n",
      "Epoch 2/1000\n",
      "18428/18428 [==============================] - 1s 51us/step - loss: 0.5932 - acc: 0.6784 - f1_m: 0.7059 - precision_m: 0.6466 - recall_m: 0.7964 - val_loss: 0.5923 - val_acc: 0.6465 - val_f1_m: 0.6089 - val_precision_m: 0.4726 - val_recall_m: 0.8904\n",
      "Epoch 3/1000\n",
      "18428/18428 [==============================] - 1s 51us/step - loss: 0.5400 - acc: 0.7199 - f1_m: 0.7485 - precision_m: 0.6729 - recall_m: 0.8576 - val_loss: 0.5355 - val_acc: 0.6809 - val_f1_m: 0.6328 - val_precision_m: 0.5018 - val_recall_m: 0.8906\n",
      "Epoch 4/1000\n",
      "18428/18428 [==============================] - 1s 47us/step - loss: 0.5045 - acc: 0.7470 - f1_m: 0.7733 - precision_m: 0.6931 - recall_m: 0.8883 - val_loss: 0.5105 - val_acc: 0.6976 - val_f1_m: 0.6560 - val_precision_m: 0.5142 - val_recall_m: 0.9390\n",
      "Epoch 5/1000\n",
      "18428/18428 [==============================] - 1s 48us/step - loss: 0.4806 - acc: 0.7620 - f1_m: 0.7891 - precision_m: 0.7023 - recall_m: 0.9134 - val_loss: 0.4793 - val_acc: 0.7241 - val_f1_m: 0.6828 - val_precision_m: 0.5408 - val_recall_m: 0.9589\n",
      "Epoch 6/1000\n",
      "18428/18428 [==============================] - 1s 48us/step - loss: 0.4610 - acc: 0.7773 - f1_m: 0.8029 - precision_m: 0.7139 - recall_m: 0.9305 - val_loss: 0.4367 - val_acc: 0.7496 - val_f1_m: 0.6912 - val_precision_m: 0.5688 - val_recall_m: 0.9099\n",
      "Epoch 7/1000\n",
      "18428/18428 [==============================] - 1s 47us/step - loss: 0.4472 - acc: 0.7902 - f1_m: 0.8140 - precision_m: 0.7229 - recall_m: 0.9422 - val_loss: 0.4373 - val_acc: 0.7561 - val_f1_m: 0.7016 - val_precision_m: 0.5761 - val_recall_m: 0.9271\n",
      "Epoch 8/1000\n",
      "18428/18428 [==============================] - 1s 47us/step - loss: 0.4440 - acc: 0.7914 - f1_m: 0.8144 - precision_m: 0.7235 - recall_m: 0.9437 - val_loss: 0.4441 - val_acc: 0.7464 - val_f1_m: 0.7012 - val_precision_m: 0.5608 - val_recall_m: 0.9658\n",
      "Epoch 9/1000\n",
      "18428/18428 [==============================] - 1s 45us/step - loss: 0.4380 - acc: 0.7971 - f1_m: 0.8202 - precision_m: 0.7271 - recall_m: 0.9520 - val_loss: 0.4389 - val_acc: 0.7535 - val_f1_m: 0.7008 - val_precision_m: 0.5729 - val_recall_m: 0.9341\n",
      "Epoch 10/1000\n",
      "18428/18428 [==============================] - 1s 45us/step - loss: 0.4339 - acc: 0.7976 - f1_m: 0.8201 - precision_m: 0.7300 - recall_m: 0.9455 - val_loss: 0.4288 - val_acc: 0.7614 - val_f1_m: 0.7081 - val_precision_m: 0.5804 - val_recall_m: 0.9381\n",
      "Epoch 11/1000\n",
      "18428/18428 [==============================] - 1s 47us/step - loss: 0.4305 - acc: 0.8012 - f1_m: 0.8212 - precision_m: 0.7327 - recall_m: 0.9453 - val_loss: 0.4277 - val_acc: 0.7634 - val_f1_m: 0.7166 - val_precision_m: 0.5787 - val_recall_m: 0.9690\n",
      "Epoch 12/1000\n",
      "18428/18428 [==============================] - 1s 48us/step - loss: 0.4282 - acc: 0.8029 - f1_m: 0.8240 - precision_m: 0.7342 - recall_m: 0.9504 - val_loss: 0.4243 - val_acc: 0.7726 - val_f1_m: 0.7104 - val_precision_m: 0.5998 - val_recall_m: 0.9024\n",
      "Epoch 13/1000\n",
      "18428/18428 [==============================] - 1s 47us/step - loss: 0.4263 - acc: 0.8038 - f1_m: 0.8252 - precision_m: 0.7348 - recall_m: 0.9509 - val_loss: 0.4368 - val_acc: 0.7602 - val_f1_m: 0.7079 - val_precision_m: 0.5780 - val_recall_m: 0.9453\n",
      "Epoch 14/1000\n",
      "18428/18428 [==============================] - 1s 49us/step - loss: 0.4261 - acc: 0.8057 - f1_m: 0.8261 - precision_m: 0.7363 - recall_m: 0.9523 - val_loss: 0.4231 - val_acc: 0.7640 - val_f1_m: 0.7104 - val_precision_m: 0.5839 - val_recall_m: 0.9374\n",
      "Epoch 15/1000\n",
      "18428/18428 [==============================] - 1s 47us/step - loss: 0.4242 - acc: 0.8065 - f1_m: 0.8283 - precision_m: 0.7367 - recall_m: 0.9567 - val_loss: 0.4315 - val_acc: 0.7629 - val_f1_m: 0.7159 - val_precision_m: 0.5799 - val_recall_m: 0.9648\n",
      "Epoch 16/1000\n",
      "18428/18428 [==============================] - 1s 47us/step - loss: 0.4246 - acc: 0.8073 - f1_m: 0.8291 - precision_m: 0.7381 - recall_m: 0.9558 - val_loss: 0.4525 - val_acc: 0.7514 - val_f1_m: 0.7092 - val_precision_m: 0.5651 - val_recall_m: 0.9803\n",
      "Epoch 17/1000\n",
      "18428/18428 [==============================] - 1s 47us/step - loss: 0.4235 - acc: 0.8067 - f1_m: 0.8268 - precision_m: 0.7377 - recall_m: 0.9509 - val_loss: 0.4261 - val_acc: 0.7670 - val_f1_m: 0.7190 - val_precision_m: 0.5862 - val_recall_m: 0.9601\n",
      "Epoch 18/1000\n",
      "18428/18428 [==============================] - 1s 49us/step - loss: 0.4209 - acc: 0.8078 - f1_m: 0.8288 - precision_m: 0.7401 - recall_m: 0.9527 - val_loss: 0.4486 - val_acc: 0.7537 - val_f1_m: 0.7089 - val_precision_m: 0.5704 - val_recall_m: 0.9664\n",
      "Epoch 19/1000\n",
      "18428/18428 [==============================] - 1s 49us/step - loss: 0.4209 - acc: 0.8068 - f1_m: 0.8279 - precision_m: 0.7389 - recall_m: 0.9517 - val_loss: 0.4166 - val_acc: 0.7720 - val_f1_m: 0.7170 - val_precision_m: 0.5931 - val_recall_m: 0.9354\n",
      "Epoch 20/1000\n",
      "18428/18428 [==============================] - 1s 50us/step - loss: 0.4186 - acc: 0.8097 - f1_m: 0.8296 - precision_m: 0.7426 - recall_m: 0.9509 - val_loss: 0.4245 - val_acc: 0.7731 - val_f1_m: 0.7192 - val_precision_m: 0.5945 - val_recall_m: 0.9393\n",
      "Epoch 21/1000\n",
      "18428/18428 [==============================] - 1s 46us/step - loss: 0.4194 - acc: 0.8094 - f1_m: 0.8285 - precision_m: 0.7414 - recall_m: 0.9489 - val_loss: 0.4391 - val_acc: 0.7573 - val_f1_m: 0.7099 - val_precision_m: 0.5753 - val_recall_m: 0.9592\n",
      "Epoch 22/1000\n",
      "18428/18428 [==============================] - 1s 47us/step - loss: 0.4167 - acc: 0.8087 - f1_m: 0.8285 - precision_m: 0.7406 - recall_m: 0.9504 - val_loss: 0.4338 - val_acc: 0.7658 - val_f1_m: 0.7160 - val_precision_m: 0.5846 - val_recall_m: 0.9541\n",
      "Epoch 23/1000\n",
      "18428/18428 [==============================] - 1s 47us/step - loss: 0.4193 - acc: 0.8088 - f1_m: 0.8286 - precision_m: 0.7399 - recall_m: 0.9514 - val_loss: 0.4614 - val_acc: 0.7482 - val_f1_m: 0.7036 - val_precision_m: 0.5630 - val_recall_m: 0.9674\n",
      "Epoch 24/1000\n",
      "18428/18428 [==============================] - 1s 46us/step - loss: 0.4160 - acc: 0.8110 - f1_m: 0.8299 - precision_m: 0.7431 - recall_m: 0.9491 - val_loss: 0.4635 - val_acc: 0.7529 - val_f1_m: 0.7093 - val_precision_m: 0.5695 - val_recall_m: 0.9720\n",
      "Epoch 00024: early stopping\n"
     ]
    },
    {
     "data": {
      "text/plain": [
       "<keras.callbacks.callbacks.History at 0x7fa9f82d4290>"
      ]
     },
     "execution_count": 19,
     "metadata": {},
     "output_type": "execute_result"
    }
   ],
   "source": [
    "# Cria o modelo\n",
    "modelo_dl_bal = Sequential()\n",
    "\n",
    "# Adiciona as camadas ocultas\n",
    "modelo_dl_bal.add(Dense(units = 26, kernel_initializer = 'uniform', activation = 'relu', input_dim = 8))\n",
    "modelo_dl_bal.add(Dense(units = 64, kernel_initializer = 'uniform', activation = 'relu'))\n",
    "modelo_dl_bal.add(Dense(units = 64, kernel_initializer = 'uniform', activation = 'relu'))\n",
    "modelo_dl_bal.add(Dense(units = 64, kernel_initializer = 'uniform', activation = 'relu'))\n",
    "modelo_dl_bal.add(Dense(units = 1, kernel_initializer = 'uniform', activation = 'sigmoid'))\n",
    "\n",
    "# Compila o modelo\n",
    "modelo_dl_bal.compile(optimizer='adam', loss='binary_crossentropy', metrics=['acc',f1_m,precision_m, recall_m])\n",
    "\n",
    "# Early stopping\n",
    "es = EarlyStopping(monitor='val_loss', mode='min', verbose=1, patience=5)\n",
    "\n",
    "# Treinamento do modelo\n",
    "modelo_dl_bal.fit(X_treino_bal, y_treino_bal, validation_data=(X_teste, y_teste), epochs=EPOCH, verbose=1, shuffle=True, callbacks=[es])"
   ]
  },
  {
   "cell_type": "code",
   "execution_count": 20,
   "metadata": {},
   "outputs": [
    {
     "name": "stdout",
     "output_type": "stream",
     "text": [
      "Treino - ACC 0.810, F1 0.784\n",
      "Teste - ACC 0.753, F1 0.709\n"
     ]
    }
   ],
   "source": [
    "# validação do modelo em Treino\n",
    "loss, accuracy, f1_score, precision, recall = modelo_dl_bal.evaluate(X_treino_bal, y_treino_bal, verbose=0)\n",
    "print('Treino - ACC %.3f, F1 %.3f' % (accuracy, f1_score))\n",
    "\n",
    "# validação do modelo em Teste\n",
    "loss, accuracy, f1_score, precision, recall = modelo_dl_bal.evaluate(X_teste, y_teste, verbose=0)\n",
    "print('Teste - ACC %.3f, F1 %.3f' % (accuracy, f1_score))"
   ]
  },
  {
   "cell_type": "code",
   "execution_count": 21,
   "metadata": {},
   "outputs": [],
   "source": [
    "# Realizando as previsões com dados de teste\n",
    "y_pred_probs   = modelo_dl_bal.predict(X_teste, verbose=0)\n",
    "\n",
    "# Converte as probabilidades em classe\n",
    "y_pred_probs = (y_pred_probs > 0.5)\n",
    "\n",
    "# Agora convertemos os valores booleanos em classe binária, 0 ou 1\n",
    "y_pred_probs = np.where(y_pred_probs == 'True', 1, y_pred_probs)"
   ]
  },
  {
   "cell_type": "code",
   "execution_count": 22,
   "metadata": {},
   "outputs": [
    {
     "name": "stdout",
     "output_type": "stream",
     "text": [
      "[[1494  809]\n",
      " [  32 1068]]\n",
      "\n",
      "Acurácia :  0.7528651190126359\n",
      "Sensibilidade : 0.9709090909090909\n",
      "Especificidade : 0.6487190620929223\n"
     ]
    }
   ],
   "source": [
    "# Cria e imprime a matriz de confusão\n",
    "conf_matriz_dl = confusion_matrix(y_teste, y_pred_probs)\n",
    "print(conf_matriz_dl)\n",
    "\n",
    "# Calcula o total \n",
    "total1 = sum(sum(conf_matriz_dl))\n",
    "\n",
    "# Calcula a acurácia\n",
    "accuracy_dl = (conf_matriz_dl[0,0] + conf_matriz_dl[1,1]) / total1\n",
    "    \n",
    "# Calcula especificidade e sensibilidade\n",
    "speci_dl = conf_matriz_dl[0,0] / (conf_matriz_dl[0,0] + conf_matriz_dl[0,1])\n",
    "sensi_dl = conf_matriz_dl[1,1] / (conf_matriz_dl[1,0] + conf_matriz_dl[1,1])\n",
    "\n",
    "# Print\n",
    "print('\\nAcurácia : ', accuracy_dl)\n",
    "print('Sensibilidade :', sensi_dl)\n",
    "print('Especificidade :', speci_dl)"
   ]
  },
  {
   "cell_type": "code",
   "execution_count": 23,
   "metadata": {},
   "outputs": [
    {
     "name": "stdout",
     "output_type": "stream",
     "text": [
      "              precision    recall  f1-score   support\n",
      "\n",
      "           0       0.98      0.65      0.78      2303\n",
      "           1       0.57      0.97      0.72      1100\n",
      "\n",
      "    accuracy                           0.75      3403\n",
      "   macro avg       0.77      0.81      0.75      3403\n",
      "weighted avg       0.85      0.75      0.76      3403\n",
      "\n"
     ]
    }
   ],
   "source": [
    "# Relatório de Classificação\n",
    "print(classification_report(y_teste, y_pred_probs))"
   ]
  },
  {
   "cell_type": "markdown",
   "metadata": {},
   "source": [
    "# Parte 05. Realizando novas previsões"
   ]
  },
  {
   "cell_type": "code",
   "execution_count": 24,
   "metadata": {},
   "outputs": [
    {
     "name": "stdout",
     "output_type": "stream",
     "text": [
      "Quantidade de registros e colunas:  (984, 13)\n"
     ]
    },
    {
     "data": {
      "text/html": [
       "<div>\n",
       "<style scoped>\n",
       "    .dataframe tbody tr th:only-of-type {\n",
       "        vertical-align: middle;\n",
       "    }\n",
       "\n",
       "    .dataframe tbody tr th {\n",
       "        vertical-align: top;\n",
       "    }\n",
       "\n",
       "    .dataframe thead th {\n",
       "        text-align: right;\n",
       "    }\n",
       "</style>\n",
       "<table border=\"1\" class=\"dataframe\">\n",
       "  <thead>\n",
       "    <tr style=\"text-align: right;\">\n",
       "      <th></th>\n",
       "      <th>Original_473</th>\n",
       "      <th>Original_269</th>\n",
       "      <th>Zero</th>\n",
       "      <th>Maçã-Verde</th>\n",
       "      <th>Tangerina</th>\n",
       "      <th>Citrus</th>\n",
       "      <th>Açaí-Guaraná</th>\n",
       "      <th>Pêssego</th>\n",
       "    </tr>\n",
       "  </thead>\n",
       "  <tbody>\n",
       "    <tr>\n",
       "      <th>0</th>\n",
       "      <td>22</td>\n",
       "      <td>65</td>\n",
       "      <td>22</td>\n",
       "      <td>14</td>\n",
       "      <td>3</td>\n",
       "      <td>26</td>\n",
       "      <td>43</td>\n",
       "      <td>18</td>\n",
       "    </tr>\n",
       "    <tr>\n",
       "      <th>1</th>\n",
       "      <td>11</td>\n",
       "      <td>56</td>\n",
       "      <td>16</td>\n",
       "      <td>14</td>\n",
       "      <td>43</td>\n",
       "      <td>20</td>\n",
       "      <td>37</td>\n",
       "      <td>15</td>\n",
       "    </tr>\n",
       "    <tr>\n",
       "      <th>2</th>\n",
       "      <td>86</td>\n",
       "      <td>51</td>\n",
       "      <td>8</td>\n",
       "      <td>11</td>\n",
       "      <td>41</td>\n",
       "      <td>20</td>\n",
       "      <td>35</td>\n",
       "      <td>12</td>\n",
       "    </tr>\n",
       "    <tr>\n",
       "      <th>3</th>\n",
       "      <td>76</td>\n",
       "      <td>47</td>\n",
       "      <td>65</td>\n",
       "      <td>11</td>\n",
       "      <td>37</td>\n",
       "      <td>14</td>\n",
       "      <td>32</td>\n",
       "      <td>10</td>\n",
       "    </tr>\n",
       "    <tr>\n",
       "      <th>4</th>\n",
       "      <td>68</td>\n",
       "      <td>42</td>\n",
       "      <td>60</td>\n",
       "      <td>6</td>\n",
       "      <td>35</td>\n",
       "      <td>13</td>\n",
       "      <td>26</td>\n",
       "      <td>5</td>\n",
       "    </tr>\n",
       "  </tbody>\n",
       "</table>\n",
       "</div>"
      ],
      "text/plain": [
       "   Original_473  Original_269  Zero  Maçã-Verde  Tangerina  Citrus  \\\n",
       "0            22            65    22          14          3      26   \n",
       "1            11            56    16          14         43      20   \n",
       "2            86            51     8          11         41      20   \n",
       "3            76            47    65          11         37      14   \n",
       "4            68            42    60           6         35      13   \n",
       "\n",
       "   Açaí-Guaraná  Pêssego  \n",
       "0            43       18  \n",
       "1            37       15  \n",
       "2            35       12  \n",
       "3            32       10  \n",
       "4            26        5  "
      ]
     },
     "execution_count": 24,
     "metadata": {},
     "output_type": "execute_result"
    }
   ],
   "source": [
    "# Carregando o dataset de testes \n",
    "teste  = pd.read_csv(r'to_be_scored.csv')\n",
    "print('Quantidade de registros e colunas: ',teste.shape)\n",
    "\n",
    "# Removendo colunas que não serão utilizadas no treinamento\n",
    "teste = teste.drop(['Tempo','Estação','Movimentação','LAT','LONG'], axis = 1)\n",
    "\n",
    "# Visualizando os primeiros registros\n",
    "teste.head()"
   ]
  },
  {
   "cell_type": "code",
   "execution_count": 25,
   "metadata": {},
   "outputs": [],
   "source": [
    "# Padronizando os dados (0 para a média, 1 para o desvio padrão)\n",
    "teste_scaler = StandardScaler().fit_transform(teste)\n",
    "\n",
    "# Realizando previsoes com dados de teste(usando modelo NAO BALANCEADO)\n",
    "y_pred_test = modelo_dl.predict(teste_scaler)\n",
    "\n",
    "# Converte as probabilidades em classe\n",
    "y_pred_test = (y_pred_test > 0.5)\n",
    "\n",
    "# Agora convertemos os valores booleanos em classe binária, 0 ou 1\n",
    "y_pred_test = np.where(y_pred_test == 'True', 1, y_pred_test)"
   ]
  },
  {
   "cell_type": "code",
   "execution_count": 26,
   "metadata": {},
   "outputs": [
    {
     "data": {
      "text/html": [
       "<div>\n",
       "<style scoped>\n",
       "    .dataframe tbody tr th:only-of-type {\n",
       "        vertical-align: middle;\n",
       "    }\n",
       "\n",
       "    .dataframe tbody tr th {\n",
       "        vertical-align: top;\n",
       "    }\n",
       "\n",
       "    .dataframe thead th {\n",
       "        text-align: right;\n",
       "    }\n",
       "</style>\n",
       "<table border=\"1\" class=\"dataframe\">\n",
       "  <thead>\n",
       "    <tr style=\"text-align: right;\">\n",
       "      <th></th>\n",
       "      <th>Original_473</th>\n",
       "      <th>Original_269</th>\n",
       "      <th>Zero</th>\n",
       "      <th>Maçã-Verde</th>\n",
       "      <th>Tangerina</th>\n",
       "      <th>Citrus</th>\n",
       "      <th>Açaí-Guaraná</th>\n",
       "      <th>Pêssego</th>\n",
       "      <th>TARGET</th>\n",
       "    </tr>\n",
       "  </thead>\n",
       "  <tbody>\n",
       "    <tr>\n",
       "      <th>979</th>\n",
       "      <td>34</td>\n",
       "      <td>65</td>\n",
       "      <td>28</td>\n",
       "      <td>17</td>\n",
       "      <td>33</td>\n",
       "      <td>27</td>\n",
       "      <td>6</td>\n",
       "      <td>2</td>\n",
       "      <td>REABASTECER</td>\n",
       "    </tr>\n",
       "    <tr>\n",
       "      <th>980</th>\n",
       "      <td>21</td>\n",
       "      <td>60</td>\n",
       "      <td>18</td>\n",
       "      <td>15</td>\n",
       "      <td>27</td>\n",
       "      <td>22</td>\n",
       "      <td>43</td>\n",
       "      <td>43</td>\n",
       "      <td>NORMAL</td>\n",
       "    </tr>\n",
       "    <tr>\n",
       "      <th>981</th>\n",
       "      <td>9</td>\n",
       "      <td>56</td>\n",
       "      <td>13</td>\n",
       "      <td>14</td>\n",
       "      <td>21</td>\n",
       "      <td>17</td>\n",
       "      <td>37</td>\n",
       "      <td>37</td>\n",
       "      <td>REABASTECER</td>\n",
       "    </tr>\n",
       "    <tr>\n",
       "      <th>982</th>\n",
       "      <td>86</td>\n",
       "      <td>49</td>\n",
       "      <td>7</td>\n",
       "      <td>14</td>\n",
       "      <td>17</td>\n",
       "      <td>12</td>\n",
       "      <td>33</td>\n",
       "      <td>33</td>\n",
       "      <td>NORMAL</td>\n",
       "    </tr>\n",
       "    <tr>\n",
       "      <th>983</th>\n",
       "      <td>74</td>\n",
       "      <td>41</td>\n",
       "      <td>65</td>\n",
       "      <td>8</td>\n",
       "      <td>14</td>\n",
       "      <td>7</td>\n",
       "      <td>27</td>\n",
       "      <td>27</td>\n",
       "      <td>NORMAL</td>\n",
       "    </tr>\n",
       "  </tbody>\n",
       "</table>\n",
       "</div>"
      ],
      "text/plain": [
       "     Original_473  Original_269  Zero  Maçã-Verde  Tangerina  Citrus  \\\n",
       "979            34            65    28          17         33      27   \n",
       "980            21            60    18          15         27      22   \n",
       "981             9            56    13          14         21      17   \n",
       "982            86            49     7          14         17      12   \n",
       "983            74            41    65           8         14       7   \n",
       "\n",
       "     Açaí-Guaraná  Pêssego       TARGET  \n",
       "979             6        2  REABASTECER  \n",
       "980            43       43       NORMAL  \n",
       "981            37       37  REABASTECER  \n",
       "982            33       33       NORMAL  \n",
       "983            27       27       NORMAL  "
      ]
     },
     "execution_count": 26,
     "metadata": {},
     "output_type": "execute_result"
    }
   ],
   "source": [
    "# Salvando na coluna target\n",
    "teste['TARGET'] = y_pred_test\n",
    "teste['TARGET'] = np.where(teste['TARGET'] == 0, 'NORMAL', 'REABASTECER')\n",
    "\n",
    "# Visualizando os ultimos registros\n",
    "teste.tail()"
   ]
  },
  {
   "cell_type": "code",
   "execution_count": 27,
   "metadata": {},
   "outputs": [
    {
     "data": {
      "text/html": [
       "<div>\n",
       "<style scoped>\n",
       "    .dataframe tbody tr th:only-of-type {\n",
       "        vertical-align: middle;\n",
       "    }\n",
       "\n",
       "    .dataframe tbody tr th {\n",
       "        vertical-align: top;\n",
       "    }\n",
       "\n",
       "    .dataframe thead th {\n",
       "        text-align: right;\n",
       "    }\n",
       "</style>\n",
       "<table border=\"1\" class=\"dataframe\">\n",
       "  <thead>\n",
       "    <tr style=\"text-align: right;\">\n",
       "      <th></th>\n",
       "      <th>TARGET</th>\n",
       "      <th>%</th>\n",
       "    </tr>\n",
       "  </thead>\n",
       "  <tbody>\n",
       "    <tr>\n",
       "      <th>NORMAL</th>\n",
       "      <td>502</td>\n",
       "      <td>51.016</td>\n",
       "    </tr>\n",
       "    <tr>\n",
       "      <th>REABASTECER</th>\n",
       "      <td>482</td>\n",
       "      <td>48.984</td>\n",
       "    </tr>\n",
       "  </tbody>\n",
       "</table>\n",
       "</div>"
      ],
      "text/plain": [
       "             TARGET       %\n",
       "NORMAL          502  51.016\n",
       "REABASTECER     482  48.984"
      ]
     },
     "execution_count": 27,
     "metadata": {},
     "output_type": "execute_result"
    },
    {
     "data": {
      "image/png": "[encoded data removed]",
      "text/plain": [
       "<Figure size 432x288 with 1 Axes>"
      ]
     },
     "metadata": {
      "needs_background": "light"
     },
     "output_type": "display_data"
    }
   ],
   "source": [
    "# Visualizando a distribuição das classes (variavel TARGET)\n",
    "pd.value_counts(teste['TARGET']).plot.bar()\n",
    "plt.title('TARGET histogram')\n",
    "plt.xlabel('TARGET')\n",
    "plt.ylabel('Frequency')\n",
    "\n",
    "# Visualizando um df com quantidade e percentual da variavel TARGET\n",
    "tmp = pd.DataFrame(teste['TARGET'].value_counts())\n",
    "tmp['%'] = round(100*tmp['TARGET']/tmp['TARGET'].sum(),3)\n",
    "tmp"
   ]
  },
  {
   "cell_type": "code",
   "execution_count": 28,
   "metadata": {},
   "outputs": [],
   "source": [
    "# Gravando resultado em csv\n",
    "teste.to_csv('results_mlp.csv',index=False)"
   ]
  }
 ],
 "metadata": {
  "kernelspec": {
   "display_name": "Python 3",
   "language": "python",
   "name": "python3"
  },
  "language_info": {
   "codemirror_mode": {
    "name": "ipython",
    "version": 3
   },
   "file_extension": ".py",
   "mimetype": "text/x-python",
   "name": "python",
   "nbconvert_exporter": "python",
   "pygments_lexer": "ipython3",
   "version": "3.7.4"
  }
 },
 "nbformat": 4,
 "nbformat_minor": 1
}
