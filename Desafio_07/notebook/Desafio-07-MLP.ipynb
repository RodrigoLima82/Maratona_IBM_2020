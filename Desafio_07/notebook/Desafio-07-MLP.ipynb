{
 "cells": [
  {
   "cell_type": "markdown",
   "metadata": {},
   "source": [
    "# MARATONA BEHIND THE CODE 2020\n",
    "\n",
    "## DESAFIO 7: TNT\n",
    "\n",
    "## Testes com modelo Deep Learning (MLP)\n",
    "- Autor: Rodrigo Lima\n",
    "- LinkedIN: https://www.linkedin.com/in/rodrigolima82/\n",
    "\n",
    "\n",
    "![title](tnt_image.jpg)"
   ]
  },
  {
   "cell_type": "markdown",
   "metadata": {},
   "source": [
    "# Parte 01. Importando as bibliotecas"
   ]
  },
  {
   "cell_type": "code",
   "execution_count": 1,
   "metadata": {},
   "outputs": [
    {
     "name": "stderr",
     "output_type": "stream",
     "text": [
      "Using TensorFlow backend.\n"
     ]
    }
   ],
   "source": [
    "# Pacotes padrao\n",
    "import pandas as pd\n",
    "import numpy as np\n",
    "import seaborn as sns\n",
    "import matplotlib.pylab as plt\n",
    "%matplotlib inline\n",
    "\n",
    "# Pacote do sklearn\n",
    "from sklearn.model_selection import train_test_split, KFold\n",
    "from sklearn.metrics import accuracy_score, confusion_matrix, classification_report, precision_score\n",
    "from sklearn.metrics import roc_auc_score, recall_score\n",
    "from sklearn.preprocessing import StandardScaler, MinMaxScaler\n",
    "\n",
    "# Pacote de Deep Learning\n",
    "import tensorflow\n",
    "import keras\n",
    "from keras.models import Sequential\n",
    "from keras.layers import Dense\n",
    "from keras.layers import Dropout\n",
    "from keras.callbacks import Callback, EarlyStopping, ModelCheckpoint\n",
    "from keras.models import load_model\n",
    "\n",
    "# Pacote para balanceamento dos dados\n",
    "from imblearn.over_sampling import SMOTE\n",
    "\n",
    "# Desativando warnings no jupyter\n",
    "import warnings\n",
    "warnings.filterwarnings('ignore')"
   ]
  },
  {
   "cell_type": "markdown",
   "metadata": {},
   "source": [
    "# Parte 02. Carregando o dataset de treino"
   ]
  },
  {
   "cell_type": "code",
   "execution_count": 2,
   "metadata": {},
   "outputs": [
    {
     "name": "stdout",
     "output_type": "stream",
     "text": [
      "Quantidade de registros e colunas:  (17015, 15)\n"
     ]
    },
    {
     "data": {
      "text/html": [
       "<div>\n",
       "<style scoped>\n",
       "    .dataframe tbody tr th:only-of-type {\n",
       "        vertical-align: middle;\n",
       "    }\n",
       "\n",
       "    .dataframe tbody tr th {\n",
       "        vertical-align: top;\n",
       "    }\n",
       "\n",
       "    .dataframe thead th {\n",
       "        text-align: right;\n",
       "    }\n",
       "</style>\n",
       "<table border=\"1\" class=\"dataframe\">\n",
       "  <thead>\n",
       "    <tr style=\"text-align: right;\">\n",
       "      <th></th>\n",
       "      <th>Tempo</th>\n",
       "      <th>Estacao</th>\n",
       "      <th>LAT</th>\n",
       "      <th>LONG</th>\n",
       "      <th>Movimentacao</th>\n",
       "      <th>Original_473</th>\n",
       "      <th>Original_269</th>\n",
       "      <th>Zero</th>\n",
       "      <th>Maca_Verde</th>\n",
       "      <th>Tangerina</th>\n",
       "      <th>Citrus</th>\n",
       "      <th>Acai_Guarana</th>\n",
       "      <th>Pessego</th>\n",
       "      <th>TARGET</th>\n",
       "      <th>row</th>\n",
       "    </tr>\n",
       "  </thead>\n",
       "  <tbody>\n",
       "    <tr>\n",
       "      <th>0</th>\n",
       "      <td>2019-12-30</td>\n",
       "      <td>Fradique Coutinho</td>\n",
       "      <td>-23.5661</td>\n",
       "      <td>-46.6841</td>\n",
       "      <td>35386</td>\n",
       "      <td>24</td>\n",
       "      <td>45</td>\n",
       "      <td>61</td>\n",
       "      <td>42</td>\n",
       "      <td>19</td>\n",
       "      <td>22</td>\n",
       "      <td>15</td>\n",
       "      <td>9</td>\n",
       "      <td>NORMAL</td>\n",
       "      <td>10800</td>\n",
       "    </tr>\n",
       "    <tr>\n",
       "      <th>1</th>\n",
       "      <td>2018-01-08</td>\n",
       "      <td>Luz</td>\n",
       "      <td>-23.5365</td>\n",
       "      <td>-46.6332</td>\n",
       "      <td>124806</td>\n",
       "      <td>15</td>\n",
       "      <td>10</td>\n",
       "      <td>10</td>\n",
       "      <td>29</td>\n",
       "      <td>10</td>\n",
       "      <td>25</td>\n",
       "      <td>14</td>\n",
       "      <td>13</td>\n",
       "      <td>NORMAL</td>\n",
       "      <td>10808</td>\n",
       "    </tr>\n",
       "    <tr>\n",
       "      <th>2</th>\n",
       "      <td>2018-04-17</td>\n",
       "      <td>Luz</td>\n",
       "      <td>-23.5365</td>\n",
       "      <td>-46.6332</td>\n",
       "      <td>125215</td>\n",
       "      <td>53</td>\n",
       "      <td>1</td>\n",
       "      <td>55</td>\n",
       "      <td>18</td>\n",
       "      <td>18</td>\n",
       "      <td>6</td>\n",
       "      <td>37</td>\n",
       "      <td>8</td>\n",
       "      <td>REABASTECER</td>\n",
       "      <td>10907</td>\n",
       "    </tr>\n",
       "    <tr>\n",
       "      <th>3</th>\n",
       "      <td>2018-07-18</td>\n",
       "      <td>Luz</td>\n",
       "      <td>-23.5365</td>\n",
       "      <td>-46.6332</td>\n",
       "      <td>126476</td>\n",
       "      <td>36</td>\n",
       "      <td>5</td>\n",
       "      <td>57</td>\n",
       "      <td>38</td>\n",
       "      <td>15</td>\n",
       "      <td>43</td>\n",
       "      <td>43</td>\n",
       "      <td>18</td>\n",
       "      <td>REABASTECER</td>\n",
       "      <td>10998</td>\n",
       "    </tr>\n",
       "    <tr>\n",
       "      <th>4</th>\n",
       "      <td>2018-08-28</td>\n",
       "      <td>Luz</td>\n",
       "      <td>-23.5365</td>\n",
       "      <td>-46.6332</td>\n",
       "      <td>125917</td>\n",
       "      <td>79</td>\n",
       "      <td>10</td>\n",
       "      <td>8</td>\n",
       "      <td>37</td>\n",
       "      <td>32</td>\n",
       "      <td>30</td>\n",
       "      <td>18</td>\n",
       "      <td>15</td>\n",
       "      <td>NORMAL</td>\n",
       "      <td>11038</td>\n",
       "    </tr>\n",
       "  </tbody>\n",
       "</table>\n",
       "</div>"
      ],
      "text/plain": [
       "        Tempo            Estacao      LAT     LONG  Movimentacao  \\\n",
       "0  2019-12-30  Fradique Coutinho -23.5661 -46.6841         35386   \n",
       "1  2018-01-08                Luz -23.5365 -46.6332        124806   \n",
       "2  2018-04-17                Luz -23.5365 -46.6332        125215   \n",
       "3  2018-07-18                Luz -23.5365 -46.6332        126476   \n",
       "4  2018-08-28                Luz -23.5365 -46.6332        125917   \n",
       "\n",
       "   Original_473  Original_269  Zero  Maca_Verde  Tangerina  Citrus  \\\n",
       "0            24            45    61          42         19      22   \n",
       "1            15            10    10          29         10      25   \n",
       "2            53             1    55          18         18       6   \n",
       "3            36             5    57          38         15      43   \n",
       "4            79            10     8          37         32      30   \n",
       "\n",
       "   Acai_Guarana  Pessego       TARGET    row  \n",
       "0            15        9       NORMAL  10800  \n",
       "1            14       13       NORMAL  10808  \n",
       "2            37        8  REABASTECER  10907  \n",
       "3            43       18  REABASTECER  10998  \n",
       "4            18       15       NORMAL  11038  "
      ]
     },
     "execution_count": 2,
     "metadata": {},
     "output_type": "execute_result"
    }
   ],
   "source": [
    "# Criando um dataframe a partir da lista de dados vindo do IoT e gravados no NoSQL\n",
    "treino = pd.read_csv(r'train_17015.csv')\n",
    "print('Quantidade de registros e colunas: ',treino.shape)\n",
    "treino.head()"
   ]
  },
  {
   "cell_type": "code",
   "execution_count": 3,
   "metadata": {
    "scrolled": true
   },
   "outputs": [
    {
     "name": "stdout",
     "output_type": "stream",
     "text": [
      "<class 'pandas.core.frame.DataFrame'>\n",
      "RangeIndex: 17015 entries, 0 to 17014\n",
      "Data columns (total 15 columns):\n",
      "Tempo           16921 non-null object\n",
      "Estacao         17015 non-null object\n",
      "LAT             17015 non-null float64\n",
      "LONG            17015 non-null float64\n",
      "Movimentacao    17015 non-null int64\n",
      "Original_473    17015 non-null int64\n",
      "Original_269    17015 non-null int64\n",
      "Zero            17015 non-null int64\n",
      "Maca_Verde      17015 non-null int64\n",
      "Tangerina       17015 non-null int64\n",
      "Citrus          17015 non-null int64\n",
      "Acai_Guarana    17015 non-null int64\n",
      "Pessego         17015 non-null int64\n",
      "TARGET          17015 non-null object\n",
      "row             17015 non-null int64\n",
      "dtypes: float64(2), int64(10), object(3)\n",
      "memory usage: 1.9+ MB\n"
     ]
    }
   ],
   "source": [
    "# Visualizando o tipo dos dados\n",
    "treino.info()"
   ]
  },
  {
   "cell_type": "code",
   "execution_count": 4,
   "metadata": {},
   "outputs": [
    {
     "data": {
      "text/html": [
       "<div>\n",
       "<style scoped>\n",
       "    .dataframe tbody tr th:only-of-type {\n",
       "        vertical-align: middle;\n",
       "    }\n",
       "\n",
       "    .dataframe tbody tr th {\n",
       "        vertical-align: top;\n",
       "    }\n",
       "\n",
       "    .dataframe thead th {\n",
       "        text-align: right;\n",
       "    }\n",
       "</style>\n",
       "<table border=\"1\" class=\"dataframe\">\n",
       "  <thead>\n",
       "    <tr style=\"text-align: right;\">\n",
       "      <th></th>\n",
       "      <th>TARGET</th>\n",
       "      <th>%</th>\n",
       "    </tr>\n",
       "  </thead>\n",
       "  <tbody>\n",
       "    <tr>\n",
       "      <th>NORMAL</th>\n",
       "      <td>11517</td>\n",
       "      <td>67.687</td>\n",
       "    </tr>\n",
       "    <tr>\n",
       "      <th>REABASTECER</th>\n",
       "      <td>5498</td>\n",
       "      <td>32.313</td>\n",
       "    </tr>\n",
       "  </tbody>\n",
       "</table>\n",
       "</div>"
      ],
      "text/plain": [
       "             TARGET       %\n",
       "NORMAL        11517  67.687\n",
       "REABASTECER    5498  32.313"
      ]
     },
     "execution_count": 4,
     "metadata": {},
     "output_type": "execute_result"
    },
    {
     "data": {
      "image/png": "[encoded data removed]",
      "text/plain": [
       "<Figure size 432x288 with 1 Axes>"
      ]
     },
     "metadata": {
      "needs_background": "light"
     },
     "output_type": "display_data"
    }
   ],
   "source": [
    "# Visualizando a distribuição das classes (variavel TARGET)\n",
    "pd.value_counts(treino['TARGET']).plot.bar()\n",
    "plt.title('TARGET histogram')\n",
    "plt.xlabel('TARGET')\n",
    "plt.ylabel('Frequency')\n",
    "\n",
    "# Visualizando um df com quantidade e percentual da variavel TARGET\n",
    "tmp = pd.DataFrame(treino['TARGET'].value_counts())\n",
    "tmp['%'] = round(100*tmp['TARGET']/tmp['TARGET'].sum(),3)\n",
    "tmp"
   ]
  },
  {
   "cell_type": "markdown",
   "metadata": {},
   "source": [
    "# Parte 03. Feature Engineering"
   ]
  },
  {
   "cell_type": "code",
   "execution_count": 5,
   "metadata": {},
   "outputs": [
    {
     "data": {
      "text/html": [
       "<div>\n",
       "<style scoped>\n",
       "    .dataframe tbody tr th:only-of-type {\n",
       "        vertical-align: middle;\n",
       "    }\n",
       "\n",
       "    .dataframe tbody tr th {\n",
       "        vertical-align: top;\n",
       "    }\n",
       "\n",
       "    .dataframe thead th {\n",
       "        text-align: right;\n",
       "    }\n",
       "</style>\n",
       "<table border=\"1\" class=\"dataframe\">\n",
       "  <thead>\n",
       "    <tr style=\"text-align: right;\">\n",
       "      <th></th>\n",
       "      <th>Original_473</th>\n",
       "      <th>Original_269</th>\n",
       "      <th>Zero</th>\n",
       "      <th>Maca_Verde</th>\n",
       "      <th>Tangerina</th>\n",
       "      <th>Citrus</th>\n",
       "      <th>Acai_Guarana</th>\n",
       "      <th>Pessego</th>\n",
       "      <th>TARGET</th>\n",
       "    </tr>\n",
       "  </thead>\n",
       "  <tbody>\n",
       "    <tr>\n",
       "      <th>0</th>\n",
       "      <td>24</td>\n",
       "      <td>45</td>\n",
       "      <td>61</td>\n",
       "      <td>42</td>\n",
       "      <td>19</td>\n",
       "      <td>22</td>\n",
       "      <td>15</td>\n",
       "      <td>9</td>\n",
       "      <td>NORMAL</td>\n",
       "    </tr>\n",
       "    <tr>\n",
       "      <th>1</th>\n",
       "      <td>15</td>\n",
       "      <td>10</td>\n",
       "      <td>10</td>\n",
       "      <td>29</td>\n",
       "      <td>10</td>\n",
       "      <td>25</td>\n",
       "      <td>14</td>\n",
       "      <td>13</td>\n",
       "      <td>NORMAL</td>\n",
       "    </tr>\n",
       "    <tr>\n",
       "      <th>2</th>\n",
       "      <td>53</td>\n",
       "      <td>1</td>\n",
       "      <td>55</td>\n",
       "      <td>18</td>\n",
       "      <td>18</td>\n",
       "      <td>6</td>\n",
       "      <td>37</td>\n",
       "      <td>8</td>\n",
       "      <td>REABASTECER</td>\n",
       "    </tr>\n",
       "    <tr>\n",
       "      <th>3</th>\n",
       "      <td>36</td>\n",
       "      <td>5</td>\n",
       "      <td>57</td>\n",
       "      <td>38</td>\n",
       "      <td>15</td>\n",
       "      <td>43</td>\n",
       "      <td>43</td>\n",
       "      <td>18</td>\n",
       "      <td>REABASTECER</td>\n",
       "    </tr>\n",
       "    <tr>\n",
       "      <th>4</th>\n",
       "      <td>79</td>\n",
       "      <td>10</td>\n",
       "      <td>8</td>\n",
       "      <td>37</td>\n",
       "      <td>32</td>\n",
       "      <td>30</td>\n",
       "      <td>18</td>\n",
       "      <td>15</td>\n",
       "      <td>NORMAL</td>\n",
       "    </tr>\n",
       "  </tbody>\n",
       "</table>\n",
       "</div>"
      ],
      "text/plain": [
       "   Original_473  Original_269  Zero  Maca_Verde  Tangerina  Citrus  \\\n",
       "0            24            45    61          42         19      22   \n",
       "1            15            10    10          29         10      25   \n",
       "2            53             1    55          18         18       6   \n",
       "3            36             5    57          38         15      43   \n",
       "4            79            10     8          37         32      30   \n",
       "\n",
       "   Acai_Guarana  Pessego       TARGET  \n",
       "0            15        9       NORMAL  \n",
       "1            14       13       NORMAL  \n",
       "2            37        8  REABASTECER  \n",
       "3            43       18  REABASTECER  \n",
       "4            18       15       NORMAL  "
      ]
     },
     "execution_count": 5,
     "metadata": {},
     "output_type": "execute_result"
    }
   ],
   "source": [
    "# Removendo colunas que não serão utilizadas no treinamento\n",
    "treino = treino.drop(['Tempo','Estacao','Movimentacao','LAT','LONG', 'row'], axis = 1)\n",
    "\n",
    "# Converte colunas para numerico\n",
    "treino = treino.apply(pd.to_numeric, errors='ignore')\n",
    "\n",
    "# Visualizando os primeiros registros\n",
    "treino.head()"
   ]
  },
  {
   "cell_type": "markdown",
   "metadata": {},
   "source": [
    "# Parte 04. Modelagem Preditiva\n",
    "> - Nesta fase estarei construindo os modelos preditivos\n",
    "> - Vou utilizar Deep Learning para o treinamento"
   ]
  },
  {
   "cell_type": "code",
   "execution_count": 6,
   "metadata": {},
   "outputs": [],
   "source": [
    "# Definindo métricas\n",
    "from keras import backend as K\n",
    "\n",
    "def recall_m(y_true, y_pred):\n",
    "    true_positives = K.sum(K.round(K.clip(y_true * y_pred, 0, 1)))\n",
    "    possible_positives = K.sum(K.round(K.clip(y_true, 0, 1)))\n",
    "    recall = true_positives / (possible_positives + K.epsilon())\n",
    "    return recall\n",
    "\n",
    "def precision_m(y_true, y_pred):\n",
    "    true_positives = K.sum(K.round(K.clip(y_true * y_pred, 0, 1)))\n",
    "    predicted_positives = K.sum(K.round(K.clip(y_pred, 0, 1)))\n",
    "    precision = true_positives / (predicted_positives + K.epsilon())\n",
    "    return precision\n",
    "\n",
    "def f1_m(y_true, y_pred):\n",
    "    precision = precision_m(y_true, y_pred)\n",
    "    recall = recall_m(y_true, y_pred)\n",
    "    return 2*((precision*recall)/(precision+recall+K.epsilon()))"
   ]
  },
  {
   "cell_type": "code",
   "execution_count": 7,
   "metadata": {},
   "outputs": [],
   "source": [
    "# Definindo alguns parametros\n",
    "EPOCH = 1000\n",
    "SEED  = 42"
   ]
  },
  {
   "cell_type": "code",
   "execution_count": 8,
   "metadata": {},
   "outputs": [],
   "source": [
    "# Selecionando features para treinamento\n",
    "X = treino.drop(['TARGET'], axis = 1)\n",
    "\n",
    "# Selecionando feature target\n",
    "y = treino['TARGET']\n",
    "\n",
    "# Transformando target em tipo numerico\n",
    "y = y.astype(\"category\").cat.codes\n",
    "\n",
    "# Padronizando os dados (0 para a média, 1 para o desvio padrão)\n",
    "X = StandardScaler().fit_transform(X)\n",
    "\n",
    "# Split dos dados\n",
    "X_treino, X_teste, y_treino, y_teste = train_test_split(X, y, test_size = .2, random_state = SEED, stratify = y)"
   ]
  },
  {
   "cell_type": "markdown",
   "metadata": {},
   "source": [
    "### Sem Balanceamento dos dados"
   ]
  },
  {
   "cell_type": "code",
   "execution_count": 9,
   "metadata": {},
   "outputs": [],
   "source": [
    "# Cria o modelo\n",
    "modelo_dl = Sequential()"
   ]
  },
  {
   "cell_type": "code",
   "execution_count": 10,
   "metadata": {},
   "outputs": [],
   "source": [
    "# Adiciona as camadas ocultas\n",
    "modelo_dl.add(Dense(units = 26, kernel_initializer = 'uniform', activation = 'relu', input_dim = 8))\n",
    "modelo_dl.add(Dense(units = 64, kernel_initializer = 'uniform', activation = 'relu'))\n",
    "modelo_dl.add(Dense(units = 64, kernel_initializer = 'uniform', activation = 'relu'))\n",
    "modelo_dl.add(Dense(units = 64, kernel_initializer = 'uniform', activation = 'relu'))\n",
    "modelo_dl.add(Dense(units = 1, kernel_initializer = 'uniform', activation = 'sigmoid'))"
   ]
  },
  {
   "cell_type": "code",
   "execution_count": 11,
   "metadata": {},
   "outputs": [],
   "source": [
    "# Compila o modelo\n",
    "modelo_dl.compile(optimizer='adam', loss='binary_crossentropy', metrics=['acc',f1_m,precision_m, recall_m])\n",
    "\n",
    "# Early stopping\n",
    "es = EarlyStopping(monitor='val_loss', mode='min', verbose=1, patience=5)"
   ]
  },
  {
   "cell_type": "code",
   "execution_count": 12,
   "metadata": {},
   "outputs": [
    {
     "name": "stdout",
     "output_type": "stream",
     "text": [
      "Model: \"sequential_1\"\n",
      "_________________________________________________________________\n",
      "Layer (type)                 Output Shape              Param #   \n",
      "=================================================================\n",
      "dense_1 (Dense)              (None, 26)                234       \n",
      "_________________________________________________________________\n",
      "dense_2 (Dense)              (None, 64)                1728      \n",
      "_________________________________________________________________\n",
      "dense_3 (Dense)              (None, 64)                4160      \n",
      "_________________________________________________________________\n",
      "dense_4 (Dense)              (None, 64)                4160      \n",
      "_________________________________________________________________\n",
      "dense_5 (Dense)              (None, 1)                 65        \n",
      "=================================================================\n",
      "Total params: 10,347\n",
      "Trainable params: 10,347\n",
      "Non-trainable params: 0\n",
      "_________________________________________________________________\n"
     ]
    }
   ],
   "source": [
    "modelo_dl.summary()"
   ]
  },
  {
   "cell_type": "code",
   "execution_count": 13,
   "metadata": {
    "scrolled": true
   },
   "outputs": [
    {
     "name": "stdout",
     "output_type": "stream",
     "text": [
      "Train on 13612 samples, validate on 3403 samples\n",
      "Epoch 1/1000\n",
      "13612/13612 [==============================] - 1s 106us/step - loss: 0.6015 - acc: 0.6761 - f1_m: 0.0010 - precision_m: 6.9553e-04 - recall_m: 0.0019 - val_loss: 0.5770 - val_acc: 0.6768 - val_f1_m: 0.0000e+00 - val_precision_m: 0.0000e+00 - val_recall_m: 0.0000e+00\n",
      "Epoch 2/1000\n",
      "13612/13612 [==============================] - 1s 53us/step - loss: 0.5817 - acc: 0.6769 - f1_m: 0.0000e+00 - precision_m: 0.0000e+00 - recall_m: 0.0000e+00 - val_loss: 0.5657 - val_acc: 0.6768 - val_f1_m: 0.0000e+00 - val_precision_m: 0.0000e+00 - val_recall_m: 0.0000e+00\n",
      "Epoch 3/1000\n",
      "13612/13612 [==============================] - 1s 46us/step - loss: 0.5665 - acc: 0.6784 - f1_m: 0.1329 - precision_m: 0.1879 - recall_m: 0.1159 - val_loss: 0.5555 - val_acc: 0.6888 - val_f1_m: 0.4388 - val_precision_m: 0.5195 - val_recall_m: 0.3970\n",
      "Epoch 4/1000\n",
      "13612/13612 [==============================] - 1s 52us/step - loss: 0.5508 - acc: 0.6943 - f1_m: 0.4208 - precision_m: 0.5410 - recall_m: 0.3783 - val_loss: 0.5398 - val_acc: 0.6950 - val_f1_m: 0.4098 - val_precision_m: 0.5439 - val_recall_m: 0.3488\n",
      "Epoch 5/1000\n",
      "13612/13612 [==============================] - 1s 54us/step - loss: 0.5403 - acc: 0.6987 - f1_m: 0.4488 - precision_m: 0.5503 - recall_m: 0.4097 - val_loss: 0.5382 - val_acc: 0.6929 - val_f1_m: 0.4311 - val_precision_m: 0.5292 - val_recall_m: 0.3856\n",
      "Epoch 6/1000\n",
      "13612/13612 [==============================] - 1s 49us/step - loss: 0.5344 - acc: 0.7013 - f1_m: 0.4658 - precision_m: 0.5475 - recall_m: 0.4367 - val_loss: 0.5384 - val_acc: 0.6967 - val_f1_m: 0.4208 - val_precision_m: 0.5382 - val_recall_m: 0.3618\n",
      "Epoch 7/1000\n",
      "13612/13612 [==============================] - 1s 53us/step - loss: 0.5307 - acc: 0.7039 - f1_m: 0.4633 - precision_m: 0.5632 - recall_m: 0.4291 - val_loss: 0.5292 - val_acc: 0.6967 - val_f1_m: 0.4689 - val_precision_m: 0.5427 - val_recall_m: 0.4362\n",
      "Epoch 8/1000\n",
      "13612/13612 [==============================] - 1s 47us/step - loss: 0.5246 - acc: 0.7055 - f1_m: 0.4717 - precision_m: 0.5547 - recall_m: 0.4404 - val_loss: 0.5281 - val_acc: 0.6991 - val_f1_m: 0.5125 - val_precision_m: 0.5405 - val_recall_m: 0.5103\n",
      "Epoch 9/1000\n",
      "13612/13612 [==============================] - 1s 45us/step - loss: 0.5188 - acc: 0.7081 - f1_m: 0.4895 - precision_m: 0.5502 - recall_m: 0.4666 - val_loss: 0.5223 - val_acc: 0.6967 - val_f1_m: 0.5289 - val_precision_m: 0.5351 - val_recall_m: 0.5490\n",
      "Epoch 10/1000\n",
      "13612/13612 [==============================] - 1s 44us/step - loss: 0.5143 - acc: 0.7105 - f1_m: 0.4988 - precision_m: 0.5635 - recall_m: 0.4776 - val_loss: 0.5176 - val_acc: 0.7123 - val_f1_m: 0.4707 - val_precision_m: 0.5867 - val_recall_m: 0.4136\n",
      "Epoch 11/1000\n",
      "13612/13612 [==============================] - 1s 48us/step - loss: 0.5053 - acc: 0.7186 - f1_m: 0.5226 - precision_m: 0.5741 - recall_m: 0.5087 - val_loss: 0.5075 - val_acc: 0.7232 - val_f1_m: 0.5180 - val_precision_m: 0.6016 - val_recall_m: 0.4782\n",
      "Epoch 12/1000\n",
      "13612/13612 [==============================] - 1s 50us/step - loss: 0.4985 - acc: 0.7169 - f1_m: 0.5333 - precision_m: 0.5659 - recall_m: 0.5363 - val_loss: 0.5139 - val_acc: 0.7158 - val_f1_m: 0.4968 - val_precision_m: 0.5892 - val_recall_m: 0.4531\n",
      "Epoch 13/1000\n",
      "13612/13612 [==============================] - 1s 46us/step - loss: 0.4897 - acc: 0.7217 - f1_m: 0.5611 - precision_m: 0.5653 - recall_m: 0.5843 - val_loss: 0.4897 - val_acc: 0.7211 - val_f1_m: 0.5734 - val_precision_m: 0.5754 - val_recall_m: 0.5977\n",
      "Epoch 14/1000\n",
      "13612/13612 [==============================] - 1s 48us/step - loss: 0.4791 - acc: 0.7292 - f1_m: 0.5814 - precision_m: 0.5750 - recall_m: 0.6191 - val_loss: 0.4827 - val_acc: 0.7294 - val_f1_m: 0.5947 - val_precision_m: 0.5791 - val_recall_m: 0.6341\n",
      "Epoch 15/1000\n",
      "13612/13612 [==============================] - 1s 45us/step - loss: 0.4713 - acc: 0.7312 - f1_m: 0.5882 - precision_m: 0.5786 - recall_m: 0.6297 - val_loss: 0.4700 - val_acc: 0.7388 - val_f1_m: 0.6094 - val_precision_m: 0.5917 - val_recall_m: 0.6554\n",
      "Epoch 16/1000\n",
      "13612/13612 [==============================] - 1s 44us/step - loss: 0.4625 - acc: 0.7371 - f1_m: 0.6027 - precision_m: 0.5826 - recall_m: 0.6571 - val_loss: 0.4692 - val_acc: 0.7388 - val_f1_m: 0.6099 - val_precision_m: 0.5916 - val_recall_m: 0.6531\n",
      "Epoch 17/1000\n",
      "13612/13612 [==============================] - 1s 47us/step - loss: 0.4562 - acc: 0.7423 - f1_m: 0.6244 - precision_m: 0.5856 - recall_m: 0.7017 - val_loss: 0.4569 - val_acc: 0.7370 - val_f1_m: 0.6381 - val_precision_m: 0.5769 - val_recall_m: 0.7410\n",
      "Epoch 18/1000\n",
      "13612/13612 [==============================] - 1s 48us/step - loss: 0.4465 - acc: 0.7452 - f1_m: 0.6372 - precision_m: 0.5877 - recall_m: 0.7287 - val_loss: 0.4642 - val_acc: 0.7367 - val_f1_m: 0.6031 - val_precision_m: 0.5904 - val_recall_m: 0.6381\n",
      "Epoch 19/1000\n",
      "13612/13612 [==============================] - 1s 48us/step - loss: 0.4401 - acc: 0.7495 - f1_m: 0.6497 - precision_m: 0.5871 - recall_m: 0.7543 - val_loss: 0.4630 - val_acc: 0.7426 - val_f1_m: 0.5862 - val_precision_m: 0.6156 - val_recall_m: 0.5798\n",
      "Epoch 20/1000\n",
      "13612/13612 [==============================] - 1s 49us/step - loss: 0.4351 - acc: 0.7524 - f1_m: 0.6524 - precision_m: 0.5920 - recall_m: 0.7549 - val_loss: 0.4338 - val_acc: 0.7461 - val_f1_m: 0.6526 - val_precision_m: 0.5852 - val_recall_m: 0.7623\n",
      "Epoch 21/1000\n",
      "13612/13612 [==============================] - 1s 47us/step - loss: 0.4325 - acc: 0.7536 - f1_m: 0.6671 - precision_m: 0.5887 - recall_m: 0.7981 - val_loss: 0.4398 - val_acc: 0.7482 - val_f1_m: 0.6252 - val_precision_m: 0.6016 - val_recall_m: 0.6716\n",
      "Epoch 22/1000\n",
      "13612/13612 [==============================] - 1s 47us/step - loss: 0.4250 - acc: 0.7599 - f1_m: 0.6726 - precision_m: 0.5966 - recall_m: 0.8025 - val_loss: 0.4333 - val_acc: 0.7514 - val_f1_m: 0.6686 - val_precision_m: 0.5845 - val_recall_m: 0.8059\n",
      "Epoch 23/1000\n",
      "13612/13612 [==============================] - 1s 47us/step - loss: 0.4197 - acc: 0.7590 - f1_m: 0.6764 - precision_m: 0.5897 - recall_m: 0.8196 - val_loss: 0.4242 - val_acc: 0.7561 - val_f1_m: 0.6550 - val_precision_m: 0.5992 - val_recall_m: 0.7450\n",
      "Epoch 24/1000\n",
      "13612/13612 [==============================] - 1s 48us/step - loss: 0.4166 - acc: 0.7598 - f1_m: 0.6774 - precision_m: 0.5911 - recall_m: 0.8232 - val_loss: 0.4246 - val_acc: 0.7590 - val_f1_m: 0.6730 - val_precision_m: 0.5945 - val_recall_m: 0.7983\n",
      "Epoch 25/1000\n",
      "13612/13612 [==============================] - 1s 66us/step - loss: 0.4150 - acc: 0.7623 - f1_m: 0.6848 - precision_m: 0.5942 - recall_m: 0.8366 - val_loss: 0.4136 - val_acc: 0.7629 - val_f1_m: 0.6771 - val_precision_m: 0.5958 - val_recall_m: 0.8067\n",
      "Epoch 26/1000\n",
      "13612/13612 [==============================] - 1s 74us/step - loss: 0.4113 - acc: 0.7628 - f1_m: 0.6898 - precision_m: 0.5947 - recall_m: 0.8486 - val_loss: 0.4408 - val_acc: 0.7599 - val_f1_m: 0.6659 - val_precision_m: 0.6007 - val_recall_m: 0.7672\n",
      "Epoch 27/1000\n",
      "13612/13612 [==============================] - 1s 52us/step - loss: 0.4107 - acc: 0.7659 - f1_m: 0.6972 - precision_m: 0.5984 - recall_m: 0.8603 - val_loss: 0.4109 - val_acc: 0.7676 - val_f1_m: 0.6908 - val_precision_m: 0.6003 - val_recall_m: 0.8355\n",
      "Epoch 28/1000\n",
      "13612/13612 [==============================] - 1s 48us/step - loss: 0.4091 - acc: 0.7657 - f1_m: 0.6968 - precision_m: 0.5944 - recall_m: 0.8666 - val_loss: 0.4086 - val_acc: 0.7652 - val_f1_m: 0.6890 - val_precision_m: 0.5964 - val_recall_m: 0.8373\n",
      "Epoch 29/1000\n",
      "13612/13612 [==============================] - 1s 46us/step - loss: 0.4052 - acc: 0.7685 - f1_m: 0.6974 - precision_m: 0.5957 - recall_m: 0.8668 - val_loss: 0.4066 - val_acc: 0.7658 - val_f1_m: 0.6984 - val_precision_m: 0.5924 - val_recall_m: 0.8720\n",
      "Epoch 30/1000\n",
      "13612/13612 [==============================] - 1s 46us/step - loss: 0.4050 - acc: 0.7683 - f1_m: 0.6967 - precision_m: 0.5969 - recall_m: 0.8660 - val_loss: 0.4050 - val_acc: 0.7714 - val_f1_m: 0.6843 - val_precision_m: 0.6107 - val_recall_m: 0.7973\n",
      "Epoch 31/1000\n",
      "13612/13612 [==============================] - 1s 47us/step - loss: 0.4028 - acc: 0.7679 - f1_m: 0.6978 - precision_m: 0.5992 - recall_m: 0.8628 - val_loss: 0.4101 - val_acc: 0.7670 - val_f1_m: 0.7010 - val_precision_m: 0.5927 - val_recall_m: 0.8826\n"
     ]
    },
    {
     "name": "stdout",
     "output_type": "stream",
     "text": [
      "Epoch 32/1000\n",
      "13612/13612 [==============================] - 1s 47us/step - loss: 0.4015 - acc: 0.7704 - f1_m: 0.7041 - precision_m: 0.5993 - recall_m: 0.8805 - val_loss: 0.4135 - val_acc: 0.7652 - val_f1_m: 0.6731 - val_precision_m: 0.6049 - val_recall_m: 0.7795\n",
      "Epoch 33/1000\n",
      "13612/13612 [==============================] - 1s 46us/step - loss: 0.3984 - acc: 0.7721 - f1_m: 0.7055 - precision_m: 0.6007 - recall_m: 0.8833 - val_loss: 0.4117 - val_acc: 0.7676 - val_f1_m: 0.6898 - val_precision_m: 0.5988 - val_recall_m: 0.8322\n",
      "Epoch 34/1000\n",
      "13612/13612 [==============================] - 1s 47us/step - loss: 0.3996 - acc: 0.7722 - f1_m: 0.7029 - precision_m: 0.5978 - recall_m: 0.8770 - val_loss: 0.3933 - val_acc: 0.7764 - val_f1_m: 0.7102 - val_precision_m: 0.6070 - val_recall_m: 0.8766\n",
      "Epoch 35/1000\n",
      "13612/13612 [==============================] - 1s 49us/step - loss: 0.3999 - acc: 0.7705 - f1_m: 0.7028 - precision_m: 0.5972 - recall_m: 0.8807 - val_loss: 0.4147 - val_acc: 0.7629 - val_f1_m: 0.6697 - val_precision_m: 0.6051 - val_recall_m: 0.7705\n",
      "Epoch 36/1000\n",
      "13612/13612 [==============================] - 1s 49us/step - loss: 0.3957 - acc: 0.7717 - f1_m: 0.7061 - precision_m: 0.6001 - recall_m: 0.8835 - val_loss: 0.4047 - val_acc: 0.7646 - val_f1_m: 0.6829 - val_precision_m: 0.5980 - val_recall_m: 0.8181\n",
      "Epoch 37/1000\n",
      "13612/13612 [==============================] - 1s 45us/step - loss: 0.3942 - acc: 0.7735 - f1_m: 0.7088 - precision_m: 0.6012 - recall_m: 0.8882 - val_loss: 0.4033 - val_acc: 0.7705 - val_f1_m: 0.6993 - val_precision_m: 0.6008 - val_recall_m: 0.8583\n",
      "Epoch 38/1000\n",
      "13612/13612 [==============================] - 1s 45us/step - loss: 0.3966 - acc: 0.7716 - f1_m: 0.7075 - precision_m: 0.5986 - recall_m: 0.8920 - val_loss: 0.4132 - val_acc: 0.7652 - val_f1_m: 0.6671 - val_precision_m: 0.6109 - val_recall_m: 0.7542\n",
      "Epoch 39/1000\n",
      "13612/13612 [==============================] - 1s 47us/step - loss: 0.3929 - acc: 0.7751 - f1_m: 0.7090 - precision_m: 0.6022 - recall_m: 0.8889 - val_loss: 0.4012 - val_acc: 0.7699 - val_f1_m: 0.7022 - val_precision_m: 0.6001 - val_recall_m: 0.8698\n",
      "Epoch 00039: early stopping\n"
     ]
    },
    {
     "data": {
      "text/plain": [
       "<keras.callbacks.callbacks.History at 0x7fd3dc544d10>"
      ]
     },
     "execution_count": 13,
     "metadata": {},
     "output_type": "execute_result"
    }
   ],
   "source": [
    "# Treinamento do modelo\n",
    "modelo_dl.fit(X_treino, y_treino, \n",
    "              validation_data=(X_teste, y_teste), \n",
    "              epochs=EPOCH, \n",
    "              verbose=1, \n",
    "              shuffle=True, \n",
    "              callbacks=[es])"
   ]
  },
  {
   "cell_type": "code",
   "execution_count": 14,
   "metadata": {},
   "outputs": [
    {
     "name": "stdout",
     "output_type": "stream",
     "text": [
      "Treino - ACC 0.781, F1 0.721\n",
      "Teste - ACC 0.770, F1 0.702\n"
     ]
    }
   ],
   "source": [
    "# validação do modelo em Treino\n",
    "loss, accuracy, f1_score, precision, recall = modelo_dl.evaluate(X_treino, y_treino, verbose=0)\n",
    "print('Treino - ACC %.3f, F1 %.3f' % (accuracy, f1_score))\n",
    "\n",
    "# validação do modelo em Teste\n",
    "loss, accuracy, f1_score, precision, recall = modelo_dl.evaluate(X_teste, y_teste, verbose=0)\n",
    "print('Teste - ACC %.3f, F1 %.3f' % (accuracy, f1_score))"
   ]
  },
  {
   "cell_type": "code",
   "execution_count": 15,
   "metadata": {},
   "outputs": [],
   "source": [
    "# Realizando as previsões com dados de teste\n",
    "y_pred_probs   = modelo_dl.predict(X_teste, verbose=0)\n",
    "\n",
    "# Converte as probabilidades em classe\n",
    "y_pred_probs = (y_pred_probs > 0.5)\n",
    "\n",
    "# Agora convertemos os valores booleanos em classe binária, 0 ou 1\n",
    "y_pred_probs = np.where(y_pred_probs == 'True', 1, y_pred_probs)"
   ]
  },
  {
   "cell_type": "code",
   "execution_count": 16,
   "metadata": {},
   "outputs": [
    {
     "name": "stdout",
     "output_type": "stream",
     "text": [
      "[[1664  639]\n",
      " [ 144  956]]\n",
      "\n",
      "Acurácia :  0.7699089039083162\n",
      "Sensibilidade : 0.8690909090909091\n",
      "Especificidade : 0.7225358228397742\n"
     ]
    }
   ],
   "source": [
    "# Cria e imprime a matriz de confusão\n",
    "conf_matriz_dl = confusion_matrix(y_teste, y_pred_probs)\n",
    "print(conf_matriz_dl)\n",
    "\n",
    "# Calcula o total \n",
    "total1 = sum(sum(conf_matriz_dl))\n",
    "\n",
    "# Calcula a acurácia\n",
    "accuracy_dl = (conf_matriz_dl[0,0] + conf_matriz_dl[1,1]) / total1\n",
    "    \n",
    "# Calcula especificidade e sensibilidade\n",
    "speci_dl = conf_matriz_dl[0,0] / (conf_matriz_dl[0,0] + conf_matriz_dl[0,1])\n",
    "sensi_dl = conf_matriz_dl[1,1] / (conf_matriz_dl[1,0] + conf_matriz_dl[1,1])\n",
    "\n",
    "# Print\n",
    "print('\\nAcurácia : ', accuracy_dl)\n",
    "print('Sensibilidade :', sensi_dl)\n",
    "print('Especificidade :', speci_dl)"
   ]
  },
  {
   "cell_type": "code",
   "execution_count": 17,
   "metadata": {},
   "outputs": [
    {
     "name": "stdout",
     "output_type": "stream",
     "text": [
      "              precision    recall  f1-score   support\n",
      "\n",
      "           0       0.92      0.72      0.81      2303\n",
      "           1       0.60      0.87      0.71      1100\n",
      "\n",
      "    accuracy                           0.77      3403\n",
      "   macro avg       0.76      0.80      0.76      3403\n",
      "weighted avg       0.82      0.77      0.78      3403\n",
      "\n"
     ]
    }
   ],
   "source": [
    "# Relatório de Classificação\n",
    "print(classification_report(y_teste, y_pred_probs))"
   ]
  },
  {
   "cell_type": "markdown",
   "metadata": {},
   "source": [
    "### Com Balanceamento dos dados"
   ]
  },
  {
   "cell_type": "code",
   "execution_count": 18,
   "metadata": {},
   "outputs": [],
   "source": [
    "# Aplicando a funcao SMOTE\n",
    "sm = SMOTE(random_state=0)\n",
    "X_treino_bal, y_treino_bal = sm.fit_sample(X_treino, y_treino)"
   ]
  },
  {
   "cell_type": "code",
   "execution_count": 19,
   "metadata": {
    "scrolled": true
   },
   "outputs": [
    {
     "name": "stdout",
     "output_type": "stream",
     "text": [
      "Train on 18428 samples, validate on 3403 samples\n",
      "Epoch 1/1000\n",
      "18428/18428 [==============================] - 1s 62us/step - loss: 0.6465 - acc: 0.6148 - f1_m: 0.6551 - precision_m: 0.5971 - recall_m: 0.7578 - val_loss: 0.6062 - val_acc: 0.6330 - val_f1_m: 0.5725 - val_precision_m: 0.4621 - val_recall_m: 0.7866\n",
      "Epoch 2/1000\n",
      "18428/18428 [==============================] - 1s 45us/step - loss: 0.5906 - acc: 0.6792 - f1_m: 0.7054 - precision_m: 0.6468 - recall_m: 0.7953 - val_loss: 0.5561 - val_acc: 0.6624 - val_f1_m: 0.5909 - val_precision_m: 0.4876 - val_recall_m: 0.7814\n",
      "Epoch 3/1000\n",
      "18428/18428 [==============================] - 1s 45us/step - loss: 0.5641 - acc: 0.6958 - f1_m: 0.7291 - precision_m: 0.6523 - recall_m: 0.8434 - val_loss: 0.5485 - val_acc: 0.6665 - val_f1_m: 0.6057 - val_precision_m: 0.4915 - val_recall_m: 0.8223\n",
      "Epoch 4/1000\n",
      "18428/18428 [==============================] - 1s 45us/step - loss: 0.5448 - acc: 0.7104 - f1_m: 0.7411 - precision_m: 0.6656 - recall_m: 0.8518 - val_loss: 0.5431 - val_acc: 0.6644 - val_f1_m: 0.6104 - val_precision_m: 0.4900 - val_recall_m: 0.8405\n",
      "Epoch 5/1000\n",
      "18428/18428 [==============================] - 1s 45us/step - loss: 0.5267 - acc: 0.7242 - f1_m: 0.7538 - precision_m: 0.6751 - recall_m: 0.8706 - val_loss: 0.5119 - val_acc: 0.7014 - val_f1_m: 0.6429 - val_precision_m: 0.5244 - val_recall_m: 0.8596\n",
      "Epoch 6/1000\n",
      "18428/18428 [==============================] - 1s 45us/step - loss: 0.5110 - acc: 0.7399 - f1_m: 0.7695 - precision_m: 0.6867 - recall_m: 0.8907 - val_loss: 0.5066 - val_acc: 0.6950 - val_f1_m: 0.6347 - val_precision_m: 0.5179 - val_recall_m: 0.8470\n",
      "Epoch 7/1000\n",
      "18428/18428 [==============================] - 1s 45us/step - loss: 0.4962 - acc: 0.7494 - f1_m: 0.7765 - precision_m: 0.6931 - recall_m: 0.8978 - val_loss: 0.5118 - val_acc: 0.6832 - val_f1_m: 0.6415 - val_precision_m: 0.5064 - val_recall_m: 0.9066\n",
      "Epoch 8/1000\n",
      "18428/18428 [==============================] - 1s 44us/step - loss: 0.4866 - acc: 0.7593 - f1_m: 0.7865 - precision_m: 0.6982 - recall_m: 0.9141 - val_loss: 0.4916 - val_acc: 0.7126 - val_f1_m: 0.6672 - val_precision_m: 0.5347 - val_recall_m: 0.9190\n",
      "Epoch 9/1000\n",
      "18428/18428 [==============================] - 1s 45us/step - loss: 0.4678 - acc: 0.7705 - f1_m: 0.7966 - precision_m: 0.7066 - recall_m: 0.9270 - val_loss: 0.5291 - val_acc: 0.6809 - val_f1_m: 0.6580 - val_precision_m: 0.5040 - val_recall_m: 0.9794\n",
      "Epoch 10/1000\n",
      "18428/18428 [==============================] - 1s 44us/step - loss: 0.4571 - acc: 0.7807 - f1_m: 0.8055 - precision_m: 0.7125 - recall_m: 0.9393 - val_loss: 0.4685 - val_acc: 0.7279 - val_f1_m: 0.6861 - val_precision_m: 0.5472 - val_recall_m: 0.9494\n",
      "Epoch 11/1000\n",
      "18428/18428 [==============================] - 1s 46us/step - loss: 0.4449 - acc: 0.7889 - f1_m: 0.8117 - precision_m: 0.7219 - recall_m: 0.9381 - val_loss: 0.5201 - val_acc: 0.6967 - val_f1_m: 0.6738 - val_precision_m: 0.5174 - val_recall_m: 0.9977\n",
      "Epoch 12/1000\n",
      "18428/18428 [==============================] - 1s 45us/step - loss: 0.4397 - acc: 0.7939 - f1_m: 0.8167 - precision_m: 0.7266 - recall_m: 0.9452 - val_loss: 0.4404 - val_acc: 0.7520 - val_f1_m: 0.6991 - val_precision_m: 0.5740 - val_recall_m: 0.9200\n",
      "Epoch 13/1000\n",
      "18428/18428 [==============================] - 1s 45us/step - loss: 0.4367 - acc: 0.7961 - f1_m: 0.8182 - precision_m: 0.7290 - recall_m: 0.9431 - val_loss: 0.4611 - val_acc: 0.7438 - val_f1_m: 0.6962 - val_precision_m: 0.5608 - val_recall_m: 0.9409\n",
      "Epoch 14/1000\n",
      "18428/18428 [==============================] - 1s 42us/step - loss: 0.4325 - acc: 0.7989 - f1_m: 0.8209 - precision_m: 0.7317 - recall_m: 0.9443 - val_loss: 0.4317 - val_acc: 0.7673 - val_f1_m: 0.7100 - val_precision_m: 0.5938 - val_recall_m: 0.9071\n",
      "Epoch 15/1000\n",
      "18428/18428 [==============================] - 1s 42us/step - loss: 0.4293 - acc: 0.8019 - f1_m: 0.8239 - precision_m: 0.7343 - recall_m: 0.9491 - val_loss: 0.4635 - val_acc: 0.7388 - val_f1_m: 0.7018 - val_precision_m: 0.5552 - val_recall_m: 0.9825\n",
      "Epoch 16/1000\n",
      "18428/18428 [==============================] - 1s 42us/step - loss: 0.4284 - acc: 0.8019 - f1_m: 0.8242 - precision_m: 0.7331 - recall_m: 0.9521 - val_loss: 0.4497 - val_acc: 0.7611 - val_f1_m: 0.7151 - val_precision_m: 0.5794 - val_recall_m: 0.9607\n",
      "Epoch 17/1000\n",
      "18428/18428 [==============================] - 1s 49us/step - loss: 0.4244 - acc: 0.8048 - f1_m: 0.8241 - precision_m: 0.7369 - recall_m: 0.9451 - val_loss: 0.4274 - val_acc: 0.7690 - val_f1_m: 0.7191 - val_precision_m: 0.5900 - val_recall_m: 0.9444\n",
      "Epoch 18/1000\n",
      "18428/18428 [==============================] - 1s 48us/step - loss: 0.4267 - acc: 0.8045 - f1_m: 0.8260 - precision_m: 0.7365 - recall_m: 0.9506 - val_loss: 0.4514 - val_acc: 0.7479 - val_f1_m: 0.7044 - val_precision_m: 0.5637 - val_recall_m: 0.9630\n",
      "Epoch 19/1000\n",
      "18428/18428 [==============================] - 1s 49us/step - loss: 0.4216 - acc: 0.8063 - f1_m: 0.8269 - precision_m: 0.7364 - recall_m: 0.9530 - val_loss: 0.4339 - val_acc: 0.7535 - val_f1_m: 0.7048 - val_precision_m: 0.5710 - val_recall_m: 0.9454\n",
      "Epoch 20/1000\n",
      "18428/18428 [==============================] - 1s 42us/step - loss: 0.4229 - acc: 0.8061 - f1_m: 0.8255 - precision_m: 0.7359 - recall_m: 0.9510 - val_loss: 0.4623 - val_acc: 0.7411 - val_f1_m: 0.7019 - val_precision_m: 0.5574 - val_recall_m: 0.9752\n",
      "Epoch 21/1000\n",
      "18428/18428 [==============================] - 1s 43us/step - loss: 0.4201 - acc: 0.8058 - f1_m: 0.8270 - precision_m: 0.7372 - recall_m: 0.9532 - val_loss: 0.4135 - val_acc: 0.7717 - val_f1_m: 0.7031 - val_precision_m: 0.6013 - val_recall_m: 0.8690\n",
      "Epoch 22/1000\n",
      "18428/18428 [==============================] - 1s 42us/step - loss: 0.4193 - acc: 0.8078 - f1_m: 0.8284 - precision_m: 0.7392 - recall_m: 0.9515 - val_loss: 0.4283 - val_acc: 0.7655 - val_f1_m: 0.7111 - val_precision_m: 0.5856 - val_recall_m: 0.9278\n",
      "Epoch 23/1000\n",
      "18428/18428 [==============================] - 1s 42us/step - loss: 0.4198 - acc: 0.8081 - f1_m: 0.8275 - precision_m: 0.7400 - recall_m: 0.9487 - val_loss: 0.4526 - val_acc: 0.7517 - val_f1_m: 0.7083 - val_precision_m: 0.5675 - val_recall_m: 0.9684\n",
      "Epoch 24/1000\n",
      "18428/18428 [==============================] - 1s 43us/step - loss: 0.4195 - acc: 0.8082 - f1_m: 0.8288 - precision_m: 0.7405 - recall_m: 0.9522 - val_loss: 0.4310 - val_acc: 0.7658 - val_f1_m: 0.7133 - val_precision_m: 0.5875 - val_recall_m: 0.9327\n",
      "Epoch 25/1000\n",
      "18428/18428 [==============================] - 1s 46us/step - loss: 0.4166 - acc: 0.8110 - f1_m: 0.8300 - precision_m: 0.7426 - recall_m: 0.9504 - val_loss: 0.4357 - val_acc: 0.7614 - val_f1_m: 0.7127 - val_precision_m: 0.5784 - val_recall_m: 0.9516\n",
      "Epoch 26/1000\n",
      "18428/18428 [==============================] - 1s 46us/step - loss: 0.4157 - acc: 0.8103 - f1_m: 0.8301 - precision_m: 0.7418 - recall_m: 0.9525 - val_loss: 0.4229 - val_acc: 0.7681 - val_f1_m: 0.7167 - val_precision_m: 0.5908 - val_recall_m: 0.9366\n",
      "Epoch 00026: early stopping\n"
     ]
    },
    {
     "data": {
      "text/plain": [
       "<keras.callbacks.callbacks.History at 0x7fd3cc77e750>"
      ]
     },
     "execution_count": 19,
     "metadata": {},
     "output_type": "execute_result"
    }
   ],
   "source": [
    "# Cria o modelo\n",
    "modelo_dl_bal = Sequential()\n",
    "\n",
    "# Adiciona as camadas ocultas\n",
    "modelo_dl_bal.add(Dense(units = 26, kernel_initializer = 'uniform', activation = 'relu', input_dim = 8))\n",
    "modelo_dl_bal.add(Dense(units = 64, kernel_initializer = 'uniform', activation = 'relu'))\n",
    "modelo_dl_bal.add(Dense(units = 64, kernel_initializer = 'uniform', activation = 'relu'))\n",
    "modelo_dl_bal.add(Dense(units = 64, kernel_initializer = 'uniform', activation = 'relu'))\n",
    "modelo_dl_bal.add(Dense(units = 1, kernel_initializer = 'uniform', activation = 'sigmoid'))\n",
    "\n",
    "# Compila o modelo\n",
    "modelo_dl_bal.compile(optimizer='adam', loss='binary_crossentropy', metrics=['acc',f1_m,precision_m, recall_m])\n",
    "\n",
    "# Early stopping\n",
    "es = EarlyStopping(monitor='val_loss', mode='min', verbose=1, patience=5)\n",
    "\n",
    "# Treinamento do modelo\n",
    "modelo_dl_bal.fit(X_treino_bal, y_treino_bal, validation_data=(X_teste, y_teste), epochs=EPOCH, verbose=1, shuffle=True, callbacks=[es])"
   ]
  },
  {
   "cell_type": "code",
   "execution_count": 20,
   "metadata": {},
   "outputs": [
    {
     "name": "stdout",
     "output_type": "stream",
     "text": [
      "Treino - ACC 0.818, F1 0.790\n",
      "Teste - ACC 0.768, F1 0.717\n"
     ]
    }
   ],
   "source": [
    "# validação do modelo em Treino\n",
    "loss, accuracy, f1_score, precision, recall = modelo_dl_bal.evaluate(X_treino_bal, y_treino_bal, verbose=0)\n",
    "print('Treino - ACC %.3f, F1 %.3f' % (accuracy, f1_score))\n",
    "\n",
    "# validação do modelo em Teste\n",
    "loss, accuracy, f1_score, precision, recall = modelo_dl_bal.evaluate(X_teste, y_teste, verbose=0)\n",
    "print('Teste - ACC %.3f, F1 %.3f' % (accuracy, f1_score))"
   ]
  },
  {
   "cell_type": "code",
   "execution_count": 21,
   "metadata": {},
   "outputs": [],
   "source": [
    "# Realizando as previsões com dados de teste\n",
    "y_pred_probs   = modelo_dl_bal.predict(X_teste, verbose=0)\n",
    "\n",
    "# Converte as probabilidades em classe\n",
    "y_pred_probs = (y_pred_probs > 0.5)\n",
    "\n",
    "# Agora convertemos os valores booleanos em classe binária, 0 ou 1\n",
    "y_pred_probs = np.where(y_pred_probs == 'True', 1, y_pred_probs)"
   ]
  },
  {
   "cell_type": "code",
   "execution_count": 22,
   "metadata": {},
   "outputs": [
    {
     "name": "stdout",
     "output_type": "stream",
     "text": [
      "[[1586  717]\n",
      " [  72 1028]]\n",
      "\n",
      "Acurácia :  0.7681457537466941\n",
      "Sensibilidade : 0.9345454545454546\n",
      "Especificidade : 0.6886669561441597\n"
     ]
    }
   ],
   "source": [
    "# Cria e imprime a matriz de confusão\n",
    "conf_matriz_dl = confusion_matrix(y_teste, y_pred_probs)\n",
    "print(conf_matriz_dl)\n",
    "\n",
    "# Calcula o total \n",
    "total1 = sum(sum(conf_matriz_dl))\n",
    "\n",
    "# Calcula a acurácia\n",
    "accuracy_dl = (conf_matriz_dl[0,0] + conf_matriz_dl[1,1]) / total1\n",
    "    \n",
    "# Calcula especificidade e sensibilidade\n",
    "speci_dl = conf_matriz_dl[0,0] / (conf_matriz_dl[0,0] + conf_matriz_dl[0,1])\n",
    "sensi_dl = conf_matriz_dl[1,1] / (conf_matriz_dl[1,0] + conf_matriz_dl[1,1])\n",
    "\n",
    "# Print\n",
    "print('\\nAcurácia : ', accuracy_dl)\n",
    "print('Sensibilidade :', sensi_dl)\n",
    "print('Especificidade :', speci_dl)"
   ]
  },
  {
   "cell_type": "code",
   "execution_count": 23,
   "metadata": {},
   "outputs": [
    {
     "name": "stdout",
     "output_type": "stream",
     "text": [
      "              precision    recall  f1-score   support\n",
      "\n",
      "           0       0.96      0.69      0.80      2303\n",
      "           1       0.59      0.93      0.72      1100\n",
      "\n",
      "    accuracy                           0.77      3403\n",
      "   macro avg       0.77      0.81      0.76      3403\n",
      "weighted avg       0.84      0.77      0.78      3403\n",
      "\n"
     ]
    }
   ],
   "source": [
    "# Relatório de Classificação\n",
    "print(classification_report(y_teste, y_pred_probs))"
   ]
  },
  {
   "cell_type": "markdown",
   "metadata": {},
   "source": [
    "# Parte 05. Realizando novas previsões"
   ]
  },
  {
   "cell_type": "code",
   "execution_count": 24,
   "metadata": {},
   "outputs": [
    {
     "name": "stdout",
     "output_type": "stream",
     "text": [
      "Quantidade de registros e colunas:  (984, 13)\n"
     ]
    },
    {
     "data": {
      "text/html": [
       "<div>\n",
       "<style scoped>\n",
       "    .dataframe tbody tr th:only-of-type {\n",
       "        vertical-align: middle;\n",
       "    }\n",
       "\n",
       "    .dataframe tbody tr th {\n",
       "        vertical-align: top;\n",
       "    }\n",
       "\n",
       "    .dataframe thead th {\n",
       "        text-align: right;\n",
       "    }\n",
       "</style>\n",
       "<table border=\"1\" class=\"dataframe\">\n",
       "  <thead>\n",
       "    <tr style=\"text-align: right;\">\n",
       "      <th></th>\n",
       "      <th>Original_473</th>\n",
       "      <th>Original_269</th>\n",
       "      <th>Zero</th>\n",
       "      <th>Maçã-Verde</th>\n",
       "      <th>Tangerina</th>\n",
       "      <th>Citrus</th>\n",
       "      <th>Açaí-Guaraná</th>\n",
       "      <th>Pêssego</th>\n",
       "    </tr>\n",
       "  </thead>\n",
       "  <tbody>\n",
       "    <tr>\n",
       "      <th>0</th>\n",
       "      <td>22</td>\n",
       "      <td>65</td>\n",
       "      <td>22</td>\n",
       "      <td>14</td>\n",
       "      <td>3</td>\n",
       "      <td>26</td>\n",
       "      <td>43</td>\n",
       "      <td>18</td>\n",
       "    </tr>\n",
       "    <tr>\n",
       "      <th>1</th>\n",
       "      <td>11</td>\n",
       "      <td>56</td>\n",
       "      <td>16</td>\n",
       "      <td>14</td>\n",
       "      <td>43</td>\n",
       "      <td>20</td>\n",
       "      <td>37</td>\n",
       "      <td>15</td>\n",
       "    </tr>\n",
       "    <tr>\n",
       "      <th>2</th>\n",
       "      <td>86</td>\n",
       "      <td>51</td>\n",
       "      <td>8</td>\n",
       "      <td>11</td>\n",
       "      <td>41</td>\n",
       "      <td>20</td>\n",
       "      <td>35</td>\n",
       "      <td>12</td>\n",
       "    </tr>\n",
       "    <tr>\n",
       "      <th>3</th>\n",
       "      <td>76</td>\n",
       "      <td>47</td>\n",
       "      <td>65</td>\n",
       "      <td>11</td>\n",
       "      <td>37</td>\n",
       "      <td>14</td>\n",
       "      <td>32</td>\n",
       "      <td>10</td>\n",
       "    </tr>\n",
       "    <tr>\n",
       "      <th>4</th>\n",
       "      <td>68</td>\n",
       "      <td>42</td>\n",
       "      <td>60</td>\n",
       "      <td>6</td>\n",
       "      <td>35</td>\n",
       "      <td>13</td>\n",
       "      <td>26</td>\n",
       "      <td>5</td>\n",
       "    </tr>\n",
       "  </tbody>\n",
       "</table>\n",
       "</div>"
      ],
      "text/plain": [
       "   Original_473  Original_269  Zero  Maçã-Verde  Tangerina  Citrus  \\\n",
       "0            22            65    22          14          3      26   \n",
       "1            11            56    16          14         43      20   \n",
       "2            86            51     8          11         41      20   \n",
       "3            76            47    65          11         37      14   \n",
       "4            68            42    60           6         35      13   \n",
       "\n",
       "   Açaí-Guaraná  Pêssego  \n",
       "0            43       18  \n",
       "1            37       15  \n",
       "2            35       12  \n",
       "3            32       10  \n",
       "4            26        5  "
      ]
     },
     "execution_count": 24,
     "metadata": {},
     "output_type": "execute_result"
    }
   ],
   "source": [
    "# Carregando o dataset de testes \n",
    "teste  = pd.read_csv(r'to_be_scored.csv')\n",
    "print('Quantidade de registros e colunas: ',teste.shape)\n",
    "\n",
    "# Removendo colunas que não serão utilizadas no treinamento\n",
    "teste = teste.drop(['Tempo','Estação','Movimentação','LAT','LONG'], axis = 1)\n",
    "\n",
    "# Visualizando os primeiros registros\n",
    "teste.head()"
   ]
  },
  {
   "cell_type": "code",
   "execution_count": 25,
   "metadata": {},
   "outputs": [],
   "source": [
    "# Padronizando os dados (0 para a média, 1 para o desvio padrão)\n",
    "teste_scaler = StandardScaler().fit_transform(teste)\n",
    "\n",
    "# Realizando previsoes com dados de teste(usando modelo NAO BALANCEADO)\n",
    "y_pred_test = modelo_dl.predict(teste_scaler)\n",
    "\n",
    "# Converte as probabilidades em classe\n",
    "y_pred_test = (y_pred_test > 0.5)\n",
    "\n",
    "# Agora convertemos os valores booleanos em classe binária, 0 ou 1\n",
    "y_pred_test = np.where(y_pred_test == 'True', 1, y_pred_test)"
   ]
  },
  {
   "cell_type": "code",
   "execution_count": 26,
   "metadata": {},
   "outputs": [
    {
     "data": {
      "text/html": [
       "<div>\n",
       "<style scoped>\n",
       "    .dataframe tbody tr th:only-of-type {\n",
       "        vertical-align: middle;\n",
       "    }\n",
       "\n",
       "    .dataframe tbody tr th {\n",
       "        vertical-align: top;\n",
       "    }\n",
       "\n",
       "    .dataframe thead th {\n",
       "        text-align: right;\n",
       "    }\n",
       "</style>\n",
       "<table border=\"1\" class=\"dataframe\">\n",
       "  <thead>\n",
       "    <tr style=\"text-align: right;\">\n",
       "      <th></th>\n",
       "      <th>Original_473</th>\n",
       "      <th>Original_269</th>\n",
       "      <th>Zero</th>\n",
       "      <th>Maçã-Verde</th>\n",
       "      <th>Tangerina</th>\n",
       "      <th>Citrus</th>\n",
       "      <th>Açaí-Guaraná</th>\n",
       "      <th>Pêssego</th>\n",
       "      <th>TARGET</th>\n",
       "    </tr>\n",
       "  </thead>\n",
       "  <tbody>\n",
       "    <tr>\n",
       "      <th>979</th>\n",
       "      <td>34</td>\n",
       "      <td>65</td>\n",
       "      <td>28</td>\n",
       "      <td>17</td>\n",
       "      <td>33</td>\n",
       "      <td>27</td>\n",
       "      <td>6</td>\n",
       "      <td>2</td>\n",
       "      <td>REABASTECER</td>\n",
       "    </tr>\n",
       "    <tr>\n",
       "      <th>980</th>\n",
       "      <td>21</td>\n",
       "      <td>60</td>\n",
       "      <td>18</td>\n",
       "      <td>15</td>\n",
       "      <td>27</td>\n",
       "      <td>22</td>\n",
       "      <td>43</td>\n",
       "      <td>43</td>\n",
       "      <td>NORMAL</td>\n",
       "    </tr>\n",
       "    <tr>\n",
       "      <th>981</th>\n",
       "      <td>9</td>\n",
       "      <td>56</td>\n",
       "      <td>13</td>\n",
       "      <td>14</td>\n",
       "      <td>21</td>\n",
       "      <td>17</td>\n",
       "      <td>37</td>\n",
       "      <td>37</td>\n",
       "      <td>REABASTECER</td>\n",
       "    </tr>\n",
       "    <tr>\n",
       "      <th>982</th>\n",
       "      <td>86</td>\n",
       "      <td>49</td>\n",
       "      <td>7</td>\n",
       "      <td>14</td>\n",
       "      <td>17</td>\n",
       "      <td>12</td>\n",
       "      <td>33</td>\n",
       "      <td>33</td>\n",
       "      <td>REABASTECER</td>\n",
       "    </tr>\n",
       "    <tr>\n",
       "      <th>983</th>\n",
       "      <td>74</td>\n",
       "      <td>41</td>\n",
       "      <td>65</td>\n",
       "      <td>8</td>\n",
       "      <td>14</td>\n",
       "      <td>7</td>\n",
       "      <td>27</td>\n",
       "      <td>27</td>\n",
       "      <td>NORMAL</td>\n",
       "    </tr>\n",
       "  </tbody>\n",
       "</table>\n",
       "</div>"
      ],
      "text/plain": [
       "     Original_473  Original_269  Zero  Maçã-Verde  Tangerina  Citrus  \\\n",
       "979            34            65    28          17         33      27   \n",
       "980            21            60    18          15         27      22   \n",
       "981             9            56    13          14         21      17   \n",
       "982            86            49     7          14         17      12   \n",
       "983            74            41    65           8         14       7   \n",
       "\n",
       "     Açaí-Guaraná  Pêssego       TARGET  \n",
       "979             6        2  REABASTECER  \n",
       "980            43       43       NORMAL  \n",
       "981            37       37  REABASTECER  \n",
       "982            33       33  REABASTECER  \n",
       "983            27       27       NORMAL  "
      ]
     },
     "execution_count": 26,
     "metadata": {},
     "output_type": "execute_result"
    }
   ],
   "source": [
    "# Salvando na coluna target\n",
    "teste['TARGET'] = y_pred_test\n",
    "teste['TARGET'] = np.where(teste['TARGET'] == 0, 'NORMAL', 'REABASTECER')\n",
    "\n",
    "# Visualizando os ultimos registros\n",
    "teste.tail()"
   ]
  },
  {
   "cell_type": "code",
   "execution_count": 27,
   "metadata": {},
   "outputs": [
    {
     "data": {
      "text/html": [
       "<div>\n",
       "<style scoped>\n",
       "    .dataframe tbody tr th:only-of-type {\n",
       "        vertical-align: middle;\n",
       "    }\n",
       "\n",
       "    .dataframe tbody tr th {\n",
       "        vertical-align: top;\n",
       "    }\n",
       "\n",
       "    .dataframe thead th {\n",
       "        text-align: right;\n",
       "    }\n",
       "</style>\n",
       "<table border=\"1\" class=\"dataframe\">\n",
       "  <thead>\n",
       "    <tr style=\"text-align: right;\">\n",
       "      <th></th>\n",
       "      <th>TARGET</th>\n",
       "      <th>%</th>\n",
       "    </tr>\n",
       "  </thead>\n",
       "  <tbody>\n",
       "    <tr>\n",
       "      <th>NORMAL</th>\n",
       "      <td>509</td>\n",
       "      <td>51.728</td>\n",
       "    </tr>\n",
       "    <tr>\n",
       "      <th>REABASTECER</th>\n",
       "      <td>475</td>\n",
       "      <td>48.272</td>\n",
       "    </tr>\n",
       "  </tbody>\n",
       "</table>\n",
       "</div>"
      ],
      "text/plain": [
       "             TARGET       %\n",
       "NORMAL          509  51.728\n",
       "REABASTECER     475  48.272"
      ]
     },
     "execution_count": 27,
     "metadata": {},
     "output_type": "execute_result"
    },
    {
     "data": {
      "image/png": "[encoded data removed]",
      "text/plain": [
       "<Figure size 432x288 with 1 Axes>"
      ]
     },
     "metadata": {
      "needs_background": "light"
     },
     "output_type": "display_data"
    }
   ],
   "source": [
    "# Visualizando a distribuição das classes (variavel TARGET)\n",
    "pd.value_counts(teste['TARGET']).plot.bar()\n",
    "plt.title('TARGET histogram')\n",
    "plt.xlabel('TARGET')\n",
    "plt.ylabel('Frequency')\n",
    "\n",
    "# Visualizando um df com quantidade e percentual da variavel TARGET\n",
    "tmp = pd.DataFrame(teste['TARGET'].value_counts())\n",
    "tmp['%'] = round(100*tmp['TARGET']/tmp['TARGET'].sum(),3)\n",
    "tmp"
   ]
  },
  {
   "cell_type": "code",
   "execution_count": 28,
   "metadata": {},
   "outputs": [],
   "source": [
    "# Gravando resultado em csv\n",
    "teste.to_csv('results_mlp.csv',index=False)"
   ]
  },
  {
   "cell_type": "code",
   "execution_count": null,
   "metadata": {},
   "outputs": [],
   "source": []
  },
  {
   "cell_type": "code",
   "execution_count": null,
   "metadata": {},
   "outputs": [],
   "source": []
  },
  {
   "cell_type": "code",
   "execution_count": null,
   "metadata": {},
   "outputs": [],
   "source": []
  },
  {
   "cell_type": "raw",
   "metadata": {},
   "source": [
    "# === USANDO DEEP LEARNING\n",
    "===== SEED = 42 e test_size = 20% =====\n",
    "\n",
    "### Sem SMOTE\n",
    "Treino - ACC 0.783, F1 0.695\n",
    "Teste - ACC 0.764, F1 0.662\n",
    "\n",
    "### Com SMOTE\n",
    "Treino - ACC 0.808, F1 0.782\n",
    "Teste - ACC 0.761, F1 0.714\n",
    "\n",
    "\n",
    "# === USANDO XGB OTIMIZADO\n",
    "===== SEED = 42 e test_size = 20% =====\n",
    "\n",
    "### Sem SMOTE\n",
    "Treino - ACC 0.783, F1 0.695\n",
    "Teste - ACC 0.764, F1 0.662\n",
    "\n",
    "### Com SMOTE\n",
    "Treino - ACC 0.808, F1 0.782\n",
    "Teste - ACC 0.761, F1 0.714\n",
    "\n",
    "\n",
    "\n",
    "================= USANDO DEEP LEARNING =================\n",
    "\n",
    "              precision    recall  f1-score   support\n",
    "\n",
    "           0       0.96      0.69      0.80      2303\n",
    "           1       0.59      0.93      0.72      1100\n",
    "\n",
    "    accuracy                           0.77      3403\n",
    "   macro avg       0.77      0.81      0.76      3403\n",
    "weighted avg       0.84      0.77      0.78      3403\n",
    "\n",
    "\n",
    "\n",
    "================= USANDO BOOSTING OTIMIZADO V1  =============\n",
    "\n",
    "              precision    recall  f1-score   support\n",
    "\n",
    "           0       0.95      0.72      0.82      2303\n",
    "           1       0.61      0.91      0.73      1100\n",
    "\n",
    "    accuracy                           0.78      3403\n",
    "   macro avg       0.78      0.82      0.77      3403\n",
    "weighted avg       0.84      0.78      0.79      3403\n",
    "\n",
    "\n",
    "================= USANDO BOOSTING OTIMIZADO V2 =============\n",
    "\n",
    "              precision    recall  f1-score   support\n",
    "\n",
    "           0       1.00      0.69      0.82      2303\n",
    "           1       0.61      1.00      0.76      1100\n",
    "\n",
    "    accuracy                           0.79      3403\n",
    "   macro avg       0.80      0.85      0.79      3403\n",
    "weighted avg       0.87      0.79      0.80      3403"
   ]
  }
 ],
 "metadata": {
  "kernelspec": {
   "display_name": "Python 3",
   "language": "python",
   "name": "python3"
  },
  "language_info": {
   "codemirror_mode": {
    "name": "ipython",
    "version": 3
   },
   "file_extension": ".py",
   "mimetype": "text/x-python",
   "name": "python",
   "nbconvert_exporter": "python",
   "pygments_lexer": "ipython3",
   "version": "3.7.8"
  }
 },
 "nbformat": 4,
 "nbformat_minor": 1
}
