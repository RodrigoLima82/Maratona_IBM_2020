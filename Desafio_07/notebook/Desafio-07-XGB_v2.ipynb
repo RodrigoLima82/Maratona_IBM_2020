{
 "cells": [
  {
   "cell_type": "markdown",
   "metadata": {},
   "source": [
    "# MARATONA BEHIND THE CODE 2020\n",
    "\n",
    "## DESAFIO 7: TNT\n",
    "\n",
    "## Testes com modelo XGBoost Otimizado"
   ]
  },
  {
   "cell_type": "markdown",
   "metadata": {},
   "source": [
    "# Parte 01. Importando as bibliotecas"
   ]
  },
  {
   "cell_type": "code",
   "execution_count": 1,
   "metadata": {},
   "outputs": [],
   "source": [
    "# Pacotes padrao\n",
    "import pandas as pd\n",
    "import numpy as np\n",
    "import seaborn as sns\n",
    "import matplotlib.pylab as plt\n",
    "%matplotlib inline\n",
    "\n",
    "# Pacote do sklearn\n",
    "from sklearn.model_selection import train_test_split, KFold\n",
    "from sklearn.metrics import accuracy_score, confusion_matrix, classification_report, precision_score\n",
    "from sklearn.metrics import roc_auc_score, recall_score\n",
    "from sklearn.preprocessing import StandardScaler, MinMaxScaler\n",
    "\n",
    "# Pacote ML\n",
    "from xgboost import XGBClassifier\n",
    "import xgboost as xgb\n",
    "\n",
    "# Pacote para balanceamento dos dados\n",
    "from imblearn.over_sampling import SMOTE\n",
    "\n",
    "# Pacote para hyperparametros\n",
    "import optuna\n",
    "import functools\n",
    "\n",
    "# Desativando warnings no jupyter\n",
    "import warnings\n",
    "warnings.filterwarnings('ignore')"
   ]
  },
  {
   "cell_type": "markdown",
   "metadata": {},
   "source": [
    "# Parte 02. Carregando o dataset de treino"
   ]
  },
  {
   "cell_type": "code",
   "execution_count": 2,
   "metadata": {},
   "outputs": [
    {
     "name": "stdout",
     "output_type": "stream",
     "text": [
      "Quantidade de registros e colunas:  (17015, 15)\n"
     ]
    },
    {
     "data": {
      "text/html": [
       "<div>\n",
       "<style scoped>\n",
       "    .dataframe tbody tr th:only-of-type {\n",
       "        vertical-align: middle;\n",
       "    }\n",
       "\n",
       "    .dataframe tbody tr th {\n",
       "        vertical-align: top;\n",
       "    }\n",
       "\n",
       "    .dataframe thead th {\n",
       "        text-align: right;\n",
       "    }\n",
       "</style>\n",
       "<table border=\"1\" class=\"dataframe\">\n",
       "  <thead>\n",
       "    <tr style=\"text-align: right;\">\n",
       "      <th></th>\n",
       "      <th>Tempo</th>\n",
       "      <th>Estacao</th>\n",
       "      <th>LAT</th>\n",
       "      <th>LONG</th>\n",
       "      <th>Movimentacao</th>\n",
       "      <th>Original_473</th>\n",
       "      <th>Original_269</th>\n",
       "      <th>Zero</th>\n",
       "      <th>Maca_Verde</th>\n",
       "      <th>Tangerina</th>\n",
       "      <th>Citrus</th>\n",
       "      <th>Acai_Guarana</th>\n",
       "      <th>Pessego</th>\n",
       "      <th>TARGET</th>\n",
       "      <th>row</th>\n",
       "    </tr>\n",
       "  </thead>\n",
       "  <tbody>\n",
       "    <tr>\n",
       "      <th>0</th>\n",
       "      <td>2019-12-30</td>\n",
       "      <td>Fradique Coutinho</td>\n",
       "      <td>-23.5661</td>\n",
       "      <td>-46.6841</td>\n",
       "      <td>35386</td>\n",
       "      <td>24</td>\n",
       "      <td>45</td>\n",
       "      <td>61</td>\n",
       "      <td>42</td>\n",
       "      <td>19</td>\n",
       "      <td>22</td>\n",
       "      <td>15</td>\n",
       "      <td>9</td>\n",
       "      <td>NORMAL</td>\n",
       "      <td>10800</td>\n",
       "    </tr>\n",
       "    <tr>\n",
       "      <th>1</th>\n",
       "      <td>2018-01-08</td>\n",
       "      <td>Luz</td>\n",
       "      <td>-23.5365</td>\n",
       "      <td>-46.6332</td>\n",
       "      <td>124806</td>\n",
       "      <td>15</td>\n",
       "      <td>10</td>\n",
       "      <td>10</td>\n",
       "      <td>29</td>\n",
       "      <td>10</td>\n",
       "      <td>25</td>\n",
       "      <td>14</td>\n",
       "      <td>13</td>\n",
       "      <td>NORMAL</td>\n",
       "      <td>10808</td>\n",
       "    </tr>\n",
       "    <tr>\n",
       "      <th>2</th>\n",
       "      <td>2018-04-17</td>\n",
       "      <td>Luz</td>\n",
       "      <td>-23.5365</td>\n",
       "      <td>-46.6332</td>\n",
       "      <td>125215</td>\n",
       "      <td>53</td>\n",
       "      <td>1</td>\n",
       "      <td>55</td>\n",
       "      <td>18</td>\n",
       "      <td>18</td>\n",
       "      <td>6</td>\n",
       "      <td>37</td>\n",
       "      <td>8</td>\n",
       "      <td>REABASTECER</td>\n",
       "      <td>10907</td>\n",
       "    </tr>\n",
       "    <tr>\n",
       "      <th>3</th>\n",
       "      <td>2018-07-18</td>\n",
       "      <td>Luz</td>\n",
       "      <td>-23.5365</td>\n",
       "      <td>-46.6332</td>\n",
       "      <td>126476</td>\n",
       "      <td>36</td>\n",
       "      <td>5</td>\n",
       "      <td>57</td>\n",
       "      <td>38</td>\n",
       "      <td>15</td>\n",
       "      <td>43</td>\n",
       "      <td>43</td>\n",
       "      <td>18</td>\n",
       "      <td>REABASTECER</td>\n",
       "      <td>10998</td>\n",
       "    </tr>\n",
       "    <tr>\n",
       "      <th>4</th>\n",
       "      <td>2018-08-28</td>\n",
       "      <td>Luz</td>\n",
       "      <td>-23.5365</td>\n",
       "      <td>-46.6332</td>\n",
       "      <td>125917</td>\n",
       "      <td>79</td>\n",
       "      <td>10</td>\n",
       "      <td>8</td>\n",
       "      <td>37</td>\n",
       "      <td>32</td>\n",
       "      <td>30</td>\n",
       "      <td>18</td>\n",
       "      <td>15</td>\n",
       "      <td>NORMAL</td>\n",
       "      <td>11038</td>\n",
       "    </tr>\n",
       "  </tbody>\n",
       "</table>\n",
       "</div>"
      ],
      "text/plain": [
       "        Tempo            Estacao      LAT     LONG  Movimentacao  \\\n",
       "0  2019-12-30  Fradique Coutinho -23.5661 -46.6841         35386   \n",
       "1  2018-01-08                Luz -23.5365 -46.6332        124806   \n",
       "2  2018-04-17                Luz -23.5365 -46.6332        125215   \n",
       "3  2018-07-18                Luz -23.5365 -46.6332        126476   \n",
       "4  2018-08-28                Luz -23.5365 -46.6332        125917   \n",
       "\n",
       "   Original_473  Original_269  Zero  Maca_Verde  Tangerina  Citrus  \\\n",
       "0            24            45    61          42         19      22   \n",
       "1            15            10    10          29         10      25   \n",
       "2            53             1    55          18         18       6   \n",
       "3            36             5    57          38         15      43   \n",
       "4            79            10     8          37         32      30   \n",
       "\n",
       "   Acai_Guarana  Pessego       TARGET    row  \n",
       "0            15        9       NORMAL  10800  \n",
       "1            14       13       NORMAL  10808  \n",
       "2            37        8  REABASTECER  10907  \n",
       "3            43       18  REABASTECER  10998  \n",
       "4            18       15       NORMAL  11038  "
      ]
     },
     "execution_count": 2,
     "metadata": {},
     "output_type": "execute_result"
    }
   ],
   "source": [
    "# Criando um dataframe a partir da lista de dados vindo do IoT e gravados no NoSQL\n",
    "treino = pd.read_csv(r'train_17015.csv')\n",
    "print('Quantidade de registros e colunas: ',treino.shape)\n",
    "treino.head()"
   ]
  },
  {
   "cell_type": "code",
   "execution_count": 3,
   "metadata": {
    "scrolled": true
   },
   "outputs": [
    {
     "name": "stdout",
     "output_type": "stream",
     "text": [
      "<class 'pandas.core.frame.DataFrame'>\n",
      "RangeIndex: 17015 entries, 0 to 17014\n",
      "Data columns (total 15 columns):\n",
      " #   Column        Non-Null Count  Dtype  \n",
      "---  ------        --------------  -----  \n",
      " 0   Tempo         16921 non-null  object \n",
      " 1   Estacao       17015 non-null  object \n",
      " 2   LAT           17015 non-null  float64\n",
      " 3   LONG          17015 non-null  float64\n",
      " 4   Movimentacao  17015 non-null  int64  \n",
      " 5   Original_473  17015 non-null  int64  \n",
      " 6   Original_269  17015 non-null  int64  \n",
      " 7   Zero          17015 non-null  int64  \n",
      " 8   Maca_Verde    17015 non-null  int64  \n",
      " 9   Tangerina     17015 non-null  int64  \n",
      " 10  Citrus        17015 non-null  int64  \n",
      " 11  Acai_Guarana  17015 non-null  int64  \n",
      " 12  Pessego       17015 non-null  int64  \n",
      " 13  TARGET        17015 non-null  object \n",
      " 14  row           17015 non-null  int64  \n",
      "dtypes: float64(2), int64(10), object(3)\n",
      "memory usage: 1.9+ MB\n"
     ]
    }
   ],
   "source": [
    "# Visualizando o tipo dos dados\n",
    "treino.info()"
   ]
  },
  {
   "cell_type": "code",
   "execution_count": 4,
   "metadata": {},
   "outputs": [
    {
     "data": {
      "text/html": [
       "<div>\n",
       "<style scoped>\n",
       "    .dataframe tbody tr th:only-of-type {\n",
       "        vertical-align: middle;\n",
       "    }\n",
       "\n",
       "    .dataframe tbody tr th {\n",
       "        vertical-align: top;\n",
       "    }\n",
       "\n",
       "    .dataframe thead th {\n",
       "        text-align: right;\n",
       "    }\n",
       "</style>\n",
       "<table border=\"1\" class=\"dataframe\">\n",
       "  <thead>\n",
       "    <tr style=\"text-align: right;\">\n",
       "      <th></th>\n",
       "      <th>TARGET</th>\n",
       "      <th>%</th>\n",
       "    </tr>\n",
       "  </thead>\n",
       "  <tbody>\n",
       "    <tr>\n",
       "      <th>NORMAL</th>\n",
       "      <td>11517</td>\n",
       "      <td>67.687</td>\n",
       "    </tr>\n",
       "    <tr>\n",
       "      <th>REABASTECER</th>\n",
       "      <td>5498</td>\n",
       "      <td>32.313</td>\n",
       "    </tr>\n",
       "  </tbody>\n",
       "</table>\n",
       "</div>"
      ],
      "text/plain": [
       "             TARGET       %\n",
       "NORMAL        11517  67.687\n",
       "REABASTECER    5498  32.313"
      ]
     },
     "execution_count": 4,
     "metadata": {},
     "output_type": "execute_result"
    },
    {
     "data": {
      "image/png": "[encoded data removed]",
      "text/plain": [
       "<Figure size 432x288 with 1 Axes>"
      ]
     },
     "metadata": {
      "needs_background": "light"
     },
     "output_type": "display_data"
    }
   ],
   "source": [
    "# Visualizando a distribuição das classes (variavel TARGET)\n",
    "pd.value_counts(treino['TARGET']).plot.bar()\n",
    "plt.title('TARGET histogram')\n",
    "plt.xlabel('TARGET')\n",
    "plt.ylabel('Frequency')\n",
    "\n",
    "# Visualizando um df com quantidade e percentual da variavel TARGET\n",
    "tmp = pd.DataFrame(treino['TARGET'].value_counts())\n",
    "tmp['%'] = round(100*tmp['TARGET']/tmp['TARGET'].sum(),3)\n",
    "tmp"
   ]
  },
  {
   "cell_type": "markdown",
   "metadata": {},
   "source": [
    "# Parte 03. Feature Engineering"
   ]
  },
  {
   "cell_type": "code",
   "execution_count": 5,
   "metadata": {},
   "outputs": [
    {
     "data": {
      "text/html": [
       "<div>\n",
       "<style scoped>\n",
       "    .dataframe tbody tr th:only-of-type {\n",
       "        vertical-align: middle;\n",
       "    }\n",
       "\n",
       "    .dataframe tbody tr th {\n",
       "        vertical-align: top;\n",
       "    }\n",
       "\n",
       "    .dataframe thead th {\n",
       "        text-align: right;\n",
       "    }\n",
       "</style>\n",
       "<table border=\"1\" class=\"dataframe\">\n",
       "  <thead>\n",
       "    <tr style=\"text-align: right;\">\n",
       "      <th></th>\n",
       "      <th>Original_473</th>\n",
       "      <th>Original_269</th>\n",
       "      <th>Zero</th>\n",
       "      <th>Maca_Verde</th>\n",
       "      <th>Tangerina</th>\n",
       "      <th>Citrus</th>\n",
       "      <th>Acai_Guarana</th>\n",
       "      <th>Pessego</th>\n",
       "      <th>TARGET</th>\n",
       "    </tr>\n",
       "  </thead>\n",
       "  <tbody>\n",
       "    <tr>\n",
       "      <th>0</th>\n",
       "      <td>24</td>\n",
       "      <td>45</td>\n",
       "      <td>61</td>\n",
       "      <td>42</td>\n",
       "      <td>19</td>\n",
       "      <td>22</td>\n",
       "      <td>15</td>\n",
       "      <td>9</td>\n",
       "      <td>NORMAL</td>\n",
       "    </tr>\n",
       "    <tr>\n",
       "      <th>1</th>\n",
       "      <td>15</td>\n",
       "      <td>10</td>\n",
       "      <td>10</td>\n",
       "      <td>29</td>\n",
       "      <td>10</td>\n",
       "      <td>25</td>\n",
       "      <td>14</td>\n",
       "      <td>13</td>\n",
       "      <td>NORMAL</td>\n",
       "    </tr>\n",
       "    <tr>\n",
       "      <th>2</th>\n",
       "      <td>53</td>\n",
       "      <td>1</td>\n",
       "      <td>55</td>\n",
       "      <td>18</td>\n",
       "      <td>18</td>\n",
       "      <td>6</td>\n",
       "      <td>37</td>\n",
       "      <td>8</td>\n",
       "      <td>REABASTECER</td>\n",
       "    </tr>\n",
       "    <tr>\n",
       "      <th>3</th>\n",
       "      <td>36</td>\n",
       "      <td>5</td>\n",
       "      <td>57</td>\n",
       "      <td>38</td>\n",
       "      <td>15</td>\n",
       "      <td>43</td>\n",
       "      <td>43</td>\n",
       "      <td>18</td>\n",
       "      <td>REABASTECER</td>\n",
       "    </tr>\n",
       "    <tr>\n",
       "      <th>4</th>\n",
       "      <td>79</td>\n",
       "      <td>10</td>\n",
       "      <td>8</td>\n",
       "      <td>37</td>\n",
       "      <td>32</td>\n",
       "      <td>30</td>\n",
       "      <td>18</td>\n",
       "      <td>15</td>\n",
       "      <td>NORMAL</td>\n",
       "    </tr>\n",
       "  </tbody>\n",
       "</table>\n",
       "</div>"
      ],
      "text/plain": [
       "   Original_473  Original_269  Zero  Maca_Verde  Tangerina  Citrus  \\\n",
       "0            24            45    61          42         19      22   \n",
       "1            15            10    10          29         10      25   \n",
       "2            53             1    55          18         18       6   \n",
       "3            36             5    57          38         15      43   \n",
       "4            79            10     8          37         32      30   \n",
       "\n",
       "   Acai_Guarana  Pessego       TARGET  \n",
       "0            15        9       NORMAL  \n",
       "1            14       13       NORMAL  \n",
       "2            37        8  REABASTECER  \n",
       "3            43       18  REABASTECER  \n",
       "4            18       15       NORMAL  "
      ]
     },
     "execution_count": 5,
     "metadata": {},
     "output_type": "execute_result"
    }
   ],
   "source": [
    "# Removendo colunas que não serão utilizadas no treinamento\n",
    "treino = treino.drop(['Tempo','Estacao','Movimentacao','LAT','LONG', 'row'], axis = 1)\n",
    "\n",
    "# Converte colunas para numerico\n",
    "treino = treino.apply(pd.to_numeric, errors='ignore')\n",
    "\n",
    "# Visualizando os primeiros registros\n",
    "treino.head()"
   ]
  },
  {
   "cell_type": "markdown",
   "metadata": {},
   "source": [
    "# Parte 04. Modelagem Preditiva\n",
    "> - Nesta fase estarei construindo os modelos preditivos\n",
    "> - Vou utilizar o modelo XGB para treinamento"
   ]
  },
  {
   "cell_type": "code",
   "execution_count": 44,
   "metadata": {},
   "outputs": [],
   "source": [
    "# Definindo alguns parametros\n",
    "SEED  = 42"
   ]
  },
  {
   "cell_type": "code",
   "execution_count": 7,
   "metadata": {},
   "outputs": [],
   "source": [
    "from sklearn.model_selection import StratifiedShuffleSplit\n",
    "\n",
    "#### ***** Função para criar os dados de treino e teste/validação utilizando amostragem estratificada:\n",
    "####\n",
    "def train_test_split_strat(data, target, n_splits=1, test_size=0.2, random_state=42):\n",
    "    # Criando a instância:\n",
    "    split = StratifiedShuffleSplit(n_splits=n_splits, test_size=test_size, random_state=random_state)\n",
    "\n",
    "    # Criando os datasets de treino e teste utilizando amostragem estratificada:\n",
    "    for train_index, test_index in split.split(data, data[target]):\n",
    "        strat_train_set = data.loc[train_index]\n",
    "        strat_test_set = data.loc[test_index]\n",
    "\n",
    "    # Reset no índice do dataset de treino:\n",
    "    strat_train_set.reset_index(drop=True, inplace=True)\n",
    "\n",
    "    # Reset no índice do dataset de teste:\n",
    "    strat_test_set.reset_index(drop=True, inplace=True)\n",
    "\n",
    "    # Definição das colunas que serão features (variáveis preditoras):\n",
    "    features = list(data.columns) # cria uma lista com todas as variáveis do dataset.\n",
    "    features.remove(target) # remove a variável target.\n",
    "\n",
    "    # Criação dos dados de treino:\n",
    "    X_train = strat_train_set[features]\n",
    "    y_train = strat_train_set[target]\n",
    "\n",
    "    # Criação dos dados de teste:\n",
    "    X_test = strat_test_set[features]\n",
    "    y_test = strat_test_set[target]\n",
    "    \n",
    "    # Mostrando o resultado (número de observações em cada dataset):\n",
    "    print(len(strat_train_set), \"train +\", len(strat_test_set), \"test/valid\", \"=\", (len(strat_train_set)+len(strat_test_set)),\n",
    "          \"total\")\n",
    "    \n",
    "    y_train = y_train.astype(\"category\").cat.codes\n",
    "    y_test = y_test.astype(\"category\").cat.codes\n",
    "    \n",
    "    \n",
    "    X_train = StandardScaler().fit_transform(X_train)\n",
    "    X_test = StandardScaler().fit_transform(X_test)\n",
    "    \n",
    "    # Retorna os dados de treino e teste:\n",
    "    return (X_train, y_train, X_test, y_test)\n",
    "    "
   ]
  },
  {
   "cell_type": "code",
   "execution_count": 8,
   "metadata": {},
   "outputs": [
    {
     "name": "stdout",
     "output_type": "stream",
     "text": [
      "13612 train + 3403 test/valid = 17015 total\n"
     ]
    }
   ],
   "source": [
    "# Split dos dados\n",
    "X_treino, y_treino, X_teste, y_teste = train_test_split_strat(treino, 'TARGET', test_size = .2, random_state = SEED)    "
   ]
  },
  {
   "cell_type": "markdown",
   "metadata": {},
   "source": [
    "### Sem Balanceamento dos dados"
   ]
  },
  {
   "cell_type": "code",
   "execution_count": 9,
   "metadata": {},
   "outputs": [
    {
     "name": "stdout",
     "output_type": "stream",
     "text": [
      "Acurácia: 74.67%\n",
      "Sensibilidade : 0.6927272727272727\n",
      "Especificidade : 0.7724706904038211\n",
      "\n",
      "\n",
      "              precision    recall  f1-score   support\n",
      "\n",
      "           0       0.84      0.77      0.80      2303\n",
      "           1       0.59      0.69      0.64      1100\n",
      "\n",
      "    accuracy                           0.75      3403\n",
      "   macro avg       0.72      0.73      0.72      3403\n",
      "weighted avg       0.76      0.75      0.75      3403\n",
      "\n"
     ]
    },
    {
     "data": {
      "image/png": "[encoded data removed]",
      "text/plain": [
       "<Figure size 432x432 with 2 Axes>"
      ]
     },
     "metadata": {},
     "output_type": "display_data"
    }
   ],
   "source": [
    "# Criando o modelo\n",
    "modelo_xgb_v1 = XGBClassifier()\n",
    "\n",
    "# Treinando o modelo\n",
    "modelo_xgb_v1.fit(X_treino, y_treino)\n",
    "\n",
    "# Fazendo previsões\n",
    "xgb_y_pred = modelo_xgb_v1.predict(X_teste)\n",
    "previsoes = [round(value) for value in xgb_y_pred]\n",
    "\n",
    "# Avaliando as previsões\n",
    "xgb_score_v1 = accuracy_score(y_teste, previsoes)\n",
    "print(\"Acurácia: %.2f%%\" % (xgb_score_v1 * 100.0))\n",
    "\n",
    "# Cria a matriz de confusão\n",
    "conf_matriz_xgb = confusion_matrix(y_teste, xgb_y_pred)\n",
    "    \n",
    "# Calcula especificidade e sensibilidade\n",
    "speci_xgb = conf_matriz_xgb[0,0] / (conf_matriz_xgb[0,0] + conf_matriz_xgb[0,1])\n",
    "sensi_xgb = conf_matriz_xgb[1,1] / (conf_matriz_xgb[1,0] + conf_matriz_xgb[1,1])\n",
    "\n",
    "# Print\n",
    "print('Sensibilidade :', sensi_xgb)\n",
    "print('Especificidade :', speci_xgb)\n",
    "print('\\n')\n",
    "\n",
    "# Matriz de Confusão gráfica\n",
    "sns.set(rc={'figure.figsize':(6, 6)})\n",
    "sns.heatmap(conf_matriz_xgb, \n",
    "            annot = True, \n",
    "            fmt = \".0f\", \n",
    "            linewidths = .5, \n",
    "            square = True, \n",
    "            cmap = 'RdBu_r')\n",
    "\n",
    "# Labels e Títulos\n",
    "plt.ylabel('Label Verdadeiro')\n",
    "plt.xlabel('Label Previsto')\n",
    "plt.title('Acurácia: {:.2f}'.format(xgb_score_v1), size = 15)\n",
    "\n",
    "# Relatório de Classificação\n",
    "print(classification_report(y_teste, xgb_y_pred))"
   ]
  },
  {
   "cell_type": "markdown",
   "metadata": {},
   "source": [
    "### Com Balanceamento dos dados"
   ]
  },
  {
   "cell_type": "code",
   "execution_count": 10,
   "metadata": {},
   "outputs": [],
   "source": [
    "# Aplicando a funcao SMOTE\n",
    "sm = SMOTE(random_state=SEED)\n",
    "X_treino_bal, y_treino_bal = sm.fit_sample(X_treino, y_treino)"
   ]
  },
  {
   "cell_type": "code",
   "execution_count": 11,
   "metadata": {
    "scrolled": false
   },
   "outputs": [
    {
     "name": "stdout",
     "output_type": "stream",
     "text": [
      "Acurácia: 65.24%\n",
      "Sensibilidade : 0.9963636363636363\n",
      "Especificidade : 0.48805905340859745\n",
      "\n",
      "\n",
      "              precision    recall  f1-score   support\n",
      "\n",
      "           0       1.00      0.49      0.66      2303\n",
      "           1       0.48      1.00      0.65      1100\n",
      "\n",
      "    accuracy                           0.65      3403\n",
      "   macro avg       0.74      0.74      0.65      3403\n",
      "weighted avg       0.83      0.65      0.65      3403\n",
      "\n"
     ]
    },
    {
     "data": {
      "image/png": "[encoded data removed]",
      "text/plain": [
       "<Figure size 432x432 with 2 Axes>"
      ]
     },
     "metadata": {},
     "output_type": "display_data"
    }
   ],
   "source": [
    "# Criando o modelo\n",
    "modelo_xgb_v2 = XGBClassifier()\n",
    "\n",
    "# Treinando o modelo\n",
    "modelo_xgb_v2.fit(X_treino_bal, y_treino_bal)\n",
    "\n",
    "# Fazendo previsões\n",
    "xgb_y_pred = modelo_xgb_v2.predict(X_teste)\n",
    "previsoes = [round(value) for value in xgb_y_pred]\n",
    "\n",
    "# Avaliando as previsões\n",
    "xgb_score_v2 = accuracy_score(y_teste, previsoes)\n",
    "print(\"Acurácia: %.2f%%\" % (xgb_score_v2 * 100.0))\n",
    "\n",
    "# Cria a matriz de confusão\n",
    "conf_matriz_xgb = confusion_matrix(y_teste, xgb_y_pred)\n",
    "    \n",
    "# Calcula especificidade e sensibilidade\n",
    "speci_xgb = conf_matriz_xgb[0,0] / (conf_matriz_xgb[0,0] + conf_matriz_xgb[0,1])\n",
    "sensi_xgb = conf_matriz_xgb[1,1] / (conf_matriz_xgb[1,0] + conf_matriz_xgb[1,1])\n",
    "\n",
    "# Print\n",
    "print('Sensibilidade :', sensi_xgb)\n",
    "print('Especificidade :', speci_xgb)\n",
    "print('\\n')\n",
    "\n",
    "# Matriz de Confusão gráfica\n",
    "sns.set(rc={'figure.figsize':(6, 6)})\n",
    "sns.heatmap(conf_matriz_xgb, \n",
    "            annot = True, \n",
    "            fmt = \".0f\", \n",
    "            linewidths = .5, \n",
    "            square = True, \n",
    "            cmap = 'RdBu_r')\n",
    "\n",
    "# Labels e Títulos\n",
    "plt.ylabel('Label Verdadeiro')\n",
    "plt.xlabel('Label Previsto')\n",
    "plt.title('Acurácia: {:.2f}'.format(xgb_score_v2), size = 15)\n",
    "\n",
    "# Relatório de Classificação\n",
    "print(classification_report(y_teste, xgb_y_pred))"
   ]
  },
  {
   "cell_type": "markdown",
   "metadata": {},
   "source": [
    "### Identificando os melhores Hyperparametros"
   ]
  },
  {
   "cell_type": "code",
   "execution_count": 12,
   "metadata": {},
   "outputs": [],
   "source": [
    "def objective(trial):\n",
    "\n",
    "    dtrain = xgb.DMatrix(X_treino, label=y_treino)\n",
    "    dvalid = xgb.DMatrix(X_teste, label=y_teste)\n",
    "\n",
    "    param = {\n",
    "        \"silent\": 1,\n",
    "        \"objective\": \"binary:logistic\",\n",
    "        \"eval_metric\": \"auc\",\n",
    "        \"booster\": trial.suggest_categorical(\"booster\", [\"gbtree\", \"gblinear\", \"dart\"]),\n",
    "        \"lambda\": trial.suggest_float(\"lambda\", 1e-8, 1.0, log=True),\n",
    "        \"alpha\": trial.suggest_float(\"alpha\", 1e-8, 1.0, log=True),\n",
    "    }\n",
    "\n",
    "    if param[\"booster\"] == \"gbtree\" or param[\"booster\"] == \"dart\":\n",
    "        param[\"max_depth\"] = trial.suggest_int(\"max_depth\", 1, 9)\n",
    "        param[\"eta\"] = trial.suggest_float(\"eta\", 1e-8, 1.0, log=True)\n",
    "        param[\"gamma\"] = trial.suggest_float(\"gamma\", 1e-8, 1.0, log=True)\n",
    "        param[\"grow_policy\"] = trial.suggest_categorical(\"grow_policy\", [\"depthwise\", \"lossguide\"])\n",
    "    if param[\"booster\"] == \"dart\":\n",
    "        param[\"sample_type\"] = trial.suggest_categorical(\"sample_type\", [\"uniform\", \"weighted\"])\n",
    "        param[\"normalize_type\"] = trial.suggest_categorical(\"normalize_type\", [\"tree\", \"forest\"])\n",
    "        param[\"rate_drop\"] = trial.suggest_float(\"rate_drop\", 1e-8, 1.0, log=True)\n",
    "        param[\"skip_drop\"] = trial.suggest_float(\"skip_drop\", 1e-8, 1.0, log=True)\n",
    "\n",
    "    # Add a callback for pruning.\n",
    "    pruning_callback = optuna.integration.XGBoostPruningCallback(trial, \"validation-auc\")\n",
    "    bst = xgb.train(param, dtrain, evals=[(dvalid, \"validation\")], callbacks=[pruning_callback])\n",
    "    preds = bst.predict(dvalid)\n",
    "    pred_labels = np.rint(preds)\n",
    "    accuracy = accuracy_score(y_teste, pred_labels)\n",
    "    return accuracy"
   ]
  },
  {
   "cell_type": "code",
   "execution_count": 13,
   "metadata": {
    "scrolled": true
   },
   "outputs": [
    {
     "name": "stderr",
     "output_type": "stream",
     "text": [
      "[I 2020-09-11 19:44:09,064] A new study created in memory with name: no-name-9ae50092-bc3f-4180-ab71-e2e0c941306e\n"
     ]
    },
    {
     "name": "stdout",
     "output_type": "stream",
     "text": [
      "[19:44:09] WARNING: ../src/learner.cc:516: \n",
      "Parameters: { silent } might not be used.\n",
      "\n",
      "  This may not be accurate due to some parameters are only used in language bindings but\n",
      "  passed down to XGBoost core.  Or some parameters are not used but slip through this\n",
      "  verification. Please open an issue if you find above cases.\n",
      "\n",
      "\n",
      "[0]\tvalidation-auc:0.56019\n",
      "[1]\tvalidation-auc:0.62273\n",
      "[2]\tvalidation-auc:0.66458\n",
      "[3]\tvalidation-auc:0.71595\n",
      "[4]\tvalidation-auc:0.75906\n",
      "[5]\tvalidation-auc:0.78946\n",
      "[6]\tvalidation-auc:0.78411\n",
      "[7]\tvalidation-auc:0.78453\n",
      "[8]\tvalidation-auc:0.78655\n",
      "[9]\tvalidation-auc:0.78771\n"
     ]
    },
    {
     "name": "stderr",
     "output_type": "stream",
     "text": [
      "[I 2020-09-11 19:44:09,100] Trial 0 finished with value: 0.677343520423156 and parameters: {'booster': 'gbtree', 'lambda': 0.00019809022364808055, 'alpha': 0.3708477195638143, 'max_depth': 1, 'eta': 0.0838913748090856, 'gamma': 9.45584168528639e-08, 'grow_policy': 'depthwise'}. Best is trial 0 with value: 0.677343520423156.\n"
     ]
    },
    {
     "name": "stdout",
     "output_type": "stream",
     "text": [
      "[19:44:09] WARNING: ../src/learner.cc:516: \n",
      "Parameters: { silent } might not be used.\n",
      "\n",
      "  This may not be accurate due to some parameters are only used in language bindings but\n",
      "  passed down to XGBoost core.  Or some parameters are not used but slip through this\n",
      "  verification. Please open an issue if you find above cases.\n",
      "\n",
      "\n",
      "[0]\tvalidation-auc:0.83222\n",
      "[1]\tvalidation-auc:0.83475\n",
      "[2]\tvalidation-auc:0.83484\n",
      "[3]\tvalidation-auc:0.83475\n",
      "[4]\tvalidation-auc:0.83477\n",
      "[5]\tvalidation-auc:0.83474\n",
      "[6]\tvalidation-auc:0.83467\n",
      "[7]\tvalidation-auc:0.83464\n",
      "[8]\tvalidation-auc:0.83458\n",
      "[9]\tvalidation-auc:0.83447\n"
     ]
    },
    {
     "name": "stderr",
     "output_type": "stream",
     "text": [
      "[I 2020-09-11 19:44:09,166] Trial 1 finished with value: 0.7707904789891272 and parameters: {'booster': 'gbtree', 'lambda': 0.0035730135251895077, 'alpha': 0.009429722820133235, 'max_depth': 8, 'eta': 3.4153507953022895e-05, 'gamma': 6.599028958807185e-08, 'grow_policy': 'lossguide'}. Best is trial 1 with value: 0.7707904789891272.\n"
     ]
    },
    {
     "name": "stdout",
     "output_type": "stream",
     "text": [
      "[19:44:09] WARNING: ../src/learner.cc:516: \n",
      "Parameters: { silent } might not be used.\n",
      "\n",
      "  This may not be accurate due to some parameters are only used in language bindings but\n",
      "  passed down to XGBoost core.  Or some parameters are not used but slip through this\n",
      "  verification. Please open an issue if you find above cases.\n",
      "\n",
      "\n",
      "[0]\tvalidation-auc:0.66490\n",
      "[1]\tvalidation-auc:0.66477\n",
      "[2]\tvalidation-auc:0.66466\n",
      "[3]\tvalidation-auc:0.66462\n",
      "[4]\tvalidation-auc:0.66457\n",
      "[5]\tvalidation-auc:0.66453\n",
      "[6]\tvalidation-auc:0.66451\n",
      "[7]\tvalidation-auc:0.66450\n",
      "[8]\tvalidation-auc:0.66448\n",
      "[9]\tvalidation-auc:0.66449\n"
     ]
    },
    {
     "name": "stderr",
     "output_type": "stream",
     "text": [
      "[I 2020-09-11 19:44:09,193] Trial 2 finished with value: 0.6788128122245077 and parameters: {'booster': 'gblinear', 'lambda': 1.9346155657907527e-08, 'alpha': 0.00015570093203299526}. Best is trial 1 with value: 0.7707904789891272.\n"
     ]
    },
    {
     "name": "stdout",
     "output_type": "stream",
     "text": [
      "[19:44:09] WARNING: ../src/learner.cc:516: \n",
      "Parameters: { silent } might not be used.\n",
      "\n",
      "  This may not be accurate due to some parameters are only used in language bindings but\n",
      "  passed down to XGBoost core.  Or some parameters are not used but slip through this\n",
      "  verification. Please open an issue if you find above cases.\n",
      "\n",
      "\n",
      "[0]\tvalidation-auc:0.66490\n",
      "[1]\tvalidation-auc:0.66479\n",
      "[2]\tvalidation-auc:0.66469\n",
      "[3]\tvalidation-auc:0.66465\n",
      "[4]\tvalidation-auc:0.66460\n",
      "[5]\tvalidation-auc:0.66457\n",
      "[6]\tvalidation-auc:0.66454\n",
      "[7]\tvalidation-auc:0.66454\n",
      "[8]\tvalidation-auc:0.66452\n",
      "[9]\tvalidation-auc:0.66451\n"
     ]
    },
    {
     "name": "stderr",
     "output_type": "stream",
     "text": [
      "[I 2020-09-11 19:44:09,220] Trial 3 finished with value: 0.6779312371436967 and parameters: {'booster': 'gblinear', 'lambda': 0.016808139346582388, 'alpha': 8.467101919272575e-05}. Best is trial 1 with value: 0.7707904789891272.\n"
     ]
    },
    {
     "name": "stdout",
     "output_type": "stream",
     "text": [
      "[19:44:09] WARNING: ../src/learner.cc:516: \n",
      "Parameters: { silent } might not be used.\n",
      "\n",
      "  This may not be accurate due to some parameters are only used in language bindings but\n",
      "  passed down to XGBoost core.  Or some parameters are not used but slip through this\n",
      "  verification. Please open an issue if you find above cases.\n",
      "\n",
      "\n",
      "[0]\tvalidation-auc:0.56019\n",
      "[1]\tvalidation-auc:0.62610\n",
      "[2]\tvalidation-auc:0.67995\n",
      "[3]\tvalidation-auc:0.71800\n",
      "[4]\tvalidation-auc:0.76131\n",
      "[5]\tvalidation-auc:0.79062\n",
      "[6]\tvalidation-auc:0.82118\n",
      "[7]\tvalidation-auc:0.84534\n",
      "[8]\tvalidation-auc:0.83645\n",
      "[9]\tvalidation-auc:0.83780\n"
     ]
    },
    {
     "name": "stderr",
     "output_type": "stream",
     "text": [
      "[I 2020-09-11 19:44:09,249] Trial 4 finished with value: 0.7155451072583014 and parameters: {'booster': 'gbtree', 'lambda': 1.7521146941021935e-08, 'alpha': 0.0025660311925455987, 'max_depth': 1, 'eta': 0.5650171322426556, 'gamma': 9.752266896866523e-06, 'grow_policy': 'depthwise'}. Best is trial 1 with value: 0.7707904789891272.\n"
     ]
    },
    {
     "name": "stdout",
     "output_type": "stream",
     "text": [
      "[19:44:09] WARNING: ../src/learner.cc:516: \n",
      "Parameters: { silent } might not be used.\n",
      "\n",
      "  This may not be accurate due to some parameters are only used in language bindings but\n",
      "  passed down to XGBoost core.  Or some parameters are not used but slip through this\n",
      "  verification. Please open an issue if you find above cases.\n",
      "\n",
      "\n",
      "[0]\tvalidation-auc:0.75819\n",
      "[1]\tvalidation-auc:0.75819\n",
      "[2]\tvalidation-auc:0.75819\n",
      "[3]\tvalidation-auc:0.75819\n",
      "[4]\tvalidation-auc:0.75819\n",
      "[5]\tvalidation-auc:0.75819\n",
      "[6]\tvalidation-auc:0.75819\n",
      "[7]\tvalidation-auc:0.75819\n",
      "[8]\tvalidation-auc:0.75819\n",
      "[9]\tvalidation-auc:0.75819\n"
     ]
    },
    {
     "name": "stderr",
     "output_type": "stream",
     "text": [
      "[I 2020-09-11 19:44:09,296] Trial 5 finished with value: 0.7534528357331766 and parameters: {'booster': 'gbtree', 'lambda': 0.05698246526989181, 'alpha': 0.00013664310704183396, 'max_depth': 5, 'eta': 0.00013539068403152613, 'gamma': 0.0006687937025075689, 'grow_policy': 'depthwise'}. Best is trial 1 with value: 0.7707904789891272.\n"
     ]
    },
    {
     "name": "stdout",
     "output_type": "stream",
     "text": [
      "[19:44:09] WARNING: ../src/learner.cc:516: \n",
      "Parameters: { silent } might not be used.\n",
      "\n",
      "  This may not be accurate due to some parameters are only used in language bindings but\n",
      "  passed down to XGBoost core.  Or some parameters are not used but slip through this\n",
      "  verification. Please open an issue if you find above cases.\n",
      "\n",
      "\n",
      "[0]\tvalidation-auc:0.67773\n",
      "[1]\tvalidation-auc:0.67773\n",
      "[2]\tvalidation-auc:0.67773\n",
      "[3]\tvalidation-auc:0.67773\n",
      "[4]\tvalidation-auc:0.67773\n",
      "[5]\tvalidation-auc:0.67773\n",
      "[6]\tvalidation-auc:0.67773\n",
      "[7]\tvalidation-auc:0.67773\n",
      "[8]\tvalidation-auc:0.67773\n",
      "[9]\tvalidation-auc:0.67773\n"
     ]
    },
    {
     "name": "stderr",
     "output_type": "stream",
     "text": [
      "[I 2020-09-11 19:44:09,331] Trial 6 finished with value: 0.7278871583896562 and parameters: {'booster': 'gbtree', 'lambda': 0.0005707871295722409, 'alpha': 8.299415171879432e-05, 'max_depth': 3, 'eta': 6.662559411843497e-05, 'gamma': 0.0038031214587128616, 'grow_policy': 'lossguide'}. Best is trial 1 with value: 0.7707904789891272.\n"
     ]
    },
    {
     "name": "stdout",
     "output_type": "stream",
     "text": [
      "[19:44:09] WARNING: ../src/learner.cc:516: \n",
      "Parameters: { silent } might not be used.\n",
      "\n",
      "  This may not be accurate due to some parameters are only used in language bindings but\n",
      "  passed down to XGBoost core.  Or some parameters are not used but slip through this\n",
      "  verification. Please open an issue if you find above cases.\n",
      "\n",
      "\n",
      "[0]\tvalidation-auc:0.61731\n",
      "[1]\tvalidation-auc:0.61656\n",
      "[2]\tvalidation-auc:0.61598\n",
      "[3]\tvalidation-auc:0.61698\n",
      "[4]\tvalidation-auc:0.61598\n",
      "[5]\tvalidation-auc:0.61698\n",
      "[6]\tvalidation-auc:0.61698\n",
      "[7]\tvalidation-auc:0.61698\n",
      "[8]\tvalidation-auc:0.61698\n",
      "[9]\tvalidation-auc:0.61698\n"
     ]
    },
    {
     "name": "stderr",
     "output_type": "stream",
     "text": [
      "[I 2020-09-11 19:44:09,364] Trial 7 finished with value: 0.7079047898912724 and parameters: {'booster': 'dart', 'lambda': 3.6567054127739024e-08, 'alpha': 1.1209854357197475e-05, 'max_depth': 2, 'eta': 2.0830184781889627e-07, 'gamma': 0.6119226768383735, 'grow_policy': 'depthwise', 'sample_type': 'weighted', 'normalize_type': 'forest', 'rate_drop': 1.0488904357697837e-06, 'skip_drop': 0.06717740855937797}. Best is trial 1 with value: 0.7707904789891272.\n"
     ]
    },
    {
     "name": "stdout",
     "output_type": "stream",
     "text": [
      "[19:44:09] WARNING: ../src/learner.cc:516: \n",
      "Parameters: { silent } might not be used.\n",
      "\n",
      "  This may not be accurate due to some parameters are only used in language bindings but\n",
      "  passed down to XGBoost core.  Or some parameters are not used but slip through this\n",
      "  verification. Please open an issue if you find above cases.\n",
      "\n",
      "\n",
      "[0]\tvalidation-auc:0.61698\n",
      "[1]\tvalidation-auc:0.72361\n",
      "[2]\tvalidation-auc:0.78868\n",
      "[3]\tvalidation-auc:0.84184\n",
      "[4]\tvalidation-auc:0.83710\n",
      "[5]\tvalidation-auc:0.83965\n",
      "[6]\tvalidation-auc:0.84012\n",
      "[7]\tvalidation-auc:0.83580\n",
      "[8]\tvalidation-auc:0.83864\n",
      "[9]\tvalidation-auc:0.84025\n"
     ]
    },
    {
     "name": "stderr",
     "output_type": "stream",
     "text": [
      "[I 2020-09-11 19:44:09,397] Trial 8 finished with value: 0.7055539230091096 and parameters: {'booster': 'gbtree', 'lambda': 0.11795276288740603, 'alpha': 0.0001364752064500161, 'max_depth': 2, 'eta': 0.22401966096485063, 'gamma': 0.06584254741560346, 'grow_policy': 'depthwise'}. Best is trial 1 with value: 0.7707904789891272.\n"
     ]
    },
    {
     "name": "stdout",
     "output_type": "stream",
     "text": [
      "[19:44:09] WARNING: ../src/learner.cc:516: \n",
      "Parameters: { silent } might not be used.\n",
      "\n",
      "  This may not be accurate due to some parameters are only used in language bindings but\n",
      "  passed down to XGBoost core.  Or some parameters are not used but slip through this\n",
      "  verification. Please open an issue if you find above cases.\n",
      "\n",
      "\n",
      "[0]\tvalidation-auc:0.50000\n",
      "[1]\tvalidation-auc:0.50000\n",
      "[2]\tvalidation-auc:0.50000\n",
      "[3]\tvalidation-auc:0.50000\n",
      "[4]\tvalidation-auc:0.50000\n",
      "[5]\tvalidation-auc:0.50000\n",
      "[6]\tvalidation-auc:0.50000\n",
      "[7]\tvalidation-auc:0.50000\n",
      "[8]\tvalidation-auc:0.50338\n",
      "[9]\tvalidation-auc:0.50338\n"
     ]
    },
    {
     "name": "stderr",
     "output_type": "stream",
     "text": [
      "[I 2020-09-11 19:44:09,430] Trial 9 finished with value: 0.6758742286218042 and parameters: {'booster': 'dart', 'lambda': 2.597448055223057e-06, 'alpha': 0.004615976206256965, 'max_depth': 2, 'eta': 1.5618797114870748e-08, 'gamma': 0.35255936674507327, 'grow_policy': 'lossguide', 'sample_type': 'uniform', 'normalize_type': 'forest', 'rate_drop': 3.9947306165672413e-07, 'skip_drop': 1.9690751985759038e-08}. Best is trial 1 with value: 0.7707904789891272.\n"
     ]
    },
    {
     "name": "stdout",
     "output_type": "stream",
     "text": [
      "[19:44:09] WARNING: ../src/learner.cc:516: \n",
      "Parameters: { silent } might not be used.\n",
      "\n",
      "  This may not be accurate due to some parameters are only used in language bindings but\n",
      "  passed down to XGBoost core.  Or some parameters are not used but slip through this\n",
      "  verification. Please open an issue if you find above cases.\n",
      "\n",
      "\n",
      "[0]\tvalidation-auc:0.82548\n",
      "[1]\tvalidation-auc:0.82689\n",
      "[2]\tvalidation-auc:0.82753\n",
      "[3]\tvalidation-auc:0.82748\n",
      "[4]\tvalidation-auc:0.82756\n",
      "[5]\tvalidation-auc:0.82783\n",
      "[6]\tvalidation-auc:0.82814\n",
      "[7]\tvalidation-auc:0.82796\n",
      "[8]\tvalidation-auc:0.82782\n",
      "[9]\tvalidation-auc:0.82784\n"
     ]
    },
    {
     "name": "stderr",
     "output_type": "stream",
     "text": [
      "[I 2020-09-11 19:44:09,521] Trial 10 finished with value: 0.7622685865412872 and parameters: {'booster': 'gbtree', 'lambda': 6.160037057913825e-06, 'alpha': 1.1664508348493377e-08, 'max_depth': 9, 'eta': 6.776456529063336e-05, 'gamma': 1.0970677304383462e-08, 'grow_policy': 'lossguide'}. Best is trial 1 with value: 0.7707904789891272.\n"
     ]
    },
    {
     "name": "stdout",
     "output_type": "stream",
     "text": [
      "[19:44:09] WARNING: ../src/learner.cc:516: \n",
      "Parameters: { silent } might not be used.\n",
      "\n",
      "  This may not be accurate due to some parameters are only used in language bindings but\n",
      "  passed down to XGBoost core.  Or some parameters are not used but slip through this\n",
      "  verification. Please open an issue if you find above cases.\n",
      "\n",
      "\n",
      "[0]\tvalidation-auc:0.82547\n",
      "[1]\tvalidation-auc:0.82687\n",
      "[2]\tvalidation-auc:0.82755\n",
      "[3]\tvalidation-auc:0.82747\n",
      "[4]\tvalidation-auc:0.82764\n",
      "[5]\tvalidation-auc:0.82784\n",
      "[6]\tvalidation-auc:0.82789\n",
      "[7]\tvalidation-auc:0.82792\n",
      "[8]\tvalidation-auc:0.82772\n",
      "[9]\tvalidation-auc:0.82780\n"
     ]
    },
    {
     "name": "stderr",
     "output_type": "stream",
     "text": [
      "[I 2020-09-11 19:44:09,612] Trial 11 finished with value: 0.7631501616220981 and parameters: {'booster': 'gbtree', 'lambda': 4.068825969700985e-06, 'alpha': 1.7767524432802193e-08, 'max_depth': 9, 'eta': 5.20555956122145e-05, 'gamma': 1.4078613966375594e-08, 'grow_policy': 'lossguide'}. Best is trial 1 with value: 0.7707904789891272.\n"
     ]
    },
    {
     "name": "stdout",
     "output_type": "stream",
     "text": [
      "[19:44:09] WARNING: ../src/learner.cc:516: \n",
      "Parameters: { silent } might not be used.\n",
      "\n",
      "  This may not be accurate due to some parameters are only used in language bindings but\n",
      "  passed down to XGBoost core.  Or some parameters are not used but slip through this\n",
      "  verification. Please open an issue if you find above cases.\n",
      "\n",
      "\n",
      "[0]\tvalidation-auc:0.82530\n",
      "[1]\tvalidation-auc:0.82673\n",
      "[2]\tvalidation-auc:0.82727\n",
      "[3]\tvalidation-auc:0.82739\n",
      "[4]\tvalidation-auc:0.82730\n",
      "[5]\tvalidation-auc:0.82721\n",
      "[6]\tvalidation-auc:0.82732\n",
      "[7]\tvalidation-auc:0.82724\n",
      "[8]\tvalidation-auc:0.82720\n",
      "[9]\tvalidation-auc:0.82721\n"
     ]
    },
    {
     "name": "stderr",
     "output_type": "stream",
     "text": [
      "[I 2020-09-11 19:44:09,701] Trial 12 finished with value: 0.7640317367029092 and parameters: {'booster': 'gbtree', 'lambda': 2.4678883633460015e-06, 'alpha': 1.62333247884323e-08, 'max_depth': 9, 'eta': 4.729890721877061e-06, 'gamma': 8.889326543691509e-07, 'grow_policy': 'lossguide'}. Best is trial 1 with value: 0.7707904789891272.\n"
     ]
    },
    {
     "name": "stdout",
     "output_type": "stream",
     "text": [
      "[19:44:09] WARNING: ../src/learner.cc:516: \n",
      "Parameters: { silent } might not be used.\n",
      "\n",
      "  This may not be accurate due to some parameters are only used in language bindings but\n",
      "  passed down to XGBoost core.  Or some parameters are not used but slip through this\n",
      "  verification. Please open an issue if you find above cases.\n",
      "\n",
      "\n",
      "[0]\tvalidation-auc:0.80736\n",
      "[1]\tvalidation-auc:0.80882\n",
      "[2]\tvalidation-auc:0.80914\n",
      "[3]\tvalidation-auc:0.80910\n",
      "[4]\tvalidation-auc:0.80867\n",
      "[5]\tvalidation-auc:0.80884\n",
      "[6]\tvalidation-auc:0.80879\n",
      "[7]\tvalidation-auc:0.80894\n",
      "[8]\tvalidation-auc:0.80891\n",
      "[9]\tvalidation-auc:0.80890\n"
     ]
    },
    {
     "name": "stderr",
     "output_type": "stream",
     "text": [
      "[I 2020-09-11 19:44:09,773] Trial 13 finished with value: 0.7610931531002058 and parameters: {'booster': 'gbtree', 'lambda': 0.0030257447806490002, 'alpha': 5.15685505507967e-07, 'max_depth': 7, 'eta': 1.0702934861024658e-06, 'gamma': 1.0037694049341293e-06, 'grow_policy': 'lossguide'}. Best is trial 1 with value: 0.7707904789891272.\n"
     ]
    },
    {
     "name": "stdout",
     "output_type": "stream",
     "text": [
      "[19:44:09] WARNING: ../src/learner.cc:516: \n",
      "Parameters: { silent } might not be used.\n",
      "\n",
      "  This may not be accurate due to some parameters are only used in language bindings but\n",
      "  passed down to XGBoost core.  Or some parameters are not used but slip through this\n",
      "  verification. Please open an issue if you find above cases.\n",
      "\n",
      "\n",
      "[0]\tvalidation-auc:0.50000\n",
      "[1]\tvalidation-auc:0.50000\n",
      "[2]\tvalidation-auc:0.50000\n",
      "[3]\tvalidation-auc:0.50000\n",
      "[4]\tvalidation-auc:0.50000\n",
      "[5]\tvalidation-auc:0.50000\n",
      "[6]\tvalidation-auc:0.50000\n",
      "[7]\tvalidation-auc:0.50000\n",
      "[8]\tvalidation-auc:0.50000\n",
      "[9]\tvalidation-auc:0.50000\n"
     ]
    },
    {
     "name": "stderr",
     "output_type": "stream",
     "text": [
      "[I 2020-09-11 19:44:09,814] Trial 14 finished with value: 0.6767558037026153 and parameters: {'booster': 'gblinear', 'lambda': 0.9286805939217021, 'alpha': 0.27440057917331634}. Best is trial 1 with value: 0.7707904789891272.\n"
     ]
    },
    {
     "name": "stdout",
     "output_type": "stream",
     "text": [
      "[19:44:09] WARNING: ../src/learner.cc:516: \n",
      "Parameters: { silent } might not be used.\n",
      "\n",
      "  This may not be accurate due to some parameters are only used in language bindings but\n",
      "  passed down to XGBoost core.  Or some parameters are not used but slip through this\n",
      "  verification. Please open an issue if you find above cases.\n",
      "\n",
      "\n",
      "[0]\tvalidation-auc:0.80709\n",
      "[1]\tvalidation-auc:0.80709\n",
      "[2]\tvalidation-auc:0.80709\n",
      "[3]\tvalidation-auc:0.80819\n",
      "[4]\tvalidation-auc:0.80785\n",
      "[5]\tvalidation-auc:0.80766\n",
      "[6]\tvalidation-auc:0.80756\n",
      "[7]\tvalidation-auc:0.80751\n",
      "[8]\tvalidation-auc:0.80750\n",
      "[9]\tvalidation-auc:0.80752\n"
     ]
    },
    {
     "name": "stderr",
     "output_type": "stream",
     "text": [
      "[I 2020-09-11 19:44:09,893] Trial 15 finished with value: 0.7610931531002058 and parameters: {'booster': 'dart', 'lambda': 2.3797446692768322e-07, 'alpha': 0.0051299154149043276, 'max_depth': 7, 'eta': 0.002614683412161971, 'gamma': 1.725480008387828e-06, 'grow_policy': 'lossguide', 'sample_type': 'uniform', 'normalize_type': 'tree', 'rate_drop': 0.7032524327078138, 'skip_drop': 1.3238545247385335e-08}. Best is trial 1 with value: 0.7707904789891272.\n"
     ]
    },
    {
     "name": "stdout",
     "output_type": "stream",
     "text": [
      "[19:44:09] WARNING: ../src/learner.cc:516: \n",
      "Parameters: { silent } might not be used.\n",
      "\n",
      "  This may not be accurate due to some parameters are only used in language bindings but\n",
      "  passed down to XGBoost core.  Or some parameters are not used but slip through this\n",
      "  verification. Please open an issue if you find above cases.\n",
      "\n",
      "\n",
      "[0]\tvalidation-auc:0.80942\n",
      "[1]\tvalidation-auc:0.80890\n",
      "[2]\tvalidation-auc:0.80934\n",
      "[3]\tvalidation-auc:0.80938\n",
      "[4]\tvalidation-auc:0.80947\n",
      "[5]\tvalidation-auc:0.80956\n",
      "[6]\tvalidation-auc:0.80952\n",
      "[7]\tvalidation-auc:0.80955\n",
      "[8]\tvalidation-auc:0.80956\n",
      "[9]\tvalidation-auc:0.80956\n"
     ]
    },
    {
     "name": "stderr",
     "output_type": "stream",
     "text": [
      "[I 2020-09-11 19:44:09,966] Trial 16 finished with value: 0.7616808698207465 and parameters: {'booster': 'gbtree', 'lambda': 3.659941959939943e-05, 'alpha': 0.04104966333283095, 'max_depth': 7, 'eta': 1.4766718936621212e-06, 'gamma': 2.1326745901340416e-07, 'grow_policy': 'lossguide'}. Best is trial 1 with value: 0.7707904789891272.\n"
     ]
    },
    {
     "name": "stdout",
     "output_type": "stream",
     "text": [
      "[19:44:09] WARNING: ../src/learner.cc:516: \n",
      "Parameters: { silent } might not be used.\n",
      "\n",
      "  This may not be accurate due to some parameters are only used in language bindings but\n",
      "  passed down to XGBoost core.  Or some parameters are not used but slip through this\n",
      "  verification. Please open an issue if you find above cases.\n",
      "\n",
      "\n",
      "[0]\tvalidation-auc:0.83033\n",
      "[1]\tvalidation-auc:0.83121\n",
      "[2]\tvalidation-auc:0.83169\n",
      "[3]\tvalidation-auc:0.83227\n",
      "[4]\tvalidation-auc:0.83177\n",
      "[5]\tvalidation-auc:0.83194\n",
      "[6]\tvalidation-auc:0.83174\n",
      "[7]\tvalidation-auc:0.83476\n",
      "[8]\tvalidation-auc:0.83224\n",
      "[9]\tvalidation-auc:0.83166\n"
     ]
    },
    {
     "name": "stderr",
     "output_type": "stream",
     "text": [
      "[I 2020-09-11 19:44:10,051] Trial 17 finished with value: 0.7710843373493976 and parameters: {'booster': 'gbtree', 'lambda': 0.0023147389075111784, 'alpha': 1.9050355011300542e-07, 'max_depth': 8, 'eta': 3.9157335892730676e-06, 'gamma': 2.6610461449517375e-05, 'grow_policy': 'lossguide'}. Best is trial 17 with value: 0.7710843373493976.\n"
     ]
    },
    {
     "name": "stdout",
     "output_type": "stream",
     "text": [
      "[19:44:10] WARNING: ../src/learner.cc:516: \n",
      "Parameters: { silent } might not be used.\n",
      "\n",
      "  This may not be accurate due to some parameters are only used in language bindings but\n",
      "  passed down to XGBoost core.  Or some parameters are not used but slip through this\n",
      "  verification. Please open an issue if you find above cases.\n",
      "\n",
      "\n",
      "[0]\tvalidation-auc:0.75689\n",
      "[1]\tvalidation-auc:0.75689\n",
      "[2]\tvalidation-auc:0.75689\n",
      "[3]\tvalidation-auc:0.75694\n",
      "[4]\tvalidation-auc:0.75675\n",
      "[5]\tvalidation-auc:0.75638\n",
      "[6]\tvalidation-auc:0.75662\n",
      "[7]\tvalidation-auc:0.75570\n",
      "[8]\tvalidation-auc:0.78542\n",
      "[9]\tvalidation-auc:0.78580\n"
     ]
    },
    {
     "name": "stderr",
     "output_type": "stream",
     "text": [
      "[I 2020-09-11 19:44:10,112] Trial 18 finished with value: 0.753746694093447 and parameters: {'booster': 'gbtree', 'lambda': 0.0036027464607482408, 'alpha': 3.8427780489005224e-07, 'max_depth': 5, 'eta': 0.003863453370815488, 'gamma': 7.351902783119125e-05, 'grow_policy': 'lossguide'}. Best is trial 17 with value: 0.7710843373493976.\n"
     ]
    },
    {
     "name": "stdout",
     "output_type": "stream",
     "text": [
      "[19:44:10] WARNING: ../src/learner.cc:516: \n",
      "Parameters: { silent } might not be used.\n",
      "\n",
      "  This may not be accurate due to some parameters are only used in language bindings but\n",
      "  passed down to XGBoost core.  Or some parameters are not used but slip through this\n",
      "  verification. Please open an issue if you find above cases.\n",
      "\n",
      "\n",
      "[0]\tvalidation-auc:0.50000\n",
      "[1]\tvalidation-auc:0.50000\n",
      "[2]\tvalidation-auc:0.50000\n",
      "[3]\tvalidation-auc:0.50507\n",
      "[4]\tvalidation-auc:0.51501\n",
      "[5]\tvalidation-auc:0.52132\n",
      "[6]\tvalidation-auc:0.83233\n",
      "[7]\tvalidation-auc:0.83383\n",
      "[8]\tvalidation-auc:0.83289\n",
      "[9]\tvalidation-auc:0.82946\n"
     ]
    },
    {
     "name": "stderr",
     "output_type": "stream",
     "text": [
      "[I 2020-09-11 19:44:10,192] Trial 19 finished with value: 0.6967381722009991 and parameters: {'booster': 'gbtree', 'lambda': 0.0011622310168292083, 'alpha': 3.914522603488873e-07, 'max_depth': 8, 'eta': 1.2946334875997809e-08, 'gamma': 2.6020661176585512e-05, 'grow_policy': 'lossguide'}. Best is trial 17 with value: 0.7710843373493976.\n"
     ]
    },
    {
     "name": "stdout",
     "output_type": "stream",
     "text": [
      "[19:44:10] WARNING: ../src/learner.cc:516: \n",
      "Parameters: { silent } might not be used.\n",
      "\n",
      "  This may not be accurate due to some parameters are only used in language bindings but\n",
      "  passed down to XGBoost core.  Or some parameters are not used but slip through this\n",
      "  verification. Please open an issue if you find above cases.\n",
      "\n",
      "\n",
      "[0]\tvalidation-auc:0.60747\n",
      "[1]\tvalidation-auc:0.60740\n",
      "[2]\tvalidation-auc:0.60736\n",
      "[3]\tvalidation-auc:0.60734\n",
      "[4]\tvalidation-auc:0.60732\n",
      "[5]\tvalidation-auc:0.60731\n",
      "[6]\tvalidation-auc:0.60730\n",
      "[7]\tvalidation-auc:0.60730\n",
      "[8]\tvalidation-auc:0.60729\n",
      "[9]\tvalidation-auc:0.60729\n"
     ]
    },
    {
     "name": "stderr",
     "output_type": "stream",
     "text": [
      "[I 2020-09-11 19:44:10,226] Trial 20 finished with value: 0.6767558037026153 and parameters: {'booster': 'gblinear', 'lambda': 0.9660256065708213, 'alpha': 0.04707817188180806}. Best is trial 17 with value: 0.7710843373493976.\n"
     ]
    },
    {
     "name": "stdout",
     "output_type": "stream",
     "text": [
      "[19:44:10] WARNING: ../src/learner.cc:516: \n",
      "Parameters: { silent } might not be used.\n",
      "\n",
      "  This may not be accurate due to some parameters are only used in language bindings but\n",
      "  passed down to XGBoost core.  Or some parameters are not used but slip through this\n",
      "  verification. Please open an issue if you find above cases.\n",
      "\n",
      "\n",
      "[0]\tvalidation-auc:0.83036\n",
      "[1]\tvalidation-auc:0.83118\n",
      "[2]\tvalidation-auc:0.83182\n",
      "[3]\tvalidation-auc:0.83165\n",
      "[4]\tvalidation-auc:0.83167\n",
      "[5]\tvalidation-auc:0.83162\n",
      "[6]\tvalidation-auc:0.83164\n",
      "[7]\tvalidation-auc:0.83166\n",
      "[8]\tvalidation-auc:0.83167\n",
      "[9]\tvalidation-auc:0.83167\n"
     ]
    },
    {
     "name": "stderr",
     "output_type": "stream",
     "text": [
      "[I 2020-09-11 19:44:10,310] Trial 21 finished with value: 0.7710843373493976 and parameters: {'booster': 'gbtree', 'lambda': 3.8052020893515495e-05, 'alpha': 4.29580204519689e-08, 'max_depth': 8, 'eta': 5.01412623841835e-06, 'gamma': 3.1661369933403182e-06, 'grow_policy': 'lossguide'}. Best is trial 17 with value: 0.7710843373493976.\n"
     ]
    },
    {
     "name": "stdout",
     "output_type": "stream",
     "text": [
      "[19:44:10] WARNING: ../src/learner.cc:516: \n",
      "Parameters: { silent } might not be used.\n",
      "\n",
      "  This may not be accurate due to some parameters are only used in language bindings but\n",
      "  passed down to XGBoost core.  Or some parameters are not used but slip through this\n",
      "  verification. Please open an issue if you find above cases.\n",
      "\n",
      "\n",
      "[0]\tvalidation-auc:0.83027\n",
      "[1]\tvalidation-auc:0.83131\n",
      "[2]\tvalidation-auc:0.83173\n",
      "[3]\tvalidation-auc:0.83167\n",
      "[4]\tvalidation-auc:0.83169\n",
      "[5]\tvalidation-auc:0.83166\n",
      "[6]\tvalidation-auc:0.83168\n",
      "[7]\tvalidation-auc:0.83166\n",
      "[8]\tvalidation-auc:0.83169\n",
      "[9]\tvalidation-auc:0.83167\n"
     ]
    },
    {
     "name": "stderr",
     "output_type": "stream",
     "text": [
      "[I 2020-09-11 19:44:10,395] Trial 22 finished with value: 0.7710843373493976 and parameters: {'booster': 'gbtree', 'lambda': 5.161663065556302e-05, 'alpha': 2.2288645978294762e-06, 'max_depth': 8, 'eta': 1.1701920340690428e-05, 'gamma': 0.000491562474026714, 'grow_policy': 'lossguide'}. Best is trial 17 with value: 0.7710843373493976.\n"
     ]
    },
    {
     "name": "stdout",
     "output_type": "stream",
     "text": [
      "[19:44:10] WARNING: ../src/learner.cc:516: \n",
      "Parameters: { silent } might not be used.\n",
      "\n",
      "  This may not be accurate due to some parameters are only used in language bindings but\n",
      "  passed down to XGBoost core.  Or some parameters are not used but slip through this\n",
      "  verification. Please open an issue if you find above cases.\n",
      "\n",
      "\n",
      "[0]\tvalidation-auc:0.78583\n",
      "[1]\tvalidation-auc:0.78285\n",
      "[2]\tvalidation-auc:0.78537\n",
      "[3]\tvalidation-auc:0.78652\n",
      "[4]\tvalidation-auc:0.78505\n",
      "[5]\tvalidation-auc:0.78610\n",
      "[6]\tvalidation-auc:0.78685\n",
      "[7]\tvalidation-auc:0.78462\n",
      "[8]\tvalidation-auc:0.78469\n",
      "[9]\tvalidation-auc:0.78658\n"
     ]
    },
    {
     "name": "stderr",
     "output_type": "stream",
     "text": [
      "[I 2020-09-11 19:44:10,462] Trial 23 finished with value: 0.7572729944166912 and parameters: {'booster': 'gbtree', 'lambda': 2.7482492449635078e-05, 'alpha': 2.827928075086255e-06, 'max_depth': 6, 'eta': 2.2601956814960407e-07, 'gamma': 0.0005172000380098577, 'grow_policy': 'lossguide'}. Best is trial 17 with value: 0.7710843373493976.\n"
     ]
    },
    {
     "name": "stdout",
     "output_type": "stream",
     "text": [
      "[19:44:10] WARNING: ../src/learner.cc:516: \n",
      "Parameters: { silent } might not be used.\n",
      "\n",
      "  This may not be accurate due to some parameters are only used in language bindings but\n",
      "  passed down to XGBoost core.  Or some parameters are not used but slip through this\n",
      "  verification. Please open an issue if you find above cases.\n",
      "\n",
      "\n",
      "[0]\tvalidation-auc:0.83083\n",
      "[1]\tvalidation-auc:0.83159\n",
      "[2]\tvalidation-auc:0.83179\n",
      "[3]\tvalidation-auc:0.83173\n",
      "[4]\tvalidation-auc:0.83157\n",
      "[5]\tvalidation-auc:0.83167\n",
      "[6]\tvalidation-auc:0.83164\n",
      "[7]\tvalidation-auc:0.83162\n",
      "[8]\tvalidation-auc:0.83172\n",
      "[9]\tvalidation-auc:0.83161\n"
     ]
    },
    {
     "name": "stderr",
     "output_type": "stream",
     "text": [
      "[I 2020-09-11 19:44:10,542] Trial 24 finished with value: 0.7710843373493976 and parameters: {'booster': 'gbtree', 'lambda': 0.0001238953692321341, 'alpha': 7.63740433533734e-08, 'max_depth': 8, 'eta': 2.8942723407183657e-06, 'gamma': 0.004549784283712054, 'grow_policy': 'lossguide'}. Best is trial 17 with value: 0.7710843373493976.\n"
     ]
    },
    {
     "name": "stdout",
     "output_type": "stream",
     "text": [
      "[19:44:10] WARNING: ../src/learner.cc:516: \n",
      "Parameters: { silent } might not be used.\n",
      "\n",
      "  This may not be accurate due to some parameters are only used in language bindings but\n",
      "  passed down to XGBoost core.  Or some parameters are not used but slip through this\n",
      "  verification. Please open an issue if you find above cases.\n",
      "\n",
      "\n",
      "[0]\tvalidation-auc:0.78584\n",
      "[1]\tvalidation-auc:0.78518\n",
      "[2]\tvalidation-auc:0.78518\n",
      "[3]\tvalidation-auc:0.78518\n",
      "[4]\tvalidation-auc:0.78518\n",
      "[5]\tvalidation-auc:0.78518\n",
      "[6]\tvalidation-auc:0.78518\n",
      "[7]\tvalidation-auc:0.78518\n",
      "[8]\tvalidation-auc:0.78518\n",
      "[9]\tvalidation-auc:0.78518\n"
     ]
    },
    {
     "name": "stderr",
     "output_type": "stream",
     "text": [
      "[I 2020-09-11 19:44:10,613] Trial 25 finished with value: 0.7572729944166912 and parameters: {'booster': 'dart', 'lambda': 0.00011247027035327437, 'alpha': 9.000524324726705e-08, 'max_depth': 6, 'eta': 0.0006214360309155197, 'gamma': 0.010304810507133121, 'grow_policy': 'lossguide', 'sample_type': 'weighted', 'normalize_type': 'tree', 'rate_drop': 0.40150138747856046, 'skip_drop': 0.0002770476005730217}. Best is trial 17 with value: 0.7710843373493976.\n"
     ]
    },
    {
     "name": "stdout",
     "output_type": "stream",
     "text": [
      "[19:44:10] WARNING: ../src/learner.cc:516: \n",
      "Parameters: { silent } might not be used.\n",
      "\n",
      "  This may not be accurate due to some parameters are only used in language bindings but\n",
      "  passed down to XGBoost core.  Or some parameters are not used but slip through this\n",
      "  verification. Please open an issue if you find above cases.\n",
      "\n",
      "\n",
      "[0]\tvalidation-auc:0.83040\n",
      "[1]\tvalidation-auc:0.83139\n",
      "[2]\tvalidation-auc:0.83181\n",
      "[3]\tvalidation-auc:0.83169\n",
      "[4]\tvalidation-auc:0.83170\n",
      "[5]\tvalidation-auc:0.83166\n",
      "[6]\tvalidation-auc:0.83169\n",
      "[7]\tvalidation-auc:0.83166\n",
      "[8]\tvalidation-auc:0.83169\n",
      "[9]\tvalidation-auc:0.83167\n"
     ]
    },
    {
     "name": "stderr",
     "output_type": "stream",
     "text": [
      "[I 2020-09-11 19:44:10,692] Trial 26 finished with value: 0.7710843373493976 and parameters: {'booster': 'gbtree', 'lambda': 2.3628239432278586e-07, 'alpha': 3.455466737146321e-06, 'max_depth': 8, 'eta': 8.716356892957435e-06, 'gamma': 6.580820869767294e-06, 'grow_policy': 'lossguide'}. Best is trial 17 with value: 0.7710843373493976.\n"
     ]
    },
    {
     "name": "stdout",
     "output_type": "stream",
     "text": [
      "[19:44:10] WARNING: ../src/learner.cc:516: \n",
      "Parameters: { silent } might not be used.\n",
      "\n",
      "  This may not be accurate due to some parameters are only used in language bindings but\n",
      "  passed down to XGBoost core.  Or some parameters are not used but slip through this\n",
      "  verification. Please open an issue if you find above cases.\n",
      "\n",
      "\n",
      "[0]\tvalidation-auc:0.78502\n",
      "[1]\tvalidation-auc:0.78471\n",
      "[2]\tvalidation-auc:0.78504\n",
      "[3]\tvalidation-auc:0.78588\n",
      "[4]\tvalidation-auc:0.78486\n",
      "[5]\tvalidation-auc:0.78658\n",
      "[6]\tvalidation-auc:0.78602\n",
      "[7]\tvalidation-auc:0.78488\n",
      "[8]\tvalidation-auc:0.78656\n",
      "[9]\tvalidation-auc:0.78611\n"
     ]
    },
    {
     "name": "stderr",
     "output_type": "stream",
     "text": [
      "[I 2020-09-11 19:44:10,757] Trial 27 finished with value: 0.7572729944166912 and parameters: {'booster': 'gbtree', 'lambda': 2.7268106788266967e-07, 'alpha': 3.568523247024329e-06, 'max_depth': 6, 'eta': 4.745410522819603e-07, 'gamma': 0.0003066743030343787, 'grow_policy': 'lossguide'}. Best is trial 17 with value: 0.7710843373493976.\n"
     ]
    },
    {
     "name": "stdout",
     "output_type": "stream",
     "text": [
      "[19:44:10] WARNING: ../src/learner.cc:516: \n",
      "Parameters: { silent } might not be used.\n",
      "\n",
      "  This may not be accurate due to some parameters are only used in language bindings but\n",
      "  passed down to XGBoost core.  Or some parameters are not used but slip through this\n",
      "  verification. Please open an issue if you find above cases.\n",
      "\n",
      "\n",
      "[0]\tvalidation-auc:0.82515\n",
      "[1]\tvalidation-auc:0.82272\n",
      "[2]\tvalidation-auc:0.82570\n",
      "[3]\tvalidation-auc:0.82389\n",
      "[4]\tvalidation-auc:0.82494\n",
      "[5]\tvalidation-auc:0.82545\n",
      "[6]\tvalidation-auc:0.82733\n",
      "[7]\tvalidation-auc:0.82715\n",
      "[8]\tvalidation-auc:0.82730\n",
      "[9]\tvalidation-auc:0.82799\n"
     ]
    },
    {
     "name": "stderr",
     "output_type": "stream",
     "text": [
      "[I 2020-09-11 19:44:10,844] Trial 28 finished with value: 0.7590361445783133 and parameters: {'booster': 'gbtree', 'lambda': 1.583220074369907e-05, 'alpha': 3.009880923751798e-08, 'max_depth': 9, 'eta': 1.2053026344349746e-07, 'gamma': 0.003683241715415122, 'grow_policy': 'lossguide'}. Best is trial 17 with value: 0.7710843373493976.\n"
     ]
    },
    {
     "name": "stdout",
     "output_type": "stream",
     "text": [
      "[19:44:10] WARNING: ../src/learner.cc:516: \n",
      "Parameters: { silent } might not be used.\n",
      "\n",
      "  This may not be accurate due to some parameters are only used in language bindings but\n",
      "  passed down to XGBoost core.  Or some parameters are not used but slip through this\n",
      "  verification. Please open an issue if you find above cases.\n",
      "\n",
      "\n",
      "[0]\tvalidation-auc:0.80692\n",
      "[1]\tvalidation-auc:0.80829\n",
      "[2]\tvalidation-auc:0.80887\n",
      "[3]\tvalidation-auc:0.80905\n",
      "[4]\tvalidation-auc:0.80892\n",
      "[5]\tvalidation-auc:0.80895\n",
      "[6]\tvalidation-auc:0.80902\n",
      "[7]\tvalidation-auc:0.80898\n",
      "[8]\tvalidation-auc:0.80903\n",
      "[9]\tvalidation-auc:0.80908\n"
     ]
    },
    {
     "name": "stderr",
     "output_type": "stream",
     "text": [
      "[I 2020-09-11 19:44:10,914] Trial 29 finished with value: 0.7610931531002058 and parameters: {'booster': 'gbtree', 'lambda': 0.00026001427467746446, 'alpha': 6.424538198040193e-08, 'max_depth': 7, 'eta': 1.450269439133771e-05, 'gamma': 0.015520020678401997, 'grow_policy': 'lossguide'}. Best is trial 17 with value: 0.7710843373493976.\n"
     ]
    },
    {
     "name": "stdout",
     "output_type": "stream",
     "text": [
      "[19:44:10] WARNING: ../src/learner.cc:516: \n",
      "Parameters: { silent } might not be used.\n",
      "\n",
      "  This may not be accurate due to some parameters are only used in language bindings but\n",
      "  passed down to XGBoost core.  Or some parameters are not used but slip through this\n",
      "  verification. Please open an issue if you find above cases.\n",
      "\n",
      "\n",
      "[0]\tvalidation-auc:0.72187\n",
      "[1]\tvalidation-auc:0.72187\n",
      "[2]\tvalidation-auc:0.72187\n",
      "[3]\tvalidation-auc:0.72187\n",
      "[4]\tvalidation-auc:0.72187\n",
      "[5]\tvalidation-auc:0.72187\n",
      "[6]\tvalidation-auc:0.72187\n",
      "[7]\tvalidation-auc:0.72187\n",
      "[8]\tvalidation-auc:0.72187\n",
      "[9]\tvalidation-auc:0.72187\n"
     ]
    },
    {
     "name": "stderr",
     "output_type": "stream",
     "text": [
      "[I 2020-09-11 19:44:10,969] Trial 30 finished with value: 0.7437555098442551 and parameters: {'booster': 'gbtree', 'lambda': 4.808159032699084e-07, 'alpha': 1.404416929901819e-05, 'max_depth': 4, 'eta': 0.00031161285525184706, 'gamma': 5.8054955847246805e-06, 'grow_policy': 'lossguide'}. Best is trial 17 with value: 0.7710843373493976.\n"
     ]
    },
    {
     "name": "stdout",
     "output_type": "stream",
     "text": [
      "[19:44:10] WARNING: ../src/learner.cc:516: \n",
      "Parameters: { silent } might not be used.\n",
      "\n",
      "  This may not be accurate due to some parameters are only used in language bindings but\n",
      "  passed down to XGBoost core.  Or some parameters are not used but slip through this\n",
      "  verification. Please open an issue if you find above cases.\n",
      "\n",
      "\n",
      "[0]\tvalidation-auc:0.83030\n",
      "[1]\tvalidation-auc:0.83113\n",
      "[2]\tvalidation-auc:0.83166\n",
      "[3]\tvalidation-auc:0.83171\n",
      "[4]\tvalidation-auc:0.83170\n",
      "[5]\tvalidation-auc:0.83166\n",
      "[6]\tvalidation-auc:0.83169\n",
      "[7]\tvalidation-auc:0.83160\n",
      "[8]\tvalidation-auc:0.83169\n",
      "[9]\tvalidation-auc:0.83167\n"
     ]
    },
    {
     "name": "stderr",
     "output_type": "stream",
     "text": [
      "[I 2020-09-11 19:44:11,049] Trial 31 finished with value: 0.7710843373493976 and parameters: {'booster': 'gbtree', 'lambda': 6.553562420116243e-05, 'alpha': 2.2336109951161937e-06, 'max_depth': 8, 'eta': 6.5386527624927505e-06, 'gamma': 0.00014342851827933438, 'grow_policy': 'lossguide'}. Best is trial 17 with value: 0.7710843373493976.\n"
     ]
    },
    {
     "name": "stdout",
     "output_type": "stream",
     "text": [
      "[19:44:11] WARNING: ../src/learner.cc:516: \n",
      "Parameters: { silent } might not be used.\n",
      "\n",
      "  This may not be accurate due to some parameters are only used in language bindings but\n",
      "  passed down to XGBoost core.  Or some parameters are not used but slip through this\n",
      "  verification. Please open an issue if you find above cases.\n",
      "\n",
      "\n",
      "[0]\tvalidation-auc:0.83035\n",
      "[1]\tvalidation-auc:0.83133\n",
      "[2]\tvalidation-auc:0.83176\n",
      "[3]\tvalidation-auc:0.83167\n",
      "[4]\tvalidation-auc:0.83169\n",
      "[5]\tvalidation-auc:0.83166\n",
      "[6]\tvalidation-auc:0.83170\n",
      "[7]\tvalidation-auc:0.83166\n",
      "[8]\tvalidation-auc:0.83167\n",
      "[9]\tvalidation-auc:0.83166\n"
     ]
    },
    {
     "name": "stderr",
     "output_type": "stream",
     "text": [
      "[I 2020-09-11 19:44:11,128] Trial 32 finished with value: 0.7710843373493976 and parameters: {'booster': 'gbtree', 'lambda': 0.0002928280506137782, 'alpha': 1.5379767223970272e-06, 'max_depth': 8, 'eta': 1.3597065973211408e-05, 'gamma': 0.00014532933378821804, 'grow_policy': 'lossguide'}. Best is trial 17 with value: 0.7710843373493976.\n"
     ]
    },
    {
     "name": "stdout",
     "output_type": "stream",
     "text": [
      "[19:44:11] WARNING: ../src/learner.cc:516: \n",
      "Parameters: { silent } might not be used.\n",
      "\n",
      "  This may not be accurate due to some parameters are only used in language bindings but\n",
      "  passed down to XGBoost core.  Or some parameters are not used but slip through this\n",
      "  verification. Please open an issue if you find above cases.\n",
      "\n",
      "\n",
      "[0]\tvalidation-auc:0.83037\n",
      "[1]\tvalidation-auc:0.83135\n",
      "[2]\tvalidation-auc:0.83177\n",
      "[3]\tvalidation-auc:0.83198\n",
      "[4]\tvalidation-auc:0.83169\n",
      "[5]\tvalidation-auc:0.83229\n",
      "[6]\tvalidation-auc:0.83476\n",
      "[7]\tvalidation-auc:0.83166\n",
      "[8]\tvalidation-auc:0.83475\n",
      "[9]\tvalidation-auc:0.83167\n"
     ]
    },
    {
     "name": "stderr",
     "output_type": "stream",
     "text": [
      "[I 2020-09-11 19:44:11,208] Trial 33 finished with value: 0.7710843373493976 and parameters: {'booster': 'gbtree', 'lambda': 0.0005881388837550694, 'alpha': 1.5518831948170686e-05, 'max_depth': 8, 'eta': 1.898275025302014e-05, 'gamma': 0.001607631908453541, 'grow_policy': 'lossguide'}. Best is trial 17 with value: 0.7710843373493976.\n"
     ]
    },
    {
     "name": "stdout",
     "output_type": "stream",
     "text": [
      "[19:44:11] WARNING: ../src/learner.cc:516: \n",
      "Parameters: { silent } might not be used.\n",
      "\n",
      "  This may not be accurate due to some parameters are only used in language bindings but\n",
      "  passed down to XGBoost core.  Or some parameters are not used but slip through this\n",
      "  verification. Please open an issue if you find above cases.\n",
      "\n",
      "\n",
      "[0]\tvalidation-auc:0.82575\n",
      "[1]\tvalidation-auc:0.83065\n",
      "[2]\tvalidation-auc:0.83438\n",
      "[3]\tvalidation-auc:0.82776\n",
      "[4]\tvalidation-auc:0.82716\n",
      "[5]\tvalidation-auc:0.82710\n",
      "[6]\tvalidation-auc:0.83443\n",
      "[7]\tvalidation-auc:0.83433\n",
      "[8]\tvalidation-auc:0.82903\n",
      "[9]\tvalidation-auc:0.82779\n"
     ]
    },
    {
     "name": "stderr",
     "output_type": "stream",
     "text": [
      "[I 2020-09-11 19:44:11,295] Trial 34 finished with value: 0.7640317367029092 and parameters: {'booster': 'gbtree', 'lambda': 0.010677225094396439, 'alpha': 1.6813591322498057e-05, 'max_depth': 9, 'eta': 1.4815851025883278e-06, 'gamma': 0.001615400409152534, 'grow_policy': 'lossguide'}. Best is trial 17 with value: 0.7710843373493976.\n"
     ]
    },
    {
     "name": "stdout",
     "output_type": "stream",
     "text": [
      "[19:44:11] WARNING: ../src/learner.cc:516: \n",
      "Parameters: { silent } might not be used.\n",
      "\n",
      "  This may not be accurate due to some parameters are only used in language bindings but\n",
      "  passed down to XGBoost core.  Or some parameters are not used but slip through this\n",
      "  verification. Please open an issue if you find above cases.\n",
      "\n",
      "\n",
      "[0]\tvalidation-auc:0.66491\n",
      "[1]\tvalidation-auc:0.66478\n",
      "[2]\tvalidation-auc:0.66468\n",
      "[3]\tvalidation-auc:0.66466\n",
      "[4]\tvalidation-auc:0.66461\n",
      "[5]\tvalidation-auc:0.66456\n",
      "[6]\tvalidation-auc:0.66455\n",
      "[7]\tvalidation-auc:0.66453\n",
      "[8]\tvalidation-auc:0.66452\n",
      "[9]\tvalidation-auc:0.66451\n"
     ]
    },
    {
     "name": "stderr",
     "output_type": "stream",
     "text": [
      "[I 2020-09-11 19:44:11,327] Trial 35 finished with value: 0.678225095503967 and parameters: {'booster': 'gblinear', 'lambda': 0.012856442023506333, 'alpha': 1.2448623733494849e-06}. Best is trial 17 with value: 0.7710843373493976.\n"
     ]
    },
    {
     "name": "stdout",
     "output_type": "stream",
     "text": [
      "[19:44:11] WARNING: ../src/learner.cc:516: \n",
      "Parameters: { silent } might not be used.\n",
      "\n",
      "  This may not be accurate due to some parameters are only used in language bindings but\n",
      "  passed down to XGBoost core.  Or some parameters are not used but slip through this\n",
      "  verification. Please open an issue if you find above cases.\n",
      "\n",
      "\n",
      "[0]\tvalidation-auc:0.80761\n",
      "[1]\tvalidation-auc:0.80816\n",
      "[2]\tvalidation-auc:0.80888\n",
      "[3]\tvalidation-auc:0.80890\n",
      "[4]\tvalidation-auc:0.80891\n",
      "[5]\tvalidation-auc:0.80890\n",
      "[6]\tvalidation-auc:0.80893\n",
      "[7]\tvalidation-auc:0.80902\n",
      "[8]\tvalidation-auc:0.80892\n",
      "[9]\tvalidation-auc:0.80894\n"
     ]
    },
    {
     "name": "stderr",
     "output_type": "stream",
     "text": [
      "[I 2020-09-11 19:44:11,400] Trial 36 finished with value: 0.7610931531002058 and parameters: {'booster': 'gbtree', 'lambda': 5.687887254890722e-08, 'alpha': 1.5562077335727306e-07, 'max_depth': 7, 'eta': 2.227776991427676e-06, 'gamma': 2.799127394539627e-05, 'grow_policy': 'lossguide'}. Best is trial 17 with value: 0.7710843373493976.\n"
     ]
    },
    {
     "name": "stdout",
     "output_type": "stream",
     "text": [
      "[19:44:11] WARNING: ../src/learner.cc:516: \n",
      "Parameters: { silent } might not be used.\n",
      "\n",
      "  This may not be accurate due to some parameters are only used in language bindings but\n",
      "  passed down to XGBoost core.  Or some parameters are not used but slip through this\n",
      "  verification. Please open an issue if you find above cases.\n",
      "\n",
      "\n",
      "[0]\tvalidation-auc:0.83028\n",
      "[1]\tvalidation-auc:0.83228\n",
      "[2]\tvalidation-auc:0.83177\n",
      "[3]\tvalidation-auc:0.83478\n",
      "[4]\tvalidation-auc:0.83262\n",
      "[5]\tvalidation-auc:0.83169\n",
      "[6]\tvalidation-auc:0.83476\n",
      "[7]\tvalidation-auc:0.83258\n",
      "[8]\tvalidation-auc:0.83166\n",
      "[9]\tvalidation-auc:0.83467\n"
     ]
    },
    {
     "name": "stderr",
     "output_type": "stream",
     "text": [
      "[I 2020-09-11 19:44:11,479] Trial 37 finished with value: 0.7710843373493976 and parameters: {'booster': 'gbtree', 'lambda': 0.0004373861566932437, 'alpha': 0.0007809949941424996, 'max_depth': 8, 'eta': 2.2254831182115296e-05, 'gamma': 0.00010776339294622301, 'grow_policy': 'lossguide'}. Best is trial 17 with value: 0.7710843373493976.\n"
     ]
    },
    {
     "name": "stdout",
     "output_type": "stream",
     "text": [
      "[19:44:11] WARNING: ../src/learner.cc:516: \n",
      "Parameters: { silent } might not be used.\n",
      "\n",
      "  This may not be accurate due to some parameters are only used in language bindings but\n",
      "  passed down to XGBoost core.  Or some parameters are not used but slip through this\n",
      "  verification. Please open an issue if you find above cases.\n",
      "\n",
      "\n",
      "[0]\tvalidation-auc:0.50000\n",
      "[1]\tvalidation-auc:0.50492\n",
      "[2]\tvalidation-auc:0.51361\n",
      "[3]\tvalidation-auc:0.78608\n",
      "[4]\tvalidation-auc:0.78423\n",
      "[5]\tvalidation-auc:0.78713\n",
      "[6]\tvalidation-auc:0.78517\n",
      "[7]\tvalidation-auc:0.78563\n",
      "[8]\tvalidation-auc:0.78284\n",
      "[9]\tvalidation-auc:0.78266\n"
     ]
    },
    {
     "name": "stderr",
     "output_type": "stream",
     "text": [
      "[I 2020-09-11 19:44:11,544] Trial 38 finished with value: 0.7449309432853365 and parameters: {'booster': 'gbtree', 'lambda': 0.0022148675169567826, 'alpha': 0.0007622730830444351, 'max_depth': 6, 'eta': 3.065728092367442e-08, 'gamma': 2.4941482864102493e-05, 'grow_policy': 'depthwise'}. Best is trial 17 with value: 0.7710843373493976.\n"
     ]
    },
    {
     "name": "stdout",
     "output_type": "stream",
     "text": [
      "[19:44:11] WARNING: ../src/learner.cc:516: \n",
      "Parameters: { silent } might not be used.\n",
      "\n",
      "  This may not be accurate due to some parameters are only used in language bindings but\n",
      "  passed down to XGBoost core.  Or some parameters are not used but slip through this\n",
      "  verification. Please open an issue if you find above cases.\n",
      "\n",
      "\n",
      "[0]\tvalidation-auc:0.66490\n",
      "[1]\tvalidation-auc:0.66478\n",
      "[2]\tvalidation-auc:0.66467\n",
      "[3]\tvalidation-auc:0.66464\n",
      "[4]\tvalidation-auc:0.66458\n",
      "[5]\tvalidation-auc:0.66454\n",
      "[6]\tvalidation-auc:0.66451\n",
      "[7]\tvalidation-auc:0.66449\n",
      "[8]\tvalidation-auc:0.66448\n",
      "[9]\tvalidation-auc:0.66448\n"
     ]
    },
    {
     "name": "stderr",
     "output_type": "stream",
     "text": [
      "[I 2020-09-11 19:44:11,577] Trial 39 finished with value: 0.6791066705847781 and parameters: {'booster': 'gblinear', 'lambda': 7.323746239115387e-05, 'alpha': 4.3127424927802305e-05}. Best is trial 17 with value: 0.7710843373493976.\n"
     ]
    },
    {
     "name": "stdout",
     "output_type": "stream",
     "text": [
      "[19:44:11] WARNING: ../src/learner.cc:516: \n",
      "Parameters: { silent } might not be used.\n",
      "\n",
      "  This may not be accurate due to some parameters are only used in language bindings but\n",
      "  passed down to XGBoost core.  Or some parameters are not used but slip through this\n",
      "  verification. Please open an issue if you find above cases.\n",
      "\n",
      "\n",
      "[0]\tvalidation-auc:0.80709\n",
      "[1]\tvalidation-auc:0.80699\n",
      "[2]\tvalidation-auc:0.80679\n",
      "[3]\tvalidation-auc:0.80676\n",
      "[4]\tvalidation-auc:0.80672\n",
      "[5]\tvalidation-auc:0.80671\n",
      "[6]\tvalidation-auc:0.80672\n",
      "[7]\tvalidation-auc:0.80672\n",
      "[8]\tvalidation-auc:0.80672\n",
      "[9]\tvalidation-auc:0.80690\n"
     ]
    },
    {
     "name": "stderr",
     "output_type": "stream",
     "text": [
      "[I 2020-09-11 19:44:11,658] Trial 40 finished with value: 0.7602115780193947 and parameters: {'booster': 'dart', 'lambda': 9.304778512698044e-06, 'alpha': 0.0014229811172832491, 'max_depth': 7, 'eta': 0.00036136172705892526, 'gamma': 0.00011480092779729995, 'grow_policy': 'lossguide', 'sample_type': 'uniform', 'normalize_type': 'tree', 'rate_drop': 0.0029249645463301217, 'skip_drop': 0.767376989208872}. Best is trial 17 with value: 0.7710843373493976.\n"
     ]
    },
    {
     "name": "stdout",
     "output_type": "stream",
     "text": [
      "[19:44:11] WARNING: ../src/learner.cc:516: \n",
      "Parameters: { silent } might not be used.\n",
      "\n",
      "  This may not be accurate due to some parameters are only used in language bindings but\n",
      "  passed down to XGBoost core.  Or some parameters are not used but slip through this\n",
      "  verification. Please open an issue if you find above cases.\n",
      "\n",
      "\n",
      "[0]\tvalidation-auc:0.83051\n",
      "[1]\tvalidation-auc:0.83134\n",
      "[2]\tvalidation-auc:0.83182\n",
      "[3]\tvalidation-auc:0.83169\n",
      "[4]\tvalidation-auc:0.83164\n",
      "[5]\tvalidation-auc:0.83166\n",
      "[6]\tvalidation-auc:0.83168\n",
      "[7]\tvalidation-auc:0.83166\n",
      "[8]\tvalidation-auc:0.83475\n",
      "[9]\tvalidation-auc:0.83476\n"
     ]
    },
    {
     "name": "stderr",
     "output_type": "stream",
     "text": [
      "[I 2020-09-11 19:44:11,740] Trial 41 finished with value: 0.7710843373493976 and parameters: {'booster': 'gbtree', 'lambda': 0.0007795436519142429, 'alpha': 0.000414963399429729, 'max_depth': 8, 'eta': 9.122663685188096e-06, 'gamma': 1.8311570687495332e-05, 'grow_policy': 'lossguide'}. Best is trial 17 with value: 0.7710843373493976.\n"
     ]
    },
    {
     "name": "stdout",
     "output_type": "stream",
     "text": [
      "[19:44:11] WARNING: ../src/learner.cc:516: \n",
      "Parameters: { silent } might not be used.\n",
      "\n",
      "  This may not be accurate due to some parameters are only used in language bindings but\n",
      "  passed down to XGBoost core.  Or some parameters are not used but slip through this\n",
      "  verification. Please open an issue if you find above cases.\n",
      "\n",
      "\n",
      "[0]\tvalidation-auc:0.83037\n",
      "[1]\tvalidation-auc:0.83130\n",
      "[2]\tvalidation-auc:0.83173\n",
      "[3]\tvalidation-auc:0.83171\n",
      "[4]\tvalidation-auc:0.83169\n",
      "[5]\tvalidation-auc:0.83166\n",
      "[6]\tvalidation-auc:0.83168\n",
      "[7]\tvalidation-auc:0.83227\n",
      "[8]\tvalidation-auc:0.83259\n",
      "[9]\tvalidation-auc:0.83169\n"
     ]
    },
    {
     "name": "stderr",
     "output_type": "stream",
     "text": [
      "[I 2020-09-11 19:44:11,820] Trial 42 finished with value: 0.7710843373493976 and parameters: {'booster': 'gbtree', 'lambda': 0.0006197832033108362, 'alpha': 5.949085856773629e-06, 'max_depth': 8, 'eta': 1.1852910757230608e-05, 'gamma': 8.30019616057447e-06, 'grow_policy': 'lossguide'}. Best is trial 17 with value: 0.7710843373493976.\n"
     ]
    },
    {
     "name": "stdout",
     "output_type": "stream",
     "text": [
      "[19:44:11] WARNING: ../src/learner.cc:516: \n",
      "Parameters: { silent } might not be used.\n",
      "\n",
      "  This may not be accurate due to some parameters are only used in language bindings but\n",
      "  passed down to XGBoost core.  Or some parameters are not used but slip through this\n",
      "  verification. Please open an issue if you find above cases.\n",
      "\n",
      "\n",
      "[0]\tvalidation-auc:0.82545\n",
      "[1]\tvalidation-auc:0.82683\n",
      "[2]\tvalidation-auc:0.82748\n",
      "[3]\tvalidation-auc:0.82743\n",
      "[4]\tvalidation-auc:0.82728\n",
      "[5]\tvalidation-auc:0.82727\n",
      "[6]\tvalidation-auc:0.83453\n",
      "[7]\tvalidation-auc:0.83176\n",
      "[8]\tvalidation-auc:0.82796\n",
      "[9]\tvalidation-auc:0.82770\n"
     ]
    },
    {
     "name": "stderr",
     "output_type": "stream",
     "text": [
      "[I 2020-09-11 19:44:11,908] Trial 43 finished with value: 0.7640317367029092 and parameters: {'booster': 'gbtree', 'lambda': 0.00021080732416132623, 'alpha': 3.4530480177170205e-05, 'max_depth': 9, 'eta': 2.8858397470607677e-05, 'gamma': 8.86610717054279e-05, 'grow_policy': 'lossguide'}. Best is trial 17 with value: 0.7710843373493976.\n"
     ]
    },
    {
     "name": "stdout",
     "output_type": "stream",
     "text": [
      "[19:44:11] WARNING: ../src/learner.cc:516: \n",
      "Parameters: { silent } might not be used.\n",
      "\n",
      "  This may not be accurate due to some parameters are only used in language bindings but\n",
      "  passed down to XGBoost core.  Or some parameters are not used but slip through this\n",
      "  verification. Please open an issue if you find above cases.\n",
      "\n",
      "\n",
      "[0]\tvalidation-auc:0.83039\n",
      "[1]\tvalidation-auc:0.83476\n",
      "[2]\tvalidation-auc:0.83483\n",
      "[3]\tvalidation-auc:0.83169\n",
      "[4]\tvalidation-auc:0.83386\n",
      "[5]\tvalidation-auc:0.83356\n",
      "[6]\tvalidation-auc:0.83354\n",
      "[7]\tvalidation-auc:0.83347\n",
      "[8]\tvalidation-auc:0.83343\n",
      "[9]\tvalidation-auc:0.83340\n"
     ]
    },
    {
     "name": "stderr",
     "output_type": "stream",
     "text": [
      "[I 2020-09-11 19:44:11,999] Trial 44 finished with value: 0.7681457537466941 and parameters: {'booster': 'gbtree', 'lambda': 0.00041362907248254817, 'alpha': 0.00037082606658957786, 'max_depth': 8, 'eta': 0.0001352152269516721, 'gamma': 2.8605633295463507e-06, 'grow_policy': 'depthwise'}. Best is trial 17 with value: 0.7710843373493976.\n"
     ]
    },
    {
     "name": "stdout",
     "output_type": "stream",
     "text": [
      "[19:44:12] WARNING: ../src/learner.cc:516: \n",
      "Parameters: { silent } might not be used.\n",
      "\n",
      "  This may not be accurate due to some parameters are only used in language bindings but\n",
      "  passed down to XGBoost core.  Or some parameters are not used but slip through this\n",
      "  verification. Please open an issue if you find above cases.\n",
      "\n",
      "\n",
      "[0]\tvalidation-auc:0.80695\n",
      "[1]\tvalidation-auc:0.80831\n",
      "[2]\tvalidation-auc:0.80888\n",
      "[3]\tvalidation-auc:0.80905\n",
      "[4]\tvalidation-auc:0.80894\n",
      "[5]\tvalidation-auc:0.80904\n",
      "[6]\tvalidation-auc:0.80902\n",
      "[7]\tvalidation-auc:0.80907\n",
      "[8]\tvalidation-auc:0.80904\n",
      "[9]\tvalidation-auc:0.80905\n"
     ]
    },
    {
     "name": "stderr",
     "output_type": "stream",
     "text": [
      "[I 2020-09-11 19:44:12,076] Trial 45 finished with value: 0.7610931531002058 and parameters: {'booster': 'gbtree', 'lambda': 0.0007815131629564667, 'alpha': 0.0004683032441727529, 'max_depth': 7, 'eta': 2.1344267910199828e-05, 'gamma': 0.0014884041316804242, 'grow_policy': 'lossguide'}. Best is trial 17 with value: 0.7710843373493976.\n"
     ]
    },
    {
     "name": "stdout",
     "output_type": "stream",
     "text": [
      "[19:44:12] WARNING: ../src/learner.cc:516: \n",
      "Parameters: { silent } might not be used.\n",
      "\n",
      "  This may not be accurate due to some parameters are only used in language bindings but\n",
      "  passed down to XGBoost core.  Or some parameters are not used but slip through this\n",
      "  verification. Please open an issue if you find above cases.\n",
      "\n",
      "\n",
      "[0]\tvalidation-auc:0.82926\n",
      "[1]\tvalidation-auc:0.82774\n",
      "[2]\tvalidation-auc:0.83442\n",
      "[3]\tvalidation-auc:0.83120\n",
      "[4]\tvalidation-auc:0.83435\n",
      "[5]\tvalidation-auc:0.83437\n",
      "[6]\tvalidation-auc:0.83453\n",
      "[7]\tvalidation-auc:0.83452\n",
      "[8]\tvalidation-auc:0.83439\n",
      "[9]\tvalidation-auc:0.83440\n"
     ]
    },
    {
     "name": "stderr",
     "output_type": "stream",
     "text": [
      "[I 2020-09-11 19:44:12,163] Trial 46 finished with value: 0.7640317367029092 and parameters: {'booster': 'gbtree', 'lambda': 0.03695136073447404, 'alpha': 7.247298428834974e-07, 'max_depth': 9, 'eta': 2.7624657135007636e-06, 'gamma': 0.061875373943686016, 'grow_policy': 'lossguide'}. Best is trial 17 with value: 0.7710843373493976.\n"
     ]
    },
    {
     "name": "stdout",
     "output_type": "stream",
     "text": [
      "[19:44:12] WARNING: ../src/learner.cc:516: \n",
      "Parameters: { silent } might not be used.\n",
      "\n",
      "  This may not be accurate due to some parameters are only used in language bindings but\n",
      "  passed down to XGBoost core.  Or some parameters are not used but slip through this\n",
      "  verification. Please open an issue if you find above cases.\n",
      "\n",
      "\n",
      "[0]\tvalidation-auc:0.82953\n",
      "[1]\tvalidation-auc:0.83137\n",
      "[2]\tvalidation-auc:0.83171\n",
      "[3]\tvalidation-auc:0.83126\n",
      "[4]\tvalidation-auc:0.83167\n",
      "[5]\tvalidation-auc:0.83189\n",
      "[6]\tvalidation-auc:0.83161\n",
      "[7]\tvalidation-auc:0.83195\n",
      "[8]\tvalidation-auc:0.83179\n",
      "[9]\tvalidation-auc:0.83166\n"
     ]
    },
    {
     "name": "stderr",
     "output_type": "stream",
     "text": [
      "[I 2020-09-11 19:44:12,244] Trial 47 finished with value: 0.7710843373493976 and parameters: {'booster': 'gbtree', 'lambda': 9.32897938767564e-07, 'alpha': 5.93438817988411e-06, 'max_depth': 8, 'eta': 7.02572691774433e-07, 'gamma': 8.139828661597932e-06, 'grow_policy': 'lossguide'}. Best is trial 17 with value: 0.7710843373493976.\n"
     ]
    },
    {
     "name": "stdout",
     "output_type": "stream",
     "text": [
      "[19:44:12] WARNING: ../src/learner.cc:516: \n",
      "Parameters: { silent } might not be used.\n",
      "\n",
      "  This may not be accurate due to some parameters are only used in language bindings but\n",
      "  passed down to XGBoost core.  Or some parameters are not used but slip through this\n",
      "  verification. Please open an issue if you find above cases.\n",
      "\n",
      "\n",
      "[0]\tvalidation-auc:0.83300\n",
      "[1]\tvalidation-auc:0.83364\n",
      "[2]\tvalidation-auc:0.82931\n",
      "[3]\tvalidation-auc:0.83338\n",
      "[4]\tvalidation-auc:0.83328\n",
      "[5]\tvalidation-auc:0.83394\n",
      "[6]\tvalidation-auc:0.83341\n",
      "[7]\tvalidation-auc:0.83361\n",
      "[8]\tvalidation-auc:0.83350\n",
      "[9]\tvalidation-auc:0.83362\n"
     ]
    },
    {
     "name": "stderr",
     "output_type": "stream",
     "text": [
      "[I 2020-09-11 19:44:12,331] Trial 48 finished with value: 0.7640317367029092 and parameters: {'booster': 'gbtree', 'lambda': 0.18133786852972672, 'alpha': 8.07609353532032e-06, 'max_depth': 9, 'eta': 5.680345400550761e-07, 'gamma': 0.00024849682608512377, 'grow_policy': 'depthwise'}. Best is trial 17 with value: 0.7710843373493976.\n"
     ]
    },
    {
     "name": "stdout",
     "output_type": "stream",
     "text": [
      "[19:44:12] WARNING: ../src/learner.cc:516: \n",
      "Parameters: { silent } might not be used.\n",
      "\n",
      "  This may not be accurate due to some parameters are only used in language bindings but\n",
      "  passed down to XGBoost core.  Or some parameters are not used but slip through this\n",
      "  verification. Please open an issue if you find above cases.\n",
      "\n",
      "\n",
      "[0]\tvalidation-auc:0.82878\n",
      "[1]\tvalidation-auc:0.82651\n",
      "[2]\tvalidation-auc:0.83467\n",
      "[3]\tvalidation-auc:0.83197\n",
      "[4]\tvalidation-auc:0.83086\n",
      "[5]\tvalidation-auc:0.83020\n",
      "[6]\tvalidation-auc:0.83231\n",
      "[7]\tvalidation-auc:0.83163\n",
      "[8]\tvalidation-auc:0.83191\n",
      "[9]\tvalidation-auc:0.83151\n"
     ]
    },
    {
     "name": "stderr",
     "output_type": "stream",
     "text": [
      "[I 2020-09-11 19:44:12,410] Trial 49 finished with value: 0.7710843373493976 and parameters: {'booster': 'gbtree', 'lambda': 7.254514495185588e-07, 'alpha': 2.2147508491508297e-06, 'max_depth': 8, 'eta': 1.2999521437626776e-07, 'gamma': 5.32065876318294e-07, 'grow_policy': 'lossguide'}. Best is trial 17 with value: 0.7710843373493976.\n"
     ]
    },
    {
     "name": "stdout",
     "output_type": "stream",
     "text": [
      "[19:44:12] WARNING: ../src/learner.cc:516: \n",
      "Parameters: { silent } might not be used.\n",
      "\n",
      "  This may not be accurate due to some parameters are only used in language bindings but\n",
      "  passed down to XGBoost core.  Or some parameters are not used but slip through this\n",
      "  verification. Please open an issue if you find above cases.\n",
      "\n",
      "\n",
      "[0]\tvalidation-auc:0.80782\n",
      "[1]\tvalidation-auc:0.80781\n",
      "[2]\tvalidation-auc:0.80771\n",
      "[3]\tvalidation-auc:0.80837\n",
      "[4]\tvalidation-auc:0.80849\n",
      "[5]\tvalidation-auc:0.80863\n",
      "[6]\tvalidation-auc:0.80891\n",
      "[7]\tvalidation-auc:0.80903\n",
      "[8]\tvalidation-auc:0.80883\n",
      "[9]\tvalidation-auc:0.80849\n"
     ]
    },
    {
     "name": "stderr",
     "output_type": "stream",
     "text": [
      "[I 2020-09-11 19:44:12,496] Trial 50 finished with value: 0.7610931531002058 and parameters: {'booster': 'dart', 'lambda': 0.00422430492947121, 'alpha': 0.015885860976886382, 'max_depth': 7, 'eta': 4.489153977555862e-07, 'gamma': 3.84870680427482e-08, 'grow_policy': 'lossguide', 'sample_type': 'weighted', 'normalize_type': 'forest', 'rate_drop': 1.648596904062369e-08, 'skip_drop': 7.609649919740133e-06}. Best is trial 17 with value: 0.7710843373493976.\n"
     ]
    },
    {
     "name": "stdout",
     "output_type": "stream",
     "text": [
      "[19:44:12] WARNING: ../src/learner.cc:516: \n",
      "Parameters: { silent } might not be used.\n",
      "\n",
      "  This may not be accurate due to some parameters are only used in language bindings but\n",
      "  passed down to XGBoost core.  Or some parameters are not used but slip through this\n",
      "  verification. Please open an issue if you find above cases.\n",
      "\n",
      "\n",
      "[0]\tvalidation-auc:0.51501\n",
      "[1]\tvalidation-auc:0.82878\n",
      "[2]\tvalidation-auc:0.82961\n",
      "[3]\tvalidation-auc:0.82591\n",
      "[4]\tvalidation-auc:0.83256\n",
      "[5]\tvalidation-auc:0.83339\n",
      "[6]\tvalidation-auc:0.83270\n",
      "[7]\tvalidation-auc:0.83047\n",
      "[8]\tvalidation-auc:0.83022\n",
      "[9]\tvalidation-auc:0.82993\n"
     ]
    },
    {
     "name": "stderr",
     "output_type": "stream",
     "text": [
      "[I 2020-09-11 19:44:12,583] Trial 51 finished with value: 0.7652071701439906 and parameters: {'booster': 'gbtree', 'lambda': 0.0016230442208596478, 'alpha': 2.2851618493548805e-07, 'max_depth': 8, 'eta': 6.614710952650189e-08, 'gamma': 0.0017047783886780996, 'grow_policy': 'lossguide'}. Best is trial 17 with value: 0.7710843373493976.\n"
     ]
    },
    {
     "name": "stdout",
     "output_type": "stream",
     "text": [
      "[19:44:12] WARNING: ../src/learner.cc:516: \n",
      "Parameters: { silent } might not be used.\n",
      "\n",
      "  This may not be accurate due to some parameters are only used in language bindings but\n",
      "  passed down to XGBoost core.  Or some parameters are not used but slip through this\n",
      "  verification. Please open an issue if you find above cases.\n",
      "\n",
      "\n",
      "[0]\tvalidation-auc:0.82930\n",
      "[1]\tvalidation-auc:0.83180\n",
      "[2]\tvalidation-auc:0.83142\n",
      "[3]\tvalidation-auc:0.83160\n",
      "[4]\tvalidation-auc:0.83160\n",
      "[5]\tvalidation-auc:0.83171\n",
      "[6]\tvalidation-auc:0.83193\n",
      "[7]\tvalidation-auc:0.83149\n",
      "[8]\tvalidation-auc:0.83181\n",
      "[9]\tvalidation-auc:0.83149\n"
     ]
    },
    {
     "name": "stderr",
     "output_type": "stream",
     "text": [
      "[I 2020-09-11 19:44:12,663] Trial 52 finished with value: 0.7710843373493976 and parameters: {'booster': 'gbtree', 'lambda': 9.64196198069761e-07, 'alpha': 3.662627943787146e-05, 'max_depth': 8, 'eta': 7.954619031179446e-07, 'gamma': 2.3870495267326044e-07, 'grow_policy': 'lossguide'}. Best is trial 17 with value: 0.7710843373493976.\n"
     ]
    },
    {
     "name": "stdout",
     "output_type": "stream",
     "text": [
      "[19:44:12] WARNING: ../src/learner.cc:516: \n",
      "Parameters: { silent } might not be used.\n",
      "\n",
      "  This may not be accurate due to some parameters are only used in language bindings but\n",
      "  passed down to XGBoost core.  Or some parameters are not used but slip through this\n",
      "  verification. Please open an issue if you find above cases.\n",
      "\n",
      "\n",
      "[0]\tvalidation-auc:0.82555\n",
      "[1]\tvalidation-auc:0.82682\n",
      "[2]\tvalidation-auc:0.82753\n",
      "[3]\tvalidation-auc:0.82745\n",
      "[4]\tvalidation-auc:0.82734\n",
      "[5]\tvalidation-auc:0.82787\n",
      "[6]\tvalidation-auc:0.82771\n",
      "[7]\tvalidation-auc:0.82784\n",
      "[8]\tvalidation-auc:0.82793\n",
      "[9]\tvalidation-auc:0.82789\n"
     ]
    },
    {
     "name": "stderr",
     "output_type": "stream",
     "text": [
      "[I 2020-09-11 19:44:12,752] Trial 53 finished with value: 0.7628563032618279 and parameters: {'booster': 'gbtree', 'lambda': 1.251307996469314e-06, 'alpha': 5.783481152663494e-06, 'max_depth': 9, 'eta': 4.7505143413911836e-05, 'gamma': 6.416183560797786e-06, 'grow_policy': 'lossguide'}. Best is trial 17 with value: 0.7710843373493976.\n"
     ]
    },
    {
     "name": "stdout",
     "output_type": "stream",
     "text": [
      "[19:44:12] WARNING: ../src/learner.cc:516: \n",
      "Parameters: { silent } might not be used.\n",
      "\n",
      "  This may not be accurate due to some parameters are only used in language bindings but\n",
      "  passed down to XGBoost core.  Or some parameters are not used but slip through this\n",
      "  verification. Please open an issue if you find above cases.\n",
      "\n",
      "\n",
      "[0]\tvalidation-auc:0.80671\n",
      "[1]\tvalidation-auc:0.80826\n",
      "[2]\tvalidation-auc:0.80882\n",
      "[3]\tvalidation-auc:0.80894\n",
      "[4]\tvalidation-auc:0.80890\n",
      "[5]\tvalidation-auc:0.80904\n",
      "[6]\tvalidation-auc:0.80900\n",
      "[7]\tvalidation-auc:0.80895\n",
      "[8]\tvalidation-auc:0.80894\n",
      "[9]\tvalidation-auc:0.80894\n"
     ]
    },
    {
     "name": "stderr",
     "output_type": "stream",
     "text": [
      "[I 2020-09-11 19:44:12,826] Trial 54 finished with value: 0.7610931531002058 and parameters: {'booster': 'gbtree', 'lambda': 9.774004970609662e-08, 'alpha': 9.402095999643897e-07, 'max_depth': 7, 'eta': 5.341472127138789e-06, 'gamma': 1.1552185163353882e-07, 'grow_policy': 'lossguide'}. Best is trial 17 with value: 0.7710843373493976.\n"
     ]
    },
    {
     "name": "stdout",
     "output_type": "stream",
     "text": [
      "[19:44:12] WARNING: ../src/learner.cc:516: \n",
      "Parameters: { silent } might not be used.\n",
      "\n",
      "  This may not be accurate due to some parameters are only used in language bindings but\n",
      "  passed down to XGBoost core.  Or some parameters are not used but slip through this\n",
      "  verification. Please open an issue if you find above cases.\n",
      "\n",
      "\n",
      "[0]\tvalidation-auc:0.83106\n",
      "[1]\tvalidation-auc:0.83116\n",
      "[2]\tvalidation-auc:0.83184\n",
      "[3]\tvalidation-auc:0.83156\n",
      "[4]\tvalidation-auc:0.83160\n",
      "[5]\tvalidation-auc:0.83164\n",
      "[6]\tvalidation-auc:0.83162\n",
      "[7]\tvalidation-auc:0.83167\n",
      "[8]\tvalidation-auc:0.83168\n",
      "[9]\tvalidation-auc:0.83168\n"
     ]
    },
    {
     "name": "stderr",
     "output_type": "stream",
     "text": [
      "[I 2020-09-11 19:44:12,906] Trial 55 finished with value: 0.7710843373493976 and parameters: {'booster': 'gbtree', 'lambda': 0.00011839882770383135, 'alpha': 3.8852541540941624e-08, 'max_depth': 8, 'eta': 3.2927642566536024e-06, 'gamma': 1.7275763614803764e-05, 'grow_policy': 'lossguide'}. Best is trial 17 with value: 0.7710843373493976.\n"
     ]
    },
    {
     "name": "stdout",
     "output_type": "stream",
     "text": [
      "[19:44:12] WARNING: ../src/learner.cc:516: \n",
      "Parameters: { silent } might not be used.\n",
      "\n",
      "  This may not be accurate due to some parameters are only used in language bindings but\n",
      "  passed down to XGBoost core.  Or some parameters are not used but slip through this\n",
      "  verification. Please open an issue if you find above cases.\n",
      "\n",
      "\n",
      "[0]\tvalidation-auc:0.82550\n",
      "[1]\tvalidation-auc:0.83422\n",
      "[2]\tvalidation-auc:0.82814\n",
      "[3]\tvalidation-auc:0.82745\n",
      "[4]\tvalidation-auc:0.82730\n",
      "[5]\tvalidation-auc:0.82727\n",
      "[6]\tvalidation-auc:0.82809\n",
      "[7]\tvalidation-auc:0.83472\n",
      "[8]\tvalidation-auc:0.82946\n",
      "[9]\tvalidation-auc:0.83481\n"
     ]
    },
    {
     "name": "stderr",
     "output_type": "stream",
     "text": [
      "[I 2020-09-11 19:44:12,994] Trial 56 finished with value: 0.7628563032618279 and parameters: {'booster': 'gbtree', 'lambda': 0.00024632602935798084, 'alpha': 8.154649204303874e-05, 'max_depth': 9, 'eta': 3.691077244733588e-05, 'gamma': 0.0001652699042696975, 'grow_policy': 'lossguide'}. Best is trial 17 with value: 0.7710843373493976.\n"
     ]
    },
    {
     "name": "stdout",
     "output_type": "stream",
     "text": [
      "[19:44:13] WARNING: ../src/learner.cc:516: \n",
      "Parameters: { silent } might not be used.\n",
      "\n",
      "  This may not be accurate due to some parameters are only used in language bindings but\n",
      "  passed down to XGBoost core.  Or some parameters are not used but slip through this\n",
      "  verification. Please open an issue if you find above cases.\n",
      "\n",
      "\n",
      "[0]\tvalidation-auc:0.83049\n",
      "[1]\tvalidation-auc:0.83153\n",
      "[2]\tvalidation-auc:0.83178\n",
      "[3]\tvalidation-auc:0.83158\n",
      "[4]\tvalidation-auc:0.83164\n",
      "[5]\tvalidation-auc:0.83172\n",
      "[6]\tvalidation-auc:0.83174\n",
      "[7]\tvalidation-auc:0.83167\n",
      "[8]\tvalidation-auc:0.83167\n",
      "[9]\tvalidation-auc:0.83167\n"
     ]
    },
    {
     "name": "stderr",
     "output_type": "stream",
     "text": [
      "[I 2020-09-11 19:44:13,074] Trial 57 finished with value: 0.7710843373493976 and parameters: {'booster': 'gbtree', 'lambda': 0.00010883596683375062, 'alpha': 3.223812390167389e-08, 'max_depth': 8, 'eta': 3.4601628949131144e-06, 'gamma': 1.7608756191461707e-05, 'grow_policy': 'lossguide'}. Best is trial 17 with value: 0.7710843373493976.\n"
     ]
    },
    {
     "name": "stdout",
     "output_type": "stream",
     "text": [
      "[19:44:13] WARNING: ../src/learner.cc:516: \n",
      "Parameters: { silent } might not be used.\n",
      "\n",
      "  This may not be accurate due to some parameters are only used in language bindings but\n",
      "  passed down to XGBoost core.  Or some parameters are not used but slip through this\n",
      "  verification. Please open an issue if you find above cases.\n",
      "\n",
      "\n",
      "[0]\tvalidation-auc:0.66491\n",
      "[1]\tvalidation-auc:0.66477\n",
      "[2]\tvalidation-auc:0.66467\n",
      "[3]\tvalidation-auc:0.66464\n",
      "[4]\tvalidation-auc:0.66458\n",
      "[5]\tvalidation-auc:0.66454\n",
      "[6]\tvalidation-auc:0.66452\n",
      "[7]\tvalidation-auc:0.66449\n",
      "[8]\tvalidation-auc:0.66449\n",
      "[9]\tvalidation-auc:0.66448\n"
     ]
    },
    {
     "name": "stderr",
     "output_type": "stream",
     "text": [
      "[I 2020-09-11 19:44:13,108] Trial 58 finished with value: 0.6791066705847781 and parameters: {'booster': 'gblinear', 'lambda': 1.3738209683644366e-05, 'alpha': 1.6284293089310745e-07}. Best is trial 17 with value: 0.7710843373493976.\n"
     ]
    },
    {
     "name": "stdout",
     "output_type": "stream",
     "text": [
      "[19:44:13] WARNING: ../src/learner.cc:516: \n",
      "Parameters: { silent } might not be used.\n",
      "\n",
      "  This may not be accurate due to some parameters are only used in language bindings but\n",
      "  passed down to XGBoost core.  Or some parameters are not used but slip through this\n",
      "  verification. Please open an issue if you find above cases.\n",
      "\n",
      "\n",
      "[0]\tvalidation-auc:0.80697\n",
      "[1]\tvalidation-auc:0.80841\n",
      "[2]\tvalidation-auc:0.80830\n",
      "[3]\tvalidation-auc:0.80794\n",
      "[4]\tvalidation-auc:0.80785\n",
      "[5]\tvalidation-auc:0.80787\n",
      "[6]\tvalidation-auc:0.80754\n",
      "[7]\tvalidation-auc:0.80751\n",
      "[8]\tvalidation-auc:0.80744\n",
      "[9]\tvalidation-auc:0.80744\n"
     ]
    },
    {
     "name": "stderr",
     "output_type": "stream",
     "text": [
      "[I 2020-09-11 19:44:13,182] Trial 59 finished with value: 0.7599177196591242 and parameters: {'booster': 'gbtree', 'lambda': 0.0008450568875998192, 'alpha': 0.00015486485835331803, 'max_depth': 7, 'eta': 0.00010142418271556049, 'gamma': 4.399575348342655e-05, 'grow_policy': 'lossguide'}. Best is trial 17 with value: 0.7710843373493976.\n"
     ]
    },
    {
     "name": "stdout",
     "output_type": "stream",
     "text": [
      "[19:44:13] WARNING: ../src/learner.cc:516: \n",
      "Parameters: { silent } might not be used.\n",
      "\n",
      "  This may not be accurate due to some parameters are only used in language bindings but\n",
      "  passed down to XGBoost core.  Or some parameters are not used but slip through this\n",
      "  verification. Please open an issue if you find above cases.\n",
      "\n",
      "\n",
      "[0]\tvalidation-auc:0.82537\n",
      "[1]\tvalidation-auc:0.82674\n",
      "[2]\tvalidation-auc:0.82742\n",
      "[3]\tvalidation-auc:0.82734\n",
      "[4]\tvalidation-auc:0.82724\n",
      "[5]\tvalidation-auc:0.82722\n",
      "[6]\tvalidation-auc:0.82732\n",
      "[7]\tvalidation-auc:0.82733\n",
      "[8]\tvalidation-auc:0.82725\n",
      "[9]\tvalidation-auc:0.82719\n"
     ]
    },
    {
     "name": "stderr",
     "output_type": "stream",
     "text": [
      "[I 2020-09-11 19:44:13,270] Trial 60 finished with value: 0.7640317367029092 and parameters: {'booster': 'gbtree', 'lambda': 1.0474247670388462e-08, 'alpha': 7.66793453734011e-08, 'max_depth': 9, 'eta': 8.2696799907837e-06, 'gamma': 8.642540058607457e-07, 'grow_policy': 'lossguide'}. Best is trial 17 with value: 0.7710843373493976.\n"
     ]
    },
    {
     "name": "stdout",
     "output_type": "stream",
     "text": [
      "[19:44:13] WARNING: ../src/learner.cc:516: \n",
      "Parameters: { silent } might not be used.\n",
      "\n",
      "  This may not be accurate due to some parameters are only used in language bindings but\n",
      "  passed down to XGBoost core.  Or some parameters are not used but slip through this\n",
      "  verification. Please open an issue if you find above cases.\n",
      "\n",
      "\n",
      "[0]\tvalidation-auc:0.83043\n",
      "[1]\tvalidation-auc:0.83134\n",
      "[2]\tvalidation-auc:0.83179\n",
      "[3]\tvalidation-auc:0.83194\n",
      "[4]\tvalidation-auc:0.83201\n",
      "[5]\tvalidation-auc:0.83197\n",
      "[6]\tvalidation-auc:0.83199\n",
      "[7]\tvalidation-auc:0.83474\n",
      "[8]\tvalidation-auc:0.83475\n",
      "[9]\tvalidation-auc:0.83474\n"
     ]
    },
    {
     "name": "stderr",
     "output_type": "stream",
     "text": [
      "[I 2020-09-11 19:44:13,351] Trial 61 finished with value: 0.7710843373493976 and parameters: {'booster': 'gbtree', 'lambda': 0.005677977785137509, 'alpha': 1.948828854792138e-06, 'max_depth': 8, 'eta': 7.641209652742963e-06, 'gamma': 0.00041449181098050016, 'grow_policy': 'lossguide'}. Best is trial 17 with value: 0.7710843373493976.\n"
     ]
    },
    {
     "name": "stdout",
     "output_type": "stream",
     "text": [
      "[19:44:13] WARNING: ../src/learner.cc:516: \n",
      "Parameters: { silent } might not be used.\n",
      "\n",
      "  This may not be accurate due to some parameters are only used in language bindings but\n",
      "  passed down to XGBoost core.  Or some parameters are not used but slip through this\n",
      "  verification. Please open an issue if you find above cases.\n",
      "\n",
      "\n",
      "[0]\tvalidation-auc:0.82733\n",
      "[1]\tvalidation-auc:0.83291\n",
      "[2]\tvalidation-auc:0.83002\n",
      "[3]\tvalidation-auc:0.83093\n",
      "[4]\tvalidation-auc:0.83066\n",
      "[5]\tvalidation-auc:0.83209\n",
      "[6]\tvalidation-auc:0.83235\n",
      "[7]\tvalidation-auc:0.83185\n",
      "[8]\tvalidation-auc:0.83143\n",
      "[9]\tvalidation-auc:0.83117\n"
     ]
    },
    {
     "name": "stderr",
     "output_type": "stream",
     "text": [
      "[I 2020-09-11 19:44:13,432] Trial 62 finished with value: 0.7710843373493976 and parameters: {'booster': 'gbtree', 'lambda': 0.005400179172247822, 'alpha': 2.1042852943532235e-06, 'max_depth': 8, 'eta': 2.5455046071831315e-07, 'gamma': 2.2830294630721996e-06, 'grow_policy': 'lossguide'}. Best is trial 17 with value: 0.7710843373493976.\n"
     ]
    },
    {
     "name": "stdout",
     "output_type": "stream",
     "text": [
      "[19:44:13] WARNING: ../src/learner.cc:516: \n",
      "Parameters: { silent } might not be used.\n",
      "\n",
      "  This may not be accurate due to some parameters are only used in language bindings but\n",
      "  passed down to XGBoost core.  Or some parameters are not used but slip through this\n",
      "  verification. Please open an issue if you find above cases.\n",
      "\n",
      "\n",
      "[0]\tvalidation-auc:0.83037\n",
      "[1]\tvalidation-auc:0.83128\n",
      "[2]\tvalidation-auc:0.83181\n",
      "[3]\tvalidation-auc:0.83167\n",
      "[4]\tvalidation-auc:0.83169\n",
      "[5]\tvalidation-auc:0.83168\n",
      "[6]\tvalidation-auc:0.83168\n",
      "[7]\tvalidation-auc:0.83166\n",
      "[8]\tvalidation-auc:0.83169\n",
      "[9]\tvalidation-auc:0.83166\n"
     ]
    },
    {
     "name": "stderr",
     "output_type": "stream",
     "text": [
      "[I 2020-09-11 19:44:13,510] Trial 63 finished with value: 0.7710843373493976 and parameters: {'booster': 'gbtree', 'lambda': 5.202736676053321e-05, 'alpha': 1.3691628938799477e-06, 'max_depth': 8, 'eta': 8.181044202872035e-06, 'gamma': 0.00047760832937517316, 'grow_policy': 'lossguide'}. Best is trial 17 with value: 0.7710843373493976.\n"
     ]
    },
    {
     "name": "stdout",
     "output_type": "stream",
     "text": [
      "[19:44:13] WARNING: ../src/learner.cc:516: \n",
      "Parameters: { silent } might not be used.\n",
      "\n",
      "  This may not be accurate due to some parameters are only used in language bindings but\n",
      "  passed down to XGBoost core.  Or some parameters are not used but slip through this\n",
      "  verification. Please open an issue if you find above cases.\n",
      "\n",
      "\n",
      "[0]\tvalidation-auc:0.80697\n",
      "[1]\tvalidation-auc:0.80842\n",
      "[2]\tvalidation-auc:0.80887\n",
      "[3]\tvalidation-auc:0.80895\n",
      "[4]\tvalidation-auc:0.80903\n",
      "[5]\tvalidation-auc:0.80905\n",
      "[6]\tvalidation-auc:0.80892\n",
      "[7]\tvalidation-auc:0.80908\n",
      "[8]\tvalidation-auc:0.80904\n",
      "[9]\tvalidation-auc:0.80905\n"
     ]
    },
    {
     "name": "stderr",
     "output_type": "stream",
     "text": [
      "[I 2020-09-11 19:44:13,582] Trial 64 finished with value: 0.7610931531002058 and parameters: {'booster': 'gbtree', 'lambda': 0.0004466047724326855, 'alpha': 2.300617724389947e-05, 'max_depth': 7, 'eta': 1.9444909734679345e-05, 'gamma': 0.012703023939233539, 'grow_policy': 'lossguide'}. Best is trial 17 with value: 0.7710843373493976.\n"
     ]
    },
    {
     "name": "stdout",
     "output_type": "stream",
     "text": [
      "[19:44:13] WARNING: ../src/learner.cc:516: \n",
      "Parameters: { silent } might not be used.\n",
      "\n",
      "  This may not be accurate due to some parameters are only used in language bindings but\n",
      "  passed down to XGBoost core.  Or some parameters are not used but slip through this\n",
      "  verification. Please open an issue if you find above cases.\n",
      "\n",
      "\n",
      "[0]\tvalidation-auc:0.83025\n",
      "[1]\tvalidation-auc:0.83140\n",
      "[2]\tvalidation-auc:0.83178\n",
      "[3]\tvalidation-auc:0.83259\n",
      "[4]\tvalidation-auc:0.83199\n",
      "[5]\tvalidation-auc:0.83474\n",
      "[6]\tvalidation-auc:0.83230\n",
      "[7]\tvalidation-auc:0.83197\n",
      "[8]\tvalidation-auc:0.83198\n",
      "[9]\tvalidation-auc:0.83167\n"
     ]
    },
    {
     "name": "stderr",
     "output_type": "stream",
     "text": [
      "[I 2020-09-11 19:44:13,661] Trial 65 finished with value: 0.7710843373493976 and parameters: {'booster': 'gbtree', 'lambda': 0.0014234997611416059, 'alpha': 5.983372685161793e-06, 'max_depth': 8, 'eta': 1.147228138189296e-05, 'gamma': 0.0009517921906495951, 'grow_policy': 'lossguide'}. Best is trial 17 with value: 0.7710843373493976.\n"
     ]
    },
    {
     "name": "stdout",
     "output_type": "stream",
     "text": [
      "[19:44:13] WARNING: ../src/learner.cc:516: \n",
      "Parameters: { silent } might not be used.\n",
      "\n",
      "  This may not be accurate due to some parameters are only used in language bindings but\n",
      "  passed down to XGBoost core.  Or some parameters are not used but slip through this\n",
      "  verification. Please open an issue if you find above cases.\n",
      "\n",
      "\n",
      "[0]\tvalidation-auc:0.83470\n",
      "[1]\tvalidation-auc:0.82715\n",
      "[2]\tvalidation-auc:0.83189\n",
      "[3]\tvalidation-auc:0.83458\n",
      "[4]\tvalidation-auc:0.83443\n",
      "[5]\tvalidation-auc:0.83444\n",
      "[6]\tvalidation-auc:0.83478\n",
      "[7]\tvalidation-auc:0.83465\n",
      "[8]\tvalidation-auc:0.83454\n",
      "[9]\tvalidation-auc:0.83459\n"
     ]
    },
    {
     "name": "stderr",
     "output_type": "stream",
     "text": [
      "[I 2020-09-11 19:44:13,758] Trial 66 finished with value: 0.7622685865412872 and parameters: {'booster': 'gbtree', 'lambda': 2.4932198200453226e-05, 'alpha': 0.0024954053700095907, 'max_depth': 9, 'eta': 6.738273277736536e-05, 'gamma': 0.004255609286773778, 'grow_policy': 'lossguide'}. Best is trial 17 with value: 0.7710843373493976.\n"
     ]
    },
    {
     "name": "stdout",
     "output_type": "stream",
     "text": [
      "[19:44:13] WARNING: ../src/learner.cc:516: \n",
      "Parameters: { silent } might not be used.\n",
      "\n",
      "  This may not be accurate due to some parameters are only used in language bindings but\n",
      "  passed down to XGBoost core.  Or some parameters are not used but slip through this\n",
      "  verification. Please open an issue if you find above cases.\n",
      "\n",
      "\n",
      "[0]\tvalidation-auc:0.80707\n",
      "[1]\tvalidation-auc:0.80827\n",
      "[2]\tvalidation-auc:0.80765\n",
      "[3]\tvalidation-auc:0.80751\n",
      "[4]\tvalidation-auc:0.80746\n",
      "[5]\tvalidation-auc:0.80673\n",
      "[6]\tvalidation-auc:0.80672\n",
      "[7]\tvalidation-auc:0.80673\n",
      "[8]\tvalidation-auc:0.80673\n",
      "[9]\tvalidation-auc:0.80672\n"
     ]
    },
    {
     "name": "stderr",
     "output_type": "stream",
     "text": [
      "[I 2020-09-11 19:44:13,838] Trial 67 finished with value: 0.7599177196591242 and parameters: {'booster': 'gbtree', 'lambda': 0.00114992488496829, 'alpha': 5.534505227352156e-05, 'max_depth': 7, 'eta': 0.00022009876123832355, 'gamma': 0.0337961195645015, 'grow_policy': 'lossguide'}. Best is trial 17 with value: 0.7710843373493976.\n"
     ]
    },
    {
     "name": "stdout",
     "output_type": "stream",
     "text": [
      "[19:44:13] WARNING: ../src/learner.cc:516: \n",
      "Parameters: { silent } might not be used.\n",
      "\n",
      "  This may not be accurate due to some parameters are only used in language bindings but\n",
      "  passed down to XGBoost core.  Or some parameters are not used but slip through this\n",
      "  verification. Please open an issue if you find above cases.\n",
      "\n",
      "\n",
      "[0]\tvalidation-auc:0.83033\n",
      "[1]\tvalidation-auc:0.83474\n",
      "[2]\tvalidation-auc:0.83177\n",
      "[3]\tvalidation-auc:0.83198\n",
      "[4]\tvalidation-auc:0.83230\n",
      "[5]\tvalidation-auc:0.83166\n",
      "[6]\tvalidation-auc:0.83198\n",
      "[7]\tvalidation-auc:0.83218\n",
      "[8]\tvalidation-auc:0.83161\n",
      "[9]\tvalidation-auc:0.83191\n"
     ]
    },
    {
     "name": "stderr",
     "output_type": "stream",
     "text": [
      "[I 2020-09-11 19:44:13,924] Trial 68 finished with value: 0.7707904789891272 and parameters: {'booster': 'gbtree', 'lambda': 0.00032281255702871006, 'alpha': 0.00030816108987950064, 'max_depth': 8, 'eta': 2.6866897002970514e-05, 'gamma': 4.534901144599676e-05, 'grow_policy': 'lossguide'}. Best is trial 17 with value: 0.7710843373493976.\n"
     ]
    },
    {
     "name": "stdout",
     "output_type": "stream",
     "text": [
      "[19:44:13] WARNING: ../src/learner.cc:516: \n",
      "Parameters: { silent } might not be used.\n",
      "\n",
      "  This may not be accurate due to some parameters are only used in language bindings but\n",
      "  passed down to XGBoost core.  Or some parameters are not used but slip through this\n",
      "  verification. Please open an issue if you find above cases.\n",
      "\n",
      "\n",
      "[0]\tvalidation-auc:0.78584\n",
      "[1]\tvalidation-auc:0.78518\n",
      "[2]\tvalidation-auc:0.78518\n",
      "[3]\tvalidation-auc:0.78518\n",
      "[4]\tvalidation-auc:0.78518\n",
      "[5]\tvalidation-auc:0.78518\n",
      "[6]\tvalidation-auc:0.78530\n",
      "[7]\tvalidation-auc:0.78529\n",
      "[8]\tvalidation-auc:0.78539\n",
      "[9]\tvalidation-auc:0.78539\n"
     ]
    },
    {
     "name": "stderr",
     "output_type": "stream",
     "text": [
      "[I 2020-09-11 19:44:14,007] Trial 69 finished with value: 0.7572729944166912 and parameters: {'booster': 'dart', 'lambda': 4.227740652721064e-06, 'alpha': 1.471073910261273e-08, 'max_depth': 6, 'eta': 0.0009421073340311884, 'gamma': 0.0051608481806223174, 'grow_policy': 'depthwise', 'sample_type': 'uniform', 'normalize_type': 'tree', 'rate_drop': 0.0009239100901631685, 'skip_drop': 5.191426086983311e-06}. Best is trial 17 with value: 0.7710843373493976.\n"
     ]
    },
    {
     "name": "stdout",
     "output_type": "stream",
     "text": [
      "[19:44:14] WARNING: ../src/learner.cc:516: \n",
      "Parameters: { silent } might not be used.\n",
      "\n",
      "  This may not be accurate due to some parameters are only used in language bindings but\n",
      "  passed down to XGBoost core.  Or some parameters are not used but slip through this\n",
      "  verification. Please open an issue if you find above cases.\n",
      "\n",
      "\n",
      "[0]\tvalidation-auc:0.82498\n",
      "[1]\tvalidation-auc:0.82711\n",
      "[2]\tvalidation-auc:0.82715\n",
      "[3]\tvalidation-auc:0.82697\n",
      "[4]\tvalidation-auc:0.82730\n",
      "[5]\tvalidation-auc:0.82689\n",
      "[6]\tvalidation-auc:0.82682\n",
      "[7]\tvalidation-auc:0.82707\n",
      "[8]\tvalidation-auc:0.82711\n",
      "[9]\tvalidation-auc:0.82697\n"
     ]
    },
    {
     "name": "stderr",
     "output_type": "stream",
     "text": [
      "[I 2020-09-11 19:44:14,107] Trial 70 finished with value: 0.7640317367029092 and parameters: {'booster': 'gbtree', 'lambda': 1.629121478057786e-06, 'alpha': 5.018852558015273e-07, 'max_depth': 9, 'eta': 7.656025446488546e-07, 'gamma': 3.546352306151856e-06, 'grow_policy': 'lossguide'}. Best is trial 17 with value: 0.7710843373493976.\n"
     ]
    },
    {
     "name": "stdout",
     "output_type": "stream",
     "text": [
      "[19:44:14] WARNING: ../src/learner.cc:516: \n",
      "Parameters: { silent } might not be used.\n",
      "\n",
      "  This may not be accurate due to some parameters are only used in language bindings but\n",
      "  passed down to XGBoost core.  Or some parameters are not used but slip through this\n",
      "  verification. Please open an issue if you find above cases.\n",
      "\n",
      "\n",
      "[0]\tvalidation-auc:0.83084\n",
      "[1]\tvalidation-auc:0.83147\n",
      "[2]\tvalidation-auc:0.83198\n",
      "[3]\tvalidation-auc:0.83200\n",
      "[4]\tvalidation-auc:0.83192\n",
      "[5]\tvalidation-auc:0.83160\n",
      "[6]\tvalidation-auc:0.83155\n",
      "[7]\tvalidation-auc:0.83157\n",
      "[8]\tvalidation-auc:0.83156\n",
      "[9]\tvalidation-auc:0.83162\n"
     ]
    },
    {
     "name": "stderr",
     "output_type": "stream",
     "text": [
      "[I 2020-09-11 19:44:14,192] Trial 71 finished with value: 0.7710843373493976 and parameters: {'booster': 'gbtree', 'lambda': 0.00016301843814580015, 'alpha': 4.1474750620132544e-06, 'max_depth': 8, 'eta': 1.8335642457235623e-06, 'gamma': 0.0008379349733817906, 'grow_policy': 'lossguide'}. Best is trial 17 with value: 0.7710843373493976.\n"
     ]
    },
    {
     "name": "stdout",
     "output_type": "stream",
     "text": [
      "[19:44:14] WARNING: ../src/learner.cc:516: \n",
      "Parameters: { silent } might not be used.\n",
      "\n",
      "  This may not be accurate due to some parameters are only used in language bindings but\n",
      "  passed down to XGBoost core.  Or some parameters are not used but slip through this\n",
      "  verification. Please open an issue if you find above cases.\n",
      "\n",
      "\n",
      "[0]\tvalidation-auc:0.83111\n",
      "[1]\tvalidation-auc:0.83196\n",
      "[2]\tvalidation-auc:0.83166\n",
      "[3]\tvalidation-auc:0.83185\n",
      "[4]\tvalidation-auc:0.83189\n",
      "[5]\tvalidation-auc:0.83177\n",
      "[6]\tvalidation-auc:0.83178\n",
      "[7]\tvalidation-auc:0.83171\n",
      "[8]\tvalidation-auc:0.83162\n",
      "[9]\tvalidation-auc:0.83164\n"
     ]
    },
    {
     "name": "stderr",
     "output_type": "stream",
     "text": [
      "[I 2020-09-11 19:44:14,282] Trial 72 finished with value: 0.7710843373493976 and parameters: {'booster': 'gbtree', 'lambda': 0.0006127562654609355, 'alpha': 1.7634286953593687e-05, 'max_depth': 8, 'eta': 1.7207730016199007e-06, 'gamma': 0.00023808515699645362, 'grow_policy': 'lossguide'}. Best is trial 17 with value: 0.7710843373493976.\n"
     ]
    },
    {
     "name": "stdout",
     "output_type": "stream",
     "text": [
      "[19:44:14] WARNING: ../src/learner.cc:516: \n",
      "Parameters: { silent } might not be used.\n",
      "\n",
      "  This may not be accurate due to some parameters are only used in language bindings but\n",
      "  passed down to XGBoost core.  Or some parameters are not used but slip through this\n",
      "  verification. Please open an issue if you find above cases.\n",
      "\n",
      "\n",
      "[0]\tvalidation-auc:0.83111\n",
      "[1]\tvalidation-auc:0.83156\n",
      "[2]\tvalidation-auc:0.83168\n",
      "[3]\tvalidation-auc:0.83186\n",
      "[4]\tvalidation-auc:0.83185\n",
      "[5]\tvalidation-auc:0.83182\n",
      "[6]\tvalidation-auc:0.83168\n",
      "[7]\tvalidation-auc:0.83156\n",
      "[8]\tvalidation-auc:0.83161\n",
      "[9]\tvalidation-auc:0.83162\n"
     ]
    },
    {
     "name": "stderr",
     "output_type": "stream",
     "text": [
      "[I 2020-09-11 19:44:14,374] Trial 73 finished with value: 0.7710843373493976 and parameters: {'booster': 'gbtree', 'lambda': 0.0001457338866676386, 'alpha': 1.1979805193786455e-05, 'max_depth': 8, 'eta': 1.7275358452605235e-06, 'gamma': 0.00024066122425567396, 'grow_policy': 'lossguide'}. Best is trial 17 with value: 0.7710843373493976.\n"
     ]
    },
    {
     "name": "stdout",
     "output_type": "stream",
     "text": [
      "[19:44:14] WARNING: ../src/learner.cc:516: \n",
      "Parameters: { silent } might not be used.\n",
      "\n",
      "  This may not be accurate due to some parameters are only used in language bindings but\n",
      "  passed down to XGBoost core.  Or some parameters are not used but slip through this\n",
      "  verification. Please open an issue if you find above cases.\n",
      "\n",
      "\n",
      "[0]\tvalidation-auc:0.56019\n",
      "[1]\tvalidation-auc:0.56019\n",
      "[2]\tvalidation-auc:0.56019\n",
      "[3]\tvalidation-auc:0.56019\n",
      "[4]\tvalidation-auc:0.56019\n",
      "[5]\tvalidation-auc:0.56019\n",
      "[6]\tvalidation-auc:0.56019\n",
      "[7]\tvalidation-auc:0.56019\n",
      "[8]\tvalidation-auc:0.56019\n",
      "[9]\tvalidation-auc:0.56019\n"
     ]
    },
    {
     "name": "stderr",
     "output_type": "stream",
     "text": [
      "[I 2020-09-11 19:44:14,428] Trial 74 finished with value: 0.6888039964736997 and parameters: {'booster': 'gbtree', 'lambda': 0.0006064868810632398, 'alpha': 1.0736185634875312e-05, 'max_depth': 1, 'eta': 1.380369235661615e-06, 'gamma': 0.0001714273351164344, 'grow_policy': 'lossguide'}. Best is trial 17 with value: 0.7710843373493976.\n"
     ]
    },
    {
     "name": "stdout",
     "output_type": "stream",
     "text": [
      "[19:44:14] WARNING: ../src/learner.cc:516: \n",
      "Parameters: { silent } might not be used.\n",
      "\n",
      "  This may not be accurate due to some parameters are only used in language bindings but\n",
      "  passed down to XGBoost core.  Or some parameters are not used but slip through this\n",
      "  verification. Please open an issue if you find above cases.\n",
      "\n",
      "\n",
      "[0]\tvalidation-auc:0.80678\n",
      "[1]\tvalidation-auc:0.80839\n",
      "[2]\tvalidation-auc:0.80886\n",
      "[3]\tvalidation-auc:0.80894\n",
      "[4]\tvalidation-auc:0.80892\n",
      "[5]\tvalidation-auc:0.80895\n",
      "[6]\tvalidation-auc:0.80890\n",
      "[7]\tvalidation-auc:0.80904\n",
      "[8]\tvalidation-auc:0.80894\n",
      "[9]\tvalidation-auc:0.80895\n"
     ]
    },
    {
     "name": "stderr",
     "output_type": "stream",
     "text": [
      "[I 2020-09-11 19:44:14,507] Trial 75 finished with value: 0.7610931531002058 and parameters: {'booster': 'gbtree', 'lambda': 9.111057844083538e-05, 'alpha': 0.00022316264227685708, 'max_depth': 7, 'eta': 5.476302291734018e-06, 'gamma': 0.002699338335808707, 'grow_policy': 'lossguide'}. Best is trial 17 with value: 0.7710843373493976.\n"
     ]
    },
    {
     "name": "stdout",
     "output_type": "stream",
     "text": [
      "[19:44:14] WARNING: ../src/learner.cc:516: \n",
      "Parameters: { silent } might not be used.\n",
      "\n",
      "  This may not be accurate due to some parameters are only used in language bindings but\n",
      "  passed down to XGBoost core.  Or some parameters are not used but slip through this\n",
      "  verification. Please open an issue if you find above cases.\n",
      "\n",
      "\n",
      "[0]\tvalidation-auc:0.50855\n",
      "[1]\tvalidation-auc:0.83096\n",
      "[2]\tvalidation-auc:0.82951\n",
      "[3]\tvalidation-auc:0.82786\n",
      "[4]\tvalidation-auc:0.82446\n",
      "[5]\tvalidation-auc:0.83282\n",
      "[6]\tvalidation-auc:0.83254\n",
      "[7]\tvalidation-auc:0.83274\n",
      "[8]\tvalidation-auc:0.83030\n",
      "[9]\tvalidation-auc:0.82997\n"
     ]
    },
    {
     "name": "stderr",
     "output_type": "stream",
     "text": [
      "[I 2020-09-11 19:44:14,595] Trial 76 finished with value: 0.7560975609756098 and parameters: {'booster': 'gbtree', 'lambda': 5.833996300852249e-07, 'alpha': 2.864863717044994e-05, 'max_depth': 8, 'eta': 5.963150527861161e-08, 'gamma': 1.6990412216557742e-07, 'grow_policy': 'lossguide'}. Best is trial 17 with value: 0.7710843373493976.\n"
     ]
    },
    {
     "name": "stdout",
     "output_type": "stream",
     "text": [
      "[19:44:14] WARNING: ../src/learner.cc:516: \n",
      "Parameters: { silent } might not be used.\n",
      "\n",
      "  This may not be accurate due to some parameters are only used in language bindings but\n",
      "  passed down to XGBoost core.  Or some parameters are not used but slip through this\n",
      "  verification. Please open an issue if you find above cases.\n",
      "\n",
      "\n",
      "[0]\tvalidation-auc:0.66491\n",
      "[1]\tvalidation-auc:0.66477\n",
      "[2]\tvalidation-auc:0.66467\n",
      "[3]\tvalidation-auc:0.66464\n",
      "[4]\tvalidation-auc:0.66458\n",
      "[5]\tvalidation-auc:0.66454\n",
      "[6]\tvalidation-auc:0.66452\n",
      "[7]\tvalidation-auc:0.66449\n",
      "[8]\tvalidation-auc:0.66449\n",
      "[9]\tvalidation-auc:0.66448\n"
     ]
    },
    {
     "name": "stderr",
     "output_type": "stream",
     "text": [
      "[I 2020-09-11 19:44:14,637] Trial 77 finished with value: 0.6791066705847781 and parameters: {'booster': 'gblinear', 'lambda': 2.8017134965087127e-05, 'alpha': 3.0273114233172103e-06}. Best is trial 17 with value: 0.7710843373493976.\n"
     ]
    },
    {
     "name": "stdout",
     "output_type": "stream",
     "text": [
      "[19:44:14] WARNING: ../src/learner.cc:516: \n",
      "Parameters: { silent } might not be used.\n",
      "\n",
      "  This may not be accurate due to some parameters are only used in language bindings but\n",
      "  passed down to XGBoost core.  Or some parameters are not used but slip through this\n",
      "  verification. Please open an issue if you find above cases.\n",
      "\n",
      "\n",
      "[0]\tvalidation-auc:0.67710\n",
      "[1]\tvalidation-auc:0.67736\n",
      "[2]\tvalidation-auc:0.67619\n",
      "[3]\tvalidation-auc:0.67703\n",
      "[4]\tvalidation-auc:0.67703\n",
      "[5]\tvalidation-auc:0.67703\n",
      "[6]\tvalidation-auc:0.67703\n",
      "[7]\tvalidation-auc:0.67703\n",
      "[8]\tvalidation-auc:0.67703\n",
      "[9]\tvalidation-auc:0.67703\n"
     ]
    },
    {
     "name": "stderr",
     "output_type": "stream",
     "text": [
      "[I 2020-09-11 19:44:14,693] Trial 78 finished with value: 0.7278871583896562 and parameters: {'booster': 'gbtree', 'lambda': 2.1108794821106355e-07, 'alpha': 6.277640089551013e-05, 'max_depth': 3, 'eta': 3.211986321663304e-07, 'gamma': 4.799342054559942e-07, 'grow_policy': 'lossguide'}. Best is trial 17 with value: 0.7710843373493976.\n"
     ]
    },
    {
     "name": "stdout",
     "output_type": "stream",
     "text": [
      "[19:44:14] WARNING: ../src/learner.cc:516: \n",
      "Parameters: { silent } might not be used.\n",
      "\n",
      "  This may not be accurate due to some parameters are only used in language bindings but\n",
      "  passed down to XGBoost core.  Or some parameters are not used but slip through this\n",
      "  verification. Please open an issue if you find above cases.\n",
      "\n",
      "\n",
      "[0]\tvalidation-auc:0.82549\n",
      "[1]\tvalidation-auc:0.82669\n",
      "[2]\tvalidation-auc:0.82741\n",
      "[3]\tvalidation-auc:0.82735\n",
      "[4]\tvalidation-auc:0.82705\n",
      "[5]\tvalidation-auc:0.82703\n",
      "[6]\tvalidation-auc:0.82727\n",
      "[7]\tvalidation-auc:0.82725\n",
      "[8]\tvalidation-auc:0.82717\n",
      "[9]\tvalidation-auc:0.82723\n"
     ]
    },
    {
     "name": "stderr",
     "output_type": "stream",
     "text": [
      "[I 2020-09-11 19:44:14,785] Trial 79 finished with value: 0.7640317367029092 and parameters: {'booster': 'gbtree', 'lambda': 0.00018666068686565526, 'alpha': 2.922334844698443e-07, 'max_depth': 9, 'eta': 2.6033725127119826e-06, 'gamma': 5.5485251040606334e-05, 'grow_policy': 'lossguide'}. Best is trial 17 with value: 0.7710843373493976.\n"
     ]
    },
    {
     "name": "stdout",
     "output_type": "stream",
     "text": [
      "[19:44:14] WARNING: ../src/learner.cc:516: \n",
      "Parameters: { silent } might not be used.\n",
      "\n",
      "  This may not be accurate due to some parameters are only used in language bindings but\n",
      "  passed down to XGBoost core.  Or some parameters are not used but slip through this\n",
      "  verification. Please open an issue if you find above cases.\n",
      "\n",
      "\n",
      "[0]\tvalidation-auc:0.80691\n",
      "[1]\tvalidation-auc:0.80831\n",
      "[2]\tvalidation-auc:0.80886\n",
      "[3]\tvalidation-auc:0.80904\n",
      "[4]\tvalidation-auc:0.80902\n",
      "[5]\tvalidation-auc:0.80903\n",
      "[6]\tvalidation-auc:0.80900\n",
      "[7]\tvalidation-auc:0.80897\n",
      "[8]\tvalidation-auc:0.80893\n",
      "[9]\tvalidation-auc:0.80896\n"
     ]
    },
    {
     "name": "stderr",
     "output_type": "stream",
     "text": [
      "[I 2020-09-11 19:44:14,867] Trial 80 finished with value: 0.7610931531002058 and parameters: {'booster': 'gbtree', 'lambda': 0.002667865114653148, 'alpha': 0.0005461806432361658, 'max_depth': 7, 'eta': 9.834176850243506e-06, 'gamma': 1.67674381552925e-05, 'grow_policy': 'lossguide'}. Best is trial 17 with value: 0.7710843373493976.\n"
     ]
    },
    {
     "name": "stdout",
     "output_type": "stream",
     "text": [
      "[19:44:14] WARNING: ../src/learner.cc:516: \n",
      "Parameters: { silent } might not be used.\n",
      "\n",
      "  This may not be accurate due to some parameters are only used in language bindings but\n",
      "  passed down to XGBoost core.  Or some parameters are not used but slip through this\n",
      "  verification. Please open an issue if you find above cases.\n",
      "\n",
      "\n",
      "[0]\tvalidation-auc:0.83033\n",
      "[1]\tvalidation-auc:0.83120\n",
      "[2]\tvalidation-auc:0.83177\n",
      "[3]\tvalidation-auc:0.83169\n",
      "[4]\tvalidation-auc:0.83158\n",
      "[5]\tvalidation-auc:0.83161\n",
      "[6]\tvalidation-auc:0.83176\n",
      "[7]\tvalidation-auc:0.83167\n",
      "[8]\tvalidation-auc:0.83162\n",
      "[9]\tvalidation-auc:0.83167\n"
     ]
    },
    {
     "name": "stderr",
     "output_type": "stream",
     "text": [
      "[I 2020-09-11 19:44:14,966] Trial 81 finished with value: 0.7710843373493976 and parameters: {'booster': 'gbtree', 'lambda': 3.415433987478379e-08, 'alpha': 3.4681204513260154e-08, 'max_depth': 8, 'eta': 3.925643590003864e-06, 'gamma': 1.0479787238288907e-05, 'grow_policy': 'lossguide'}. Best is trial 17 with value: 0.7710843373493976.\n"
     ]
    },
    {
     "name": "stdout",
     "output_type": "stream",
     "text": [
      "[19:44:14] WARNING: ../src/learner.cc:516: \n",
      "Parameters: { silent } might not be used.\n",
      "\n",
      "  This may not be accurate due to some parameters are only used in language bindings but\n",
      "  passed down to XGBoost core.  Or some parameters are not used but slip through this\n",
      "  verification. Please open an issue if you find above cases.\n",
      "\n",
      "\n",
      "[0]\tvalidation-auc:0.83075\n",
      "[1]\tvalidation-auc:0.83134\n",
      "[2]\tvalidation-auc:0.83478\n",
      "[3]\tvalidation-auc:0.83253\n",
      "[4]\tvalidation-auc:0.83467\n",
      "[5]\tvalidation-auc:0.83475\n",
      "[6]\tvalidation-auc:0.83254\n",
      "[7]\tvalidation-auc:0.83228\n",
      "[8]\tvalidation-auc:0.83230\n",
      "[9]\tvalidation-auc:0.83474\n"
     ]
    },
    {
     "name": "stderr",
     "output_type": "stream",
     "text": [
      "[I 2020-09-11 19:44:15,046] Trial 82 finished with value: 0.7710843373493976 and parameters: {'booster': 'gbtree', 'lambda': 0.007202220088030034, 'alpha': 2.8591775845136907e-08, 'max_depth': 8, 'eta': 4.086008965076848e-06, 'gamma': 0.0004564527719485013, 'grow_policy': 'lossguide'}. Best is trial 17 with value: 0.7710843373493976.\n"
     ]
    },
    {
     "name": "stdout",
     "output_type": "stream",
     "text": [
      "[19:44:15] WARNING: ../src/learner.cc:516: \n",
      "Parameters: { silent } might not be used.\n",
      "\n",
      "  This may not be accurate due to some parameters are only used in language bindings but\n",
      "  passed down to XGBoost core.  Or some parameters are not used but slip through this\n",
      "  verification. Please open an issue if you find above cases.\n",
      "\n",
      "\n",
      "[0]\tvalidation-auc:0.83032\n",
      "[1]\tvalidation-auc:0.83131\n",
      "[2]\tvalidation-auc:0.83171\n",
      "[3]\tvalidation-auc:0.83167\n",
      "[4]\tvalidation-auc:0.83169\n",
      "[5]\tvalidation-auc:0.83166\n",
      "[6]\tvalidation-auc:0.83168\n",
      "[7]\tvalidation-auc:0.83166\n",
      "[8]\tvalidation-auc:0.83169\n",
      "[9]\tvalidation-auc:0.83167\n"
     ]
    },
    {
     "name": "stderr",
     "output_type": "stream",
     "text": [
      "[I 2020-09-11 19:44:15,125] Trial 83 finished with value: 0.7710843373493976 and parameters: {'booster': 'gbtree', 'lambda': 2.233196666713176e-08, 'alpha': 4.961114684192369e-06, 'max_depth': 8, 'eta': 1.6887700206407947e-05, 'gamma': 6.702661473774291e-06, 'grow_policy': 'lossguide'}. Best is trial 17 with value: 0.7710843373493976.\n"
     ]
    },
    {
     "name": "stdout",
     "output_type": "stream",
     "text": [
      "[19:44:15] WARNING: ../src/learner.cc:516: \n",
      "Parameters: { silent } might not be used.\n",
      "\n",
      "  This may not be accurate due to some parameters are only used in language bindings but\n",
      "  passed down to XGBoost core.  Or some parameters are not used but slip through this\n",
      "  verification. Please open an issue if you find above cases.\n",
      "\n",
      "\n",
      "[0]\tvalidation-auc:0.82843\n",
      "[1]\tvalidation-auc:0.82539\n",
      "[2]\tvalidation-auc:0.83409\n",
      "[3]\tvalidation-auc:0.82728\n",
      "[4]\tvalidation-auc:0.83080\n",
      "[5]\tvalidation-auc:0.83211\n",
      "[6]\tvalidation-auc:0.83233\n",
      "[7]\tvalidation-auc:0.83187\n",
      "[8]\tvalidation-auc:0.83179\n",
      "[9]\tvalidation-auc:0.83166\n"
     ]
    },
    {
     "name": "stderr",
     "output_type": "stream",
     "text": [
      "[I 2020-09-11 19:44:15,208] Trial 84 finished with value: 0.7710843373493976 and parameters: {'booster': 'gbtree', 'lambda': 0.009103942042746982, 'alpha': 0.0011038563956258705, 'max_depth': 8, 'eta': 1.3676996527222374e-07, 'gamma': 0.00010488903628709414, 'grow_policy': 'lossguide'}. Best is trial 17 with value: 0.7710843373493976.\n"
     ]
    },
    {
     "name": "stdout",
     "output_type": "stream",
     "text": [
      "[19:44:15] WARNING: ../src/learner.cc:516: \n",
      "Parameters: { silent } might not be used.\n",
      "\n",
      "  This may not be accurate due to some parameters are only used in language bindings but\n",
      "  passed down to XGBoost core.  Or some parameters are not used but slip through this\n",
      "  verification. Please open an issue if you find above cases.\n",
      "\n",
      "\n",
      "[0]\tvalidation-auc:0.83047\n",
      "[1]\tvalidation-auc:0.83135\n",
      "[2]\tvalidation-auc:0.83177\n",
      "[3]\tvalidation-auc:0.83167\n",
      "[4]\tvalidation-auc:0.83232\n",
      "[5]\tvalidation-auc:0.83166\n",
      "[6]\tvalidation-auc:0.83168\n",
      "[7]\tvalidation-auc:0.83199\n",
      "[8]\tvalidation-auc:0.83167\n",
      "[9]\tvalidation-auc:0.83167\n"
     ]
    },
    {
     "name": "stderr",
     "output_type": "stream",
     "text": [
      "[I 2020-09-11 19:44:15,292] Trial 85 finished with value: 0.7710843373493976 and parameters: {'booster': 'gbtree', 'lambda': 0.000387357325163194, 'alpha': 5.2658547569628135e-06, 'max_depth': 8, 'eta': 1.8998046923691224e-05, 'gamma': 1.3425766912771853e-06, 'grow_policy': 'lossguide'}. Best is trial 17 with value: 0.7710843373493976.\n"
     ]
    },
    {
     "name": "stdout",
     "output_type": "stream",
     "text": [
      "[19:44:15] WARNING: ../src/learner.cc:516: \n",
      "Parameters: { silent } might not be used.\n",
      "\n",
      "  This may not be accurate due to some parameters are only used in language bindings but\n",
      "  passed down to XGBoost core.  Or some parameters are not used but slip through this\n",
      "  verification. Please open an issue if you find above cases.\n",
      "\n",
      "\n",
      "[0]\tvalidation-auc:0.80956\n",
      "[1]\tvalidation-auc:0.80220\n",
      "[2]\tvalidation-auc:0.80950\n",
      "[3]\tvalidation-auc:0.80500\n",
      "[4]\tvalidation-auc:0.80819\n",
      "[5]\tvalidation-auc:0.80842\n",
      "[6]\tvalidation-auc:0.80953\n",
      "[7]\tvalidation-auc:0.80881\n",
      "[8]\tvalidation-auc:0.80807\n",
      "[9]\tvalidation-auc:0.80947\n"
     ]
    },
    {
     "name": "stderr",
     "output_type": "stream",
     "text": [
      "[I 2020-09-11 19:44:15,370] Trial 86 finished with value: 0.7610931531002058 and parameters: {'booster': 'gbtree', 'lambda': 0.017930368806557705, 'alpha': 0.002604777141260334, 'max_depth': 7, 'eta': 1.5005843570747198e-07, 'gamma': 0.0001171222387628613, 'grow_policy': 'lossguide'}. Best is trial 17 with value: 0.7710843373493976.\n"
     ]
    },
    {
     "name": "stdout",
     "output_type": "stream",
     "text": [
      "[19:44:15] WARNING: ../src/learner.cc:516: \n",
      "Parameters: { silent } might not be used.\n",
      "\n",
      "  This may not be accurate due to some parameters are only used in language bindings but\n",
      "  passed down to XGBoost core.  Or some parameters are not used but slip through this\n",
      "  verification. Please open an issue if you find above cases.\n",
      "\n",
      "\n",
      "[0]\tvalidation-auc:0.82527\n",
      "[1]\tvalidation-auc:0.82683\n",
      "[2]\tvalidation-auc:0.82748\n",
      "[3]\tvalidation-auc:0.82737\n",
      "[4]\tvalidation-auc:0.82729\n",
      "[5]\tvalidation-auc:0.82713\n",
      "[6]\tvalidation-auc:0.82732\n",
      "[7]\tvalidation-auc:0.82733\n",
      "[8]\tvalidation-auc:0.82720\n",
      "[9]\tvalidation-auc:0.82719\n"
     ]
    },
    {
     "name": "stderr",
     "output_type": "stream",
     "text": [
      "[I 2020-09-11 19:44:15,467] Trial 87 finished with value: 0.7640317367029092 and parameters: {'booster': 'gbtree', 'lambda': 5.073308505141025e-05, 'alpha': 1.7685487488385462e-06, 'max_depth': 9, 'eta': 6.255979241813949e-06, 'gamma': 2.9591192099839e-06, 'grow_policy': 'lossguide'}. Best is trial 17 with value: 0.7710843373493976.\n"
     ]
    },
    {
     "name": "stdout",
     "output_type": "stream",
     "text": [
      "[19:44:15] WARNING: ../src/learner.cc:516: \n",
      "Parameters: { silent } might not be used.\n",
      "\n",
      "  This may not be accurate due to some parameters are only used in language bindings but\n",
      "  passed down to XGBoost core.  Or some parameters are not used but slip through this\n",
      "  verification. Please open an issue if you find above cases.\n",
      "\n",
      "\n",
      "[0]\tvalidation-auc:0.82620\n",
      "[1]\tvalidation-auc:0.82648\n",
      "[2]\tvalidation-auc:0.82705\n",
      "[3]\tvalidation-auc:0.82707\n",
      "[4]\tvalidation-auc:0.82690\n",
      "[5]\tvalidation-auc:0.82684\n",
      "[6]\tvalidation-auc:0.82713\n",
      "[7]\tvalidation-auc:0.82701\n",
      "[8]\tvalidation-auc:0.82711\n",
      "[9]\tvalidation-auc:0.82712\n"
     ]
    },
    {
     "name": "stderr",
     "output_type": "stream",
     "text": [
      "[I 2020-09-11 19:44:15,574] Trial 88 finished with value: 0.7640317367029092 and parameters: {'booster': 'dart', 'lambda': 6.882052666736798e-07, 'alpha': 1.0451225106707362e-08, 'max_depth': 9, 'eta': 8.586362874239927e-07, 'gamma': 1.8273933876297562e-08, 'grow_policy': 'depthwise', 'sample_type': 'weighted', 'normalize_type': 'forest', 'rate_drop': 1.5893823309888674e-05, 'skip_drop': 0.003792799696131578}. Best is trial 17 with value: 0.7710843373493976.\n"
     ]
    },
    {
     "name": "stdout",
     "output_type": "stream",
     "text": [
      "[19:44:15] WARNING: ../src/learner.cc:516: \n",
      "Parameters: { silent } might not be used.\n",
      "\n",
      "  This may not be accurate due to some parameters are only used in language bindings but\n",
      "  passed down to XGBoost core.  Or some parameters are not used but slip through this\n",
      "  verification. Please open an issue if you find above cases.\n",
      "\n",
      "\n",
      "[0]\tvalidation-auc:0.83038\n",
      "[1]\tvalidation-auc:0.83138\n",
      "[2]\tvalidation-auc:0.83179\n",
      "[3]\tvalidation-auc:0.83170\n",
      "[4]\tvalidation-auc:0.83167\n",
      "[5]\tvalidation-auc:0.83160\n",
      "[6]\tvalidation-auc:0.83152\n",
      "[7]\tvalidation-auc:0.83138\n",
      "[8]\tvalidation-auc:0.83112\n",
      "[9]\tvalidation-auc:0.83075\n"
     ]
    },
    {
     "name": "stderr",
     "output_type": "stream",
     "text": [
      "[I 2020-09-11 19:44:15,659] Trial 89 finished with value: 0.7693211871877755 and parameters: {'booster': 'gbtree', 'lambda': 1.4844513564338848e-07, 'alpha': 7.880504697272214e-07, 'max_depth': 8, 'eta': 5.682874019397427e-05, 'gamma': 1.024462046371579e-05, 'grow_policy': 'lossguide'}. Best is trial 17 with value: 0.7710843373493976.\n"
     ]
    },
    {
     "name": "stdout",
     "output_type": "stream",
     "text": [
      "[19:44:15] WARNING: ../src/learner.cc:516: \n",
      "Parameters: { silent } might not be used.\n",
      "\n",
      "  This may not be accurate due to some parameters are only used in language bindings but\n",
      "  passed down to XGBoost core.  Or some parameters are not used but slip through this\n",
      "  verification. Please open an issue if you find above cases.\n",
      "\n",
      "\n",
      "[0]\tvalidation-auc:0.80697\n",
      "[1]\tvalidation-auc:0.80833\n",
      "[2]\tvalidation-auc:0.80887\n",
      "[3]\tvalidation-auc:0.80895\n",
      "[4]\tvalidation-auc:0.80894\n",
      "[5]\tvalidation-auc:0.80885\n",
      "[6]\tvalidation-auc:0.80883\n",
      "[7]\tvalidation-auc:0.80893\n",
      "[8]\tvalidation-auc:0.80886\n",
      "[9]\tvalidation-auc:0.80890\n"
     ]
    },
    {
     "name": "stderr",
     "output_type": "stream",
     "text": [
      "[I 2020-09-11 19:44:15,754] Trial 90 finished with value: 0.7607992947399354 and parameters: {'booster': 'gbtree', 'lambda': 7.466959118521452e-05, 'alpha': 5.06350288092269e-08, 'max_depth': 7, 'eta': 3.525506821423262e-05, 'gamma': 3.819250631290287e-06, 'grow_policy': 'lossguide'}. Best is trial 17 with value: 0.7710843373493976.\n"
     ]
    },
    {
     "name": "stdout",
     "output_type": "stream",
     "text": [
      "[19:44:15] WARNING: ../src/learner.cc:516: \n",
      "Parameters: { silent } might not be used.\n",
      "\n",
      "  This may not be accurate due to some parameters are only used in language bindings but\n",
      "  passed down to XGBoost core.  Or some parameters are not used but slip through this\n",
      "  verification. Please open an issue if you find above cases.\n",
      "\n",
      "\n",
      "[0]\tvalidation-auc:0.83104\n",
      "[1]\tvalidation-auc:0.83155\n",
      "[2]\tvalidation-auc:0.83197\n",
      "[3]\tvalidation-auc:0.83173\n",
      "[4]\tvalidation-auc:0.83154\n",
      "[5]\tvalidation-auc:0.83169\n",
      "[6]\tvalidation-auc:0.83171\n",
      "[7]\tvalidation-auc:0.83161\n",
      "[8]\tvalidation-auc:0.83171\n",
      "[9]\tvalidation-auc:0.83173\n"
     ]
    },
    {
     "name": "stderr",
     "output_type": "stream",
     "text": [
      "[I 2020-09-11 19:44:15,839] Trial 91 finished with value: 0.7710843373493976 and parameters: {'booster': 'gbtree', 'lambda': 4.860873172547205e-05, 'alpha': 1.71950321679642e-05, 'max_depth': 8, 'eta': 1.9356395825061974e-06, 'gamma': 0.0008456990048402032, 'grow_policy': 'lossguide'}. Best is trial 17 with value: 0.7710843373493976.\n"
     ]
    },
    {
     "name": "stdout",
     "output_type": "stream",
     "text": [
      "[19:44:15] WARNING: ../src/learner.cc:516: \n",
      "Parameters: { silent } might not be used.\n",
      "\n",
      "  This may not be accurate due to some parameters are only used in language bindings but\n",
      "  passed down to XGBoost core.  Or some parameters are not used but slip through this\n",
      "  verification. Please open an issue if you find above cases.\n",
      "\n",
      "\n",
      "[0]\tvalidation-auc:0.83254\n",
      "[1]\tvalidation-auc:0.83024\n",
      "[2]\tvalidation-auc:0.83214\n",
      "[3]\tvalidation-auc:0.83159\n",
      "[4]\tvalidation-auc:0.83216\n",
      "[5]\tvalidation-auc:0.83183\n",
      "[6]\tvalidation-auc:0.83215\n",
      "[7]\tvalidation-auc:0.83152\n",
      "[8]\tvalidation-auc:0.83191\n",
      "[9]\tvalidation-auc:0.83233\n"
     ]
    },
    {
     "name": "stderr",
     "output_type": "stream",
     "text": [
      "[I 2020-09-11 19:44:15,924] Trial 92 finished with value: 0.7710843373493976 and parameters: {'booster': 'gbtree', 'lambda': 0.0014419668572670013, 'alpha': 7.683131207931165e-06, 'max_depth': 8, 'eta': 3.356929776570199e-07, 'gamma': 0.0007926004699345842, 'grow_policy': 'lossguide'}. Best is trial 17 with value: 0.7710843373493976.\n"
     ]
    },
    {
     "name": "stdout",
     "output_type": "stream",
     "text": [
      "[19:44:15] WARNING: ../src/learner.cc:516: \n",
      "Parameters: { silent } might not be used.\n",
      "\n",
      "  This may not be accurate due to some parameters are only used in language bindings but\n",
      "  passed down to XGBoost core.  Or some parameters are not used but slip through this\n",
      "  verification. Please open an issue if you find above cases.\n",
      "\n",
      "\n",
      "[0]\tvalidation-auc:0.83371\n",
      "[1]\tvalidation-auc:0.82991\n",
      "[2]\tvalidation-auc:0.83140\n",
      "[3]\tvalidation-auc:0.83210\n",
      "[4]\tvalidation-auc:0.83206\n",
      "[5]\tvalidation-auc:0.83157\n",
      "[6]\tvalidation-auc:0.83140\n",
      "[7]\tvalidation-auc:0.83201\n",
      "[8]\tvalidation-auc:0.83179\n",
      "[9]\tvalidation-auc:0.83187\n"
     ]
    },
    {
     "name": "stderr",
     "output_type": "stream",
     "text": [
      "[I 2020-09-11 19:44:16,010] Trial 93 finished with value: 0.7710843373493976 and parameters: {'booster': 'gbtree', 'lambda': 1.0010257659970966e-05, 'alpha': 2.2711931944872052e-08, 'max_depth': 8, 'eta': 3.8543218806876386e-07, 'gamma': 7.592586918808378e-07, 'grow_policy': 'lossguide'}. Best is trial 17 with value: 0.7710843373493976.\n"
     ]
    },
    {
     "name": "stdout",
     "output_type": "stream",
     "text": [
      "[19:44:16] WARNING: ../src/learner.cc:516: \n",
      "Parameters: { silent } might not be used.\n",
      "\n",
      "  This may not be accurate due to some parameters are only used in language bindings but\n",
      "  passed down to XGBoost core.  Or some parameters are not used but slip through this\n",
      "  verification. Please open an issue if you find above cases.\n",
      "\n",
      "\n",
      "[0]\tvalidation-auc:0.83105\n",
      "[1]\tvalidation-auc:0.83122\n",
      "[2]\tvalidation-auc:0.83170\n",
      "[3]\tvalidation-auc:0.83165\n",
      "[4]\tvalidation-auc:0.83165\n",
      "[5]\tvalidation-auc:0.83162\n",
      "[6]\tvalidation-auc:0.83164\n",
      "[7]\tvalidation-auc:0.83162\n",
      "[8]\tvalidation-auc:0.83162\n",
      "[9]\tvalidation-auc:0.83167\n"
     ]
    },
    {
     "name": "stderr",
     "output_type": "stream",
     "text": [
      "[I 2020-09-11 19:44:16,094] Trial 94 finished with value: 0.7710843373493976 and parameters: {'booster': 'gbtree', 'lambda': 8.809432965185656e-06, 'alpha': 2.6084077834586435e-08, 'max_depth': 8, 'eta': 3.3292263701285165e-06, 'gamma': 1.4128912052007681e-05, 'grow_policy': 'lossguide'}. Best is trial 17 with value: 0.7710843373493976.\n"
     ]
    },
    {
     "name": "stdout",
     "output_type": "stream",
     "text": [
      "[19:44:16] WARNING: ../src/learner.cc:516: \n",
      "Parameters: { silent } might not be used.\n",
      "\n",
      "  This may not be accurate due to some parameters are only used in language bindings but\n",
      "  passed down to XGBoost core.  Or some parameters are not used but slip through this\n",
      "  verification. Please open an issue if you find above cases.\n",
      "\n",
      "\n",
      "[0]\tvalidation-auc:0.82954\n",
      "[1]\tvalidation-auc:0.83134\n",
      "[2]\tvalidation-auc:0.83176\n",
      "[3]\tvalidation-auc:0.83125\n",
      "[4]\tvalidation-auc:0.83232\n",
      "[5]\tvalidation-auc:0.83190\n",
      "[6]\tvalidation-auc:0.83175\n",
      "[7]\tvalidation-auc:0.83184\n",
      "[8]\tvalidation-auc:0.83157\n",
      "[9]\tvalidation-auc:0.83203\n"
     ]
    },
    {
     "name": "stderr",
     "output_type": "stream",
     "text": [
      "[I 2020-09-11 19:44:16,182] Trial 95 finished with value: 0.7710843373493976 and parameters: {'booster': 'gbtree', 'lambda': 2.4770044050718614e-06, 'alpha': 1.1419280107808209e-07, 'max_depth': 8, 'eta': 6.862639686688611e-07, 'gamma': 4.2888414856588384e-07, 'grow_policy': 'lossguide'}. Best is trial 17 with value: 0.7710843373493976.\n"
     ]
    },
    {
     "name": "stdout",
     "output_type": "stream",
     "text": [
      "[19:44:16] WARNING: ../src/learner.cc:516: \n",
      "Parameters: { silent } might not be used.\n",
      "\n",
      "  This may not be accurate due to some parameters are only used in language bindings but\n",
      "  passed down to XGBoost core.  Or some parameters are not used but slip through this\n",
      "  verification. Please open an issue if you find above cases.\n",
      "\n",
      "\n",
      "[0]\tvalidation-auc:0.82534\n",
      "[1]\tvalidation-auc:0.82670\n",
      "[2]\tvalidation-auc:0.82729\n",
      "[3]\tvalidation-auc:0.82738\n",
      "[4]\tvalidation-auc:0.82705\n",
      "[5]\tvalidation-auc:0.82712\n",
      "[6]\tvalidation-auc:0.82736\n",
      "[7]\tvalidation-auc:0.82726\n",
      "[8]\tvalidation-auc:0.82720\n",
      "[9]\tvalidation-auc:0.82715\n"
     ]
    },
    {
     "name": "stderr",
     "output_type": "stream",
     "text": [
      "[I 2020-09-11 19:44:16,282] Trial 96 finished with value: 0.7640317367029092 and parameters: {'booster': 'gbtree', 'lambda': 8.269679491596387e-07, 'alpha': 0.00015707279510030123, 'max_depth': 9, 'eta': 3.4919678134264356e-06, 'gamma': 1.601519307656703e-05, 'grow_policy': 'lossguide'}. Best is trial 17 with value: 0.7710843373493976.\n"
     ]
    },
    {
     "name": "stdout",
     "output_type": "stream",
     "text": [
      "[19:44:16] WARNING: ../src/learner.cc:516: \n",
      "Parameters: { silent } might not be used.\n",
      "\n",
      "  This may not be accurate due to some parameters are only used in language bindings but\n",
      "  passed down to XGBoost core.  Or some parameters are not used but slip through this\n",
      "  verification. Please open an issue if you find above cases.\n",
      "\n",
      "\n",
      "[0]\tvalidation-auc:0.80695\n",
      "[1]\tvalidation-auc:0.80829\n",
      "[2]\tvalidation-auc:0.80887\n",
      "[3]\tvalidation-auc:0.80894\n",
      "[4]\tvalidation-auc:0.80892\n",
      "[5]\tvalidation-auc:0.80904\n",
      "[6]\tvalidation-auc:0.80894\n",
      "[7]\tvalidation-auc:0.80894\n",
      "[8]\tvalidation-auc:0.80904\n",
      "[9]\tvalidation-auc:0.80905\n"
     ]
    },
    {
     "name": "stderr",
     "output_type": "stream",
     "text": [
      "[I 2020-09-11 19:44:16,361] Trial 97 finished with value: 0.7610931531002058 and parameters: {'booster': 'gbtree', 'lambda': 2.653063012781851e-06, 'alpha': 1.3599434950230124e-06, 'max_depth': 7, 'eta': 1.1383121705691909e-05, 'gamma': 0.0005299923794552047, 'grow_policy': 'lossguide'}. Best is trial 17 with value: 0.7710843373493976.\n"
     ]
    },
    {
     "name": "stdout",
     "output_type": "stream",
     "text": [
      "[19:44:16] WARNING: ../src/learner.cc:516: \n",
      "Parameters: { silent } might not be used.\n",
      "\n",
      "  This may not be accurate due to some parameters are only used in language bindings but\n",
      "  passed down to XGBoost core.  Or some parameters are not used but slip through this\n",
      "  verification. Please open an issue if you find above cases.\n",
      "\n",
      "\n",
      "[0]\tvalidation-auc:0.83058\n",
      "[1]\tvalidation-auc:0.83095\n",
      "[2]\tvalidation-auc:0.83118\n",
      "[3]\tvalidation-auc:0.83135\n",
      "[4]\tvalidation-auc:0.83162\n",
      "[5]\tvalidation-auc:0.83185\n",
      "[6]\tvalidation-auc:0.83149\n",
      "[7]\tvalidation-auc:0.83151\n",
      "[8]\tvalidation-auc:0.83167\n",
      "[9]\tvalidation-auc:0.83167\n"
     ]
    },
    {
     "name": "stderr",
     "output_type": "stream",
     "text": [
      "[I 2020-09-11 19:44:16,446] Trial 98 finished with value: 0.7710843373493976 and parameters: {'booster': 'gbtree', 'lambda': 0.00012773869746868525, 'alpha': 1.0198653190942915e-05, 'max_depth': 8, 'eta': 1.209799229269182e-06, 'gamma': 0.00029266746000100954, 'grow_policy': 'lossguide'}. Best is trial 17 with value: 0.7710843373493976.\n"
     ]
    },
    {
     "name": "stdout",
     "output_type": "stream",
     "text": [
      "[19:44:16] WARNING: ../src/learner.cc:516: \n",
      "Parameters: { silent } might not be used.\n",
      "\n",
      "  This may not be accurate due to some parameters are only used in language bindings but\n",
      "  passed down to XGBoost core.  Or some parameters are not used but slip through this\n",
      "  verification. Please open an issue if you find above cases.\n",
      "\n",
      "\n",
      "[0]\tvalidation-auc:0.50000\n",
      "[1]\tvalidation-auc:0.50507\n",
      "[2]\tvalidation-auc:0.52589\n",
      "[3]\tvalidation-auc:0.83395\n",
      "[4]\tvalidation-auc:0.82918\n",
      "[5]\tvalidation-auc:0.82946\n",
      "[6]\tvalidation-auc:0.82961\n",
      "[7]\tvalidation-auc:0.82784\n",
      "[8]\tvalidation-auc:0.82717\n",
      "[9]\tvalidation-auc:0.82625\n"
     ]
    },
    {
     "name": "stderr",
     "output_type": "stream",
     "text": [
      "[I 2020-09-11 19:44:16,531] Trial 99 finished with value: 0.7399353511607405 and parameters: {'booster': 'gbtree', 'lambda': 0.00072849536590189, 'alpha': 4.475401753918878e-05, 'max_depth': 8, 'eta': 2.7499932770270364e-08, 'gamma': 2.5502690827298694e-05, 'grow_policy': 'lossguide'}. Best is trial 17 with value: 0.7710843373493976.\n"
     ]
    },
    {
     "name": "stdout",
     "output_type": "stream",
     "text": [
      "FrozenTrial(number=17, value=0.7710843373493976, datetime_start=datetime.datetime(2020, 9, 11, 19, 44, 9, 968481), datetime_complete=datetime.datetime(2020, 9, 11, 19, 44, 10, 50809), params={'booster': 'gbtree', 'lambda': 0.0023147389075111784, 'alpha': 1.9050355011300542e-07, 'max_depth': 8, 'eta': 3.9157335892730676e-06, 'gamma': 2.6610461449517375e-05, 'grow_policy': 'lossguide'}, distributions={'booster': CategoricalDistribution(choices=('gbtree', 'gblinear', 'dart')), 'lambda': LogUniformDistribution(high=1.0, low=1e-08), 'alpha': LogUniformDistribution(high=1.0, low=1e-08), 'max_depth': IntUniformDistribution(high=9, low=1, step=1), 'eta': LogUniformDistribution(high=1.0, low=1e-08), 'gamma': LogUniformDistribution(high=1.0, low=1e-08), 'grow_policy': CategoricalDistribution(choices=('depthwise', 'lossguide'))}, user_attrs={}, system_attrs={}, intermediate_values={0: 0.830331, 1: 0.831206, 2: 0.831685, 3: 0.83227, 4: 0.831772, 5: 0.83194, 6: 0.831741, 7: 0.834755, 8: 0.83224, 9: 0.831662}, trial_id=17, state=TrialState.COMPLETE)\n"
     ]
    }
   ],
   "source": [
    "study_v2 = optuna.create_study(pruner=optuna.pruners.MedianPruner(n_warmup_steps=15), direction=\"maximize\")\n",
    "study_v2.optimize(objective, n_trials=100)\n",
    "print(study_v2.best_trial)"
   ]
  },
  {
   "cell_type": "code",
   "execution_count": 14,
   "metadata": {},
   "outputs": [
    {
     "data": {
      "text/plain": [
       "{'booster': 'gbtree',\n",
       " 'lambda': 0.0023147389075111784,\n",
       " 'alpha': 1.9050355011300542e-07,\n",
       " 'max_depth': 8,\n",
       " 'eta': 3.9157335892730676e-06,\n",
       " 'gamma': 2.6610461449517375e-05,\n",
       " 'grow_policy': 'lossguide'}"
      ]
     },
     "execution_count": 14,
     "metadata": {},
     "output_type": "execute_result"
    }
   ],
   "source": [
    "study_v2.best_params"
   ]
  },
  {
   "cell_type": "code",
   "execution_count": 15,
   "metadata": {},
   "outputs": [
    {
     "name": "stdout",
     "output_type": "stream",
     "text": [
      "[19:44:16] WARNING: ../src/learner.cc:516: \n",
      "Parameters: { silent } might not be used.\n",
      "\n",
      "  This may not be accurate due to some parameters are only used in language bindings but\n",
      "  passed down to XGBoost core.  Or some parameters are not used but slip through this\n",
      "  verification. Please open an issue if you find above cases.\n",
      "\n",
      "\n",
      "Acurácia: 76.76%\n",
      "Sensibilidade : 0.8790909090909091\n",
      "Especificidade : 0.7142857142857143\n",
      "\n",
      "\n",
      "              precision    recall  f1-score   support\n",
      "\n",
      "           0       0.93      0.71      0.81      2303\n",
      "           1       0.60      0.88      0.71      1100\n",
      "\n",
      "    accuracy                           0.77      3403\n",
      "   macro avg       0.76      0.80      0.76      3403\n",
      "weighted avg       0.82      0.77      0.77      3403\n",
      "\n"
     ]
    },
    {
     "data": {
      "image/png": "[encoded data removed]",
      "text/plain": [
       "<Figure size 432x432 with 2 Axes>"
      ]
     },
     "metadata": {},
     "output_type": "display_data"
    }
   ],
   "source": [
    "params = {'silent'       : 1,\n",
    "          'objective'    : 'binary:logistic',\n",
    "          'eval_metric'  : 'auc',\n",
    "          'booster'      : 'gbtree',\n",
    "          'lambda'       : 0.026834336727892413,\n",
    "          'alpha'        : 0.0006039910566283139,\n",
    "          'max_depth'    : 8,\n",
    "          'eta'          : 0.0006565933008274129,\n",
    "          'gamma'        : 0.0012661208934645076,\n",
    "          'grow_policy' : 'depthwise'}\n",
    "\n",
    "\n",
    "#modelo_xgb_v4 = xgb.XGBClassifier(**study_v2.best_params)\n",
    "modelo_xgb_v4 = xgb.XGBClassifier(**params)\n",
    "\n",
    "# Treinando o modelo\n",
    "modelo_xgb_v4.fit(X_treino, y_treino)\n",
    "\n",
    "# Fazendo previsões\n",
    "xgb_y_pred = modelo_xgb_v4.predict(X_teste)\n",
    "previsoes = [round(value) for value in xgb_y_pred]\n",
    "\n",
    "# Avaliando as previsões\n",
    "xgb_score_v4 = accuracy_score(y_teste, previsoes)\n",
    "print(\"Acurácia: %.2f%%\" % (xgb_score_v4 * 100.0))\n",
    "\n",
    "# Cria a matriz de confusão\n",
    "conf_matriz_xgb = confusion_matrix(y_teste, xgb_y_pred)\n",
    "    \n",
    "# Calcula especificidade e sensibilidade\n",
    "speci_xgb = conf_matriz_xgb[0,0] / (conf_matriz_xgb[0,0] + conf_matriz_xgb[0,1])\n",
    "sensi_xgb = conf_matriz_xgb[1,1] / (conf_matriz_xgb[1,0] + conf_matriz_xgb[1,1])\n",
    "\n",
    "# Print\n",
    "print('Sensibilidade :', sensi_xgb)\n",
    "print('Especificidade :', speci_xgb)\n",
    "print('\\n')\n",
    "\n",
    "# Matriz de Confusão gráfica\n",
    "sns.set(rc={'figure.figsize':(6, 6)})\n",
    "sns.heatmap(conf_matriz_xgb, \n",
    "            annot = True, \n",
    "            fmt = \".0f\", \n",
    "            linewidths = .5, \n",
    "            square = True, \n",
    "            cmap = 'RdBu_r')\n",
    "\n",
    "# Labels e Títulos\n",
    "plt.ylabel('Label Verdadeiro')\n",
    "plt.xlabel('Label Previsto')\n",
    "plt.title('Acurácia: {:.2f}'.format(xgb_score_v4), size = 15)\n",
    "\n",
    "# Relatório de Classificação\n",
    "print(classification_report(y_teste, xgb_y_pred))"
   ]
  },
  {
   "cell_type": "markdown",
   "metadata": {},
   "source": [
    "### Bayesian Optimization"
   ]
  },
  {
   "cell_type": "code",
   "execution_count": 16,
   "metadata": {},
   "outputs": [],
   "source": [
    "#!pip install scikit-optimize --upgrade"
   ]
  },
  {
   "cell_type": "code",
   "execution_count": 17,
   "metadata": {},
   "outputs": [],
   "source": [
    "from skopt import BayesSearchCV\n",
    "from sklearn.model_selection import StratifiedKFold\n"
   ]
  },
  {
   "cell_type": "code",
   "execution_count": 84,
   "metadata": {},
   "outputs": [],
   "source": [
    "bayes_cv_tuner = BayesSearchCV(\n",
    "    estimator = xgb.XGBClassifier(n_jobs       = -1,\n",
    "                                objective      = 'binary:logistic',\n",
    "                                eval_metric    = 'auc',\n",
    "                                learning_rate  = 0.2,\n",
    "                                silent         = 1,\n",
    "                                early_stopping = 20,\n",
    "                                n_estimators   = 200,\n",
    "                                tree_method    = 'approx'\n",
    "    ),\n",
    "    search_spaces = {\n",
    "        'min_child_weight'  : (15, 20),\n",
    "        'max_depth'         : (6, 8),\n",
    "        'max_delta_step'    : (0, 20),\n",
    "        'subsample'         : (0.01, 1.0, 'uniform'),\n",
    "        'colsample_bytree'  : (0.01, 1.0, 'uniform'),\n",
    "        'colsample_bylevel' : (0.01, 1.0, 'uniform'),\n",
    "        'reg_lambda'        : (0, 1000, 'log-uniform'),\n",
    "        'reg_alpha'         : (0, 100, 'log-uniform'),\n",
    "        'gamma'             : (1e-2, 0.5, 'log-uniform'),\n",
    "        'min_child_weight'  : (0, 20),\n",
    "        'scale_pos_weight'  : (0, 500, 'log-uniform')\n",
    "    },    \n",
    "    scoring = 'roc_auc',\n",
    "    cv = StratifiedKFold(\n",
    "        n_splits     = 6,\n",
    "        shuffle      = True,\n",
    "        random_state = SEED\n",
    "    ),\n",
    "    n_jobs  = -1,\n",
    "    n_iter  = 20,   \n",
    "    verbose = 0,\n",
    "    refit   = True,\n",
    "    random_state = SEED\n",
    ")\n",
    "\n",
    "def status_print(optim_result):\n",
    "    all_models = pd.DataFrame(bayes_cv_tuner.cv_results_)    \n",
    "    best_params = pd.Series(bayes_cv_tuner.best_params_)\n",
    "    \n",
    "    print('Model #{}\\nBest ROC-AUC: {}\\nBest params: {}\\n'.format(\n",
    "        len(all_models),\n",
    "        np.round(bayes_cv_tuner.best_score_, 4),\n",
    "        bayes_cv_tuner.best_params_\n",
    "    ))\n",
    "    \n",
    "    clf_name = bayes_cv_tuner.estimator.__class__.__name__\n",
    "    #all_models.to_csv(clf_name+\"_cv_results.csv\")"
   ]
  },
  {
   "cell_type": "code",
   "execution_count": 85,
   "metadata": {
    "scrolled": true
   },
   "outputs": [
    {
     "name": "stdout",
     "output_type": "stream",
     "text": [
      "Model #1\n",
      "Best ROC-AUC: 0.8422\n",
      "Best params: OrderedDict([('colsample_bylevel', 0.4160029192647807), ('colsample_bytree', 0.7304484857455519), ('gamma', 0.38451629413594224), ('max_delta_step', 6), ('max_depth', 7), ('min_child_weight', 8), ('reg_alpha', 35), ('reg_lambda', 740), ('scale_pos_weight', 152), ('subsample', 0.6513136724634089)])\n",
      "\n",
      "Model #2\n",
      "Best ROC-AUC: 0.8447\n",
      "Best params: OrderedDict([('colsample_bylevel', 0.8390144719977516), ('colsample_bytree', 0.8844821246070537), ('gamma', 0.03277062133261745), ('max_delta_step', 19), ('max_depth', 8), ('min_child_weight', 1), ('reg_alpha', 14), ('reg_lambda', 354), ('scale_pos_weight', 318), ('subsample', 0.9539453486878958)])\n",
      "\n",
      "Model #3\n",
      "Best ROC-AUC: 0.8447\n",
      "Best params: OrderedDict([('colsample_bylevel', 0.8390144719977516), ('colsample_bytree', 0.8844821246070537), ('gamma', 0.03277062133261745), ('max_delta_step', 19), ('max_depth', 8), ('min_child_weight', 1), ('reg_alpha', 14), ('reg_lambda', 354), ('scale_pos_weight', 318), ('subsample', 0.9539453486878958)])\n",
      "\n",
      "Model #4\n",
      "Best ROC-AUC: 0.8447\n",
      "Best params: OrderedDict([('colsample_bylevel', 0.8390144719977516), ('colsample_bytree', 0.8844821246070537), ('gamma', 0.03277062133261745), ('max_delta_step', 19), ('max_depth', 8), ('min_child_weight', 1), ('reg_alpha', 14), ('reg_lambda', 354), ('scale_pos_weight', 318), ('subsample', 0.9539453486878958)])\n",
      "\n",
      "Model #5\n",
      "Best ROC-AUC: 0.8447\n",
      "Best params: OrderedDict([('colsample_bylevel', 0.8390144719977516), ('colsample_bytree', 0.8844821246070537), ('gamma', 0.03277062133261745), ('max_delta_step', 19), ('max_depth', 8), ('min_child_weight', 1), ('reg_alpha', 14), ('reg_lambda', 354), ('scale_pos_weight', 318), ('subsample', 0.9539453486878958)])\n",
      "\n",
      "Model #6\n",
      "Best ROC-AUC: 0.8447\n",
      "Best params: OrderedDict([('colsample_bylevel', 0.8390144719977516), ('colsample_bytree', 0.8844821246070537), ('gamma', 0.03277062133261745), ('max_delta_step', 19), ('max_depth', 8), ('min_child_weight', 1), ('reg_alpha', 14), ('reg_lambda', 354), ('scale_pos_weight', 318), ('subsample', 0.9539453486878958)])\n",
      "\n",
      "Model #7\n",
      "Best ROC-AUC: 0.8447\n",
      "Best params: OrderedDict([('colsample_bylevel', 0.8390144719977516), ('colsample_bytree', 0.8844821246070537), ('gamma', 0.03277062133261745), ('max_delta_step', 19), ('max_depth', 8), ('min_child_weight', 1), ('reg_alpha', 14), ('reg_lambda', 354), ('scale_pos_weight', 318), ('subsample', 0.9539453486878958)])\n",
      "\n",
      "Model #8\n",
      "Best ROC-AUC: 0.8452\n",
      "Best params: OrderedDict([('colsample_bylevel', 0.5479690370134094), ('colsample_bytree', 0.9208091341729433), ('gamma', 0.0697400151786318), ('max_delta_step', 17), ('max_depth', 7), ('min_child_weight', 1), ('reg_alpha', 57), ('reg_lambda', 26), ('scale_pos_weight', 193), ('subsample', 0.8276864968834418)])\n",
      "\n",
      "Model #9\n",
      "Best ROC-AUC: 0.8452\n",
      "Best params: OrderedDict([('colsample_bylevel', 0.5479690370134094), ('colsample_bytree', 0.9208091341729433), ('gamma', 0.0697400151786318), ('max_delta_step', 17), ('max_depth', 7), ('min_child_weight', 1), ('reg_alpha', 57), ('reg_lambda', 26), ('scale_pos_weight', 193), ('subsample', 0.8276864968834418)])\n",
      "\n",
      "Model #10\n",
      "Best ROC-AUC: 0.8452\n",
      "Best params: OrderedDict([('colsample_bylevel', 0.5479690370134094), ('colsample_bytree', 0.9208091341729433), ('gamma', 0.0697400151786318), ('max_delta_step', 17), ('max_depth', 7), ('min_child_weight', 1), ('reg_alpha', 57), ('reg_lambda', 26), ('scale_pos_weight', 193), ('subsample', 0.8276864968834418)])\n",
      "\n",
      "Model #11\n",
      "Best ROC-AUC: 0.8452\n",
      "Best params: OrderedDict([('colsample_bylevel', 0.5479690370134094), ('colsample_bytree', 0.9208091341729433), ('gamma', 0.0697400151786318), ('max_delta_step', 17), ('max_depth', 7), ('min_child_weight', 1), ('reg_alpha', 57), ('reg_lambda', 26), ('scale_pos_weight', 193), ('subsample', 0.8276864968834418)])\n",
      "\n",
      "Model #12\n",
      "Best ROC-AUC: 0.8452\n",
      "Best params: OrderedDict([('colsample_bylevel', 0.5479690370134094), ('colsample_bytree', 0.9208091341729433), ('gamma', 0.0697400151786318), ('max_delta_step', 17), ('max_depth', 7), ('min_child_weight', 1), ('reg_alpha', 57), ('reg_lambda', 26), ('scale_pos_weight', 193), ('subsample', 0.8276864968834418)])\n",
      "\n",
      "Model #13\n",
      "Best ROC-AUC: 0.8452\n",
      "Best params: OrderedDict([('colsample_bylevel', 0.5479690370134094), ('colsample_bytree', 0.9208091341729433), ('gamma', 0.0697400151786318), ('max_delta_step', 17), ('max_depth', 7), ('min_child_weight', 1), ('reg_alpha', 57), ('reg_lambda', 26), ('scale_pos_weight', 193), ('subsample', 0.8276864968834418)])\n",
      "\n",
      "Model #14\n",
      "Best ROC-AUC: 0.8452\n",
      "Best params: OrderedDict([('colsample_bylevel', 0.5479690370134094), ('colsample_bytree', 0.9208091341729433), ('gamma', 0.0697400151786318), ('max_delta_step', 17), ('max_depth', 7), ('min_child_weight', 1), ('reg_alpha', 57), ('reg_lambda', 26), ('scale_pos_weight', 193), ('subsample', 0.8276864968834418)])\n",
      "\n",
      "Model #15\n",
      "Best ROC-AUC: 0.8452\n",
      "Best params: OrderedDict([('colsample_bylevel', 0.5479690370134094), ('colsample_bytree', 0.9208091341729433), ('gamma', 0.0697400151786318), ('max_delta_step', 17), ('max_depth', 7), ('min_child_weight', 1), ('reg_alpha', 57), ('reg_lambda', 26), ('scale_pos_weight', 193), ('subsample', 0.8276864968834418)])\n",
      "\n",
      "Model #16\n",
      "Best ROC-AUC: 0.8452\n",
      "Best params: OrderedDict([('colsample_bylevel', 0.5479690370134094), ('colsample_bytree', 0.9208091341729433), ('gamma', 0.0697400151786318), ('max_delta_step', 17), ('max_depth', 7), ('min_child_weight', 1), ('reg_alpha', 57), ('reg_lambda', 26), ('scale_pos_weight', 193), ('subsample', 0.8276864968834418)])\n",
      "\n",
      "Model #17\n",
      "Best ROC-AUC: 0.8452\n",
      "Best params: OrderedDict([('colsample_bylevel', 0.5479690370134094), ('colsample_bytree', 0.9208091341729433), ('gamma', 0.0697400151786318), ('max_delta_step', 17), ('max_depth', 7), ('min_child_weight', 1), ('reg_alpha', 57), ('reg_lambda', 26), ('scale_pos_weight', 193), ('subsample', 0.8276864968834418)])\n",
      "\n",
      "Model #18\n",
      "Best ROC-AUC: 0.8452\n",
      "Best params: OrderedDict([('colsample_bylevel', 0.5479690370134094), ('colsample_bytree', 0.9208091341729433), ('gamma', 0.0697400151786318), ('max_delta_step', 17), ('max_depth', 7), ('min_child_weight', 1), ('reg_alpha', 57), ('reg_lambda', 26), ('scale_pos_weight', 193), ('subsample', 0.8276864968834418)])\n",
      "\n",
      "Model #19\n",
      "Best ROC-AUC: 0.8452\n",
      "Best params: OrderedDict([('colsample_bylevel', 0.5479690370134094), ('colsample_bytree', 0.9208091341729433), ('gamma', 0.0697400151786318), ('max_delta_step', 17), ('max_depth', 7), ('min_child_weight', 1), ('reg_alpha', 57), ('reg_lambda', 26), ('scale_pos_weight', 193), ('subsample', 0.8276864968834418)])\n",
      "\n",
      "Model #20\n",
      "Best ROC-AUC: 0.8452\n",
      "Best params: OrderedDict([('colsample_bylevel', 0.5479690370134094), ('colsample_bytree', 0.9208091341729433), ('gamma', 0.0697400151786318), ('max_delta_step', 17), ('max_depth', 7), ('min_child_weight', 1), ('reg_alpha', 57), ('reg_lambda', 26), ('scale_pos_weight', 193), ('subsample', 0.8276864968834418)])\n",
      "\n",
      "[20:06:31] WARNING: ../src/learner.cc:516: \n",
      "Parameters: { early_stopping, silent } might not be used.\n",
      "\n",
      "  This may not be accurate due to some parameters are only used in language bindings but\n",
      "  passed down to XGBoost core.  Or some parameters are not used but slip through this\n",
      "  verification. Please open an issue if you find above cases.\n",
      "\n",
      "\n"
     ]
    }
   ],
   "source": [
    "# Treinamento do modelo\n",
    "result = bayes_cv_tuner.fit(X_treino, y_treino, callback=status_print)"
   ]
  },
  {
   "cell_type": "code",
   "execution_count": 86,
   "metadata": {},
   "outputs": [
    {
     "data": {
      "text/plain": [
       "OrderedDict([('colsample_bylevel', 0.5479690370134094),\n",
       "             ('colsample_bytree', 0.9208091341729433),\n",
       "             ('gamma', 0.0697400151786318),\n",
       "             ('max_delta_step', 17),\n",
       "             ('max_depth', 7),\n",
       "             ('min_child_weight', 1),\n",
       "             ('reg_alpha', 57),\n",
       "             ('reg_lambda', 26),\n",
       "             ('scale_pos_weight', 193),\n",
       "             ('subsample', 0.8276864968834418)])"
      ]
     },
     "execution_count": 86,
     "metadata": {},
     "output_type": "execute_result"
    }
   ],
   "source": [
    "result.best_params_"
   ]
  },
  {
   "cell_type": "code",
   "execution_count": 87,
   "metadata": {},
   "outputs": [
    {
     "name": "stdout",
     "output_type": "stream",
     "text": [
      "Acurácia: 78.05%\n",
      "Sensibilidade : 0.9936363636363637\n",
      "Especificidade : 0.6786799826313504\n",
      "\n",
      "\n",
      "              precision    recall  f1-score   support\n",
      "\n",
      "           0       1.00      0.68      0.81      2303\n",
      "           1       0.60      0.99      0.75      1100\n",
      "\n",
      "    accuracy                           0.78      3403\n",
      "   macro avg       0.80      0.84      0.78      3403\n",
      "weighted avg       0.87      0.78      0.79      3403\n",
      "\n"
     ]
    },
    {
     "data": {
      "image/png": "[encoded data removed]",
      "text/plain": [
       "<Figure size 432x432 with 2 Axes>"
      ]
     },
     "metadata": {},
     "output_type": "display_data"
    }
   ],
   "source": [
    "modelo_xgb_v5 = xgb.XGBClassifier(**result.best_params_)\n",
    "\n",
    "# Treinando o modelo\n",
    "modelo_xgb_v5.fit(X_treino, y_treino)\n",
    "\n",
    "# Fazendo previsões\n",
    "xgb_y_pred = modelo_xgb_v5.predict(X_teste)\n",
    "previsoes = [round(value) for value in xgb_y_pred]\n",
    "\n",
    "# Avaliando as previsões\n",
    "xgb_score_v5 = accuracy_score(y_teste, previsoes)\n",
    "print(\"Acurácia: %.2f%%\" % (xgb_score_v5 * 100.0))\n",
    "\n",
    "# Cria a matriz de confusão\n",
    "conf_matriz_xgb = confusion_matrix(y_teste, xgb_y_pred)\n",
    "    \n",
    "# Calcula especificidade e sensibilidade\n",
    "speci_xgb = conf_matriz_xgb[0,0] / (conf_matriz_xgb[0,0] + conf_matriz_xgb[0,1])\n",
    "sensi_xgb = conf_matriz_xgb[1,1] / (conf_matriz_xgb[1,0] + conf_matriz_xgb[1,1])\n",
    "\n",
    "# Print\n",
    "print('Sensibilidade :', sensi_xgb)\n",
    "print('Especificidade :', speci_xgb)\n",
    "print('\\n')\n",
    "\n",
    "# Matriz de Confusão gráfica\n",
    "sns.set(rc={'figure.figsize':(6, 6)})\n",
    "sns.heatmap(conf_matriz_xgb, \n",
    "            annot = True, \n",
    "            fmt = \".0f\", \n",
    "            linewidths = .5, \n",
    "            square = True, \n",
    "            cmap = 'RdBu_r')\n",
    "\n",
    "# Labels e Títulos\n",
    "plt.ylabel('Label Verdadeiro')\n",
    "plt.xlabel('Label Previsto')\n",
    "plt.title('Acurácia: {:.2f}'.format(xgb_score_v5), size = 15)\n",
    "\n",
    "# Relatório de Classificação\n",
    "print(classification_report(y_teste, xgb_y_pred))"
   ]
  },
  {
   "cell_type": "markdown",
   "metadata": {},
   "source": [
    "# Parte 05. Realizando novas previsões"
   ]
  },
  {
   "cell_type": "code",
   "execution_count": null,
   "metadata": {},
   "outputs": [],
   "source": [
    "# Carregando o dataset de testes \n",
    "teste  = pd.read_csv(r'to_be_scored.csv')\n",
    "print('Quantidade de registros e colunas: ',teste.shape)\n",
    "\n",
    "# Removendo colunas que não serão utilizadas no treinamento\n",
    "teste = teste.drop(['Tempo','Estação','Movimentação','LAT','LONG'], axis = 1)\n",
    "\n",
    "# Visualizando os primeiros registros\n",
    "teste.head()"
   ]
  },
  {
   "cell_type": "code",
   "execution_count": null,
   "metadata": {},
   "outputs": [],
   "source": [
    "# Padronizando os dados (0 para a média, 1 para o desvio padrão)\n",
    "teste_scaler = StandardScaler().fit_transform(teste)\n",
    "\n",
    "# Realizando previsoes com dados de teste(usando modelo NAO BALANCEADO)\n",
    "y_pred_test = modelo_xgb_v5.predict(teste_scaler)\n"
   ]
  },
  {
   "cell_type": "code",
   "execution_count": null,
   "metadata": {},
   "outputs": [],
   "source": [
    "# Salvando na coluna target\n",
    "teste['TARGET'] = y_pred_test\n",
    "teste['TARGET'] = np.where(teste['TARGET'] == 0, 'NORMAL', 'REABASTECER')\n",
    "\n",
    "# Visualizando os ultimos registros\n",
    "teste.tail()"
   ]
  },
  {
   "cell_type": "code",
   "execution_count": null,
   "metadata": {},
   "outputs": [],
   "source": [
    "# Visualizando a distribuição das classes (variavel TARGET)\n",
    "pd.value_counts(teste['TARGET']).plot.bar()\n",
    "plt.title('TARGET histogram')\n",
    "plt.xlabel('TARGET')\n",
    "plt.ylabel('Frequency')\n",
    "\n",
    "# Visualizando um df com quantidade e percentual da variavel TARGET\n",
    "tmp = pd.DataFrame(teste['TARGET'].value_counts())\n",
    "tmp['%'] = round(100*tmp['TARGET']/tmp['TARGET'].sum(),3)\n",
    "tmp"
   ]
  },
  {
   "cell_type": "code",
   "execution_count": null,
   "metadata": {},
   "outputs": [],
   "source": [
    "# Gravando resultado em csv\n",
    "teste.to_csv('results_xgb_v2.csv',index=False)"
   ]
  },
  {
   "cell_type": "code",
   "execution_count": null,
   "metadata": {},
   "outputs": [],
   "source": []
  },
  {
   "cell_type": "code",
   "execution_count": null,
   "metadata": {},
   "outputs": [],
   "source": []
  }
 ],
 "metadata": {
  "kernelspec": {
   "display_name": "Python 3",
   "language": "python",
   "name": "python3"
  },
  "language_info": {
   "codemirror_mode": {
    "name": "ipython",
    "version": 3
   },
   "file_extension": ".py",
   "mimetype": "text/x-python",
   "name": "python",
   "nbconvert_exporter": "python",
   "pygments_lexer": "ipython3",
   "version": "3.7.8"
  }
 },
 "nbformat": 4,
 "nbformat_minor": 1
}
