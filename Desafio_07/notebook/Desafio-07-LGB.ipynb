{
 "cells": [
  {
   "cell_type": "markdown",
   "metadata": {},
   "source": [
    "# MARATONA BEHIND THE CODE 2020\n",
    "\n",
    "## DESAFIO 7: TNT\n",
    "\n",
    "## Testes com modelo XGBoost\n",
    "- Autor: Rodrigo Lima\n",
    "- LinkedIN: https://www.linkedin.com/in/rodrigolima82/\n",
    "\n",
    "\n",
    "![title](tnt_image.jpg)"
   ]
  },
  {
   "cell_type": "markdown",
   "metadata": {},
   "source": [
    "# Parte 01. Importando as bibliotecas"
   ]
  },
  {
   "cell_type": "code",
   "execution_count": 14,
   "metadata": {},
   "outputs": [],
   "source": [
    "# Pacotes padrao\n",
    "import pandas as pd\n",
    "import numpy as np\n",
    "import seaborn as sns\n",
    "import matplotlib.pylab as plt\n",
    "%matplotlib inline\n",
    "\n",
    "# Pacote do sklearn\n",
    "from sklearn.model_selection import train_test_split, KFold\n",
    "from sklearn.metrics import accuracy_score, confusion_matrix, classification_report, precision_score\n",
    "from sklearn.metrics import roc_auc_score, recall_score\n",
    "from sklearn.preprocessing import StandardScaler, MinMaxScaler\n",
    "\n",
    "# Pacote ML\n",
    "from xgboost import XGBClassifier\n",
    "import xgboost as xgb\n",
    "\n",
    "# Pacote para balanceamento dos dados\n",
    "from imblearn.over_sampling import SMOTE\n",
    "\n",
    "# Pacote para hyperparametros\n",
    "import optuna\n",
    "import functools\n",
    "\n",
    "# Desativando warnings no jupyter\n",
    "import warnings\n",
    "warnings.filterwarnings('ignore')"
   ]
  },
  {
   "cell_type": "markdown",
   "metadata": {},
   "source": [
    "# Parte 02. Carregando o dataset de treino"
   ]
  },
  {
   "cell_type": "code",
   "execution_count": 2,
   "metadata": {},
   "outputs": [
    {
     "name": "stdout",
     "output_type": "stream",
     "text": [
      "Quantidade de registros e colunas:  (17015, 15)\n"
     ]
    },
    {
     "data": {
      "text/html": [
       "<div>\n",
       "<style scoped>\n",
       "    .dataframe tbody tr th:only-of-type {\n",
       "        vertical-align: middle;\n",
       "    }\n",
       "\n",
       "    .dataframe tbody tr th {\n",
       "        vertical-align: top;\n",
       "    }\n",
       "\n",
       "    .dataframe thead th {\n",
       "        text-align: right;\n",
       "    }\n",
       "</style>\n",
       "<table border=\"1\" class=\"dataframe\">\n",
       "  <thead>\n",
       "    <tr style=\"text-align: right;\">\n",
       "      <th></th>\n",
       "      <th>Tempo</th>\n",
       "      <th>Estacao</th>\n",
       "      <th>LAT</th>\n",
       "      <th>LONG</th>\n",
       "      <th>Movimentacao</th>\n",
       "      <th>Original_473</th>\n",
       "      <th>Original_269</th>\n",
       "      <th>Zero</th>\n",
       "      <th>Maca_Verde</th>\n",
       "      <th>Tangerina</th>\n",
       "      <th>Citrus</th>\n",
       "      <th>Acai_Guarana</th>\n",
       "      <th>Pessego</th>\n",
       "      <th>TARGET</th>\n",
       "      <th>row</th>\n",
       "    </tr>\n",
       "  </thead>\n",
       "  <tbody>\n",
       "    <tr>\n",
       "      <th>0</th>\n",
       "      <td>2019-12-30</td>\n",
       "      <td>Fradique Coutinho</td>\n",
       "      <td>-23.5661</td>\n",
       "      <td>-46.6841</td>\n",
       "      <td>35386</td>\n",
       "      <td>24</td>\n",
       "      <td>45</td>\n",
       "      <td>61</td>\n",
       "      <td>42</td>\n",
       "      <td>19</td>\n",
       "      <td>22</td>\n",
       "      <td>15</td>\n",
       "      <td>9</td>\n",
       "      <td>NORMAL</td>\n",
       "      <td>10800</td>\n",
       "    </tr>\n",
       "    <tr>\n",
       "      <th>1</th>\n",
       "      <td>2018-01-08</td>\n",
       "      <td>Luz</td>\n",
       "      <td>-23.5365</td>\n",
       "      <td>-46.6332</td>\n",
       "      <td>124806</td>\n",
       "      <td>15</td>\n",
       "      <td>10</td>\n",
       "      <td>10</td>\n",
       "      <td>29</td>\n",
       "      <td>10</td>\n",
       "      <td>25</td>\n",
       "      <td>14</td>\n",
       "      <td>13</td>\n",
       "      <td>NORMAL</td>\n",
       "      <td>10808</td>\n",
       "    </tr>\n",
       "    <tr>\n",
       "      <th>2</th>\n",
       "      <td>2018-04-17</td>\n",
       "      <td>Luz</td>\n",
       "      <td>-23.5365</td>\n",
       "      <td>-46.6332</td>\n",
       "      <td>125215</td>\n",
       "      <td>53</td>\n",
       "      <td>1</td>\n",
       "      <td>55</td>\n",
       "      <td>18</td>\n",
       "      <td>18</td>\n",
       "      <td>6</td>\n",
       "      <td>37</td>\n",
       "      <td>8</td>\n",
       "      <td>REABASTECER</td>\n",
       "      <td>10907</td>\n",
       "    </tr>\n",
       "    <tr>\n",
       "      <th>3</th>\n",
       "      <td>2018-07-18</td>\n",
       "      <td>Luz</td>\n",
       "      <td>-23.5365</td>\n",
       "      <td>-46.6332</td>\n",
       "      <td>126476</td>\n",
       "      <td>36</td>\n",
       "      <td>5</td>\n",
       "      <td>57</td>\n",
       "      <td>38</td>\n",
       "      <td>15</td>\n",
       "      <td>43</td>\n",
       "      <td>43</td>\n",
       "      <td>18</td>\n",
       "      <td>REABASTECER</td>\n",
       "      <td>10998</td>\n",
       "    </tr>\n",
       "    <tr>\n",
       "      <th>4</th>\n",
       "      <td>2018-08-28</td>\n",
       "      <td>Luz</td>\n",
       "      <td>-23.5365</td>\n",
       "      <td>-46.6332</td>\n",
       "      <td>125917</td>\n",
       "      <td>79</td>\n",
       "      <td>10</td>\n",
       "      <td>8</td>\n",
       "      <td>37</td>\n",
       "      <td>32</td>\n",
       "      <td>30</td>\n",
       "      <td>18</td>\n",
       "      <td>15</td>\n",
       "      <td>NORMAL</td>\n",
       "      <td>11038</td>\n",
       "    </tr>\n",
       "  </tbody>\n",
       "</table>\n",
       "</div>"
      ],
      "text/plain": [
       "        Tempo            Estacao      LAT     LONG  Movimentacao  \\\n",
       "0  2019-12-30  Fradique Coutinho -23.5661 -46.6841         35386   \n",
       "1  2018-01-08                Luz -23.5365 -46.6332        124806   \n",
       "2  2018-04-17                Luz -23.5365 -46.6332        125215   \n",
       "3  2018-07-18                Luz -23.5365 -46.6332        126476   \n",
       "4  2018-08-28                Luz -23.5365 -46.6332        125917   \n",
       "\n",
       "   Original_473  Original_269  Zero  Maca_Verde  Tangerina  Citrus  \\\n",
       "0            24            45    61          42         19      22   \n",
       "1            15            10    10          29         10      25   \n",
       "2            53             1    55          18         18       6   \n",
       "3            36             5    57          38         15      43   \n",
       "4            79            10     8          37         32      30   \n",
       "\n",
       "   Acai_Guarana  Pessego       TARGET    row  \n",
       "0            15        9       NORMAL  10800  \n",
       "1            14       13       NORMAL  10808  \n",
       "2            37        8  REABASTECER  10907  \n",
       "3            43       18  REABASTECER  10998  \n",
       "4            18       15       NORMAL  11038  "
      ]
     },
     "execution_count": 2,
     "metadata": {},
     "output_type": "execute_result"
    }
   ],
   "source": [
    "# Criando um dataframe a partir da lista de dados vindo do IoT e gravados no NoSQL\n",
    "treino = pd.read_csv(r'train_17015.csv')\n",
    "print('Quantidade de registros e colunas: ',treino.shape)\n",
    "treino.head()"
   ]
  },
  {
   "cell_type": "code",
   "execution_count": 3,
   "metadata": {
    "scrolled": true
   },
   "outputs": [
    {
     "name": "stdout",
     "output_type": "stream",
     "text": [
      "<class 'pandas.core.frame.DataFrame'>\n",
      "RangeIndex: 17015 entries, 0 to 17014\n",
      "Data columns (total 15 columns):\n",
      "Tempo           16921 non-null object\n",
      "Estacao         17015 non-null object\n",
      "LAT             17015 non-null float64\n",
      "LONG            17015 non-null float64\n",
      "Movimentacao    17015 non-null int64\n",
      "Original_473    17015 non-null int64\n",
      "Original_269    17015 non-null int64\n",
      "Zero            17015 non-null int64\n",
      "Maca_Verde      17015 non-null int64\n",
      "Tangerina       17015 non-null int64\n",
      "Citrus          17015 non-null int64\n",
      "Acai_Guarana    17015 non-null int64\n",
      "Pessego         17015 non-null int64\n",
      "TARGET          17015 non-null object\n",
      "row             17015 non-null int64\n",
      "dtypes: float64(2), int64(10), object(3)\n",
      "memory usage: 1.9+ MB\n"
     ]
    }
   ],
   "source": [
    "# Visualizando o tipo dos dados\n",
    "treino.info()"
   ]
  },
  {
   "cell_type": "code",
   "execution_count": 4,
   "metadata": {},
   "outputs": [
    {
     "data": {
      "text/html": [
       "<div>\n",
       "<style scoped>\n",
       "    .dataframe tbody tr th:only-of-type {\n",
       "        vertical-align: middle;\n",
       "    }\n",
       "\n",
       "    .dataframe tbody tr th {\n",
       "        vertical-align: top;\n",
       "    }\n",
       "\n",
       "    .dataframe thead th {\n",
       "        text-align: right;\n",
       "    }\n",
       "</style>\n",
       "<table border=\"1\" class=\"dataframe\">\n",
       "  <thead>\n",
       "    <tr style=\"text-align: right;\">\n",
       "      <th></th>\n",
       "      <th>TARGET</th>\n",
       "      <th>%</th>\n",
       "    </tr>\n",
       "  </thead>\n",
       "  <tbody>\n",
       "    <tr>\n",
       "      <th>NORMAL</th>\n",
       "      <td>11517</td>\n",
       "      <td>67.687</td>\n",
       "    </tr>\n",
       "    <tr>\n",
       "      <th>REABASTECER</th>\n",
       "      <td>5498</td>\n",
       "      <td>32.313</td>\n",
       "    </tr>\n",
       "  </tbody>\n",
       "</table>\n",
       "</div>"
      ],
      "text/plain": [
       "             TARGET       %\n",
       "NORMAL        11517  67.687\n",
       "REABASTECER    5498  32.313"
      ]
     },
     "execution_count": 4,
     "metadata": {},
     "output_type": "execute_result"
    },
    {
     "data": {
      "image/png": "[encoded data removed]",
      "text/plain": [
       "<Figure size 432x288 with 1 Axes>"
      ]
     },
     "metadata": {
      "needs_background": "light"
     },
     "output_type": "display_data"
    }
   ],
   "source": [
    "# Visualizando a distribuição das classes (variavel TARGET)\n",
    "pd.value_counts(treino['TARGET']).plot.bar()\n",
    "plt.title('TARGET histogram')\n",
    "plt.xlabel('TARGET')\n",
    "plt.ylabel('Frequency')\n",
    "\n",
    "# Visualizando um df com quantidade e percentual da variavel TARGET\n",
    "tmp = pd.DataFrame(treino['TARGET'].value_counts())\n",
    "tmp['%'] = round(100*tmp['TARGET']/tmp['TARGET'].sum(),3)\n",
    "tmp"
   ]
  },
  {
   "cell_type": "markdown",
   "metadata": {},
   "source": [
    "# Parte 03. Feature Engineering"
   ]
  },
  {
   "cell_type": "code",
   "execution_count": 5,
   "metadata": {},
   "outputs": [
    {
     "data": {
      "text/html": [
       "<div>\n",
       "<style scoped>\n",
       "    .dataframe tbody tr th:only-of-type {\n",
       "        vertical-align: middle;\n",
       "    }\n",
       "\n",
       "    .dataframe tbody tr th {\n",
       "        vertical-align: top;\n",
       "    }\n",
       "\n",
       "    .dataframe thead th {\n",
       "        text-align: right;\n",
       "    }\n",
       "</style>\n",
       "<table border=\"1\" class=\"dataframe\">\n",
       "  <thead>\n",
       "    <tr style=\"text-align: right;\">\n",
       "      <th></th>\n",
       "      <th>Original_473</th>\n",
       "      <th>Original_269</th>\n",
       "      <th>Zero</th>\n",
       "      <th>Maca_Verde</th>\n",
       "      <th>Tangerina</th>\n",
       "      <th>Citrus</th>\n",
       "      <th>Acai_Guarana</th>\n",
       "      <th>Pessego</th>\n",
       "      <th>TARGET</th>\n",
       "    </tr>\n",
       "  </thead>\n",
       "  <tbody>\n",
       "    <tr>\n",
       "      <th>0</th>\n",
       "      <td>24</td>\n",
       "      <td>45</td>\n",
       "      <td>61</td>\n",
       "      <td>42</td>\n",
       "      <td>19</td>\n",
       "      <td>22</td>\n",
       "      <td>15</td>\n",
       "      <td>9</td>\n",
       "      <td>NORMAL</td>\n",
       "    </tr>\n",
       "    <tr>\n",
       "      <th>1</th>\n",
       "      <td>15</td>\n",
       "      <td>10</td>\n",
       "      <td>10</td>\n",
       "      <td>29</td>\n",
       "      <td>10</td>\n",
       "      <td>25</td>\n",
       "      <td>14</td>\n",
       "      <td>13</td>\n",
       "      <td>NORMAL</td>\n",
       "    </tr>\n",
       "    <tr>\n",
       "      <th>2</th>\n",
       "      <td>53</td>\n",
       "      <td>1</td>\n",
       "      <td>55</td>\n",
       "      <td>18</td>\n",
       "      <td>18</td>\n",
       "      <td>6</td>\n",
       "      <td>37</td>\n",
       "      <td>8</td>\n",
       "      <td>REABASTECER</td>\n",
       "    </tr>\n",
       "    <tr>\n",
       "      <th>3</th>\n",
       "      <td>36</td>\n",
       "      <td>5</td>\n",
       "      <td>57</td>\n",
       "      <td>38</td>\n",
       "      <td>15</td>\n",
       "      <td>43</td>\n",
       "      <td>43</td>\n",
       "      <td>18</td>\n",
       "      <td>REABASTECER</td>\n",
       "    </tr>\n",
       "    <tr>\n",
       "      <th>4</th>\n",
       "      <td>79</td>\n",
       "      <td>10</td>\n",
       "      <td>8</td>\n",
       "      <td>37</td>\n",
       "      <td>32</td>\n",
       "      <td>30</td>\n",
       "      <td>18</td>\n",
       "      <td>15</td>\n",
       "      <td>NORMAL</td>\n",
       "    </tr>\n",
       "  </tbody>\n",
       "</table>\n",
       "</div>"
      ],
      "text/plain": [
       "   Original_473  Original_269  Zero  Maca_Verde  Tangerina  Citrus  \\\n",
       "0            24            45    61          42         19      22   \n",
       "1            15            10    10          29         10      25   \n",
       "2            53             1    55          18         18       6   \n",
       "3            36             5    57          38         15      43   \n",
       "4            79            10     8          37         32      30   \n",
       "\n",
       "   Acai_Guarana  Pessego       TARGET  \n",
       "0            15        9       NORMAL  \n",
       "1            14       13       NORMAL  \n",
       "2            37        8  REABASTECER  \n",
       "3            43       18  REABASTECER  \n",
       "4            18       15       NORMAL  "
      ]
     },
     "execution_count": 5,
     "metadata": {},
     "output_type": "execute_result"
    }
   ],
   "source": [
    "# Removendo colunas que não serão utilizadas no treinamento\n",
    "treino = treino.drop(['Tempo','Estacao','Movimentacao','LAT','LONG', 'row'], axis = 1)\n",
    "\n",
    "# Converte colunas para numerico\n",
    "treino = treino.apply(pd.to_numeric, errors='ignore')\n",
    "\n",
    "# Visualizando os primeiros registros\n",
    "treino.head()"
   ]
  },
  {
   "cell_type": "markdown",
   "metadata": {},
   "source": [
    "# Parte 04. Modelagem Preditiva\n",
    "> - Nesta fase estarei construindo os modelos preditivos\n",
    "> - Vou utilizar o modelo XGB para treinamento"
   ]
  },
  {
   "cell_type": "code",
   "execution_count": 7,
   "metadata": {},
   "outputs": [],
   "source": [
    "# Definindo alguns parametros\n",
    "SEED  = 42"
   ]
  },
  {
   "cell_type": "code",
   "execution_count": 8,
   "metadata": {},
   "outputs": [],
   "source": [
    "# Selecionando features para treinamento\n",
    "X = treino.drop(['TARGET'], axis = 1)\n",
    "\n",
    "# Selecionando feature target\n",
    "y = treino['TARGET']\n",
    "\n",
    "# Transformando target em tipo numerico\n",
    "y = y.astype(\"category\").cat.codes\n",
    "\n",
    "# Padronizando os dados (0 para a média, 1 para o desvio padrão)\n",
    "X = StandardScaler().fit_transform(X)\n",
    "\n",
    "# Split dos dados\n",
    "X_treino, X_teste, y_treino, y_teste = train_test_split(X, y, test_size = .2, random_state = SEED, stratify = y)"
   ]
  },
  {
   "cell_type": "markdown",
   "metadata": {},
   "source": [
    "### Sem Balanceamento dos dados"
   ]
  },
  {
   "cell_type": "code",
   "execution_count": 9,
   "metadata": {},
   "outputs": [
    {
     "name": "stdout",
     "output_type": "stream",
     "text": [
      "Acurácia: 75.79%\n",
      "Sensibilidade : 0.6972727272727273\n",
      "Especificidade : 0.7867998263135041\n",
      "\n",
      "\n",
      "              precision    recall  f1-score   support\n",
      "\n",
      "           0       0.84      0.79      0.81      2303\n",
      "           1       0.61      0.70      0.65      1100\n",
      "\n",
      "    accuracy                           0.76      3403\n",
      "   macro avg       0.73      0.74      0.73      3403\n",
      "weighted avg       0.77      0.76      0.76      3403\n",
      "\n"
     ]
    },
    {
     "data": {
      "image/png": "[encoded data removed]",
      "text/plain": [
       "<Figure size 432x432 with 2 Axes>"
      ]
     },
     "metadata": {},
     "output_type": "display_data"
    }
   ],
   "source": [
    "# Criando o modelo\n",
    "modelo_xgb_v1 = XGBClassifier()\n",
    "\n",
    "# Treinando o modelo\n",
    "modelo_xgb_v1.fit(X_treino, y_treino)\n",
    "\n",
    "# Fazendo previsões\n",
    "xgb_y_pred = modelo_xgb_v1.predict(X_teste)\n",
    "previsoes = [round(value) for value in xgb_y_pred]\n",
    "\n",
    "# Avaliando as previsões\n",
    "xgb_score_v1 = accuracy_score(y_teste, previsoes)\n",
    "print(\"Acurácia: %.2f%%\" % (xgb_score_v1 * 100.0))\n",
    "\n",
    "# Cria a matriz de confusão\n",
    "conf_matriz_xgb = confusion_matrix(y_teste, xgb_y_pred)\n",
    "    \n",
    "# Calcula especificidade e sensibilidade\n",
    "speci_xgb = conf_matriz_xgb[0,0] / (conf_matriz_xgb[0,0] + conf_matriz_xgb[0,1])\n",
    "sensi_xgb = conf_matriz_xgb[1,1] / (conf_matriz_xgb[1,0] + conf_matriz_xgb[1,1])\n",
    "\n",
    "# Print\n",
    "print('Sensibilidade :', sensi_xgb)\n",
    "print('Especificidade :', speci_xgb)\n",
    "print('\\n')\n",
    "\n",
    "# Matriz de Confusão gráfica\n",
    "sns.set(rc={'figure.figsize':(6, 6)})\n",
    "sns.heatmap(conf_matriz_xgb, \n",
    "            annot = True, \n",
    "            fmt = \".0f\", \n",
    "            linewidths = .5, \n",
    "            square = True, \n",
    "            cmap = 'RdBu_r')\n",
    "\n",
    "# Labels e Títulos\n",
    "plt.ylabel('Label Verdadeiro')\n",
    "plt.xlabel('Label Previsto')\n",
    "plt.title('Acurácia: {:.2f}'.format(xgb_score_v1), size = 15)\n",
    "\n",
    "# Relatório de Classificação\n",
    "print(classification_report(y_teste, xgb_y_pred))"
   ]
  },
  {
   "cell_type": "markdown",
   "metadata": {},
   "source": [
    "### Com Balanceamento dos dados"
   ]
  },
  {
   "cell_type": "code",
   "execution_count": 10,
   "metadata": {},
   "outputs": [],
   "source": [
    "# Aplicando a funcao SMOTE\n",
    "sm = SMOTE(random_state=0)\n",
    "X_treino_bal, y_treino_bal = sm.fit_sample(X_treino, y_treino)"
   ]
  },
  {
   "cell_type": "code",
   "execution_count": 11,
   "metadata": {
    "scrolled": false
   },
   "outputs": [
    {
     "name": "stdout",
     "output_type": "stream",
     "text": [
      "Acurácia: 76.26%\n",
      "Sensibilidade : 0.7263636363636363\n",
      "Especificidade : 0.7798523664785063\n",
      "\n",
      "\n",
      "              precision    recall  f1-score   support\n",
      "\n",
      "           0       0.86      0.78      0.82      2303\n",
      "           1       0.61      0.73      0.66      1100\n",
      "\n",
      "    accuracy                           0.76      3403\n",
      "   macro avg       0.73      0.75      0.74      3403\n",
      "weighted avg       0.78      0.76      0.77      3403\n",
      "\n"
     ]
    },
    {
     "data": {
      "image/png": "[encoded data removed]",
      "text/plain": [
       "<Figure size 432x432 with 2 Axes>"
      ]
     },
     "metadata": {},
     "output_type": "display_data"
    }
   ],
   "source": [
    "# Criando o modelo\n",
    "modelo_xgb_v2 = XGBClassifier()\n",
    "\n",
    "# Treinando o modelo\n",
    "modelo_xgb_v2.fit(X_treino_bal, y_treino_bal)\n",
    "\n",
    "# Fazendo previsões\n",
    "xgb_y_pred = modelo_xgb_v2.predict(X_teste)\n",
    "previsoes = [round(value) for value in xgb_y_pred]\n",
    "\n",
    "# Avaliando as previsões\n",
    "xgb_score_v2 = accuracy_score(y_teste, previsoes)\n",
    "print(\"Acurácia: %.2f%%\" % (xgb_score_v2 * 100.0))\n",
    "\n",
    "# Cria a matriz de confusão\n",
    "conf_matriz_xgb = confusion_matrix(y_teste, xgb_y_pred)\n",
    "    \n",
    "# Calcula especificidade e sensibilidade\n",
    "speci_xgb = conf_matriz_xgb[0,0] / (conf_matriz_xgb[0,0] + conf_matriz_xgb[0,1])\n",
    "sensi_xgb = conf_matriz_xgb[1,1] / (conf_matriz_xgb[1,0] + conf_matriz_xgb[1,1])\n",
    "\n",
    "# Print\n",
    "print('Sensibilidade :', sensi_xgb)\n",
    "print('Especificidade :', speci_xgb)\n",
    "print('\\n')\n",
    "\n",
    "# Matriz de Confusão gráfica\n",
    "sns.set(rc={'figure.figsize':(6, 6)})\n",
    "sns.heatmap(conf_matriz_xgb, \n",
    "            annot = True, \n",
    "            fmt = \".0f\", \n",
    "            linewidths = .5, \n",
    "            square = True, \n",
    "            cmap = 'RdBu_r')\n",
    "\n",
    "# Labels e Títulos\n",
    "plt.ylabel('Label Verdadeiro')\n",
    "plt.xlabel('Label Previsto')\n",
    "plt.title('Acurácia: {:.2f}'.format(xgb_score_v2), size = 15)\n",
    "\n",
    "# Relatório de Classificação\n",
    "print(classification_report(y_teste, xgb_y_pred))"
   ]
  },
  {
   "cell_type": "markdown",
   "metadata": {},
   "source": [
    "### Identificando os melhores Hyperparametros"
   ]
  },
  {
   "cell_type": "code",
   "execution_count": 12,
   "metadata": {},
   "outputs": [],
   "source": [
    "def objective(trial):\n",
    "    # Selecionando features para treinamento\n",
    "    X = treino.drop(['TARGET'], axis = 1)\n",
    "\n",
    "    # Selecionando feature target\n",
    "    y = treino['TARGET']\n",
    "\n",
    "    # Transformando target em tipo numerico\n",
    "    y = y.astype(\"category\").cat.codes\n",
    "\n",
    "    # Padronizando os dados (0 para a média, 1 para o desvio padrão)\n",
    "    X = StandardScaler().fit_transform(X)\n",
    "\n",
    "    # Split dos dados\n",
    "    X_treino, X_teste, y_treino, y_teste = train_test_split(X, y, test_size = .2, random_state = SEED, stratify = y)    \n",
    "\n",
    "    dtrain = xgb.DMatrix(X_treino, label=y_treino)\n",
    "    dvalid = xgb.DMatrix(X_teste, label=y_teste)\n",
    "\n",
    "    param = {\n",
    "        \"silent\": 1,\n",
    "        \"objective\": \"binary:logistic\",\n",
    "        \"eval_metric\": \"auc\",\n",
    "        \"booster\": trial.suggest_categorical(\"booster\", [\"gbtree\", \"gblinear\", \"dart\"]),\n",
    "        \"lambda\": trial.suggest_float(\"lambda\", 1e-8, 1.0, log=True),\n",
    "        \"alpha\": trial.suggest_float(\"alpha\", 1e-8, 1.0, log=True),\n",
    "    }\n",
    "\n",
    "    if param[\"booster\"] == \"gbtree\" or param[\"booster\"] == \"dart\":\n",
    "        param[\"max_depth\"] = trial.suggest_int(\"max_depth\", 1, 9)\n",
    "        param[\"eta\"] = trial.suggest_float(\"eta\", 1e-8, 1.0, log=True)\n",
    "        param[\"gamma\"] = trial.suggest_float(\"gamma\", 1e-8, 1.0, log=True)\n",
    "        param[\"grow_policy\"] = trial.suggest_categorical(\"grow_policy\", [\"depthwise\", \"lossguide\"])\n",
    "    if param[\"booster\"] == \"dart\":\n",
    "        param[\"sample_type\"] = trial.suggest_categorical(\"sample_type\", [\"uniform\", \"weighted\"])\n",
    "        param[\"normalize_type\"] = trial.suggest_categorical(\"normalize_type\", [\"tree\", \"forest\"])\n",
    "        param[\"rate_drop\"] = trial.suggest_float(\"rate_drop\", 1e-8, 1.0, log=True)\n",
    "        param[\"skip_drop\"] = trial.suggest_float(\"skip_drop\", 1e-8, 1.0, log=True)\n",
    "\n",
    "    # Add a callback for pruning.\n",
    "    pruning_callback = optuna.integration.XGBoostPruningCallback(trial, \"validation-auc\")\n",
    "    bst = xgb.train(param, dtrain, evals=[(dvalid, \"validation\")], callbacks=[pruning_callback])\n",
    "    preds = bst.predict(dvalid)\n",
    "    pred_labels = np.rint(preds)\n",
    "    accuracy = accuracy_score(y_teste, pred_labels)\n",
    "    return accuracy"
   ]
  },
  {
   "cell_type": "code",
   "execution_count": 15,
   "metadata": {
    "scrolled": true
   },
   "outputs": [
    {
     "name": "stdout",
     "output_type": "stream",
     "text": [
      "[0]\tvalidation-auc:0.50000\n",
      "[1]\tvalidation-auc:0.50000\n",
      "[2]\tvalidation-auc:0.50000\n",
      "[3]\tvalidation-auc:0.50000\n",
      "[4]\tvalidation-auc:0.50000\n",
      "[5]\tvalidation-auc:0.50000\n",
      "[6]\tvalidation-auc:0.50000\n",
      "[7]\tvalidation-auc:0.50000\n",
      "[8]\tvalidation-auc:0.50000\n",
      "[9]\tvalidation-auc:0.50000\n"
     ]
    },
    {
     "name": "stderr",
     "output_type": "stream",
     "text": [
      "[I 2020-09-10 12:00:19,529] Finished trial#0 with value: 0.6767558037026153 with parameters: {'booster': 'gblinear', 'lambda': 2.2217445004263826e-05, 'alpha': 0.2513925382051475}. Best is trial#0 with value: 0.6767558037026153.\n"
     ]
    },
    {
     "name": "stdout",
     "output_type": "stream",
     "text": [
      "[0]\tvalidation-auc:0.84301\n",
      "[1]\tvalidation-auc:0.84343\n",
      "[2]\tvalidation-auc:0.84383\n",
      "[3]\tvalidation-auc:0.84501\n",
      "[4]\tvalidation-auc:0.84454\n",
      "[5]\tvalidation-auc:0.84442\n",
      "[6]\tvalidation-auc:0.84455\n",
      "[7]\tvalidation-auc:0.84464\n",
      "[8]\tvalidation-auc:0.84421\n",
      "[9]\tvalidation-auc:0.84414\n"
     ]
    },
    {
     "name": "stderr",
     "output_type": "stream",
     "text": [
      "[I 2020-09-10 12:00:19,746] Finished trial#1 with value: 0.7737290625918307 with parameters: {'booster': 'dart', 'lambda': 0.0030666361961162064, 'alpha': 3.909091565221151e-05, 'max_depth': 9, 'eta': 0.0025730292055799976, 'gamma': 9.329571934958972e-08, 'grow_policy': 'lossguide', 'sample_type': 'weighted', 'normalize_type': 'tree', 'rate_drop': 0.34960830207424853, 'skip_drop': 0.015198364049572439}. Best is trial#1 with value: 0.7737290625918307.\n"
     ]
    },
    {
     "name": "stdout",
     "output_type": "stream",
     "text": [
      "[0]\tvalidation-auc:0.50000\n",
      "[1]\tvalidation-auc:0.50000\n",
      "[2]\tvalidation-auc:0.50000\n",
      "[3]\tvalidation-auc:0.50000\n",
      "[4]\tvalidation-auc:0.50000\n",
      "[5]\tvalidation-auc:0.50000\n",
      "[6]\tvalidation-auc:0.50000\n",
      "[7]\tvalidation-auc:0.50000\n",
      "[8]\tvalidation-auc:0.50000\n",
      "[9]\tvalidation-auc:0.50000\n"
     ]
    },
    {
     "name": "stderr",
     "output_type": "stream",
     "text": [
      "[I 2020-09-10 12:00:19,904] Finished trial#2 with value: 0.6767558037026153 with parameters: {'booster': 'gblinear', 'lambda': 0.00031690051411184224, 'alpha': 0.4068763223975349}. Best is trial#1 with value: 0.7737290625918307.\n"
     ]
    },
    {
     "name": "stdout",
     "output_type": "stream",
     "text": [
      "[0]\tvalidation-auc:0.84301\n",
      "[1]\tvalidation-auc:0.84447\n",
      "[2]\tvalidation-auc:0.84567\n",
      "[3]\tvalidation-auc:0.84649\n",
      "[4]\tvalidation-auc:0.84663\n",
      "[5]\tvalidation-auc:0.84416\n",
      "[6]\tvalidation-auc:0.84387\n",
      "[7]\tvalidation-auc:0.84467\n",
      "[8]\tvalidation-auc:0.84384\n",
      "[9]\tvalidation-auc:0.84355\n"
     ]
    },
    {
     "name": "stderr",
     "output_type": "stream",
     "text": [
      "[I 2020-09-10 12:00:20,116] Finished trial#3 with value: 0.7690273288275051 with parameters: {'booster': 'dart', 'lambda': 7.908264552670721e-05, 'alpha': 0.0007960571080542143, 'max_depth': 9, 'eta': 0.017599738329539063, 'gamma': 0.002518131593351907, 'grow_policy': 'depthwise', 'sample_type': 'weighted', 'normalize_type': 'forest', 'rate_drop': 0.11704148997946062, 'skip_drop': 9.707329186108238e-06}. Best is trial#1 with value: 0.7737290625918307.\n"
     ]
    },
    {
     "name": "stdout",
     "output_type": "stream",
     "text": [
      "[0]\tvalidation-auc:0.50000\n",
      "[1]\tvalidation-auc:0.50000\n",
      "[2]\tvalidation-auc:0.50000\n",
      "[3]\tvalidation-auc:0.50000\n",
      "[4]\tvalidation-auc:0.51258\n",
      "[5]\tvalidation-auc:0.52090\n",
      "[6]\tvalidation-auc:0.52412\n",
      "[7]\tvalidation-auc:0.52743\n",
      "[8]\tvalidation-auc:0.84122\n",
      "[9]\tvalidation-auc:0.84150\n"
     ]
    },
    {
     "name": "stderr",
     "output_type": "stream",
     "text": [
      "[I 2020-09-10 12:00:20,325] Finished trial#4 with value: 0.6935057302380253 with parameters: {'booster': 'dart', 'lambda': 1.5192426515849298e-06, 'alpha': 0.05286647511841135, 'max_depth': 8, 'eta': 1.0611723963192535e-08, 'gamma': 1.4443391492327172e-07, 'grow_policy': 'lossguide', 'sample_type': 'weighted', 'normalize_type': 'forest', 'rate_drop': 1.8879596375935359e-06, 'skip_drop': 0.18117548862798047}. Best is trial#1 with value: 0.7737290625918307.\n"
     ]
    },
    {
     "name": "stdout",
     "output_type": "stream",
     "text": [
      "[0]\tvalidation-auc:0.67627\n",
      "[1]\tvalidation-auc:0.67649\n",
      "[2]\tvalidation-auc:0.67665\n",
      "[3]\tvalidation-auc:0.67674\n",
      "[4]\tvalidation-auc:0.67682\n",
      "[5]\tvalidation-auc:0.67688\n",
      "[6]\tvalidation-auc:0.67690\n",
      "[7]\tvalidation-auc:0.67692\n",
      "[8]\tvalidation-auc:0.67693\n",
      "[9]\tvalidation-auc:0.67694\n"
     ]
    },
    {
     "name": "stderr",
     "output_type": "stream",
     "text": [
      "[I 2020-09-10 12:00:20,484] Finished trial#5 with value: 0.6735233617396414 with parameters: {'booster': 'gblinear', 'lambda': 1.9855618897214644e-05, 'alpha': 3.299737585648839e-06}. Best is trial#1 with value: 0.7737290625918307.\n"
     ]
    },
    {
     "name": "stdout",
     "output_type": "stream",
     "text": [
      "[0]\tvalidation-auc:0.78352\n",
      "[1]\tvalidation-auc:0.84254\n",
      "[2]\tvalidation-auc:0.84594\n",
      "[3]\tvalidation-auc:0.84554\n",
      "[4]\tvalidation-auc:0.84483\n",
      "[5]\tvalidation-auc:0.84237\n",
      "[6]\tvalidation-auc:0.84467\n",
      "[7]\tvalidation-auc:0.84133\n",
      "[8]\tvalidation-auc:0.84105\n",
      "[9]\tvalidation-auc:0.84067\n"
     ]
    },
    {
     "name": "stderr",
     "output_type": "stream",
     "text": [
      "[I 2020-09-10 12:00:20,678] Finished trial#6 with value: 0.7549221275345284 with parameters: {'booster': 'dart', 'lambda': 0.00032328973060901436, 'alpha': 2.7465537694128583e-06, 'max_depth': 6, 'eta': 0.6114660454626598, 'gamma': 0.16415636719382984, 'grow_policy': 'depthwise', 'sample_type': 'weighted', 'normalize_type': 'tree', 'rate_drop': 0.0026296647018120823, 'skip_drop': 0.0009334865059998029}. Best is trial#1 with value: 0.7737290625918307.\n"
     ]
    },
    {
     "name": "stdout",
     "output_type": "stream",
     "text": [
      "[0]\tvalidation-auc:0.81588\n",
      "[1]\tvalidation-auc:0.81758\n",
      "[2]\tvalidation-auc:0.81571\n",
      "[3]\tvalidation-auc:0.81434\n",
      "[4]\tvalidation-auc:0.81482\n",
      "[5]\tvalidation-auc:0.81588\n",
      "[6]\tvalidation-auc:0.81624\n",
      "[7]\tvalidation-auc:0.81575\n",
      "[8]\tvalidation-auc:0.81507\n",
      "[9]\tvalidation-auc:0.81573\n"
     ]
    },
    {
     "name": "stderr",
     "output_type": "stream",
     "text": [
      "[I 2020-09-10 12:00:20,876] Finished trial#7 with value: 0.7716720540699383 with parameters: {'booster': 'dart', 'lambda': 1.692019226864311e-07, 'alpha': 0.013239179014944398, 'max_depth': 7, 'eta': 2.152872758986699e-07, 'gamma': 2.0448798267900026e-08, 'grow_policy': 'depthwise', 'sample_type': 'uniform', 'normalize_type': 'tree', 'rate_drop': 3.9110727344484165e-05, 'skip_drop': 0.0006292077155675255}. Best is trial#1 with value: 0.7737290625918307.\n"
     ]
    },
    {
     "name": "stdout",
     "output_type": "stream",
     "text": [
      "[0]\tvalidation-auc:0.84004\n",
      "[1]\tvalidation-auc:0.84158\n",
      "[2]\tvalidation-auc:0.84056\n",
      "[3]\tvalidation-auc:0.84057\n",
      "[4]\tvalidation-auc:0.84081\n",
      "[5]\tvalidation-auc:0.84082\n",
      "[6]\tvalidation-auc:0.84076\n",
      "[7]\tvalidation-auc:0.84271\n",
      "[8]\tvalidation-auc:0.84275\n",
      "[9]\tvalidation-auc:0.84095\n"
     ]
    },
    {
     "name": "stderr",
     "output_type": "stream",
     "text": [
      "[I 2020-09-10 12:00:21,079] Finished trial#8 with value: 0.7816632383191302 with parameters: {'booster': 'gbtree', 'lambda': 0.0017298771563151172, 'alpha': 8.663085944899583e-05, 'max_depth': 8, 'eta': 6.844960584763693e-06, 'gamma': 2.0817044718455124e-08, 'grow_policy': 'depthwise'}. Best is trial#8 with value: 0.7816632383191302.\n"
     ]
    },
    {
     "name": "stdout",
     "output_type": "stream",
     "text": [
      "[0]\tvalidation-auc:0.67624\n",
      "[1]\tvalidation-auc:0.67646\n",
      "[2]\tvalidation-auc:0.67662\n",
      "[3]\tvalidation-auc:0.67673\n",
      "[4]\tvalidation-auc:0.67681\n",
      "[5]\tvalidation-auc:0.67687\n",
      "[6]\tvalidation-auc:0.67690\n",
      "[7]\tvalidation-auc:0.67692\n",
      "[8]\tvalidation-auc:0.67693\n",
      "[9]\tvalidation-auc:0.67695\n"
     ]
    },
    {
     "name": "stderr",
     "output_type": "stream",
     "text": [
      "[I 2020-09-10 12:00:21,241] Finished trial#9 with value: 0.675580370261534 with parameters: {'booster': 'gblinear', 'lambda': 1.2870834984029296e-07, 'alpha': 0.0005010318099281443}. Best is trial#8 with value: 0.7816632383191302.\n"
     ]
    },
    {
     "name": "stdout",
     "output_type": "stream",
     "text": [
      "[0]\tvalidation-auc:0.72325\n",
      "[1]\tvalidation-auc:0.72369\n",
      "[2]\tvalidation-auc:0.72269\n",
      "[3]\tvalidation-auc:0.72288\n",
      "[4]\tvalidation-auc:0.72193\n",
      "[5]\tvalidation-auc:0.72290\n",
      "[6]\tvalidation-auc:0.72293\n",
      "[7]\tvalidation-auc:0.72210\n",
      "[8]\tvalidation-auc:0.72207\n",
      "[9]\tvalidation-auc:0.72210\n"
     ]
    },
    {
     "name": "stderr",
     "output_type": "stream",
     "text": [
      "[I 2020-09-10 12:00:21,419] Finished trial#10 with value: 0.7490449603291214 with parameters: {'booster': 'gbtree', 'lambda': 0.9989371769421, 'alpha': 1.7850946660314693e-08, 'max_depth': 4, 'eta': 1.554882049182641e-07, 'gamma': 3.241288456510811e-05, 'grow_policy': 'depthwise'}. Best is trial#8 with value: 0.7816632383191302.\n"
     ]
    },
    {
     "name": "stdout",
     "output_type": "stream",
     "text": [
      "[0]\tvalidation-auc:0.78351\n",
      "[1]\tvalidation-auc:0.84554\n",
      "[2]\tvalidation-auc:0.84881\n",
      "[3]\tvalidation-auc:0.84938\n",
      "[4]\tvalidation-auc:0.84701\n",
      "[5]\tvalidation-auc:0.85135\n",
      "[6]\tvalidation-auc:0.85091\n",
      "[7]\tvalidation-auc:0.84983\n",
      "[8]\tvalidation-auc:0.84783\n",
      "[9]\tvalidation-auc:0.85032\n"
     ]
    },
    {
     "name": "stderr",
     "output_type": "stream",
     "text": [
      "[I 2020-09-10 12:00:21,610] Finished trial#11 with value: 0.766382603585072 with parameters: {'booster': 'gbtree', 'lambda': 0.03578134184790828, 'alpha': 1.1655875811996408e-05, 'max_depth': 6, 'eta': 0.21856791268744843, 'gamma': 0.00019593542474578967, 'grow_policy': 'depthwise'}. Best is trial#8 with value: 0.7816632383191302.\n"
     ]
    },
    {
     "name": "stdout",
     "output_type": "stream",
     "text": [
      "[0]\tvalidation-auc:0.83875\n",
      "[1]\tvalidation-auc:0.83896\n",
      "[2]\tvalidation-auc:0.83867\n",
      "[3]\tvalidation-auc:0.83817\n",
      "[4]\tvalidation-auc:0.83838\n",
      "[5]\tvalidation-auc:0.84285\n",
      "[6]\tvalidation-auc:0.84289\n",
      "[7]\tvalidation-auc:0.84264\n",
      "[8]\tvalidation-auc:0.84184\n",
      "[9]\tvalidation-auc:0.84282\n"
     ]
    },
    {
     "name": "stderr",
     "output_type": "stream",
     "text": [
      "[I 2020-09-10 12:00:21,822] Finished trial#12 with value: 0.7728474875110197 with parameters: {'booster': 'gbtree', 'lambda': 0.01414301807602312, 'alpha': 9.781701539645922e-08, 'max_depth': 9, 'eta': 1.446771845471391e-06, 'gamma': 0.9395836918080618, 'grow_policy': 'depthwise'}. Best is trial#8 with value: 0.7816632383191302.\n"
     ]
    },
    {
     "name": "stdout",
     "output_type": "stream",
     "text": [
      "[0]\tvalidation-auc:0.72272\n",
      "[1]\tvalidation-auc:0.72272\n",
      "[2]\tvalidation-auc:0.72272\n",
      "[3]\tvalidation-auc:0.72272\n",
      "[4]\tvalidation-auc:0.72272\n",
      "[5]\tvalidation-auc:0.72272\n",
      "[6]\tvalidation-auc:0.72272\n",
      "[7]\tvalidation-auc:0.72272\n",
      "[8]\tvalidation-auc:0.72272\n",
      "[9]\tvalidation-auc:0.72272\n"
     ]
    },
    {
     "name": "stderr",
     "output_type": "stream",
     "text": [
      "[I 2020-09-10 12:00:22,000] Finished trial#13 with value: 0.7508081104907435 with parameters: {'booster': 'gbtree', 'lambda': 0.00843310167250817, 'alpha': 5.530128636500943e-05, 'max_depth': 4, 'eta': 0.0005545297102729199, 'gamma': 0.01667957755088911, 'grow_policy': 'lossguide'}. Best is trial#8 with value: 0.7816632383191302.\n"
     ]
    },
    {
     "name": "stdout",
     "output_type": "stream",
     "text": [
      "[0]\tvalidation-auc:0.62377\n",
      "[1]\tvalidation-auc:0.62377\n",
      "[2]\tvalidation-auc:0.62377\n",
      "[3]\tvalidation-auc:0.62377\n",
      "[4]\tvalidation-auc:0.62377\n",
      "[5]\tvalidation-auc:0.62377\n",
      "[6]\tvalidation-auc:0.62377\n",
      "[7]\tvalidation-auc:0.62377\n",
      "[8]\tvalidation-auc:0.62377\n",
      "[9]\tvalidation-auc:0.62377\n"
     ]
    },
    {
     "name": "stderr",
     "output_type": "stream",
     "text": [
      "[I 2020-09-10 12:00:22,178] Finished trial#14 with value: 0.7190714075815456 with parameters: {'booster': 'dart', 'lambda': 0.3379504808566445, 'alpha': 3.4859687455565507e-07, 'max_depth': 2, 'eta': 2.0256444853421434e-05, 'gamma': 3.1840287690705676e-06, 'grow_policy': 'depthwise', 'sample_type': 'uniform', 'normalize_type': 'forest', 'rate_drop': 0.0074850157281874975, 'skip_drop': 0.0002775308772545892}. Best is trial#8 with value: 0.7816632383191302.\n"
     ]
    },
    {
     "name": "stdout",
     "output_type": "stream",
     "text": [
      "[0]\tvalidation-auc:0.84303\n",
      "[1]\tvalidation-auc:0.84349\n",
      "[2]\tvalidation-auc:0.84409\n",
      "[3]\tvalidation-auc:0.84397\n",
      "[4]\tvalidation-auc:0.84413\n",
      "[5]\tvalidation-auc:0.84399\n",
      "[6]\tvalidation-auc:0.84425\n",
      "[7]\tvalidation-auc:0.84414\n",
      "[8]\tvalidation-auc:0.84426\n",
      "[9]\tvalidation-auc:0.84417\n"
     ]
    },
    {
     "name": "stderr",
     "output_type": "stream",
     "text": [
      "[I 2020-09-10 12:00:22,394] Finished trial#15 with value: 0.7749044960329121 with parameters: {'booster': 'gbtree', 'lambda': 0.0022687837040791764, 'alpha': 0.001908165585464287, 'max_depth': 9, 'eta': 0.0005297407121017332, 'gamma': 1.1833392793058643e-08, 'grow_policy': 'lossguide'}. Best is trial#8 with value: 0.7816632383191302.\n"
     ]
    },
    {
     "name": "stdout",
     "output_type": "stream",
     "text": [
      "[0]\tvalidation-auc:0.84243\n",
      "[1]\tvalidation-auc:0.84273\n",
      "[2]\tvalidation-auc:0.84284\n",
      "[3]\tvalidation-auc:0.84291\n",
      "[4]\tvalidation-auc:0.84287\n",
      "[5]\tvalidation-auc:0.84294\n",
      "[6]\tvalidation-auc:0.84304\n",
      "[7]\tvalidation-auc:0.84298\n",
      "[8]\tvalidation-auc:0.84296\n",
      "[9]\tvalidation-auc:0.84310\n"
     ]
    },
    {
     "name": "stderr",
     "output_type": "stream",
     "text": [
      "[I 2020-09-10 12:00:22,604] Finished trial#16 with value: 0.7816632383191302 with parameters: {'booster': 'gbtree', 'lambda': 0.15164244572695695, 'alpha': 0.0011943516034667201, 'max_depth': 8, 'eta': 1.5005375250478673e-05, 'gamma': 1.901564100542203e-06, 'grow_policy': 'lossguide'}. Best is trial#8 with value: 0.7816632383191302.\n"
     ]
    },
    {
     "name": "stdout",
     "output_type": "stream",
     "text": [
      "[0]\tvalidation-auc:0.81624\n",
      "[1]\tvalidation-auc:0.81647\n",
      "[2]\tvalidation-auc:0.81597\n",
      "[3]\tvalidation-auc:0.81607\n",
      "[4]\tvalidation-auc:0.81594\n",
      "[5]\tvalidation-auc:0.81608\n",
      "[6]\tvalidation-auc:0.81596\n",
      "[7]\tvalidation-auc:0.81607\n",
      "[8]\tvalidation-auc:0.81599\n",
      "[9]\tvalidation-auc:0.81608\n"
     ]
    },
    {
     "name": "stderr",
     "output_type": "stream",
     "text": [
      "[I 2020-09-10 12:00:22,807] Finished trial#17 with value: 0.7719659124302086 with parameters: {'booster': 'gbtree', 'lambda': 0.13390228060293585, 'alpha': 0.007973246340733924, 'max_depth': 7, 'eta': 1.3016428247464781e-05, 'gamma': 1.680695767306637e-06, 'grow_policy': 'lossguide'}. Best is trial#8 with value: 0.7816632383191302.\n"
     ]
    },
    {
     "name": "stdout",
     "output_type": "stream",
     "text": [
      "[0]\tvalidation-auc:0.81988\n",
      "[1]\tvalidation-auc:0.81998\n",
      "[2]\tvalidation-auc:0.81924\n",
      "[3]\tvalidation-auc:0.82004\n",
      "[4]\tvalidation-auc:0.81991\n",
      "[5]\tvalidation-auc:0.82004\n",
      "[6]\tvalidation-auc:0.81988\n",
      "[7]\tvalidation-auc:0.81997\n",
      "[8]\tvalidation-auc:0.81988\n",
      "[9]\tvalidation-auc:0.81997\n"
     ]
    },
    {
     "name": "stderr",
     "output_type": "stream",
     "text": [
      "[I 2020-09-10 12:00:23,010] Finished trial#18 with value: 0.7710843373493976 with parameters: {'booster': 'gbtree', 'lambda': 0.22589367939918137, 'alpha': 0.0002830799423543451, 'max_depth': 7, 'eta': 7.231223422908506e-06, 'gamma': 9.124618845036454e-07, 'grow_policy': 'lossguide'}. Best is trial#8 with value: 0.7816632383191302.\n"
     ]
    },
    {
     "name": "stdout",
     "output_type": "stream",
     "text": [
      "[0]\tvalidation-auc:0.75038\n",
      "[1]\tvalidation-auc:0.74947\n",
      "[2]\tvalidation-auc:0.74945\n",
      "[3]\tvalidation-auc:0.74954\n",
      "[4]\tvalidation-auc:0.75119\n",
      "[5]\tvalidation-auc:0.75127\n",
      "[6]\tvalidation-auc:0.74995\n",
      "[7]\tvalidation-auc:0.75000\n",
      "[8]\tvalidation-auc:0.74995\n",
      "[9]\tvalidation-auc:0.74994\n"
     ]
    },
    {
     "name": "stderr",
     "output_type": "stream",
     "text": [
      "[I 2020-09-10 12:00:23,199] Finished trial#19 with value: 0.7508081104907435 with parameters: {'booster': 'gbtree', 'lambda': 0.0009944146589807134, 'alpha': 0.005296751289632308, 'max_depth': 5, 'eta': 5.617333701629763e-07, 'gamma': 1.9708481194462872e-05, 'grow_policy': 'lossguide'}. Best is trial#8 with value: 0.7816632383191302.\n"
     ]
    },
    {
     "name": "stdout",
     "output_type": "stream",
     "text": [
      "[0]\tvalidation-auc:0.50000\n",
      "[1]\tvalidation-auc:0.50000\n",
      "[2]\tvalidation-auc:0.50000\n",
      "[3]\tvalidation-auc:0.50000\n",
      "[4]\tvalidation-auc:0.51258\n",
      "[5]\tvalidation-auc:0.52090\n",
      "[6]\tvalidation-auc:0.52343\n",
      "[7]\tvalidation-auc:0.53298\n",
      "[8]\tvalidation-auc:0.84122\n",
      "[9]\tvalidation-auc:0.84150\n"
     ]
    },
    {
     "name": "stderr",
     "output_type": "stream",
     "text": [
      "[I 2020-09-10 12:00:23,410] Finished trial#20 with value: 0.6935057302380253 with parameters: {'booster': 'gbtree', 'lambda': 0.058548414747996394, 'alpha': 0.00016435954692208858, 'max_depth': 8, 'eta': 1.066881289699224e-08, 'gamma': 1.5927495278937948e-07, 'grow_policy': 'lossguide'}. Best is trial#8 with value: 0.7816632383191302.\n"
     ]
    },
    {
     "name": "stdout",
     "output_type": "stream",
     "text": [
      "[0]\tvalidation-auc:0.84249\n",
      "[1]\tvalidation-auc:0.84259\n",
      "[2]\tvalidation-auc:0.84305\n",
      "[3]\tvalidation-auc:0.84314\n",
      "[4]\tvalidation-auc:0.84347\n",
      "[5]\tvalidation-auc:0.84352\n",
      "[6]\tvalidation-auc:0.84369\n",
      "[7]\tvalidation-auc:0.84372\n",
      "[8]\tvalidation-auc:0.84384\n",
      "[9]\tvalidation-auc:0.84395\n"
     ]
    },
    {
     "name": "stderr",
     "output_type": "stream",
     "text": [
      "[I 2020-09-10 12:00:23,657] Finished trial#21 with value: 0.7831325301204819 with parameters: {'booster': 'gbtree', 'lambda': 0.0020661863695123463, 'alpha': 0.0017191105638233925, 'max_depth': 8, 'eta': 0.00010549629126557829, 'gamma': 1.400153490460652e-08, 'grow_policy': 'depthwise'}. Best is trial#21 with value: 0.7831325301204819.\n"
     ]
    },
    {
     "name": "stdout",
     "output_type": "stream",
     "text": [
      "[0]\tvalidation-auc:0.62377\n",
      "[1]\tvalidation-auc:0.62377\n",
      "[2]\tvalidation-auc:0.62377\n",
      "[3]\tvalidation-auc:0.62377\n",
      "[4]\tvalidation-auc:0.62377\n",
      "[5]\tvalidation-auc:0.62377\n",
      "[6]\tvalidation-auc:0.62377\n",
      "[7]\tvalidation-auc:0.62377\n",
      "[8]\tvalidation-auc:0.62377\n",
      "[9]\tvalidation-auc:0.62377\n"
     ]
    },
    {
     "name": "stderr",
     "output_type": "stream",
     "text": [
      "[I 2020-09-10 12:00:23,870] Finished trial#22 with value: 0.7190714075815456 with parameters: {'booster': 'gbtree', 'lambda': 0.009417316101211316, 'alpha': 0.057587758939553035, 'max_depth': 2, 'eta': 0.00015594204959694732, 'gamma': 0.00018590520455593433, 'grow_policy': 'depthwise'}. Best is trial#21 with value: 0.7831325301204819.\n"
     ]
    },
    {
     "name": "stdout",
     "output_type": "stream",
     "text": [
      "[0]\tvalidation-auc:0.78352\n",
      "[1]\tvalidation-auc:0.81521\n",
      "[2]\tvalidation-auc:0.81673\n",
      "[3]\tvalidation-auc:0.84664\n",
      "[4]\tvalidation-auc:0.84654\n",
      "[5]\tvalidation-auc:0.84667\n",
      "[6]\tvalidation-auc:0.84818\n",
      "[7]\tvalidation-auc:0.84996\n",
      "[8]\tvalidation-auc:0.84900\n",
      "[9]\tvalidation-auc:0.85004\n"
     ]
    },
    {
     "name": "stderr",
     "output_type": "stream",
     "text": [
      "[I 2020-09-10 12:00:24,067] Finished trial#23 with value: 0.7593300029385835 with parameters: {'booster': 'gbtree', 'lambda': 0.0005856196369710773, 'alpha': 0.0017634004408938811, 'max_depth': 6, 'eta': 0.034747029302797695, 'gamma': 1.7485523051104934e-08, 'grow_policy': 'depthwise'}. Best is trial#21 with value: 0.7831325301204819.\n"
     ]
    },
    {
     "name": "stdout",
     "output_type": "stream",
     "text": [
      "[0]\tvalidation-auc:0.75113\n",
      "[1]\tvalidation-auc:0.75113\n",
      "[2]\tvalidation-auc:0.75113\n",
      "[3]\tvalidation-auc:0.75113\n",
      "[4]\tvalidation-auc:0.75113\n",
      "[5]\tvalidation-auc:0.75113\n",
      "[6]\tvalidation-auc:0.75113\n",
      "[7]\tvalidation-auc:0.75113\n",
      "[8]\tvalidation-auc:0.75113\n",
      "[9]\tvalidation-auc:0.75113\n"
     ]
    },
    {
     "name": "stderr",
     "output_type": "stream",
     "text": [
      "[I 2020-09-10 12:00:24,259] Finished trial#24 with value: 0.7508081104907435 with parameters: {'booster': 'gbtree', 'lambda': 5.0155282338839953e-05, 'alpha': 1.8363610171400548e-05, 'max_depth': 5, 'eta': 8.056799502782728e-05, 'gamma': 1.0838560519809554e-08, 'grow_policy': 'depthwise'}. Best is trial#21 with value: 0.7831325301204819.\n"
     ]
    },
    {
     "name": "stdout",
     "output_type": "stream",
     "text": [
      "[0]\tvalidation-auc:0.84028\n",
      "[1]\tvalidation-auc:0.84018\n",
      "[2]\tvalidation-auc:0.84069\n",
      "[3]\tvalidation-auc:0.84089\n",
      "[4]\tvalidation-auc:0.84074\n",
      "[5]\tvalidation-auc:0.84078\n",
      "[6]\tvalidation-auc:0.84089\n",
      "[7]\tvalidation-auc:0.84092\n",
      "[8]\tvalidation-auc:0.84101\n",
      "[9]\tvalidation-auc:0.84104\n"
     ]
    },
    {
     "name": "stderr",
     "output_type": "stream",
     "text": [
      "[I 2020-09-10 12:00:24,469] Finished trial#25 with value: 0.7816632383191302 with parameters: {'booster': 'gbtree', 'lambda': 6.411882213971759e-06, 'alpha': 9.570396076444885e-05, 'max_depth': 8, 'eta': 2.7371877979826085e-06, 'gamma': 3.263626931153604e-07, 'grow_policy': 'depthwise'}. Best is trial#21 with value: 0.7831325301204819.\n"
     ]
    },
    {
     "name": "stdout",
     "output_type": "stream",
     "text": [
      "[0]\tvalidation-auc:0.83973\n",
      "[1]\tvalidation-auc:0.83899\n",
      "[2]\tvalidation-auc:0.83938\n",
      "[3]\tvalidation-auc:0.83986\n",
      "[4]\tvalidation-auc:0.84002\n",
      "[5]\tvalidation-auc:0.84020\n",
      "[6]\tvalidation-auc:0.84003\n",
      "[7]\tvalidation-auc:0.84218\n",
      "[8]\tvalidation-auc:0.84194\n",
      "[9]\tvalidation-auc:0.84221\n"
     ]
    },
    {
     "name": "stderr",
     "output_type": "stream",
     "text": [
      "[I 2020-09-10 12:00:24,681] Finished trial#26 with value: 0.7816632383191302 with parameters: {'booster': 'gbtree', 'lambda': 2.1404055532309245e-06, 'alpha': 0.035461464935181645, 'max_depth': 8, 'eta': 1.4423406534049371e-06, 'gamma': 6.411285690281767e-07, 'grow_policy': 'depthwise'}. Best is trial#21 with value: 0.7831325301204819.\n"
     ]
    },
    {
     "name": "stdout",
     "output_type": "stream",
     "text": [
      "[0]\tvalidation-auc:0.50815\n",
      "[1]\tvalidation-auc:0.81738\n",
      "[2]\tvalidation-auc:0.81601\n",
      "[3]\tvalidation-auc:0.81534\n",
      "[4]\tvalidation-auc:0.81316\n",
      "[5]\tvalidation-auc:0.81129\n",
      "[6]\tvalidation-auc:0.81502\n",
      "[7]\tvalidation-auc:0.81700\n",
      "[8]\tvalidation-auc:0.81586\n",
      "[9]\tvalidation-auc:0.81494\n"
     ]
    },
    {
     "name": "stderr",
     "output_type": "stream",
     "text": [
      "[I 2020-09-10 12:00:24,884] Finished trial#27 with value: 0.7710843373493976 with parameters: {'booster': 'gbtree', 'lambda': 2.7733754340000365e-06, 'alpha': 0.049189013110864044, 'max_depth': 7, 'eta': 5.731674285730501e-08, 'gamma': 6.889611729289e-06, 'grow_policy': 'depthwise'}. Best is trial#21 with value: 0.7831325301204819.\n"
     ]
    },
    {
     "name": "stdout",
     "output_type": "stream",
     "text": [
      "[0]\tvalidation-auc:0.83995\n",
      "[1]\tvalidation-auc:0.84007\n",
      "[2]\tvalidation-auc:0.84051\n",
      "[3]\tvalidation-auc:0.84076\n",
      "[4]\tvalidation-auc:0.84081\n",
      "[5]\tvalidation-auc:0.84108\n",
      "[6]\tvalidation-auc:0.84104\n",
      "[7]\tvalidation-auc:0.84121\n",
      "[8]\tvalidation-auc:0.84133\n",
      "[9]\tvalidation-auc:0.84159\n"
     ]
    },
    {
     "name": "stderr",
     "output_type": "stream",
     "text": [
      "[I 2020-09-10 12:00:25,096] Finished trial#28 with value: 0.7828386717602116 with parameters: {'booster': 'gbtree', 'lambda': 2.2767918445760882e-08, 'alpha': 3.7180071854042066e-06, 'max_depth': 8, 'eta': 5.3942498429121096e-05, 'gamma': 8.588881747047252e-08, 'grow_policy': 'lossguide'}. Best is trial#21 with value: 0.7831325301204819.\n"
     ]
    },
    {
     "name": "stdout",
     "output_type": "stream",
     "text": [
      "[0]\tvalidation-auc:0.50000\n",
      "[1]\tvalidation-auc:0.50000\n",
      "[2]\tvalidation-auc:0.50000\n",
      "[3]\tvalidation-auc:0.50000\n",
      "[4]\tvalidation-auc:0.50000\n",
      "[5]\tvalidation-auc:0.50000\n",
      "[6]\tvalidation-auc:0.50000\n",
      "[7]\tvalidation-auc:0.50000\n",
      "[8]\tvalidation-auc:0.50000\n",
      "[9]\tvalidation-auc:0.50000\n"
     ]
    },
    {
     "name": "stderr",
     "output_type": "stream",
     "text": [
      "[I 2020-09-10 12:00:25,264] Finished trial#29 with value: 0.6767558037026153 with parameters: {'booster': 'gblinear', 'lambda': 1.684023271979721e-08, 'alpha': 0.1303753279024675}. Best is trial#21 with value: 0.7831325301204819.\n"
     ]
    },
    {
     "name": "stdout",
     "output_type": "stream",
     "text": [
      "[0]\tvalidation-auc:0.83699\n",
      "[1]\tvalidation-auc:0.84259\n",
      "[2]\tvalidation-auc:0.83693\n",
      "[3]\tvalidation-auc:0.83805\n",
      "[4]\tvalidation-auc:0.83868\n",
      "[5]\tvalidation-auc:0.84299\n",
      "[6]\tvalidation-auc:0.83926\n",
      "[7]\tvalidation-auc:0.83910\n",
      "[8]\tvalidation-auc:0.84065\n",
      "[9]\tvalidation-auc:0.84344\n"
     ]
    },
    {
     "name": "stderr",
     "output_type": "stream",
     "text": [
      "[I 2020-09-10 12:00:25,513] Finished trial#30 with value: 0.7746106376726418 with parameters: {'booster': 'gbtree', 'lambda': 0.00019093779488774974, 'alpha': 1.46597992184379e-06, 'max_depth': 9, 'eta': 7.001444959054575e-05, 'gamma': 5.9322190230655695e-08, 'grow_policy': 'depthwise'}. Best is trial#21 with value: 0.7831325301204819.\n"
     ]
    },
    {
     "name": "stdout",
     "output_type": "stream",
     "text": [
      "[0]\tvalidation-auc:0.82418\n",
      "[1]\tvalidation-auc:0.82465\n",
      "[2]\tvalidation-auc:0.82498\n",
      "[3]\tvalidation-auc:0.82467\n",
      "[4]\tvalidation-auc:0.82472\n",
      "[5]\tvalidation-auc:0.82468\n",
      "[6]\tvalidation-auc:0.82465\n",
      "[7]\tvalidation-auc:0.82468\n",
      "[8]\tvalidation-auc:0.82463\n",
      "[9]\tvalidation-auc:0.82469\n"
     ]
    },
    {
     "name": "stderr",
     "output_type": "stream",
     "text": [
      "[I 2020-09-10 12:00:25,719] Finished trial#31 with value: 0.766382603585072 with parameters: {'booster': 'gbtree', 'lambda': 7.301087322716522e-06, 'alpha': 0.8652905165276189, 'max_depth': 7, 'eta': 0.0010762067584119584, 'gamma': 6.203620223550693e-06, 'grow_policy': 'lossguide'}. Best is trial#21 with value: 0.7831325301204819.\n"
     ]
    },
    {
     "name": "stdout",
     "output_type": "stream",
     "text": [
      "[0]\tvalidation-auc:0.78352\n",
      "[1]\tvalidation-auc:0.78482\n",
      "[2]\tvalidation-auc:0.78429\n",
      "[3]\tvalidation-auc:0.78483\n",
      "[4]\tvalidation-auc:0.78425\n",
      "[5]\tvalidation-auc:0.81467\n",
      "[6]\tvalidation-auc:0.81424\n",
      "[7]\tvalidation-auc:0.81429\n",
      "[8]\tvalidation-auc:0.81423\n",
      "[9]\tvalidation-auc:0.81484\n"
     ]
    },
    {
     "name": "stderr",
     "output_type": "stream",
     "text": [
      "[I 2020-09-10 12:00:25,918] Finished trial#32 with value: 0.753746694093447 with parameters: {'booster': 'gbtree', 'lambda': 5.729691393272451e-07, 'alpha': 2.1854257781235385e-05, 'max_depth': 6, 'eta': 0.003967140577136426, 'gamma': 4.3244772115455554e-07, 'grow_policy': 'depthwise'}. Best is trial#21 with value: 0.7831325301204819.\n"
     ]
    },
    {
     "name": "stdout",
     "output_type": "stream",
     "text": [
      "[0]\tvalidation-auc:0.84247\n",
      "[1]\tvalidation-auc:0.84168\n",
      "[2]\tvalidation-auc:0.84052\n",
      "[3]\tvalidation-auc:0.84292\n",
      "[4]\tvalidation-auc:0.84201\n",
      "[5]\tvalidation-auc:0.84314\n",
      "[6]\tvalidation-auc:0.84268\n",
      "[7]\tvalidation-auc:0.84324\n",
      "[8]\tvalidation-auc:0.84295\n",
      "[9]\tvalidation-auc:0.84344\n"
     ]
    },
    {
     "name": "stderr",
     "output_type": "stream",
     "text": [
      "[I 2020-09-10 12:00:26,131] Finished trial#33 with value: 0.7828386717602116 with parameters: {'booster': 'gbtree', 'lambda': 1.1594484493201563e-08, 'alpha': 0.0019420118722632373, 'max_depth': 8, 'eta': 5.803406424245741e-05, 'gamma': 5.201288953231909e-08, 'grow_policy': 'depthwise'}. Best is trial#21 with value: 0.7831325301204819.\n"
     ]
    },
    {
     "name": "stdout",
     "output_type": "stream",
     "text": [
      "[0]\tvalidation-auc:0.84213\n",
      "[1]\tvalidation-auc:0.84224\n",
      "[2]\tvalidation-auc:0.84302\n",
      "[3]\tvalidation-auc:0.84324\n",
      "[4]\tvalidation-auc:0.84343\n",
      "[5]\tvalidation-auc:0.84352\n",
      "[6]\tvalidation-auc:0.84359\n",
      "[7]\tvalidation-auc:0.84373\n",
      "[8]\tvalidation-auc:0.84381\n",
      "[9]\tvalidation-auc:0.84362\n"
     ]
    },
    {
     "name": "stderr",
     "output_type": "stream",
     "text": [
      "[I 2020-09-10 12:00:26,350] Finished trial#34 with value: 0.7749044960329121 with parameters: {'booster': 'gbtree', 'lambda': 1.0450235930458876e-08, 'alpha': 0.004420676085868813, 'max_depth': 9, 'eta': 0.0001521144873270729, 'gamma': 4.939471624945016e-08, 'grow_policy': 'lossguide'}. Best is trial#21 with value: 0.7831325301204819.\n"
     ]
    },
    {
     "name": "stdout",
     "output_type": "stream",
     "text": [
      "[0]\tvalidation-auc:0.72272\n",
      "[1]\tvalidation-auc:0.72272\n",
      "[2]\tvalidation-auc:0.72272\n",
      "[3]\tvalidation-auc:0.72272\n",
      "[4]\tvalidation-auc:0.72214\n",
      "[5]\tvalidation-auc:0.72228\n",
      "[6]\tvalidation-auc:0.72212\n",
      "[7]\tvalidation-auc:0.72200\n",
      "[8]\tvalidation-auc:0.75388\n",
      "[9]\tvalidation-auc:0.79325\n"
     ]
    },
    {
     "name": "stderr",
     "output_type": "stream",
     "text": [
      "[I 2020-09-10 12:00:26,537] Finished trial#35 with value: 0.7472818101674993 with parameters: {'booster': 'gbtree', 'lambda': 3.0044038045476e-08, 'alpha': 0.016704769537731593, 'max_depth': 4, 'eta': 0.006053379090349309, 'gamma': 6.785329363124655e-08, 'grow_policy': 'lossguide'}. Best is trial#21 with value: 0.7831325301204819.\n"
     ]
    },
    {
     "name": "stdout",
     "output_type": "stream",
     "text": [
      "[0]\tvalidation-auc:0.67627\n",
      "[1]\tvalidation-auc:0.67649\n",
      "[2]\tvalidation-auc:0.67665\n",
      "[3]\tvalidation-auc:0.67674\n",
      "[4]\tvalidation-auc:0.67682\n",
      "[5]\tvalidation-auc:0.67688\n",
      "[6]\tvalidation-auc:0.67689\n",
      "[7]\tvalidation-auc:0.67692\n",
      "[8]\tvalidation-auc:0.67693\n",
      "[9]\tvalidation-auc:0.67694\n"
     ]
    },
    {
     "name": "stderr",
     "output_type": "stream",
     "text": [
      "[I 2020-09-10 12:00:26,704] Finished trial#36 with value: 0.6735233617396414 with parameters: {'booster': 'gblinear', 'lambda': 5.39720359430922e-08, 'alpha': 7.961067941184844e-06}. Best is trial#21 with value: 0.7831325301204819.\n"
     ]
    },
    {
     "name": "stdout",
     "output_type": "stream",
     "text": [
      "[0]\tvalidation-auc:0.84193\n",
      "[1]\tvalidation-auc:0.84209\n",
      "[2]\tvalidation-auc:0.84230\n",
      "[3]\tvalidation-auc:0.84217\n",
      "[4]\tvalidation-auc:0.84217\n",
      "[5]\tvalidation-auc:0.84232\n",
      "[6]\tvalidation-auc:0.84225\n",
      "[7]\tvalidation-auc:0.84228\n",
      "[8]\tvalidation-auc:0.84241\n",
      "[9]\tvalidation-auc:0.84248\n"
     ]
    },
    {
     "name": "stderr",
     "output_type": "stream",
     "text": [
      "[I 2020-09-10 12:00:26,917] Finished trial#37 with value: 0.7813693799588598 with parameters: {'booster': 'gbtree', 'lambda': 4.038455150462452e-07, 'alpha': 0.1585732762986274, 'max_depth': 8, 'eta': 3.807837814683577e-05, 'gamma': 3.3733168780494546e-07, 'grow_policy': 'depthwise'}. Best is trial#21 with value: 0.7831325301204819.\n"
     ]
    },
    {
     "name": "stdout",
     "output_type": "stream",
     "text": [
      "[0]\tvalidation-auc:0.83702\n",
      "[1]\tvalidation-auc:0.83668\n",
      "[2]\tvalidation-auc:0.84161\n",
      "[3]\tvalidation-auc:0.83734\n",
      "[4]\tvalidation-auc:0.83812\n",
      "[5]\tvalidation-auc:0.83735\n",
      "[6]\tvalidation-auc:0.83744\n",
      "[7]\tvalidation-auc:0.84148\n",
      "[8]\tvalidation-auc:0.83748\n",
      "[9]\tvalidation-auc:0.83909\n"
     ]
    },
    {
     "name": "stderr",
     "output_type": "stream",
     "text": [
      "[I 2020-09-10 12:00:27,138] Finished trial#38 with value: 0.7725536291507493 with parameters: {'booster': 'gbtree', 'lambda': 0.0021667003041015665, 'alpha': 7.231351548605469e-07, 'max_depth': 9, 'eta': 5.140265893452613e-06, 'gamma': 1.0054007999881167e-08, 'grow_policy': 'depthwise'}. Best is trial#21 with value: 0.7831325301204819.\n"
     ]
    },
    {
     "name": "stdout",
     "output_type": "stream",
     "text": [
      "[0]\tvalidation-auc:0.84807\n",
      "[1]\tvalidation-auc:0.84802\n",
      "[2]\tvalidation-auc:0.84798\n",
      "[3]\tvalidation-auc:0.84810\n",
      "[4]\tvalidation-auc:0.84805\n",
      "[5]\tvalidation-auc:0.84789\n",
      "[6]\tvalidation-auc:0.84806\n",
      "[7]\tvalidation-auc:0.84805\n",
      "[8]\tvalidation-auc:0.84803\n",
      "[9]\tvalidation-auc:0.84811\n"
     ]
    },
    {
     "name": "stderr",
     "output_type": "stream",
     "text": [
      "[I 2020-09-10 12:00:27,356] Finished trial#39 with value: 0.7787246547164267 with parameters: {'booster': 'dart', 'lambda': 0.9449288356715015, 'alpha': 0.001068148163577997, 'max_depth': 8, 'eta': 4.345011014910684e-05, 'gamma': 3.6074030876938047e-08, 'grow_policy': 'depthwise', 'sample_type': 'uniform', 'normalize_type': 'tree', 'rate_drop': 0.020591910385404512, 'skip_drop': 2.9343123224827496e-07}. Best is trial#21 with value: 0.7831325301204819.\n"
     ]
    },
    {
     "name": "stdout",
     "output_type": "stream",
     "text": [
      "[0]\tvalidation-auc:0.67625\n",
      "[1]\tvalidation-auc:0.67646\n",
      "[2]\tvalidation-auc:0.67663\n",
      "[3]\tvalidation-auc:0.67673\n",
      "[4]\tvalidation-auc:0.67682\n",
      "[5]\tvalidation-auc:0.67688\n",
      "[6]\tvalidation-auc:0.67691\n",
      "[7]\tvalidation-auc:0.67692\n",
      "[8]\tvalidation-auc:0.67693\n",
      "[9]\tvalidation-auc:0.67695\n"
     ]
    },
    {
     "name": "stderr",
     "output_type": "stream",
     "text": [
      "[I 2020-09-10 12:00:27,523] Finished trial#40 with value: 0.6746987951807228 with parameters: {'booster': 'gblinear', 'lambda': 1.8767928572981885e-05, 'alpha': 0.00025997882061814495}. Best is trial#21 with value: 0.7831325301204819.\n"
     ]
    },
    {
     "name": "stdout",
     "output_type": "stream",
     "text": [
      "[0]\tvalidation-auc:0.81435\n",
      "[1]\tvalidation-auc:0.81458\n",
      "[2]\tvalidation-auc:0.81483\n",
      "[3]\tvalidation-auc:0.81635\n",
      "[4]\tvalidation-auc:0.81624\n",
      "[5]\tvalidation-auc:0.81638\n",
      "[6]\tvalidation-auc:0.81641\n",
      "[7]\tvalidation-auc:0.81640\n",
      "[8]\tvalidation-auc:0.81633\n",
      "[9]\tvalidation-auc:0.81641\n"
     ]
    },
    {
     "name": "stderr",
     "output_type": "stream",
     "text": [
      "[I 2020-09-10 12:00:27,729] Finished trial#41 with value: 0.772259770790479 with parameters: {'booster': 'gbtree', 'lambda': 2.446729152653732e-06, 'alpha': 0.02023413471231377, 'max_depth': 7, 'eta': 0.00025858685632153597, 'gamma': 1.3176197081855221e-07, 'grow_policy': 'depthwise'}. Best is trial#21 with value: 0.7831325301204819.\n"
     ]
    },
    {
     "name": "stdout",
     "output_type": "stream",
     "text": [
      "[0]\tvalidation-auc:0.84269\n",
      "[1]\tvalidation-auc:0.84362\n",
      "[2]\tvalidation-auc:0.84393\n",
      "[3]\tvalidation-auc:0.84378\n",
      "[4]\tvalidation-auc:0.84411\n",
      "[5]\tvalidation-auc:0.84397\n",
      "[6]\tvalidation-auc:0.84411\n",
      "[7]\tvalidation-auc:0.84400\n",
      "[8]\tvalidation-auc:0.84423\n",
      "[9]\tvalidation-auc:0.84404\n"
     ]
    },
    {
     "name": "stderr",
     "output_type": "stream",
     "text": [
      "[I 2020-09-10 12:00:27,944] Finished trial#42 with value: 0.7834263884807523 with parameters: {'booster': 'gbtree', 'lambda': 0.026834336727892413, 'alpha': 0.0006039910566283139, 'max_depth': 8, 'eta': 0.0006565933008274129, 'gamma': 0.0012661208934645076, 'grow_policy': 'depthwise'}. Best is trial#42 with value: 0.7834263884807523.\n"
     ]
    },
    {
     "name": "stdout",
     "output_type": "stream",
     "text": [
      "[0]\tvalidation-auc:0.84294\n",
      "[1]\tvalidation-auc:0.84339\n",
      "[2]\tvalidation-auc:0.84403\n",
      "[3]\tvalidation-auc:0.84365\n",
      "[4]\tvalidation-auc:0.84369\n",
      "[5]\tvalidation-auc:0.84407\n",
      "[6]\tvalidation-auc:0.84430\n",
      "[7]\tvalidation-auc:0.84466\n",
      "[8]\tvalidation-auc:0.84448\n",
      "[9]\tvalidation-auc:0.84460\n"
     ]
    },
    {
     "name": "stderr",
     "output_type": "stream",
     "text": [
      "[I 2020-09-10 12:00:28,164] Finished trial#43 with value: 0.7740229209521011 with parameters: {'booster': 'gbtree', 'lambda': 0.02583707968898521, 'alpha': 0.0005741299119949087, 'max_depth': 9, 'eta': 0.0013488962279835947, 'gamma': 0.0009271441350499355, 'grow_policy': 'depthwise'}. Best is trial#42 with value: 0.7834263884807523.\n"
     ]
    },
    {
     "name": "stdout",
     "output_type": "stream",
     "text": [
      "[0]\tvalidation-auc:0.57006\n",
      "[1]\tvalidation-auc:0.57006\n",
      "[2]\tvalidation-auc:0.57006\n",
      "[3]\tvalidation-auc:0.57006\n",
      "[4]\tvalidation-auc:0.57006\n",
      "[5]\tvalidation-auc:0.57006\n",
      "[6]\tvalidation-auc:0.57006\n",
      "[7]\tvalidation-auc:0.57006\n",
      "[8]\tvalidation-auc:0.57006\n",
      "[9]\tvalidation-auc:0.57006\n"
     ]
    },
    {
     "name": "stderr",
     "output_type": "stream",
     "text": [
      "[I 2020-09-10 12:00:28,342] Finished trial#44 with value: 0.7005583308845137 with parameters: {'booster': 'gbtree', 'lambda': 1.0235176922383707e-07, 'alpha': 0.0026675419802945142, 'max_depth': 1, 'eta': 0.00033217234809516477, 'gamma': 0.01564832509436586, 'grow_policy': 'depthwise'}. Best is trial#42 with value: 0.7834263884807523.\n"
     ]
    },
    {
     "name": "stdout",
     "output_type": "stream",
     "text": [
      "[0]\tvalidation-auc:0.84249\n",
      "[1]\tvalidation-auc:0.84321\n",
      "[2]\tvalidation-auc:0.84309\n",
      "[3]\tvalidation-auc:0.84301\n",
      "[4]\tvalidation-auc:0.84330\n",
      "[5]\tvalidation-auc:0.84555\n",
      "[6]\tvalidation-auc:0.84670\n",
      "[7]\tvalidation-auc:0.84650\n",
      "[8]\tvalidation-auc:0.84678\n",
      "[9]\tvalidation-auc:0.84640\n"
     ]
    },
    {
     "name": "stderr",
     "output_type": "stream",
     "text": [
      "[I 2020-09-10 12:00:28,556] Finished trial#45 with value: 0.7757860711137232 with parameters: {'booster': 'gbtree', 'lambda': 0.00013180175914847682, 'alpha': 0.00013409840385975773, 'max_depth': 8, 'eta': 0.025187840337240624, 'gamma': 0.0022277970514568203, 'grow_policy': 'depthwise'}. Best is trial#42 with value: 0.7834263884807523.\n"
     ]
    },
    {
     "name": "stdout",
     "output_type": "stream",
     "text": [
      "[0]\tvalidation-auc:0.82197\n",
      "[1]\tvalidation-auc:0.82245\n",
      "[2]\tvalidation-auc:0.82232\n",
      "[3]\tvalidation-auc:0.82246\n",
      "[4]\tvalidation-auc:0.82233\n",
      "[5]\tvalidation-auc:0.82261\n",
      "[6]\tvalidation-auc:0.84801\n",
      "[7]\tvalidation-auc:0.84813\n",
      "[8]\tvalidation-auc:0.84779\n",
      "[9]\tvalidation-auc:0.84796\n"
     ]
    },
    {
     "name": "stderr",
     "output_type": "stream",
     "text": [
      "[I 2020-09-10 12:00:28,767] Finished trial#46 with value: 0.7728474875110197 with parameters: {'booster': 'dart', 'lambda': 0.0051483906335819075, 'alpha': 0.4266892108279611, 'max_depth': 7, 'eta': 0.0066889747672043915, 'gamma': 0.0008063669625544101, 'grow_policy': 'depthwise', 'sample_type': 'weighted', 'normalize_type': 'tree', 'rate_drop': 7.181241518377497e-07, 'skip_drop': 0.0013430567063720783}. Best is trial#42 with value: 0.7834263884807523.\n"
     ]
    },
    {
     "name": "stdout",
     "output_type": "stream",
     "text": [
      "[0]\tvalidation-auc:0.78352\n",
      "[1]\tvalidation-auc:0.78351\n",
      "[2]\tvalidation-auc:0.78429\n",
      "[3]\tvalidation-auc:0.78392\n",
      "[4]\tvalidation-auc:0.78425\n",
      "[5]\tvalidation-auc:0.78429\n",
      "[6]\tvalidation-auc:0.78425\n",
      "[7]\tvalidation-auc:0.78424\n",
      "[8]\tvalidation-auc:0.78471\n",
      "[9]\tvalidation-auc:0.78429\n"
     ]
    },
    {
     "name": "stderr",
     "output_type": "stream",
     "text": [
      "[I 2020-09-10 12:00:28,966] Finished trial#47 with value: 0.7655010285042609 with parameters: {'booster': 'gbtree', 'lambda': 5.090183932665647e-07, 'alpha': 3.9364588766102235e-05, 'max_depth': 6, 'eta': 0.001758478805773359, 'gamma': 0.029121569112249723, 'grow_policy': 'depthwise'}. Best is trial#42 with value: 0.7834263884807523.\n"
     ]
    },
    {
     "name": "stdout",
     "output_type": "stream",
     "text": [
      "[0]\tvalidation-auc:0.83870\n",
      "[1]\tvalidation-auc:0.84136\n",
      "[2]\tvalidation-auc:0.84169\n",
      "[3]\tvalidation-auc:0.84193\n",
      "[4]\tvalidation-auc:0.84198\n",
      "[5]\tvalidation-auc:0.84229\n",
      "[6]\tvalidation-auc:0.84237\n",
      "[7]\tvalidation-auc:0.84235\n",
      "[8]\tvalidation-auc:0.84244\n",
      "[9]\tvalidation-auc:0.84251\n"
     ]
    },
    {
     "name": "stderr",
     "output_type": "stream",
     "text": [
      "[I 2020-09-10 12:00:29,181] Finished trial#48 with value: 0.7813693799588598 with parameters: {'booster': 'gbtree', 'lambda': 0.08593617157282485, 'alpha': 0.001129051587676012, 'max_depth': 8, 'eta': 1.1910835304060128e-06, 'gamma': 6.72983306641561e-05, 'grow_policy': 'depthwise'}. Best is trial#42 with value: 0.7834263884807523.\n"
     ]
    },
    {
     "name": "stdout",
     "output_type": "stream",
     "text": [
      "[0]\tvalidation-auc:0.83700\n",
      "[1]\tvalidation-auc:0.83699\n",
      "[2]\tvalidation-auc:0.83702\n",
      "[3]\tvalidation-auc:0.83720\n",
      "[4]\tvalidation-auc:0.83755\n",
      "[5]\tvalidation-auc:0.83745\n",
      "[6]\tvalidation-auc:0.83747\n",
      "[7]\tvalidation-auc:0.83906\n",
      "[8]\tvalidation-auc:0.84271\n",
      "[9]\tvalidation-auc:0.84197\n"
     ]
    },
    {
     "name": "stderr",
     "output_type": "stream",
     "text": [
      "[I 2020-09-10 12:00:29,402] Finished trial#49 with value: 0.77314134587129 with parameters: {'booster': 'gbtree', 'lambda': 4.732170613647461e-08, 'alpha': 0.000520452324672002, 'max_depth': 9, 'eta': 2.76164709582449e-05, 'gamma': 2.4827769965776225e-08, 'grow_policy': 'depthwise'}. Best is trial#42 with value: 0.7834263884807523.\n"
     ]
    },
    {
     "name": "stdout",
     "output_type": "stream",
     "text": [
      "[0]\tvalidation-auc:0.84494\n",
      "[1]\tvalidation-auc:0.84554\n",
      "[2]\tvalidation-auc:0.84554\n",
      "[3]\tvalidation-auc:0.84561\n",
      "[4]\tvalidation-auc:0.84575\n",
      "[5]\tvalidation-auc:0.84560\n",
      "[6]\tvalidation-auc:0.84562\n",
      "[7]\tvalidation-auc:0.84566\n",
      "[8]\tvalidation-auc:0.84568\n",
      "[9]\tvalidation-auc:0.84569\n"
     ]
    },
    {
     "name": "stderr",
     "output_type": "stream",
     "text": [
      "[I 2020-09-10 12:00:29,617] Finished trial#50 with value: 0.7810755215985895 with parameters: {'booster': 'gbtree', 'lambda': 0.4198776950291004, 'alpha': 7.918828940263193e-08, 'max_depth': 8, 'eta': 3.9762415615452805e-06, 'gamma': 1.9864977002816266e-07, 'grow_policy': 'depthwise'}. Best is trial#42 with value: 0.7834263884807523.\n"
     ]
    },
    {
     "name": "stdout",
     "output_type": "stream",
     "text": [
      "[0]\tvalidation-auc:0.81436\n",
      "[1]\tvalidation-auc:0.81611\n",
      "[2]\tvalidation-auc:0.81650\n",
      "[3]\tvalidation-auc:0.81641\n",
      "[4]\tvalidation-auc:0.81561\n",
      "[5]\tvalidation-auc:0.81576\n",
      "[6]\tvalidation-auc:0.81579\n",
      "[7]\tvalidation-auc:0.81585\n",
      "[8]\tvalidation-auc:0.81576\n",
      "[9]\tvalidation-auc:0.81600\n"
     ]
    },
    {
     "name": "stderr",
     "output_type": "stream",
     "text": [
      "[I 2020-09-10 12:00:29,824] Finished trial#51 with value: 0.772259770790479 with parameters: {'booster': 'gbtree', 'lambda': 3.772606635829969e-05, 'alpha': 8.777363586030221e-05, 'max_depth': 7, 'eta': 0.0008101709714425844, 'gamma': 0.00047680292485774976, 'grow_policy': 'depthwise'}. Best is trial#42 with value: 0.7834263884807523.\n"
     ]
    },
    {
     "name": "stdout",
     "output_type": "stream",
     "text": [
      "[0]\tvalidation-auc:0.83709\n",
      "[1]\tvalidation-auc:0.83910\n",
      "[2]\tvalidation-auc:0.83811\n",
      "[3]\tvalidation-auc:0.84254\n",
      "[4]\tvalidation-auc:0.83742\n",
      "[5]\tvalidation-auc:0.83750\n",
      "[6]\tvalidation-auc:0.83839\n",
      "[7]\tvalidation-auc:0.84152\n",
      "[8]\tvalidation-auc:0.84249\n",
      "[9]\tvalidation-auc:0.84251\n"
     ]
    },
    {
     "name": "stderr",
     "output_type": "stream",
     "text": [
      "[I 2020-09-10 12:00:30,046] Finished trial#52 with value: 0.7725536291507493 with parameters: {'booster': 'gbtree', 'lambda': 9.085421974907062e-06, 'alpha': 0.0034767762610762375, 'max_depth': 9, 'eta': 1.3556972262665069e-05, 'gamma': 1.5650250153719902e-06, 'grow_policy': 'lossguide'}. Best is trial#42 with value: 0.7834263884807523.\n"
     ]
    },
    {
     "name": "stdout",
     "output_type": "stream",
     "text": [
      "[0]\tvalidation-auc:0.84246\n",
      "[1]\tvalidation-auc:0.84263\n",
      "[2]\tvalidation-auc:0.84279\n",
      "[3]\tvalidation-auc:0.84300\n",
      "[4]\tvalidation-auc:0.84320\n",
      "[5]\tvalidation-auc:0.84339\n",
      "[6]\tvalidation-auc:0.84361\n",
      "[7]\tvalidation-auc:0.84370\n",
      "[8]\tvalidation-auc:0.84392\n",
      "[9]\tvalidation-auc:0.84393\n"
     ]
    },
    {
     "name": "stderr",
     "output_type": "stream",
     "text": [
      "[I 2020-09-10 12:00:30,265] Finished trial#53 with value: 0.7831325301204819 with parameters: {'booster': 'gbtree', 'lambda': 0.015686082434077472, 'alpha': 4.459028378273658e-06, 'max_depth': 8, 'eta': 0.00010267027689246804, 'gamma': 0.007617016553337403, 'grow_policy': 'lossguide'}. Best is trial#42 with value: 0.7834263884807523.\n"
     ]
    },
    {
     "name": "stdout",
     "output_type": "stream",
     "text": [
      "[0]\tvalidation-auc:0.81436\n",
      "[1]\tvalidation-auc:0.81458\n",
      "[2]\tvalidation-auc:0.81481\n",
      "[3]\tvalidation-auc:0.81635\n",
      "[4]\tvalidation-auc:0.81623\n",
      "[5]\tvalidation-auc:0.81639\n",
      "[6]\tvalidation-auc:0.81642\n",
      "[7]\tvalidation-auc:0.81640\n",
      "[8]\tvalidation-auc:0.81644\n",
      "[9]\tvalidation-auc:0.81641\n"
     ]
    },
    {
     "name": "stderr",
     "output_type": "stream",
     "text": [
      "[I 2020-09-10 12:00:30,473] Finished trial#54 with value: 0.772259770790479 with parameters: {'booster': 'gbtree', 'lambda': 0.01909375593722611, 'alpha': 2.8569214674953e-06, 'max_depth': 7, 'eta': 0.00021789042654200898, 'gamma': 0.006133972776217732, 'grow_policy': 'lossguide'}. Best is trial#42 with value: 0.7834263884807523.\n"
     ]
    },
    {
     "name": "stdout",
     "output_type": "stream",
     "text": [
      "[0]\tvalidation-auc:0.84204\n",
      "[1]\tvalidation-auc:0.84260\n",
      "[2]\tvalidation-auc:0.84255\n",
      "[3]\tvalidation-auc:0.84270\n",
      "[4]\tvalidation-auc:0.84297\n",
      "[5]\tvalidation-auc:0.84303\n",
      "[6]\tvalidation-auc:0.84344\n",
      "[7]\tvalidation-auc:0.84335\n",
      "[8]\tvalidation-auc:0.84358\n",
      "[9]\tvalidation-auc:0.84351\n"
     ]
    },
    {
     "name": "stderr",
     "output_type": "stream",
     "text": [
      "[I 2020-09-10 12:00:30,695] Finished trial#55 with value: 0.7751983543931825 with parameters: {'booster': 'gbtree', 'lambda': 0.005188065394997649, 'alpha': 6.06059118880759e-06, 'max_depth': 9, 'eta': 7.943280316104918e-05, 'gamma': 0.10703461118584476, 'grow_policy': 'lossguide'}. Best is trial#42 with value: 0.7834263884807523.\n"
     ]
    },
    {
     "name": "stdout",
     "output_type": "stream",
     "text": [
      "[0]\tvalidation-auc:0.84218\n",
      "[1]\tvalidation-auc:0.84313\n",
      "[2]\tvalidation-auc:0.84374\n",
      "[3]\tvalidation-auc:0.84393\n",
      "[4]\tvalidation-auc:0.84432\n",
      "[5]\tvalidation-auc:0.84398\n",
      "[6]\tvalidation-auc:0.84414\n",
      "[7]\tvalidation-auc:0.84381\n",
      "[8]\tvalidation-auc:0.84391\n",
      "[9]\tvalidation-auc:0.84388\n"
     ]
    },
    {
     "name": "stderr",
     "output_type": "stream",
     "text": [
      "[I 2020-09-10 12:00:30,908] Finished trial#56 with value: 0.7831325301204819 with parameters: {'booster': 'gbtree', 'lambda': 0.0008098152441452987, 'alpha': 1.931592762460032e-07, 'max_depth': 8, 'eta': 0.0004966493646231682, 'gamma': 0.0028143637120221685, 'grow_policy': 'lossguide'}. Best is trial#42 with value: 0.7834263884807523.\n"
     ]
    },
    {
     "name": "stdout",
     "output_type": "stream",
     "text": [
      "[0]\tvalidation-auc:0.84249\n",
      "[1]\tvalidation-auc:0.84050\n",
      "[2]\tvalidation-auc:0.84342\n",
      "[3]\tvalidation-auc:0.84629\n",
      "[4]\tvalidation-auc:0.84584\n",
      "[5]\tvalidation-auc:0.84689\n",
      "[6]\tvalidation-auc:0.84562\n",
      "[7]\tvalidation-auc:0.84574\n",
      "[8]\tvalidation-auc:0.84626\n",
      "[9]\tvalidation-auc:0.84717\n"
     ]
    },
    {
     "name": "stderr",
     "output_type": "stream",
     "text": [
      "[I 2020-09-10 12:00:31,126] Finished trial#57 with value: 0.7760799294739935 with parameters: {'booster': 'dart', 'lambda': 0.0008896024406076558, 'alpha': 2.614580161658313e-07, 'max_depth': 8, 'eta': 0.06912222291478654, 'gamma': 0.0029732312386713203, 'grow_policy': 'lossguide', 'sample_type': 'uniform', 'normalize_type': 'forest', 'rate_drop': 0.15613944422195564, 'skip_drop': 0.4144510103911857}. Best is trial#42 with value: 0.7834263884807523.\n"
     ]
    },
    {
     "name": "stdout",
     "output_type": "stream",
     "text": [
      "[0]\tvalidation-auc:0.84244\n",
      "[1]\tvalidation-auc:0.84309\n",
      "[2]\tvalidation-auc:0.84400\n",
      "[3]\tvalidation-auc:0.84393\n",
      "[4]\tvalidation-auc:0.84415\n",
      "[5]\tvalidation-auc:0.84386\n",
      "[6]\tvalidation-auc:0.84400\n",
      "[7]\tvalidation-auc:0.84382\n",
      "[8]\tvalidation-auc:0.84391\n",
      "[9]\tvalidation-auc:0.84387\n"
     ]
    },
    {
     "name": "stderr",
     "output_type": "stream",
     "text": [
      "[I 2020-09-10 12:00:31,339] Finished trial#58 with value: 0.7831325301204819 with parameters: {'booster': 'gbtree', 'lambda': 0.00033901332636042343, 'alpha': 7.739722547683418e-08, 'max_depth': 8, 'eta': 0.000519425070343721, 'gamma': 0.05988943584128761, 'grow_policy': 'lossguide'}. Best is trial#42 with value: 0.7834263884807523.\n"
     ]
    },
    {
     "name": "stdout",
     "output_type": "stream",
     "text": [
      "[0]\tvalidation-auc:0.84245\n",
      "[1]\tvalidation-auc:0.84311\n",
      "[2]\tvalidation-auc:0.84376\n",
      "[3]\tvalidation-auc:0.84393\n",
      "[4]\tvalidation-auc:0.84429\n",
      "[5]\tvalidation-auc:0.84396\n",
      "[6]\tvalidation-auc:0.84414\n",
      "[7]\tvalidation-auc:0.84378\n",
      "[8]\tvalidation-auc:0.84394\n",
      "[9]\tvalidation-auc:0.84382\n"
     ]
    },
    {
     "name": "stderr",
     "output_type": "stream",
     "text": [
      "[I 2020-09-10 12:00:31,555] Finished trial#59 with value: 0.7831325301204819 with parameters: {'booster': 'gbtree', 'lambda': 0.0006534795794392122, 'alpha': 1.3027477312455685e-08, 'max_depth': 8, 'eta': 0.00047503749154280666, 'gamma': 0.14930340673812192, 'grow_policy': 'lossguide'}. Best is trial#42 with value: 0.7834263884807523.\n"
     ]
    },
    {
     "name": "stdout",
     "output_type": "stream",
     "text": [
      "[0]\tvalidation-auc:0.67627\n",
      "[1]\tvalidation-auc:0.67649\n",
      "[2]\tvalidation-auc:0.67665\n",
      "[3]\tvalidation-auc:0.67674\n",
      "[4]\tvalidation-auc:0.67682\n",
      "[5]\tvalidation-auc:0.67688\n",
      "[6]\tvalidation-auc:0.67689\n",
      "[7]\tvalidation-auc:0.67692\n",
      "[8]\tvalidation-auc:0.67694\n",
      "[9]\tvalidation-auc:0.67694\n"
     ]
    },
    {
     "name": "stderr",
     "output_type": "stream",
     "text": [
      "[I 2020-09-10 12:00:31,726] Finished trial#60 with value: 0.6738172200999119 with parameters: {'booster': 'gblinear', 'lambda': 0.00037161283703496847, 'alpha': 1.8239388529944496e-08}. Best is trial#42 with value: 0.7834263884807523.\n"
     ]
    },
    {
     "name": "stdout",
     "output_type": "stream",
     "text": [
      "[0]\tvalidation-auc:0.81562\n",
      "[1]\tvalidation-auc:0.81609\n",
      "[2]\tvalidation-auc:0.81616\n",
      "[3]\tvalidation-auc:0.81636\n",
      "[4]\tvalidation-auc:0.81582\n",
      "[5]\tvalidation-auc:0.81574\n",
      "[6]\tvalidation-auc:0.81563\n",
      "[7]\tvalidation-auc:0.81575\n",
      "[8]\tvalidation-auc:0.81578\n",
      "[9]\tvalidation-auc:0.81575\n"
     ]
    },
    {
     "name": "stderr",
     "output_type": "stream",
     "text": [
      "[I 2020-09-10 12:00:31,933] Finished trial#61 with value: 0.772259770790479 with parameters: {'booster': 'gbtree', 'lambda': 0.0012181761233036334, 'alpha': 1.109451729748113e-08, 'max_depth': 7, 'eta': 0.0005329795182727056, 'gamma': 0.8093109711377378, 'grow_policy': 'lossguide'}. Best is trial#42 with value: 0.7834263884807523.\n"
     ]
    },
    {
     "name": "stdout",
     "output_type": "stream",
     "text": [
      "[0]\tvalidation-auc:0.84302\n",
      "[1]\tvalidation-auc:0.84341\n",
      "[2]\tvalidation-auc:0.84516\n",
      "[3]\tvalidation-auc:0.84401\n",
      "[4]\tvalidation-auc:0.84526\n",
      "[5]\tvalidation-auc:0.84457\n",
      "[6]\tvalidation-auc:0.84496\n",
      "[7]\tvalidation-auc:0.84524\n",
      "[8]\tvalidation-auc:0.84515\n",
      "[9]\tvalidation-auc:0.84475\n"
     ]
    },
    {
     "name": "stderr",
     "output_type": "stream",
     "text": [
      "[I 2020-09-10 12:00:32,153] Finished trial#62 with value: 0.7746106376726418 with parameters: {'booster': 'gbtree', 'lambda': 0.0004335988265831388, 'alpha': 4.588324520747169e-08, 'max_depth': 9, 'eta': 0.003619352935133568, 'gamma': 0.17927961609277274, 'grow_policy': 'lossguide'}. Best is trial#42 with value: 0.7834263884807523.\n"
     ]
    },
    {
     "name": "stdout",
     "output_type": "stream",
     "text": [
      "[0]\tvalidation-auc:0.84249\n",
      "[1]\tvalidation-auc:0.84359\n",
      "[2]\tvalidation-auc:0.84371\n",
      "[3]\tvalidation-auc:0.84452\n",
      "[4]\tvalidation-auc:0.84435\n",
      "[5]\tvalidation-auc:0.84343\n",
      "[6]\tvalidation-auc:0.84387\n",
      "[7]\tvalidation-auc:0.84301\n",
      "[8]\tvalidation-auc:0.84347\n",
      "[9]\tvalidation-auc:0.84258\n"
     ]
    },
    {
     "name": "stderr",
     "output_type": "stream",
     "text": [
      "[I 2020-09-10 12:00:32,368] Finished trial#63 with value: 0.7775492212753453 with parameters: {'booster': 'gbtree', 'lambda': 0.0035756457712892973, 'alpha': 2.373901031704243e-07, 'max_depth': 8, 'eta': 0.011808862015568111, 'gamma': 0.07715764531639406, 'grow_policy': 'lossguide'}. Best is trial#42 with value: 0.7834263884807523.\n"
     ]
    },
    {
     "name": "stdout",
     "output_type": "stream",
     "text": [
      "[0]\tvalidation-auc:0.78352\n",
      "[1]\tvalidation-auc:0.78358\n",
      "[2]\tvalidation-auc:0.78358\n",
      "[3]\tvalidation-auc:0.78358\n",
      "[4]\tvalidation-auc:0.78352\n",
      "[5]\tvalidation-auc:0.78352\n",
      "[6]\tvalidation-auc:0.78356\n",
      "[7]\tvalidation-auc:0.78356\n",
      "[8]\tvalidation-auc:0.78392\n",
      "[9]\tvalidation-auc:0.78371\n"
     ]
    },
    {
     "name": "stderr",
     "output_type": "stream",
     "text": [
      "[I 2020-09-10 12:00:32,569] Finished trial#64 with value: 0.7655010285042609 with parameters: {'booster': 'gbtree', 'lambda': 0.00017819545640274356, 'alpha': 3.2459647239975496e-08, 'max_depth': 6, 'eta': 0.0004670741139150356, 'gamma': 0.04119075896544327, 'grow_policy': 'lossguide'}. Best is trial#42 with value: 0.7834263884807523.\n"
     ]
    },
    {
     "name": "stdout",
     "output_type": "stream",
     "text": [
      "[0]\tvalidation-auc:0.84249\n",
      "[1]\tvalidation-auc:0.84343\n",
      "[2]\tvalidation-auc:0.84324\n",
      "[3]\tvalidation-auc:0.84371\n",
      "[4]\tvalidation-auc:0.84399\n",
      "[5]\tvalidation-auc:0.84388\n",
      "[6]\tvalidation-auc:0.84387\n",
      "[7]\tvalidation-auc:0.84434\n",
      "[8]\tvalidation-auc:0.84401\n",
      "[9]\tvalidation-auc:0.84400\n"
     ]
    },
    {
     "name": "stderr",
     "output_type": "stream",
     "text": [
      "[I 2020-09-10 12:00:32,786] Finished trial#65 with value: 0.7822509550396709 with parameters: {'booster': 'gbtree', 'lambda': 0.01008282738389715, 'alpha': 5.501715009330762e-07, 'max_depth': 8, 'eta': 0.0019060265772343076, 'gamma': 0.008051039711888357, 'grow_policy': 'lossguide'}. Best is trial#42 with value: 0.7834263884807523.\n"
     ]
    },
    {
     "name": "stdout",
     "output_type": "stream",
     "text": [
      "[0]\tvalidation-auc:0.81436\n",
      "[1]\tvalidation-auc:0.81447\n",
      "[2]\tvalidation-auc:0.81453\n",
      "[3]\tvalidation-auc:0.81485\n",
      "[4]\tvalidation-auc:0.81482\n",
      "[5]\tvalidation-auc:0.81507\n",
      "[6]\tvalidation-auc:0.81625\n",
      "[7]\tvalidation-auc:0.81639\n",
      "[8]\tvalidation-auc:0.81643\n",
      "[9]\tvalidation-auc:0.81576\n"
     ]
    },
    {
     "name": "stderr",
     "output_type": "stream",
     "text": [
      "[I 2020-09-10 12:00:32,994] Finished trial#66 with value: 0.772259770790479 with parameters: {'booster': 'gbtree', 'lambda': 8.631862538901088e-05, 'alpha': 1.3336915660190607e-06, 'max_depth': 7, 'eta': 0.00014594267939745475, 'gamma': 0.3986071211849351, 'grow_policy': 'lossguide'}. Best is trial#42 with value: 0.7834263884807523.\n"
     ]
    },
    {
     "name": "stdout",
     "output_type": "stream",
     "text": [
      "[0]\tvalidation-auc:0.84295\n",
      "[1]\tvalidation-auc:0.84359\n",
      "[2]\tvalidation-auc:0.84420\n",
      "[3]\tvalidation-auc:0.84395\n",
      "[4]\tvalidation-auc:0.84424\n",
      "[5]\tvalidation-auc:0.84374\n",
      "[6]\tvalidation-auc:0.84401\n",
      "[7]\tvalidation-auc:0.84379\n",
      "[8]\tvalidation-auc:0.84393\n",
      "[9]\tvalidation-auc:0.84386\n"
     ]
    },
    {
     "name": "stderr",
     "output_type": "stream",
     "text": [
      "[I 2020-09-10 12:00:33,216] Finished trial#67 with value: 0.7751983543931825 with parameters: {'booster': 'gbtree', 'lambda': 0.04447622629934016, 'alpha': 1.0676841320255478e-07, 'max_depth': 9, 'eta': 0.0007407922106575975, 'gamma': 0.003914315343792823, 'grow_policy': 'lossguide'}. Best is trial#42 with value: 0.7834263884807523.\n"
     ]
    },
    {
     "name": "stdout",
     "output_type": "stream",
     "text": [
      "[0]\tvalidation-auc:0.81436\n",
      "[1]\tvalidation-auc:0.81481\n",
      "[2]\tvalidation-auc:0.81523\n",
      "[3]\tvalidation-auc:0.81641\n",
      "[4]\tvalidation-auc:0.81561\n",
      "[5]\tvalidation-auc:0.81576\n",
      "[6]\tvalidation-auc:0.81579\n",
      "[7]\tvalidation-auc:0.81577\n",
      "[8]\tvalidation-auc:0.81568\n",
      "[9]\tvalidation-auc:0.81577\n"
     ]
    },
    {
     "name": "stderr",
     "output_type": "stream",
     "text": [
      "[I 2020-09-10 12:00:33,426] Finished trial#68 with value: 0.772259770790479 with parameters: {'booster': 'gbtree', 'lambda': 0.0006978463808552845, 'alpha': 1.4119191538595708e-06, 'max_depth': 7, 'eta': 0.00034256678539887456, 'gamma': 0.0465785560411418, 'grow_policy': 'lossguide'}. Best is trial#42 with value: 0.7834263884807523.\n"
     ]
    },
    {
     "name": "stdout",
     "output_type": "stream",
     "text": [
      "[0]\tvalidation-auc:0.84249\n",
      "[1]\tvalidation-auc:0.84259\n",
      "[2]\tvalidation-auc:0.84308\n",
      "[3]\tvalidation-auc:0.84317\n",
      "[4]\tvalidation-auc:0.84339\n",
      "[5]\tvalidation-auc:0.84365\n",
      "[6]\tvalidation-auc:0.84359\n",
      "[7]\tvalidation-auc:0.84395\n",
      "[8]\tvalidation-auc:0.84396\n",
      "[9]\tvalidation-auc:0.84402\n"
     ]
    },
    {
     "name": "stderr",
     "output_type": "stream",
     "text": [
      "[I 2020-09-10 12:00:33,643] Finished trial#69 with value: 0.7831325301204819 with parameters: {'booster': 'gbtree', 'lambda': 0.003730558149449266, 'alpha': 1.6224390430288435e-08, 'max_depth': 8, 'eta': 0.0001455169284765776, 'gamma': 0.012929468455459767, 'grow_policy': 'lossguide'}. Best is trial#42 with value: 0.7834263884807523.\n"
     ]
    },
    {
     "name": "stdout",
     "output_type": "stream",
     "text": [
      "[0]\tvalidation-auc:0.84088\n",
      "[1]\tvalidation-auc:0.84257\n",
      "[2]\tvalidation-auc:0.84307\n",
      "[3]\tvalidation-auc:0.84314\n",
      "[4]\tvalidation-auc:0.84349\n",
      "[5]\tvalidation-auc:0.84364\n",
      "[6]\tvalidation-auc:0.84370\n",
      "[7]\tvalidation-auc:0.84385\n",
      "[8]\tvalidation-auc:0.84397\n",
      "[9]\tvalidation-auc:0.84406\n"
     ]
    },
    {
     "name": "stderr",
     "output_type": "stream",
     "text": [
      "[I 2020-09-10 12:00:33,858] Finished trial#70 with value: 0.7831325301204819 with parameters: {'booster': 'gbtree', 'lambda': 0.0020071891007458044, 'alpha': 1.024822457724347e-08, 'max_depth': 8, 'eta': 0.00012521320059475288, 'gamma': 0.014691825287172961, 'grow_policy': 'lossguide'}. Best is trial#42 with value: 0.7834263884807523.\n"
     ]
    },
    {
     "name": "stdout",
     "output_type": "stream",
     "text": [
      "[0]\tvalidation-auc:0.84247\n",
      "[1]\tvalidation-auc:0.84261\n",
      "[2]\tvalidation-auc:0.84315\n",
      "[3]\tvalidation-auc:0.84354\n",
      "[4]\tvalidation-auc:0.84400\n",
      "[5]\tvalidation-auc:0.84386\n",
      "[6]\tvalidation-auc:0.84395\n",
      "[7]\tvalidation-auc:0.84408\n",
      "[8]\tvalidation-auc:0.84426\n",
      "[9]\tvalidation-auc:0.84425\n"
     ]
    },
    {
     "name": "stderr",
     "output_type": "stream",
     "text": [
      "[I 2020-09-10 12:00:34,114] Finished trial#71 with value: 0.7831325301204819 with parameters: {'booster': 'gbtree', 'lambda': 0.0018405856506584584, 'alpha': 1.151342050106001e-08, 'max_depth': 8, 'eta': 0.00019636487827081036, 'gamma': 0.014633803180935325, 'grow_policy': 'lossguide'}. Best is trial#42 with value: 0.7834263884807523.\n"
     ]
    },
    {
     "name": "stdout",
     "output_type": "stream",
     "text": [
      "[0]\tvalidation-auc:0.84007\n",
      "[1]\tvalidation-auc:0.84010\n",
      "[2]\tvalidation-auc:0.84051\n",
      "[3]\tvalidation-auc:0.84047\n",
      "[4]\tvalidation-auc:0.84237\n",
      "[5]\tvalidation-auc:0.84235\n",
      "[6]\tvalidation-auc:0.84119\n",
      "[7]\tvalidation-auc:0.84276\n",
      "[8]\tvalidation-auc:0.84293\n",
      "[9]\tvalidation-auc:0.84264\n"
     ]
    },
    {
     "name": "stderr",
     "output_type": "stream",
     "text": [
      "[I 2020-09-10 12:00:34,341] Finished trial#72 with value: 0.7816632383191302 with parameters: {'booster': 'gbtree', 'lambda': 0.0012845612696093048, 'alpha': 1.715877824600945e-08, 'max_depth': 8, 'eta': 2.2721746567692715e-05, 'gamma': 0.001280597308146329, 'grow_policy': 'lossguide'}. Best is trial#42 with value: 0.7834263884807523.\n"
     ]
    },
    {
     "name": "stdout",
     "output_type": "stream",
     "text": [
      "[0]\tvalidation-auc:0.81435\n",
      "[1]\tvalidation-auc:0.81447\n",
      "[2]\tvalidation-auc:0.81453\n",
      "[3]\tvalidation-auc:0.81479\n",
      "[4]\tvalidation-auc:0.81610\n",
      "[5]\tvalidation-auc:0.81636\n",
      "[6]\tvalidation-auc:0.81626\n",
      "[7]\tvalidation-auc:0.81638\n",
      "[8]\tvalidation-auc:0.81630\n",
      "[9]\tvalidation-auc:0.81574\n"
     ]
    },
    {
     "name": "stderr",
     "output_type": "stream",
     "text": [
      "[I 2020-09-10 12:00:34,552] Finished trial#73 with value: 0.772259770790479 with parameters: {'booster': 'gbtree', 'lambda': 0.0029239844357619796, 'alpha': 3.024763928040615e-08, 'max_depth': 7, 'eta': 0.00011910912741548908, 'gamma': 0.014993117511359613, 'grow_policy': 'lossguide'}. Best is trial#42 with value: 0.7834263884807523.\n"
     ]
    },
    {
     "name": "stdout",
     "output_type": "stream",
     "text": [
      "[0]\tvalidation-auc:0.84248\n",
      "[1]\tvalidation-auc:0.84342\n",
      "[2]\tvalidation-auc:0.84375\n",
      "[3]\tvalidation-auc:0.84351\n",
      "[4]\tvalidation-auc:0.84391\n",
      "[5]\tvalidation-auc:0.84376\n",
      "[6]\tvalidation-auc:0.84391\n",
      "[7]\tvalidation-auc:0.84376\n",
      "[8]\tvalidation-auc:0.84420\n",
      "[9]\tvalidation-auc:0.84399\n"
     ]
    },
    {
     "name": "stderr",
     "output_type": "stream",
     "text": [
      "[I 2020-09-10 12:00:34,773] Finished trial#74 with value: 0.7834263884807523 with parameters: {'booster': 'gbtree', 'lambda': 0.005837073690394665, 'alpha': 1.3167767498020138e-07, 'max_depth': 8, 'eta': 0.000718417656347243, 'gamma': 0.2545768112059925, 'grow_policy': 'lossguide'}. Best is trial#42 with value: 0.7834263884807523.\n"
     ]
    },
    {
     "name": "stdout",
     "output_type": "stream",
     "text": [
      "[0]\tvalidation-auc:0.84302\n",
      "[1]\tvalidation-auc:0.84343\n",
      "[2]\tvalidation-auc:0.84407\n",
      "[3]\tvalidation-auc:0.84477\n",
      "[4]\tvalidation-auc:0.84488\n",
      "[5]\tvalidation-auc:0.84494\n",
      "[6]\tvalidation-auc:0.84407\n",
      "[7]\tvalidation-auc:0.84451\n",
      "[8]\tvalidation-auc:0.84511\n",
      "[9]\tvalidation-auc:0.84513\n"
     ]
    },
    {
     "name": "stderr",
     "output_type": "stream",
     "text": [
      "[I 2020-09-10 12:00:34,994] Finished trial#75 with value: 0.7746106376726418 with parameters: {'booster': 'gbtree', 'lambda': 0.006774266198445227, 'alpha': 1.4869726566559617e-07, 'max_depth': 9, 'eta': 0.0021274923919433627, 'gamma': 0.27681768169315213, 'grow_policy': 'lossguide'}. Best is trial#42 with value: 0.7834263884807523.\n"
     ]
    },
    {
     "name": "stdout",
     "output_type": "stream",
     "text": [
      "[0]\tvalidation-auc:0.83995\n",
      "[1]\tvalidation-auc:0.84261\n",
      "[2]\tvalidation-auc:0.84310\n",
      "[3]\tvalidation-auc:0.84368\n",
      "[4]\tvalidation-auc:0.84376\n",
      "[5]\tvalidation-auc:0.84379\n",
      "[6]\tvalidation-auc:0.84402\n",
      "[7]\tvalidation-auc:0.84402\n",
      "[8]\tvalidation-auc:0.84389\n",
      "[9]\tvalidation-auc:0.84424\n"
     ]
    },
    {
     "name": "stderr",
     "output_type": "stream",
     "text": [
      "[I 2020-09-10 12:00:35,210] Finished trial#76 with value: 0.7831325301204819 with parameters: {'booster': 'gbtree', 'lambda': 0.0002406322141275059, 'alpha': 6.037465876696243e-08, 'max_depth': 8, 'eta': 0.0002207479532101431, 'gamma': 0.009236083799024767, 'grow_policy': 'lossguide'}. Best is trial#42 with value: 0.7834263884807523.\n"
     ]
    },
    {
     "name": "stdout",
     "output_type": "stream",
     "text": [
      "[0]\tvalidation-auc:0.84302\n",
      "[1]\tvalidation-auc:0.84349\n",
      "[2]\tvalidation-auc:0.84397\n",
      "[3]\tvalidation-auc:0.84382\n",
      "[4]\tvalidation-auc:0.84412\n",
      "[5]\tvalidation-auc:0.84412\n",
      "[6]\tvalidation-auc:0.84440\n",
      "[7]\tvalidation-auc:0.84476\n",
      "[8]\tvalidation-auc:0.84505\n",
      "[9]\tvalidation-auc:0.84472\n"
     ]
    },
    {
     "name": "stderr",
     "output_type": "stream",
     "text": [
      "[I 2020-09-10 12:00:35,432] Finished trial#77 with value: 0.7740229209521011 with parameters: {'booster': 'gbtree', 'lambda': 0.018908994481409192, 'alpha': 4.0190148867420486e-08, 'max_depth': 9, 'eta': 0.00118123604362337, 'gamma': 0.07806077095570402, 'grow_policy': 'lossguide'}. Best is trial#42 with value: 0.7834263884807523.\n"
     ]
    },
    {
     "name": "stdout",
     "output_type": "stream",
     "text": [
      "[0]\tvalidation-auc:0.81563\n",
      "[1]\tvalidation-auc:0.81611\n",
      "[2]\tvalidation-auc:0.81616\n",
      "[3]\tvalidation-auc:0.81639\n",
      "[4]\tvalidation-auc:0.81582\n",
      "[5]\tvalidation-auc:0.81574\n",
      "[6]\tvalidation-auc:0.81563\n",
      "[7]\tvalidation-auc:0.81575\n",
      "[8]\tvalidation-auc:0.81577\n",
      "[9]\tvalidation-auc:0.81576\n"
     ]
    },
    {
     "name": "stderr",
     "output_type": "stream",
     "text": [
      "[I 2020-09-10 12:00:35,644] Finished trial#78 with value: 0.772259770790479 with parameters: {'booster': 'gbtree', 'lambda': 0.0006117741946404547, 'alpha': 8.015798243583368e-08, 'max_depth': 7, 'eta': 0.0004498374817742885, 'gamma': 0.5768159645738955, 'grow_policy': 'lossguide'}. Best is trial#42 with value: 0.7834263884807523.\n"
     ]
    },
    {
     "name": "stdout",
     "output_type": "stream",
     "text": [
      "[0]\tvalidation-auc:0.84248\n",
      "[1]\tvalidation-auc:0.84342\n",
      "[2]\tvalidation-auc:0.84374\n",
      "[3]\tvalidation-auc:0.84351\n",
      "[4]\tvalidation-auc:0.84391\n",
      "[5]\tvalidation-auc:0.84376\n",
      "[6]\tvalidation-auc:0.84391\n",
      "[7]\tvalidation-auc:0.84376\n",
      "[8]\tvalidation-auc:0.84419\n",
      "[9]\tvalidation-auc:0.84398\n"
     ]
    },
    {
     "name": "stderr",
     "output_type": "stream",
     "text": [
      "[I 2020-09-10 12:00:35,895] Finished trial#79 with value: 0.7834263884807523 with parameters: {'booster': 'gbtree', 'lambda': 0.004542484877517597, 'alpha': 1.7067817738531608e-07, 'max_depth': 8, 'eta': 0.0007920886264352632, 'gamma': 0.03263532260010408, 'grow_policy': 'lossguide'}. Best is trial#42 with value: 0.7834263884807523.\n"
     ]
    },
    {
     "name": "stdout",
     "output_type": "stream",
     "text": [
      "[0]\tvalidation-auc:0.84246\n",
      "[1]\tvalidation-auc:0.84260\n",
      "[2]\tvalidation-auc:0.84265\n",
      "[3]\tvalidation-auc:0.84296\n",
      "[4]\tvalidation-auc:0.84304\n",
      "[5]\tvalidation-auc:0.84316\n",
      "[6]\tvalidation-auc:0.84324\n",
      "[7]\tvalidation-auc:0.84342\n",
      "[8]\tvalidation-auc:0.84354\n",
      "[9]\tvalidation-auc:0.84378\n"
     ]
    },
    {
     "name": "stderr",
     "output_type": "stream",
     "text": [
      "[I 2020-09-10 12:00:36,115] Finished trial#80 with value: 0.7831325301204819 with parameters: {'booster': 'dart', 'lambda': 0.011921606623077391, 'alpha': 4.776522420995653e-07, 'max_depth': 8, 'eta': 8.31063271457287e-05, 'gamma': 0.027465735488082114, 'grow_policy': 'lossguide', 'sample_type': 'weighted', 'normalize_type': 'forest', 'rate_drop': 6.090576066106562e-06, 'skip_drop': 0.049047690475577346}. Best is trial#42 with value: 0.7834263884807523.\n"
     ]
    },
    {
     "name": "stdout",
     "output_type": "stream",
     "text": [
      "[0]\tvalidation-auc:0.84248\n",
      "[1]\tvalidation-auc:0.84342\n",
      "[2]\tvalidation-auc:0.84374\n",
      "[3]\tvalidation-auc:0.84351\n",
      "[4]\tvalidation-auc:0.84392\n",
      "[5]\tvalidation-auc:0.84376\n",
      "[6]\tvalidation-auc:0.84390\n",
      "[7]\tvalidation-auc:0.84396\n",
      "[8]\tvalidation-auc:0.84419\n",
      "[9]\tvalidation-auc:0.84399\n"
     ]
    },
    {
     "name": "stderr",
     "output_type": "stream",
     "text": [
      "[I 2020-09-10 12:00:36,327] Finished trial#81 with value: 0.7834263884807523 with parameters: {'booster': 'gbtree', 'lambda': 0.004601060514500703, 'alpha': 1.44369945487519e-07, 'max_depth': 8, 'eta': 0.0008386967953134496, 'gamma': 0.15124655559171535, 'grow_policy': 'lossguide'}. Best is trial#42 with value: 0.7834263884807523.\n"
     ]
    },
    {
     "name": "stdout",
     "output_type": "stream",
     "text": [
      "[0]\tvalidation-auc:0.84302\n",
      "[1]\tvalidation-auc:0.84343\n",
      "[2]\tvalidation-auc:0.84521\n",
      "[3]\tvalidation-auc:0.84398\n",
      "[4]\tvalidation-auc:0.84525\n",
      "[5]\tvalidation-auc:0.84491\n",
      "[6]\tvalidation-auc:0.84493\n",
      "[7]\tvalidation-auc:0.84484\n",
      "[8]\tvalidation-auc:0.84506\n",
      "[9]\tvalidation-auc:0.84473\n"
     ]
    },
    {
     "name": "stderr",
     "output_type": "stream",
     "text": [
      "[I 2020-09-10 12:00:36,555] Finished trial#82 with value: 0.7749044960329121 with parameters: {'booster': 'dart', 'lambda': 0.004395382561195965, 'alpha': 3.605271188092406e-07, 'max_depth': 9, 'eta': 0.0037265795555734864, 'gamma': 0.004832230794626804, 'grow_policy': 'lossguide', 'sample_type': 'weighted', 'normalize_type': 'forest', 'rate_drop': 1.3312266677781157e-08, 'skip_drop': 0.8334281059218567}. Best is trial#42 with value: 0.7834263884807523.\n"
     ]
    },
    {
     "name": "stdout",
     "output_type": "stream",
     "text": [
      "[0]\tvalidation-auc:0.84249\n",
      "[1]\tvalidation-auc:0.84343\n",
      "[2]\tvalidation-auc:0.84324\n",
      "[3]\tvalidation-auc:0.84351\n",
      "[4]\tvalidation-auc:0.84374\n",
      "[5]\tvalidation-auc:0.84394\n",
      "[6]\tvalidation-auc:0.84391\n",
      "[7]\tvalidation-auc:0.84407\n",
      "[8]\tvalidation-auc:0.84390\n",
      "[9]\tvalidation-auc:0.84399\n"
     ]
    },
    {
     "name": "stderr",
     "output_type": "stream",
     "text": [
      "[I 2020-09-10 12:00:36,775] Finished trial#83 with value: 0.7834263884807523 with parameters: {'booster': 'dart', 'lambda': 0.012339424570332323, 'alpha': 5.238131567864754e-07, 'max_depth': 8, 'eta': 0.0011663979185601264, 'gamma': 0.19188496316225942, 'grow_policy': 'lossguide', 'sample_type': 'uniform', 'normalize_type': 'tree', 'rate_drop': 0.0001975987585712802, 'skip_drop': 5.842043349901847e-08}. Best is trial#42 with value: 0.7834263884807523.\n"
     ]
    },
    {
     "name": "stdout",
     "output_type": "stream",
     "text": [
      "[0]\tvalidation-auc:0.81435\n",
      "[1]\tvalidation-auc:0.81760\n",
      "[2]\tvalidation-auc:0.81714\n",
      "[3]\tvalidation-auc:0.81783\n",
      "[4]\tvalidation-auc:0.84153\n",
      "[5]\tvalidation-auc:0.84090\n",
      "[6]\tvalidation-auc:0.84164\n",
      "[7]\tvalidation-auc:0.84133\n",
      "[8]\tvalidation-auc:0.84171\n",
      "[9]\tvalidation-auc:0.84133\n"
     ]
    },
    {
     "name": "stderr",
     "output_type": "stream",
     "text": [
      "[I 2020-09-10 12:00:36,988] Finished trial#84 with value: 0.7707904789891272 with parameters: {'booster': 'dart', 'lambda': 0.0018367431515994527, 'alpha': 1.0584030713314899e-08, 'max_depth': 7, 'eta': 0.010774564821690246, 'gamma': 0.19343834481278666, 'grow_policy': 'lossguide', 'sample_type': 'uniform', 'normalize_type': 'forest', 'rate_drop': 0.00013153585281231697, 'skip_drop': 1.257724928871808e-07}. Best is trial#42 with value: 0.7834263884807523.\n"
     ]
    },
    {
     "name": "stdout",
     "output_type": "stream",
     "text": [
      "[0]\tvalidation-auc:0.67863\n",
      "[1]\tvalidation-auc:0.67863\n",
      "[2]\tvalidation-auc:0.67863\n",
      "[3]\tvalidation-auc:0.67863\n",
      "[4]\tvalidation-auc:0.67863\n",
      "[5]\tvalidation-auc:0.67863\n",
      "[6]\tvalidation-auc:0.67863\n",
      "[7]\tvalidation-auc:0.72315\n",
      "[8]\tvalidation-auc:0.72315\n",
      "[9]\tvalidation-auc:0.72315\n"
     ]
    },
    {
     "name": "stderr",
     "output_type": "stream",
     "text": [
      "[I 2020-09-10 12:00:37,177] Finished trial#85 with value: 0.7375844842785777 with parameters: {'booster': 'dart', 'lambda': 0.011138108713473429, 'alpha': 6.591583911276601e-07, 'max_depth': 3, 'eta': 0.0009151049642009318, 'gamma': 0.11686746548115864, 'grow_policy': 'lossguide', 'sample_type': 'uniform', 'normalize_type': 'tree', 'rate_drop': 8.838554991620378e-05, 'skip_drop': 1.1393013354316455e-08}. Best is trial#42 with value: 0.7834263884807523.\n"
     ]
    },
    {
     "name": "stdout",
     "output_type": "stream",
     "text": [
      "[0]\tvalidation-auc:0.84267\n",
      "[1]\tvalidation-auc:0.84285\n",
      "[2]\tvalidation-auc:0.84384\n",
      "[3]\tvalidation-auc:0.84389\n",
      "[4]\tvalidation-auc:0.84405\n",
      "[5]\tvalidation-auc:0.84407\n",
      "[6]\tvalidation-auc:0.84423\n",
      "[7]\tvalidation-auc:0.84412\n",
      "[8]\tvalidation-auc:0.84390\n",
      "[9]\tvalidation-auc:0.84401\n"
     ]
    },
    {
     "name": "stderr",
     "output_type": "stream",
     "text": [
      "[I 2020-09-10 12:00:37,397] Finished trial#86 with value: 0.7831325301204819 with parameters: {'booster': 'dart', 'lambda': 0.03081604649541117, 'alpha': 1.655039279002596e-07, 'max_depth': 8, 'eta': 0.0002637986147941731, 'gamma': 0.026975237642870825, 'grow_policy': 'lossguide', 'sample_type': 'weighted', 'normalize_type': 'tree', 'rate_drop': 1.9046783105590261e-06, 'skip_drop': 1.1577116136681922e-05}. Best is trial#42 with value: 0.7834263884807523.\n"
     ]
    },
    {
     "name": "stdout",
     "output_type": "stream",
     "text": [
      "[0]\tvalidation-auc:0.84283\n",
      "[1]\tvalidation-auc:0.84359\n",
      "[2]\tvalidation-auc:0.84394\n",
      "[3]\tvalidation-auc:0.84396\n",
      "[4]\tvalidation-auc:0.84424\n",
      "[5]\tvalidation-auc:0.84415\n",
      "[6]\tvalidation-auc:0.84415\n",
      "[7]\tvalidation-auc:0.84415\n",
      "[8]\tvalidation-auc:0.84416\n",
      "[9]\tvalidation-auc:0.84439\n"
     ]
    },
    {
     "name": "stderr",
     "output_type": "stream",
     "text": [
      "[I 2020-09-10 12:00:37,617] Finished trial#87 with value: 0.7801939465177784 with parameters: {'booster': 'dart', 'lambda': 0.11542894974935182, 'alpha': 1.6632315020519083e-07, 'max_depth': 8, 'eta': 0.003127840310906582, 'gamma': 0.9504903535982979, 'grow_policy': 'lossguide', 'sample_type': 'uniform', 'normalize_type': 'forest', 'rate_drop': 4.57145155617277e-08, 'skip_drop': 0.025502598813781894}. Best is trial#42 with value: 0.7834263884807523.\n"
     ]
    },
    {
     "name": "stdout",
     "output_type": "stream",
     "text": [
      "[0]\tvalidation-auc:0.67627\n",
      "[1]\tvalidation-auc:0.67648\n",
      "[2]\tvalidation-auc:0.67663\n",
      "[3]\tvalidation-auc:0.67673\n",
      "[4]\tvalidation-auc:0.67680\n",
      "[5]\tvalidation-auc:0.67685\n",
      "[6]\tvalidation-auc:0.67688\n",
      "[7]\tvalidation-auc:0.67689\n",
      "[8]\tvalidation-auc:0.67690\n",
      "[9]\tvalidation-auc:0.67692\n"
     ]
    },
    {
     "name": "stderr",
     "output_type": "stream",
     "text": [
      "[I 2020-09-10 12:00:37,784] Finished trial#88 with value: 0.6761680869820746 with parameters: {'booster': 'gblinear', 'lambda': 0.006361192888413592, 'alpha': 9.7222244008876e-07}. Best is trial#42 with value: 0.7834263884807523.\n"
     ]
    },
    {
     "name": "stdout",
     "output_type": "stream",
     "text": [
      "[0]\tvalidation-auc:0.81444\n",
      "[1]\tvalidation-auc:0.81447\n",
      "[2]\tvalidation-auc:0.81484\n",
      "[3]\tvalidation-auc:0.81510\n",
      "[4]\tvalidation-auc:0.81561\n",
      "[5]\tvalidation-auc:0.81568\n",
      "[6]\tvalidation-auc:0.81578\n",
      "[7]\tvalidation-auc:0.81589\n",
      "[8]\tvalidation-auc:0.81585\n",
      "[9]\tvalidation-auc:0.81602\n"
     ]
    },
    {
     "name": "stderr",
     "output_type": "stream",
     "text": [
      "[I 2020-09-10 12:00:37,991] Finished trial#89 with value: 0.7719659124302086 with parameters: {'booster': 'gbtree', 'lambda': 0.05727687318053864, 'alpha': 0.006199534596068306, 'max_depth': 7, 'eta': 3.7148522181942445e-05, 'gamma': 0.33471727466911616, 'grow_policy': 'lossguide'}. Best is trial#42 with value: 0.7834263884807523.\n"
     ]
    },
    {
     "name": "stdout",
     "output_type": "stream",
     "text": [
      "[0]\tvalidation-auc:0.83995\n",
      "[1]\tvalidation-auc:0.84230\n",
      "[2]\tvalidation-auc:0.84090\n",
      "[3]\tvalidation-auc:0.84209\n",
      "[4]\tvalidation-auc:0.84359\n",
      "[5]\tvalidation-auc:0.84348\n",
      "[6]\tvalidation-auc:0.84306\n",
      "[7]\tvalidation-auc:0.84400\n",
      "[8]\tvalidation-auc:0.84383\n",
      "[9]\tvalidation-auc:0.84423\n"
     ]
    },
    {
     "name": "stderr",
     "output_type": "stream",
     "text": [
      "[I 2020-09-10 12:00:38,205] Finished trial#90 with value: 0.7831325301204819 with parameters: {'booster': 'gbtree', 'lambda': 0.00023625037550079015, 'alpha': 5.139909795052595e-08, 'max_depth': 8, 'eta': 0.00019053005814448194, 'gamma': 0.011820616129411356, 'grow_policy': 'lossguide'}. Best is trial#42 with value: 0.7834263884807523.\n"
     ]
    },
    {
     "name": "stdout",
     "output_type": "stream",
     "text": [
      "[0]\tvalidation-auc:0.84248\n",
      "[1]\tvalidation-auc:0.84338\n",
      "[2]\tvalidation-auc:0.84323\n",
      "[3]\tvalidation-auc:0.84350\n",
      "[4]\tvalidation-auc:0.84394\n",
      "[5]\tvalidation-auc:0.84390\n",
      "[6]\tvalidation-auc:0.84376\n",
      "[7]\tvalidation-auc:0.84362\n",
      "[8]\tvalidation-auc:0.84417\n",
      "[9]\tvalidation-auc:0.84386\n"
     ]
    },
    {
     "name": "stderr",
     "output_type": "stream",
     "text": [
      "[I 2020-09-10 12:00:38,422] Finished trial#91 with value: 0.7822509550396709 with parameters: {'booster': 'gbtree', 'lambda': 0.0028683004979769646, 'alpha': 2.6758924954089508e-08, 'max_depth': 8, 'eta': 0.0015652319283021333, 'gamma': 0.0003489893586638868, 'grow_policy': 'lossguide'}. Best is trial#42 with value: 0.7834263884807523.\n"
     ]
    },
    {
     "name": "stdout",
     "output_type": "stream",
     "text": [
      "[0]\tvalidation-auc:0.84302\n",
      "[1]\tvalidation-auc:0.84411\n",
      "[2]\tvalidation-auc:0.84432\n",
      "[3]\tvalidation-auc:0.84536\n",
      "[4]\tvalidation-auc:0.84516\n",
      "[5]\tvalidation-auc:0.84528\n",
      "[6]\tvalidation-auc:0.84679\n",
      "[7]\tvalidation-auc:0.84707\n",
      "[8]\tvalidation-auc:0.84683\n",
      "[9]\tvalidation-auc:0.84713\n"
     ]
    },
    {
     "name": "stderr",
     "output_type": "stream",
     "text": [
      "[I 2020-09-10 12:00:38,645] Finished trial#92 with value: 0.7713781957096679 with parameters: {'booster': 'gbtree', 'lambda': 0.016698703788594692, 'alpha': 2.4288532785302223e-07, 'max_depth': 9, 'eta': 0.0072412026406532565, 'gamma': 0.001984574645607557, 'grow_policy': 'lossguide'}. Best is trial#42 with value: 0.7834263884807523.\n"
     ]
    },
    {
     "name": "stdout",
     "output_type": "stream",
     "text": [
      "[0]\tvalidation-auc:0.84248\n",
      "[1]\tvalidation-auc:0.84343\n",
      "[2]\tvalidation-auc:0.84375\n",
      "[3]\tvalidation-auc:0.84351\n",
      "[4]\tvalidation-auc:0.84391\n",
      "[5]\tvalidation-auc:0.84376\n",
      "[6]\tvalidation-auc:0.84391\n",
      "[7]\tvalidation-auc:0.84379\n",
      "[8]\tvalidation-auc:0.84419\n",
      "[9]\tvalidation-auc:0.84399\n"
     ]
    },
    {
     "name": "stderr",
     "output_type": "stream",
     "text": [
      "[I 2020-09-10 12:00:38,866] Finished trial#93 with value: 0.7834263884807523 with parameters: {'booster': 'dart', 'lambda': 0.009431681765179311, 'alpha': 3.8622546716793413e-07, 'max_depth': 8, 'eta': 0.0007291930124288413, 'gamma': 0.06004548679318431, 'grow_policy': 'lossguide', 'sample_type': 'uniform', 'normalize_type': 'forest', 'rate_drop': 1.7492570273702932e-05, 'skip_drop': 1.5575558780587806e-08}. Best is trial#42 with value: 0.7834263884807523.\n"
     ]
    },
    {
     "name": "stdout",
     "output_type": "stream",
     "text": [
      "[0]\tvalidation-auc:0.84248\n",
      "[1]\tvalidation-auc:0.84340\n",
      "[2]\tvalidation-auc:0.84374\n",
      "[3]\tvalidation-auc:0.84400\n",
      "[4]\tvalidation-auc:0.84391\n",
      "[5]\tvalidation-auc:0.84396\n",
      "[6]\tvalidation-auc:0.84390\n",
      "[7]\tvalidation-auc:0.84388\n",
      "[8]\tvalidation-auc:0.84401\n",
      "[9]\tvalidation-auc:0.84412\n"
     ]
    },
    {
     "name": "stderr",
     "output_type": "stream",
     "text": [
      "[I 2020-09-10 12:00:39,088] Finished trial#94 with value: 0.7834263884807523 with parameters: {'booster': 'dart', 'lambda': 0.003908127425639468, 'alpha': 1.8157837615322456e-08, 'max_depth': 8, 'eta': 0.0006928133634220675, 'gamma': 0.04903133651927066, 'grow_policy': 'lossguide', 'sample_type': 'uniform', 'normalize_type': 'tree', 'rate_drop': 0.0007994185149502732, 'skip_drop': 1.0221055321476633e-08}. Best is trial#42 with value: 0.7834263884807523.\n"
     ]
    },
    {
     "name": "stdout",
     "output_type": "stream",
     "text": [
      "[0]\tvalidation-auc:0.84305\n",
      "[1]\tvalidation-auc:0.84349\n",
      "[2]\tvalidation-auc:0.84393\n",
      "[3]\tvalidation-auc:0.84391\n",
      "[4]\tvalidation-auc:0.84427\n",
      "[5]\tvalidation-auc:0.84407\n",
      "[6]\tvalidation-auc:0.84438\n",
      "[7]\tvalidation-auc:0.84447\n",
      "[8]\tvalidation-auc:0.84454\n",
      "[9]\tvalidation-auc:0.84469\n"
     ]
    },
    {
     "name": "stderr",
     "output_type": "stream",
     "text": [
      "[I 2020-09-10 12:00:39,320] Finished trial#95 with value: 0.7751983543931825 with parameters: {'booster': 'dart', 'lambda': 0.0016378406193749055, 'alpha': 1.26980513684743e-07, 'max_depth': 9, 'eta': 0.0008096076756160796, 'gamma': 0.06138887536249538, 'grow_policy': 'lossguide', 'sample_type': 'uniform', 'normalize_type': 'tree', 'rate_drop': 0.0004847565049744788, 'skip_drop': 1.9702550748596341e-07}. Best is trial#42 with value: 0.7834263884807523.\n"
     ]
    },
    {
     "name": "stdout",
     "output_type": "stream",
     "text": [
      "[0]\tvalidation-auc:0.84267\n",
      "[1]\tvalidation-auc:0.84273\n",
      "[2]\tvalidation-auc:0.84348\n",
      "[3]\tvalidation-auc:0.84350\n",
      "[4]\tvalidation-auc:0.84397\n",
      "[5]\tvalidation-auc:0.84377\n",
      "[6]\tvalidation-auc:0.84387\n",
      "[7]\tvalidation-auc:0.84392\n",
      "[8]\tvalidation-auc:0.84419\n",
      "[9]\tvalidation-auc:0.84409\n"
     ]
    },
    {
     "name": "stderr",
     "output_type": "stream",
     "text": [
      "[I 2020-09-10 12:00:39,541] Finished trial#96 with value: 0.7819570966794005 with parameters: {'booster': 'dart', 'lambda': 0.025452443282963002, 'alpha': 5.715904420057902e-08, 'max_depth': 8, 'eta': 0.0026987735741483285, 'gamma': 0.23750161196367528, 'grow_policy': 'lossguide', 'sample_type': 'uniform', 'normalize_type': 'forest', 'rate_drop': 1.9332680903243765e-05, 'skip_drop': 2.104683752993483e-06}. Best is trial#42 with value: 0.7834263884807523.\n"
     ]
    },
    {
     "name": "stdout",
     "output_type": "stream",
     "text": [
      "[0]\tvalidation-auc:0.84310\n",
      "[1]\tvalidation-auc:0.84378\n",
      "[2]\tvalidation-auc:0.84359\n",
      "[3]\tvalidation-auc:0.84376\n",
      "[4]\tvalidation-auc:0.84387\n",
      "[5]\tvalidation-auc:0.84404\n",
      "[6]\tvalidation-auc:0.84395\n",
      "[7]\tvalidation-auc:0.84394\n",
      "[8]\tvalidation-auc:0.84397\n",
      "[9]\tvalidation-auc:0.84419\n"
     ]
    },
    {
     "name": "stderr",
     "output_type": "stream",
     "text": [
      "[I 2020-09-10 12:00:39,764] Finished trial#97 with value: 0.7822509550396709 with parameters: {'booster': 'dart', 'lambda': 0.007994607422766985, 'alpha': 3.492513906716636e-07, 'max_depth': 8, 'eta': 0.0013510261735703302, 'gamma': 0.4985286761927608, 'grow_policy': 'lossguide', 'sample_type': 'uniform', 'normalize_type': 'tree', 'rate_drop': 0.0014679468096696915, 'skip_drop': 1.2930304504674667e-08}. Best is trial#42 with value: 0.7834263884807523.\n"
     ]
    },
    {
     "name": "stdout",
     "output_type": "stream",
     "text": [
      "[0]\tvalidation-auc:0.81436\n",
      "[1]\tvalidation-auc:0.81483\n",
      "[2]\tvalidation-auc:0.81490\n",
      "[3]\tvalidation-auc:0.81640\n",
      "[4]\tvalidation-auc:0.81583\n",
      "[5]\tvalidation-auc:0.81576\n",
      "[6]\tvalidation-auc:0.81579\n",
      "[7]\tvalidation-auc:0.81576\n",
      "[8]\tvalidation-auc:0.81569\n",
      "[9]\tvalidation-auc:0.81577\n"
     ]
    },
    {
     "name": "stderr",
     "output_type": "stream",
     "text": [
      "[I 2020-09-10 12:00:39,979] Finished trial#98 with value: 0.772259770790479 with parameters: {'booster': 'dart', 'lambda': 0.003742598416350458, 'alpha': 0.0003984117901554001, 'max_depth': 7, 'eta': 0.0003351103665040326, 'gamma': 0.02222310483713216, 'grow_policy': 'lossguide', 'sample_type': 'uniform', 'normalize_type': 'tree', 'rate_drop': 0.0006335291209496503, 'skip_drop': 2.9257058479688017e-08}. Best is trial#42 with value: 0.7834263884807523.\n"
     ]
    },
    {
     "name": "stdout",
     "output_type": "stream",
     "text": [
      "[0]\tvalidation-auc:0.84021\n",
      "[1]\tvalidation-auc:0.84344\n",
      "[2]\tvalidation-auc:0.84472\n",
      "[3]\tvalidation-auc:0.84493\n",
      "[4]\tvalidation-auc:0.84541\n",
      "[5]\tvalidation-auc:0.84460\n",
      "[6]\tvalidation-auc:0.84520\n",
      "[7]\tvalidation-auc:0.84641\n",
      "[8]\tvalidation-auc:0.84675\n",
      "[9]\tvalidation-auc:0.84603\n"
     ]
    },
    {
     "name": "stderr",
     "output_type": "stream",
     "text": [
      "[I 2020-09-10 12:00:40,210] Finished trial#99 with value: 0.7740229209521011 with parameters: {'booster': 'dart', 'lambda': 5.8244122752444514e-05, 'alpha': 7.878779781958651e-08, 'max_depth': 9, 'eta': 0.005231611491107259, 'gamma': 0.03277539778225772, 'grow_policy': 'depthwise', 'sample_type': 'uniform', 'normalize_type': 'tree', 'rate_drop': 0.00017105139448526276, 'skip_drop': 4.894979909794719e-08}. Best is trial#42 with value: 0.7834263884807523.\n"
     ]
    },
    {
     "name": "stdout",
     "output_type": "stream",
     "text": [
      "FrozenTrial(number=42, value=0.7834263884807523, datetime_start=datetime.datetime(2020, 9, 10, 12, 0, 27, 737504), datetime_complete=datetime.datetime(2020, 9, 10, 12, 0, 27, 943734), params={'booster': 'gbtree', 'lambda': 0.026834336727892413, 'alpha': 0.0006039910566283139, 'max_depth': 8, 'eta': 0.0006565933008274129, 'gamma': 0.0012661208934645076, 'grow_policy': 'depthwise'}, distributions={'booster': CategoricalDistribution(choices=('gbtree', 'gblinear', 'dart')), 'lambda': LogUniformDistribution(high=1.0, low=1e-08), 'alpha': LogUniformDistribution(high=1.0, low=1e-08), 'max_depth': IntUniformDistribution(high=9, low=1, step=1), 'eta': LogUniformDistribution(high=1.0, low=1e-08), 'gamma': LogUniformDistribution(high=1.0, low=1e-08), 'grow_policy': CategoricalDistribution(choices=('depthwise', 'lossguide'))}, user_attrs={}, system_attrs={}, intermediate_values={0: 0.842687, 1: 0.843618, 2: 0.843935, 3: 0.84378, 4: 0.844112, 5: 0.843973, 6: 0.844115, 7: 0.844004, 8: 0.844227, 9: 0.844037}, trial_id=42, state=TrialState.COMPLETE)\n"
     ]
    }
   ],
   "source": [
    "study_v2 = optuna.create_study(pruner=optuna.pruners.MedianPruner(n_warmup_steps=15), direction=\"maximize\")\n",
    "study_v2.optimize(objective, n_trials=100)\n",
    "print(study_v2.best_trial)"
   ]
  },
  {
   "cell_type": "code",
   "execution_count": 16,
   "metadata": {},
   "outputs": [
    {
     "data": {
      "text/plain": [
       "{'booster': 'gbtree',\n",
       " 'lambda': 0.026834336727892413,\n",
       " 'alpha': 0.0006039910566283139,\n",
       " 'max_depth': 8,\n",
       " 'eta': 0.0006565933008274129,\n",
       " 'gamma': 0.0012661208934645076,\n",
       " 'grow_policy': 'depthwise'}"
      ]
     },
     "execution_count": 16,
     "metadata": {},
     "output_type": "execute_result"
    }
   ],
   "source": [
    "study_v2.best_params"
   ]
  },
  {
   "cell_type": "code",
   "execution_count": 18,
   "metadata": {},
   "outputs": [
    {
     "name": "stdout",
     "output_type": "stream",
     "text": [
      "Acurácia: 78.02%\n",
      "Sensibilidade : 0.9145454545454546\n",
      "Especificidade : 0.7160225792444638\n",
      "\n",
      "\n",
      "              precision    recall  f1-score   support\n",
      "\n",
      "           0       0.95      0.72      0.82      2303\n",
      "           1       0.61      0.91      0.73      1100\n",
      "\n",
      "    accuracy                           0.78      3403\n",
      "   macro avg       0.78      0.82      0.77      3403\n",
      "weighted avg       0.84      0.78      0.79      3403\n",
      "\n"
     ]
    },
    {
     "data": {
      "image/png": "[encoded data removed]",
      "text/plain": [
       "<Figure size 432x432 with 2 Axes>"
      ]
     },
     "metadata": {},
     "output_type": "display_data"
    }
   ],
   "source": [
    "# Criando o modelo\n",
    "\n",
    "# Selecionando features para treinamento\n",
    "X = treino.drop(['TARGET'], axis = 1)\n",
    "\n",
    "# Selecionando feature target\n",
    "y = treino['TARGET']\n",
    "\n",
    "# Transformando target em tipo numerico\n",
    "y = y.astype(\"category\").cat.codes\n",
    "\n",
    "# Padronizando os dados (0 para a média, 1 para o desvio padrão)\n",
    "X = StandardScaler().fit_transform(X)\n",
    "\n",
    "# Split dos dados\n",
    "X_treino, X_teste, y_treino, y_teste = train_test_split(X, y, test_size = .2, random_state = SEED, stratify = y)    \n",
    "\n",
    "\n",
    "\n",
    "params = {'silent'       : 1,\n",
    "          'objective'    : 'binary:logistic',\n",
    "          'eval_metric'  : 'auc',\n",
    "          'booster'      : 'gbtree',\n",
    "          'lambda'       : 0.026834336727892413,\n",
    "          'alpha'        : 0.0006039910566283139,\n",
    "          'max_depth'    : 8,\n",
    "          'eta'          : 0.0006565933008274129,\n",
    "          'gamma'        : 0.0012661208934645076,\n",
    "          'grow_policy' : 'depthwise'}\n",
    "\n",
    "\n",
    "#modelo_xgb_v4 = xgb.XGBClassifier(**study_v2.best_params)\n",
    "modelo_xgb_v4 = xgb.XGBClassifier(**params)\n",
    "\n",
    "# Treinando o modelo\n",
    "modelo_xgb_v4.fit(X_treino, y_treino)\n",
    "\n",
    "# Fazendo previsões\n",
    "xgb_y_pred = modelo_xgb_v4.predict(X_teste)\n",
    "previsoes = [round(value) for value in xgb_y_pred]\n",
    "\n",
    "# Avaliando as previsões\n",
    "xgb_score_v4 = accuracy_score(y_teste, previsoes)\n",
    "print(\"Acurácia: %.2f%%\" % (xgb_score_v4 * 100.0))\n",
    "\n",
    "# Cria a matriz de confusão\n",
    "conf_matriz_xgb = confusion_matrix(y_teste, xgb_y_pred)\n",
    "    \n",
    "# Calcula especificidade e sensibilidade\n",
    "speci_xgb = conf_matriz_xgb[0,0] / (conf_matriz_xgb[0,0] + conf_matriz_xgb[0,1])\n",
    "sensi_xgb = conf_matriz_xgb[1,1] / (conf_matriz_xgb[1,0] + conf_matriz_xgb[1,1])\n",
    "\n",
    "# Print\n",
    "print('Sensibilidade :', sensi_xgb)\n",
    "print('Especificidade :', speci_xgb)\n",
    "print('\\n')\n",
    "\n",
    "# Matriz de Confusão gráfica\n",
    "sns.set(rc={'figure.figsize':(6, 6)})\n",
    "sns.heatmap(conf_matriz_xgb, \n",
    "            annot = True, \n",
    "            fmt = \".0f\", \n",
    "            linewidths = .5, \n",
    "            square = True, \n",
    "            cmap = 'RdBu_r')\n",
    "\n",
    "# Labels e Títulos\n",
    "plt.ylabel('Label Verdadeiro')\n",
    "plt.xlabel('Label Previsto')\n",
    "plt.title('Acurácia: {:.2f}'.format(xgb_score_v4), size = 15)\n",
    "\n",
    "# Relatório de Classificação\n",
    "print(classification_report(y_teste, xgb_y_pred))"
   ]
  },
  {
   "cell_type": "markdown",
   "metadata": {},
   "source": [
    "# Parte 05. Realizando novas previsões"
   ]
  },
  {
   "cell_type": "code",
   "execution_count": 22,
   "metadata": {},
   "outputs": [
    {
     "name": "stdout",
     "output_type": "stream",
     "text": [
      "Quantidade de registros e colunas:  (984, 13)\n"
     ]
    },
    {
     "data": {
      "text/html": [
       "<div>\n",
       "<style scoped>\n",
       "    .dataframe tbody tr th:only-of-type {\n",
       "        vertical-align: middle;\n",
       "    }\n",
       "\n",
       "    .dataframe tbody tr th {\n",
       "        vertical-align: top;\n",
       "    }\n",
       "\n",
       "    .dataframe thead th {\n",
       "        text-align: right;\n",
       "    }\n",
       "</style>\n",
       "<table border=\"1\" class=\"dataframe\">\n",
       "  <thead>\n",
       "    <tr style=\"text-align: right;\">\n",
       "      <th></th>\n",
       "      <th>Original_473</th>\n",
       "      <th>Original_269</th>\n",
       "      <th>Zero</th>\n",
       "      <th>Maçã-Verde</th>\n",
       "      <th>Tangerina</th>\n",
       "      <th>Citrus</th>\n",
       "      <th>Açaí-Guaraná</th>\n",
       "      <th>Pêssego</th>\n",
       "    </tr>\n",
       "  </thead>\n",
       "  <tbody>\n",
       "    <tr>\n",
       "      <th>0</th>\n",
       "      <td>22</td>\n",
       "      <td>65</td>\n",
       "      <td>22</td>\n",
       "      <td>14</td>\n",
       "      <td>3</td>\n",
       "      <td>26</td>\n",
       "      <td>43</td>\n",
       "      <td>18</td>\n",
       "    </tr>\n",
       "    <tr>\n",
       "      <th>1</th>\n",
       "      <td>11</td>\n",
       "      <td>56</td>\n",
       "      <td>16</td>\n",
       "      <td>14</td>\n",
       "      <td>43</td>\n",
       "      <td>20</td>\n",
       "      <td>37</td>\n",
       "      <td>15</td>\n",
       "    </tr>\n",
       "    <tr>\n",
       "      <th>2</th>\n",
       "      <td>86</td>\n",
       "      <td>51</td>\n",
       "      <td>8</td>\n",
       "      <td>11</td>\n",
       "      <td>41</td>\n",
       "      <td>20</td>\n",
       "      <td>35</td>\n",
       "      <td>12</td>\n",
       "    </tr>\n",
       "    <tr>\n",
       "      <th>3</th>\n",
       "      <td>76</td>\n",
       "      <td>47</td>\n",
       "      <td>65</td>\n",
       "      <td>11</td>\n",
       "      <td>37</td>\n",
       "      <td>14</td>\n",
       "      <td>32</td>\n",
       "      <td>10</td>\n",
       "    </tr>\n",
       "    <tr>\n",
       "      <th>4</th>\n",
       "      <td>68</td>\n",
       "      <td>42</td>\n",
       "      <td>60</td>\n",
       "      <td>6</td>\n",
       "      <td>35</td>\n",
       "      <td>13</td>\n",
       "      <td>26</td>\n",
       "      <td>5</td>\n",
       "    </tr>\n",
       "  </tbody>\n",
       "</table>\n",
       "</div>"
      ],
      "text/plain": [
       "   Original_473  Original_269  Zero  Maçã-Verde  Tangerina  Citrus  \\\n",
       "0            22            65    22          14          3      26   \n",
       "1            11            56    16          14         43      20   \n",
       "2            86            51     8          11         41      20   \n",
       "3            76            47    65          11         37      14   \n",
       "4            68            42    60           6         35      13   \n",
       "\n",
       "   Açaí-Guaraná  Pêssego  \n",
       "0            43       18  \n",
       "1            37       15  \n",
       "2            35       12  \n",
       "3            32       10  \n",
       "4            26        5  "
      ]
     },
     "execution_count": 22,
     "metadata": {},
     "output_type": "execute_result"
    }
   ],
   "source": [
    "# Carregando o dataset de testes \n",
    "teste  = pd.read_csv(r'to_be_scored.csv')\n",
    "print('Quantidade de registros e colunas: ',teste.shape)\n",
    "\n",
    "# Removendo colunas que não serão utilizadas no treinamento\n",
    "teste = teste.drop(['Tempo','Estação','Movimentação','LAT','LONG'], axis = 1)\n",
    "\n",
    "# Visualizando os primeiros registros\n",
    "teste.head()"
   ]
  },
  {
   "cell_type": "code",
   "execution_count": 23,
   "metadata": {},
   "outputs": [],
   "source": [
    "# Padronizando os dados (0 para a média, 1 para o desvio padrão)\n",
    "teste_scaler = StandardScaler().fit_transform(teste)\n",
    "\n",
    "# Realizando previsoes com dados de teste(usando modelo NAO BALANCEADO)\n",
    "y_pred_test = modelo_xgb_v4.predict(teste_scaler)\n"
   ]
  },
  {
   "cell_type": "code",
   "execution_count": 24,
   "metadata": {},
   "outputs": [
    {
     "data": {
      "text/html": [
       "<div>\n",
       "<style scoped>\n",
       "    .dataframe tbody tr th:only-of-type {\n",
       "        vertical-align: middle;\n",
       "    }\n",
       "\n",
       "    .dataframe tbody tr th {\n",
       "        vertical-align: top;\n",
       "    }\n",
       "\n",
       "    .dataframe thead th {\n",
       "        text-align: right;\n",
       "    }\n",
       "</style>\n",
       "<table border=\"1\" class=\"dataframe\">\n",
       "  <thead>\n",
       "    <tr style=\"text-align: right;\">\n",
       "      <th></th>\n",
       "      <th>Original_473</th>\n",
       "      <th>Original_269</th>\n",
       "      <th>Zero</th>\n",
       "      <th>Maçã-Verde</th>\n",
       "      <th>Tangerina</th>\n",
       "      <th>Citrus</th>\n",
       "      <th>Açaí-Guaraná</th>\n",
       "      <th>Pêssego</th>\n",
       "      <th>TARGET</th>\n",
       "    </tr>\n",
       "  </thead>\n",
       "  <tbody>\n",
       "    <tr>\n",
       "      <th>979</th>\n",
       "      <td>34</td>\n",
       "      <td>65</td>\n",
       "      <td>28</td>\n",
       "      <td>17</td>\n",
       "      <td>33</td>\n",
       "      <td>27</td>\n",
       "      <td>6</td>\n",
       "      <td>2</td>\n",
       "      <td>REABASTECER</td>\n",
       "    </tr>\n",
       "    <tr>\n",
       "      <th>980</th>\n",
       "      <td>21</td>\n",
       "      <td>60</td>\n",
       "      <td>18</td>\n",
       "      <td>15</td>\n",
       "      <td>27</td>\n",
       "      <td>22</td>\n",
       "      <td>43</td>\n",
       "      <td>43</td>\n",
       "      <td>NORMAL</td>\n",
       "    </tr>\n",
       "    <tr>\n",
       "      <th>981</th>\n",
       "      <td>9</td>\n",
       "      <td>56</td>\n",
       "      <td>13</td>\n",
       "      <td>14</td>\n",
       "      <td>21</td>\n",
       "      <td>17</td>\n",
       "      <td>37</td>\n",
       "      <td>37</td>\n",
       "      <td>REABASTECER</td>\n",
       "    </tr>\n",
       "    <tr>\n",
       "      <th>982</th>\n",
       "      <td>86</td>\n",
       "      <td>49</td>\n",
       "      <td>7</td>\n",
       "      <td>14</td>\n",
       "      <td>17</td>\n",
       "      <td>12</td>\n",
       "      <td>33</td>\n",
       "      <td>33</td>\n",
       "      <td>REABASTECER</td>\n",
       "    </tr>\n",
       "    <tr>\n",
       "      <th>983</th>\n",
       "      <td>74</td>\n",
       "      <td>41</td>\n",
       "      <td>65</td>\n",
       "      <td>8</td>\n",
       "      <td>14</td>\n",
       "      <td>7</td>\n",
       "      <td>27</td>\n",
       "      <td>27</td>\n",
       "      <td>NORMAL</td>\n",
       "    </tr>\n",
       "  </tbody>\n",
       "</table>\n",
       "</div>"
      ],
      "text/plain": [
       "     Original_473  Original_269  Zero  Maçã-Verde  Tangerina  Citrus  \\\n",
       "979            34            65    28          17         33      27   \n",
       "980            21            60    18          15         27      22   \n",
       "981             9            56    13          14         21      17   \n",
       "982            86            49     7          14         17      12   \n",
       "983            74            41    65           8         14       7   \n",
       "\n",
       "     Açaí-Guaraná  Pêssego       TARGET  \n",
       "979             6        2  REABASTECER  \n",
       "980            43       43       NORMAL  \n",
       "981            37       37  REABASTECER  \n",
       "982            33       33  REABASTECER  \n",
       "983            27       27       NORMAL  "
      ]
     },
     "execution_count": 24,
     "metadata": {},
     "output_type": "execute_result"
    }
   ],
   "source": [
    "# Salvando na coluna target\n",
    "teste['TARGET'] = y_pred_test\n",
    "teste['TARGET'] = np.where(teste['TARGET'] == 0, 'NORMAL', 'REABASTECER')\n",
    "\n",
    "# Visualizando os ultimos registros\n",
    "teste.tail()"
   ]
  },
  {
   "cell_type": "code",
   "execution_count": 25,
   "metadata": {},
   "outputs": [
    {
     "data": {
      "text/html": [
       "<div>\n",
       "<style scoped>\n",
       "    .dataframe tbody tr th:only-of-type {\n",
       "        vertical-align: middle;\n",
       "    }\n",
       "\n",
       "    .dataframe tbody tr th {\n",
       "        vertical-align: top;\n",
       "    }\n",
       "\n",
       "    .dataframe thead th {\n",
       "        text-align: right;\n",
       "    }\n",
       "</style>\n",
       "<table border=\"1\" class=\"dataframe\">\n",
       "  <thead>\n",
       "    <tr style=\"text-align: right;\">\n",
       "      <th></th>\n",
       "      <th>TARGET</th>\n",
       "      <th>%</th>\n",
       "    </tr>\n",
       "  </thead>\n",
       "  <tbody>\n",
       "    <tr>\n",
       "      <th>NORMAL</th>\n",
       "      <td>503</td>\n",
       "      <td>51.118</td>\n",
       "    </tr>\n",
       "    <tr>\n",
       "      <th>REABASTECER</th>\n",
       "      <td>481</td>\n",
       "      <td>48.882</td>\n",
       "    </tr>\n",
       "  </tbody>\n",
       "</table>\n",
       "</div>"
      ],
      "text/plain": [
       "             TARGET       %\n",
       "NORMAL          503  51.118\n",
       "REABASTECER     481  48.882"
      ]
     },
     "execution_count": 25,
     "metadata": {},
     "output_type": "execute_result"
    },
    {
     "data": {
      "image/png": "[encoded data removed]",
      "text/plain": [
       "<Figure size 432x432 with 1 Axes>"
      ]
     },
     "metadata": {},
     "output_type": "display_data"
    }
   ],
   "source": [
    "# Visualizando a distribuição das classes (variavel TARGET)\n",
    "pd.value_counts(teste['TARGET']).plot.bar()\n",
    "plt.title('TARGET histogram')\n",
    "plt.xlabel('TARGET')\n",
    "plt.ylabel('Frequency')\n",
    "\n",
    "# Visualizando um df com quantidade e percentual da variavel TARGET\n",
    "tmp = pd.DataFrame(teste['TARGET'].value_counts())\n",
    "tmp['%'] = round(100*tmp['TARGET']/tmp['TARGET'].sum(),3)\n",
    "tmp"
   ]
  },
  {
   "cell_type": "code",
   "execution_count": null,
   "metadata": {},
   "outputs": [],
   "source": [
    "# Gravando resultado em csv\n",
    "teste.to_csv('results_xgb.csv',index=False)"
   ]
  },
  {
   "cell_type": "code",
   "execution_count": null,
   "metadata": {},
   "outputs": [],
   "source": []
  },
  {
   "cell_type": "code",
   "execution_count": null,
   "metadata": {},
   "outputs": [],
   "source": []
  },
  {
   "cell_type": "raw",
   "metadata": {},
   "source": [
    "Treino - ACC 0.739, F1 0.635\n",
    "Teste - ACC 0.733, F1 0.617\n",
    "\n",
    "\n",
    "Treino - ACC 0.760, F1 0.725\n",
    "Teste - ACC 0.738, F1 0.657"
   ]
  }
 ],
 "metadata": {
  "kernelspec": {
   "display_name": "Python 3",
   "language": "python",
   "name": "python3"
  },
  "language_info": {
   "codemirror_mode": {
    "name": "ipython",
    "version": 3
   },
   "file_extension": ".py",
   "mimetype": "text/x-python",
   "name": "python",
   "nbconvert_exporter": "python",
   "pygments_lexer": "ipython3",
   "version": "3.7.4"
  }
 },
 "nbformat": 4,
 "nbformat_minor": 1
}
