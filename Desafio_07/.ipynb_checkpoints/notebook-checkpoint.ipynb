{
 "cells": [
  {
   "cell_type": "markdown",
   "metadata": {},
   "source": [
    "# Importando dados do MQTT TNT"
   ]
  },
  {
   "cell_type": "code",
   "execution_count": null,
   "metadata": {},
   "outputs": [],
   "source": [
    "!pip install paho-mqtt"
   ]
  },
  {
   "cell_type": "code",
   "execution_count": 1,
   "metadata": {},
   "outputs": [],
   "source": [
    "import pandas as pd\n",
    "import time\n",
    "import json\n",
    "\n",
    "import paho.mqtt.client as mqttClient"
   ]
  },
  {
   "cell_type": "code",
   "execution_count": 2,
   "metadata": {},
   "outputs": [],
   "source": [
    "HOST     = \"tnt-iot.maratona.dev\"\n",
    "PORT      = 30573\n",
    "USER      = \"maratoners\"\n",
    "PASSWORD  = \"ndsjknvkdnvjsbvj\"\n",
    "TOPIC     = \"tnt\"\n",
    "\n",
    "Connected = False"
   ]
  },
  {
   "cell_type": "code",
   "execution_count": 5,
   "metadata": {},
   "outputs": [],
   "source": [
    "def on_connect(client, userdata, flags, rc):\n",
    "    if rc == 0:\n",
    "        print(\"Conectado no broker IoT\")\n",
    "        global Connected\n",
    "        Connected = True\n",
    "    else:\n",
    "        print(\"Conexão Falhou\")\n",
    "        \n",
    "def on_message(client, userdata, msg):\n",
    "    print(str(msg.payload))\n",
    "\n",
    "    with open('/Volumes/HD_Externo/DataScience/Repositorios/Maratona_IBM_2020/Desafio_07/dataset.json','a+') as f:        \n",
    "        f.write(str(msg.payload))\n",
    "\n",
    "        #data = json.dumps(dict(msg.payload), ensure_ascii=False, encoding='utf8')\n",
    "        #f.write(data)\n",
    "        \n",
    "        "
   ]
  },
  {
   "cell_type": "code",
   "execution_count": 6,
   "metadata": {},
   "outputs": [],
   "source": [
    "client = mqttClient.Client(\"Desafio7-Rodrigo-100\")\n",
    "\n",
    "client.username_pw_set(USER, password=PASSWORD)\n",
    "\n",
    "client.on_connect = on_connect\n",
    "\n",
    "client.on_message = on_message"
   ]
  },
  {
   "cell_type": "code",
   "execution_count": 7,
   "metadata": {},
   "outputs": [
    {
     "name": "stdout",
     "output_type": "stream",
     "text": [
      "Conectado no broker IoT\n",
      "b'{\"Tempo\": \"2018-8-30\", \"Esta\\xc3\\xa7\\xc3\\xa3o\": \"Barra Funda\", \"LAT\": \"-23.5542\", \"LONG\": \"-46.6707\", \"Movimenta\\xc3\\xa7\\xc3\\xa3o\": \"150130\", \"Original_473\": \"56\", \"Original_269\": \"7\", \"Zero\": \"41\", \"Ma\\xc3\\xa7\\xc3\\xa3-Verde\": \"9\", \"Tangerina\": \"6\", \"Citrus\": \"16\", \"A\\xc3\\xa7a\\xc3\\xad-Guaran\\xc3\\xa1\": \"27\", \"P\\xc3\\xaassego\": \"23\", \"TARGET\": \"REABASTECER\", \"row\": 5280}'\n",
      "b'{\"Tempo\": \"2018-9-1\", \"Esta\\xc3\\xa7\\xc3\\xa3o\": \"Barra Funda\", \"LAT\": \"-23.5542\", \"LONG\": \"-46.6707\", \"Movimenta\\xc3\\xa7\\xc3\\xa3o\": \"147015\", \"Original_473\": \"45\", \"Original_269\": \"65\", \"Zero\": \"35\", \"Ma\\xc3\\xa7\\xc3\\xa3-Verde\": \"5\", \"Tangerina\": \"43\", \"Citrus\": \"15\", \"A\\xc3\\xa7a\\xc3\\xad-Guaran\\xc3\\xa1\": \"24\", \"P\\xc3\\xaassego\": \"19\", \"TARGET\": \"NORMAL\", \"row\": 5281}'\n",
      "b'{\"Tempo\": \"2018-9-2\", \"Esta\\xc3\\xa7\\xc3\\xa3o\": \"Barra Funda\", \"LAT\": \"-23.5542\", \"LONG\": \"-46.6707\", \"Movimenta\\xc3\\xa7\\xc3\\xa3o\": \"148730\", \"Original_473\": \"32\", \"Original_269\": \"57\", \"Zero\": \"25\", \"Ma\\xc3\\xa7\\xc3\\xa3-Verde\": \"43\", \"Tangerina\": \"39\", \"Citrus\": \"11\", \"A\\xc3\\xa7a\\xc3\\xad-Guaran\\xc3\\xa1\": \"22\", \"P\\xc3\\xaassego\": \"16\", \"TARGET\": \"NORMAL\", \"row\": 5282}'\n",
      "b'{\"Tempo\": \"2018-9-3\", \"Esta\\xc3\\xa7\\xc3\\xa3o\": \"Barra Funda\", \"LAT\": \"-23.5542\", \"LONG\": \"-46.6707\", \"Movimenta\\xc3\\xa7\\xc3\\xa3o\": \"147575\", \"Original_473\": \"19\", \"Original_269\": \"47\", \"Zero\": \"15\", \"Ma\\xc3\\xa7\\xc3\\xa3-Verde\": \"40\", \"Tangerina\": \"37\", \"Citrus\": \"10\", \"A\\xc3\\xa7a\\xc3\\xad-Guaran\\xc3\\xa1\": \"19\", \"P\\xc3\\xaassego\": \"10\", \"TARGET\": \"NORMAL\", \"row\": 5283}'\n",
      "b'{\"Tempo\": \"2018-9-4\", \"Esta\\xc3\\xa7\\xc3\\xa3o\": \"Barra Funda\", \"LAT\": \"-23.5542\", \"LONG\": \"-46.6707\", \"Movimenta\\xc3\\xa7\\xc3\\xa3o\": \"147112\", \"Original_473\": \"11\", \"Original_269\": \"42\", \"Zero\": \"9\", \"Ma\\xc3\\xa7\\xc3\\xa3-Verde\": \"35\", \"Tangerina\": \"35\", \"Citrus\": \"5\", \"A\\xc3\\xa7a\\xc3\\xad-Guaran\\xc3\\xa1\": \"15\", \"P\\xc3\\xaassego\": \"7\", \"TARGET\": \"NORMAL\", \"row\": 5284}'\n",
      "b'{\"Tempo\": \"2018-9-5\", \"Esta\\xc3\\xa7\\xc3\\xa3o\": \"Barra Funda\", \"LAT\": \"-23.5542\", \"LONG\": \"-46.6707\", \"Movimenta\\xc3\\xa7\\xc3\\xa3o\": \"150082\", \"Original_473\": \"86\", \"Original_269\": \"32\", \"Zero\": \"65\", \"Ma\\xc3\\xa7\\xc3\\xa3-Verde\": \"33\", \"Tangerina\": \"29\", \"Citrus\": \"43\", \"A\\xc3\\xa7a\\xc3\\xad-Guaran\\xc3\\xa1\": \"10\", \"P\\xc3\\xaassego\": \"4\", \"TARGET\": \"REABASTECER\", \"row\": 5285}'\n",
      "b'{\"Tempo\": \"2018-9-6\", \"Esta\\xc3\\xa7\\xc3\\xa3o\": \"Barra Funda\", \"LAT\": \"-23.5542\", \"LONG\": \"-46.6707\", \"Movimenta\\xc3\\xa7\\xc3\\xa3o\": \"147127\", \"Original_473\": \"79\", \"Original_269\": \"27\", \"Zero\": \"57\", \"Ma\\xc3\\xa7\\xc3\\xa3-Verde\": \"29\", \"Tangerina\": \"25\", \"Citrus\": \"42\", \"A\\xc3\\xa7a\\xc3\\xad-Guaran\\xc3\\xa1\": \"4\", \"P\\xc3\\xaassego\": \"43\", \"TARGET\": \"NORMAL\", \"row\": 5286}'\n",
      "b'{\"Tempo\": \"2018-9-7\", \"Esta\\xc3\\xa7\\xc3\\xa3o\": \"Barra Funda\", \"LAT\": \"-23.5542\", \"LONG\": \"-46.6707\", \"Movimenta\\xc3\\xa7\\xc3\\xa3o\": \"149042\", \"Original_473\": \"66\", \"Original_269\": \"20\", \"Zero\": \"49\", \"Ma\\xc3\\xa7\\xc3\\xa3-Verde\": \"24\", \"Tangerina\": \"22\", \"Citrus\": \"41\", \"A\\xc3\\xa7a\\xc3\\xad-Guaran\\xc3\\xa1\": \"43\", \"P\\xc3\\xaassego\": \"38\", \"TARGET\": \"NORMAL\", \"row\": 5287}'\n",
      "b'{\"Tempo\": \"2018-9-8\", \"Esta\\xc3\\xa7\\xc3\\xa3o\": \"Barra Funda\", \"LAT\": \"-23.5542\", \"LONG\": \"-46.6707\", \"Movimenta\\xc3\\xa7\\xc3\\xa3o\": \"150341\", \"Original_473\": \"58\", \"Original_269\": \"14\", \"Zero\": \"41\", \"Ma\\xc3\\xa7\\xc3\\xa3-Verde\": \"21\", \"Tangerina\": \"16\", \"Citrus\": \"35\", \"A\\xc3\\xa7a\\xc3\\xad-Guaran\\xc3\\xa1\": \"40\", \"P\\xc3\\xaassego\": \"32\", \"TARGET\": \"NORMAL\", \"row\": 5288}'\n",
      "b'{\"Tempo\": \"2018-9-9\", \"Esta\\xc3\\xa7\\xc3\\xa3o\": \"Barra Funda\", \"LAT\": \"-23.5542\", \"LONG\": \"-46.6707\", \"Movimenta\\xc3\\xa7\\xc3\\xa3o\": \"149242\", \"Original_473\": \"50\", \"Original_269\": \"4\", \"Zero\": \"36\", \"Ma\\xc3\\xa7\\xc3\\xa3-Verde\": \"15\", \"Tangerina\": \"11\", \"Citrus\": \"30\", \"A\\xc3\\xa7a\\xc3\\xad-Guaran\\xc3\\xa1\": \"38\", \"P\\xc3\\xaassego\": \"26\", \"TARGET\": \"NORMAL\", \"row\": 5289}'\n",
      "b'{\"Tempo\": \"2018-9-10\", \"Esta\\xc3\\xa7\\xc3\\xa3o\": \"Barra Funda\", \"LAT\": \"-23.5542\", \"LONG\": \"-46.6707\", \"Movimenta\\xc3\\xa7\\xc3\\xa3o\": \"147514\", \"Original_473\": \"39\", \"Original_269\": \"65\", \"Zero\": \"30\", \"Ma\\xc3\\xa7\\xc3\\xa3-Verde\": \"13\", \"Tangerina\": \"9\", \"Citrus\": \"25\", \"A\\xc3\\xa7a\\xc3\\xad-Guaran\\xc3\\xa1\": \"33\", \"P\\xc3\\xaassego\": \"24\", \"TARGET\": \"NORMAL\", \"row\": 5290}'\n",
      "b'{\"Tempo\": \"2018-9-11\", \"Esta\\xc3\\xa7\\xc3\\xa3o\": \"Barra Funda\", \"LAT\": \"-23.5542\", \"LONG\": \"-46.6707\", \"Movimenta\\xc3\\xa7\\xc3\\xa3o\": \"148603\", \"Original_473\": \"32\", \"Original_269\": \"56\", \"Zero\": \"23\", \"Ma\\xc3\\xa7\\xc3\\xa3-Verde\": \"8\", \"Tangerina\": \"3\", \"Citrus\": \"21\", \"A\\xc3\\xa7a\\xc3\\xad-Guaran\\xc3\\xa1\": \"30\", \"P\\xc3\\xaassego\": \"21\", \"TARGET\": \"REABASTECER\", \"row\": 5291}'\n",
      "b'{\"Tempo\": \"2018-9-12\", \"Esta\\xc3\\xa7\\xc3\\xa3o\": \"Barra Funda\", \"LAT\": \"-23.5542\", \"LONG\": \"-46.6707\", \"Movimenta\\xc3\\xa7\\xc3\\xa3o\": \"149990\", \"Original_473\": \"24\", \"Original_269\": \"52\", \"Zero\": \"15\", \"Ma\\xc3\\xa7\\xc3\\xa3-Verde\": \"7\", \"Tangerina\": \"43\", \"Citrus\": \"15\", \"A\\xc3\\xa7a\\xc3\\xad-Guaran\\xc3\\xa1\": \"28\", \"P\\xc3\\xaassego\": \"16\", \"TARGET\": \"NORMAL\", \"row\": 5292}'\n",
      "b'{\"Tempo\": \"2018-9-13\", \"Esta\\xc3\\xa7\\xc3\\xa3o\": \"Barra Funda\", \"LAT\": \"-23.5542\", \"LONG\": \"-46.6707\", \"Movimenta\\xc3\\xa7\\xc3\\xa3o\": \"150018\", \"Original_473\": \"17\", \"Original_269\": \"44\", \"Zero\": \"11\", \"Ma\\xc3\\xa7\\xc3\\xa3-Verde\": \"7\", \"Tangerina\": \"37\", \"Citrus\": \"12\", \"A\\xc3\\xa7a\\xc3\\xad-Guaran\\xc3\\xa1\": \"23\", \"P\\xc3\\xaassego\": \"14\", \"TARGET\": \"NORMAL\", \"row\": 5293}'\n",
      "b'{\"Tempo\": \"2018-9-14\", \"Esta\\xc3\\xa7\\xc3\\xa3o\": \"Barra Funda\", \"LAT\": \"-23.5542\", \"LONG\": \"-46.6707\", \"Movimenta\\xc3\\xa7\\xc3\\xa3o\": \"146802\", \"Original_473\": \"10\", \"Original_269\": \"40\", \"Zero\": \"7\", \"Ma\\xc3\\xa7\\xc3\\xa3-Verde\": \"7\", \"Tangerina\": \"33\", \"Citrus\": \"6\", \"A\\xc3\\xa7a\\xc3\\xad-Guaran\\xc3\\xa1\": \"19\", \"P\\xc3\\xaassego\": \"9\", \"TARGET\": \"REABASTECER\", \"row\": 5294}'\n",
      "b'{\"Tempo\": \"2018-9-15\", \"Esta\\xc3\\xa7\\xc3\\xa3o\": \"Barra Funda\", \"LAT\": \"-23.5542\", \"LONG\": \"-46.6707\", \"Movimenta\\xc3\\xa7\\xc3\\xa3o\": \"148819\", \"Original_473\": \"86\", \"Original_269\": \"33\", \"Zero\": \"65\", \"Ma\\xc3\\xa7\\xc3\\xa3-Verde\": \"5\", \"Tangerina\": \"29\", \"Citrus\": \"43\", \"A\\xc3\\xa7a\\xc3\\xad-Guaran\\xc3\\xa1\": \"15\", \"P\\xc3\\xaassego\": \"6\", \"TARGET\": \"NORMAL\", \"row\": 5295}'\n",
      "b'{\"Tempo\": \"2018-9-16\", \"Esta\\xc3\\xa7\\xc3\\xa3o\": \"Barra Funda\", \"LAT\": \"-23.5542\", \"LONG\": \"-46.6707\", \"Movimenta\\xc3\\xa7\\xc3\\xa3o\": \"149153\", \"Original_473\": \"75\", \"Original_269\": \"30\", \"Zero\": \"60\", \"Ma\\xc3\\xa7\\xc3\\xa3-Verde\": \"43\", \"Tangerina\": \"26\", \"Citrus\": \"42\", \"A\\xc3\\xa7a\\xc3\\xad-Guaran\\xc3\\xa1\": \"12\", \"P\\xc3\\xaassego\": \"43\", \"TARGET\": \"NORMAL\", \"row\": 5296}'\n",
      "b'{\"Tempo\": \"2018-9-17\", \"Esta\\xc3\\xa7\\xc3\\xa3o\": \"Barra Funda\", \"LAT\": \"-23.5542\", \"LONG\": \"-46.6707\", \"Movimenta\\xc3\\xa7\\xc3\\xa3o\": \"149998\", \"Original_473\": \"66\", \"Original_269\": \"26\", \"Zero\": \"56\", \"Ma\\xc3\\xa7\\xc3\\xa3-Verde\": \"39\", \"Tangerina\": \"23\", \"Citrus\": \"38\", \"A\\xc3\\xa7a\\xc3\\xad-Guaran\\xc3\\xa1\": \"8\", \"P\\xc3\\xaassego\": \"39\", \"TARGET\": \"NORMAL\", \"row\": 5297}'\n",
      "b'{\"Tempo\": \"2018-9-18\", \"Esta\\xc3\\xa7\\xc3\\xa3o\": \"Barra Funda\", \"LAT\": \"-23.5542\", \"LONG\": \"-46.6707\", \"Movimenta\\xc3\\xa7\\xc3\\xa3o\": \"149113\", \"Original_473\": \"57\", \"Original_269\": \"18\", \"Zero\": \"50\", \"Ma\\xc3\\xa7\\xc3\\xa3-Verde\": \"39\", \"Tangerina\": \"21\", \"Citrus\": \"36\", \"A\\xc3\\xa7a\\xc3\\xad-Guaran\\xc3\\xa1\": \"4\", \"P\\xc3\\xaassego\": \"33\", \"TARGET\": \"REABASTECER\", \"row\": 5298}'\n",
      "b'{\"Tempo\": \"2018-9-19\", \"Esta\\xc3\\xa7\\xc3\\xa3o\": \"Barra Funda\", \"LAT\": \"-23.5542\", \"LONG\": \"-46.6707\", \"Movimenta\\xc3\\xa7\\xc3\\xa3o\": \"146999\", \"Original_473\": \"45\", \"Original_269\": \"8\", \"Zero\": \"44\", \"Ma\\xc3\\xa7\\xc3\\xa3-Verde\": \"33\", \"Tangerina\": \"18\", \"Citrus\": \"33\", \"A\\xc3\\xa7a\\xc3\\xad-Guaran\\xc3\\xa1\": \"43\", \"P\\xc3\\xaassego\": \"27\", \"TARGET\": \"REABASTECER\", \"row\": 5299}'\n",
      "b'{\"Tempo\": \"2018-9-20\", \"Esta\\xc3\\xa7\\xc3\\xa3o\": \"Barra Funda\", \"LAT\": \"-23.5542\", \"LONG\": \"-46.6707\", \"Movimenta\\xc3\\xa7\\xc3\\xa3o\": \"149307\", \"Original_473\": \"35\", \"Original_269\": \"65\", \"Zero\": \"39\", \"Ma\\xc3\\xa7\\xc3\\xa3-Verde\": \"30\", \"Tangerina\": \"14\", \"Citrus\": \"30\", \"A\\xc3\\xa7a\\xc3\\xad-Guaran\\xc3\\xa1\": \"37\", \"P\\xc3\\xaassego\": \"24\", \"TARGET\": \"NORMAL\", \"row\": 5300}'\n",
      "b'{\"Tempo\": \"2018-9-21\", \"Esta\\xc3\\xa7\\xc3\\xa3o\": \"Barra Funda\", \"LAT\": \"-23.5542\", \"LONG\": \"-46.6707\", \"Movimenta\\xc3\\xa7\\xc3\\xa3o\": \"149428\", \"Original_473\": \"23\", \"Original_269\": \"56\", \"Zero\": \"35\", \"Ma\\xc3\\xa7\\xc3\\xa3-Verde\": \"27\", \"Tangerina\": \"8\", \"Citrus\": \"29\", \"A\\xc3\\xa7a\\xc3\\xad-Guaran\\xc3\\xa1\": \"32\", \"P\\xc3\\xaassego\": \"19\", \"TARGET\": \"NORMAL\", \"row\": 5301}'\n"
     ]
    },
    {
     "name": "stdout",
     "output_type": "stream",
     "text": [
      "b'{\"Tempo\": \"2018-9-22\", \"Esta\\xc3\\xa7\\xc3\\xa3o\": \"Barra Funda\", \"LAT\": \"-23.5542\", \"LONG\": \"-46.6707\", \"Movimenta\\xc3\\xa7\\xc3\\xa3o\": \"147069\", \"Original_473\": \"14\", \"Original_269\": \"51\", \"Zero\": \"29\", \"Ma\\xc3\\xa7\\xc3\\xa3-Verde\": \"27\", \"Tangerina\": \"6\", \"Citrus\": \"26\", \"A\\xc3\\xa7a\\xc3\\xad-Guaran\\xc3\\xa1\": \"28\", \"P\\xc3\\xaassego\": \"15\", \"TARGET\": \"REABASTECER\", \"row\": 5302}'\n",
      "b'{\"Tempo\": \"2018-9-23\", \"Esta\\xc3\\xa7\\xc3\\xa3o\": \"Barra Funda\", \"LAT\": \"-23.5542\", \"LONG\": \"-46.6707\", \"Movimenta\\xc3\\xa7\\xc3\\xa3o\": \"148296\", \"Original_473\": \"1\", \"Original_269\": \"49\", \"Zero\": \"19\", \"Ma\\xc3\\xa7\\xc3\\xa3-Verde\": \"27\", \"Tangerina\": \"43\", \"Citrus\": \"21\", \"A\\xc3\\xa7a\\xc3\\xad-Guaran\\xc3\\xa1\": \"24\", \"P\\xc3\\xaassego\": \"9\", \"TARGET\": \"NORMAL\", \"row\": 5303}'\n",
      "b'{\"Tempo\": \"2018-9-24\", \"Esta\\xc3\\xa7\\xc3\\xa3o\": \"Barra Funda\", \"LAT\": \"-23.5542\", \"LONG\": \"-46.6707\", \"Movimenta\\xc3\\xa7\\xc3\\xa3o\": \"148515\", \"Original_473\": \"86\", \"Original_269\": \"43\", \"Zero\": \"12\", \"Ma\\xc3\\xa7\\xc3\\xa3-Verde\": \"24\", \"Tangerina\": \"38\", \"Citrus\": \"17\", \"A\\xc3\\xa7a\\xc3\\xad-Guaran\\xc3\\xa1\": \"18\", \"P\\xc3\\xaassego\": \"7\", \"TARGET\": \"NORMAL\", \"row\": 5304}'\n"
     ]
    },
    {
     "ename": "KeyboardInterrupt",
     "evalue": "",
     "output_type": "error",
     "traceback": [
      "\u001b[0;31m---------------------------------------------------------------------------\u001b[0m",
      "\u001b[0;31mKeyboardInterrupt\u001b[0m                         Traceback (most recent call last)",
      "\u001b[0;32m<ipython-input-7-2869fce38c69>\u001b[0m in \u001b[0;36m<module>\u001b[0;34m\u001b[0m\n\u001b[1;32m      3\u001b[0m \u001b[0mclient\u001b[0m\u001b[0;34m.\u001b[0m\u001b[0msubscribe\u001b[0m\u001b[0;34m(\u001b[0m\u001b[0mTOPIC\u001b[0m\u001b[0;34m)\u001b[0m\u001b[0;34m\u001b[0m\u001b[0;34m\u001b[0m\u001b[0m\n\u001b[1;32m      4\u001b[0m \u001b[0;34m\u001b[0m\u001b[0m\n\u001b[0;32m----> 5\u001b[0;31m \u001b[0mclient\u001b[0m\u001b[0;34m.\u001b[0m\u001b[0mloop_forever\u001b[0m\u001b[0;34m(\u001b[0m\u001b[0;34m)\u001b[0m\u001b[0;34m\u001b[0m\u001b[0;34m\u001b[0m\u001b[0m\n\u001b[0m",
      "\u001b[0;32m~/anaconda3/lib/python3.7/site-packages/paho/mqtt/client.py\u001b[0m in \u001b[0;36mloop_forever\u001b[0;34m(self, timeout, max_packets, retry_first_connection)\u001b[0m\n\u001b[1;32m   1780\u001b[0m             \u001b[0mrc\u001b[0m \u001b[0;34m=\u001b[0m \u001b[0mMQTT_ERR_SUCCESS\u001b[0m\u001b[0;34m\u001b[0m\u001b[0;34m\u001b[0m\u001b[0m\n\u001b[1;32m   1781\u001b[0m             \u001b[0;32mwhile\u001b[0m \u001b[0mrc\u001b[0m \u001b[0;34m==\u001b[0m \u001b[0mMQTT_ERR_SUCCESS\u001b[0m\u001b[0;34m:\u001b[0m\u001b[0;34m\u001b[0m\u001b[0;34m\u001b[0m\u001b[0m\n\u001b[0;32m-> 1782\u001b[0;31m                 \u001b[0mrc\u001b[0m \u001b[0;34m=\u001b[0m \u001b[0mself\u001b[0m\u001b[0;34m.\u001b[0m\u001b[0mloop\u001b[0m\u001b[0;34m(\u001b[0m\u001b[0mtimeout\u001b[0m\u001b[0;34m,\u001b[0m \u001b[0mmax_packets\u001b[0m\u001b[0;34m)\u001b[0m\u001b[0;34m\u001b[0m\u001b[0;34m\u001b[0m\u001b[0m\n\u001b[0m\u001b[1;32m   1783\u001b[0m                 \u001b[0;31m# We don't need to worry about locking here, because we've\u001b[0m\u001b[0;34m\u001b[0m\u001b[0;34m\u001b[0m\u001b[0;34m\u001b[0m\u001b[0m\n\u001b[1;32m   1784\u001b[0m                 \u001b[0;31m# either called loop_forever() when in single threaded mode, or\u001b[0m\u001b[0;34m\u001b[0m\u001b[0;34m\u001b[0m\u001b[0;34m\u001b[0m\u001b[0m\n",
      "\u001b[0;32m~/anaconda3/lib/python3.7/site-packages/paho/mqtt/client.py\u001b[0m in \u001b[0;36mloop\u001b[0;34m(self, timeout, max_packets)\u001b[0m\n\u001b[1;32m   1161\u001b[0m         \u001b[0mrlist\u001b[0m \u001b[0;34m=\u001b[0m \u001b[0;34m[\u001b[0m\u001b[0mself\u001b[0m\u001b[0;34m.\u001b[0m\u001b[0m_sock\u001b[0m\u001b[0;34m,\u001b[0m \u001b[0mself\u001b[0m\u001b[0;34m.\u001b[0m\u001b[0m_sockpairR\u001b[0m\u001b[0;34m]\u001b[0m\u001b[0;34m\u001b[0m\u001b[0;34m\u001b[0m\u001b[0m\n\u001b[1;32m   1162\u001b[0m         \u001b[0;32mtry\u001b[0m\u001b[0;34m:\u001b[0m\u001b[0;34m\u001b[0m\u001b[0;34m\u001b[0m\u001b[0m\n\u001b[0;32m-> 1163\u001b[0;31m             \u001b[0msocklist\u001b[0m \u001b[0;34m=\u001b[0m \u001b[0mselect\u001b[0m\u001b[0;34m.\u001b[0m\u001b[0mselect\u001b[0m\u001b[0;34m(\u001b[0m\u001b[0mrlist\u001b[0m\u001b[0;34m,\u001b[0m \u001b[0mwlist\u001b[0m\u001b[0;34m,\u001b[0m \u001b[0;34m[\u001b[0m\u001b[0;34m]\u001b[0m\u001b[0;34m,\u001b[0m \u001b[0mtimeout\u001b[0m\u001b[0;34m)\u001b[0m\u001b[0;34m\u001b[0m\u001b[0;34m\u001b[0m\u001b[0m\n\u001b[0m\u001b[1;32m   1164\u001b[0m         \u001b[0;32mexcept\u001b[0m \u001b[0mTypeError\u001b[0m\u001b[0;34m:\u001b[0m\u001b[0;34m\u001b[0m\u001b[0;34m\u001b[0m\u001b[0m\n\u001b[1;32m   1165\u001b[0m             \u001b[0;31m# Socket isn't correct type, in likelihood connection is lost\u001b[0m\u001b[0;34m\u001b[0m\u001b[0;34m\u001b[0m\u001b[0;34m\u001b[0m\u001b[0m\n",
      "\u001b[0;31mKeyboardInterrupt\u001b[0m: "
     ]
    }
   ],
   "source": [
    "client.connect(HOST, PORT, 60)\n",
    "\n",
    "client.subscribe(TOPIC)\n",
    "\n",
    "client.loop_forever()"
   ]
  },
  {
   "cell_type": "code",
   "execution_count": null,
   "metadata": {},
   "outputs": [],
   "source": []
  },
  {
   "cell_type": "code",
   "execution_count": null,
   "metadata": {},
   "outputs": [],
   "source": []
  },
  {
   "cell_type": "code",
   "execution_count": null,
   "metadata": {},
   "outputs": [],
   "source": []
  },
  {
   "cell_type": "markdown",
   "metadata": {
    "collapsed": true
   },
   "source": [
    "# MARATONA BEHIND THE CODE 2020\n",
    "\n",
    "## DESAFIO 7 - TNT"
   ]
  },
  {
   "cell_type": "markdown",
   "metadata": {},
   "source": [
    "<hr>"
   ]
  },
  {
   "cell_type": "markdown",
   "metadata": {},
   "source": [
    "## Installing Libs"
   ]
  },
  {
   "cell_type": "code",
   "execution_count": null,
   "metadata": {},
   "outputs": [],
   "source": [
    "!pip install scikit-learn --upgrade"
   ]
  },
  {
   "cell_type": "code",
   "execution_count": null,
   "metadata": {},
   "outputs": [],
   "source": [
    "!pip install xgboost --upgrade"
   ]
  },
  {
   "cell_type": "code",
   "execution_count": null,
   "metadata": {},
   "outputs": [],
   "source": [
    "!pip install imblearn --upgrade"
   ]
  },
  {
   "cell_type": "markdown",
   "metadata": {},
   "source": [
    "<hr>"
   ]
  },
  {
   "cell_type": "markdown",
   "metadata": {},
   "source": [
    "## Download dos conjuntos de dados em formato .csv"
   ]
  },
  {
   "cell_type": "code",
   "execution_count": null,
   "metadata": {},
   "outputs": [],
   "source": [
    "import pandas as pd"
   ]
  },
  {
   "cell_type": "code",
   "execution_count": null,
   "metadata": {},
   "outputs": [],
   "source": [
    "# Insira aqui o pandasDataFrame."
   ]
  },
  {
   "cell_type": "code",
   "execution_count": null,
   "metadata": {},
   "outputs": [],
   "source": [
    "df_training_dataset = df_data_1\n",
    "df_training_dataset.tail()"
   ]
  },
  {
   "cell_type": "markdown",
   "metadata": {},
   "source": [
    "Sobre o arquivo \"training_dataset.csv\", temos algumas informações gerais sobre os usuários do app do BanCoppel:\n",
    "\n",
    "**Tempo**\n",
    "\n",
    "**Estação**\n",
    "\n",
    "**LAT**\n",
    "\n",
    "**LONG**\n",
    "\n",
    "**Movimentação**\n",
    "\n",
    "**Original_473**\n",
    "\n",
    "**Original_269**\n",
    "\n",
    "**Zero**\n",
    "\n",
    "**Maçã-Verde**\n",
    "\n",
    "**Tangerina**\n",
    "\n",
    "**Citrus**\n",
    "\n",
    "**Açaí-Guaraná**\n",
    "\n",
    "**Pêssego**\n",
    "\n",
    "**TARGET**"
   ]
  },
  {
   "cell_type": "code",
   "execution_count": null,
   "metadata": {},
   "outputs": [],
   "source": [
    "df_training_dataset.info()"
   ]
  },
  {
   "cell_type": "code",
   "execution_count": null,
   "metadata": {},
   "outputs": [],
   "source": [
    "df_training_dataset.nunique()"
   ]
  },
  {
   "cell_type": "markdown",
   "metadata": {},
   "source": [
    "<hr>\n",
    "\n",
    "## Detalhamento do desafio: classificação binária\n",
    "\n",
    "Este é um desafio cujo objetivo de negócio é a segmentação dos usuários de aplicativo de um banco. Para tal, podemos utilizar duas abordagens: aprendizado de máquina supervisionado (classificação) ou não-supervisionado (clustering). Neste desafio será aplicada a classificação, pois é disponível um dataset já com \"labels\", ou em outras palavras, já com exemplos de dados juntamente com a variável alvo.\n",
    "\n",
    "Na biblioteca scikit-learn temos diversos algoritmos para classificação. O participante é livre para utilizar o framework que desejar para completar esse desafio.\n",
    "\n",
    "Neste notebook será mostrado um exeplo de uso do algoritmo \"Decision Tree\" para classificar parte dos estudantes em seis diferentes perfís."
   ]
  },
  {
   "cell_type": "markdown",
   "metadata": {},
   "source": [
    "# Atenção!\n",
    "\n",
    "A coluna-alvo neste desafio é a coluna ``TARGET``"
   ]
  },
  {
   "cell_type": "markdown",
   "metadata": {},
   "source": [
    "<hr>"
   ]
  },
  {
   "cell_type": "code",
   "execution_count": null,
   "metadata": {},
   "outputs": [],
   "source": []
  },
  {
   "cell_type": "code",
   "execution_count": null,
   "metadata": {},
   "outputs": [],
   "source": []
  },
  {
   "cell_type": "code",
   "execution_count": null,
   "metadata": {},
   "outputs": [],
   "source": []
  },
  {
   "cell_type": "markdown",
   "metadata": {},
   "source": [
    "## Pre-processando o dataset antes do treinamento"
   ]
  },
  {
   "cell_type": "markdown",
   "metadata": {},
   "source": [
    "### Processando valores NaN com o SimpleImputer do sklearn\n",
    "\n",
    "Para os valores NaN, usaremos a substituição pela constante 0 como **exemplo**.\n",
    "\n",
    "Você pode escolher a estratégia que achar melhor para tratar os valores nulos :)\n",
    "\n",
    "Docs: https://scikit-learn.org/stable/modules/generated/sklearn.impute.SimpleImputer.html?highlight=simpleimputer#sklearn.impute.SimpleImputer"
   ]
  },
  {
   "cell_type": "code",
   "execution_count": null,
   "metadata": {},
   "outputs": [],
   "source": [
    "from sklearn.impute import SimpleImputer\n",
    "import numpy as np\n",
    "\n",
    "\n",
    "impute_zeros = SimpleImputer(\n",
    "    missing_values=np.nan,\n",
    "    strategy='constant',\n",
    "    fill_value=0,\n",
    "    verbose=0,\n",
    "    copy=True\n",
    ")"
   ]
  },
  {
   "cell_type": "code",
   "execution_count": null,
   "metadata": {},
   "outputs": [],
   "source": [
    "# Exibindo os dados ausentes do conjunto de dados antes da primeira transformação (df)\n",
    "print(\"Valores nulos no df_training_dataset antes da transformação SimpleImputer: \\n\\n{}\\n\".format(df_training_dataset.isnull().sum(axis = 0)))\n",
    "\n",
    "# Aplicando a transformação ``SimpleImputer`` no conjunto de dados base\n",
    "impute_zeros.fit(X=df_training_dataset)\n",
    "\n",
    "# Reconstruindo um Pandas DataFrame com os resultados\n",
    "df_training_dataset_imputed = pd.DataFrame.from_records(\n",
    "    data=impute_zeros.transform(\n",
    "        X=df_training_dataset\n",
    "    ),\n",
    "    columns=df_training_dataset.columns\n",
    ")\n",
    "\n",
    "# Exibindo os dados ausentes do conjunto de dados após a primeira transformação (df)\n",
    "print(\"Valores nulos no df_training_dataset após a transformação SimpleImputer: \\n\\n{}\\n\".format(df_training_dataset_imputed.isnull().sum(axis = 0)))"
   ]
  },
  {
   "cell_type": "markdown",
   "metadata": {},
   "source": [
    "### Eliminando colunas indesejadas\n",
    "\n",
    "Vamos **demonstrar** abaixo como usar o método **DataFrame.drop()**.\n",
    "\n",
    "Docs: https://pandas.pydata.org/pandas-docs/stable/reference/api/pandas.DataFrame.drop.html"
   ]
  },
  {
   "cell_type": "code",
   "execution_count": null,
   "metadata": {},
   "outputs": [],
   "source": [
    "df_training_dataset_imputed.tail()"
   ]
  },
  {
   "cell_type": "code",
   "execution_count": null,
   "metadata": {},
   "outputs": [],
   "source": [
    "df_training_dataset_rmcolumns = df_training_dataset_imputed.drop(columns=['Tempo', 'Estação', 'LAT', 'LONG', 'Movimentação'], inplace=False)"
   ]
  },
  {
   "cell_type": "code",
   "execution_count": null,
   "metadata": {},
   "outputs": [],
   "source": [
    "df_training_dataset_rmcolumns.tail()"
   ]
  },
  {
   "cell_type": "markdown",
   "metadata": {},
   "source": [
    "# Atenção!\n",
    "\n",
    "As colunas removidas acima são apenas para fim de exemplo, você pode usar as colunas que quiser e inclusive criar novas colunas com dados que achar importantes!\n"
   ]
  },
  {
   "cell_type": "markdown",
   "metadata": {},
   "source": [
    "### Tratamento de de variáveis categóricas\n",
    "\n",
    "Como mencionado antes, os computadores não são bons com variáveis \"categóricas\" (ou strings).\n",
    "\n",
    "Dado uma coluna com variável categórica, o que podemos realizar é a codificação dessa coluna em múltiplas colunas contendo variáveis binárias. Esse processo é chamado de \"one-hot-encoding\" ou \"dummy encoding\". Se você não é familiarizado com esses termos, você pode pesquisar mais sobre isso na internet :)"
   ]
  },
  {
   "cell_type": "code",
   "execution_count": null,
   "metadata": {},
   "outputs": [],
   "source": [
    "# Tratando variáveis categóricas com o método Pandas ``get_dummies()''\n",
    "# df_training = pd.get_dummies(df_training_dataset_rmcolumns, columns=['Variável a ser aplicado método getDumies()'])\n",
    "df_training = df_training_dataset_rmcolumns\n",
    "df_training.tail()"
   ]
  },
  {
   "cell_type": "markdown",
   "metadata": {},
   "source": [
    "# Atenção!\n",
    "\n",
    "A coluna **TARGET** deve ser mantida como uma string. Você não precisa processar/codificar a variável-alvo."
   ]
  },
  {
   "cell_type": "markdown",
   "metadata": {},
   "source": [
    "<hr>"
   ]
  },
  {
   "cell_type": "markdown",
   "metadata": {},
   "source": [
    "## Treinando um classificador com base em uma árvore de decisão"
   ]
  },
  {
   "cell_type": "markdown",
   "metadata": {},
   "source": [
    "### Selecionando FEATURES e definindo a variável TARGET"
   ]
  },
  {
   "cell_type": "code",
   "execution_count": null,
   "metadata": {},
   "outputs": [],
   "source": [
    "df_training.columns"
   ]
  },
  {
   "cell_type": "code",
   "execution_count": null,
   "metadata": {},
   "outputs": [],
   "source": [
    "features = df_training[\n",
    "    [\n",
    "        'Original_473', 'Original_269', 'Zero', 'Maçã-Verde', 'Tangerina',\n",
    "       'Citrus', 'Açaí-Guaraná', 'Pêssego'\n",
    "    ]\n",
    "]\n",
    "target = df_training['TARGET']  ## NÃO TROQUE O NOME DA VARIÁVEL TARGET."
   ]
  },
  {
   "cell_type": "markdown",
   "metadata": {},
   "source": [
    "### Dividindo nosso conjunto de dados em conjuntos de treinamento e teste"
   ]
  },
  {
   "cell_type": "code",
   "execution_count": null,
   "metadata": {},
   "outputs": [],
   "source": [
    "from sklearn.model_selection import train_test_split\n",
    "\n",
    "\n",
    "X_train, X_test, y_train, y_test = train_test_split(features, target, test_size=0.33, random_state=133)"
   ]
  },
  {
   "cell_type": "markdown",
   "metadata": {},
   "source": [
    "### Treinando uma árvore de decisão"
   ]
  },
  {
   "cell_type": "code",
   "execution_count": null,
   "metadata": {},
   "outputs": [],
   "source": [
    "# Método para criar um árvore de decisão\n",
    "from sklearn.tree import DecisionTreeClassifier\n",
    "\n",
    "\n",
    "dtc = DecisionTreeClassifier(max_depth=15).fit(X_train, y_train)"
   ]
  },
  {
   "cell_type": "markdown",
   "metadata": {},
   "source": [
    "### Fazendo previsões na amostra de teste"
   ]
  },
  {
   "cell_type": "code",
   "execution_count": null,
   "metadata": {},
   "outputs": [],
   "source": [
    "y_pred = dtc.predict(X_test)\n",
    "print(y_pred)"
   ]
  },
  {
   "cell_type": "markdown",
   "metadata": {},
   "source": [
    "### Analisando a qualidade do modelo através da matriz de confusão"
   ]
  },
  {
   "cell_type": "code",
   "execution_count": null,
   "metadata": {},
   "outputs": [],
   "source": [
    "import matplotlib.pyplot as plt\n",
    "import numpy as np\n",
    "import itertools\n",
    "\n",
    "\n",
    "def plot_confusion_matrix(cm, target_names, title='Confusion matrix', cmap=None, normalize=True):\n",
    "    accuracy = np.trace(cm) / float(np.sum(cm))\n",
    "    misclass = 1 - accuracy\n",
    "    if cmap is None:\n",
    "        cmap = plt.get_cmap('Blues')\n",
    "    plt.figure(figsize=(8, 6))\n",
    "    plt.imshow(cm, interpolation='nearest', cmap=cmap)\n",
    "    plt.title(title)\n",
    "    plt.colorbar()\n",
    "    if target_names is not None:\n",
    "        tick_marks = np.arange(len(target_names))\n",
    "        plt.xticks(tick_marks, target_names, rotation=45)\n",
    "        plt.yticks(tick_marks, target_names)\n",
    "    if normalize:\n",
    "        cm = cm.astype('float') / cm.sum(axis=1)[:, np.newaxis]\n",
    "    thresh = cm.max() / 1.5 if normalize else cm.max() / 2\n",
    "    for i, j in itertools.product(range(cm.shape[0]), range(cm.shape[1])):\n",
    "        if normalize:\n",
    "            plt.text(j, i, \"{:0.2f}\".format(cm[i, j]),\n",
    "                     horizontalalignment=\"center\",\n",
    "                     color=\"white\" if cm[i, j] > thresh else \"black\")\n",
    "        else:\n",
    "            plt.text(j, i, \"{:,}\".format(cm[i, j]),\n",
    "                     horizontalalignment=\"center\",\n",
    "                     color=\"white\" if cm[i, j] > thresh else \"black\")\n",
    "    plt.tight_layout()\n",
    "    plt.ylabel('True label')\n",
    "    plt.xlabel('Predicted label\\naccuracy={:0.4f}; misclass={:0.4f}'.format(accuracy, misclass))\n",
    "    plt.show()"
   ]
  },
  {
   "cell_type": "code",
   "execution_count": null,
   "metadata": {},
   "outputs": [],
   "source": [
    "from sklearn.metrics import confusion_matrix\n",
    "\n",
    "\n",
    "plot_confusion_matrix(confusion_matrix(y_test, y_pred), ['NORMAL', 'REABASTECER'])"
   ]
  },
  {
   "cell_type": "markdown",
   "metadata": {},
   "source": [
    "<hr>"
   ]
  },
  {
   "cell_type": "markdown",
   "metadata": {},
   "source": [
    "## Scoring dos dados necessários para entregar a solução"
   ]
  },
  {
   "cell_type": "markdown",
   "metadata": {},
   "source": [
    "Como entrega da sua solução, esperamos os resultados classificados no seguinte dataset chamado \"to_be_scored.csv\":"
   ]
  },
  {
   "cell_type": "markdown",
   "metadata": {},
   "source": [
    "### Download da \"folha de respostas\""
   ]
  },
  {
   "cell_type": "code",
   "execution_count": null,
   "metadata": {
    "scrolled": false
   },
   "outputs": [],
   "source": [
    "!wget --no-check-certificate --content-disposition https://gitlab.com/JoaoPedroPP/datasets/-/raw/master/ntn/to_be_scored.csv\n",
    "df_to_be_scored = pd.read_csv(r'to_be_scored.csv')\n",
    "df_to_be_scored.tail()"
   ]
  },
  {
   "cell_type": "code",
   "execution_count": null,
   "metadata": {},
   "outputs": [],
   "source": [
    "df_to_be_scored = pd.read_csv('to_be_scored.csv')\n",
    "df_to_be_scored.tail()"
   ]
  },
  {
   "cell_type": "markdown",
   "metadata": {},
   "source": [
    "# Atenção!\n",
    "\n",
    "O dataframe ``to_be_scored`` é a sua \"folha de respostas\". Note que a coluna \"TARGET\" não existe nessa amostra, que não pode ser então utilizada para treino de modelos de aprendizado supervisionado."
   ]
  },
  {
   "cell_type": "code",
   "execution_count": null,
   "metadata": {
    "scrolled": true
   },
   "outputs": [],
   "source": [
    "df_to_be_scored.info()"
   ]
  },
  {
   "cell_type": "markdown",
   "metadata": {},
   "source": [
    "<hr>\n",
    "\n",
    "# Atenção!\n",
    "\n",
    "# Para poder aplicar seu modelo e classificar a folha de respostas, você precisa primeiro aplicar as mesmas transformações com colunas que você aplicou no dataset de treino.\n",
    "\n",
    "# Não remova ou adicione linhas na folha de respostas. \n",
    "\n",
    "# Não altere a ordem das linhas na folha de respostas.\n",
    "\n",
    "# Ao final, as 1000 entradas devem estar classificadas, com os valores previstos em uma coluna chamada \"target\"\n",
    "\n",
    "<hr>"
   ]
  },
  {
   "cell_type": "markdown",
   "metadata": {},
   "source": [
    "Na célula abaixo, repetimos rapidamente os mesmos passos de pré-processamento usados no exemplo dado com árvore de decisão"
   ]
  },
  {
   "cell_type": "code",
   "execution_count": null,
   "metadata": {},
   "outputs": [],
   "source": [
    "# 1 - Removendo linhas com valores NaN\n",
    "df_to_be_scored_1 = df_to_be_scored.dropna(axis='index', how='any', subset=['Tempo', 'Estação', 'LAT', 'LONG', 'Movimentação', 'Original_473', 'Original_269', 'Zero', 'Maçã-Verde', 'Tangerina', 'Citrus', 'Açaí-Guaraná', 'Pêssego'])\n",
    "\n",
    "# 2 - Inputando zeros nos valores faltantes\n",
    "impute_zeros.fit(X=df_to_be_scored_1)\n",
    "df_to_be_scored_2 = pd.DataFrame.from_records(\n",
    "    data=impute_zeros.transform(\n",
    "        X=df_to_be_scored_1\n",
    "    ),\n",
    "    columns=df_to_be_scored_1.columns\n",
    ")\n",
    "\n",
    "# 3 - Remoção de colunas\n",
    "df_to_be_scored_3 = df_to_be_scored_2.drop(columns=['Tempo', 'Estação', 'LAT', 'LONG', 'Movimentação'], inplace=False)\n",
    "\n",
    "# 4 - Encoding com \"dummy variables\" (se necessário)\n",
    "# df_to_be_scored_4 = pd.get_dummies(df_to_be_scored_3, columns=['Váriavel com dummy'])\n",
    "df_to_be_scored_4 = df_to_be_scored_3\n",
    "\n",
    "df_to_be_scored_4.tail()"
   ]
  },
  {
   "cell_type": "markdown",
   "metadata": {},
   "source": [
    "<hr>\n",
    "\n",
    "Pode ser verificado abaixo que as colunas da folha de resposta agora são idênticas às que foram usadas para treinar o modelo:"
   ]
  },
  {
   "cell_type": "code",
   "execution_count": null,
   "metadata": {},
   "outputs": [],
   "source": [
    "df_training[\n",
    "    [\n",
    "        'Original_473', 'Original_269', 'Zero', 'Maçã-Verde', 'Tangerina',\n",
    "       'Citrus', 'Açaí-Guaraná', 'Pêssego'\n",
    "    ]\n",
    "].columns"
   ]
  },
  {
   "cell_type": "code",
   "execution_count": null,
   "metadata": {},
   "outputs": [],
   "source": [
    "df_to_be_scored_4.columns"
   ]
  },
  {
   "cell_type": "markdown",
   "metadata": {},
   "source": [
    "# Atenção\n",
    "\n",
    "Para todas colunas que não existirem no \"df_to_be_scored\", você pode usar a técnica abaixo para adicioná-las:"
   ]
  },
  {
   "cell_type": "code",
   "execution_count": null,
   "metadata": {
    "scrolled": false
   },
   "outputs": [],
   "source": [
    "y_pred = dtc.predict(df_to_be_scored_4)\n",
    "df_to_be_scored_4['TARGET'] = y_pred\n",
    "df_to_be_scored_4.tail()"
   ]
  },
  {
   "cell_type": "markdown",
   "metadata": {},
   "source": [
    "### Salvando a folha de respostas como um arquivo .csv para ser submetido"
   ]
  },
  {
   "cell_type": "code",
   "execution_count": null,
   "metadata": {},
   "outputs": [],
   "source": [
    "project.save_data(file_name=\"results.csv\", data=df_to_be_scored_4.to_csv(index=False))"
   ]
  },
  {
   "cell_type": "markdown",
   "metadata": {},
   "source": [
    "# Atenção\n",
    "\n",
    "# A execução da célula acima irá criar um novo \"data asset\" no seu projeto no Watson Studio. Você precisará realizar o download deste arquivo juntamente com este notebook e criar um arquivo zip com os arquivos **results.csv** e **notebook.ipynb** para submissão. (os arquivos devem estar nomeados desta forma)"
   ]
  },
  {
   "cell_type": "markdown",
   "metadata": {},
   "source": [
    "<hr>\n",
    "\n",
    "## Parabéns!\n",
    "\n",
    "Se você já está satisfeito com a sua solução, vá até a página abaixo e envie os arquivos necessários para submissão.\n",
    "\n",
    "# https://tnt.maratona.dev\n"
   ]
  },
  {
   "cell_type": "code",
   "execution_count": null,
   "metadata": {},
   "outputs": [],
   "source": []
  }
 ],
 "metadata": {
  "kernelspec": {
   "display_name": "Python 3",
   "language": "python",
   "name": "python3"
  },
  "language_info": {
   "codemirror_mode": {
    "name": "ipython",
    "version": 3
   },
   "file_extension": ".py",
   "mimetype": "text/x-python",
   "name": "python",
   "nbconvert_exporter": "python",
   "pygments_lexer": "ipython3",
   "version": "3.7.7"
  }
 },
 "nbformat": 4,
 "nbformat_minor": 1
}
