{
 "cells": [
  {
   "cell_type": "markdown",
   "metadata": {},
   "source": [
    "# MARATONA BEHIND THE CODE 2020\n",
    "\n",
    "## DESAFIO 7: TNT\n",
    "\n",
    "## Testes com modelo XGBoost Otimizado"
   ]
  },
  {
   "cell_type": "markdown",
   "metadata": {},
   "source": [
    "# Parte 01. Importando as bibliotecas"
   ]
  },
  {
   "cell_type": "code",
   "execution_count": 1,
   "metadata": {},
   "outputs": [],
   "source": [
    "# Pacotes padrao\n",
    "import pandas as pd\n",
    "import numpy as np\n",
    "import seaborn as sns\n",
    "import matplotlib.pylab as plt\n",
    "%matplotlib inline\n",
    "\n",
    "# Pacote do sklearn\n",
    "from sklearn.model_selection import train_test_split, KFold\n",
    "from sklearn.metrics import accuracy_score, confusion_matrix, classification_report, precision_score\n",
    "from sklearn.metrics import roc_auc_score, recall_score\n",
    "from sklearn.preprocessing import StandardScaler, MinMaxScaler\n",
    "\n",
    "# Pacote ML\n",
    "from xgboost import XGBClassifier\n",
    "import xgboost as xgb\n",
    "\n",
    "# Pacote para balanceamento dos dados\n",
    "from imblearn.over_sampling import SMOTE\n",
    "\n",
    "# Pacote para hyperparametros\n",
    "import optuna\n",
    "import functools\n",
    "\n",
    "# Desativando warnings no jupyter\n",
    "import warnings\n",
    "warnings.filterwarnings('ignore')"
   ]
  },
  {
   "cell_type": "markdown",
   "metadata": {},
   "source": [
    "# Parte 02. Carregando o dataset de treino"
   ]
  },
  {
   "cell_type": "code",
   "execution_count": 2,
   "metadata": {},
   "outputs": [
    {
     "name": "stdout",
     "output_type": "stream",
     "text": [
      "Quantidade de registros e colunas:  (17015, 15)\n"
     ]
    },
    {
     "data": {
      "text/html": [
       "<div>\n",
       "<style scoped>\n",
       "    .dataframe tbody tr th:only-of-type {\n",
       "        vertical-align: middle;\n",
       "    }\n",
       "\n",
       "    .dataframe tbody tr th {\n",
       "        vertical-align: top;\n",
       "    }\n",
       "\n",
       "    .dataframe thead th {\n",
       "        text-align: right;\n",
       "    }\n",
       "</style>\n",
       "<table border=\"1\" class=\"dataframe\">\n",
       "  <thead>\n",
       "    <tr style=\"text-align: right;\">\n",
       "      <th></th>\n",
       "      <th>Tempo</th>\n",
       "      <th>Estacao</th>\n",
       "      <th>LAT</th>\n",
       "      <th>LONG</th>\n",
       "      <th>Movimentacao</th>\n",
       "      <th>Original_473</th>\n",
       "      <th>Original_269</th>\n",
       "      <th>Zero</th>\n",
       "      <th>Maca_Verde</th>\n",
       "      <th>Tangerina</th>\n",
       "      <th>Citrus</th>\n",
       "      <th>Acai_Guarana</th>\n",
       "      <th>Pessego</th>\n",
       "      <th>TARGET</th>\n",
       "      <th>row</th>\n",
       "    </tr>\n",
       "  </thead>\n",
       "  <tbody>\n",
       "    <tr>\n",
       "      <th>0</th>\n",
       "      <td>2019-12-30</td>\n",
       "      <td>Fradique Coutinho</td>\n",
       "      <td>-23.5661</td>\n",
       "      <td>-46.6841</td>\n",
       "      <td>35386</td>\n",
       "      <td>24</td>\n",
       "      <td>45</td>\n",
       "      <td>61</td>\n",
       "      <td>42</td>\n",
       "      <td>19</td>\n",
       "      <td>22</td>\n",
       "      <td>15</td>\n",
       "      <td>9</td>\n",
       "      <td>NORMAL</td>\n",
       "      <td>10800</td>\n",
       "    </tr>\n",
       "    <tr>\n",
       "      <th>1</th>\n",
       "      <td>2018-01-08</td>\n",
       "      <td>Luz</td>\n",
       "      <td>-23.5365</td>\n",
       "      <td>-46.6332</td>\n",
       "      <td>124806</td>\n",
       "      <td>15</td>\n",
       "      <td>10</td>\n",
       "      <td>10</td>\n",
       "      <td>29</td>\n",
       "      <td>10</td>\n",
       "      <td>25</td>\n",
       "      <td>14</td>\n",
       "      <td>13</td>\n",
       "      <td>NORMAL</td>\n",
       "      <td>10808</td>\n",
       "    </tr>\n",
       "    <tr>\n",
       "      <th>2</th>\n",
       "      <td>2018-04-17</td>\n",
       "      <td>Luz</td>\n",
       "      <td>-23.5365</td>\n",
       "      <td>-46.6332</td>\n",
       "      <td>125215</td>\n",
       "      <td>53</td>\n",
       "      <td>1</td>\n",
       "      <td>55</td>\n",
       "      <td>18</td>\n",
       "      <td>18</td>\n",
       "      <td>6</td>\n",
       "      <td>37</td>\n",
       "      <td>8</td>\n",
       "      <td>REABASTECER</td>\n",
       "      <td>10907</td>\n",
       "    </tr>\n",
       "    <tr>\n",
       "      <th>3</th>\n",
       "      <td>2018-07-18</td>\n",
       "      <td>Luz</td>\n",
       "      <td>-23.5365</td>\n",
       "      <td>-46.6332</td>\n",
       "      <td>126476</td>\n",
       "      <td>36</td>\n",
       "      <td>5</td>\n",
       "      <td>57</td>\n",
       "      <td>38</td>\n",
       "      <td>15</td>\n",
       "      <td>43</td>\n",
       "      <td>43</td>\n",
       "      <td>18</td>\n",
       "      <td>REABASTECER</td>\n",
       "      <td>10998</td>\n",
       "    </tr>\n",
       "    <tr>\n",
       "      <th>4</th>\n",
       "      <td>2018-08-28</td>\n",
       "      <td>Luz</td>\n",
       "      <td>-23.5365</td>\n",
       "      <td>-46.6332</td>\n",
       "      <td>125917</td>\n",
       "      <td>79</td>\n",
       "      <td>10</td>\n",
       "      <td>8</td>\n",
       "      <td>37</td>\n",
       "      <td>32</td>\n",
       "      <td>30</td>\n",
       "      <td>18</td>\n",
       "      <td>15</td>\n",
       "      <td>NORMAL</td>\n",
       "      <td>11038</td>\n",
       "    </tr>\n",
       "  </tbody>\n",
       "</table>\n",
       "</div>"
      ],
      "text/plain": [
       "        Tempo            Estacao      LAT     LONG  Movimentacao  \\\n",
       "0  2019-12-30  Fradique Coutinho -23.5661 -46.6841         35386   \n",
       "1  2018-01-08                Luz -23.5365 -46.6332        124806   \n",
       "2  2018-04-17                Luz -23.5365 -46.6332        125215   \n",
       "3  2018-07-18                Luz -23.5365 -46.6332        126476   \n",
       "4  2018-08-28                Luz -23.5365 -46.6332        125917   \n",
       "\n",
       "   Original_473  Original_269  Zero  Maca_Verde  Tangerina  Citrus  \\\n",
       "0            24            45    61          42         19      22   \n",
       "1            15            10    10          29         10      25   \n",
       "2            53             1    55          18         18       6   \n",
       "3            36             5    57          38         15      43   \n",
       "4            79            10     8          37         32      30   \n",
       "\n",
       "   Acai_Guarana  Pessego       TARGET    row  \n",
       "0            15        9       NORMAL  10800  \n",
       "1            14       13       NORMAL  10808  \n",
       "2            37        8  REABASTECER  10907  \n",
       "3            43       18  REABASTECER  10998  \n",
       "4            18       15       NORMAL  11038  "
      ]
     },
     "execution_count": 2,
     "metadata": {},
     "output_type": "execute_result"
    }
   ],
   "source": [
    "# Criando um dataframe a partir da lista de dados vindo do IoT e gravados no NoSQL\n",
    "treino = pd.read_csv(r'train_17015.csv')\n",
    "print('Quantidade de registros e colunas: ',treino.shape)\n",
    "treino.head()"
   ]
  },
  {
   "cell_type": "code",
   "execution_count": 3,
   "metadata": {
    "scrolled": true
   },
   "outputs": [
    {
     "name": "stdout",
     "output_type": "stream",
     "text": [
      "<class 'pandas.core.frame.DataFrame'>\n",
      "RangeIndex: 17015 entries, 0 to 17014\n",
      "Data columns (total 15 columns):\n",
      " #   Column        Non-Null Count  Dtype  \n",
      "---  ------        --------------  -----  \n",
      " 0   Tempo         16921 non-null  object \n",
      " 1   Estacao       17015 non-null  object \n",
      " 2   LAT           17015 non-null  float64\n",
      " 3   LONG          17015 non-null  float64\n",
      " 4   Movimentacao  17015 non-null  int64  \n",
      " 5   Original_473  17015 non-null  int64  \n",
      " 6   Original_269  17015 non-null  int64  \n",
      " 7   Zero          17015 non-null  int64  \n",
      " 8   Maca_Verde    17015 non-null  int64  \n",
      " 9   Tangerina     17015 non-null  int64  \n",
      " 10  Citrus        17015 non-null  int64  \n",
      " 11  Acai_Guarana  17015 non-null  int64  \n",
      " 12  Pessego       17015 non-null  int64  \n",
      " 13  TARGET        17015 non-null  object \n",
      " 14  row           17015 non-null  int64  \n",
      "dtypes: float64(2), int64(10), object(3)\n",
      "memory usage: 1.9+ MB\n"
     ]
    }
   ],
   "source": [
    "# Visualizando o tipo dos dados\n",
    "treino.info()"
   ]
  },
  {
   "cell_type": "code",
   "execution_count": 4,
   "metadata": {},
   "outputs": [
    {
     "data": {
      "text/html": [
       "<div>\n",
       "<style scoped>\n",
       "    .dataframe tbody tr th:only-of-type {\n",
       "        vertical-align: middle;\n",
       "    }\n",
       "\n",
       "    .dataframe tbody tr th {\n",
       "        vertical-align: top;\n",
       "    }\n",
       "\n",
       "    .dataframe thead th {\n",
       "        text-align: right;\n",
       "    }\n",
       "</style>\n",
       "<table border=\"1\" class=\"dataframe\">\n",
       "  <thead>\n",
       "    <tr style=\"text-align: right;\">\n",
       "      <th></th>\n",
       "      <th>TARGET</th>\n",
       "      <th>%</th>\n",
       "    </tr>\n",
       "  </thead>\n",
       "  <tbody>\n",
       "    <tr>\n",
       "      <th>NORMAL</th>\n",
       "      <td>11517</td>\n",
       "      <td>67.687</td>\n",
       "    </tr>\n",
       "    <tr>\n",
       "      <th>REABASTECER</th>\n",
       "      <td>5498</td>\n",
       "      <td>32.313</td>\n",
       "    </tr>\n",
       "  </tbody>\n",
       "</table>\n",
       "</div>"
      ],
      "text/plain": [
       "             TARGET       %\n",
       "NORMAL        11517  67.687\n",
       "REABASTECER    5498  32.313"
      ]
     },
     "execution_count": 4,
     "metadata": {},
     "output_type": "execute_result"
    },
    {
     "data": {
      "image/png": "[encoded data removed]",
      "text/plain": [
       "<Figure size 432x288 with 1 Axes>"
      ]
     },
     "metadata": {
      "needs_background": "light"
     },
     "output_type": "display_data"
    }
   ],
   "source": [
    "# Visualizando a distribuição das classes (variavel TARGET)\n",
    "pd.value_counts(treino['TARGET']).plot.bar()\n",
    "plt.title('TARGET histogram')\n",
    "plt.xlabel('TARGET')\n",
    "plt.ylabel('Frequency')\n",
    "\n",
    "# Visualizando um df com quantidade e percentual da variavel TARGET\n",
    "tmp = pd.DataFrame(treino['TARGET'].value_counts())\n",
    "tmp['%'] = round(100*tmp['TARGET']/tmp['TARGET'].sum(),3)\n",
    "tmp"
   ]
  },
  {
   "cell_type": "markdown",
   "metadata": {},
   "source": [
    "# Parte 03. Feature Engineering"
   ]
  },
  {
   "cell_type": "code",
   "execution_count": 5,
   "metadata": {},
   "outputs": [
    {
     "data": {
      "text/html": [
       "<div>\n",
       "<style scoped>\n",
       "    .dataframe tbody tr th:only-of-type {\n",
       "        vertical-align: middle;\n",
       "    }\n",
       "\n",
       "    .dataframe tbody tr th {\n",
       "        vertical-align: top;\n",
       "    }\n",
       "\n",
       "    .dataframe thead th {\n",
       "        text-align: right;\n",
       "    }\n",
       "</style>\n",
       "<table border=\"1\" class=\"dataframe\">\n",
       "  <thead>\n",
       "    <tr style=\"text-align: right;\">\n",
       "      <th></th>\n",
       "      <th>Original_473</th>\n",
       "      <th>Original_269</th>\n",
       "      <th>Zero</th>\n",
       "      <th>Maca_Verde</th>\n",
       "      <th>Tangerina</th>\n",
       "      <th>Citrus</th>\n",
       "      <th>Acai_Guarana</th>\n",
       "      <th>Pessego</th>\n",
       "      <th>TARGET</th>\n",
       "    </tr>\n",
       "  </thead>\n",
       "  <tbody>\n",
       "    <tr>\n",
       "      <th>0</th>\n",
       "      <td>24</td>\n",
       "      <td>45</td>\n",
       "      <td>61</td>\n",
       "      <td>42</td>\n",
       "      <td>19</td>\n",
       "      <td>22</td>\n",
       "      <td>15</td>\n",
       "      <td>9</td>\n",
       "      <td>NORMAL</td>\n",
       "    </tr>\n",
       "    <tr>\n",
       "      <th>1</th>\n",
       "      <td>15</td>\n",
       "      <td>10</td>\n",
       "      <td>10</td>\n",
       "      <td>29</td>\n",
       "      <td>10</td>\n",
       "      <td>25</td>\n",
       "      <td>14</td>\n",
       "      <td>13</td>\n",
       "      <td>NORMAL</td>\n",
       "    </tr>\n",
       "    <tr>\n",
       "      <th>2</th>\n",
       "      <td>53</td>\n",
       "      <td>1</td>\n",
       "      <td>55</td>\n",
       "      <td>18</td>\n",
       "      <td>18</td>\n",
       "      <td>6</td>\n",
       "      <td>37</td>\n",
       "      <td>8</td>\n",
       "      <td>REABASTECER</td>\n",
       "    </tr>\n",
       "    <tr>\n",
       "      <th>3</th>\n",
       "      <td>36</td>\n",
       "      <td>5</td>\n",
       "      <td>57</td>\n",
       "      <td>38</td>\n",
       "      <td>15</td>\n",
       "      <td>43</td>\n",
       "      <td>43</td>\n",
       "      <td>18</td>\n",
       "      <td>REABASTECER</td>\n",
       "    </tr>\n",
       "    <tr>\n",
       "      <th>4</th>\n",
       "      <td>79</td>\n",
       "      <td>10</td>\n",
       "      <td>8</td>\n",
       "      <td>37</td>\n",
       "      <td>32</td>\n",
       "      <td>30</td>\n",
       "      <td>18</td>\n",
       "      <td>15</td>\n",
       "      <td>NORMAL</td>\n",
       "    </tr>\n",
       "  </tbody>\n",
       "</table>\n",
       "</div>"
      ],
      "text/plain": [
       "   Original_473  Original_269  Zero  Maca_Verde  Tangerina  Citrus  \\\n",
       "0            24            45    61          42         19      22   \n",
       "1            15            10    10          29         10      25   \n",
       "2            53             1    55          18         18       6   \n",
       "3            36             5    57          38         15      43   \n",
       "4            79            10     8          37         32      30   \n",
       "\n",
       "   Acai_Guarana  Pessego       TARGET  \n",
       "0            15        9       NORMAL  \n",
       "1            14       13       NORMAL  \n",
       "2            37        8  REABASTECER  \n",
       "3            43       18  REABASTECER  \n",
       "4            18       15       NORMAL  "
      ]
     },
     "execution_count": 5,
     "metadata": {},
     "output_type": "execute_result"
    }
   ],
   "source": [
    "# Removendo colunas que não serão utilizadas no treinamento\n",
    "treino = treino.drop(['Tempo','Estacao','Movimentacao','LAT','LONG', 'row'], axis = 1)\n",
    "\n",
    "# Converte colunas para numerico\n",
    "treino = treino.apply(pd.to_numeric, errors='ignore')\n",
    "\n",
    "# Visualizando os primeiros registros\n",
    "treino.head()"
   ]
  },
  {
   "cell_type": "markdown",
   "metadata": {},
   "source": [
    "# Parte 04. Modelagem Preditiva\n",
    "> - Nesta fase estarei construindo os modelos preditivos\n",
    "> - Vou utilizar o modelo XGB para treinamento"
   ]
  },
  {
   "cell_type": "code",
   "execution_count": 6,
   "metadata": {},
   "outputs": [],
   "source": [
    "# Definindo alguns parametros\n",
    "SEED  = 42"
   ]
  },
  {
   "cell_type": "code",
   "execution_count": 7,
   "metadata": {},
   "outputs": [],
   "source": [
    "from sklearn.model_selection import StratifiedShuffleSplit\n",
    "\n",
    "#### ***** Função para criar os dados de treino e teste/validação utilizando amostragem estratificada:\n",
    "####\n",
    "def train_test_split_strat(data, target, n_splits=1, test_size=0.2, random_state=42):\n",
    "    # Criando a instância:\n",
    "    split = StratifiedShuffleSplit(n_splits=n_splits, test_size=test_size, random_state=random_state)\n",
    "\n",
    "    # Criando os datasets de treino e teste utilizando amostragem estratificada:\n",
    "    for train_index, test_index in split.split(data, data[target]):\n",
    "        strat_train_set = data.loc[train_index]\n",
    "        strat_test_set = data.loc[test_index]\n",
    "\n",
    "    # Reset no índice do dataset de treino:\n",
    "    strat_train_set.reset_index(drop=True, inplace=True)\n",
    "\n",
    "    # Reset no índice do dataset de teste:\n",
    "    strat_test_set.reset_index(drop=True, inplace=True)\n",
    "\n",
    "    # Definição das colunas que serão features (variáveis preditoras):\n",
    "    features = list(data.columns) # cria uma lista com todas as variáveis do dataset.\n",
    "    features.remove(target) # remove a variável target.\n",
    "\n",
    "    # Criação dos dados de treino:\n",
    "    X_train = strat_train_set[features]\n",
    "    y_train = strat_train_set[target]\n",
    "\n",
    "    # Criação dos dados de teste:\n",
    "    X_test = strat_test_set[features]\n",
    "    y_test = strat_test_set[target]\n",
    "    \n",
    "    # Mostrando o resultado (número de observações em cada dataset):\n",
    "    print(len(strat_train_set), \"train +\", len(strat_test_set), \"test/valid\", \"=\", (len(strat_train_set)+len(strat_test_set)),\n",
    "          \"total\")\n",
    "    \n",
    "    y_train = y_train.astype(\"category\").cat.codes\n",
    "    y_test = y_test.astype(\"category\").cat.codes\n",
    "    \n",
    "    \n",
    "    X_train = StandardScaler().fit_transform(X_train)\n",
    "    X_test = StandardScaler().fit_transform(X_test)\n",
    "    \n",
    "    # Retorna os dados de treino e teste:\n",
    "    return (X_train, y_train, X_test, y_test)\n",
    "    "
   ]
  },
  {
   "cell_type": "code",
   "execution_count": 8,
   "metadata": {},
   "outputs": [
    {
     "name": "stdout",
     "output_type": "stream",
     "text": [
      "13612 train + 3403 test/valid = 17015 total\n"
     ]
    }
   ],
   "source": [
    "# Split dos dados\n",
    "X_treino, y_treino, X_teste, y_teste = train_test_split_strat(treino, 'TARGET', test_size = .2, random_state = SEED)    "
   ]
  },
  {
   "cell_type": "markdown",
   "metadata": {},
   "source": [
    "### Sem Balanceamento dos dados"
   ]
  },
  {
   "cell_type": "code",
   "execution_count": 9,
   "metadata": {},
   "outputs": [
    {
     "name": "stdout",
     "output_type": "stream",
     "text": [
      "Acurácia: 75.49%\n",
      "Sensibilidade : 0.6972727272727273\n",
      "Especificidade : 0.7824576639166305\n",
      "\n",
      "\n",
      "              precision    recall  f1-score   support\n",
      "\n",
      "           0       0.84      0.78      0.81      2303\n",
      "           1       0.60      0.70      0.65      1100\n",
      "\n",
      "    accuracy                           0.75      3403\n",
      "   macro avg       0.72      0.74      0.73      3403\n",
      "weighted avg       0.77      0.75      0.76      3403\n",
      "\n"
     ]
    },
    {
     "data": {
      "image/png": "[encoded data removed]",
      "text/plain": [
       "<Figure size 432x432 with 2 Axes>"
      ]
     },
     "metadata": {},
     "output_type": "display_data"
    }
   ],
   "source": [
    "# Criando o modelo\n",
    "modelo_xgb_v1 = XGBClassifier()\n",
    "\n",
    "# Treinando o modelo\n",
    "modelo_xgb_v1.fit(X_treino, y_treino)\n",
    "\n",
    "# Fazendo previsões\n",
    "xgb_y_pred = modelo_xgb_v1.predict(X_teste)\n",
    "previsoes = [round(value) for value in xgb_y_pred]\n",
    "\n",
    "# Avaliando as previsões\n",
    "xgb_score_v1 = accuracy_score(y_teste, previsoes)\n",
    "print(\"Acurácia: %.2f%%\" % (xgb_score_v1 * 100.0))\n",
    "\n",
    "# Cria a matriz de confusão\n",
    "conf_matriz_xgb = confusion_matrix(y_teste, xgb_y_pred)\n",
    "    \n",
    "# Calcula especificidade e sensibilidade\n",
    "speci_xgb = conf_matriz_xgb[0,0] / (conf_matriz_xgb[0,0] + conf_matriz_xgb[0,1])\n",
    "sensi_xgb = conf_matriz_xgb[1,1] / (conf_matriz_xgb[1,0] + conf_matriz_xgb[1,1])\n",
    "\n",
    "# Print\n",
    "print('Sensibilidade :', sensi_xgb)\n",
    "print('Especificidade :', speci_xgb)\n",
    "print('\\n')\n",
    "\n",
    "# Matriz de Confusão gráfica\n",
    "sns.set(rc={'figure.figsize':(6, 6)})\n",
    "sns.heatmap(conf_matriz_xgb, \n",
    "            annot = True, \n",
    "            fmt = \".0f\", \n",
    "            linewidths = .5, \n",
    "            square = True, \n",
    "            cmap = 'RdBu_r')\n",
    "\n",
    "# Labels e Títulos\n",
    "plt.ylabel('Label Verdadeiro')\n",
    "plt.xlabel('Label Previsto')\n",
    "plt.title('Acurácia: {:.2f}'.format(xgb_score_v1), size = 15)\n",
    "\n",
    "# Relatório de Classificação\n",
    "print(classification_report(y_teste, xgb_y_pred))"
   ]
  },
  {
   "cell_type": "markdown",
   "metadata": {},
   "source": [
    "### Com Balanceamento dos dados"
   ]
  },
  {
   "cell_type": "code",
   "execution_count": 10,
   "metadata": {},
   "outputs": [],
   "source": [
    "# Aplicando a funcao SMOTE\n",
    "sm = SMOTE(random_state=SEED)\n",
    "X_treino_bal, y_treino_bal = sm.fit_sample(X_treino, y_treino)"
   ]
  },
  {
   "cell_type": "code",
   "execution_count": 11,
   "metadata": {
    "scrolled": false
   },
   "outputs": [
    {
     "name": "stdout",
     "output_type": "stream",
     "text": [
      "Acurácia: 61.12%\n",
      "Sensibilidade : 0.9981818181818182\n",
      "Especificidade : 0.42640034737299176\n",
      "\n",
      "\n",
      "              precision    recall  f1-score   support\n",
      "\n",
      "           0       1.00      0.43      0.60      2303\n",
      "           1       0.45      1.00      0.62      1100\n",
      "\n",
      "    accuracy                           0.61      3403\n",
      "   macro avg       0.73      0.71      0.61      3403\n",
      "weighted avg       0.82      0.61      0.61      3403\n",
      "\n"
     ]
    },
    {
     "data": {
      "image/png": "[encoded data removed]",
      "text/plain": [
       "<Figure size 432x432 with 2 Axes>"
      ]
     },
     "metadata": {},
     "output_type": "display_data"
    }
   ],
   "source": [
    "# Criando o modelo\n",
    "modelo_xgb_v2 = XGBClassifier()\n",
    "\n",
    "# Treinando o modelo\n",
    "modelo_xgb_v2.fit(X_treino_bal, y_treino_bal)\n",
    "\n",
    "# Fazendo previsões\n",
    "xgb_y_pred = modelo_xgb_v2.predict(X_teste)\n",
    "previsoes = [round(value) for value in xgb_y_pred]\n",
    "\n",
    "# Avaliando as previsões\n",
    "xgb_score_v2 = accuracy_score(y_teste, previsoes)\n",
    "print(\"Acurácia: %.2f%%\" % (xgb_score_v2 * 100.0))\n",
    "\n",
    "# Cria a matriz de confusão\n",
    "conf_matriz_xgb = confusion_matrix(y_teste, xgb_y_pred)\n",
    "    \n",
    "# Calcula especificidade e sensibilidade\n",
    "speci_xgb = conf_matriz_xgb[0,0] / (conf_matriz_xgb[0,0] + conf_matriz_xgb[0,1])\n",
    "sensi_xgb = conf_matriz_xgb[1,1] / (conf_matriz_xgb[1,0] + conf_matriz_xgb[1,1])\n",
    "\n",
    "# Print\n",
    "print('Sensibilidade :', sensi_xgb)\n",
    "print('Especificidade :', speci_xgb)\n",
    "print('\\n')\n",
    "\n",
    "# Matriz de Confusão gráfica\n",
    "sns.set(rc={'figure.figsize':(6, 6)})\n",
    "sns.heatmap(conf_matriz_xgb, \n",
    "            annot = True, \n",
    "            fmt = \".0f\", \n",
    "            linewidths = .5, \n",
    "            square = True, \n",
    "            cmap = 'RdBu_r')\n",
    "\n",
    "# Labels e Títulos\n",
    "plt.ylabel('Label Verdadeiro')\n",
    "plt.xlabel('Label Previsto')\n",
    "plt.title('Acurácia: {:.2f}'.format(xgb_score_v2), size = 15)\n",
    "\n",
    "# Relatório de Classificação\n",
    "print(classification_report(y_teste, xgb_y_pred))"
   ]
  },
  {
   "cell_type": "markdown",
   "metadata": {},
   "source": [
    "### Identificando os melhores Hyperparametros"
   ]
  },
  {
   "cell_type": "code",
   "execution_count": 12,
   "metadata": {},
   "outputs": [],
   "source": [
    "def objective(trial):\n",
    "\n",
    "    dtrain = xgb.DMatrix(X_treino, label=y_treino)\n",
    "    dvalid = xgb.DMatrix(X_teste, label=y_teste)\n",
    "\n",
    "    param = {\n",
    "        \"silent\": 1,\n",
    "        \"objective\": \"binary:logistic\",\n",
    "        \"eval_metric\": \"auc\",\n",
    "        \"booster\": trial.suggest_categorical(\"booster\", [\"gbtree\", \"gblinear\", \"dart\"]),\n",
    "        \"lambda\": trial.suggest_float(\"lambda\", 1e-8, 1.0, log=True),\n",
    "        \"alpha\": trial.suggest_float(\"alpha\", 1e-8, 1.0, log=True),\n",
    "    }\n",
    "\n",
    "    if param[\"booster\"] == \"gbtree\" or param[\"booster\"] == \"dart\":\n",
    "        param[\"max_depth\"] = trial.suggest_int(\"max_depth\", 1, 9)\n",
    "        param[\"eta\"] = trial.suggest_float(\"eta\", 1e-8, 1.0, log=True)\n",
    "        param[\"gamma\"] = trial.suggest_float(\"gamma\", 1e-8, 1.0, log=True)\n",
    "        param[\"grow_policy\"] = trial.suggest_categorical(\"grow_policy\", [\"depthwise\", \"lossguide\"])\n",
    "    if param[\"booster\"] == \"dart\":\n",
    "        param[\"sample_type\"] = trial.suggest_categorical(\"sample_type\", [\"uniform\", \"weighted\"])\n",
    "        param[\"normalize_type\"] = trial.suggest_categorical(\"normalize_type\", [\"tree\", \"forest\"])\n",
    "        param[\"rate_drop\"] = trial.suggest_float(\"rate_drop\", 1e-8, 1.0, log=True)\n",
    "        param[\"skip_drop\"] = trial.suggest_float(\"skip_drop\", 1e-8, 1.0, log=True)\n",
    "\n",
    "    # Add a callback for pruning.\n",
    "    pruning_callback = optuna.integration.XGBoostPruningCallback(trial, \"validation-auc\")\n",
    "    bst = xgb.train(param, dtrain, evals=[(dvalid, \"validation\")], callbacks=[pruning_callback])\n",
    "    preds = bst.predict(dvalid)\n",
    "    pred_labels = np.rint(preds)\n",
    "    accuracy = accuracy_score(y_teste, pred_labels)\n",
    "    return accuracy"
   ]
  },
  {
   "cell_type": "code",
   "execution_count": 13,
   "metadata": {
    "scrolled": true
   },
   "outputs": [
    {
     "name": "stderr",
     "output_type": "stream",
     "text": [
      "[I 2020-09-11 19:10:30,558] A new study created in memory with name: no-name-7cc2b64c-bd2f-45b8-8ec4-153a57530ede\n"
     ]
    },
    {
     "name": "stdout",
     "output_type": "stream",
     "text": [
      "[19:10:30] WARNING: ../src/learner.cc:516: \n",
      "Parameters: { silent } might not be used.\n",
      "\n",
      "  This may not be accurate due to some parameters are only used in language bindings but\n",
      "  passed down to XGBoost core.  Or some parameters are not used but slip through this\n",
      "  verification. Please open an issue if you find above cases.\n",
      "\n",
      "\n",
      "[0]\tvalidation-auc:0.50000\n",
      "[1]\tvalidation-auc:0.50000\n",
      "[2]\tvalidation-auc:0.50000\n",
      "[3]\tvalidation-auc:0.50000\n",
      "[4]\tvalidation-auc:0.50000\n",
      "[5]\tvalidation-auc:0.50000\n",
      "[6]\tvalidation-auc:0.50000\n",
      "[7]\tvalidation-auc:0.50000\n",
      "[8]\tvalidation-auc:0.50000\n",
      "[9]\tvalidation-auc:0.50000\n"
     ]
    },
    {
     "name": "stderr",
     "output_type": "stream",
     "text": [
      "[I 2020-09-11 19:10:30,591] Trial 0 finished with value: 0.6767558037026153 and parameters: {'booster': 'gblinear', 'lambda': 2.908049070853509e-08, 'alpha': 0.07375617228526164}. Best is trial 0 with value: 0.6767558037026153.\n"
     ]
    },
    {
     "name": "stdout",
     "output_type": "stream",
     "text": [
      "[19:10:30] WARNING: ../src/learner.cc:516: \n",
      "Parameters: { silent } might not be used.\n",
      "\n",
      "  This may not be accurate due to some parameters are only used in language bindings but\n",
      "  passed down to XGBoost core.  Or some parameters are not used but slip through this\n",
      "  verification. Please open an issue if you find above cases.\n",
      "\n",
      "\n",
      "[0]\tvalidation-auc:0.67611\n",
      "[1]\tvalidation-auc:0.67636\n",
      "[2]\tvalidation-auc:0.67655\n",
      "[3]\tvalidation-auc:0.67668\n",
      "[4]\tvalidation-auc:0.67675\n",
      "[5]\tvalidation-auc:0.67684\n",
      "[6]\tvalidation-auc:0.67687\n",
      "[7]\tvalidation-auc:0.67688\n",
      "[8]\tvalidation-auc:0.67690\n",
      "[9]\tvalidation-auc:0.67691\n"
     ]
    },
    {
     "name": "stderr",
     "output_type": "stream",
     "text": [
      "[I 2020-09-11 19:10:30,619] Trial 1 finished with value: 0.6738172200999119 and parameters: {'booster': 'gblinear', 'lambda': 2.7561645720265763e-08, 'alpha': 0.00018601709017051777}. Best is trial 0 with value: 0.6767558037026153.\n"
     ]
    },
    {
     "name": "stdout",
     "output_type": "stream",
     "text": [
      "[19:10:30] WARNING: ../src/learner.cc:516: \n",
      "Parameters: { silent } might not be used.\n",
      "\n",
      "  This may not be accurate due to some parameters are only used in language bindings but\n",
      "  passed down to XGBoost core.  Or some parameters are not used but slip through this\n",
      "  verification. Please open an issue if you find above cases.\n",
      "\n",
      "\n",
      "[0]\tvalidation-auc:0.50000\n",
      "[1]\tvalidation-auc:0.50000\n",
      "[2]\tvalidation-auc:0.50573\n",
      "[3]\tvalidation-auc:0.51981\n",
      "[4]\tvalidation-auc:0.53596\n",
      "[5]\tvalidation-auc:0.81670\n",
      "[6]\tvalidation-auc:0.81805\n",
      "[7]\tvalidation-auc:0.81585\n",
      "[8]\tvalidation-auc:0.81349\n",
      "[9]\tvalidation-auc:0.81706\n"
     ]
    },
    {
     "name": "stderr",
     "output_type": "stream",
     "text": [
      "[I 2020-09-11 19:10:30,682] Trial 2 finished with value: 0.7123126652953277 and parameters: {'booster': 'gbtree', 'lambda': 0.0023509799802832088, 'alpha': 0.26728813965072307, 'max_depth': 7, 'eta': 1.722012642054485e-08, 'gamma': 0.29794186586532, 'grow_policy': 'lossguide'}. Best is trial 2 with value: 0.7123126652953277.\n"
     ]
    },
    {
     "name": "stdout",
     "output_type": "stream",
     "text": [
      "[19:10:30] WARNING: ../src/learner.cc:516: \n",
      "Parameters: { silent } might not be used.\n",
      "\n",
      "  This may not be accurate due to some parameters are only used in language bindings but\n",
      "  passed down to XGBoost core.  Or some parameters are not used but slip through this\n",
      "  verification. Please open an issue if you find above cases.\n",
      "\n",
      "\n",
      "[0]\tvalidation-auc:0.74803\n",
      "[1]\tvalidation-auc:0.78895\n",
      "[2]\tvalidation-auc:0.81884\n",
      "[3]\tvalidation-auc:0.84353\n",
      "[4]\tvalidation-auc:0.84678\n",
      "[5]\tvalidation-auc:0.84452\n",
      "[6]\tvalidation-auc:0.84464\n",
      "[7]\tvalidation-auc:0.84712\n",
      "[8]\tvalidation-auc:0.84531\n",
      "[9]\tvalidation-auc:0.84691\n"
     ]
    },
    {
     "name": "stderr",
     "output_type": "stream",
     "text": [
      "[I 2020-09-11 19:10:30,734] Trial 3 finished with value: 0.7352336173964149 and parameters: {'booster': 'dart', 'lambda': 0.0002355301333444254, 'alpha': 0.0033823739732432956, 'max_depth': 5, 'eta': 0.09358047309852456, 'gamma': 5.919075613615298e-08, 'grow_policy': 'depthwise', 'sample_type': 'weighted', 'normalize_type': 'forest', 'rate_drop': 2.1002575686844154e-08, 'skip_drop': 2.7968409535171028e-05}. Best is trial 3 with value: 0.7352336173964149.\n"
     ]
    },
    {
     "name": "stdout",
     "output_type": "stream",
     "text": [
      "[19:10:30] WARNING: ../src/learner.cc:516: \n",
      "Parameters: { silent } might not be used.\n",
      "\n",
      "  This may not be accurate due to some parameters are only used in language bindings but\n",
      "  passed down to XGBoost core.  Or some parameters are not used but slip through this\n",
      "  verification. Please open an issue if you find above cases.\n",
      "\n",
      "\n",
      "[0]\tvalidation-auc:0.50000\n",
      "[1]\tvalidation-auc:0.50000\n",
      "[2]\tvalidation-auc:0.50000\n",
      "[3]\tvalidation-auc:0.50506\n",
      "[4]\tvalidation-auc:0.50558\n",
      "[5]\tvalidation-auc:0.50969\n",
      "[6]\tvalidation-auc:0.50969\n",
      "[7]\tvalidation-auc:0.51222\n",
      "[8]\tvalidation-auc:0.74719\n",
      "[9]\tvalidation-auc:0.74705\n"
     ]
    },
    {
     "name": "stderr",
     "output_type": "stream",
     "text": [
      "[I 2020-09-11 19:10:30,780] Trial 4 finished with value: 0.6893917131942404 and parameters: {'booster': 'gbtree', 'lambda': 0.0017513228022351102, 'alpha': 0.00010362387829861405, 'max_depth': 5, 'eta': 1.4153912684335672e-08, 'gamma': 0.02806805387823801, 'grow_policy': 'lossguide'}. Best is trial 3 with value: 0.7352336173964149.\n"
     ]
    },
    {
     "name": "stdout",
     "output_type": "stream",
     "text": [
      "[19:10:30] WARNING: ../src/learner.cc:516: \n",
      "Parameters: { silent } might not be used.\n",
      "\n",
      "  This may not be accurate due to some parameters are only used in language bindings but\n",
      "  passed down to XGBoost core.  Or some parameters are not used but slip through this\n",
      "  verification. Please open an issue if you find above cases.\n",
      "\n",
      "\n",
      "[0]\tvalidation-auc:0.62266\n",
      "[1]\tvalidation-auc:0.62266\n",
      "[2]\tvalidation-auc:0.62266\n",
      "[3]\tvalidation-auc:0.62266\n",
      "[4]\tvalidation-auc:0.62266\n",
      "[5]\tvalidation-auc:0.62266\n",
      "[6]\tvalidation-auc:0.62266\n",
      "[7]\tvalidation-auc:0.62266\n",
      "[8]\tvalidation-auc:0.62266\n",
      "[9]\tvalidation-auc:0.62266\n"
     ]
    },
    {
     "name": "stderr",
     "output_type": "stream",
     "text": [
      "[I 2020-09-11 19:10:30,818] Trial 5 finished with value: 0.7134880987364091 and parameters: {'booster': 'gbtree', 'lambda': 0.0009641694710388421, 'alpha': 4.235942961233997e-07, 'max_depth': 2, 'eta': 0.0018726445876116706, 'gamma': 6.512985261119197e-06, 'grow_policy': 'lossguide'}. Best is trial 3 with value: 0.7352336173964149.\n"
     ]
    },
    {
     "name": "stdout",
     "output_type": "stream",
     "text": [
      "[19:10:30] WARNING: ../src/learner.cc:516: \n",
      "Parameters: { silent } might not be used.\n",
      "\n",
      "  This may not be accurate due to some parameters are only used in language bindings but\n",
      "  passed down to XGBoost core.  Or some parameters are not used but slip through this\n",
      "  verification. Please open an issue if you find above cases.\n",
      "\n",
      "\n",
      "[0]\tvalidation-auc:0.67589\n",
      "[1]\tvalidation-auc:0.67617\n",
      "[2]\tvalidation-auc:0.67637\n",
      "[3]\tvalidation-auc:0.67647\n",
      "[4]\tvalidation-auc:0.67656\n",
      "[5]\tvalidation-auc:0.67663\n",
      "[6]\tvalidation-auc:0.67666\n",
      "[7]\tvalidation-auc:0.67667\n",
      "[8]\tvalidation-auc:0.67669\n",
      "[9]\tvalidation-auc:0.67669\n"
     ]
    },
    {
     "name": "stderr",
     "output_type": "stream",
     "text": [
      "[I 2020-09-11 19:10:30,844] Trial 6 finished with value: 0.6744049368204525 and parameters: {'booster': 'gblinear', 'lambda': 2.377103850210856e-08, 'alpha': 0.0046397395341542915}. Best is trial 3 with value: 0.7352336173964149.\n"
     ]
    },
    {
     "name": "stdout",
     "output_type": "stream",
     "text": [
      "[19:10:30] WARNING: ../src/learner.cc:516: \n",
      "Parameters: { silent } might not be used.\n",
      "\n",
      "  This may not be accurate due to some parameters are only used in language bindings but\n",
      "  passed down to XGBoost core.  Or some parameters are not used but slip through this\n",
      "  verification. Please open an issue if you find above cases.\n",
      "\n",
      "\n",
      "[0]\tvalidation-auc:0.67610\n",
      "[1]\tvalidation-auc:0.67636\n",
      "[2]\tvalidation-auc:0.67656\n",
      "[3]\tvalidation-auc:0.67669\n",
      "[4]\tvalidation-auc:0.67677\n",
      "[5]\tvalidation-auc:0.67686\n",
      "[6]\tvalidation-auc:0.67687\n",
      "[7]\tvalidation-auc:0.67689\n",
      "[8]\tvalidation-auc:0.67691\n",
      "[9]\tvalidation-auc:0.67691\n"
     ]
    },
    {
     "name": "stderr",
     "output_type": "stream",
     "text": [
      "[I 2020-09-11 19:10:30,867] Trial 7 finished with value: 0.6735233617396414 and parameters: {'booster': 'gblinear', 'lambda': 1.4698839234025865e-05, 'alpha': 2.826046772251421e-08}. Best is trial 3 with value: 0.7352336173964149.\n"
     ]
    },
    {
     "name": "stdout",
     "output_type": "stream",
     "text": [
      "[19:10:30] WARNING: ../src/learner.cc:516: \n",
      "Parameters: { silent } might not be used.\n",
      "\n",
      "  This may not be accurate due to some parameters are only used in language bindings but\n",
      "  passed down to XGBoost core.  Or some parameters are not used but slip through this\n",
      "  verification. Please open an issue if you find above cases.\n",
      "\n",
      "\n",
      "[0]\tvalidation-auc:0.50000\n",
      "[1]\tvalidation-auc:0.50000\n",
      "[2]\tvalidation-auc:0.50000\n",
      "[3]\tvalidation-auc:0.50000\n",
      "[4]\tvalidation-auc:0.50000\n",
      "[5]\tvalidation-auc:0.50000\n",
      "[6]\tvalidation-auc:0.50000\n",
      "[7]\tvalidation-auc:0.50000\n",
      "[8]\tvalidation-auc:0.50000\n",
      "[9]\tvalidation-auc:0.50000\n"
     ]
    },
    {
     "name": "stderr",
     "output_type": "stream",
     "text": [
      "[I 2020-09-11 19:10:30,894] Trial 8 finished with value: 0.6767558037026153 and parameters: {'booster': 'gblinear', 'lambda': 2.8432990576425395e-05, 'alpha': 0.7853318447887159}. Best is trial 3 with value: 0.7352336173964149.\n"
     ]
    },
    {
     "name": "stdout",
     "output_type": "stream",
     "text": [
      "[19:10:30] WARNING: ../src/learner.cc:516: \n",
      "Parameters: { silent } might not be used.\n",
      "\n",
      "  This may not be accurate due to some parameters are only used in language bindings but\n",
      "  passed down to XGBoost core.  Or some parameters are not used but slip through this\n",
      "  verification. Please open an issue if you find above cases.\n",
      "\n",
      "\n",
      "[0]\tvalidation-auc:0.50000\n",
      "[1]\tvalidation-auc:0.50000\n",
      "[2]\tvalidation-auc:0.50000\n",
      "[3]\tvalidation-auc:0.50000\n",
      "[4]\tvalidation-auc:0.50000\n",
      "[5]\tvalidation-auc:0.50000\n",
      "[6]\tvalidation-auc:0.50000\n",
      "[7]\tvalidation-auc:0.50000\n",
      "[8]\tvalidation-auc:0.50000\n",
      "[9]\tvalidation-auc:0.50360\n"
     ]
    },
    {
     "name": "stderr",
     "output_type": "stream",
     "text": [
      "[I 2020-09-11 19:10:30,927] Trial 9 finished with value: 0.6761680869820746 and parameters: {'booster': 'gbtree', 'lambda': 2.328319429017637e-08, 'alpha': 9.706416870511605e-08, 'max_depth': 2, 'eta': 1.245607593111171e-08, 'gamma': 1.1402529658430028e-06, 'grow_policy': 'lossguide'}. Best is trial 3 with value: 0.7352336173964149.\n"
     ]
    },
    {
     "name": "stdout",
     "output_type": "stream",
     "text": [
      "[19:10:30] WARNING: ../src/learner.cc:516: \n",
      "Parameters: { silent } might not be used.\n",
      "\n",
      "  This may not be accurate due to some parameters are only used in language bindings but\n",
      "  passed down to XGBoost core.  Or some parameters are not used but slip through this\n",
      "  verification. Please open an issue if you find above cases.\n",
      "\n",
      "\n",
      "[0]\tvalidation-auc:0.84190\n",
      "[1]\tvalidation-auc:0.84346\n",
      "[2]\tvalidation-auc:0.84193\n",
      "[3]\tvalidation-auc:0.84207\n",
      "[4]\tvalidation-auc:0.84485\n",
      "[5]\tvalidation-auc:0.84225\n",
      "[6]\tvalidation-auc:0.83987\n",
      "[7]\tvalidation-auc:0.83861\n",
      "[8]\tvalidation-auc:0.84084\n",
      "[9]\tvalidation-auc:0.84209\n"
     ]
    },
    {
     "name": "stderr",
     "output_type": "stream",
     "text": [
      "[I 2020-09-11 19:10:31,018] Trial 10 finished with value: 0.7481633852483103 and parameters: {'booster': 'dart', 'lambda': 0.6603772380412283, 'alpha': 3.528212278488477e-06, 'max_depth': 8, 'eta': 0.6918292132142875, 'gamma': 1.0210157607831469e-08, 'grow_policy': 'depthwise', 'sample_type': 'weighted', 'normalize_type': 'forest', 'rate_drop': 1.2754263313165889e-08, 'skip_drop': 2.4845213587431643e-05}. Best is trial 10 with value: 0.7481633852483103.\n"
     ]
    },
    {
     "name": "stdout",
     "output_type": "stream",
     "text": [
      "[19:10:31] WARNING: ../src/learner.cc:516: \n",
      "Parameters: { silent } might not be used.\n",
      "\n",
      "  This may not be accurate due to some parameters are only used in language bindings but\n",
      "  passed down to XGBoost core.  Or some parameters are not used but slip through this\n",
      "  verification. Please open an issue if you find above cases.\n",
      "\n",
      "\n",
      "[0]\tvalidation-auc:0.84353\n",
      "[1]\tvalidation-auc:0.84422\n",
      "[2]\tvalidation-auc:0.84511\n",
      "[3]\tvalidation-auc:0.84405\n",
      "[4]\tvalidation-auc:0.84340\n",
      "[5]\tvalidation-auc:0.84243\n",
      "[6]\tvalidation-auc:0.84347\n",
      "[7]\tvalidation-auc:0.84199\n",
      "[8]\tvalidation-auc:0.84306\n",
      "[9]\tvalidation-auc:0.84375\n"
     ]
    },
    {
     "name": "stderr",
     "output_type": "stream",
     "text": [
      "[I 2020-09-11 19:10:31,119] Trial 11 finished with value: 0.7540405524537173 and parameters: {'booster': 'dart', 'lambda': 0.824015965172351, 'alpha': 4.054728838696534e-06, 'max_depth': 9, 'eta': 0.5474497756322156, 'gamma': 1.3106957478114648e-08, 'grow_policy': 'depthwise', 'sample_type': 'weighted', 'normalize_type': 'forest', 'rate_drop': 1.0104282521118563e-08, 'skip_drop': 2.827426334795734e-05}. Best is trial 11 with value: 0.7540405524537173.\n"
     ]
    },
    {
     "name": "stdout",
     "output_type": "stream",
     "text": [
      "[19:10:31] WARNING: ../src/learner.cc:516: \n",
      "Parameters: { silent } might not be used.\n",
      "\n",
      "  This may not be accurate due to some parameters are only used in language bindings but\n",
      "  passed down to XGBoost core.  Or some parameters are not used but slip through this\n",
      "  verification. Please open an issue if you find above cases.\n",
      "\n",
      "\n",
      "[0]\tvalidation-auc:0.84013\n",
      "[1]\tvalidation-auc:0.84340\n",
      "[2]\tvalidation-auc:0.83875\n",
      "[3]\tvalidation-auc:0.84030\n",
      "[4]\tvalidation-auc:0.84406\n",
      "[5]\tvalidation-auc:0.84437\n",
      "[6]\tvalidation-auc:0.84504\n",
      "[7]\tvalidation-auc:0.84261\n",
      "[8]\tvalidation-auc:0.84227\n",
      "[9]\tvalidation-auc:0.84114\n"
     ]
    },
    {
     "name": "stderr",
     "output_type": "stream",
     "text": [
      "[I 2020-09-11 19:10:31,221] Trial 12 finished with value: 0.7449309432853365 and parameters: {'booster': 'dart', 'lambda': 0.4338571897110285, 'alpha': 3.353493040906921e-06, 'max_depth': 9, 'eta': 0.9676151368091974, 'gamma': 3.0506922573105025e-08, 'grow_policy': 'depthwise', 'sample_type': 'weighted', 'normalize_type': 'forest', 'rate_drop': 1.1140112187111039e-08, 'skip_drop': 8.102278589087061e-06}. Best is trial 11 with value: 0.7540405524537173.\n"
     ]
    },
    {
     "name": "stdout",
     "output_type": "stream",
     "text": [
      "[19:10:31] WARNING: ../src/learner.cc:516: \n",
      "Parameters: { silent } might not be used.\n",
      "\n",
      "  This may not be accurate due to some parameters are only used in language bindings but\n",
      "  passed down to XGBoost core.  Or some parameters are not used but slip through this\n",
      "  verification. Please open an issue if you find above cases.\n",
      "\n",
      "\n",
      "[0]\tvalidation-auc:0.84463\n",
      "[1]\tvalidation-auc:0.84331\n",
      "[2]\tvalidation-auc:0.84395\n",
      "[3]\tvalidation-auc:0.84277\n",
      "[4]\tvalidation-auc:0.84371\n",
      "[5]\tvalidation-auc:0.84234\n",
      "[6]\tvalidation-auc:0.84247\n",
      "[7]\tvalidation-auc:0.84218\n",
      "[8]\tvalidation-auc:0.84269\n",
      "[9]\tvalidation-auc:0.84241\n"
     ]
    },
    {
     "name": "stderr",
     "output_type": "stream",
     "text": [
      "[I 2020-09-11 19:10:31,314] Trial 13 finished with value: 0.7693211871877755 and parameters: {'booster': 'dart', 'lambda': 0.9825846972616614, 'alpha': 5.792304341310707e-06, 'max_depth': 9, 'eta': 0.01905803086213428, 'gamma': 0.0012208211208662452, 'grow_policy': 'depthwise', 'sample_type': 'weighted', 'normalize_type': 'tree', 'rate_drop': 0.14538118433662023, 'skip_drop': 0.06379569089387413}. Best is trial 13 with value: 0.7693211871877755.\n"
     ]
    },
    {
     "name": "stdout",
     "output_type": "stream",
     "text": [
      "[19:10:31] WARNING: ../src/learner.cc:516: \n",
      "Parameters: { silent } might not be used.\n",
      "\n",
      "  This may not be accurate due to some parameters are only used in language bindings but\n",
      "  passed down to XGBoost core.  Or some parameters are not used but slip through this\n",
      "  verification. Please open an issue if you find above cases.\n",
      "\n",
      "\n",
      "[0]\tvalidation-auc:0.84068\n",
      "[1]\tvalidation-auc:0.84025\n",
      "[2]\tvalidation-auc:0.83999\n",
      "[3]\tvalidation-auc:0.84009\n",
      "[4]\tvalidation-auc:0.84140\n",
      "[5]\tvalidation-auc:0.84134\n",
      "[6]\tvalidation-auc:0.84123\n",
      "[7]\tvalidation-auc:0.84114\n",
      "[8]\tvalidation-auc:0.84224\n",
      "[9]\tvalidation-auc:0.84232\n"
     ]
    },
    {
     "name": "stderr",
     "output_type": "stream",
     "text": [
      "[I 2020-09-11 19:10:31,406] Trial 14 finished with value: 0.7684396121069644 and parameters: {'booster': 'dart', 'lambda': 0.03753708366658885, 'alpha': 6.332988310149427e-06, 'max_depth': 9, 'eta': 0.004584149020786938, 'gamma': 0.0013470996930892917, 'grow_policy': 'depthwise', 'sample_type': 'uniform', 'normalize_type': 'tree', 'rate_drop': 0.9897778119306128, 'skip_drop': 0.7638231386709102}. Best is trial 13 with value: 0.7693211871877755.\n"
     ]
    },
    {
     "name": "stdout",
     "output_type": "stream",
     "text": [
      "[19:10:31] WARNING: ../src/learner.cc:516: \n",
      "Parameters: { silent } might not be used.\n",
      "\n",
      "  This may not be accurate due to some parameters are only used in language bindings but\n",
      "  passed down to XGBoost core.  Or some parameters are not used but slip through this\n",
      "  verification. Please open an issue if you find above cases.\n",
      "\n",
      "\n",
      "[0]\tvalidation-auc:0.81200\n",
      "[1]\tvalidation-auc:0.81200\n",
      "[2]\tvalidation-auc:0.81200\n",
      "[3]\tvalidation-auc:0.81200\n",
      "[4]\tvalidation-auc:0.81192\n",
      "[5]\tvalidation-auc:0.81330\n",
      "[6]\tvalidation-auc:0.81332\n",
      "[7]\tvalidation-auc:0.81332\n",
      "[8]\tvalidation-auc:0.81333\n",
      "[9]\tvalidation-auc:0.81344\n"
     ]
    },
    {
     "name": "stderr",
     "output_type": "stream",
     "text": [
      "[I 2020-09-11 19:10:31,493] Trial 15 finished with value: 0.7669703203056127 and parameters: {'booster': 'dart', 'lambda': 0.03625955436583027, 'alpha': 9.501513587773905e-06, 'max_depth': 7, 'eta': 0.0007562230109148179, 'gamma': 0.0013825524790690884, 'grow_policy': 'depthwise', 'sample_type': 'uniform', 'normalize_type': 'tree', 'rate_drop': 0.8385394639207888, 'skip_drop': 0.47244778299325096}. Best is trial 13 with value: 0.7693211871877755.\n"
     ]
    },
    {
     "name": "stdout",
     "output_type": "stream",
     "text": [
      "[19:10:31] WARNING: ../src/learner.cc:516: \n",
      "Parameters: { silent } might not be used.\n",
      "\n",
      "  This may not be accurate due to some parameters are only used in language bindings but\n",
      "  passed down to XGBoost core.  Or some parameters are not used but slip through this\n",
      "  verification. Please open an issue if you find above cases.\n",
      "\n",
      "\n",
      "[0]\tvalidation-auc:0.84071\n",
      "[1]\tvalidation-auc:0.84028\n",
      "[2]\tvalidation-auc:0.84013\n",
      "[3]\tvalidation-auc:0.84019\n",
      "[4]\tvalidation-auc:0.84010\n",
      "[5]\tvalidation-auc:0.84019\n",
      "[6]\tvalidation-auc:0.84023\n",
      "[7]\tvalidation-auc:0.84024\n",
      "[8]\tvalidation-auc:0.84023\n",
      "[9]\tvalidation-auc:0.84037\n"
     ]
    },
    {
     "name": "stderr",
     "output_type": "stream",
     "text": [
      "[I 2020-09-11 19:10:31,590] Trial 16 finished with value: 0.7681457537466941 and parameters: {'booster': 'dart', 'lambda': 0.03416799675898413, 'alpha': 0.0007704819048334513, 'max_depth': 9, 'eta': 1.537182541146132e-05, 'gamma': 0.000624543232687937, 'grow_policy': 'depthwise', 'sample_type': 'uniform', 'normalize_type': 'tree', 'rate_drop': 0.4038867873005514, 'skip_drop': 0.6021258023193168}. Best is trial 13 with value: 0.7693211871877755.\n"
     ]
    },
    {
     "name": "stdout",
     "output_type": "stream",
     "text": [
      "[19:10:31] WARNING: ../src/learner.cc:516: \n",
      "Parameters: { silent } might not be used.\n",
      "\n",
      "  This may not be accurate due to some parameters are only used in language bindings but\n",
      "  passed down to XGBoost core.  Or some parameters are not used but slip through this\n",
      "  verification. Please open an issue if you find above cases.\n",
      "\n",
      "\n",
      "[0]\tvalidation-auc:0.81200\n",
      "[1]\tvalidation-auc:0.81482\n",
      "[2]\tvalidation-auc:0.81385\n",
      "[3]\tvalidation-auc:0.83799\n",
      "[4]\tvalidation-auc:0.83785\n",
      "[5]\tvalidation-auc:0.83822\n",
      "[6]\tvalidation-auc:0.83834\n",
      "[7]\tvalidation-auc:0.83794\n",
      "[8]\tvalidation-auc:0.83873\n",
      "[9]\tvalidation-auc:0.83904\n"
     ]
    },
    {
     "name": "stderr",
     "output_type": "stream",
     "text": [
      "[I 2020-09-11 19:10:31,672] Trial 17 finished with value: 0.7581545694975022 and parameters: {'booster': 'dart', 'lambda': 0.05040541429699862, 'alpha': 5.085281674388367e-07, 'max_depth': 7, 'eta': 0.015402443380610436, 'gamma': 0.01223680770638442, 'grow_policy': 'depthwise', 'sample_type': 'uniform', 'normalize_type': 'tree', 'rate_drop': 0.004023125755949634, 'skip_drop': 0.013699905862872315}. Best is trial 13 with value: 0.7693211871877755.\n"
     ]
    },
    {
     "name": "stdout",
     "output_type": "stream",
     "text": [
      "[19:10:31] WARNING: ../src/learner.cc:516: \n",
      "Parameters: { silent } might not be used.\n",
      "\n",
      "  This may not be accurate due to some parameters are only used in language bindings but\n",
      "  passed down to XGBoost core.  Or some parameters are not used but slip through this\n",
      "  verification. Please open an issue if you find above cases.\n",
      "\n",
      "\n",
      "[0]\tvalidation-auc:0.72041\n",
      "[1]\tvalidation-auc:0.72058\n",
      "[2]\tvalidation-auc:0.72058\n",
      "[3]\tvalidation-auc:0.72058\n",
      "[4]\tvalidation-auc:0.72058\n",
      "[5]\tvalidation-auc:0.72054\n",
      "[6]\tvalidation-auc:0.72054\n",
      "[7]\tvalidation-auc:0.72058\n",
      "[8]\tvalidation-auc:0.72054\n",
      "[9]\tvalidation-auc:0.72054\n"
     ]
    },
    {
     "name": "stderr",
     "output_type": "stream",
     "text": [
      "[I 2020-09-11 19:10:31,733] Trial 18 finished with value: 0.7458125183661475 and parameters: {'booster': 'dart', 'lambda': 1.4518953326167353e-06, 'alpha': 2.521928448392908e-05, 'max_depth': 4, 'eta': 1.5841010233411374e-05, 'gamma': 2.8057317888611033e-05, 'grow_policy': 'depthwise', 'sample_type': 'uniform', 'normalize_type': 'tree', 'rate_drop': 0.008158232598517515, 'skip_drop': 0.003583942034208523}. Best is trial 13 with value: 0.7693211871877755.\n"
     ]
    },
    {
     "name": "stdout",
     "output_type": "stream",
     "text": [
      "[19:10:31] WARNING: ../src/learner.cc:516: \n",
      "Parameters: { silent } might not be used.\n",
      "\n",
      "  This may not be accurate due to some parameters are only used in language bindings but\n",
      "  passed down to XGBoost core.  Or some parameters are not used but slip through this\n",
      "  verification. Please open an issue if you find above cases.\n",
      "\n",
      "\n",
      "[0]\tvalidation-auc:0.84280\n",
      "[1]\tvalidation-auc:0.84302\n",
      "[2]\tvalidation-auc:0.84228\n",
      "[3]\tvalidation-auc:0.84281\n",
      "[4]\tvalidation-auc:0.84316\n",
      "[5]\tvalidation-auc:0.84280\n",
      "[6]\tvalidation-auc:0.84274\n",
      "[7]\tvalidation-auc:0.84259\n",
      "[8]\tvalidation-auc:0.84270\n",
      "[9]\tvalidation-auc:0.84219\n"
     ]
    },
    {
     "name": "stderr",
     "output_type": "stream",
     "text": [
      "[I 2020-09-11 19:10:31,821] Trial 19 finished with value: 0.77314134587129 and parameters: {'booster': 'dart', 'lambda': 0.2195704773439631, 'alpha': 5.216957654485996e-07, 'max_depth': 8, 'eta': 0.008834185516199312, 'gamma': 0.00039963383669948627, 'grow_policy': 'depthwise', 'sample_type': 'weighted', 'normalize_type': 'tree', 'rate_drop': 2.4513998982712793e-05, 'skip_drop': 1.553890759586703e-07}. Best is trial 19 with value: 0.77314134587129.\n"
     ]
    },
    {
     "name": "stdout",
     "output_type": "stream",
     "text": [
      "[19:10:31] WARNING: ../src/learner.cc:516: \n",
      "Parameters: { silent } might not be used.\n",
      "\n",
      "  This may not be accurate due to some parameters are only used in language bindings but\n",
      "  passed down to XGBoost core.  Or some parameters are not used but slip through this\n",
      "  verification. Please open an issue if you find above cases.\n",
      "\n",
      "\n",
      "[0]\tvalidation-auc:0.78095\n",
      "[1]\tvalidation-auc:0.78096\n",
      "[2]\tvalidation-auc:0.78096\n",
      "[3]\tvalidation-auc:0.78092\n",
      "[4]\tvalidation-auc:0.78092\n",
      "[5]\tvalidation-auc:0.78092\n",
      "[6]\tvalidation-auc:0.78092\n",
      "[7]\tvalidation-auc:0.78092\n",
      "[8]\tvalidation-auc:0.78092\n",
      "[9]\tvalidation-auc:0.78092\n"
     ]
    },
    {
     "name": "stderr",
     "output_type": "stream",
     "text": [
      "[I 2020-09-11 19:10:31,896] Trial 20 finished with value: 0.759623861298854 and parameters: {'booster': 'dart', 'lambda': 0.14708007711585924, 'alpha': 2.2884145807934947e-08, 'max_depth': 6, 'eta': 0.0001559273948332595, 'gamma': 0.00011628157809199454, 'grow_policy': 'depthwise', 'sample_type': 'weighted', 'normalize_type': 'tree', 'rate_drop': 4.376112606988539e-06, 'skip_drop': 1.612462991499162e-08}. Best is trial 19 with value: 0.77314134587129.\n"
     ]
    },
    {
     "name": "stdout",
     "output_type": "stream",
     "text": [
      "[19:10:31] WARNING: ../src/learner.cc:516: \n",
      "Parameters: { silent } might not be used.\n",
      "\n",
      "  This may not be accurate due to some parameters are only used in language bindings but\n",
      "  passed down to XGBoost core.  Or some parameters are not used but slip through this\n",
      "  verification. Please open an issue if you find above cases.\n",
      "\n",
      "\n",
      "[0]\tvalidation-auc:0.84079\n",
      "[1]\tvalidation-auc:0.84141\n",
      "[2]\tvalidation-auc:0.84137\n",
      "[3]\tvalidation-auc:0.84198\n",
      "[4]\tvalidation-auc:0.84274\n",
      "[5]\tvalidation-auc:0.84338\n",
      "[6]\tvalidation-auc:0.84337\n",
      "[7]\tvalidation-auc:0.84191\n",
      "[8]\tvalidation-auc:0.84196\n",
      "[9]\tvalidation-auc:0.84136\n"
     ]
    },
    {
     "name": "stderr",
     "output_type": "stream",
     "text": [
      "[I 2020-09-11 19:10:31,993] Trial 21 finished with value: 0.766382603585072 and parameters: {'booster': 'dart', 'lambda': 0.008549924510877218, 'alpha': 4.3850574278952194e-07, 'max_depth': 9, 'eta': 0.00917068678936188, 'gamma': 0.001839540553605212, 'grow_policy': 'depthwise', 'sample_type': 'weighted', 'normalize_type': 'tree', 'rate_drop': 1.1114537085277098e-05, 'skip_drop': 1.4043526171527702e-08}. Best is trial 19 with value: 0.77314134587129.\n"
     ]
    },
    {
     "name": "stdout",
     "output_type": "stream",
     "text": [
      "[19:10:32] WARNING: ../src/learner.cc:516: \n",
      "Parameters: { silent } might not be used.\n",
      "\n",
      "  This may not be accurate due to some parameters are only used in language bindings but\n",
      "  passed down to XGBoost core.  Or some parameters are not used but slip through this\n",
      "  verification. Please open an issue if you find above cases.\n",
      "\n",
      "\n",
      "[0]\tvalidation-auc:0.84280\n",
      "[1]\tvalidation-auc:0.84089\n",
      "[2]\tvalidation-auc:0.84044\n",
      "[3]\tvalidation-auc:0.84165\n",
      "[4]\tvalidation-auc:0.84159\n",
      "[5]\tvalidation-auc:0.84346\n",
      "[6]\tvalidation-auc:0.84403\n",
      "[7]\tvalidation-auc:0.84391\n",
      "[8]\tvalidation-auc:0.84437\n",
      "[9]\tvalidation-auc:0.84441\n"
     ]
    },
    {
     "name": "stderr",
     "output_type": "stream",
     "text": [
      "[I 2020-09-11 19:10:32,083] Trial 22 finished with value: 0.7725536291507493 and parameters: {'booster': 'dart', 'lambda': 0.9858983896630514, 'alpha': 1.744403206450902e-05, 'max_depth': 8, 'eta': 0.03339584828822462, 'gamma': 0.018039622947728623, 'grow_policy': 'depthwise', 'sample_type': 'weighted', 'normalize_type': 'tree', 'rate_drop': 0.03343238885002396, 'skip_drop': 4.832417925506353e-07}. Best is trial 19 with value: 0.77314134587129.\n"
     ]
    },
    {
     "name": "stdout",
     "output_type": "stream",
     "text": [
      "[19:10:32] WARNING: ../src/learner.cc:516: \n",
      "Parameters: { silent } might not be used.\n",
      "\n",
      "  This may not be accurate due to some parameters are only used in language bindings but\n",
      "  passed down to XGBoost core.  Or some parameters are not used but slip through this\n",
      "  verification. Please open an issue if you find above cases.\n",
      "\n",
      "\n",
      "[0]\tvalidation-auc:0.84268\n",
      "[1]\tvalidation-auc:0.84143\n",
      "[2]\tvalidation-auc:0.84257\n",
      "[3]\tvalidation-auc:0.84347\n",
      "[4]\tvalidation-auc:0.84460\n",
      "[5]\tvalidation-auc:0.84539\n",
      "[6]\tvalidation-auc:0.84441\n",
      "[7]\tvalidation-auc:0.84478\n",
      "[8]\tvalidation-auc:0.84537\n",
      "[9]\tvalidation-auc:0.84482\n"
     ]
    },
    {
     "name": "stderr",
     "output_type": "stream",
     "text": [
      "[I 2020-09-11 19:10:32,174] Trial 23 finished with value: 0.7728474875110197 and parameters: {'booster': 'dart', 'lambda': 0.7640625056140004, 'alpha': 2.103731851207123e-05, 'max_depth': 8, 'eta': 0.07768082923362064, 'gamma': 0.6202990780670339, 'grow_policy': 'depthwise', 'sample_type': 'weighted', 'normalize_type': 'tree', 'rate_drop': 0.014212649875754439, 'skip_drop': 2.805683378504775e-07}. Best is trial 19 with value: 0.77314134587129.\n"
     ]
    },
    {
     "name": "stdout",
     "output_type": "stream",
     "text": [
      "[19:10:32] WARNING: ../src/learner.cc:516: \n",
      "Parameters: { silent } might not be used.\n",
      "\n",
      "  This may not be accurate due to some parameters are only used in language bindings but\n",
      "  passed down to XGBoost core.  Or some parameters are not used but slip through this\n",
      "  verification. Please open an issue if you find above cases.\n",
      "\n",
      "\n",
      "[0]\tvalidation-auc:0.84022\n",
      "[1]\tvalidation-auc:0.84200\n",
      "[2]\tvalidation-auc:0.83966\n",
      "[3]\tvalidation-auc:0.84270\n",
      "[4]\tvalidation-auc:0.84266\n",
      "[5]\tvalidation-auc:0.84267\n",
      "[6]\tvalidation-auc:0.84335\n",
      "[7]\tvalidation-auc:0.84335\n",
      "[8]\tvalidation-auc:0.84226\n",
      "[9]\tvalidation-auc:0.84117\n"
     ]
    },
    {
     "name": "stderr",
     "output_type": "stream",
     "text": [
      "[I 2020-09-11 19:10:32,263] Trial 24 finished with value: 0.7743167793123714 and parameters: {'booster': 'dart', 'lambda': 0.19084570148860397, 'alpha': 3.587998257406708e-05, 'max_depth': 8, 'eta': 0.09725894584340455, 'gamma': 0.8132288339973923, 'grow_policy': 'depthwise', 'sample_type': 'weighted', 'normalize_type': 'tree', 'rate_drop': 0.0009159278471281989, 'skip_drop': 2.7810357481990436e-07}. Best is trial 24 with value: 0.7743167793123714.\n"
     ]
    },
    {
     "name": "stdout",
     "output_type": "stream",
     "text": [
      "[19:10:32] WARNING: ../src/learner.cc:516: \n",
      "Parameters: { silent } might not be used.\n",
      "\n",
      "  This may not be accurate due to some parameters are only used in language bindings but\n",
      "  passed down to XGBoost core.  Or some parameters are not used but slip through this\n",
      "  verification. Please open an issue if you find above cases.\n",
      "\n",
      "\n",
      "[0]\tvalidation-auc:0.84322\n",
      "[1]\tvalidation-auc:0.84430\n",
      "[2]\tvalidation-auc:0.84449\n",
      "[3]\tvalidation-auc:0.84470\n",
      "[4]\tvalidation-auc:0.84410\n",
      "[5]\tvalidation-auc:0.84484\n",
      "[6]\tvalidation-auc:0.84434\n",
      "[7]\tvalidation-auc:0.84443\n",
      "[8]\tvalidation-auc:0.84396\n",
      "[9]\tvalidation-auc:0.84425\n"
     ]
    },
    {
     "name": "stderr",
     "output_type": "stream",
     "text": [
      "[I 2020-09-11 19:10:32,365] Trial 25 finished with value: 0.7734352042315604 and parameters: {'booster': 'dart', 'lambda': 0.23032105274913603, 'alpha': 0.00032404392267493563, 'max_depth': 8, 'eta': 0.14780601013201522, 'gamma': 0.9475127748710691, 'grow_policy': 'depthwise', 'sample_type': 'weighted', 'normalize_type': 'tree', 'rate_drop': 0.00021871029584492787, 'skip_drop': 4.1661739319561374e-07}. Best is trial 24 with value: 0.7743167793123714.\n"
     ]
    },
    {
     "name": "stdout",
     "output_type": "stream",
     "text": [
      "[19:10:32] WARNING: ../src/learner.cc:516: \n",
      "Parameters: { silent } might not be used.\n",
      "\n",
      "  This may not be accurate due to some parameters are only used in language bindings but\n",
      "  passed down to XGBoost core.  Or some parameters are not used but slip through this\n",
      "  verification. Please open an issue if you find above cases.\n",
      "\n",
      "\n",
      "[0]\tvalidation-auc:0.78077\n",
      "[1]\tvalidation-auc:0.84092\n",
      "[2]\tvalidation-auc:0.84250\n",
      "[3]\tvalidation-auc:0.84775\n",
      "[4]\tvalidation-auc:0.84224\n",
      "[5]\tvalidation-auc:0.84137\n",
      "[6]\tvalidation-auc:0.84431\n",
      "[7]\tvalidation-auc:0.84553\n",
      "[8]\tvalidation-auc:0.84150\n",
      "[9]\tvalidation-auc:0.84476\n"
     ]
    },
    {
     "name": "stderr",
     "output_type": "stream",
     "text": [
      "[I 2020-09-11 19:10:32,444] Trial 26 finished with value: 0.7525712606523656 and parameters: {'booster': 'dart', 'lambda': 0.008172187709099069, 'alpha': 0.0005494617785098465, 'max_depth': 6, 'eta': 0.24387992159192817, 'gamma': 0.11909960687836685, 'grow_policy': 'depthwise', 'sample_type': 'weighted', 'normalize_type': 'tree', 'rate_drop': 0.0004264240810262407, 'skip_drop': 3.0419609434817385e-07}. Best is trial 24 with value: 0.7743167793123714.\n"
     ]
    },
    {
     "name": "stdout",
     "output_type": "stream",
     "text": [
      "[19:10:32] WARNING: ../src/learner.cc:516: \n",
      "Parameters: { silent } might not be used.\n",
      "\n",
      "  This may not be accurate due to some parameters are only used in language bindings but\n",
      "  passed down to XGBoost core.  Or some parameters are not used but slip through this\n",
      "  verification. Please open an issue if you find above cases.\n",
      "\n",
      "\n",
      "[0]\tvalidation-auc:0.84024\n",
      "[1]\tvalidation-auc:0.84055\n",
      "[2]\tvalidation-auc:0.84054\n",
      "[3]\tvalidation-auc:0.84077\n",
      "[4]\tvalidation-auc:0.84100\n",
      "[5]\tvalidation-auc:0.84088\n",
      "[6]\tvalidation-auc:0.84096\n",
      "[7]\tvalidation-auc:0.84099\n",
      "[8]\tvalidation-auc:0.84106\n",
      "[9]\tvalidation-auc:0.84110\n"
     ]
    },
    {
     "name": "stderr",
     "output_type": "stream",
     "text": [
      "[I 2020-09-11 19:10:32,534] Trial 27 finished with value: 0.7772553629150749 and parameters: {'booster': 'dart', 'lambda': 0.15362696814699411, 'alpha': 0.012446785316172042, 'max_depth': 8, 'eta': 0.00031230461851158804, 'gamma': 0.5775940509338366, 'grow_policy': 'depthwise', 'sample_type': 'weighted', 'normalize_type': 'tree', 'rate_drop': 0.00011460304226447519, 'skip_drop': 1.2408693024180816e-06}. Best is trial 27 with value: 0.7772553629150749.\n"
     ]
    },
    {
     "name": "stdout",
     "output_type": "stream",
     "text": [
      "[19:10:32] WARNING: ../src/learner.cc:516: \n",
      "Parameters: { silent } might not be used.\n",
      "\n",
      "  This may not be accurate due to some parameters are only used in language bindings but\n",
      "  passed down to XGBoost core.  Or some parameters are not used but slip through this\n",
      "  verification. Please open an issue if you find above cases.\n",
      "\n",
      "\n",
      "[0]\tvalidation-auc:0.78085\n",
      "[1]\tvalidation-auc:0.78089\n",
      "[2]\tvalidation-auc:0.78096\n",
      "[3]\tvalidation-auc:0.78096\n",
      "[4]\tvalidation-auc:0.78096\n",
      "[5]\tvalidation-auc:0.78096\n",
      "[6]\tvalidation-auc:0.78096\n",
      "[7]\tvalidation-auc:0.78096\n",
      "[8]\tvalidation-auc:0.78096\n",
      "[9]\tvalidation-auc:0.78096\n"
     ]
    },
    {
     "name": "stderr",
     "output_type": "stream",
     "text": [
      "[I 2020-09-11 19:10:32,610] Trial 28 finished with value: 0.759623861298854 and parameters: {'booster': 'dart', 'lambda': 0.12602221182213086, 'alpha': 0.01880646631815722, 'max_depth': 6, 'eta': 7.157246979103249e-06, 'gamma': 0.8949641199501986, 'grow_policy': 'depthwise', 'sample_type': 'weighted', 'normalize_type': 'tree', 'rate_drop': 0.0002103277782662965, 'skip_drop': 1.3768067427014494e-06}. Best is trial 27 with value: 0.7772553629150749.\n"
     ]
    },
    {
     "name": "stdout",
     "output_type": "stream",
     "text": [
      "[19:10:32] WARNING: ../src/learner.cc:516: \n",
      "Parameters: { silent } might not be used.\n",
      "\n",
      "  This may not be accurate due to some parameters are only used in language bindings but\n",
      "  passed down to XGBoost core.  Or some parameters are not used but slip through this\n",
      "  verification. Please open an issue if you find above cases.\n",
      "\n",
      "\n",
      "[0]\tvalidation-auc:0.81398\n",
      "[1]\tvalidation-auc:0.81456\n",
      "[2]\tvalidation-auc:0.81431\n",
      "[3]\tvalidation-auc:0.81354\n",
      "[4]\tvalidation-auc:0.81306\n",
      "[5]\tvalidation-auc:0.81292\n",
      "[6]\tvalidation-auc:0.81346\n",
      "[7]\tvalidation-auc:0.81360\n",
      "[8]\tvalidation-auc:0.81307\n",
      "[9]\tvalidation-auc:0.81356\n"
     ]
    },
    {
     "name": "stderr",
     "output_type": "stream",
     "text": [
      "[I 2020-09-11 19:10:32,693] Trial 29 finished with value: 0.7669703203056127 and parameters: {'booster': 'dart', 'lambda': 6.108026878331925e-07, 'alpha': 0.05105941611438214, 'max_depth': 7, 'eta': 5.119041331483766e-07, 'gamma': 0.10032213509872265, 'grow_policy': 'depthwise', 'sample_type': 'weighted', 'normalize_type': 'tree', 'rate_drop': 5.454248282604984e-07, 'skip_drop': 4.592084708885672e-08}. Best is trial 27 with value: 0.7772553629150749.\n"
     ]
    },
    {
     "name": "stdout",
     "output_type": "stream",
     "text": [
      "[19:10:32] WARNING: ../src/learner.cc:516: \n",
      "Parameters: { silent } might not be used.\n",
      "\n",
      "  This may not be accurate due to some parameters are only used in language bindings but\n",
      "  passed down to XGBoost core.  Or some parameters are not used but slip through this\n",
      "  verification. Please open an issue if you find above cases.\n",
      "\n",
      "\n",
      "[0]\tvalidation-auc:0.72054\n",
      "[1]\tvalidation-auc:0.72054\n",
      "[2]\tvalidation-auc:0.72054\n",
      "[3]\tvalidation-auc:0.72054\n",
      "[4]\tvalidation-auc:0.72054\n",
      "[5]\tvalidation-auc:0.72054\n",
      "[6]\tvalidation-auc:0.72054\n",
      "[7]\tvalidation-auc:0.72054\n",
      "[8]\tvalidation-auc:0.72054\n",
      "[9]\tvalidation-auc:0.72054\n"
     ]
    },
    {
     "name": "stderr",
     "output_type": "stream",
     "text": [
      "[I 2020-09-11 19:10:32,758] Trial 30 finished with value: 0.7458125183661475 and parameters: {'booster': 'dart', 'lambda': 0.010753373994736989, 'alpha': 0.0009320240840831099, 'max_depth': 4, 'eta': 0.0003149137969942319, 'gamma': 0.8657090170496944, 'grow_policy': 'depthwise', 'sample_type': 'weighted', 'normalize_type': 'tree', 'rate_drop': 0.0017539745328857082, 'skip_drop': 2.736792171646707e-06}. Best is trial 27 with value: 0.7772553629150749.\n"
     ]
    },
    {
     "name": "stdout",
     "output_type": "stream",
     "text": [
      "[19:10:32] WARNING: ../src/learner.cc:516: \n",
      "Parameters: { silent } might not be used.\n",
      "\n",
      "  This may not be accurate due to some parameters are only used in language bindings but\n",
      "  passed down to XGBoost core.  Or some parameters are not used but slip through this\n",
      "  verification. Please open an issue if you find above cases.\n",
      "\n",
      "\n",
      "[0]\tvalidation-auc:0.84237\n",
      "[1]\tvalidation-auc:0.84357\n",
      "[2]\tvalidation-auc:0.84385\n",
      "[3]\tvalidation-auc:0.84416\n",
      "[4]\tvalidation-auc:0.84403\n",
      "[5]\tvalidation-auc:0.84422\n",
      "[6]\tvalidation-auc:0.84445\n",
      "[7]\tvalidation-auc:0.84389\n",
      "[8]\tvalidation-auc:0.84356\n",
      "[9]\tvalidation-auc:0.84345\n"
     ]
    },
    {
     "name": "stderr",
     "output_type": "stream",
     "text": [
      "[I 2020-09-11 19:10:32,847] Trial 31 finished with value: 0.7775492212753453 and parameters: {'booster': 'dart', 'lambda': 0.2778225715609293, 'alpha': 0.005768833947281524, 'max_depth': 8, 'eta': 0.002162207010616524, 'gamma': 0.1144461421362537, 'grow_policy': 'depthwise', 'sample_type': 'weighted', 'normalize_type': 'tree', 'rate_drop': 3.732190387238505e-05, 'skip_drop': 7.877509357088387e-08}. Best is trial 31 with value: 0.7775492212753453.\n"
     ]
    },
    {
     "name": "stdout",
     "output_type": "stream",
     "text": [
      "[19:10:32] WARNING: ../src/learner.cc:516: \n",
      "Parameters: { silent } might not be used.\n",
      "\n",
      "  This may not be accurate due to some parameters are only used in language bindings but\n",
      "  passed down to XGBoost core.  Or some parameters are not used but slip through this\n",
      "  verification. Please open an issue if you find above cases.\n",
      "\n",
      "\n",
      "[0]\tvalidation-auc:0.83985\n",
      "[1]\tvalidation-auc:0.84000\n",
      "[2]\tvalidation-auc:0.84008\n",
      "[3]\tvalidation-auc:0.84011\n",
      "[4]\tvalidation-auc:0.83999\n",
      "[5]\tvalidation-auc:0.84027\n",
      "[6]\tvalidation-auc:0.84022\n",
      "[7]\tvalidation-auc:0.84018\n",
      "[8]\tvalidation-auc:0.84012\n",
      "[9]\tvalidation-auc:0.84030\n"
     ]
    },
    {
     "name": "stderr",
     "output_type": "stream",
     "text": [
      "[I 2020-09-11 19:10:32,936] Trial 32 finished with value: 0.7766676461945342 and parameters: {'booster': 'dart', 'lambda': 0.18198684323975256, 'alpha': 0.009045880855427681, 'max_depth': 8, 'eta': 5.6434478372988244e-05, 'gamma': 0.19889262903181926, 'grow_policy': 'depthwise', 'sample_type': 'weighted', 'normalize_type': 'tree', 'rate_drop': 5.387707240219139e-05, 'skip_drop': 5.587005771261144e-08}. Best is trial 31 with value: 0.7775492212753453.\n"
     ]
    },
    {
     "name": "stdout",
     "output_type": "stream",
     "text": [
      "[19:10:32] WARNING: ../src/learner.cc:516: \n",
      "Parameters: { silent } might not be used.\n",
      "\n",
      "  This may not be accurate due to some parameters are only used in language bindings but\n",
      "  passed down to XGBoost core.  Or some parameters are not used but slip through this\n",
      "  verification. Please open an issue if you find above cases.\n",
      "\n",
      "\n",
      "[0]\tvalidation-auc:0.81211\n",
      "[1]\tvalidation-auc:0.81213\n",
      "[2]\tvalidation-auc:0.81249\n",
      "[3]\tvalidation-auc:0.81274\n",
      "[4]\tvalidation-auc:0.81325\n",
      "[5]\tvalidation-auc:0.81353\n",
      "[6]\tvalidation-auc:0.81340\n",
      "[7]\tvalidation-auc:0.81352\n",
      "[8]\tvalidation-auc:0.81343\n",
      "[9]\tvalidation-auc:0.81347\n"
     ]
    },
    {
     "name": "stderr",
     "output_type": "stream",
     "text": [
      "[I 2020-09-11 19:10:33,019] Trial 33 finished with value: 0.767264178665883 and parameters: {'booster': 'dart', 'lambda': 0.06080807142372772, 'alpha': 0.010229547268780923, 'max_depth': 7, 'eta': 4.427069200067877e-05, 'gamma': 0.0970205569862291, 'grow_policy': 'depthwise', 'sample_type': 'weighted', 'normalize_type': 'tree', 'rate_drop': 4.489819407060276e-05, 'skip_drop': 3.7334817640817516e-08}. Best is trial 31 with value: 0.7775492212753453.\n"
     ]
    },
    {
     "name": "stdout",
     "output_type": "stream",
     "text": [
      "[19:10:33] WARNING: ../src/learner.cc:516: \n",
      "Parameters: { silent } might not be used.\n",
      "\n",
      "  This may not be accurate due to some parameters are only used in language bindings but\n",
      "  passed down to XGBoost core.  Or some parameters are not used but slip through this\n",
      "  verification. Please open an issue if you find above cases.\n",
      "\n",
      "\n",
      "[0]\tvalidation-auc:0.50000\n",
      "[1]\tvalidation-auc:0.50000\n",
      "[2]\tvalidation-auc:0.50000\n",
      "[3]\tvalidation-auc:0.50000\n",
      "[4]\tvalidation-auc:0.50000\n",
      "[5]\tvalidation-auc:0.50000\n",
      "[6]\tvalidation-auc:0.50000\n",
      "[7]\tvalidation-auc:0.50000\n",
      "[8]\tvalidation-auc:0.50000\n",
      "[9]\tvalidation-auc:0.50000\n"
     ]
    },
    {
     "name": "stderr",
     "output_type": "stream",
     "text": [
      "[I 2020-09-11 19:10:33,051] Trial 34 finished with value: 0.6767558037026153 and parameters: {'booster': 'gblinear', 'lambda': 0.0050637800845928435, 'alpha': 0.16727838785385735}. Best is trial 31 with value: 0.7775492212753453.\n"
     ]
    },
    {
     "name": "stdout",
     "output_type": "stream",
     "text": [
      "[19:10:33] WARNING: ../src/learner.cc:516: \n",
      "Parameters: { silent } might not be used.\n",
      "\n",
      "  This may not be accurate due to some parameters are only used in language bindings but\n",
      "  passed down to XGBoost core.  Or some parameters are not used but slip through this\n",
      "  verification. Please open an issue if you find above cases.\n",
      "\n",
      "\n",
      "[0]\tvalidation-auc:0.83799\n",
      "[1]\tvalidation-auc:0.83830\n",
      "[2]\tvalidation-auc:0.83867\n",
      "[3]\tvalidation-auc:0.83843\n",
      "[4]\tvalidation-auc:0.83877\n",
      "[5]\tvalidation-auc:0.83866\n",
      "[6]\tvalidation-auc:0.83956\n",
      "[7]\tvalidation-auc:0.84071\n",
      "[8]\tvalidation-auc:0.83886\n",
      "[9]\tvalidation-auc:0.83880\n"
     ]
    },
    {
     "name": "stderr",
     "output_type": "stream",
     "text": [
      "[I 2020-09-11 19:10:33,132] Trial 35 finished with value: 0.7766676461945342 and parameters: {'booster': 'gbtree', 'lambda': 0.00038132456389840155, 'alpha': 0.0030064147790689385, 'max_depth': 8, 'eta': 2.6121436051272024e-06, 'gamma': 0.1718868847540878, 'grow_policy': 'depthwise'}. Best is trial 31 with value: 0.7775492212753453.\n"
     ]
    },
    {
     "name": "stdout",
     "output_type": "stream",
     "text": [
      "[19:10:33] WARNING: ../src/learner.cc:516: \n",
      "Parameters: { silent } might not be used.\n",
      "\n",
      "  This may not be accurate due to some parameters are only used in language bindings but\n",
      "  passed down to XGBoost core.  Or some parameters are not used but slip through this\n",
      "  verification. Please open an issue if you find above cases.\n",
      "\n",
      "\n",
      "[0]\tvalidation-auc:0.81351\n",
      "[1]\tvalidation-auc:0.81327\n",
      "[2]\tvalidation-auc:0.81254\n",
      "[3]\tvalidation-auc:0.81312\n",
      "[4]\tvalidation-auc:0.81251\n",
      "[5]\tvalidation-auc:0.81294\n",
      "[6]\tvalidation-auc:0.81354\n",
      "[7]\tvalidation-auc:0.81369\n",
      "[8]\tvalidation-auc:0.81293\n",
      "[9]\tvalidation-auc:0.81344\n"
     ]
    },
    {
     "name": "stderr",
     "output_type": "stream",
     "text": [
      "[I 2020-09-11 19:10:33,207] Trial 36 finished with value: 0.7669703203056127 and parameters: {'booster': 'gbtree', 'lambda': 0.00016931534409508268, 'alpha': 0.0020273701743656267, 'max_depth': 7, 'eta': 5.317965597486973e-07, 'gamma': 0.19225858072307014, 'grow_policy': 'lossguide'}. Best is trial 31 with value: 0.7775492212753453.\n"
     ]
    },
    {
     "name": "stdout",
     "output_type": "stream",
     "text": [
      "[19:10:33] WARNING: ../src/learner.cc:516: \n",
      "Parameters: { silent } might not be used.\n",
      "\n",
      "  This may not be accurate due to some parameters are only used in language bindings but\n",
      "  passed down to XGBoost core.  Or some parameters are not used but slip through this\n",
      "  verification. Please open an issue if you find above cases.\n",
      "\n",
      "\n",
      "[0]\tvalidation-auc:0.83712\n",
      "[1]\tvalidation-auc:0.83812\n",
      "[2]\tvalidation-auc:0.83932\n",
      "[3]\tvalidation-auc:0.83958\n",
      "[4]\tvalidation-auc:0.83974\n",
      "[5]\tvalidation-auc:0.83924\n",
      "[6]\tvalidation-auc:0.83968\n",
      "[7]\tvalidation-auc:0.83956\n",
      "[8]\tvalidation-auc:0.83978\n",
      "[9]\tvalidation-auc:0.83876\n"
     ]
    },
    {
     "name": "stderr",
     "output_type": "stream",
     "text": [
      "[I 2020-09-11 19:10:33,287] Trial 37 finished with value: 0.7766676461945342 and parameters: {'booster': 'gbtree', 'lambda': 0.0005933353280613971, 'alpha': 0.039746136342391415, 'max_depth': 8, 'eta': 1.8924482769111424e-06, 'gamma': 0.031773579076220464, 'grow_policy': 'depthwise'}. Best is trial 31 with value: 0.7775492212753453.\n"
     ]
    },
    {
     "name": "stdout",
     "output_type": "stream",
     "text": [
      "[19:10:33] WARNING: ../src/learner.cc:516: \n",
      "Parameters: { silent } might not be used.\n",
      "\n",
      "  This may not be accurate due to some parameters are only used in language bindings but\n",
      "  passed down to XGBoost core.  Or some parameters are not used but slip through this\n",
      "  verification. Please open an issue if you find above cases.\n",
      "\n",
      "\n",
      "[0]\tvalidation-auc:0.78192\n",
      "[1]\tvalidation-auc:0.78082\n",
      "[2]\tvalidation-auc:0.78444\n",
      "[3]\tvalidation-auc:0.78227\n",
      "[4]\tvalidation-auc:0.78129\n",
      "[5]\tvalidation-auc:0.78063\n",
      "[6]\tvalidation-auc:0.78124\n",
      "[7]\tvalidation-auc:0.78102\n",
      "[8]\tvalidation-auc:0.78046\n",
      "[9]\tvalidation-auc:0.78140\n"
     ]
    },
    {
     "name": "stderr",
     "output_type": "stream",
     "text": [
      "[I 2020-09-11 19:10:33,359] Trial 38 finished with value: 0.7560975609756098 and parameters: {'booster': 'gbtree', 'lambda': 0.0006162737830922662, 'alpha': 0.03800492378862748, 'max_depth': 6, 'eta': 1.6296767611163253e-07, 'gamma': 0.005000931783289235, 'grow_policy': 'depthwise'}. Best is trial 31 with value: 0.7775492212753453.\n"
     ]
    },
    {
     "name": "stdout",
     "output_type": "stream",
     "text": [
      "[19:10:33] WARNING: ../src/learner.cc:516: \n",
      "Parameters: { silent } might not be used.\n",
      "\n",
      "  This may not be accurate due to some parameters are only used in language bindings but\n",
      "  passed down to XGBoost core.  Or some parameters are not used but slip through this\n",
      "  verification. Please open an issue if you find above cases.\n",
      "\n",
      "\n",
      "[0]\tvalidation-auc:0.81602\n",
      "[1]\tvalidation-auc:0.81446\n",
      "[2]\tvalidation-auc:0.81420\n",
      "[3]\tvalidation-auc:0.81451\n",
      "[4]\tvalidation-auc:0.81433\n",
      "[5]\tvalidation-auc:0.81446\n",
      "[6]\tvalidation-auc:0.81437\n",
      "[7]\tvalidation-auc:0.81437\n",
      "[8]\tvalidation-auc:0.81437\n",
      "[9]\tvalidation-auc:0.81448\n"
     ]
    },
    {
     "name": "stderr",
     "output_type": "stream",
     "text": [
      "[I 2020-09-11 19:10:33,438] Trial 39 finished with value: 0.7660887452248016 and parameters: {'booster': 'gbtree', 'lambda': 2.4477239935139278e-05, 'alpha': 0.19638859786902124, 'max_depth': 7, 'eta': 2.5482351939959486e-06, 'gamma': 0.043941924728398404, 'grow_policy': 'lossguide'}. Best is trial 31 with value: 0.7775492212753453.\n"
     ]
    },
    {
     "name": "stdout",
     "output_type": "stream",
     "text": [
      "[19:10:33] WARNING: ../src/learner.cc:516: \n",
      "Parameters: { silent } might not be used.\n",
      "\n",
      "  This may not be accurate due to some parameters are only used in language bindings but\n",
      "  passed down to XGBoost core.  Or some parameters are not used but slip through this\n",
      "  verification. Please open an issue if you find above cases.\n",
      "\n",
      "\n",
      "[0]\tvalidation-auc:0.50376\n",
      "[1]\tvalidation-auc:0.84020\n",
      "[2]\tvalidation-auc:0.84054\n",
      "[3]\tvalidation-auc:0.83715\n",
      "[4]\tvalidation-auc:0.83659\n",
      "[5]\tvalidation-auc:0.84318\n",
      "[6]\tvalidation-auc:0.84303\n",
      "[7]\tvalidation-auc:0.84459\n",
      "[8]\tvalidation-auc:0.84009\n",
      "[9]\tvalidation-auc:0.83934\n"
     ]
    },
    {
     "name": "stderr",
     "output_type": "stream",
     "text": [
      "[I 2020-09-11 19:10:33,527] Trial 40 finished with value: 0.7513958272112842 and parameters: {'booster': 'gbtree', 'lambda': 0.0006193637327907875, 'alpha': 0.6146114002121024, 'max_depth': 8, 'eta': 5.5747958647364104e-08, 'gamma': 0.00847214025293168, 'grow_policy': 'depthwise'}. Best is trial 31 with value: 0.7775492212753453.\n"
     ]
    },
    {
     "name": "stdout",
     "output_type": "stream",
     "text": [
      "[19:10:33] WARNING: ../src/learner.cc:516: \n",
      "Parameters: { silent } might not be used.\n",
      "\n",
      "  This may not be accurate due to some parameters are only used in language bindings but\n",
      "  passed down to XGBoost core.  Or some parameters are not used but slip through this\n",
      "  verification. Please open an issue if you find above cases.\n",
      "\n",
      "\n",
      "[0]\tvalidation-auc:0.84045\n",
      "[1]\tvalidation-auc:0.84055\n",
      "[2]\tvalidation-auc:0.84054\n",
      "[3]\tvalidation-auc:0.84061\n",
      "[4]\tvalidation-auc:0.84067\n",
      "[5]\tvalidation-auc:0.84093\n",
      "[6]\tvalidation-auc:0.84089\n",
      "[7]\tvalidation-auc:0.84105\n",
      "[8]\tvalidation-auc:0.84096\n",
      "[9]\tvalidation-auc:0.84112\n"
     ]
    },
    {
     "name": "stderr",
     "output_type": "stream",
     "text": [
      "[I 2020-09-11 19:10:33,616] Trial 41 finished with value: 0.7775492212753453 and parameters: {'booster': 'gbtree', 'lambda': 5.898431260579777e-05, 'alpha': 0.00985512254782326, 'max_depth': 8, 'eta': 6.541214763533557e-05, 'gamma': 0.3059621291622184, 'grow_policy': 'depthwise'}. Best is trial 31 with value: 0.7775492212753453.\n"
     ]
    },
    {
     "name": "stdout",
     "output_type": "stream",
     "text": [
      "[19:10:33] WARNING: ../src/learner.cc:516: \n",
      "Parameters: { silent } might not be used.\n",
      "\n",
      "  This may not be accurate due to some parameters are only used in language bindings but\n",
      "  passed down to XGBoost core.  Or some parameters are not used but slip through this\n",
      "  verification. Please open an issue if you find above cases.\n",
      "\n",
      "\n",
      "[0]\tvalidation-auc:0.84045\n",
      "[1]\tvalidation-auc:0.84050\n",
      "[2]\tvalidation-auc:0.84062\n",
      "[3]\tvalidation-auc:0.84058\n",
      "[4]\tvalidation-auc:0.84064\n",
      "[5]\tvalidation-auc:0.84087\n",
      "[6]\tvalidation-auc:0.84081\n",
      "[7]\tvalidation-auc:0.84092\n",
      "[8]\tvalidation-auc:0.84095\n",
      "[9]\tvalidation-auc:0.84112\n"
     ]
    },
    {
     "name": "stderr",
     "output_type": "stream",
     "text": [
      "[I 2020-09-11 19:10:33,704] Trial 42 finished with value: 0.7775492212753453 and parameters: {'booster': 'gbtree', 'lambda': 4.34235068839276e-06, 'alpha': 0.010891477692540005, 'max_depth': 8, 'eta': 5.3982383036699e-05, 'gamma': 0.30983119510756035, 'grow_policy': 'depthwise'}. Best is trial 31 with value: 0.7775492212753453.\n"
     ]
    },
    {
     "name": "stdout",
     "output_type": "stream",
     "text": [
      "[19:10:33] WARNING: ../src/learner.cc:516: \n",
      "Parameters: { silent } might not be used.\n",
      "\n",
      "  This may not be accurate due to some parameters are only used in language bindings but\n",
      "  passed down to XGBoost core.  Or some parameters are not used but slip through this\n",
      "  verification. Please open an issue if you find above cases.\n",
      "\n",
      "\n",
      "[0]\tvalidation-auc:0.56787\n",
      "[1]\tvalidation-auc:0.56787\n",
      "[2]\tvalidation-auc:0.56787\n",
      "[3]\tvalidation-auc:0.56787\n",
      "[4]\tvalidation-auc:0.56787\n",
      "[5]\tvalidation-auc:0.56787\n",
      "[6]\tvalidation-auc:0.56787\n",
      "[7]\tvalidation-auc:0.56787\n",
      "[8]\tvalidation-auc:0.56787\n",
      "[9]\tvalidation-auc:0.56787\n"
     ]
    },
    {
     "name": "stderr",
     "output_type": "stream",
     "text": [
      "[I 2020-09-11 19:10:33,757] Trial 43 finished with value: 0.6943873053188363 and parameters: {'booster': 'gbtree', 'lambda': 4.585340775316891e-06, 'alpha': 0.020505678138943877, 'max_depth': 1, 'eta': 0.001045127766366848, 'gamma': 0.038760282582109916, 'grow_policy': 'depthwise'}. Best is trial 31 with value: 0.7775492212753453.\n"
     ]
    },
    {
     "name": "stdout",
     "output_type": "stream",
     "text": [
      "[19:10:33] WARNING: ../src/learner.cc:516: \n",
      "Parameters: { silent } might not be used.\n",
      "\n",
      "  This may not be accurate due to some parameters are only used in language bindings but\n",
      "  passed down to XGBoost core.  Or some parameters are not used but slip through this\n",
      "  verification. Please open an issue if you find above cases.\n",
      "\n",
      "\n",
      "[0]\tvalidation-auc:0.84082\n",
      "[1]\tvalidation-auc:0.84063\n",
      "[2]\tvalidation-auc:0.84119\n",
      "[3]\tvalidation-auc:0.84107\n",
      "[4]\tvalidation-auc:0.84130\n",
      "[5]\tvalidation-auc:0.84123\n",
      "[6]\tvalidation-auc:0.84151\n",
      "[7]\tvalidation-auc:0.84127\n",
      "[8]\tvalidation-auc:0.84141\n",
      "[9]\tvalidation-auc:0.84129\n"
     ]
    },
    {
     "name": "stderr",
     "output_type": "stream",
     "text": [
      "[I 2020-09-11 19:10:33,852] Trial 44 finished with value: 0.7702027622685865 and parameters: {'booster': 'gbtree', 'lambda': 2.7176923997214225e-07, 'alpha': 0.00396596723059601, 'max_depth': 9, 'eta': 0.0002639900974683868, 'gamma': 0.405654671730078, 'grow_policy': 'lossguide'}. Best is trial 31 with value: 0.7775492212753453.\n"
     ]
    },
    {
     "name": "stdout",
     "output_type": "stream",
     "text": [
      "[19:10:33] WARNING: ../src/learner.cc:516: \n",
      "Parameters: { silent } might not be used.\n",
      "\n",
      "  This may not be accurate due to some parameters are only used in language bindings but\n",
      "  passed down to XGBoost core.  Or some parameters are not used but slip through this\n",
      "  verification. Please open an issue if you find above cases.\n",
      "\n",
      "\n",
      "[0]\tvalidation-auc:0.81200\n",
      "[1]\tvalidation-auc:0.81337\n",
      "[2]\tvalidation-auc:0.81356\n",
      "[3]\tvalidation-auc:0.81340\n",
      "[4]\tvalidation-auc:0.81325\n",
      "[5]\tvalidation-auc:0.81340\n",
      "[6]\tvalidation-auc:0.81350\n",
      "[7]\tvalidation-auc:0.81284\n",
      "[8]\tvalidation-auc:0.81286\n",
      "[9]\tvalidation-auc:0.81302\n"
     ]
    },
    {
     "name": "stderr",
     "output_type": "stream",
     "text": [
      "[I 2020-09-11 19:10:33,932] Trial 45 finished with value: 0.7669703203056127 and parameters: {'booster': 'gbtree', 'lambda': 7.110421473683843e-05, 'alpha': 0.08418633161990197, 'max_depth': 7, 'eta': 0.0016735765241398292, 'gamma': 0.03321063042222045, 'grow_policy': 'depthwise'}. Best is trial 31 with value: 0.7775492212753453.\n"
     ]
    },
    {
     "name": "stdout",
     "output_type": "stream",
     "text": [
      "[19:10:33] WARNING: ../src/learner.cc:516: \n",
      "Parameters: { silent } might not be used.\n",
      "\n",
      "  This may not be accurate due to some parameters are only used in language bindings but\n",
      "  passed down to XGBoost core.  Or some parameters are not used but slip through this\n",
      "  verification. Please open an issue if you find above cases.\n",
      "\n",
      "\n",
      "[0]\tvalidation-auc:0.83798\n",
      "[1]\tvalidation-auc:0.83803\n",
      "[2]\tvalidation-auc:0.83842\n",
      "[3]\tvalidation-auc:0.83836\n",
      "[4]\tvalidation-auc:0.83919\n",
      "[5]\tvalidation-auc:0.83912\n",
      "[6]\tvalidation-auc:0.84108\n",
      "[7]\tvalidation-auc:0.83920\n",
      "[8]\tvalidation-auc:0.84097\n",
      "[9]\tvalidation-auc:0.83937\n"
     ]
    },
    {
     "name": "stderr",
     "output_type": "stream",
     "text": [
      "[I 2020-09-11 19:10:34,020] Trial 46 finished with value: 0.7775492212753453 and parameters: {'booster': 'gbtree', 'lambda': 6.012992177668257e-06, 'alpha': 0.00013470133958141486, 'max_depth': 8, 'eta': 0.00010065466117181363, 'gamma': 0.32416533493252314, 'grow_policy': 'depthwise'}. Best is trial 31 with value: 0.7775492212753453.\n"
     ]
    },
    {
     "name": "stdout",
     "output_type": "stream",
     "text": [
      "[19:10:34] WARNING: ../src/learner.cc:516: \n",
      "Parameters: { silent } might not be used.\n",
      "\n",
      "  This may not be accurate due to some parameters are only used in language bindings but\n",
      "  passed down to XGBoost core.  Or some parameters are not used but slip through this\n",
      "  verification. Please open an issue if you find above cases.\n",
      "\n",
      "\n",
      "[0]\tvalidation-auc:0.83493\n",
      "[1]\tvalidation-auc:0.83460\n",
      "[2]\tvalidation-auc:0.83497\n",
      "[3]\tvalidation-auc:0.83605\n",
      "[4]\tvalidation-auc:0.83622\n",
      "[5]\tvalidation-auc:0.83639\n",
      "[6]\tvalidation-auc:0.83866\n",
      "[7]\tvalidation-auc:0.83676\n",
      "[8]\tvalidation-auc:0.83753\n",
      "[9]\tvalidation-auc:0.83689\n"
     ]
    },
    {
     "name": "stderr",
     "output_type": "stream",
     "text": [
      "[I 2020-09-11 19:10:34,114] Trial 47 finished with value: 0.7702027622685865 and parameters: {'booster': 'gbtree', 'lambda': 5.420025163759909e-06, 'alpha': 0.00010413500881840439, 'max_depth': 9, 'eta': 6.675385232439343e-05, 'gamma': 0.3618925535269341, 'grow_policy': 'depthwise'}. Best is trial 31 with value: 0.7775492212753453.\n"
     ]
    },
    {
     "name": "stdout",
     "output_type": "stream",
     "text": [
      "[19:10:34] WARNING: ../src/learner.cc:516: \n",
      "Parameters: { silent } might not be used.\n",
      "\n",
      "  This may not be accurate due to some parameters are only used in language bindings but\n",
      "  passed down to XGBoost core.  Or some parameters are not used but slip through this\n",
      "  verification. Please open an issue if you find above cases.\n",
      "\n",
      "\n",
      "[0]\tvalidation-auc:0.74803\n",
      "[1]\tvalidation-auc:0.74801\n",
      "[2]\tvalidation-auc:0.74801\n",
      "[3]\tvalidation-auc:0.74801\n",
      "[4]\tvalidation-auc:0.74801\n",
      "[5]\tvalidation-auc:0.74801\n",
      "[6]\tvalidation-auc:0.74801\n",
      "[7]\tvalidation-auc:0.74803\n",
      "[8]\tvalidation-auc:0.74803\n",
      "[9]\tvalidation-auc:0.78626\n"
     ]
    },
    {
     "name": "stderr",
     "output_type": "stream",
     "text": [
      "[I 2020-09-11 19:10:34,184] Trial 48 finished with value: 0.7458125183661475 and parameters: {'booster': 'gbtree', 'lambda': 1.2905915483281078e-07, 'alpha': 0.0021496181867481628, 'max_depth': 5, 'eta': 0.0031830588345061668, 'gamma': 0.06663279019191334, 'grow_policy': 'depthwise'}. Best is trial 31 with value: 0.7775492212753453.\n"
     ]
    },
    {
     "name": "stdout",
     "output_type": "stream",
     "text": [
      "[19:10:34] WARNING: ../src/learner.cc:516: \n",
      "Parameters: { silent } might not be used.\n",
      "\n",
      "  This may not be accurate due to some parameters are only used in language bindings but\n",
      "  passed down to XGBoost core.  Or some parameters are not used but slip through this\n",
      "  verification. Please open an issue if you find above cases.\n",
      "\n",
      "\n",
      "[0]\tvalidation-auc:0.84081\n",
      "[1]\tvalidation-auc:0.84099\n",
      "[2]\tvalidation-auc:0.84147\n",
      "[3]\tvalidation-auc:0.84137\n",
      "[4]\tvalidation-auc:0.84150\n",
      "[5]\tvalidation-auc:0.84137\n",
      "[6]\tvalidation-auc:0.84165\n",
      "[7]\tvalidation-auc:0.84147\n",
      "[8]\tvalidation-auc:0.84167\n",
      "[9]\tvalidation-auc:0.84127\n"
     ]
    },
    {
     "name": "stderr",
     "output_type": "stream",
     "text": [
      "[I 2020-09-11 19:10:34,278] Trial 49 finished with value: 0.7702027622685865 and parameters: {'booster': 'gbtree', 'lambda': 6.675106627770895e-05, 'alpha': 0.014389647400408916, 'max_depth': 9, 'eta': 0.0005165533720215577, 'gamma': 4.2667059334078494e-07, 'grow_policy': 'depthwise'}. Best is trial 31 with value: 0.7775492212753453.\n"
     ]
    },
    {
     "name": "stdout",
     "output_type": "stream",
     "text": [
      "[19:10:34] WARNING: ../src/learner.cc:516: \n",
      "Parameters: { silent } might not be used.\n",
      "\n",
      "  This may not be accurate due to some parameters are only used in language bindings but\n",
      "  passed down to XGBoost core.  Or some parameters are not used but slip through this\n",
      "  verification. Please open an issue if you find above cases.\n",
      "\n",
      "\n",
      "[0]\tvalidation-auc:0.67564\n",
      "[1]\tvalidation-auc:0.67598\n",
      "[2]\tvalidation-auc:0.67615\n",
      "[3]\tvalidation-auc:0.67630\n",
      "[4]\tvalidation-auc:0.67639\n",
      "[5]\tvalidation-auc:0.67646\n",
      "[6]\tvalidation-auc:0.67647\n",
      "[7]\tvalidation-auc:0.67649\n",
      "[8]\tvalidation-auc:0.67651\n",
      "[9]\tvalidation-auc:0.67652\n"
     ]
    },
    {
     "name": "stderr",
     "output_type": "stream",
     "text": [
      "[I 2020-09-11 19:10:34,316] Trial 50 finished with value: 0.6749926535409932 and parameters: {'booster': 'gblinear', 'lambda': 8.498688548163766e-06, 'alpha': 0.007493995674093563}. Best is trial 31 with value: 0.7775492212753453.\n"
     ]
    },
    {
     "name": "stdout",
     "output_type": "stream",
     "text": [
      "[19:10:34] WARNING: ../src/learner.cc:516: \n",
      "Parameters: { silent } might not be used.\n",
      "\n",
      "  This may not be accurate due to some parameters are only used in language bindings but\n",
      "  passed down to XGBoost core.  Or some parameters are not used but slip through this\n",
      "  verification. Please open an issue if you find above cases.\n",
      "\n",
      "\n",
      "[0]\tvalidation-auc:0.84020\n",
      "[1]\tvalidation-auc:0.84054\n",
      "[2]\tvalidation-auc:0.84038\n",
      "[3]\tvalidation-auc:0.84049\n",
      "[4]\tvalidation-auc:0.84040\n",
      "[5]\tvalidation-auc:0.84047\n",
      "[6]\tvalidation-auc:0.84039\n",
      "[7]\tvalidation-auc:0.84048\n",
      "[8]\tvalidation-auc:0.84042\n",
      "[9]\tvalidation-auc:0.84052\n"
     ]
    },
    {
     "name": "stderr",
     "output_type": "stream",
     "text": [
      "[I 2020-09-11 19:10:34,403] Trial 51 finished with value: 0.7766676461945342 and parameters: {'booster': 'gbtree', 'lambda': 1.831113318812587e-06, 'alpha': 0.0998817744165061, 'max_depth': 8, 'eta': 2.374676342912776e-05, 'gamma': 0.43424287659451516, 'grow_policy': 'depthwise'}. Best is trial 31 with value: 0.7775492212753453.\n"
     ]
    },
    {
     "name": "stdout",
     "output_type": "stream",
     "text": [
      "[19:10:34] WARNING: ../src/learner.cc:516: \n",
      "Parameters: { silent } might not be used.\n",
      "\n",
      "  This may not be accurate due to some parameters are only used in language bindings but\n",
      "  passed down to XGBoost core.  Or some parameters are not used but slip through this\n",
      "  verification. Please open an issue if you find above cases.\n",
      "\n",
      "\n",
      "[0]\tvalidation-auc:0.83975\n",
      "[1]\tvalidation-auc:0.83988\n",
      "[2]\tvalidation-auc:0.83994\n",
      "[3]\tvalidation-auc:0.83991\n",
      "[4]\tvalidation-auc:0.83983\n",
      "[5]\tvalidation-auc:0.84000\n",
      "[6]\tvalidation-auc:0.83985\n",
      "[7]\tvalidation-auc:0.83993\n",
      "[8]\tvalidation-auc:0.83991\n",
      "[9]\tvalidation-auc:0.84009\n"
     ]
    },
    {
     "name": "stderr",
     "output_type": "stream",
     "text": [
      "[I 2020-09-11 19:10:34,497] Trial 52 finished with value: 0.7763737878342639 and parameters: {'booster': 'gbtree', 'lambda': 9.252538297337334e-07, 'alpha': 0.09021650227063463, 'max_depth': 8, 'eta': 2.3773332210513467e-05, 'gamma': 0.38757598372610774, 'grow_policy': 'depthwise'}. Best is trial 31 with value: 0.7775492212753453.\n"
     ]
    },
    {
     "name": "stdout",
     "output_type": "stream",
     "text": [
      "[19:10:34] WARNING: ../src/learner.cc:516: \n",
      "Parameters: { silent } might not be used.\n",
      "\n",
      "  This may not be accurate due to some parameters are only used in language bindings but\n",
      "  passed down to XGBoost core.  Or some parameters are not used but slip through this\n",
      "  verification. Please open an issue if you find above cases.\n",
      "\n",
      "\n",
      "[0]\tvalidation-auc:0.83983\n",
      "[1]\tvalidation-auc:0.83994\n",
      "[2]\tvalidation-auc:0.84009\n",
      "[3]\tvalidation-auc:0.84013\n",
      "[4]\tvalidation-auc:0.83997\n",
      "[5]\tvalidation-auc:0.84011\n",
      "[6]\tvalidation-auc:0.84003\n",
      "[7]\tvalidation-auc:0.84013\n",
      "[8]\tvalidation-auc:0.84034\n",
      "[9]\tvalidation-auc:0.84029\n"
     ]
    },
    {
     "name": "stderr",
     "output_type": "stream",
     "text": [
      "[I 2020-09-11 19:10:34,592] Trial 53 finished with value: 0.7666764619453423 and parameters: {'booster': 'gbtree', 'lambda': 0.4489487592223562, 'alpha': 0.0012141208103748351, 'max_depth': 9, 'eta': 9.730662048619974e-05, 'gamma': 0.2595625326677919, 'grow_policy': 'depthwise'}. Best is trial 31 with value: 0.7775492212753453.\n"
     ]
    },
    {
     "name": "stdout",
     "output_type": "stream",
     "text": [
      "[19:10:34] WARNING: ../src/learner.cc:516: \n",
      "Parameters: { silent } might not be used.\n",
      "\n",
      "  This may not be accurate due to some parameters are only used in language bindings but\n",
      "  passed down to XGBoost core.  Or some parameters are not used but slip through this\n",
      "  verification. Please open an issue if you find above cases.\n",
      "\n",
      "\n",
      "[0]\tvalidation-auc:0.84371\n",
      "[1]\tvalidation-auc:0.84443\n",
      "[2]\tvalidation-auc:0.84415\n",
      "[3]\tvalidation-auc:0.84446\n",
      "[4]\tvalidation-auc:0.84426\n",
      "[5]\tvalidation-auc:0.84437\n",
      "[6]\tvalidation-auc:0.84426\n",
      "[7]\tvalidation-auc:0.84441\n",
      "[8]\tvalidation-auc:0.84429\n",
      "[9]\tvalidation-auc:0.84439\n"
     ]
    },
    {
     "name": "stderr",
     "output_type": "stream",
     "text": [
      "[I 2020-09-11 19:10:34,677] Trial 54 finished with value: 0.772259770790479 and parameters: {'booster': 'gbtree', 'lambda': 2.183094638150914e-06, 'alpha': 0.5239916242150471, 'max_depth': 8, 'eta': 6.571320123282219e-06, 'gamma': 0.8940583862617858, 'grow_policy': 'depthwise'}. Best is trial 31 with value: 0.7775492212753453.\n"
     ]
    },
    {
     "name": "stdout",
     "output_type": "stream",
     "text": [
      "[19:10:34] WARNING: ../src/learner.cc:516: \n",
      "Parameters: { silent } might not be used.\n",
      "\n",
      "  This may not be accurate due to some parameters are only used in language bindings but\n",
      "  passed down to XGBoost core.  Or some parameters are not used but slip through this\n",
      "  verification. Please open an issue if you find above cases.\n",
      "\n",
      "\n",
      "[0]\tvalidation-auc:0.81201\n",
      "[1]\tvalidation-auc:0.81213\n",
      "[2]\tvalidation-auc:0.81202\n",
      "[3]\tvalidation-auc:0.81340\n",
      "[4]\tvalidation-auc:0.81329\n",
      "[5]\tvalidation-auc:0.81344\n",
      "[6]\tvalidation-auc:0.81332\n",
      "[7]\tvalidation-auc:0.81344\n",
      "[8]\tvalidation-auc:0.81334\n",
      "[9]\tvalidation-auc:0.81279\n"
     ]
    },
    {
     "name": "stderr",
     "output_type": "stream",
     "text": [
      "[I 2020-09-11 19:10:34,758] Trial 55 finished with value: 0.7669703203056127 and parameters: {'booster': 'gbtree', 'lambda': 2.8566634141113627e-05, 'alpha': 0.0003111315983884945, 'max_depth': 7, 'eta': 0.00016635459657402514, 'gamma': 0.07996146348533457, 'grow_policy': 'depthwise'}. Best is trial 31 with value: 0.7775492212753453.\n"
     ]
    },
    {
     "name": "stdout",
     "output_type": "stream",
     "text": [
      "[19:10:34] WARNING: ../src/learner.cc:516: \n",
      "Parameters: { silent } might not be used.\n",
      "\n",
      "  This may not be accurate due to some parameters are only used in language bindings but\n",
      "  passed down to XGBoost core.  Or some parameters are not used but slip through this\n",
      "  verification. Please open an issue if you find above cases.\n",
      "\n",
      "\n",
      "[0]\tvalidation-auc:0.67575\n",
      "[1]\tvalidation-auc:0.67606\n",
      "[2]\tvalidation-auc:0.67624\n",
      "[3]\tvalidation-auc:0.67638\n",
      "[4]\tvalidation-auc:0.67647\n",
      "[5]\tvalidation-auc:0.67652\n",
      "[6]\tvalidation-auc:0.67654\n",
      "[7]\tvalidation-auc:0.67656\n",
      "[8]\tvalidation-auc:0.67657\n",
      "[9]\tvalidation-auc:0.67658\n"
     ]
    },
    {
     "name": "stderr",
     "output_type": "stream",
     "text": [
      "[I 2020-09-11 19:10:34,798] Trial 56 finished with value: 0.6758742286218042 and parameters: {'booster': 'gblinear', 'lambda': 0.0016879542411841451, 'alpha': 0.006330579776024319}. Best is trial 31 with value: 0.7775492212753453.\n"
     ]
    },
    {
     "name": "stdout",
     "output_type": "stream",
     "text": [
      "[19:10:34] WARNING: ../src/learner.cc:516: \n",
      "Parameters: { silent } might not be used.\n",
      "\n",
      "  This may not be accurate due to some parameters are only used in language bindings but\n",
      "  passed down to XGBoost core.  Or some parameters are not used but slip through this\n",
      "  verification. Please open an issue if you find above cases.\n",
      "\n",
      "\n",
      "[0]\tvalidation-auc:0.84078\n",
      "[1]\tvalidation-auc:0.84044\n",
      "[2]\tvalidation-auc:0.84052\n",
      "[3]\tvalidation-auc:0.84029\n",
      "[4]\tvalidation-auc:0.84038\n",
      "[5]\tvalidation-auc:0.84020\n",
      "[6]\tvalidation-auc:0.84035\n",
      "[7]\tvalidation-auc:0.84040\n",
      "[8]\tvalidation-auc:0.84056\n",
      "[9]\tvalidation-auc:0.84061\n"
     ]
    },
    {
     "name": "stderr",
     "output_type": "stream",
     "text": [
      "[I 2020-09-11 19:10:34,891] Trial 57 finished with value: 0.7687334704672348 and parameters: {'booster': 'gbtree', 'lambda': 6.43083370187242e-08, 'alpha': 0.02596455913350098, 'max_depth': 9, 'eta': 2.84786428120446e-05, 'gamma': 0.005188270385531346, 'grow_policy': 'depthwise'}. Best is trial 31 with value: 0.7775492212753453.\n"
     ]
    },
    {
     "name": "stdout",
     "output_type": "stream",
     "text": [
      "[19:10:34] WARNING: ../src/learner.cc:516: \n",
      "Parameters: { silent } might not be used.\n",
      "\n",
      "  This may not be accurate due to some parameters are only used in language bindings but\n",
      "  passed down to XGBoost core.  Or some parameters are not used but slip through this\n",
      "  verification. Please open an issue if you find above cases.\n",
      "\n",
      "\n",
      "[0]\tvalidation-auc:0.81201\n",
      "[1]\tvalidation-auc:0.81214\n",
      "[2]\tvalidation-auc:0.81249\n",
      "[3]\tvalidation-auc:0.81336\n",
      "[4]\tvalidation-auc:0.81322\n",
      "[5]\tvalidation-auc:0.81351\n",
      "[6]\tvalidation-auc:0.81341\n",
      "[7]\tvalidation-auc:0.81346\n",
      "[8]\tvalidation-auc:0.81339\n",
      "[9]\tvalidation-auc:0.81344\n"
     ]
    },
    {
     "name": "stderr",
     "output_type": "stream",
     "text": [
      "[I 2020-09-11 19:10:34,979] Trial 58 finished with value: 0.767264178665883 and parameters: {'booster': 'dart', 'lambda': 9.460635408447613e-06, 'alpha': 0.005497573132727226, 'max_depth': 7, 'eta': 5.8578044278854875e-05, 'gamma': 0.19146069649070052, 'grow_policy': 'lossguide', 'sample_type': 'weighted', 'normalize_type': 'tree', 'rate_drop': 1.500009182258363e-06, 'skip_drop': 0.00044706427570080675}. Best is trial 31 with value: 0.7775492212753453.\n"
     ]
    },
    {
     "name": "stdout",
     "output_type": "stream",
     "text": [
      "[19:10:35] WARNING: ../src/learner.cc:516: \n",
      "Parameters: { silent } might not be used.\n",
      "\n",
      "  This may not be accurate due to some parameters are only used in language bindings but\n",
      "  passed down to XGBoost core.  Or some parameters are not used but slip through this\n",
      "  verification. Please open an issue if you find above cases.\n",
      "\n",
      "\n",
      "[0]\tvalidation-auc:0.84045\n",
      "[1]\tvalidation-auc:0.84099\n",
      "[2]\tvalidation-auc:0.84162\n",
      "[3]\tvalidation-auc:0.84139\n",
      "[4]\tvalidation-auc:0.84154\n",
      "[5]\tvalidation-auc:0.84128\n",
      "[6]\tvalidation-auc:0.84147\n",
      "[7]\tvalidation-auc:0.84117\n",
      "[8]\tvalidation-auc:0.84127\n",
      "[9]\tvalidation-auc:0.84124\n"
     ]
    },
    {
     "name": "stderr",
     "output_type": "stream",
     "text": [
      "[I 2020-09-11 19:10:35,074] Trial 59 finished with value: 0.7775492212753453 and parameters: {'booster': 'dart', 'lambda': 4.139886410007651e-05, 'alpha': 0.0015631398499148968, 'max_depth': 8, 'eta': 0.000534607285077081, 'gamma': 0.016976293306330756, 'grow_policy': 'depthwise', 'sample_type': 'weighted', 'normalize_type': 'forest', 'rate_drop': 1.9531801215784903e-07, 'skip_drop': 6.004177960078547e-08}. Best is trial 31 with value: 0.7775492212753453.\n"
     ]
    },
    {
     "name": "stdout",
     "output_type": "stream",
     "text": [
      "[19:10:35] WARNING: ../src/learner.cc:516: \n",
      "Parameters: { silent } might not be used.\n",
      "\n",
      "  This may not be accurate due to some parameters are only used in language bindings but\n",
      "  passed down to XGBoost core.  Or some parameters are not used but slip through this\n",
      "  verification. Please open an issue if you find above cases.\n",
      "\n",
      "\n",
      "[0]\tvalidation-auc:0.81201\n",
      "[1]\tvalidation-auc:0.81338\n",
      "[2]\tvalidation-auc:0.81358\n",
      "[3]\tvalidation-auc:0.81344\n",
      "[4]\tvalidation-auc:0.81264\n",
      "[5]\tvalidation-auc:0.81279\n",
      "[6]\tvalidation-auc:0.81281\n",
      "[7]\tvalidation-auc:0.81279\n",
      "[8]\tvalidation-auc:0.81270\n",
      "[9]\tvalidation-auc:0.81286\n"
     ]
    },
    {
     "name": "stderr",
     "output_type": "stream",
     "text": [
      "[I 2020-09-11 19:10:35,169] Trial 60 finished with value: 0.7669703203056127 and parameters: {'booster': 'dart', 'lambda': 0.00012414298264933489, 'alpha': 7.361155455592288e-05, 'max_depth': 7, 'eta': 0.0006456843281394939, 'gamma': 0.01529351885227777, 'grow_policy': 'depthwise', 'sample_type': 'weighted', 'normalize_type': 'forest', 'rate_drop': 8.26048000215896e-08, 'skip_drop': 1.720683171799496e-06}. Best is trial 31 with value: 0.7775492212753453.\n"
     ]
    },
    {
     "name": "stdout",
     "output_type": "stream",
     "text": [
      "[19:10:35] WARNING: ../src/learner.cc:516: \n",
      "Parameters: { silent } might not be used.\n",
      "\n",
      "  This may not be accurate due to some parameters are only used in language bindings but\n",
      "  passed down to XGBoost core.  Or some parameters are not used but slip through this\n",
      "  verification. Please open an issue if you find above cases.\n",
      "\n",
      "\n",
      "[0]\tvalidation-auc:0.84017\n",
      "[1]\tvalidation-auc:0.83957\n",
      "[2]\tvalidation-auc:0.84093\n",
      "[3]\tvalidation-auc:0.84099\n",
      "[4]\tvalidation-auc:0.84130\n",
      "[5]\tvalidation-auc:0.84109\n",
      "[6]\tvalidation-auc:0.84109\n",
      "[7]\tvalidation-auc:0.84131\n",
      "[8]\tvalidation-auc:0.84129\n",
      "[9]\tvalidation-auc:0.84137\n"
     ]
    },
    {
     "name": "stderr",
     "output_type": "stream",
     "text": [
      "[I 2020-09-11 19:10:35,265] Trial 61 finished with value: 0.7775492212753453 and parameters: {'booster': 'dart', 'lambda': 4.4583279145279615e-05, 'alpha': 0.0016624842265957642, 'max_depth': 8, 'eta': 0.00016437407176310404, 'gamma': 0.2011589285475394, 'grow_policy': 'depthwise', 'sample_type': 'weighted', 'normalize_type': 'forest', 'rate_drop': 3.4047662644247834e-07, 'skip_drop': 5.415624111250107e-08}. Best is trial 31 with value: 0.7775492212753453.\n"
     ]
    },
    {
     "name": "stdout",
     "output_type": "stream",
     "text": [
      "[19:10:35] WARNING: ../src/learner.cc:516: \n",
      "Parameters: { silent } might not be used.\n",
      "\n",
      "  This may not be accurate due to some parameters are only used in language bindings but\n",
      "  passed down to XGBoost core.  Or some parameters are not used but slip through this\n",
      "  verification. Please open an issue if you find above cases.\n",
      "\n",
      "\n",
      "[0]\tvalidation-auc:0.83859\n",
      "[1]\tvalidation-auc:0.84059\n",
      "[2]\tvalidation-auc:0.84113\n",
      "[3]\tvalidation-auc:0.84122\n",
      "[4]\tvalidation-auc:0.84139\n",
      "[5]\tvalidation-auc:0.84120\n",
      "[6]\tvalidation-auc:0.84138\n",
      "[7]\tvalidation-auc:0.84137\n",
      "[8]\tvalidation-auc:0.84155\n",
      "[9]\tvalidation-auc:0.84145\n"
     ]
    },
    {
     "name": "stderr",
     "output_type": "stream",
     "text": [
      "[I 2020-09-11 19:10:35,362] Trial 62 finished with value: 0.7775492212753453 and parameters: {'booster': 'dart', 'lambda': 4.6563515277375714e-05, 'alpha': 0.0014267247219254843, 'max_depth': 8, 'eta': 0.0002748930594621872, 'gamma': 0.0885331732898839, 'grow_policy': 'depthwise', 'sample_type': 'weighted', 'normalize_type': 'forest', 'rate_drop': 1.5183292449026807e-07, 'skip_drop': 7.300802147950767e-08}. Best is trial 31 with value: 0.7775492212753453.\n"
     ]
    },
    {
     "name": "stdout",
     "output_type": "stream",
     "text": [
      "[19:10:35] WARNING: ../src/learner.cc:516: \n",
      "Parameters: { silent } might not be used.\n",
      "\n",
      "  This may not be accurate due to some parameters are only used in language bindings but\n",
      "  passed down to XGBoost core.  Or some parameters are not used but slip through this\n",
      "  verification. Please open an issue if you find above cases.\n",
      "\n",
      "\n",
      "[0]\tvalidation-auc:0.83526\n",
      "[1]\tvalidation-auc:0.83696\n",
      "[2]\tvalidation-auc:0.83777\n",
      "[3]\tvalidation-auc:0.84062\n",
      "[4]\tvalidation-auc:0.84073\n",
      "[5]\tvalidation-auc:0.84078\n",
      "[6]\tvalidation-auc:0.84092\n",
      "[7]\tvalidation-auc:0.84091\n",
      "[8]\tvalidation-auc:0.84113\n",
      "[9]\tvalidation-auc:0.84092\n"
     ]
    },
    {
     "name": "stderr",
     "output_type": "stream",
     "text": [
      "[I 2020-09-11 19:10:35,465] Trial 63 finished with value: 0.7702027622685865 and parameters: {'booster': 'dart', 'lambda': 4.348703257857208e-05, 'alpha': 0.0015245024066351787, 'max_depth': 9, 'eta': 0.0001282572004635605, 'gamma': 0.06069675844613858, 'grow_policy': 'depthwise', 'sample_type': 'weighted', 'normalize_type': 'forest', 'rate_drop': 1.8811525328519587e-07, 'skip_drop': 1.1238627460435704e-08}. Best is trial 31 with value: 0.7775492212753453.\n"
     ]
    },
    {
     "name": "stdout",
     "output_type": "stream",
     "text": [
      "[19:10:35] WARNING: ../src/learner.cc:516: \n",
      "Parameters: { silent } might not be used.\n",
      "\n",
      "  This may not be accurate due to some parameters are only used in language bindings but\n",
      "  passed down to XGBoost core.  Or some parameters are not used but slip through this\n",
      "  verification. Please open an issue if you find above cases.\n",
      "\n",
      "\n",
      "[0]\tvalidation-auc:0.84049\n",
      "[1]\tvalidation-auc:0.84126\n",
      "[2]\tvalidation-auc:0.84086\n",
      "[3]\tvalidation-auc:0.84121\n",
      "[4]\tvalidation-auc:0.84132\n",
      "[5]\tvalidation-auc:0.84084\n",
      "[6]\tvalidation-auc:0.84097\n",
      "[7]\tvalidation-auc:0.84057\n",
      "[8]\tvalidation-auc:0.84122\n",
      "[9]\tvalidation-auc:0.84104\n"
     ]
    },
    {
     "name": "stderr",
     "output_type": "stream",
     "text": [
      "[I 2020-09-11 19:10:35,563] Trial 64 finished with value: 0.7760799294739935 and parameters: {'booster': 'dart', 'lambda': 1.574280029651873e-05, 'alpha': 0.0005069313891163477, 'max_depth': 8, 'eta': 0.0021554454460835136, 'gamma': 0.0203327036817779, 'grow_policy': 'depthwise', 'sample_type': 'weighted', 'normalize_type': 'forest', 'rate_drop': 4.501102310519936e-08, 'skip_drop': 8.300429336302813e-08}. Best is trial 31 with value: 0.7775492212753453.\n"
     ]
    },
    {
     "name": "stdout",
     "output_type": "stream",
     "text": [
      "[19:10:35] WARNING: ../src/learner.cc:516: \n",
      "Parameters: { silent } might not be used.\n",
      "\n",
      "  This may not be accurate due to some parameters are only used in language bindings but\n",
      "  passed down to XGBoost core.  Or some parameters are not used but slip through this\n",
      "  verification. Please open an issue if you find above cases.\n",
      "\n",
      "\n",
      "[0]\tvalidation-auc:0.84045\n",
      "[1]\tvalidation-auc:0.84121\n",
      "[2]\tvalidation-auc:0.84126\n",
      "[3]\tvalidation-auc:0.84094\n",
      "[4]\tvalidation-auc:0.84125\n",
      "[5]\tvalidation-auc:0.84113\n",
      "[6]\tvalidation-auc:0.84149\n",
      "[7]\tvalidation-auc:0.84121\n",
      "[8]\tvalidation-auc:0.84148\n",
      "[9]\tvalidation-auc:0.84097\n"
     ]
    },
    {
     "name": "stderr",
     "output_type": "stream",
     "text": [
      "[I 2020-09-11 19:10:35,658] Trial 65 finished with value: 0.7778430796356156 and parameters: {'booster': 'dart', 'lambda': 0.0002567845528387062, 'alpha': 0.00019379474013913402, 'max_depth': 8, 'eta': 0.001026894536083572, 'gamma': 0.12008144683779005, 'grow_policy': 'depthwise', 'sample_type': 'weighted', 'normalize_type': 'forest', 'rate_drop': 4.95004759740062e-07, 'skip_drop': 1.7970560833945843e-08}. Best is trial 65 with value: 0.7778430796356156.\n"
     ]
    },
    {
     "name": "stdout",
     "output_type": "stream",
     "text": [
      "[19:10:35] WARNING: ../src/learner.cc:516: \n",
      "Parameters: { silent } might not be used.\n",
      "\n",
      "  This may not be accurate due to some parameters are only used in language bindings but\n",
      "  passed down to XGBoost core.  Or some parameters are not used but slip through this\n",
      "  verification. Please open an issue if you find above cases.\n",
      "\n",
      "\n",
      "[0]\tvalidation-auc:0.83991\n",
      "[1]\tvalidation-auc:0.84027\n",
      "[2]\tvalidation-auc:0.84142\n",
      "[3]\tvalidation-auc:0.84124\n",
      "[4]\tvalidation-auc:0.84167\n",
      "[5]\tvalidation-auc:0.84144\n",
      "[6]\tvalidation-auc:0.84210\n",
      "[7]\tvalidation-auc:0.84190\n",
      "[8]\tvalidation-auc:0.84257\n",
      "[9]\tvalidation-auc:0.84159\n"
     ]
    },
    {
     "name": "stderr",
     "output_type": "stream",
     "text": [
      "[I 2020-09-11 19:10:35,759] Trial 66 finished with value: 0.7702027622685865 and parameters: {'booster': 'dart', 'lambda': 3.927526612635505e-06, 'alpha': 0.00016852466037576351, 'max_depth': 9, 'eta': 0.0010221916137654562, 'gamma': 0.003961423513269649, 'grow_policy': 'depthwise', 'sample_type': 'weighted', 'normalize_type': 'forest', 'rate_drop': 3.595370513865195e-07, 'skip_drop': 1.1216946865816639e-08}. Best is trial 65 with value: 0.7778430796356156.\n"
     ]
    },
    {
     "name": "stdout",
     "output_type": "stream",
     "text": [
      "[19:10:35] WARNING: ../src/learner.cc:516: \n",
      "Parameters: { silent } might not be used.\n",
      "\n",
      "  This may not be accurate due to some parameters are only used in language bindings but\n",
      "  passed down to XGBoost core.  Or some parameters are not used but slip through this\n",
      "  verification. Please open an issue if you find above cases.\n",
      "\n",
      "\n",
      "[0]\tvalidation-auc:0.83891\n",
      "[1]\tvalidation-auc:0.84022\n",
      "[2]\tvalidation-auc:0.84100\n",
      "[3]\tvalidation-auc:0.84055\n",
      "[4]\tvalidation-auc:0.84125\n",
      "[5]\tvalidation-auc:0.84084\n",
      "[6]\tvalidation-auc:0.84137\n",
      "[7]\tvalidation-auc:0.84158\n",
      "[8]\tvalidation-auc:0.84147\n",
      "[9]\tvalidation-auc:0.84117\n"
     ]
    },
    {
     "name": "stderr",
     "output_type": "stream",
     "text": [
      "[I 2020-09-11 19:10:35,860] Trial 67 finished with value: 0.7749044960329121 and parameters: {'booster': 'dart', 'lambda': 1.5051513116250656e-05, 'alpha': 6.30985523023762e-05, 'max_depth': 8, 'eta': 0.005347715157233076, 'gamma': 0.10793778336737969, 'grow_policy': 'depthwise', 'sample_type': 'weighted', 'normalize_type': 'forest', 'rate_drop': 1.5324964634169034e-06, 'skip_drop': 0.00010136995878223856}. Best is trial 65 with value: 0.7778430796356156.\n"
     ]
    },
    {
     "name": "stdout",
     "output_type": "stream",
     "text": [
      "[19:10:35] WARNING: ../src/learner.cc:516: \n",
      "Parameters: { silent } might not be used.\n",
      "\n",
      "  This may not be accurate due to some parameters are only used in language bindings but\n",
      "  passed down to XGBoost core.  Or some parameters are not used but slip through this\n",
      "  verification. Please open an issue if you find above cases.\n",
      "\n",
      "\n",
      "[0]\tvalidation-auc:0.81200\n",
      "[1]\tvalidation-auc:0.81209\n",
      "[2]\tvalidation-auc:0.81199\n",
      "[3]\tvalidation-auc:0.81342\n",
      "[4]\tvalidation-auc:0.81264\n",
      "[5]\tvalidation-auc:0.81279\n",
      "[6]\tvalidation-auc:0.81281\n",
      "[7]\tvalidation-auc:0.81278\n",
      "[8]\tvalidation-auc:0.81269\n",
      "[9]\tvalidation-auc:0.81279\n"
     ]
    },
    {
     "name": "stderr",
     "output_type": "stream",
     "text": [
      "[I 2020-09-11 19:10:35,948] Trial 68 finished with value: 0.7669703203056127 and parameters: {'booster': 'dart', 'lambda': 0.00029168820906958875, 'alpha': 0.0003740903336570864, 'max_depth': 7, 'eta': 0.0003074039090040869, 'gamma': 0.011165260122051492, 'grow_policy': 'depthwise', 'sample_type': 'weighted', 'normalize_type': 'forest', 'rate_drop': 5.967717983330215e-08, 'skip_drop': 3.358566529965083e-08}. Best is trial 65 with value: 0.7778430796356156.\n"
     ]
    },
    {
     "name": "stdout",
     "output_type": "stream",
     "text": [
      "[19:10:35] WARNING: ../src/learner.cc:516: \n",
      "Parameters: { silent } might not be used.\n",
      "\n",
      "  This may not be accurate due to some parameters are only used in language bindings but\n",
      "  passed down to XGBoost core.  Or some parameters are not used but slip through this\n",
      "  verification. Please open an issue if you find above cases.\n",
      "\n",
      "\n",
      "[0]\tvalidation-auc:0.83819\n",
      "[1]\tvalidation-auc:0.83812\n",
      "[2]\tvalidation-auc:0.83842\n",
      "[3]\tvalidation-auc:0.83876\n",
      "[4]\tvalidation-auc:0.83870\n",
      "[5]\tvalidation-auc:0.83869\n",
      "[6]\tvalidation-auc:0.83865\n",
      "[7]\tvalidation-auc:0.83873\n",
      "[8]\tvalidation-auc:0.83879\n",
      "[9]\tvalidation-auc:0.83883\n"
     ]
    },
    {
     "name": "stderr",
     "output_type": "stream",
     "text": [
      "[I 2020-09-11 19:10:36,042] Trial 69 finished with value: 0.7766676461945342 and parameters: {'booster': 'dart', 'lambda': 0.00011892736449628584, 'alpha': 0.00014783170829739032, 'max_depth': 8, 'eta': 9.485412614583178e-06, 'gamma': 0.053056390162221446, 'grow_policy': 'depthwise', 'sample_type': 'weighted', 'normalize_type': 'forest', 'rate_drop': 1.8088546227988157e-08, 'skip_drop': 1.4890168728710838e-05}. Best is trial 65 with value: 0.7778430796356156.\n"
     ]
    },
    {
     "name": "stdout",
     "output_type": "stream",
     "text": [
      "[19:10:36] WARNING: ../src/learner.cc:516: \n",
      "Parameters: { silent } might not be used.\n",
      "\n",
      "  This may not be accurate due to some parameters are only used in language bindings but\n",
      "  passed down to XGBoost core.  Or some parameters are not used but slip through this\n",
      "  verification. Please open an issue if you find above cases.\n",
      "\n",
      "\n",
      "[0]\tvalidation-auc:0.67597\n",
      "[1]\tvalidation-auc:0.67628\n",
      "[2]\tvalidation-auc:0.67644\n",
      "[3]\tvalidation-auc:0.67660\n",
      "[4]\tvalidation-auc:0.67667\n",
      "[5]\tvalidation-auc:0.67672\n",
      "[6]\tvalidation-auc:0.67676\n",
      "[7]\tvalidation-auc:0.67678\n",
      "[8]\tvalidation-auc:0.67680\n",
      "[9]\tvalidation-auc:0.67681\n"
     ]
    },
    {
     "name": "stderr",
     "output_type": "stream",
     "text": [
      "[I 2020-09-11 19:10:36,071] Trial 70 finished with value: 0.6744049368204525 and parameters: {'booster': 'gblinear', 'lambda': 5.298387045051421e-07, 'alpha': 0.0028259303676464553}. Best is trial 65 with value: 0.7778430796356156.\n"
     ]
    },
    {
     "name": "stdout",
     "output_type": "stream",
     "text": [
      "[19:10:36] WARNING: ../src/learner.cc:516: \n",
      "Parameters: { silent } might not be used.\n",
      "\n",
      "  This may not be accurate due to some parameters are only used in language bindings but\n",
      "  passed down to XGBoost core.  Or some parameters are not used but slip through this\n",
      "  verification. Please open an issue if you find above cases.\n",
      "\n",
      "\n",
      "[0]\tvalidation-auc:0.83951\n",
      "[1]\tvalidation-auc:0.84067\n",
      "[2]\tvalidation-auc:0.84162\n",
      "[3]\tvalidation-auc:0.84138\n",
      "[4]\tvalidation-auc:0.84149\n",
      "[5]\tvalidation-auc:0.84123\n",
      "[6]\tvalidation-auc:0.84141\n",
      "[7]\tvalidation-auc:0.84116\n",
      "[8]\tvalidation-auc:0.84121\n",
      "[9]\tvalidation-auc:0.84117\n"
     ]
    },
    {
     "name": "stderr",
     "output_type": "stream",
     "text": [
      "[I 2020-09-11 19:10:36,164] Trial 71 finished with value: 0.7775492212753453 and parameters: {'booster': 'dart', 'lambda': 4.451779501091741e-05, 'alpha': 0.0008801063568815838, 'max_depth': 8, 'eta': 0.0004964112974845453, 'gamma': 0.12217424334684873, 'grow_policy': 'depthwise', 'sample_type': 'weighted', 'normalize_type': 'forest', 'rate_drop': 9.110528772515575e-07, 'skip_drop': 1.0987128011788669e-07}. Best is trial 65 with value: 0.7778430796356156.\n"
     ]
    },
    {
     "name": "stdout",
     "output_type": "stream",
     "text": [
      "[19:10:36] WARNING: ../src/learner.cc:516: \n",
      "Parameters: { silent } might not be used.\n",
      "\n",
      "  This may not be accurate due to some parameters are only used in language bindings but\n",
      "  passed down to XGBoost core.  Or some parameters are not used but slip through this\n",
      "  verification. Please open an issue if you find above cases.\n",
      "\n",
      "\n",
      "[0]\tvalidation-auc:0.83798\n",
      "[1]\tvalidation-auc:0.84048\n",
      "[2]\tvalidation-auc:0.84061\n",
      "[3]\tvalidation-auc:0.84104\n",
      "[4]\tvalidation-auc:0.84074\n",
      "[5]\tvalidation-auc:0.84105\n",
      "[6]\tvalidation-auc:0.84115\n",
      "[7]\tvalidation-auc:0.84128\n",
      "[8]\tvalidation-auc:0.84120\n",
      "[9]\tvalidation-auc:0.84137\n"
     ]
    },
    {
     "name": "stderr",
     "output_type": "stream",
     "text": [
      "[I 2020-09-11 19:10:36,257] Trial 72 finished with value: 0.7775492212753453 and parameters: {'booster': 'dart', 'lambda': 4.967769961809798e-05, 'alpha': 0.001016065315044143, 'max_depth': 8, 'eta': 0.0001709624434178216, 'gamma': 0.26148549938189947, 'grow_policy': 'depthwise', 'sample_type': 'weighted', 'normalize_type': 'forest', 'rate_drop': 1.0898002701389143e-06, 'skip_drop': 1.2690800317598226e-07}. Best is trial 65 with value: 0.7778430796356156.\n"
     ]
    },
    {
     "name": "stdout",
     "output_type": "stream",
     "text": [
      "[19:10:36] WARNING: ../src/learner.cc:516: \n",
      "Parameters: { silent } might not be used.\n",
      "\n",
      "  This may not be accurate due to some parameters are only used in language bindings but\n",
      "  passed down to XGBoost core.  Or some parameters are not used but slip through this\n",
      "  verification. Please open an issue if you find above cases.\n",
      "\n",
      "\n",
      "[0]\tvalidation-auc:0.84045\n",
      "[1]\tvalidation-auc:0.84126\n",
      "[2]\tvalidation-auc:0.84088\n",
      "[3]\tvalidation-auc:0.84121\n",
      "[4]\tvalidation-auc:0.84123\n",
      "[5]\tvalidation-auc:0.84084\n",
      "[6]\tvalidation-auc:0.84094\n",
      "[7]\tvalidation-auc:0.84120\n",
      "[8]\tvalidation-auc:0.84110\n",
      "[9]\tvalidation-auc:0.84110\n"
     ]
    },
    {
     "name": "stderr",
     "output_type": "stream",
     "text": [
      "[I 2020-09-11 19:10:36,347] Trial 73 finished with value: 0.7766676461945342 and parameters: {'booster': 'dart', 'lambda': 9.66550339262017e-06, 'alpha': 0.0006625506534916715, 'max_depth': 8, 'eta': 0.0019665962101995844, 'gamma': 0.13706531861880786, 'grow_policy': 'depthwise', 'sample_type': 'weighted', 'normalize_type': 'forest', 'rate_drop': 1.475387895911515e-06, 'skip_drop': 1.1383145271013529e-07}. Best is trial 65 with value: 0.7778430796356156.\n"
     ]
    },
    {
     "name": "stdout",
     "output_type": "stream",
     "text": [
      "[19:10:36] WARNING: ../src/learner.cc:516: \n",
      "Parameters: { silent } might not be used.\n",
      "\n",
      "  This may not be accurate due to some parameters are only used in language bindings but\n",
      "  passed down to XGBoost core.  Or some parameters are not used but slip through this\n",
      "  verification. Please open an issue if you find above cases.\n",
      "\n",
      "\n",
      "[0]\tvalidation-auc:0.84145\n",
      "[1]\tvalidation-auc:0.84152\n",
      "[2]\tvalidation-auc:0.84162\n",
      "[3]\tvalidation-auc:0.84159\n",
      "[4]\tvalidation-auc:0.84189\n",
      "[5]\tvalidation-auc:0.84162\n",
      "[6]\tvalidation-auc:0.84169\n",
      "[7]\tvalidation-auc:0.84171\n",
      "[8]\tvalidation-auc:0.84162\n",
      "[9]\tvalidation-auc:0.84158\n"
     ]
    },
    {
     "name": "stderr",
     "output_type": "stream",
     "text": [
      "[I 2020-09-11 19:10:36,444] Trial 74 finished with value: 0.7702027622685865 and parameters: {'booster': 'dart', 'lambda': 1.1274732887024856e-08, 'alpha': 0.0008912243213213267, 'max_depth': 9, 'eta': 0.00017846762313430796, 'gamma': 0.6716897331892285, 'grow_policy': 'depthwise', 'sample_type': 'weighted', 'normalize_type': 'forest', 'rate_drop': 3.941147428607718e-06, 'skip_drop': 2.2579022188979364e-08}. Best is trial 65 with value: 0.7778430796356156.\n"
     ]
    },
    {
     "name": "stdout",
     "output_type": "stream",
     "text": [
      "[19:10:36] WARNING: ../src/learner.cc:516: \n",
      "Parameters: { silent } might not be used.\n",
      "\n",
      "  This may not be accurate due to some parameters are only used in language bindings but\n",
      "  passed down to XGBoost core.  Or some parameters are not used but slip through this\n",
      "  verification. Please open an issue if you find above cases.\n",
      "\n",
      "\n",
      "[0]\tvalidation-auc:0.84050\n",
      "[1]\tvalidation-auc:0.84128\n",
      "[2]\tvalidation-auc:0.84088\n",
      "[3]\tvalidation-auc:0.84099\n",
      "[4]\tvalidation-auc:0.84101\n",
      "[5]\tvalidation-auc:0.84131\n",
      "[6]\tvalidation-auc:0.84115\n",
      "[7]\tvalidation-auc:0.84120\n",
      "[8]\tvalidation-auc:0.84106\n",
      "[9]\tvalidation-auc:0.84114\n"
     ]
    },
    {
     "name": "stderr",
     "output_type": "stream",
     "text": [
      "[I 2020-09-11 19:10:36,534] Trial 75 finished with value: 0.7778430796356156 and parameters: {'booster': 'dart', 'lambda': 0.0002112456007057575, 'alpha': 0.0037740544381091473, 'max_depth': 8, 'eta': 0.0012112888652705634, 'gamma': 0.2236903241963129, 'grow_policy': 'depthwise', 'sample_type': 'weighted', 'normalize_type': 'forest', 'rate_drop': 8.328800634522384e-07, 'skip_drop': 1.2973205358928502e-07}. Best is trial 65 with value: 0.7778430796356156.\n"
     ]
    },
    {
     "name": "stdout",
     "output_type": "stream",
     "text": [
      "[19:10:36] WARNING: ../src/learner.cc:516: \n",
      "Parameters: { silent } might not be used.\n",
      "\n",
      "  This may not be accurate due to some parameters are only used in language bindings but\n",
      "  passed down to XGBoost core.  Or some parameters are not used but slip through this\n",
      "  verification. Please open an issue if you find above cases.\n",
      "\n",
      "\n",
      "[0]\tvalidation-auc:0.81200\n",
      "[1]\tvalidation-auc:0.81336\n",
      "[2]\tvalidation-auc:0.81398\n",
      "[3]\tvalidation-auc:0.81447\n",
      "[4]\tvalidation-auc:0.81343\n",
      "[5]\tvalidation-auc:0.81333\n",
      "[6]\tvalidation-auc:0.81319\n",
      "[7]\tvalidation-auc:0.83727\n",
      "[8]\tvalidation-auc:0.83705\n",
      "[9]\tvalidation-auc:0.83673\n"
     ]
    },
    {
     "name": "stderr",
     "output_type": "stream",
     "text": [
      "[I 2020-09-11 19:10:36,617] Trial 76 finished with value: 0.7655010285042609 and parameters: {'booster': 'dart', 'lambda': 0.001271036547582049, 'alpha': 0.0002608196226217625, 'max_depth': 7, 'eta': 0.005222033597953607, 'gamma': 0.2761366894773781, 'grow_policy': 'depthwise', 'sample_type': 'uniform', 'normalize_type': 'forest', 'rate_drop': 4.7359976794267155e-06, 'skip_drop': 4.731850249222379e-06}. Best is trial 65 with value: 0.7778430796356156.\n"
     ]
    },
    {
     "name": "stdout",
     "output_type": "stream",
     "text": [
      "[19:10:36] WARNING: ../src/learner.cc:516: \n",
      "Parameters: { silent } might not be used.\n",
      "\n",
      "  This may not be accurate due to some parameters are only used in language bindings but\n",
      "  passed down to XGBoost core.  Or some parameters are not used but slip through this\n",
      "  verification. Please open an issue if you find above cases.\n",
      "\n",
      "\n",
      "[0]\tvalidation-auc:0.84045\n",
      "[1]\tvalidation-auc:0.84127\n",
      "[2]\tvalidation-auc:0.84088\n",
      "[3]\tvalidation-auc:0.84098\n",
      "[4]\tvalidation-auc:0.84100\n",
      "[5]\tvalidation-auc:0.84131\n",
      "[6]\tvalidation-auc:0.84115\n",
      "[7]\tvalidation-auc:0.84118\n",
      "[8]\tvalidation-auc:0.84107\n",
      "[9]\tvalidation-auc:0.84088\n"
     ]
    },
    {
     "name": "stderr",
     "output_type": "stream",
     "text": [
      "[I 2020-09-11 19:10:36,710] Trial 77 finished with value: 0.7778430796356156 and parameters: {'booster': 'dart', 'lambda': 0.00016338852807518025, 'alpha': 0.0016129589468838839, 'max_depth': 8, 'eta': 0.0011458530222674661, 'gamma': 0.025385549091340096, 'grow_policy': 'depthwise', 'sample_type': 'weighted', 'normalize_type': 'forest', 'rate_drop': 1.889636281225828e-07, 'skip_drop': 6.146602968592924e-07}. Best is trial 65 with value: 0.7778430796356156.\n"
     ]
    },
    {
     "name": "stdout",
     "output_type": "stream",
     "text": [
      "[19:10:36] WARNING: ../src/learner.cc:516: \n",
      "Parameters: { silent } might not be used.\n",
      "\n",
      "  This may not be accurate due to some parameters are only used in language bindings but\n",
      "  passed down to XGBoost core.  Or some parameters are not used but slip through this\n",
      "  verification. Please open an issue if you find above cases.\n",
      "\n",
      "\n",
      "[0]\tvalidation-auc:0.78077\n",
      "[1]\tvalidation-auc:0.78076\n",
      "[2]\tvalidation-auc:0.78077\n",
      "[3]\tvalidation-auc:0.78113\n",
      "[4]\tvalidation-auc:0.78092\n",
      "[5]\tvalidation-auc:0.78160\n",
      "[6]\tvalidation-auc:0.78158\n",
      "[7]\tvalidation-auc:0.78155\n",
      "[8]\tvalidation-auc:0.78159\n",
      "[9]\tvalidation-auc:0.78155\n"
     ]
    },
    {
     "name": "stderr",
     "output_type": "stream",
     "text": [
      "[I 2020-09-11 19:10:36,787] Trial 78 finished with value: 0.7593300029385835 and parameters: {'booster': 'dart', 'lambda': 0.0002131674353038097, 'alpha': 0.0037122276429644493, 'max_depth': 6, 'eta': 0.0011192481047355568, 'gamma': 1.1208649146002185e-05, 'grow_policy': 'depthwise', 'sample_type': 'uniform', 'normalize_type': 'forest', 'rate_drop': 3.5857781785135573e-08, 'skip_drop': 5.756284618422528e-07}. Best is trial 65 with value: 0.7778430796356156.\n"
     ]
    },
    {
     "name": "stdout",
     "output_type": "stream",
     "text": [
      "[19:10:36] WARNING: ../src/learner.cc:516: \n",
      "Parameters: { silent } might not be used.\n",
      "\n",
      "  This may not be accurate due to some parameters are only used in language bindings but\n",
      "  passed down to XGBoost core.  Or some parameters are not used but slip through this\n",
      "  verification. Please open an issue if you find above cases.\n",
      "\n",
      "\n",
      "[0]\tvalidation-auc:0.81200\n",
      "[1]\tvalidation-auc:0.81480\n",
      "[2]\tvalidation-auc:0.81384\n",
      "[3]\tvalidation-auc:0.83759\n",
      "[4]\tvalidation-auc:0.83734\n",
      "[5]\tvalidation-auc:0.83762\n",
      "[6]\tvalidation-auc:0.83837\n",
      "[7]\tvalidation-auc:0.83970\n",
      "[8]\tvalidation-auc:0.84023\n",
      "[9]\tvalidation-auc:0.83831\n"
     ]
    },
    {
     "name": "stderr",
     "output_type": "stream",
     "text": [
      "[I 2020-09-11 19:10:36,909] Trial 79 finished with value: 0.7584484278577726 and parameters: {'booster': 'dart', 'lambda': 0.003613924705133414, 'alpha': 0.0023454993927169475, 'max_depth': 7, 'eta': 0.014730822992847163, 'gamma': 0.020450641634690663, 'grow_policy': 'depthwise', 'sample_type': 'weighted', 'normalize_type': 'forest', 'rate_drop': 2.3646920800807573e-07, 'skip_drop': 1.5183225181855513e-07}. Best is trial 65 with value: 0.7778430796356156.\n"
     ]
    },
    {
     "name": "stdout",
     "output_type": "stream",
     "text": [
      "[19:10:36] WARNING: ../src/learner.cc:516: \n",
      "Parameters: { silent } might not be used.\n",
      "\n",
      "  This may not be accurate due to some parameters are only used in language bindings but\n",
      "  passed down to XGBoost core.  Or some parameters are not used but slip through this\n",
      "  verification. Please open an issue if you find above cases.\n",
      "\n",
      "\n",
      "[0]\tvalidation-auc:0.84079\n",
      "[1]\tvalidation-auc:0.84109\n",
      "[2]\tvalidation-auc:0.84186\n",
      "[3]\tvalidation-auc:0.84110\n",
      "[4]\tvalidation-auc:0.84252\n",
      "[5]\tvalidation-auc:0.84178\n",
      "[6]\tvalidation-auc:0.84245\n",
      "[7]\tvalidation-auc:0.84232\n",
      "[8]\tvalidation-auc:0.84237\n",
      "[9]\tvalidation-auc:0.84215\n"
     ]
    },
    {
     "name": "stderr",
     "output_type": "stream",
     "text": [
      "[I 2020-09-11 19:10:37,011] Trial 80 finished with value: 0.7702027622685865 and parameters: {'booster': 'dart', 'lambda': 8.357111791198335e-05, 'alpha': 0.011875976263386068, 'max_depth': 9, 'eta': 0.0037377108134180694, 'gamma': 0.00020580088367156687, 'grow_policy': 'depthwise', 'sample_type': 'weighted', 'normalize_type': 'forest', 'rate_drop': 1.1737756236909305e-07, 'skip_drop': 2.464482230791087e-08}. Best is trial 65 with value: 0.7778430796356156.\n"
     ]
    },
    {
     "name": "stdout",
     "output_type": "stream",
     "text": [
      "[19:10:37] WARNING: ../src/learner.cc:516: \n",
      "Parameters: { silent } might not be used.\n",
      "\n",
      "  This may not be accurate due to some parameters are only used in language bindings but\n",
      "  passed down to XGBoost core.  Or some parameters are not used but slip through this\n",
      "  verification. Please open an issue if you find above cases.\n",
      "\n",
      "\n",
      "[0]\tvalidation-auc:0.84045\n",
      "[1]\tvalidation-auc:0.84020\n",
      "[2]\tvalidation-auc:0.84085\n",
      "[3]\tvalidation-auc:0.84060\n",
      "[4]\tvalidation-auc:0.84105\n",
      "[5]\tvalidation-auc:0.84073\n",
      "[6]\tvalidation-auc:0.84102\n",
      "[7]\tvalidation-auc:0.84123\n",
      "[8]\tvalidation-auc:0.84123\n",
      "[9]\tvalidation-auc:0.84127\n"
     ]
    },
    {
     "name": "stderr",
     "output_type": "stream",
     "text": [
      "[I 2020-09-11 19:10:37,099] Trial 81 finished with value: 0.7775492212753453 and parameters: {'booster': 'dart', 'lambda': 2.4478888235161297e-05, 'alpha': 0.001632336053417583, 'max_depth': 8, 'eta': 0.00010237471375818966, 'gamma': 0.0671508891550826, 'grow_policy': 'depthwise', 'sample_type': 'weighted', 'normalize_type': 'forest', 'rate_drop': 1.0628870283028104e-08, 'skip_drop': 6.632556258132548e-07}. Best is trial 65 with value: 0.7778430796356156.\n"
     ]
    },
    {
     "name": "stdout",
     "output_type": "stream",
     "text": [
      "[19:10:37] WARNING: ../src/learner.cc:516: \n",
      "Parameters: { silent } might not be used.\n",
      "\n",
      "  This may not be accurate due to some parameters are only used in language bindings but\n",
      "  passed down to XGBoost core.  Or some parameters are not used but slip through this\n",
      "  verification. Please open an issue if you find above cases.\n",
      "\n",
      "\n",
      "[0]\tvalidation-auc:0.84049\n",
      "[1]\tvalidation-auc:0.84104\n",
      "[2]\tvalidation-auc:0.84134\n",
      "[3]\tvalidation-auc:0.84140\n",
      "[4]\tvalidation-auc:0.84129\n",
      "[5]\tvalidation-auc:0.84129\n",
      "[6]\tvalidation-auc:0.84126\n",
      "[7]\tvalidation-auc:0.84118\n",
      "[8]\tvalidation-auc:0.84127\n",
      "[9]\tvalidation-auc:0.84117\n"
     ]
    },
    {
     "name": "stderr",
     "output_type": "stream",
     "text": [
      "[I 2020-09-11 19:10:37,188] Trial 82 finished with value: 0.7775492212753453 and parameters: {'booster': 'dart', 'lambda': 0.0003928157520711374, 'alpha': 0.005217154412910514, 'max_depth': 8, 'eta': 0.0005824750095914924, 'gamma': 0.0025648266338935116, 'grow_policy': 'depthwise', 'sample_type': 'weighted', 'normalize_type': 'forest', 'rate_drop': 1.2369664025024476e-05, 'skip_drop': 1.0121833712669076e-08}. Best is trial 65 with value: 0.7778430796356156.\n"
     ]
    },
    {
     "name": "stdout",
     "output_type": "stream",
     "text": [
      "[19:10:37] WARNING: ../src/learner.cc:516: \n",
      "Parameters: { silent } might not be used.\n",
      "\n",
      "  This may not be accurate due to some parameters are only used in language bindings but\n",
      "  passed down to XGBoost core.  Or some parameters are not used but slip through this\n",
      "  verification. Please open an issue if you find above cases.\n",
      "\n",
      "\n",
      "[0]\tvalidation-auc:0.84013\n",
      "[1]\tvalidation-auc:0.84124\n",
      "[2]\tvalidation-auc:0.84127\n",
      "[3]\tvalidation-auc:0.84150\n",
      "[4]\tvalidation-auc:0.84176\n",
      "[5]\tvalidation-auc:0.84126\n",
      "[6]\tvalidation-auc:0.84159\n",
      "[7]\tvalidation-auc:0.84122\n",
      "[8]\tvalidation-auc:0.84127\n",
      "[9]\tvalidation-auc:0.84128\n"
     ]
    },
    {
     "name": "stderr",
     "output_type": "stream",
     "text": [
      "[I 2020-09-11 19:10:37,276] Trial 83 finished with value: 0.7778430796356156 and parameters: {'booster': 'dart', 'lambda': 4.033798385139387e-05, 'alpha': 0.0011038045926200256, 'max_depth': 8, 'eta': 0.0005185290304380794, 'gamma': 0.15250444722673479, 'grow_policy': 'depthwise', 'sample_type': 'weighted', 'normalize_type': 'forest', 'rate_drop': 1.022827625467957e-06, 'skip_drop': 1.28455942075947e-07}. Best is trial 65 with value: 0.7778430796356156.\n"
     ]
    },
    {
     "name": "stdout",
     "output_type": "stream",
     "text": [
      "[19:10:37] WARNING: ../src/learner.cc:516: \n",
      "Parameters: { silent } might not be used.\n",
      "\n",
      "  This may not be accurate due to some parameters are only used in language bindings but\n",
      "  passed down to XGBoost core.  Or some parameters are not used but slip through this\n",
      "  verification. Please open an issue if you find above cases.\n",
      "\n",
      "\n",
      "[0]\tvalidation-auc:0.84050\n",
      "[1]\tvalidation-auc:0.84065\n",
      "[2]\tvalidation-auc:0.84143\n",
      "[3]\tvalidation-auc:0.84123\n",
      "[4]\tvalidation-auc:0.84135\n",
      "[5]\tvalidation-auc:0.84131\n",
      "[6]\tvalidation-auc:0.84147\n",
      "[7]\tvalidation-auc:0.84116\n",
      "[8]\tvalidation-auc:0.84144\n",
      "[9]\tvalidation-auc:0.84120\n"
     ]
    },
    {
     "name": "stderr",
     "output_type": "stream",
     "text": [
      "[I 2020-09-11 19:10:37,366] Trial 84 finished with value: 0.7775492212753453 and parameters: {'booster': 'dart', 'lambda': 0.00016387620147106526, 'alpha': 0.0009562099347760877, 'max_depth': 8, 'eta': 0.00033504668661681427, 'gamma': 0.1427885815677225, 'grow_policy': 'depthwise', 'sample_type': 'weighted', 'normalize_type': 'forest', 'rate_drop': 6.961522733241017e-07, 'skip_drop': 1.9005565732789846e-07}. Best is trial 65 with value: 0.7778430796356156.\n"
     ]
    },
    {
     "name": "stdout",
     "output_type": "stream",
     "text": [
      "[19:10:37] WARNING: ../src/learner.cc:516: \n",
      "Parameters: { silent } might not be used.\n",
      "\n",
      "  This may not be accurate due to some parameters are only used in language bindings but\n",
      "  passed down to XGBoost core.  Or some parameters are not used but slip through this\n",
      "  verification. Please open an issue if you find above cases.\n",
      "\n",
      "\n",
      "[0]\tvalidation-auc:0.84083\n",
      "[1]\tvalidation-auc:0.84113\n",
      "[2]\tvalidation-auc:0.84159\n",
      "[3]\tvalidation-auc:0.84137\n",
      "[4]\tvalidation-auc:0.84158\n",
      "[5]\tvalidation-auc:0.84149\n",
      "[6]\tvalidation-auc:0.84170\n",
      "[7]\tvalidation-auc:0.84147\n",
      "[8]\tvalidation-auc:0.84167\n",
      "[9]\tvalidation-auc:0.84150\n"
     ]
    },
    {
     "name": "stderr",
     "output_type": "stream",
     "text": [
      "[I 2020-09-11 19:10:37,459] Trial 85 finished with value: 0.7699089039083162 and parameters: {'booster': 'dart', 'lambda': 0.0003867371551596868, 'alpha': 0.0003945240065659978, 'max_depth': 9, 'eta': 0.0005231622135141781, 'gamma': 0.0007513131593174109, 'grow_policy': 'depthwise', 'sample_type': 'weighted', 'normalize_type': 'forest', 'rate_drop': 2.4408996827143767e-06, 'skip_drop': 8.151628233647606e-07}. Best is trial 65 with value: 0.7778430796356156.\n"
     ]
    },
    {
     "name": "stdout",
     "output_type": "stream",
     "text": [
      "[19:10:37] WARNING: ../src/learner.cc:516: \n",
      "Parameters: { silent } might not be used.\n",
      "\n",
      "  This may not be accurate due to some parameters are only used in language bindings but\n",
      "  passed down to XGBoost core.  Or some parameters are not used but slip through this\n",
      "  verification. Please open an issue if you find above cases.\n",
      "\n",
      "\n",
      "[0]\tvalidation-auc:0.72054\n",
      "[1]\tvalidation-auc:0.72054\n",
      "[2]\tvalidation-auc:0.72054\n",
      "[3]\tvalidation-auc:0.72054\n",
      "[4]\tvalidation-auc:0.72054\n",
      "[5]\tvalidation-auc:0.72054\n",
      "[6]\tvalidation-auc:0.72054\n",
      "[7]\tvalidation-auc:0.72054\n",
      "[8]\tvalidation-auc:0.72054\n",
      "[9]\tvalidation-auc:0.72054\n"
     ]
    },
    {
     "name": "stderr",
     "output_type": "stream",
     "text": [
      "[I 2020-09-11 19:10:37,521] Trial 86 finished with value: 0.7458125183661475 and parameters: {'booster': 'dart', 'lambda': 0.0001427135235902325, 'alpha': 0.00021083746124083127, 'max_depth': 4, 'eta': 0.0013859814113353283, 'gamma': 0.0364126712064331, 'grow_policy': 'depthwise', 'sample_type': 'weighted', 'normalize_type': 'forest', 'rate_drop': 9.201751209633155e-06, 'skip_drop': 2.3951471107690254e-07}. Best is trial 65 with value: 0.7778430796356156.\n"
     ]
    },
    {
     "name": "stdout",
     "output_type": "stream",
     "text": [
      "[19:10:37] WARNING: ../src/learner.cc:516: \n",
      "Parameters: { silent } might not be used.\n",
      "\n",
      "  This may not be accurate due to some parameters are only used in language bindings but\n",
      "  passed down to XGBoost core.  Or some parameters are not used but slip through this\n",
      "  verification. Please open an issue if you find above cases.\n",
      "\n",
      "\n",
      "[0]\tvalidation-auc:0.84044\n",
      "[1]\tvalidation-auc:0.84052\n",
      "[2]\tvalidation-auc:0.84062\n",
      "[3]\tvalidation-auc:0.84055\n",
      "[4]\tvalidation-auc:0.84053\n",
      "[5]\tvalidation-auc:0.84062\n",
      "[6]\tvalidation-auc:0.84068\n",
      "[7]\tvalidation-auc:0.84080\n",
      "[8]\tvalidation-auc:0.84099\n",
      "[9]\tvalidation-auc:0.84105\n"
     ]
    },
    {
     "name": "stderr",
     "output_type": "stream",
     "text": [
      "[I 2020-09-11 19:10:37,599] Trial 87 finished with value: 0.7769615045548046 and parameters: {'booster': 'gbtree', 'lambda': 5.6072772238016995e-06, 'alpha': 0.023950931595549053, 'max_depth': 8, 'eta': 3.5485498596149295e-05, 'gamma': 0.4250788846022212, 'grow_policy': 'depthwise'}. Best is trial 65 with value: 0.7778430796356156.\n"
     ]
    },
    {
     "name": "stdout",
     "output_type": "stream",
     "text": [
      "[19:10:37] WARNING: ../src/learner.cc:516: \n",
      "Parameters: { silent } might not be used.\n",
      "\n",
      "  This may not be accurate due to some parameters are only used in language bindings but\n",
      "  passed down to XGBoost core.  Or some parameters are not used but slip through this\n",
      "  verification. Please open an issue if you find above cases.\n",
      "\n",
      "\n",
      "[0]\tvalidation-auc:0.81201\n",
      "[1]\tvalidation-auc:0.81214\n",
      "[2]\tvalidation-auc:0.81248\n",
      "[3]\tvalidation-auc:0.81273\n",
      "[4]\tvalidation-auc:0.81324\n",
      "[5]\tvalidation-auc:0.81349\n",
      "[6]\tvalidation-auc:0.81337\n",
      "[7]\tvalidation-auc:0.81344\n",
      "[8]\tvalidation-auc:0.81347\n",
      "[9]\tvalidation-auc:0.81344\n"
     ]
    },
    {
     "name": "stderr",
     "output_type": "stream",
     "text": [
      "[I 2020-09-11 19:10:37,672] Trial 88 finished with value: 0.7669703203056127 and parameters: {'booster': 'gbtree', 'lambda': 3.2668857074037013e-06, 'alpha': 5.1850307796972656e-05, 'max_depth': 7, 'eta': 6.831527304934493e-05, 'gamma': 0.488989675572654, 'grow_policy': 'lossguide'}. Best is trial 65 with value: 0.7778430796356156.\n"
     ]
    },
    {
     "name": "stdout",
     "output_type": "stream",
     "text": [
      "[19:10:37] WARNING: ../src/learner.cc:516: \n",
      "Parameters: { silent } might not be used.\n",
      "\n",
      "  This may not be accurate due to some parameters are only used in language bindings but\n",
      "  passed down to XGBoost core.  Or some parameters are not used but slip through this\n",
      "  verification. Please open an issue if you find above cases.\n",
      "\n",
      "\n",
      "[0]\tvalidation-auc:0.84049\n",
      "[1]\tvalidation-auc:0.84129\n",
      "[2]\tvalidation-auc:0.84133\n",
      "[3]\tvalidation-auc:0.84099\n",
      "[4]\tvalidation-auc:0.84131\n",
      "[5]\tvalidation-auc:0.84113\n",
      "[6]\tvalidation-auc:0.84150\n",
      "[7]\tvalidation-auc:0.84118\n",
      "[8]\tvalidation-auc:0.84157\n",
      "[9]\tvalidation-auc:0.84123\n"
     ]
    },
    {
     "name": "stderr",
     "output_type": "stream",
     "text": [
      "[I 2020-09-11 19:10:37,756] Trial 89 finished with value: 0.7778430796356156 and parameters: {'booster': 'dart', 'lambda': 0.0008538482334238185, 'alpha': 0.0033840974185418093, 'max_depth': 8, 'eta': 0.0009502760073931916, 'gamma': 0.023140630002560524, 'grow_policy': 'depthwise', 'sample_type': 'weighted', 'normalize_type': 'forest', 'rate_drop': 7.583195491162276e-07, 'skip_drop': 1.253661460694518e-07}. Best is trial 65 with value: 0.7778430796356156.\n"
     ]
    },
    {
     "name": "stdout",
     "output_type": "stream",
     "text": [
      "[19:10:37] WARNING: ../src/learner.cc:516: \n",
      "Parameters: { silent } might not be used.\n",
      "\n",
      "  This may not be accurate due to some parameters are only used in language bindings but\n",
      "  passed down to XGBoost core.  Or some parameters are not used but slip through this\n",
      "  verification. Please open an issue if you find above cases.\n",
      "\n",
      "\n",
      "[0]\tvalidation-auc:0.84079\n",
      "[1]\tvalidation-auc:0.84115\n",
      "[2]\tvalidation-auc:0.84261\n",
      "[3]\tvalidation-auc:0.83966\n",
      "[4]\tvalidation-auc:0.84208\n",
      "[5]\tvalidation-auc:0.84262\n",
      "[6]\tvalidation-auc:0.84234\n",
      "[7]\tvalidation-auc:0.84118\n",
      "[8]\tvalidation-auc:0.84051\n",
      "[9]\tvalidation-auc:0.84252\n"
     ]
    },
    {
     "name": "stderr",
     "output_type": "stream",
     "text": [
      "[I 2020-09-11 19:10:37,849] Trial 90 finished with value: 0.7684396121069644 and parameters: {'booster': 'dart', 'lambda': 0.0007623300580378817, 'alpha': 0.00011374313361715162, 'max_depth': 9, 'eta': 0.03158932146603053, 'gamma': 0.008196688271053644, 'grow_policy': 'depthwise', 'sample_type': 'weighted', 'normalize_type': 'forest', 'rate_drop': 3.1215973869545223e-07, 'skip_drop': 6.018618492975388e-08}. Best is trial 65 with value: 0.7778430796356156.\n"
     ]
    },
    {
     "name": "stdout",
     "output_type": "stream",
     "text": [
      "[19:10:37] WARNING: ../src/learner.cc:516: \n",
      "Parameters: { silent } might not be used.\n",
      "\n",
      "  This may not be accurate due to some parameters are only used in language bindings but\n",
      "  passed down to XGBoost core.  Or some parameters are not used but slip through this\n",
      "  verification. Please open an issue if you find above cases.\n",
      "\n",
      "\n",
      "[0]\tvalidation-auc:0.84045\n",
      "[1]\tvalidation-auc:0.84052\n",
      "[2]\tvalidation-auc:0.84110\n",
      "[3]\tvalidation-auc:0.84122\n",
      "[4]\tvalidation-auc:0.84117\n",
      "[5]\tvalidation-auc:0.84107\n",
      "[6]\tvalidation-auc:0.84071\n",
      "[7]\tvalidation-auc:0.84123\n",
      "[8]\tvalidation-auc:0.84118\n",
      "[9]\tvalidation-auc:0.84150\n"
     ]
    },
    {
     "name": "stderr",
     "output_type": "stream",
     "text": [
      "[I 2020-09-11 19:10:37,934] Trial 91 finished with value: 0.7757860711137232 and parameters: {'booster': 'dart', 'lambda': 9.717047373223785e-05, 'alpha': 0.0005470667417491207, 'max_depth': 8, 'eta': 0.0029019046721503326, 'gamma': 0.02872452348865141, 'grow_policy': 'depthwise', 'sample_type': 'weighted', 'normalize_type': 'forest', 'rate_drop': 7.218668016377243e-07, 'skip_drop': 1.1235230280078285e-07}. Best is trial 65 with value: 0.7778430796356156.\n"
     ]
    },
    {
     "name": "stdout",
     "output_type": "stream",
     "text": [
      "[19:10:37] WARNING: ../src/learner.cc:516: \n",
      "Parameters: { silent } might not be used.\n",
      "\n",
      "  This may not be accurate due to some parameters are only used in language bindings but\n",
      "  passed down to XGBoost core.  Or some parameters are not used but slip through this\n",
      "  verification. Please open an issue if you find above cases.\n",
      "\n",
      "\n",
      "[0]\tvalidation-auc:0.84050\n",
      "[1]\tvalidation-auc:0.84126\n",
      "[2]\tvalidation-auc:0.84131\n",
      "[3]\tvalidation-auc:0.84098\n",
      "[4]\tvalidation-auc:0.84130\n",
      "[5]\tvalidation-auc:0.84113\n",
      "[6]\tvalidation-auc:0.84149\n",
      "[7]\tvalidation-auc:0.84120\n",
      "[8]\tvalidation-auc:0.84155\n",
      "[9]\tvalidation-auc:0.84113\n"
     ]
    },
    {
     "name": "stderr",
     "output_type": "stream",
     "text": [
      "[I 2020-09-11 19:10:38,021] Trial 92 finished with value: 0.7778430796356156 and parameters: {'booster': 'dart', 'lambda': 2.40129599446071e-05, 'alpha': 0.001524254089512961, 'max_depth': 8, 'eta': 0.0009764456182921907, 'gamma': 0.06426586727135726, 'grow_policy': 'depthwise', 'sample_type': 'weighted', 'normalize_type': 'forest', 'rate_drop': 1.4981402409548383e-07, 'skip_drop': 3.30376754071411e-08}. Best is trial 65 with value: 0.7778430796356156.\n"
     ]
    },
    {
     "name": "stdout",
     "output_type": "stream",
     "text": [
      "[19:10:38] WARNING: ../src/learner.cc:516: \n",
      "Parameters: { silent } might not be used.\n",
      "\n",
      "  This may not be accurate due to some parameters are only used in language bindings but\n",
      "  passed down to XGBoost core.  Or some parameters are not used but slip through this\n",
      "  verification. Please open an issue if you find above cases.\n",
      "\n",
      "\n",
      "[0]\tvalidation-auc:0.84045\n",
      "[1]\tvalidation-auc:0.84128\n",
      "[2]\tvalidation-auc:0.84131\n",
      "[3]\tvalidation-auc:0.84098\n",
      "[4]\tvalidation-auc:0.84129\n",
      "[5]\tvalidation-auc:0.84112\n",
      "[6]\tvalidation-auc:0.84128\n",
      "[7]\tvalidation-auc:0.84120\n",
      "[8]\tvalidation-auc:0.84154\n",
      "[9]\tvalidation-auc:0.84123\n"
     ]
    },
    {
     "name": "stderr",
     "output_type": "stream",
     "text": [
      "[I 2020-09-11 19:10:38,106] Trial 93 finished with value: 0.7778430796356156 and parameters: {'booster': 'dart', 'lambda': 1.8735781653445125e-05, 'alpha': 0.0016231307929958194, 'max_depth': 8, 'eta': 0.000830069891711616, 'gamma': 0.051251029179419684, 'grow_policy': 'depthwise', 'sample_type': 'weighted', 'normalize_type': 'forest', 'rate_drop': 1.3546944045358608e-07, 'skip_drop': 2.2331424299593445e-08}. Best is trial 65 with value: 0.7778430796356156.\n"
     ]
    },
    {
     "name": "stdout",
     "output_type": "stream",
     "text": [
      "[19:10:38] WARNING: ../src/learner.cc:516: \n",
      "Parameters: { silent } might not be used.\n",
      "\n",
      "  This may not be accurate due to some parameters are only used in language bindings but\n",
      "  passed down to XGBoost core.  Or some parameters are not used but slip through this\n",
      "  verification. Please open an issue if you find above cases.\n",
      "\n",
      "\n",
      "[0]\tvalidation-auc:0.84050\n",
      "[1]\tvalidation-auc:0.84127\n",
      "[2]\tvalidation-auc:0.84088\n",
      "[3]\tvalidation-auc:0.84098\n",
      "[4]\tvalidation-auc:0.84123\n",
      "[5]\tvalidation-auc:0.84132\n",
      "[6]\tvalidation-auc:0.84115\n",
      "[7]\tvalidation-auc:0.84111\n",
      "[8]\tvalidation-auc:0.84132\n",
      "[9]\tvalidation-auc:0.84110\n"
     ]
    },
    {
     "name": "stderr",
     "output_type": "stream",
     "text": [
      "[I 2020-09-11 19:10:38,193] Trial 94 finished with value: 0.7766676461945342 and parameters: {'booster': 'dart', 'lambda': 0.00021650848828783646, 'alpha': 0.0027996861639600994, 'max_depth': 8, 'eta': 0.001410652366388535, 'gamma': 0.0443055001648438, 'grow_policy': 'depthwise', 'sample_type': 'weighted', 'normalize_type': 'forest', 'rate_drop': 3.8697303930289564e-07, 'skip_drop': 1.9993718272252076e-08}. Best is trial 65 with value: 0.7778430796356156.\n"
     ]
    },
    {
     "name": "stdout",
     "output_type": "stream",
     "text": [
      "[19:10:38] WARNING: ../src/learner.cc:516: \n",
      "Parameters: { silent } might not be used.\n",
      "\n",
      "  This may not be accurate due to some parameters are only used in language bindings but\n",
      "  passed down to XGBoost core.  Or some parameters are not used but slip through this\n",
      "  verification. Please open an issue if you find above cases.\n",
      "\n",
      "\n",
      "[0]\tvalidation-auc:0.81200\n",
      "[1]\tvalidation-auc:0.81337\n",
      "[2]\tvalidation-auc:0.81358\n",
      "[3]\tvalidation-auc:0.81343\n",
      "[4]\tvalidation-auc:0.81263\n",
      "[5]\tvalidation-auc:0.81279\n",
      "[6]\tvalidation-auc:0.81281\n",
      "[7]\tvalidation-auc:0.81285\n",
      "[8]\tvalidation-auc:0.81276\n",
      "[9]\tvalidation-auc:0.81296\n"
     ]
    },
    {
     "name": "stderr",
     "output_type": "stream",
     "text": [
      "[I 2020-09-11 19:10:38,273] Trial 95 finished with value: 0.7669703203056127 and parameters: {'booster': 'dart', 'lambda': 3.394340419400183e-05, 'alpha': 0.001375167877245771, 'max_depth': 7, 'eta': 0.0007688632354852295, 'gamma': 0.024062838702820742, 'grow_policy': 'depthwise', 'sample_type': 'weighted', 'normalize_type': 'forest', 'rate_drop': 2.2496705896355679e-07, 'skip_drop': 3.470403267650967e-08}. Best is trial 65 with value: 0.7778430796356156.\n"
     ]
    },
    {
     "name": "stdout",
     "output_type": "stream",
     "text": [
      "[19:10:38] WARNING: ../src/learner.cc:516: \n",
      "Parameters: { silent } might not be used.\n",
      "\n",
      "  This may not be accurate due to some parameters are only used in language bindings but\n",
      "  passed down to XGBoost core.  Or some parameters are not used but slip through this\n",
      "  verification. Please open an issue if you find above cases.\n",
      "\n",
      "\n",
      "[0]\tvalidation-auc:0.84050\n",
      "[1]\tvalidation-auc:0.84148\n",
      "[2]\tvalidation-auc:0.84052\n",
      "[3]\tvalidation-auc:0.84112\n",
      "[4]\tvalidation-auc:0.84141\n",
      "[5]\tvalidation-auc:0.84069\n",
      "[6]\tvalidation-auc:0.83996\n",
      "[7]\tvalidation-auc:0.84000\n",
      "[8]\tvalidation-auc:0.84042\n",
      "[9]\tvalidation-auc:0.84003\n"
     ]
    },
    {
     "name": "stderr",
     "output_type": "stream",
     "text": [
      "[I 2020-09-11 19:10:38,363] Trial 96 finished with value: 0.7749044960329121 and parameters: {'booster': 'dart', 'lambda': 1.9622355096642665e-05, 'alpha': 0.00901038119804737, 'max_depth': 8, 'eta': 0.010173409448848633, 'gamma': 0.20435863113553165, 'grow_policy': 'depthwise', 'sample_type': 'weighted', 'normalize_type': 'forest', 'rate_drop': 2.7118154685930366e-08, 'skip_drop': 1.889239023551287e-08}. Best is trial 65 with value: 0.7778430796356156.\n"
     ]
    },
    {
     "name": "stdout",
     "output_type": "stream",
     "text": [
      "[19:10:38] WARNING: ../src/learner.cc:516: \n",
      "Parameters: { silent } might not be used.\n",
      "\n",
      "  This may not be accurate due to some parameters are only used in language bindings but\n",
      "  passed down to XGBoost core.  Or some parameters are not used but slip through this\n",
      "  verification. Please open an issue if you find above cases.\n",
      "\n",
      "\n",
      "[0]\tvalidation-auc:0.84049\n",
      "[1]\tvalidation-auc:0.84106\n",
      "[2]\tvalidation-auc:0.84163\n",
      "[3]\tvalidation-auc:0.84148\n",
      "[4]\tvalidation-auc:0.84161\n",
      "[5]\tvalidation-auc:0.84169\n",
      "[6]\tvalidation-auc:0.84163\n",
      "[7]\tvalidation-auc:0.84143\n",
      "[8]\tvalidation-auc:0.84126\n",
      "[9]\tvalidation-auc:0.84122\n"
     ]
    },
    {
     "name": "stderr",
     "output_type": "stream",
     "text": [
      "[I 2020-09-11 19:10:38,453] Trial 97 finished with value: 0.7775492212753453 and parameters: {'booster': 'dart', 'lambda': 0.0004557554262088201, 'alpha': 0.005517507448564403, 'max_depth': 8, 'eta': 0.0003821818094535207, 'gamma': 0.010063402728252508, 'grow_policy': 'depthwise', 'sample_type': 'weighted', 'normalize_type': 'forest', 'rate_drop': 9.664707642274213e-06, 'skip_drop': 1.1080173956757988e-08}. Best is trial 65 with value: 0.7778430796356156.\n"
     ]
    },
    {
     "name": "stdout",
     "output_type": "stream",
     "text": [
      "[19:10:38] WARNING: ../src/learner.cc:516: \n",
      "Parameters: { silent } might not be used.\n",
      "\n",
      "  This may not be accurate due to some parameters are only used in language bindings but\n",
      "  passed down to XGBoost core.  Or some parameters are not used but slip through this\n",
      "  verification. Please open an issue if you find above cases.\n",
      "\n",
      "\n",
      "[0]\tvalidation-auc:0.81200\n",
      "[1]\tvalidation-auc:0.81337\n",
      "[2]\tvalidation-auc:0.81357\n",
      "[3]\tvalidation-auc:0.81364\n",
      "[4]\tvalidation-auc:0.81311\n",
      "[5]\tvalidation-auc:0.81374\n",
      "[6]\tvalidation-auc:0.81334\n",
      "[7]\tvalidation-auc:0.81373\n",
      "[8]\tvalidation-auc:0.81340\n",
      "[9]\tvalidation-auc:0.81359\n"
     ]
    },
    {
     "name": "stderr",
     "output_type": "stream",
     "text": [
      "[I 2020-09-11 19:10:38,535] Trial 98 finished with value: 0.7678518953864237 and parameters: {'booster': 'dart', 'lambda': 1.0662140914163271e-05, 'alpha': 0.004495783124321028, 'max_depth': 7, 'eta': 0.0023848182757737193, 'gamma': 0.08435790072681064, 'grow_policy': 'depthwise', 'sample_type': 'weighted', 'normalize_type': 'forest', 'rate_drop': 2.423240877321358e-06, 'skip_drop': 3.3014282195859463e-07}. Best is trial 65 with value: 0.7778430796356156.\n"
     ]
    },
    {
     "name": "stdout",
     "output_type": "stream",
     "text": [
      "[19:10:38] WARNING: ../src/learner.cc:516: \n",
      "Parameters: { silent } might not be used.\n",
      "\n",
      "  This may not be accurate due to some parameters are only used in language bindings but\n",
      "  passed down to XGBoost core.  Or some parameters are not used but slip through this\n",
      "  verification. Please open an issue if you find above cases.\n",
      "\n",
      "\n",
      "[0]\tvalidation-auc:0.84081\n",
      "[1]\tvalidation-auc:0.84270\n",
      "[2]\tvalidation-auc:0.84135\n",
      "[3]\tvalidation-auc:0.84236\n",
      "[4]\tvalidation-auc:0.84246\n",
      "[5]\tvalidation-auc:0.84182\n",
      "[6]\tvalidation-auc:0.84332\n",
      "[7]\tvalidation-auc:0.84280\n",
      "[8]\tvalidation-auc:0.84305\n",
      "[9]\tvalidation-auc:0.84207\n"
     ]
    },
    {
     "name": "stderr",
     "output_type": "stream",
     "text": [
      "[I 2020-09-11 19:10:38,630] Trial 99 finished with value: 0.766382603585072 and parameters: {'booster': 'dart', 'lambda': 7.805414406964774e-05, 'alpha': 0.0006720918424489123, 'max_depth': 9, 'eta': 0.006284245056493105, 'gamma': 0.1210095345589471, 'grow_policy': 'depthwise', 'sample_type': 'weighted', 'normalize_type': 'forest', 'rate_drop': 9.479336188052232e-08, 'skip_drop': 1.2436112550705194e-07}. Best is trial 65 with value: 0.7778430796356156.\n"
     ]
    },
    {
     "name": "stdout",
     "output_type": "stream",
     "text": [
      "FrozenTrial(number=65, value=0.7778430796356156, datetime_start=datetime.datetime(2020, 9, 11, 19, 10, 35, 567514), datetime_complete=datetime.datetime(2020, 9, 11, 19, 10, 35, 658067), params={'booster': 'dart', 'lambda': 0.0002567845528387062, 'alpha': 0.00019379474013913402, 'max_depth': 8, 'eta': 0.001026894536083572, 'gamma': 0.12008144683779005, 'grow_policy': 'depthwise', 'sample_type': 'weighted', 'normalize_type': 'forest', 'rate_drop': 4.95004759740062e-07, 'skip_drop': 1.7970560833945843e-08}, distributions={'booster': CategoricalDistribution(choices=('gbtree', 'gblinear', 'dart')), 'lambda': LogUniformDistribution(high=1.0, low=1e-08), 'alpha': LogUniformDistribution(high=1.0, low=1e-08), 'max_depth': IntUniformDistribution(high=9, low=1, step=1), 'eta': LogUniformDistribution(high=1.0, low=1e-08), 'gamma': LogUniformDistribution(high=1.0, low=1e-08), 'grow_policy': CategoricalDistribution(choices=('depthwise', 'lossguide')), 'sample_type': CategoricalDistribution(choices=('uniform', 'weighted')), 'normalize_type': CategoricalDistribution(choices=('tree', 'forest')), 'rate_drop': LogUniformDistribution(high=1.0, low=1e-08), 'skip_drop': LogUniformDistribution(high=1.0, low=1e-08)}, user_attrs={}, system_attrs={}, intermediate_values={0: 0.84045, 1: 0.841214, 2: 0.841259, 3: 0.840943, 4: 0.841255, 5: 0.841126, 6: 0.841492, 7: 0.841208, 8: 0.841476, 9: 0.840971}, trial_id=65, state=TrialState.COMPLETE)\n"
     ]
    }
   ],
   "source": [
    "study_v2 = optuna.create_study(pruner=optuna.pruners.MedianPruner(n_warmup_steps=15), direction=\"maximize\")\n",
    "study_v2.optimize(objective, n_trials=100)\n",
    "print(study_v2.best_trial)"
   ]
  },
  {
   "cell_type": "code",
   "execution_count": 14,
   "metadata": {},
   "outputs": [
    {
     "data": {
      "text/plain": [
       "{'booster': 'dart',\n",
       " 'lambda': 0.0002567845528387062,\n",
       " 'alpha': 0.00019379474013913402,\n",
       " 'max_depth': 8,\n",
       " 'eta': 0.001026894536083572,\n",
       " 'gamma': 0.12008144683779005,\n",
       " 'grow_policy': 'depthwise',\n",
       " 'sample_type': 'weighted',\n",
       " 'normalize_type': 'forest',\n",
       " 'rate_drop': 4.95004759740062e-07,\n",
       " 'skip_drop': 1.7970560833945843e-08}"
      ]
     },
     "execution_count": 14,
     "metadata": {},
     "output_type": "execute_result"
    }
   ],
   "source": [
    "study_v2.best_params"
   ]
  },
  {
   "cell_type": "code",
   "execution_count": 15,
   "metadata": {},
   "outputs": [
    {
     "name": "stdout",
     "output_type": "stream",
     "text": [
      "[19:10:38] WARNING: ../src/learner.cc:516: \n",
      "Parameters: { silent } might not be used.\n",
      "\n",
      "  This may not be accurate due to some parameters are only used in language bindings but\n",
      "  passed down to XGBoost core.  Or some parameters are not used but slip through this\n",
      "  verification. Please open an issue if you find above cases.\n",
      "\n",
      "\n",
      "Acurácia: 77.49%\n",
      "Sensibilidade : 0.9136363636363637\n",
      "Especificidade : 0.7086409031697786\n",
      "\n",
      "\n",
      "              precision    recall  f1-score   support\n",
      "\n",
      "           0       0.94      0.71      0.81      2303\n",
      "           1       0.60      0.91      0.72      1100\n",
      "\n",
      "    accuracy                           0.77      3403\n",
      "   macro avg       0.77      0.81      0.77      3403\n",
      "weighted avg       0.83      0.77      0.78      3403\n",
      "\n"
     ]
    },
    {
     "data": {
      "image/png": "[encoded data removed]",
      "text/plain": [
       "<Figure size 432x432 with 2 Axes>"
      ]
     },
     "metadata": {},
     "output_type": "display_data"
    }
   ],
   "source": [
    "params = {'silent'       : 1,\n",
    "          'objective'    : 'binary:logistic',\n",
    "          'eval_metric'  : 'auc',\n",
    "          'booster'      : 'gbtree',\n",
    "          'lambda'       : 0.026834336727892413,\n",
    "          'alpha'        : 0.0006039910566283139,\n",
    "          'max_depth'    : 8,\n",
    "          'eta'          : 0.0006565933008274129,\n",
    "          'gamma'        : 0.0012661208934645076,\n",
    "          'grow_policy' : 'depthwise'}\n",
    "\n",
    "\n",
    "#modelo_xgb_v4 = xgb.XGBClassifier(**study_v2.best_params)\n",
    "modelo_xgb_v4 = xgb.XGBClassifier(**params)\n",
    "\n",
    "# Treinando o modelo\n",
    "modelo_xgb_v4.fit(X_treino, y_treino)\n",
    "\n",
    "# Fazendo previsões\n",
    "xgb_y_pred = modelo_xgb_v4.predict(X_teste)\n",
    "previsoes = [round(value) for value in xgb_y_pred]\n",
    "\n",
    "# Avaliando as previsões\n",
    "xgb_score_v4 = accuracy_score(y_teste, previsoes)\n",
    "print(\"Acurácia: %.2f%%\" % (xgb_score_v4 * 100.0))\n",
    "\n",
    "# Cria a matriz de confusão\n",
    "conf_matriz_xgb = confusion_matrix(y_teste, xgb_y_pred)\n",
    "    \n",
    "# Calcula especificidade e sensibilidade\n",
    "speci_xgb = conf_matriz_xgb[0,0] / (conf_matriz_xgb[0,0] + conf_matriz_xgb[0,1])\n",
    "sensi_xgb = conf_matriz_xgb[1,1] / (conf_matriz_xgb[1,0] + conf_matriz_xgb[1,1])\n",
    "\n",
    "# Print\n",
    "print('Sensibilidade :', sensi_xgb)\n",
    "print('Especificidade :', speci_xgb)\n",
    "print('\\n')\n",
    "\n",
    "# Matriz de Confusão gráfica\n",
    "sns.set(rc={'figure.figsize':(6, 6)})\n",
    "sns.heatmap(conf_matriz_xgb, \n",
    "            annot = True, \n",
    "            fmt = \".0f\", \n",
    "            linewidths = .5, \n",
    "            square = True, \n",
    "            cmap = 'RdBu_r')\n",
    "\n",
    "# Labels e Títulos\n",
    "plt.ylabel('Label Verdadeiro')\n",
    "plt.xlabel('Label Previsto')\n",
    "plt.title('Acurácia: {:.2f}'.format(xgb_score_v4), size = 15)\n",
    "\n",
    "# Relatório de Classificação\n",
    "print(classification_report(y_teste, xgb_y_pred))"
   ]
  },
  {
   "cell_type": "markdown",
   "metadata": {},
   "source": [
    "### Bayesian Optimization"
   ]
  },
  {
   "cell_type": "code",
   "execution_count": 16,
   "metadata": {},
   "outputs": [],
   "source": [
    "#!pip install scikit-optimize --upgrade"
   ]
  },
  {
   "cell_type": "code",
   "execution_count": 17,
   "metadata": {},
   "outputs": [],
   "source": [
    "from skopt import BayesSearchCV\n",
    "from sklearn.model_selection import StratifiedKFold\n"
   ]
  },
  {
   "cell_type": "code",
   "execution_count": 114,
   "metadata": {},
   "outputs": [],
   "source": [
    "bayes_cv_tuner = BayesSearchCV(\n",
    "    estimator = xgb.XGBClassifier(\n",
    "        n_jobs      = -1,\n",
    "        objective   = 'binary:logistic',\n",
    "        eval_metric = 'auc',\n",
    "        silent      = 1,\n",
    "        tree_method = 'approx'\n",
    "    ),\n",
    "    search_spaces = {\n",
    "        'learning_rate'    : (0.01, 1.0, 'log-uniform'),\n",
    "        'min_child_weight' : (0, 10),\n",
    "        'max_depth'        : (1, 10),\n",
    "        'max_delta_step'   : (1, 20),\n",
    "        'subsample'        : (0.01, 1.0, 'uniform'),\n",
    "        'colsample_bytree' : (0.01, 1.0, 'uniform'),\n",
    "        'colsample_bylevel': (0.01, 1.0, 'uniform'),\n",
    "        'reg_lambda'       : (0, 1000, 'log-uniform'),\n",
    "        'reg_alpha'        : (0, 1.0, 'log-uniform'),\n",
    "        'gamma'            : (0, 0.5, 'log-uniform'),\n",
    "        'min_child_weight' : (0, 5),\n",
    "        'n_estimators'     : (100, 500),\n",
    "        'scale_pos_weight' : (0, 500, 'log-uniform')\n",
    "    },    \n",
    "    scoring = 'roc_auc',\n",
    "    cv = StratifiedKFold(\n",
    "        n_splits     = 3,\n",
    "        shuffle      = True,\n",
    "        random_state = 42\n",
    "    ),\n",
    "    n_jobs  = -1,\n",
    "    n_iter  = 20,   \n",
    "    verbose = 0,\n",
    "    refit   = True,\n",
    "    random_state = 42\n",
    ")\n",
    "\n",
    "def status_print(optim_result):\n",
    "    all_models = pd.DataFrame(bayes_cv_tuner.cv_results_)    \n",
    "    best_params = pd.Series(bayes_cv_tuner.best_params_)\n",
    "    \n",
    "    print('Model #{}\\nBest ROC-AUC: {}\\nBest params: {}\\n'.format(\n",
    "        len(all_models),\n",
    "        np.round(bayes_cv_tuner.best_score_, 4),\n",
    "        bayes_cv_tuner.best_params_\n",
    "    ))\n",
    "    \n",
    "    clf_name = bayes_cv_tuner.estimator.__class__.__name__\n",
    "    #all_models.to_csv(clf_name+\"_cv_results.csv\")"
   ]
  },
  {
   "cell_type": "code",
   "execution_count": 115,
   "metadata": {
    "scrolled": true
   },
   "outputs": [
    {
     "name": "stdout",
     "output_type": "stream",
     "text": [
      "Model #1\n",
      "Best ROC-AUC: 0.8411\n",
      "Best params: OrderedDict([('colsample_bylevel', 0.4160029192647807), ('colsample_bytree', 0.7304484857455519), ('gamma', 0), ('learning_rate', 0.042815319280763466), ('max_delta_step', 14), ('max_depth', 5), ('min_child_weight', 2), ('n_estimators', 396), ('reg_alpha', 0), ('reg_lambda', 648), ('scale_pos_weight', 275), ('subsample', 0.13556548021189216)])\n",
      "\n",
      "Model #2\n",
      "Best ROC-AUC: 0.8425\n",
      "Best params: OrderedDict([('colsample_bylevel', 0.8390144719977516), ('colsample_bytree', 0.8844821246070537), ('gamma', 0), ('learning_rate', 0.7988179462781242), ('max_delta_step', 17), ('max_depth', 2), ('min_child_weight', 1), ('n_estimators', 241), ('reg_alpha', 1), ('reg_lambda', 953), ('scale_pos_weight', 315), ('subsample', 0.9923710598637134)])\n",
      "\n",
      "Model #3\n",
      "Best ROC-AUC: 0.8425\n",
      "Best params: OrderedDict([('colsample_bylevel', 0.8390144719977516), ('colsample_bytree', 0.8844821246070537), ('gamma', 0), ('learning_rate', 0.7988179462781242), ('max_delta_step', 17), ('max_depth', 2), ('min_child_weight', 1), ('n_estimators', 241), ('reg_alpha', 1), ('reg_lambda', 953), ('scale_pos_weight', 315), ('subsample', 0.9923710598637134)])\n",
      "\n",
      "Model #4\n",
      "Best ROC-AUC: 0.8425\n",
      "Best params: OrderedDict([('colsample_bylevel', 0.8390144719977516), ('colsample_bytree', 0.8844821246070537), ('gamma', 0), ('learning_rate', 0.7988179462781242), ('max_delta_step', 17), ('max_depth', 2), ('min_child_weight', 1), ('n_estimators', 241), ('reg_alpha', 1), ('reg_lambda', 953), ('scale_pos_weight', 315), ('subsample', 0.9923710598637134)])\n",
      "\n",
      "Model #5\n",
      "Best ROC-AUC: 0.8427\n",
      "Best params: OrderedDict([('colsample_bylevel', 0.8015579071911014), ('colsample_bytree', 0.44364889457651413), ('gamma', 0), ('learning_rate', 0.2700390206185342), ('max_delta_step', 18), ('max_depth', 7), ('min_child_weight', 2), ('n_estimators', 360), ('reg_alpha', 0), ('reg_lambda', 659), ('scale_pos_weight', 256), ('subsample', 0.8835665823899177)])\n",
      "\n",
      "Model #6\n",
      "Best ROC-AUC: 0.8427\n",
      "Best params: OrderedDict([('colsample_bylevel', 0.8015579071911014), ('colsample_bytree', 0.44364889457651413), ('gamma', 0), ('learning_rate', 0.2700390206185342), ('max_delta_step', 18), ('max_depth', 7), ('min_child_weight', 2), ('n_estimators', 360), ('reg_alpha', 0), ('reg_lambda', 659), ('scale_pos_weight', 256), ('subsample', 0.8835665823899177)])\n",
      "\n",
      "Model #7\n",
      "Best ROC-AUC: 0.8441\n",
      "Best params: OrderedDict([('colsample_bylevel', 0.6209085649172932), ('colsample_bytree', 0.7776107350396038), ('gamma', 0), ('learning_rate', 0.5605967693796124), ('max_delta_step', 12), ('max_depth', 6), ('min_child_weight', 3), ('n_estimators', 269), ('reg_alpha', 1), ('reg_lambda', 634), ('scale_pos_weight', 462), ('subsample', 0.6612742297240571)])\n",
      "\n",
      "Model #8\n",
      "Best ROC-AUC: 0.8441\n",
      "Best params: OrderedDict([('colsample_bylevel', 0.6209085649172932), ('colsample_bytree', 0.7776107350396038), ('gamma', 0), ('learning_rate', 0.5605967693796124), ('max_delta_step', 12), ('max_depth', 6), ('min_child_weight', 3), ('n_estimators', 269), ('reg_alpha', 1), ('reg_lambda', 634), ('scale_pos_weight', 462), ('subsample', 0.6612742297240571)])\n",
      "\n",
      "Model #9\n",
      "Best ROC-AUC: 0.8441\n",
      "Best params: OrderedDict([('colsample_bylevel', 0.6209085649172932), ('colsample_bytree', 0.7776107350396038), ('gamma', 0), ('learning_rate', 0.5605967693796124), ('max_delta_step', 12), ('max_depth', 6), ('min_child_weight', 3), ('n_estimators', 269), ('reg_alpha', 1), ('reg_lambda', 634), ('scale_pos_weight', 462), ('subsample', 0.6612742297240571)])\n",
      "\n",
      "Model #10\n",
      "Best ROC-AUC: 0.8441\n",
      "Best params: OrderedDict([('colsample_bylevel', 0.6209085649172932), ('colsample_bytree', 0.7776107350396038), ('gamma', 0), ('learning_rate', 0.5605967693796124), ('max_delta_step', 12), ('max_depth', 6), ('min_child_weight', 3), ('n_estimators', 269), ('reg_alpha', 1), ('reg_lambda', 634), ('scale_pos_weight', 462), ('subsample', 0.6612742297240571)])\n",
      "\n",
      "Model #11\n",
      "Best ROC-AUC: 0.8441\n",
      "Best params: OrderedDict([('colsample_bylevel', 0.6209085649172932), ('colsample_bytree', 0.7776107350396038), ('gamma', 0), ('learning_rate', 0.5605967693796124), ('max_delta_step', 12), ('max_depth', 6), ('min_child_weight', 3), ('n_estimators', 269), ('reg_alpha', 1), ('reg_lambda', 634), ('scale_pos_weight', 462), ('subsample', 0.6612742297240571)])\n",
      "\n",
      "Model #12\n",
      "Best ROC-AUC: 0.8441\n",
      "Best params: OrderedDict([('colsample_bylevel', 0.6209085649172932), ('colsample_bytree', 0.7776107350396038), ('gamma', 0), ('learning_rate', 0.5605967693796124), ('max_delta_step', 12), ('max_depth', 6), ('min_child_weight', 3), ('n_estimators', 269), ('reg_alpha', 1), ('reg_lambda', 634), ('scale_pos_weight', 462), ('subsample', 0.6612742297240571)])\n",
      "\n",
      "Model #13\n",
      "Best ROC-AUC: 0.8441\n",
      "Best params: OrderedDict([('colsample_bylevel', 0.6209085649172932), ('colsample_bytree', 0.7776107350396038), ('gamma', 0), ('learning_rate', 0.5605967693796124), ('max_delta_step', 12), ('max_depth', 6), ('min_child_weight', 3), ('n_estimators', 269), ('reg_alpha', 1), ('reg_lambda', 634), ('scale_pos_weight', 462), ('subsample', 0.6612742297240571)])\n",
      "\n",
      "Model #14\n",
      "Best ROC-AUC: 0.8441\n",
      "Best params: OrderedDict([('colsample_bylevel', 0.6209085649172932), ('colsample_bytree', 0.7776107350396038), ('gamma', 0), ('learning_rate', 0.5605967693796124), ('max_delta_step', 12), ('max_depth', 6), ('min_child_weight', 3), ('n_estimators', 269), ('reg_alpha', 1), ('reg_lambda', 634), ('scale_pos_weight', 462), ('subsample', 0.6612742297240571)])\n",
      "\n",
      "Model #15\n",
      "Best ROC-AUC: 0.8441\n",
      "Best params: OrderedDict([('colsample_bylevel', 0.6209085649172932), ('colsample_bytree', 0.7776107350396038), ('gamma', 0), ('learning_rate', 0.5605967693796124), ('max_delta_step', 12), ('max_depth', 6), ('min_child_weight', 3), ('n_estimators', 269), ('reg_alpha', 1), ('reg_lambda', 634), ('scale_pos_weight', 462), ('subsample', 0.6612742297240571)])\n",
      "\n",
      "Model #16\n",
      "Best ROC-AUC: 0.8449\n",
      "Best params: OrderedDict([('colsample_bylevel', 0.2707699336992327), ('colsample_bytree', 0.7641868151379), ('gamma', 0), ('learning_rate', 0.19912880884108455), ('max_delta_step', 19), ('max_depth', 10), ('min_child_weight', 0), ('n_estimators', 396), ('reg_alpha', 0), ('reg_lambda', 540), ('scale_pos_weight', 29), ('subsample', 0.6898551324163398)])\n",
      "\n",
      "Model #17\n",
      "Best ROC-AUC: 0.8449\n",
      "Best params: OrderedDict([('colsample_bylevel', 0.2707699336992327), ('colsample_bytree', 0.7641868151379), ('gamma', 0), ('learning_rate', 0.19912880884108455), ('max_delta_step', 19), ('max_depth', 10), ('min_child_weight', 0), ('n_estimators', 396), ('reg_alpha', 0), ('reg_lambda', 540), ('scale_pos_weight', 29), ('subsample', 0.6898551324163398)])\n",
      "\n",
      "Model #18\n",
      "Best ROC-AUC: 0.8449\n",
      "Best params: OrderedDict([('colsample_bylevel', 0.2707699336992327), ('colsample_bytree', 0.7641868151379), ('gamma', 0), ('learning_rate', 0.19912880884108455), ('max_delta_step', 19), ('max_depth', 10), ('min_child_weight', 0), ('n_estimators', 396), ('reg_alpha', 0), ('reg_lambda', 540), ('scale_pos_weight', 29), ('subsample', 0.6898551324163398)])\n",
      "\n",
      "Model #19\n",
      "Best ROC-AUC: 0.8449\n",
      "Best params: OrderedDict([('colsample_bylevel', 0.2707699336992327), ('colsample_bytree', 0.7641868151379), ('gamma', 0), ('learning_rate', 0.19912880884108455), ('max_delta_step', 19), ('max_depth', 10), ('min_child_weight', 0), ('n_estimators', 396), ('reg_alpha', 0), ('reg_lambda', 540), ('scale_pos_weight', 29), ('subsample', 0.6898551324163398)])\n",
      "\n",
      "Model #20\n",
      "Best ROC-AUC: 0.8449\n",
      "Best params: OrderedDict([('colsample_bylevel', 0.2707699336992327), ('colsample_bytree', 0.7641868151379), ('gamma', 0), ('learning_rate', 0.19912880884108455), ('max_delta_step', 19), ('max_depth', 10), ('min_child_weight', 0), ('n_estimators', 396), ('reg_alpha', 0), ('reg_lambda', 540), ('scale_pos_weight', 29), ('subsample', 0.6898551324163398)])\n",
      "\n",
      "[19:36:34] WARNING: ../src/learner.cc:516: \n",
      "Parameters: { silent } might not be used.\n",
      "\n",
      "  This may not be accurate due to some parameters are only used in language bindings but\n",
      "  passed down to XGBoost core.  Or some parameters are not used but slip through this\n",
      "  verification. Please open an issue if you find above cases.\n",
      "\n",
      "\n"
     ]
    }
   ],
   "source": [
    "# Treinamento do modelo\n",
    "result = bayes_cv_tuner.fit(X_treino, y_treino, callback=status_print)"
   ]
  },
  {
   "cell_type": "code",
   "execution_count": 116,
   "metadata": {},
   "outputs": [
    {
     "data": {
      "text/plain": [
       "OrderedDict([('colsample_bylevel', 0.2707699336992327),\n",
       "             ('colsample_bytree', 0.7641868151379),\n",
       "             ('gamma', 0),\n",
       "             ('learning_rate', 0.19912880884108455),\n",
       "             ('max_delta_step', 19),\n",
       "             ('max_depth', 10),\n",
       "             ('min_child_weight', 0),\n",
       "             ('n_estimators', 396),\n",
       "             ('reg_alpha', 0),\n",
       "             ('reg_lambda', 540),\n",
       "             ('scale_pos_weight', 29),\n",
       "             ('subsample', 0.6898551324163398)])"
      ]
     },
     "execution_count": 116,
     "metadata": {},
     "output_type": "execute_result"
    }
   ],
   "source": [
    "result.best_params_"
   ]
  },
  {
   "cell_type": "code",
   "execution_count": 117,
   "metadata": {},
   "outputs": [
    {
     "name": "stdout",
     "output_type": "stream",
     "text": [
      "Acurácia: 78.46%\n",
      "Sensibilidade : 1.0\n",
      "Especificidade : 0.681719496309162\n",
      "\n",
      "\n",
      "              precision    recall  f1-score   support\n",
      "\n",
      "           0       1.00      0.68      0.81      2303\n",
      "           1       0.60      1.00      0.75      1100\n",
      "\n",
      "    accuracy                           0.78      3403\n",
      "   macro avg       0.80      0.84      0.78      3403\n",
      "weighted avg       0.87      0.78      0.79      3403\n",
      "\n"
     ]
    },
    {
     "data": {
      "image/png": "[encoded data removed]",
      "text/plain": [
       "<Figure size 432x432 with 2 Axes>"
      ]
     },
     "metadata": {},
     "output_type": "display_data"
    }
   ],
   "source": [
    "modelo_xgb_v5 = xgb.XGBClassifier(**result.best_params_)\n",
    "\n",
    "# Treinando o modelo\n",
    "modelo_xgb_v5.fit(X_treino, y_treino)\n",
    "\n",
    "# Fazendo previsões\n",
    "xgb_y_pred = modelo_xgb_v5.predict(X_teste)\n",
    "previsoes = [round(value) for value in xgb_y_pred]\n",
    "\n",
    "# Avaliando as previsões\n",
    "xgb_score_v5 = accuracy_score(y_teste, previsoes)\n",
    "print(\"Acurácia: %.2f%%\" % (xgb_score_v5 * 100.0))\n",
    "\n",
    "# Cria a matriz de confusão\n",
    "conf_matriz_xgb = confusion_matrix(y_teste, xgb_y_pred)\n",
    "    \n",
    "# Calcula especificidade e sensibilidade\n",
    "speci_xgb = conf_matriz_xgb[0,0] / (conf_matriz_xgb[0,0] + conf_matriz_xgb[0,1])\n",
    "sensi_xgb = conf_matriz_xgb[1,1] / (conf_matriz_xgb[1,0] + conf_matriz_xgb[1,1])\n",
    "\n",
    "# Print\n",
    "print('Sensibilidade :', sensi_xgb)\n",
    "print('Especificidade :', speci_xgb)\n",
    "print('\\n')\n",
    "\n",
    "# Matriz de Confusão gráfica\n",
    "sns.set(rc={'figure.figsize':(6, 6)})\n",
    "sns.heatmap(conf_matriz_xgb, \n",
    "            annot = True, \n",
    "            fmt = \".0f\", \n",
    "            linewidths = .5, \n",
    "            square = True, \n",
    "            cmap = 'RdBu_r')\n",
    "\n",
    "# Labels e Títulos\n",
    "plt.ylabel('Label Verdadeiro')\n",
    "plt.xlabel('Label Previsto')\n",
    "plt.title('Acurácia: {:.2f}'.format(xgb_score_v5), size = 15)\n",
    "\n",
    "# Relatório de Classificação\n",
    "print(classification_report(y_teste, xgb_y_pred))"
   ]
  },
  {
   "cell_type": "markdown",
   "metadata": {},
   "source": [
    "# Parte 05. Realizando novas previsões"
   ]
  },
  {
   "cell_type": "code",
   "execution_count": 118,
   "metadata": {},
   "outputs": [
    {
     "name": "stdout",
     "output_type": "stream",
     "text": [
      "Quantidade de registros e colunas:  (984, 13)\n"
     ]
    },
    {
     "data": {
      "text/html": [
       "<div>\n",
       "<style scoped>\n",
       "    .dataframe tbody tr th:only-of-type {\n",
       "        vertical-align: middle;\n",
       "    }\n",
       "\n",
       "    .dataframe tbody tr th {\n",
       "        vertical-align: top;\n",
       "    }\n",
       "\n",
       "    .dataframe thead th {\n",
       "        text-align: right;\n",
       "    }\n",
       "</style>\n",
       "<table border=\"1\" class=\"dataframe\">\n",
       "  <thead>\n",
       "    <tr style=\"text-align: right;\">\n",
       "      <th></th>\n",
       "      <th>Original_473</th>\n",
       "      <th>Original_269</th>\n",
       "      <th>Zero</th>\n",
       "      <th>Maçã-Verde</th>\n",
       "      <th>Tangerina</th>\n",
       "      <th>Citrus</th>\n",
       "      <th>Açaí-Guaraná</th>\n",
       "      <th>Pêssego</th>\n",
       "    </tr>\n",
       "  </thead>\n",
       "  <tbody>\n",
       "    <tr>\n",
       "      <th>0</th>\n",
       "      <td>22</td>\n",
       "      <td>65</td>\n",
       "      <td>22</td>\n",
       "      <td>14</td>\n",
       "      <td>3</td>\n",
       "      <td>26</td>\n",
       "      <td>43</td>\n",
       "      <td>18</td>\n",
       "    </tr>\n",
       "    <tr>\n",
       "      <th>1</th>\n",
       "      <td>11</td>\n",
       "      <td>56</td>\n",
       "      <td>16</td>\n",
       "      <td>14</td>\n",
       "      <td>43</td>\n",
       "      <td>20</td>\n",
       "      <td>37</td>\n",
       "      <td>15</td>\n",
       "    </tr>\n",
       "    <tr>\n",
       "      <th>2</th>\n",
       "      <td>86</td>\n",
       "      <td>51</td>\n",
       "      <td>8</td>\n",
       "      <td>11</td>\n",
       "      <td>41</td>\n",
       "      <td>20</td>\n",
       "      <td>35</td>\n",
       "      <td>12</td>\n",
       "    </tr>\n",
       "    <tr>\n",
       "      <th>3</th>\n",
       "      <td>76</td>\n",
       "      <td>47</td>\n",
       "      <td>65</td>\n",
       "      <td>11</td>\n",
       "      <td>37</td>\n",
       "      <td>14</td>\n",
       "      <td>32</td>\n",
       "      <td>10</td>\n",
       "    </tr>\n",
       "    <tr>\n",
       "      <th>4</th>\n",
       "      <td>68</td>\n",
       "      <td>42</td>\n",
       "      <td>60</td>\n",
       "      <td>6</td>\n",
       "      <td>35</td>\n",
       "      <td>13</td>\n",
       "      <td>26</td>\n",
       "      <td>5</td>\n",
       "    </tr>\n",
       "  </tbody>\n",
       "</table>\n",
       "</div>"
      ],
      "text/plain": [
       "   Original_473  Original_269  Zero  Maçã-Verde  Tangerina  Citrus  \\\n",
       "0            22            65    22          14          3      26   \n",
       "1            11            56    16          14         43      20   \n",
       "2            86            51     8          11         41      20   \n",
       "3            76            47    65          11         37      14   \n",
       "4            68            42    60           6         35      13   \n",
       "\n",
       "   Açaí-Guaraná  Pêssego  \n",
       "0            43       18  \n",
       "1            37       15  \n",
       "2            35       12  \n",
       "3            32       10  \n",
       "4            26        5  "
      ]
     },
     "execution_count": 118,
     "metadata": {},
     "output_type": "execute_result"
    }
   ],
   "source": [
    "# Carregando o dataset de testes \n",
    "teste  = pd.read_csv(r'to_be_scored.csv')\n",
    "print('Quantidade de registros e colunas: ',teste.shape)\n",
    "\n",
    "# Removendo colunas que não serão utilizadas no treinamento\n",
    "teste = teste.drop(['Tempo','Estação','Movimentação','LAT','LONG'], axis = 1)\n",
    "\n",
    "# Visualizando os primeiros registros\n",
    "teste.head()"
   ]
  },
  {
   "cell_type": "code",
   "execution_count": 119,
   "metadata": {},
   "outputs": [],
   "source": [
    "# Padronizando os dados (0 para a média, 1 para o desvio padrão)\n",
    "teste_scaler = StandardScaler().fit_transform(teste)\n",
    "\n",
    "# Realizando previsoes com dados de teste(usando modelo NAO BALANCEADO)\n",
    "y_pred_test = modelo_xgb_v5.predict(teste_scaler)\n"
   ]
  },
  {
   "cell_type": "code",
   "execution_count": 120,
   "metadata": {},
   "outputs": [
    {
     "data": {
      "text/html": [
       "<div>\n",
       "<style scoped>\n",
       "    .dataframe tbody tr th:only-of-type {\n",
       "        vertical-align: middle;\n",
       "    }\n",
       "\n",
       "    .dataframe tbody tr th {\n",
       "        vertical-align: top;\n",
       "    }\n",
       "\n",
       "    .dataframe thead th {\n",
       "        text-align: right;\n",
       "    }\n",
       "</style>\n",
       "<table border=\"1\" class=\"dataframe\">\n",
       "  <thead>\n",
       "    <tr style=\"text-align: right;\">\n",
       "      <th></th>\n",
       "      <th>Original_473</th>\n",
       "      <th>Original_269</th>\n",
       "      <th>Zero</th>\n",
       "      <th>Maçã-Verde</th>\n",
       "      <th>Tangerina</th>\n",
       "      <th>Citrus</th>\n",
       "      <th>Açaí-Guaraná</th>\n",
       "      <th>Pêssego</th>\n",
       "      <th>TARGET</th>\n",
       "    </tr>\n",
       "  </thead>\n",
       "  <tbody>\n",
       "    <tr>\n",
       "      <th>979</th>\n",
       "      <td>34</td>\n",
       "      <td>65</td>\n",
       "      <td>28</td>\n",
       "      <td>17</td>\n",
       "      <td>33</td>\n",
       "      <td>27</td>\n",
       "      <td>6</td>\n",
       "      <td>2</td>\n",
       "      <td>REABASTECER</td>\n",
       "    </tr>\n",
       "    <tr>\n",
       "      <th>980</th>\n",
       "      <td>21</td>\n",
       "      <td>60</td>\n",
       "      <td>18</td>\n",
       "      <td>15</td>\n",
       "      <td>27</td>\n",
       "      <td>22</td>\n",
       "      <td>43</td>\n",
       "      <td>43</td>\n",
       "      <td>NORMAL</td>\n",
       "    </tr>\n",
       "    <tr>\n",
       "      <th>981</th>\n",
       "      <td>9</td>\n",
       "      <td>56</td>\n",
       "      <td>13</td>\n",
       "      <td>14</td>\n",
       "      <td>21</td>\n",
       "      <td>17</td>\n",
       "      <td>37</td>\n",
       "      <td>37</td>\n",
       "      <td>REABASTECER</td>\n",
       "    </tr>\n",
       "    <tr>\n",
       "      <th>982</th>\n",
       "      <td>86</td>\n",
       "      <td>49</td>\n",
       "      <td>7</td>\n",
       "      <td>14</td>\n",
       "      <td>17</td>\n",
       "      <td>12</td>\n",
       "      <td>33</td>\n",
       "      <td>33</td>\n",
       "      <td>REABASTECER</td>\n",
       "    </tr>\n",
       "    <tr>\n",
       "      <th>983</th>\n",
       "      <td>74</td>\n",
       "      <td>41</td>\n",
       "      <td>65</td>\n",
       "      <td>8</td>\n",
       "      <td>14</td>\n",
       "      <td>7</td>\n",
       "      <td>27</td>\n",
       "      <td>27</td>\n",
       "      <td>NORMAL</td>\n",
       "    </tr>\n",
       "  </tbody>\n",
       "</table>\n",
       "</div>"
      ],
      "text/plain": [
       "     Original_473  Original_269  Zero  Maçã-Verde  Tangerina  Citrus  \\\n",
       "979            34            65    28          17         33      27   \n",
       "980            21            60    18          15         27      22   \n",
       "981             9            56    13          14         21      17   \n",
       "982            86            49     7          14         17      12   \n",
       "983            74            41    65           8         14       7   \n",
       "\n",
       "     Açaí-Guaraná  Pêssego       TARGET  \n",
       "979             6        2  REABASTECER  \n",
       "980            43       43       NORMAL  \n",
       "981            37       37  REABASTECER  \n",
       "982            33       33  REABASTECER  \n",
       "983            27       27       NORMAL  "
      ]
     },
     "execution_count": 120,
     "metadata": {},
     "output_type": "execute_result"
    }
   ],
   "source": [
    "# Salvando na coluna target\n",
    "teste['TARGET'] = y_pred_test\n",
    "teste['TARGET'] = np.where(teste['TARGET'] == 0, 'NORMAL', 'REABASTECER')\n",
    "\n",
    "# Visualizando os ultimos registros\n",
    "teste.tail()"
   ]
  },
  {
   "cell_type": "code",
   "execution_count": 121,
   "metadata": {},
   "outputs": [
    {
     "data": {
      "text/html": [
       "<div>\n",
       "<style scoped>\n",
       "    .dataframe tbody tr th:only-of-type {\n",
       "        vertical-align: middle;\n",
       "    }\n",
       "\n",
       "    .dataframe tbody tr th {\n",
       "        vertical-align: top;\n",
       "    }\n",
       "\n",
       "    .dataframe thead th {\n",
       "        text-align: right;\n",
       "    }\n",
       "</style>\n",
       "<table border=\"1\" class=\"dataframe\">\n",
       "  <thead>\n",
       "    <tr style=\"text-align: right;\">\n",
       "      <th></th>\n",
       "      <th>TARGET</th>\n",
       "      <th>%</th>\n",
       "    </tr>\n",
       "  </thead>\n",
       "  <tbody>\n",
       "    <tr>\n",
       "      <th>REABASTECER</th>\n",
       "      <td>532</td>\n",
       "      <td>54.065</td>\n",
       "    </tr>\n",
       "    <tr>\n",
       "      <th>NORMAL</th>\n",
       "      <td>452</td>\n",
       "      <td>45.935</td>\n",
       "    </tr>\n",
       "  </tbody>\n",
       "</table>\n",
       "</div>"
      ],
      "text/plain": [
       "             TARGET       %\n",
       "REABASTECER     532  54.065\n",
       "NORMAL          452  45.935"
      ]
     },
     "execution_count": 121,
     "metadata": {},
     "output_type": "execute_result"
    },
    {
     "data": {
      "image/png": "[encoded data removed]",
      "text/plain": [
       "<Figure size 432x432 with 1 Axes>"
      ]
     },
     "metadata": {},
     "output_type": "display_data"
    }
   ],
   "source": [
    "# Visualizando a distribuição das classes (variavel TARGET)\n",
    "pd.value_counts(teste['TARGET']).plot.bar()\n",
    "plt.title('TARGET histogram')\n",
    "plt.xlabel('TARGET')\n",
    "plt.ylabel('Frequency')\n",
    "\n",
    "# Visualizando um df com quantidade e percentual da variavel TARGET\n",
    "tmp = pd.DataFrame(teste['TARGET'].value_counts())\n",
    "tmp['%'] = round(100*tmp['TARGET']/tmp['TARGET'].sum(),3)\n",
    "tmp"
   ]
  },
  {
   "cell_type": "code",
   "execution_count": 122,
   "metadata": {},
   "outputs": [],
   "source": [
    "# Gravando resultado em csv\n",
    "teste.to_csv('results_xgb_v2.csv',index=False)"
   ]
  },
  {
   "cell_type": "code",
   "execution_count": null,
   "metadata": {},
   "outputs": [],
   "source": []
  },
  {
   "cell_type": "code",
   "execution_count": null,
   "metadata": {},
   "outputs": [],
   "source": []
  }
 ],
 "metadata": {
  "kernelspec": {
   "display_name": "Python 3",
   "language": "python",
   "name": "python3"
  },
  "language_info": {
   "codemirror_mode": {
    "name": "ipython",
    "version": 3
   },
   "file_extension": ".py",
   "mimetype": "text/x-python",
   "name": "python",
   "nbconvert_exporter": "python",
   "pygments_lexer": "ipython3",
   "version": "3.7.8"
  }
 },
 "nbformat": 4,
 "nbformat_minor": 1
}
