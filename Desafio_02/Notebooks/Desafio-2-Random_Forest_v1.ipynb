{
 "cells": [
  {
   "cell_type": "markdown",
   "metadata": {},
   "source": [
    "# MARATONA BEHIND THE CODE 2020\n",
    "\n",
    "## DESAFIO 2: PARTE 1\n",
    "- Autor: Rodrigo Lima"
   ]
  },
  {
   "cell_type": "markdown",
   "metadata": {},
   "source": [
    "# Parte 1. Importando os pacotes"
   ]
  },
  {
   "cell_type": "code",
   "execution_count": 28,
   "metadata": {},
   "outputs": [],
   "source": [
    "import numpy as np\n",
    "import pandas as pd\n",
    "\n",
    "import matplotlib as m\n",
    "import matplotlib.pyplot as plt\n",
    "%matplotlib inline\n",
    "import seaborn as sns\n",
    "\n",
    "import imblearn\n",
    "from imblearn.over_sampling import SMOTE\n",
    "\n",
    "import sklearn\n",
    "from sklearn.model_selection import StratifiedShuffleSplit\n",
    "from sklearn.preprocessing import StandardScaler, MinMaxScaler\n",
    "from sklearn.ensemble import RandomForestClassifier\n",
    "from sklearn.model_selection import KFold, cross_val_score, cross_val_predict\n",
    "from sklearn.metrics import classification_report, confusion_matrix\n",
    "\n",
    "import warnings\n",
    "warnings.filterwarnings(\"ignore\")\n",
    "\n",
    "# Imports para formatação dos gráficos\n",
    "plt.style.use('fivethirtyeight')\n",
    "m.rcParams['axes.labelsize'] = 14\n",
    "m.rcParams['xtick.labelsize'] = 12\n",
    "m.rcParams['ytick.labelsize'] = 12\n",
    "m.rcParams['text.color'] = 'k'\n",
    "from matplotlib.pylab import rcParams \n",
    "rcParams['figure.figsize'] = 14,6"
   ]
  },
  {
   "cell_type": "markdown",
   "metadata": {},
   "source": [
    "# Parte 2. Carregando os Dados"
   ]
  },
  {
   "cell_type": "code",
   "execution_count": 2,
   "metadata": {},
   "outputs": [],
   "source": [
    "# Carregando os dados\n",
    "dados = pd.read_csv('../data/dataset_desafio_2.csv')"
   ]
  },
  {
   "cell_type": "markdown",
   "metadata": {},
   "source": [
    "# Parte 3. Feature Engineering"
   ]
  },
  {
   "cell_type": "code",
   "execution_count": 3,
   "metadata": {},
   "outputs": [],
   "source": [
    "# Removendo colunas unicas\n",
    "dados.drop(['MATRICULA', 'NOME', 'H_AULA_PRES'], axis = 1, inplace = True)\n",
    "\n",
    "# Preencher missing com zero\n",
    "dados.fillna(0, inplace=True)\n",
    "\n",
    "# Categorizar a coluna target\n",
    "dados['PERFIL'] = dados['PERFIL'].astype(\"category\").cat.codes\n",
    "\n",
    "# Criar duas colunas: soma e media das notas\n",
    "cols_notas = ['NOTA_DE','NOTA_EM','NOTA_MF','NOTA_GO']\n",
    "dados['SOMA_NOTAS']  = dados[cols_notas].sum(axis=1)\n",
    "dados['MEDIA_NOTAS'] = dados[cols_notas].mean(axis=1)"
   ]
  },
  {
   "cell_type": "markdown",
   "metadata": {},
   "source": [
    "# Parte 4. Machine Learning\n",
    "> Utilizarei o algoritmo Random Forest"
   ]
  },
  {
   "cell_type": "markdown",
   "metadata": {},
   "source": [
    "### Split dos dados em Treino e Teste"
   ]
  },
  {
   "cell_type": "code",
   "execution_count": 7,
   "metadata": {},
   "outputs": [
    {
     "name": "stdout",
     "output_type": "stream",
     "text": [
      "14000 train + 6000 test = 20000\n"
     ]
    }
   ],
   "source": [
    "# Criando a instância:\n",
    "split = StratifiedShuffleSplit(n_splits=1, test_size=0.3, random_state=337)\n",
    "\n",
    "# Criando os datasets de treino e teste utilizando amostragem estratificada:\n",
    "for train_index, test_index in split.split(dados, dados['PERFIL']):\n",
    "    strat_train_set = dados.loc[train_index]\n",
    "    strat_test_set = dados.loc[test_index]\n",
    "    \n",
    "# Reset no índice do dataset de treino:\n",
    "strat_train_set.reset_index(drop=True, inplace=True)\n",
    "\n",
    "# Reset no índice do dataset de teste:\n",
    "strat_test_set.reset_index(drop=True, inplace=True)\n",
    "\n",
    "# Mostrando o resultado (número de observações em cada dataset):\n",
    "print(len(strat_train_set), \"train +\", len(strat_test_set), \"test\", \"=\", (len(strat_train_set) + len(strat_test_set)))\n",
    "\n",
    "# Definição das colunas que serão features (variáveis preditoras):\n",
    "features = list(dados.columns) # cria uma lista com todas as variáveis do dataset.\n",
    "features.remove('PERFIL') # remove a variável target.\n",
    "\n",
    "# Definição da variável-alvo:\n",
    "target = ['PERFIL']\n",
    "\n",
    "# Criação dos dados de treino:\n",
    "X_train = strat_train_set[features]\n",
    "y_train = strat_train_set[target]\n",
    "\n",
    "# Criação dos dados de teste:\n",
    "X_test = strat_test_set[features]\n",
    "y_test = strat_test_set[target]"
   ]
  },
  {
   "cell_type": "markdown",
   "metadata": {},
   "source": [
    "### Aplicando balanceamento nos dados de treino"
   ]
  },
  {
   "cell_type": "code",
   "execution_count": 10,
   "metadata": {},
   "outputs": [],
   "source": [
    "# Criamos o objeto SMOTE\n",
    "sm = SMOTE(random_state = 337)\n",
    "\n",
    "# Treinamos o balanceador SMOTE\n",
    "X_bal, Y_bal = sm.fit_sample(X_train, y_train)\n",
    "\n",
    "# Aplicando a mesma escala nos dados\n",
    "X_bal = MinMaxScaler().fit_transform(X_bal)\n",
    "\n",
    "# Padronizando os dados (0 para a média, 1 para o desvio padrão)\n",
    "X_bal = StandardScaler().fit_transform(X_bal)\n"
   ]
  },
  {
   "cell_type": "markdown",
   "metadata": {},
   "source": [
    "### Realizando o treinamento do modelo\n",
    "> Vou utilizar a técnica de Cross-Validation"
   ]
  },
  {
   "cell_type": "code",
   "execution_count": 17,
   "metadata": {},
   "outputs": [
    {
     "name": "stdout",
     "output_type": "stream",
     "text": [
      "RF: 0.868917 (0.047991)\n"
     ]
    }
   ],
   "source": [
    "# Definindo os valores para o número de folds\n",
    "num_folds = 15\n",
    "seed = 337\n",
    "\n",
    "# Preparando a lista de modelos\n",
    "model_rf = RandomForestClassifier()\n",
    "\n",
    "kfold = KFold(n_splits = num_folds, random_state = seed)\n",
    "cv_results = cross_val_score(model_rf, X_bal, Y_bal, cv = kfold, scoring = 'accuracy')\n",
    "\n",
    "msg = \"RF: %f (%f)\" % (cv_results.mean(), cv_results.std())\n",
    "print(msg)"
   ]
  },
  {
   "cell_type": "markdown",
   "metadata": {},
   "source": [
    "### Realizando a validação do modelo com dados de teste"
   ]
  },
  {
   "cell_type": "code",
   "execution_count": 21,
   "metadata": {},
   "outputs": [
    {
     "name": "stdout",
     "output_type": "stream",
     "text": [
      "              precision    recall  f1-score   support\n",
      "\n",
      "           0       0.88      0.76      0.81      2100\n",
      "           1       0.81      0.90      0.85      2469\n",
      "           2       0.66      0.64      0.65       201\n",
      "           3       0.77      0.94      0.85       959\n",
      "           4       0.31      0.09      0.14       271\n",
      "\n",
      "    accuracy                           0.81      6000\n",
      "   macro avg       0.69      0.66      0.66      6000\n",
      "weighted avg       0.80      0.81      0.80      6000\n",
      "\n"
     ]
    }
   ],
   "source": [
    "# Aplicando a mesma escala nos dados\n",
    "X_test_bal = MinMaxScaler().fit_transform(X_test)\n",
    "\n",
    "# Padronizando os dados (0 para a média, 1 para o desvio padrão)\n",
    "X_test_bal = StandardScaler().fit_transform(X_test_bal)\n",
    "\n",
    "# Realizando as previsões\n",
    "rf_y_pred = cross_val_predict(model_rf, X_test_bal, y_test, cv=num_folds)\n",
    "\n",
    "# Relatório de Classificação\n",
    "print(classification_report(y_test, rf_y_pred))"
   ]
  },
  {
   "cell_type": "markdown",
   "metadata": {},
   "source": [
    "### Visualizando o desempenho do modelo"
   ]
  },
  {
   "cell_type": "code",
   "execution_count": 29,
   "metadata": {},
   "outputs": [
    {
     "data": {
      "text/plain": [
       "Text(0.5, 1.0, 'Confusion Matrix')"
      ]
     },
     "execution_count": 29,
     "metadata": {},
     "output_type": "execute_result"
    },
    {
     "data": {
      "image/png": "[encoded data removed]",
      "text/plain": [
       "<Figure size 1008x432 with 2 Axes>"
      ]
     },
     "metadata": {},
     "output_type": "display_data"
    }
   ],
   "source": [
    "# Matriz de Confusão\n",
    "sns.heatmap(confusion_matrix(y_test, rf_y_pred), \n",
    "            annot = True, \n",
    "            fmt = \".3f\", \n",
    "            linewidths = .5, \n",
    "            square = True, \n",
    "            cmap = 'RdBu_r')\n",
    "\n",
    "# Labels e Títulos\n",
    "plt.ylabel('Label Verdadeiro')\n",
    "plt.xlabel('Label Previsto')\n",
    "plt.title(\"Confusion Matrix\", size = 15)"
   ]
  }
 ],
 "metadata": {
  "kernelspec": {
   "display_name": "Python 3",
   "language": "python",
   "name": "python3"
  },
  "language_info": {
   "codemirror_mode": {
    "name": "ipython",
    "version": 3
   },
   "file_extension": ".py",
   "mimetype": "text/x-python",
   "name": "python",
   "nbconvert_exporter": "python",
   "pygments_lexer": "ipython3",
   "version": "3.7.4"
  }
 },
 "nbformat": 4,
 "nbformat_minor": 1
}
